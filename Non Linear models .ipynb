{
 "cells": [
  {
   "cell_type": "markdown",
   "id": "bc300646",
   "metadata": {},
   "source": [
    "We have a supervised machine learning problem where we have list of tweets of airlines we will do a sentiment analysis using non linear models"
   ]
  },
  {
   "cell_type": "code",
   "execution_count": 1,
   "id": "676ba614",
   "metadata": {},
   "outputs": [
    {
     "data": {
      "text/plain": [
       "'C:\\\\Users\\\\Deepu\\\\Documents\\\\machine_learning'"
      ]
     },
     "execution_count": 1,
     "metadata": {},
     "output_type": "execute_result"
    }
   ],
   "source": [
    "pwd"
   ]
  },
  {
   "cell_type": "code",
   "execution_count": 2,
   "id": "67a453dc",
   "metadata": {},
   "outputs": [
    {
     "name": "stdout",
     "output_type": "stream",
     "text": [
      "C:\\Users\\Deepu\\Downloads\n"
     ]
    }
   ],
   "source": [
    "cd C:\\\\Users\\\\Deepu\\\\Downloads"
   ]
  },
  {
   "cell_type": "code",
   "execution_count": 3,
   "id": "74fdd60f",
   "metadata": {},
   "outputs": [
    {
     "name": "stderr",
     "output_type": "stream",
     "text": [
      "C:\\ProgramData\\Anaconda3\\lib\\site-packages\\scipy\\__init__.py:146: UserWarning: A NumPy version >=1.16.5 and <1.23.0 is required for this version of SciPy (detected version 1.26.1\n",
      "  warnings.warn(f\"A NumPy version >={np_minversion} and <{np_maxversion}\"\n"
     ]
    }
   ],
   "source": [
    "import pandas as pd\n",
    "import numpy as np\n",
    "import matplotlib.pyplot as plt\n",
    "import seaborn as sns\n"
   ]
  },
  {
   "cell_type": "code",
   "execution_count": 4,
   "id": "6af60724",
   "metadata": {},
   "outputs": [],
   "source": [
    "df = pd.read_csv('tweets.csv')"
   ]
  },
  {
   "cell_type": "code",
   "execution_count": 5,
   "id": "d913bf7a",
   "metadata": {},
   "outputs": [
    {
     "data": {
      "text/html": [
       "<div>\n",
       "<style scoped>\n",
       "    .dataframe tbody tr th:only-of-type {\n",
       "        vertical-align: middle;\n",
       "    }\n",
       "\n",
       "    .dataframe tbody tr th {\n",
       "        vertical-align: top;\n",
       "    }\n",
       "\n",
       "    .dataframe thead th {\n",
       "        text-align: right;\n",
       "    }\n",
       "</style>\n",
       "<table border=\"1\" class=\"dataframe\">\n",
       "  <thead>\n",
       "    <tr style=\"text-align: right;\">\n",
       "      <th></th>\n",
       "      <th>tweet_id</th>\n",
       "      <th>airline_sentiment</th>\n",
       "      <th>airline_sentiment_confidence</th>\n",
       "      <th>negativereason</th>\n",
       "      <th>negativereason_confidence</th>\n",
       "      <th>airline</th>\n",
       "      <th>airline_sentiment_gold</th>\n",
       "      <th>name</th>\n",
       "      <th>negativereason_gold</th>\n",
       "      <th>retweet_count</th>\n",
       "      <th>text</th>\n",
       "      <th>tweet_coord</th>\n",
       "      <th>tweet_created</th>\n",
       "      <th>tweet_location</th>\n",
       "      <th>user_timezone</th>\n",
       "    </tr>\n",
       "  </thead>\n",
       "  <tbody>\n",
       "    <tr>\n",
       "      <th>0</th>\n",
       "      <td>570306133677760513</td>\n",
       "      <td>neutral</td>\n",
       "      <td>1.0000</td>\n",
       "      <td>NaN</td>\n",
       "      <td>NaN</td>\n",
       "      <td>Virgin America</td>\n",
       "      <td>NaN</td>\n",
       "      <td>cairdin</td>\n",
       "      <td>NaN</td>\n",
       "      <td>0</td>\n",
       "      <td>@VirginAmerica What @dhepburn said.</td>\n",
       "      <td>NaN</td>\n",
       "      <td>2015-02-24 11:35:52 -0800</td>\n",
       "      <td>NaN</td>\n",
       "      <td>Eastern Time (US &amp; Canada)</td>\n",
       "    </tr>\n",
       "    <tr>\n",
       "      <th>1</th>\n",
       "      <td>570301130888122368</td>\n",
       "      <td>positive</td>\n",
       "      <td>0.3486</td>\n",
       "      <td>NaN</td>\n",
       "      <td>0.0000</td>\n",
       "      <td>Virgin America</td>\n",
       "      <td>NaN</td>\n",
       "      <td>jnardino</td>\n",
       "      <td>NaN</td>\n",
       "      <td>0</td>\n",
       "      <td>@VirginAmerica plus you've added commercials t...</td>\n",
       "      <td>NaN</td>\n",
       "      <td>2015-02-24 11:15:59 -0800</td>\n",
       "      <td>NaN</td>\n",
       "      <td>Pacific Time (US &amp; Canada)</td>\n",
       "    </tr>\n",
       "    <tr>\n",
       "      <th>2</th>\n",
       "      <td>570301083672813571</td>\n",
       "      <td>neutral</td>\n",
       "      <td>0.6837</td>\n",
       "      <td>NaN</td>\n",
       "      <td>NaN</td>\n",
       "      <td>Virgin America</td>\n",
       "      <td>NaN</td>\n",
       "      <td>yvonnalynn</td>\n",
       "      <td>NaN</td>\n",
       "      <td>0</td>\n",
       "      <td>@VirginAmerica I didn't today... Must mean I n...</td>\n",
       "      <td>NaN</td>\n",
       "      <td>2015-02-24 11:15:48 -0800</td>\n",
       "      <td>Lets Play</td>\n",
       "      <td>Central Time (US &amp; Canada)</td>\n",
       "    </tr>\n",
       "    <tr>\n",
       "      <th>3</th>\n",
       "      <td>570301031407624196</td>\n",
       "      <td>negative</td>\n",
       "      <td>1.0000</td>\n",
       "      <td>Bad Flight</td>\n",
       "      <td>0.7033</td>\n",
       "      <td>Virgin America</td>\n",
       "      <td>NaN</td>\n",
       "      <td>jnardino</td>\n",
       "      <td>NaN</td>\n",
       "      <td>0</td>\n",
       "      <td>@VirginAmerica it's really aggressive to blast...</td>\n",
       "      <td>NaN</td>\n",
       "      <td>2015-02-24 11:15:36 -0800</td>\n",
       "      <td>NaN</td>\n",
       "      <td>Pacific Time (US &amp; Canada)</td>\n",
       "    </tr>\n",
       "    <tr>\n",
       "      <th>4</th>\n",
       "      <td>570300817074462722</td>\n",
       "      <td>negative</td>\n",
       "      <td>1.0000</td>\n",
       "      <td>Can't Tell</td>\n",
       "      <td>1.0000</td>\n",
       "      <td>Virgin America</td>\n",
       "      <td>NaN</td>\n",
       "      <td>jnardino</td>\n",
       "      <td>NaN</td>\n",
       "      <td>0</td>\n",
       "      <td>@VirginAmerica and it's a really big bad thing...</td>\n",
       "      <td>NaN</td>\n",
       "      <td>2015-02-24 11:14:45 -0800</td>\n",
       "      <td>NaN</td>\n",
       "      <td>Pacific Time (US &amp; Canada)</td>\n",
       "    </tr>\n",
       "  </tbody>\n",
       "</table>\n",
       "</div>"
      ],
      "text/plain": [
       "             tweet_id airline_sentiment  airline_sentiment_confidence  \\\n",
       "0  570306133677760513           neutral                        1.0000   \n",
       "1  570301130888122368          positive                        0.3486   \n",
       "2  570301083672813571           neutral                        0.6837   \n",
       "3  570301031407624196          negative                        1.0000   \n",
       "4  570300817074462722          negative                        1.0000   \n",
       "\n",
       "  negativereason  negativereason_confidence         airline  \\\n",
       "0            NaN                        NaN  Virgin America   \n",
       "1            NaN                     0.0000  Virgin America   \n",
       "2            NaN                        NaN  Virgin America   \n",
       "3     Bad Flight                     0.7033  Virgin America   \n",
       "4     Can't Tell                     1.0000  Virgin America   \n",
       "\n",
       "  airline_sentiment_gold        name negativereason_gold  retweet_count  \\\n",
       "0                    NaN     cairdin                 NaN              0   \n",
       "1                    NaN    jnardino                 NaN              0   \n",
       "2                    NaN  yvonnalynn                 NaN              0   \n",
       "3                    NaN    jnardino                 NaN              0   \n",
       "4                    NaN    jnardino                 NaN              0   \n",
       "\n",
       "                                                text tweet_coord  \\\n",
       "0                @VirginAmerica What @dhepburn said.         NaN   \n",
       "1  @VirginAmerica plus you've added commercials t...         NaN   \n",
       "2  @VirginAmerica I didn't today... Must mean I n...         NaN   \n",
       "3  @VirginAmerica it's really aggressive to blast...         NaN   \n",
       "4  @VirginAmerica and it's a really big bad thing...         NaN   \n",
       "\n",
       "               tweet_created tweet_location               user_timezone  \n",
       "0  2015-02-24 11:35:52 -0800            NaN  Eastern Time (US & Canada)  \n",
       "1  2015-02-24 11:15:59 -0800            NaN  Pacific Time (US & Canada)  \n",
       "2  2015-02-24 11:15:48 -0800      Lets Play  Central Time (US & Canada)  \n",
       "3  2015-02-24 11:15:36 -0800            NaN  Pacific Time (US & Canada)  \n",
       "4  2015-02-24 11:14:45 -0800            NaN  Pacific Time (US & Canada)  "
      ]
     },
     "execution_count": 5,
     "metadata": {},
     "output_type": "execute_result"
    }
   ],
   "source": [
    "df.head()"
   ]
  },
  {
   "cell_type": "code",
   "execution_count": 6,
   "id": "5d4fef1f",
   "metadata": {},
   "outputs": [
    {
     "data": {
      "text/plain": [
       "(14640, 15)"
      ]
     },
     "execution_count": 6,
     "metadata": {},
     "output_type": "execute_result"
    }
   ],
   "source": [
    "df.shape"
   ]
  },
  {
   "cell_type": "code",
   "execution_count": 7,
   "id": "011ae40f",
   "metadata": {},
   "outputs": [
    {
     "name": "stdout",
     "output_type": "stream",
     "text": [
      "<class 'pandas.core.frame.DataFrame'>\n",
      "RangeIndex: 14640 entries, 0 to 14639\n",
      "Data columns (total 15 columns):\n",
      " #   Column                        Non-Null Count  Dtype  \n",
      "---  ------                        --------------  -----  \n",
      " 0   tweet_id                      14640 non-null  int64  \n",
      " 1   airline_sentiment             14640 non-null  object \n",
      " 2   airline_sentiment_confidence  14640 non-null  float64\n",
      " 3   negativereason                9178 non-null   object \n",
      " 4   negativereason_confidence     10522 non-null  float64\n",
      " 5   airline                       14640 non-null  object \n",
      " 6   airline_sentiment_gold        40 non-null     object \n",
      " 7   name                          14640 non-null  object \n",
      " 8   negativereason_gold           32 non-null     object \n",
      " 9   retweet_count                 14640 non-null  int64  \n",
      " 10  text                          14640 non-null  object \n",
      " 11  tweet_coord                   1019 non-null   object \n",
      " 12  tweet_created                 14640 non-null  object \n",
      " 13  tweet_location                9907 non-null   object \n",
      " 14  user_timezone                 9820 non-null   object \n",
      "dtypes: float64(2), int64(2), object(11)\n",
      "memory usage: 1.7+ MB\n"
     ]
    }
   ],
   "source": [
    "df.info()"
   ]
  },
  {
   "cell_type": "code",
   "execution_count": 8,
   "id": "e24cbbaf",
   "metadata": {},
   "outputs": [
    {
     "name": "stderr",
     "output_type": "stream",
     "text": [
      "C:\\ProgramData\\Anaconda3\\lib\\site-packages\\seaborn\\_decorators.py:36: FutureWarning: Pass the following variable as a keyword arg: x. From version 0.12, the only valid positional argument will be `data`, and passing other arguments without an explicit keyword will result in an error or misinterpretation.\n",
      "  warnings.warn(\n"
     ]
    },
    {
     "data": {
      "text/plain": [
       "<AxesSubplot:xlabel='airline_sentiment', ylabel='count'>"
      ]
     },
     "execution_count": 8,
     "metadata": {},
     "output_type": "execute_result"
    },
    {
     "data": {
      "image/png": "[encoded data removed]",
      "text/plain": [
       "<Figure size 432x288 with 1 Axes>"
      ]
     },
     "metadata": {
      "needs_background": "light"
     },
     "output_type": "display_data"
    }
   ],
   "source": [
    "sns.countplot(df.airline_sentiment)"
   ]
  },
  {
   "cell_type": "code",
   "execution_count": 9,
   "id": "edaaa8c2",
   "metadata": {},
   "outputs": [
    {
     "data": {
      "text/html": [
       "<div>\n",
       "<style scoped>\n",
       "    .dataframe tbody tr th:only-of-type {\n",
       "        vertical-align: middle;\n",
       "    }\n",
       "\n",
       "    .dataframe tbody tr th {\n",
       "        vertical-align: top;\n",
       "    }\n",
       "\n",
       "    .dataframe thead th {\n",
       "        text-align: right;\n",
       "    }\n",
       "</style>\n",
       "<table border=\"1\" class=\"dataframe\">\n",
       "  <thead>\n",
       "    <tr style=\"text-align: right;\">\n",
       "      <th></th>\n",
       "      <th>tweet_id</th>\n",
       "      <th>airline_sentiment_confidence</th>\n",
       "      <th>negativereason_confidence</th>\n",
       "      <th>retweet_count</th>\n",
       "    </tr>\n",
       "  </thead>\n",
       "  <tbody>\n",
       "    <tr>\n",
       "      <th>count</th>\n",
       "      <td>1.464000e+04</td>\n",
       "      <td>14640.000000</td>\n",
       "      <td>10522.000000</td>\n",
       "      <td>14640.000000</td>\n",
       "    </tr>\n",
       "    <tr>\n",
       "      <th>mean</th>\n",
       "      <td>5.692184e+17</td>\n",
       "      <td>0.900169</td>\n",
       "      <td>0.638298</td>\n",
       "      <td>0.082650</td>\n",
       "    </tr>\n",
       "    <tr>\n",
       "      <th>std</th>\n",
       "      <td>7.791112e+14</td>\n",
       "      <td>0.162830</td>\n",
       "      <td>0.330440</td>\n",
       "      <td>0.745778</td>\n",
       "    </tr>\n",
       "    <tr>\n",
       "      <th>min</th>\n",
       "      <td>5.675883e+17</td>\n",
       "      <td>0.335000</td>\n",
       "      <td>0.000000</td>\n",
       "      <td>0.000000</td>\n",
       "    </tr>\n",
       "    <tr>\n",
       "      <th>25%</th>\n",
       "      <td>5.685592e+17</td>\n",
       "      <td>0.692300</td>\n",
       "      <td>0.360600</td>\n",
       "      <td>0.000000</td>\n",
       "    </tr>\n",
       "    <tr>\n",
       "      <th>50%</th>\n",
       "      <td>5.694779e+17</td>\n",
       "      <td>1.000000</td>\n",
       "      <td>0.670600</td>\n",
       "      <td>0.000000</td>\n",
       "    </tr>\n",
       "    <tr>\n",
       "      <th>75%</th>\n",
       "      <td>5.698905e+17</td>\n",
       "      <td>1.000000</td>\n",
       "      <td>1.000000</td>\n",
       "      <td>0.000000</td>\n",
       "    </tr>\n",
       "    <tr>\n",
       "      <th>max</th>\n",
       "      <td>5.703106e+17</td>\n",
       "      <td>1.000000</td>\n",
       "      <td>1.000000</td>\n",
       "      <td>44.000000</td>\n",
       "    </tr>\n",
       "  </tbody>\n",
       "</table>\n",
       "</div>"
      ],
      "text/plain": [
       "           tweet_id  airline_sentiment_confidence  negativereason_confidence  \\\n",
       "count  1.464000e+04                  14640.000000               10522.000000   \n",
       "mean   5.692184e+17                      0.900169                   0.638298   \n",
       "std    7.791112e+14                      0.162830                   0.330440   \n",
       "min    5.675883e+17                      0.335000                   0.000000   \n",
       "25%    5.685592e+17                      0.692300                   0.360600   \n",
       "50%    5.694779e+17                      1.000000                   0.670600   \n",
       "75%    5.698905e+17                      1.000000                   1.000000   \n",
       "max    5.703106e+17                      1.000000                   1.000000   \n",
       "\n",
       "       retweet_count  \n",
       "count   14640.000000  \n",
       "mean        0.082650  \n",
       "std         0.745778  \n",
       "min         0.000000  \n",
       "25%         0.000000  \n",
       "50%         0.000000  \n",
       "75%         0.000000  \n",
       "max        44.000000  "
      ]
     },
     "execution_count": 9,
     "metadata": {},
     "output_type": "execute_result"
    }
   ],
   "source": [
    "#let's see the distribution of the continous variable \n",
    "df.describe()"
   ]
  },
  {
   "cell_type": "code",
   "execution_count": 10,
   "id": "b1c7b931",
   "metadata": {},
   "outputs": [
    {
     "data": {
      "text/plain": [
       "Index(['tweet_id', 'airline_sentiment', 'airline_sentiment_confidence',\n",
       "       'negativereason', 'negativereason_confidence', 'airline',\n",
       "       'airline_sentiment_gold', 'name', 'negativereason_gold',\n",
       "       'retweet_count', 'text', 'tweet_coord', 'tweet_created',\n",
       "       'tweet_location', 'user_timezone'],\n",
       "      dtype='object')"
      ]
     },
     "execution_count": 10,
     "metadata": {},
     "output_type": "execute_result"
    }
   ],
   "source": [
    "df.columns"
   ]
  },
  {
   "cell_type": "code",
   "execution_count": 11,
   "id": "642a9be9",
   "metadata": {},
   "outputs": [],
   "source": [
    "df['length'] = df['text'].apply(len)"
   ]
  },
  {
   "cell_type": "code",
   "execution_count": 12,
   "id": "a7c89173",
   "metadata": {},
   "outputs": [
    {
     "name": "stderr",
     "output_type": "stream",
     "text": [
      "C:\\ProgramData\\Anaconda3\\lib\\site-packages\\seaborn\\distributions.py:2619: FutureWarning: `distplot` is a deprecated function and will be removed in a future version. Please adapt your code to use either `displot` (a figure-level function with similar flexibility) or `histplot` (an axes-level function for histograms).\n",
      "  warnings.warn(msg, FutureWarning)\n"
     ]
    },
    {
     "data": {
      "image/png": "[encoded data removed]",
      "text/plain": [
       "<Figure size 648x432 with 1 Axes>"
      ]
     },
     "metadata": {
      "needs_background": "light"
     },
     "output_type": "display_data"
    }
   ],
   "source": [
    "plt.figure(figsize = (9,6))\n",
    "sns.distplot(df.length,bins = 50,color = \"green\")\n",
    "plt.show()"
   ]
  },
  {
   "cell_type": "markdown",
   "id": "820ae7e7",
   "metadata": {},
   "source": [
    "**This means there are lots of tweet which have a length of 100 to 150 and a lot of data points are concentrated around that point**"
   ]
  },
  {
   "cell_type": "code",
   "execution_count": 13,
   "id": "1e183835",
   "metadata": {},
   "outputs": [
    {
     "data": {
      "text/plain": [
       "count    14640.000000\n",
       "mean       103.822063\n",
       "std         36.277339\n",
       "min         12.000000\n",
       "25%         77.000000\n",
       "50%        114.000000\n",
       "75%        136.000000\n",
       "max        186.000000\n",
       "Name: length, dtype: float64"
      ]
     },
     "execution_count": 13,
     "metadata": {},
     "output_type": "execute_result"
    }
   ],
   "source": [
    "df.length.describe()"
   ]
  },
  {
   "cell_type": "code",
   "execution_count": 14,
   "id": "b6e07d0c",
   "metadata": {},
   "outputs": [
    {
     "data": {
      "text/plain": [
       "186"
      ]
     },
     "execution_count": 14,
     "metadata": {},
     "output_type": "execute_result"
    }
   ],
   "source": [
    "df.length.max()"
   ]
  },
  {
   "cell_type": "code",
   "execution_count": 15,
   "id": "2ce7ea1b",
   "metadata": {},
   "outputs": [
    {
     "data": {
      "text/html": [
       "<div>\n",
       "<style scoped>\n",
       "    .dataframe tbody tr th:only-of-type {\n",
       "        vertical-align: middle;\n",
       "    }\n",
       "\n",
       "    .dataframe tbody tr th {\n",
       "        vertical-align: top;\n",
       "    }\n",
       "\n",
       "    .dataframe thead th {\n",
       "        text-align: right;\n",
       "    }\n",
       "</style>\n",
       "<table border=\"1\" class=\"dataframe\">\n",
       "  <thead>\n",
       "    <tr style=\"text-align: right;\">\n",
       "      <th></th>\n",
       "      <th>tweet_id</th>\n",
       "      <th>airline_sentiment</th>\n",
       "      <th>airline_sentiment_confidence</th>\n",
       "      <th>negativereason</th>\n",
       "      <th>negativereason_confidence</th>\n",
       "      <th>airline</th>\n",
       "      <th>airline_sentiment_gold</th>\n",
       "      <th>name</th>\n",
       "      <th>negativereason_gold</th>\n",
       "      <th>retweet_count</th>\n",
       "      <th>text</th>\n",
       "      <th>tweet_coord</th>\n",
       "      <th>tweet_created</th>\n",
       "      <th>tweet_location</th>\n",
       "      <th>user_timezone</th>\n",
       "      <th>length</th>\n",
       "    </tr>\n",
       "  </thead>\n",
       "  <tbody>\n",
       "    <tr>\n",
       "      <th>10405</th>\n",
       "      <td>569328854948573187</td>\n",
       "      <td>positive</td>\n",
       "      <td>0.6925</td>\n",
       "      <td>NaN</td>\n",
       "      <td>0.0</td>\n",
       "      <td>US Airways</td>\n",
       "      <td>NaN</td>\n",
       "      <td>zfelice</td>\n",
       "      <td>NaN</td>\n",
       "      <td>0</td>\n",
       "      <td>@USAirways Eyyyy! Cancelled Flightlations, Fli...</td>\n",
       "      <td>NaN</td>\n",
       "      <td>2015-02-21 18:52:31 -0800</td>\n",
       "      <td>This Ain't Chicago, Tennessee</td>\n",
       "      <td>Central Time (US &amp; Canada)</td>\n",
       "      <td>186</td>\n",
       "    </tr>\n",
       "  </tbody>\n",
       "</table>\n",
       "</div>"
      ],
      "text/plain": [
       "                 tweet_id airline_sentiment  airline_sentiment_confidence  \\\n",
       "10405  569328854948573187          positive                        0.6925   \n",
       "\n",
       "      negativereason  negativereason_confidence     airline  \\\n",
       "10405            NaN                        0.0  US Airways   \n",
       "\n",
       "      airline_sentiment_gold     name negativereason_gold  retweet_count  \\\n",
       "10405                    NaN  zfelice                 NaN              0   \n",
       "\n",
       "                                                    text tweet_coord  \\\n",
       "10405  @USAirways Eyyyy! Cancelled Flightlations, Fli...         NaN   \n",
       "\n",
       "                   tweet_created                 tweet_location  \\\n",
       "10405  2015-02-21 18:52:31 -0800  This Ain't Chicago, Tennessee   \n",
       "\n",
       "                    user_timezone  length  \n",
       "10405  Central Time (US & Canada)     186  "
      ]
     },
     "execution_count": 15,
     "metadata": {},
     "output_type": "execute_result"
    }
   ],
   "source": [
    "df[df['length'] == df.length.max()]"
   ]
  },
  {
   "cell_type": "code",
   "execution_count": null,
   "id": "3dcb5466",
   "metadata": {},
   "outputs": [],
   "source": []
  },
  {
   "cell_type": "code",
   "execution_count": 16,
   "id": "c0dcbed6",
   "metadata": {},
   "outputs": [
    {
     "name": "stdout",
     "output_type": "stream",
     "text": [
      "text    @USAirways Eyyyy! Cancelled Flightlations, Fli...\n",
      "Name: 10405, dtype: object\n"
     ]
    }
   ],
   "source": [
    "# Another way to find the tweet with max length \n",
    "for i in range(len(df.length)):\n",
    "    if df.length[i] == 186:\n",
    "        print(df.loc[i,['text']])\n"
   ]
  },
  {
   "cell_type": "code",
   "execution_count": 17,
   "id": "df47d9f5",
   "metadata": {},
   "outputs": [
    {
     "data": {
      "text/plain": [
       "0"
      ]
     },
     "execution_count": 17,
     "metadata": {},
     "output_type": "execute_result"
    }
   ],
   "source": [
    "# since we are concern with only two columns lets check if there is any null values \n",
    "df[['airline_sentiment','text']].isnull().sum().sum()"
   ]
  },
  {
   "cell_type": "code",
   "execution_count": 18,
   "id": "86f40901",
   "metadata": {},
   "outputs": [],
   "source": [
    "# Now we will remove the punctuation and stop words from the text\n"
   ]
  },
  {
   "cell_type": "code",
   "execution_count": 19,
   "id": "82632f70",
   "metadata": {},
   "outputs": [
    {
     "name": "stderr",
     "output_type": "stream",
     "text": [
      "[nltk_data] Downloading package stopwords to\n",
      "[nltk_data]     C:\\Users\\Deepu\\AppData\\Roaming\\nltk_data...\n",
      "[nltk_data]   Package stopwords is already up-to-date!\n"
     ]
    },
    {
     "data": {
      "text/plain": [
       "True"
      ]
     },
     "execution_count": 19,
     "metadata": {},
     "output_type": "execute_result"
    }
   ],
   "source": [
    "import nltk\n",
    "nltk.download('stopwords')"
   ]
  },
  {
   "cell_type": "code",
   "execution_count": 20,
   "id": "5539f888",
   "metadata": {},
   "outputs": [],
   "source": [
    "import string\n",
    "from nltk.corpus import stopwords"
   ]
  },
  {
   "cell_type": "code",
   "execution_count": 21,
   "id": "65b0489e",
   "metadata": {},
   "outputs": [
    {
     "data": {
      "text/plain": [
       "['i',\n",
       " 'me',\n",
       " 'my',\n",
       " 'myself',\n",
       " 'we',\n",
       " 'our',\n",
       " 'ours',\n",
       " 'ourselves',\n",
       " 'you',\n",
       " \"you're\",\n",
       " \"you've\",\n",
       " \"you'll\",\n",
       " \"you'd\",\n",
       " 'your',\n",
       " 'yours',\n",
       " 'yourself',\n",
       " 'yourselves',\n",
       " 'he',\n",
       " 'him',\n",
       " 'his',\n",
       " 'himself',\n",
       " 'she',\n",
       " \"she's\",\n",
       " 'her',\n",
       " 'hers',\n",
       " 'herself',\n",
       " 'it',\n",
       " \"it's\",\n",
       " 'its',\n",
       " 'itself',\n",
       " 'they',\n",
       " 'them',\n",
       " 'their',\n",
       " 'theirs',\n",
       " 'themselves',\n",
       " 'what',\n",
       " 'which',\n",
       " 'who',\n",
       " 'whom',\n",
       " 'this',\n",
       " 'that',\n",
       " \"that'll\",\n",
       " 'these',\n",
       " 'those',\n",
       " 'am',\n",
       " 'is',\n",
       " 'are',\n",
       " 'was',\n",
       " 'were',\n",
       " 'be',\n",
       " 'been',\n",
       " 'being',\n",
       " 'have',\n",
       " 'has',\n",
       " 'had',\n",
       " 'having',\n",
       " 'do',\n",
       " 'does',\n",
       " 'did',\n",
       " 'doing',\n",
       " 'a',\n",
       " 'an',\n",
       " 'the',\n",
       " 'and',\n",
       " 'but',\n",
       " 'if',\n",
       " 'or',\n",
       " 'because',\n",
       " 'as',\n",
       " 'until',\n",
       " 'while',\n",
       " 'of',\n",
       " 'at',\n",
       " 'by',\n",
       " 'for',\n",
       " 'with',\n",
       " 'about',\n",
       " 'against',\n",
       " 'between',\n",
       " 'into',\n",
       " 'through',\n",
       " 'during',\n",
       " 'before',\n",
       " 'after',\n",
       " 'above',\n",
       " 'below',\n",
       " 'to',\n",
       " 'from',\n",
       " 'up',\n",
       " 'down',\n",
       " 'in',\n",
       " 'out',\n",
       " 'on',\n",
       " 'off',\n",
       " 'over',\n",
       " 'under',\n",
       " 'again',\n",
       " 'further',\n",
       " 'then',\n",
       " 'once',\n",
       " 'here',\n",
       " 'there',\n",
       " 'when',\n",
       " 'where',\n",
       " 'why',\n",
       " 'how',\n",
       " 'all',\n",
       " 'any',\n",
       " 'both',\n",
       " 'each',\n",
       " 'few',\n",
       " 'more',\n",
       " 'most',\n",
       " 'other',\n",
       " 'some',\n",
       " 'such',\n",
       " 'no',\n",
       " 'nor',\n",
       " 'not',\n",
       " 'only',\n",
       " 'own',\n",
       " 'same',\n",
       " 'so',\n",
       " 'than',\n",
       " 'too',\n",
       " 'very',\n",
       " 's',\n",
       " 't',\n",
       " 'can',\n",
       " 'will',\n",
       " 'just',\n",
       " 'don',\n",
       " \"don't\",\n",
       " 'should',\n",
       " \"should've\",\n",
       " 'now',\n",
       " 'd',\n",
       " 'll',\n",
       " 'm',\n",
       " 'o',\n",
       " 're',\n",
       " 've',\n",
       " 'y',\n",
       " 'ain',\n",
       " 'aren',\n",
       " \"aren't\",\n",
       " 'couldn',\n",
       " \"couldn't\",\n",
       " 'didn',\n",
       " \"didn't\",\n",
       " 'doesn',\n",
       " \"doesn't\",\n",
       " 'hadn',\n",
       " \"hadn't\",\n",
       " 'hasn',\n",
       " \"hasn't\",\n",
       " 'haven',\n",
       " \"haven't\",\n",
       " 'isn',\n",
       " \"isn't\",\n",
       " 'ma',\n",
       " 'mightn',\n",
       " \"mightn't\",\n",
       " 'mustn',\n",
       " \"mustn't\",\n",
       " 'needn',\n",
       " \"needn't\",\n",
       " 'shan',\n",
       " \"shan't\",\n",
       " 'shouldn',\n",
       " \"shouldn't\",\n",
       " 'wasn',\n",
       " \"wasn't\",\n",
       " 'weren',\n",
       " \"weren't\",\n",
       " 'won',\n",
       " \"won't\",\n",
       " 'wouldn',\n",
       " \"wouldn't\"]"
      ]
     },
     "execution_count": 21,
     "metadata": {},
     "output_type": "execute_result"
    }
   ],
   "source": [
    "stopwords.words('english')"
   ]
  },
  {
   "cell_type": "code",
   "execution_count": 22,
   "id": "7f69d0d9",
   "metadata": {},
   "outputs": [
    {
     "data": {
      "text/plain": [
       "'!\"#$%&\\'()*+,-./:;<=>?@[\\\\]^_`{|}~'"
      ]
     },
     "execution_count": 22,
     "metadata": {},
     "output_type": "execute_result"
    }
   ],
   "source": [
    "string.punctuation"
   ]
  },
  {
   "cell_type": "code",
   "execution_count": 23,
   "id": "c5c49582",
   "metadata": {},
   "outputs": [],
   "source": [
    "def text_process(x):\n",
    "    pun_remove=[i for i in x if i not in string.punctuation]\n",
    "    pun_remove = ''.join(pun_remove)\n",
    "    return pun_remove"
   ]
  },
  {
   "cell_type": "code",
   "execution_count": 24,
   "id": "64659cd7",
   "metadata": {},
   "outputs": [
    {
     "name": "stdout",
     "output_type": "stream",
     "text": [
      "VirginAmerica What dhepburn said\n",
      "['VirginAmerica', 'What', 'dhepburn', 'said']\n"
     ]
    }
   ],
   "source": [
    "pun_remove=[i for i in df.text[0] if i not in string.punctuation]\n",
    "pun_remove = ''.join(pun_remove)\n",
    "print(pun_remove)\n",
    "print(pun_remove.split())"
   ]
  },
  {
   "cell_type": "code",
   "execution_count": 25,
   "id": "3dfbc87d",
   "metadata": {},
   "outputs": [
    {
     "data": {
      "text/plain": [
       "0                         VirginAmerica What dhepburn said\n",
       "1        VirginAmerica plus youve added commercials to ...\n",
       "2        VirginAmerica I didnt today Must mean I need t...\n",
       "3        VirginAmerica its really aggressive to blast o...\n",
       "4        VirginAmerica and its a really big bad thing a...\n",
       "                               ...                        \n",
       "14635    AmericanAir thank you we got on a different fl...\n",
       "14636    AmericanAir leaving over 20 minutes Late Fligh...\n",
       "14637    AmericanAir Please bring American Airlines to ...\n",
       "14638    AmericanAir you have my money you change my fl...\n",
       "14639    AmericanAir we have 8 ppl so we need 2 know ho...\n",
       "Name: text, Length: 14640, dtype: object"
      ]
     },
     "execution_count": 25,
     "metadata": {},
     "output_type": "execute_result"
    }
   ],
   "source": [
    "df.text.apply(lambda x: text_process(x))"
   ]
  },
  {
   "cell_type": "code",
   "execution_count": 33,
   "id": "e0720792",
   "metadata": {},
   "outputs": [],
   "source": [
    "def text_process_mod(x):\n",
    "    pun_remove=[char for char in x if char not in string.punctuation]\n",
    "    pun_remove = ''.join(pun_remove)\n",
    "    \n",
    "    stop_removed=[word for word in pun_remove.split() if word.lower() not in stopwords.words('english')]\n",
    "    stop_removed = ' '.join(stop_removed)\n",
    "    return stop_removed"
   ]
  },
  {
   "cell_type": "code",
   "execution_count": 34,
   "id": "5a28ea2f",
   "metadata": {},
   "outputs": [],
   "source": [
    "df['tokenized_tweet'] = df['text'].apply(text_process_mod)"
   ]
  },
  {
   "cell_type": "code",
   "execution_count": 35,
   "id": "c786bd1e",
   "metadata": {},
   "outputs": [
    {
     "data": {
      "text/plain": [
       "0        VirginAmerica plus youve added commercials exp...\n",
       "1        VirginAmerica really aggressive blast obnoxiou...\n",
       "2                       VirginAmerica really big bad thing\n",
       "3        VirginAmerica seriously would pay 30 flight se...\n",
       "4        VirginAmerica yes nearly every time fly VX “ea...\n",
       "                               ...                        \n",
       "11536    AmericanAir flight Cancelled Flightled leaving...\n",
       "11537                        AmericanAir right cue delays👌\n",
       "11538       AmericanAir thank got different flight Chicago\n",
       "11539    AmericanAir leaving 20 minutes Late Flight war...\n",
       "11540    AmericanAir money change flight dont answer ph...\n",
       "Name: tokenized_tweet, Length: 11541, dtype: object"
      ]
     },
     "execution_count": 35,
     "metadata": {},
     "output_type": "execute_result"
    }
   ],
   "source": [
    "df['tokenized_tweet']"
   ]
  },
  {
   "cell_type": "code",
   "execution_count": 36,
   "id": "b2d16715",
   "metadata": {},
   "outputs": [
    {
     "data": {
      "text/plain": [
       "'VirginAmerica plus youve added commercials experience tacky'"
      ]
     },
     "execution_count": 36,
     "metadata": {},
     "output_type": "execute_result"
    }
   ],
   "source": [
    "text_process_mod(df.text[0])"
   ]
  },
  {
   "cell_type": "code",
   "execution_count": 37,
   "id": "d965078b",
   "metadata": {},
   "outputs": [
    {
     "ename": "ValueError",
     "evalue": "cannot insert level_0, already exists",
     "output_type": "error",
     "traceback": [
      "\u001b[1;31m---------------------------------------------------------------------------\u001b[0m",
      "\u001b[1;31mValueError\u001b[0m                                Traceback (most recent call last)",
      "Input \u001b[1;32mIn [37]\u001b[0m, in \u001b[0;36m<cell line: 2>\u001b[1;34m()\u001b[0m\n\u001b[0;32m      1\u001b[0m \u001b[38;5;66;03m#we will be focousing on the positive and the negative class only \u001b[39;00m\n\u001b[1;32m----> 2\u001b[0m df\u001b[38;5;241m=\u001b[39m\u001b[43mdf\u001b[49m\u001b[43m[\u001b[49m\u001b[43mdf\u001b[49m\u001b[43m[\u001b[49m\u001b[38;5;124;43m'\u001b[39;49m\u001b[38;5;124;43mairline_sentiment\u001b[39;49m\u001b[38;5;124;43m'\u001b[39;49m\u001b[43m]\u001b[49m\u001b[43m \u001b[49m\u001b[38;5;241;43m!=\u001b[39;49m\u001b[43m \u001b[49m\u001b[38;5;124;43m'\u001b[39;49m\u001b[38;5;124;43mneutral\u001b[39;49m\u001b[38;5;124;43m'\u001b[39;49m\u001b[43m]\u001b[49m\u001b[38;5;241;43m.\u001b[39;49m\u001b[43mreset_index\u001b[49m\u001b[43m(\u001b[49m\u001b[43m)\u001b[49m\n",
      "File \u001b[1;32mC:\\ProgramData\\Anaconda3\\lib\\site-packages\\pandas\\util\\_decorators.py:311\u001b[0m, in \u001b[0;36mdeprecate_nonkeyword_arguments.<locals>.decorate.<locals>.wrapper\u001b[1;34m(*args, **kwargs)\u001b[0m\n\u001b[0;32m    305\u001b[0m \u001b[38;5;28;01mif\u001b[39;00m \u001b[38;5;28mlen\u001b[39m(args) \u001b[38;5;241m>\u001b[39m num_allow_args:\n\u001b[0;32m    306\u001b[0m     warnings\u001b[38;5;241m.\u001b[39mwarn(\n\u001b[0;32m    307\u001b[0m         msg\u001b[38;5;241m.\u001b[39mformat(arguments\u001b[38;5;241m=\u001b[39marguments),\n\u001b[0;32m    308\u001b[0m         \u001b[38;5;167;01mFutureWarning\u001b[39;00m,\n\u001b[0;32m    309\u001b[0m         stacklevel\u001b[38;5;241m=\u001b[39mstacklevel,\n\u001b[0;32m    310\u001b[0m     )\n\u001b[1;32m--> 311\u001b[0m \u001b[38;5;28;01mreturn\u001b[39;00m func(\u001b[38;5;241m*\u001b[39margs, \u001b[38;5;241m*\u001b[39m\u001b[38;5;241m*\u001b[39mkwargs)\n",
      "File \u001b[1;32mC:\\ProgramData\\Anaconda3\\lib\\site-packages\\pandas\\core\\frame.py:5839\u001b[0m, in \u001b[0;36mDataFrame.reset_index\u001b[1;34m(self, level, drop, inplace, col_level, col_fill)\u001b[0m\n\u001b[0;32m   5833\u001b[0m         \u001b[38;5;28;01mif\u001b[39;00m lab \u001b[38;5;129;01mis\u001b[39;00m \u001b[38;5;129;01mnot\u001b[39;00m \u001b[38;5;28;01mNone\u001b[39;00m:\n\u001b[0;32m   5834\u001b[0m             \u001b[38;5;66;03m# if we have the codes, extract the values with a mask\u001b[39;00m\n\u001b[0;32m   5835\u001b[0m             level_values \u001b[38;5;241m=\u001b[39m algorithms\u001b[38;5;241m.\u001b[39mtake(\n\u001b[0;32m   5836\u001b[0m                 level_values, lab, allow_fill\u001b[38;5;241m=\u001b[39m\u001b[38;5;28;01mTrue\u001b[39;00m, fill_value\u001b[38;5;241m=\u001b[39mlev\u001b[38;5;241m.\u001b[39m_na_value\n\u001b[0;32m   5837\u001b[0m             )\n\u001b[1;32m-> 5839\u001b[0m         \u001b[43mnew_obj\u001b[49m\u001b[38;5;241;43m.\u001b[39;49m\u001b[43minsert\u001b[49m\u001b[43m(\u001b[49m\u001b[38;5;241;43m0\u001b[39;49m\u001b[43m,\u001b[49m\u001b[43m \u001b[49m\u001b[43mname\u001b[49m\u001b[43m,\u001b[49m\u001b[43m \u001b[49m\u001b[43mlevel_values\u001b[49m\u001b[43m)\u001b[49m\n\u001b[0;32m   5841\u001b[0m new_obj\u001b[38;5;241m.\u001b[39mindex \u001b[38;5;241m=\u001b[39m new_index\n\u001b[0;32m   5842\u001b[0m \u001b[38;5;28;01mif\u001b[39;00m \u001b[38;5;129;01mnot\u001b[39;00m inplace:\n",
      "File \u001b[1;32mC:\\ProgramData\\Anaconda3\\lib\\site-packages\\pandas\\core\\frame.py:4440\u001b[0m, in \u001b[0;36mDataFrame.insert\u001b[1;34m(self, loc, column, value, allow_duplicates)\u001b[0m\n\u001b[0;32m   4434\u001b[0m     \u001b[38;5;28;01mraise\u001b[39;00m \u001b[38;5;167;01mValueError\u001b[39;00m(\n\u001b[0;32m   4435\u001b[0m         \u001b[38;5;124m\"\u001b[39m\u001b[38;5;124mCannot specify \u001b[39m\u001b[38;5;124m'\u001b[39m\u001b[38;5;124mallow_duplicates=True\u001b[39m\u001b[38;5;124m'\u001b[39m\u001b[38;5;124m when \u001b[39m\u001b[38;5;124m\"\u001b[39m\n\u001b[0;32m   4436\u001b[0m         \u001b[38;5;124m\"\u001b[39m\u001b[38;5;124m'\u001b[39m\u001b[38;5;124mself.flags.allows_duplicate_labels\u001b[39m\u001b[38;5;124m'\u001b[39m\u001b[38;5;124m is False.\u001b[39m\u001b[38;5;124m\"\u001b[39m\n\u001b[0;32m   4437\u001b[0m     )\n\u001b[0;32m   4438\u001b[0m \u001b[38;5;28;01mif\u001b[39;00m \u001b[38;5;129;01mnot\u001b[39;00m allow_duplicates \u001b[38;5;129;01mand\u001b[39;00m column \u001b[38;5;129;01min\u001b[39;00m \u001b[38;5;28mself\u001b[39m\u001b[38;5;241m.\u001b[39mcolumns:\n\u001b[0;32m   4439\u001b[0m     \u001b[38;5;66;03m# Should this be a different kind of error??\u001b[39;00m\n\u001b[1;32m-> 4440\u001b[0m     \u001b[38;5;28;01mraise\u001b[39;00m \u001b[38;5;167;01mValueError\u001b[39;00m(\u001b[38;5;124mf\u001b[39m\u001b[38;5;124m\"\u001b[39m\u001b[38;5;124mcannot insert \u001b[39m\u001b[38;5;132;01m{\u001b[39;00mcolumn\u001b[38;5;132;01m}\u001b[39;00m\u001b[38;5;124m, already exists\u001b[39m\u001b[38;5;124m\"\u001b[39m)\n\u001b[0;32m   4441\u001b[0m \u001b[38;5;28;01mif\u001b[39;00m \u001b[38;5;129;01mnot\u001b[39;00m \u001b[38;5;28misinstance\u001b[39m(loc, \u001b[38;5;28mint\u001b[39m):\n\u001b[0;32m   4442\u001b[0m     \u001b[38;5;28;01mraise\u001b[39;00m \u001b[38;5;167;01mTypeError\u001b[39;00m(\u001b[38;5;124m\"\u001b[39m\u001b[38;5;124mloc must be int\u001b[39m\u001b[38;5;124m\"\u001b[39m)\n",
      "\u001b[1;31mValueError\u001b[0m: cannot insert level_0, already exists"
     ]
    }
   ],
   "source": [
    "#we will be focousing on the positive and the negative class only \n",
    "df=df[df['airline_sentiment'] != 'neutral'].reset_index()"
   ]
  },
  {
   "cell_type": "code",
   "execution_count": 38,
   "id": "7697b80a",
   "metadata": {},
   "outputs": [
    {
     "data": {
      "text/plain": [
       "negative    9178\n",
       "positive    2363\n",
       "Name: airline_sentiment, dtype: int64"
      ]
     },
     "execution_count": 38,
     "metadata": {},
     "output_type": "execute_result"
    }
   ],
   "source": [
    "df.airline_sentiment.value_counts()"
   ]
  },
  {
   "cell_type": "code",
   "execution_count": 39,
   "id": "dd584593",
   "metadata": {},
   "outputs": [],
   "source": [
    "# let's just focous on the tweet and sentiment \n",
    "tweet = df[['airline_sentiment','tokenized_tweet','length']]"
   ]
  },
  {
   "cell_type": "code",
   "execution_count": 40,
   "id": "73429c17",
   "metadata": {},
   "outputs": [
    {
     "data": {
      "text/html": [
       "<div>\n",
       "<style scoped>\n",
       "    .dataframe tbody tr th:only-of-type {\n",
       "        vertical-align: middle;\n",
       "    }\n",
       "\n",
       "    .dataframe tbody tr th {\n",
       "        vertical-align: top;\n",
       "    }\n",
       "\n",
       "    .dataframe thead th {\n",
       "        text-align: right;\n",
       "    }\n",
       "</style>\n",
       "<table border=\"1\" class=\"dataframe\">\n",
       "  <thead>\n",
       "    <tr style=\"text-align: right;\">\n",
       "      <th></th>\n",
       "      <th>airline_sentiment</th>\n",
       "      <th>tokenized_tweet</th>\n",
       "      <th>length</th>\n",
       "    </tr>\n",
       "  </thead>\n",
       "  <tbody>\n",
       "    <tr>\n",
       "      <th>0</th>\n",
       "      <td>positive</td>\n",
       "      <td>VirginAmerica plus youve added commercials exp...</td>\n",
       "      <td>72</td>\n",
       "    </tr>\n",
       "    <tr>\n",
       "      <th>1</th>\n",
       "      <td>negative</td>\n",
       "      <td>VirginAmerica really aggressive blast obnoxiou...</td>\n",
       "      <td>126</td>\n",
       "    </tr>\n",
       "    <tr>\n",
       "      <th>2</th>\n",
       "      <td>negative</td>\n",
       "      <td>VirginAmerica really big bad thing</td>\n",
       "      <td>55</td>\n",
       "    </tr>\n",
       "    <tr>\n",
       "      <th>3</th>\n",
       "      <td>negative</td>\n",
       "      <td>VirginAmerica seriously would pay 30 flight se...</td>\n",
       "      <td>135</td>\n",
       "    </tr>\n",
       "    <tr>\n",
       "      <th>4</th>\n",
       "      <td>positive</td>\n",
       "      <td>VirginAmerica yes nearly every time fly VX “ea...</td>\n",
       "      <td>79</td>\n",
       "    </tr>\n",
       "  </tbody>\n",
       "</table>\n",
       "</div>"
      ],
      "text/plain": [
       "  airline_sentiment                                    tokenized_tweet  length\n",
       "0          positive  VirginAmerica plus youve added commercials exp...      72\n",
       "1          negative  VirginAmerica really aggressive blast obnoxiou...     126\n",
       "2          negative                 VirginAmerica really big bad thing      55\n",
       "3          negative  VirginAmerica seriously would pay 30 flight se...     135\n",
       "4          positive  VirginAmerica yes nearly every time fly VX “ea...      79"
      ]
     },
     "execution_count": 40,
     "metadata": {},
     "output_type": "execute_result"
    }
   ],
   "source": [
    "tweet.head()"
   ]
  },
  {
   "cell_type": "code",
   "execution_count": 41,
   "id": "d0226515",
   "metadata": {},
   "outputs": [
    {
     "name": "stdout",
     "output_type": "stream",
     "text": [
      "<class 'pandas.core.frame.DataFrame'>\n",
      "RangeIndex: 11541 entries, 0 to 11540\n",
      "Data columns (total 3 columns):\n",
      " #   Column             Non-Null Count  Dtype \n",
      "---  ------             --------------  ----- \n",
      " 0   airline_sentiment  11541 non-null  object\n",
      " 1   tokenized_tweet    11541 non-null  object\n",
      " 2   length             11541 non-null  int64 \n",
      "dtypes: int64(1), object(2)\n",
      "memory usage: 270.6+ KB\n"
     ]
    }
   ],
   "source": [
    "tweet.info()"
   ]
  },
  {
   "cell_type": "code",
   "execution_count": 42,
   "id": "c535bf71",
   "metadata": {},
   "outputs": [],
   "source": [
    "# Let's do train test split and then do the vectorization \n",
    "from sklearn.model_selection import train_test_split\n",
    "x_train,x_test,y_train,y_test = train_test_split(tweet['tokenized_tweet'],tweet['airline_sentiment'],test_size = 0.4, random_state = 30)"
   ]
  },
  {
   "cell_type": "code",
   "execution_count": 43,
   "id": "44b8a9e8",
   "metadata": {},
   "outputs": [
    {
     "data": {
      "text/plain": [
       "((6924,), (6924,))"
      ]
     },
     "execution_count": 43,
     "metadata": {},
     "output_type": "execute_result"
    }
   ],
   "source": [
    "x_train.shape,y_train.shape"
   ]
  },
  {
   "cell_type": "code",
   "execution_count": 44,
   "id": "8d405f73",
   "metadata": {},
   "outputs": [
    {
     "data": {
      "text/plain": [
       "((4617,), (4617,))"
      ]
     },
     "execution_count": 44,
     "metadata": {},
     "output_type": "execute_result"
    }
   ],
   "source": [
    "x_test.shape,y_test.shape"
   ]
  },
  {
   "cell_type": "code",
   "execution_count": 45,
   "id": "d30c9721",
   "metadata": {},
   "outputs": [
    {
     "data": {
      "text/plain": [
       "10318    AmericanAir Also wait 2 hours speak someone ph...\n",
       "881      united three people awesome working long hours...\n",
       "3237     united thanks rude customer service 3 hour del...\n",
       "7500     USAirways name Rett Cavan gofundme page going ...\n",
       "7420     USAirways hire smarter people systems keep cra...\n",
       "Name: tokenized_tweet, dtype: object"
      ]
     },
     "execution_count": 45,
     "metadata": {},
     "output_type": "execute_result"
    }
   ],
   "source": [
    "x_train.head()"
   ]
  },
  {
   "cell_type": "code",
   "execution_count": 46,
   "id": "8ec90ff7",
   "metadata": {},
   "outputs": [
    {
     "name": "stderr",
     "output_type": "stream",
     "text": [
      "C:\\Users\\Deepu\\AppData\\Local\\Temp\\ipykernel_2976\\1421825631.py:1: FutureWarning: Passing a negative integer is deprecated in version 1.0 and will not be supported in future version. Instead, use None to not limit the column width.\n",
      "  pd.set_option('display.max_colwidth', -1) # system command to see all the text\n"
     ]
    }
   ],
   "source": [
    "pd.set_option('display.max_colwidth', -1) # system command to see all the text"
   ]
  },
  {
   "cell_type": "code",
   "execution_count": 47,
   "id": "93bb317f",
   "metadata": {},
   "outputs": [
    {
     "data": {
      "text/plain": [
       "10318    AmericanAir Also wait 2 hours speak someone phone cant wait 2 hours                                      \n",
       "881      united three people awesome working long hours easy say sorry Twitter help ppl EWR                       \n",
       "3237     united thanks rude customer service 3 hour delay really helped timing wise afternoon meetings Hello Delta\n",
       "7500     USAirways name Rett Cavan gofundme page going take last breath tonight airline cares money               \n",
       "7420     USAirways hire smarter people systems keep crashing instead mooks man airports goDelta                   \n",
       "Name: tokenized_tweet, dtype: object"
      ]
     },
     "execution_count": 47,
     "metadata": {},
     "output_type": "execute_result"
    }
   ],
   "source": [
    "x_train.head()"
   ]
  },
  {
   "cell_type": "code",
   "execution_count": 48,
   "id": "b7ff8d28",
   "metadata": {},
   "outputs": [],
   "source": [
    "from sklearn.feature_extraction.text import CountVectorizer\n",
    "vectorizer = CountVectorizer()"
   ]
  },
  {
   "cell_type": "code",
   "execution_count": 49,
   "id": "8d82874b",
   "metadata": {},
   "outputs": [],
   "source": [
    "# transformation \n",
    "train_vectorizered = vectorizer.fit_transform(x_train)\n",
    "test_vectorizered = vectorizer.transform(x_test)"
   ]
  },
  {
   "cell_type": "code",
   "execution_count": 50,
   "id": "f618726d",
   "metadata": {},
   "outputs": [
    {
     "data": {
      "text/plain": [
       "(array([[0, 0, 0, ..., 0, 0, 0],\n",
       "        [0, 0, 0, ..., 0, 0, 0],\n",
       "        [0, 0, 0, ..., 0, 0, 0],\n",
       "        ...,\n",
       "        [0, 0, 0, ..., 0, 0, 0],\n",
       "        [0, 0, 0, ..., 0, 0, 0],\n",
       "        [0, 0, 0, ..., 0, 0, 0]], dtype=int64),\n",
       " array([[0, 0, 0, ..., 0, 0, 0],\n",
       "        [0, 0, 0, ..., 0, 0, 0],\n",
       "        [0, 0, 0, ..., 0, 0, 0],\n",
       "        ...,\n",
       "        [0, 0, 0, ..., 0, 0, 0],\n",
       "        [0, 0, 0, ..., 0, 0, 0],\n",
       "        [0, 0, 0, ..., 0, 0, 0]], dtype=int64))"
      ]
     },
     "execution_count": 50,
     "metadata": {},
     "output_type": "execute_result"
    }
   ],
   "source": [
    "# we will have a sparse matrix \n",
    "train_vectorizered.toarray(), test_vectorizered.toarray()"
   ]
  },
  {
   "cell_type": "markdown",
   "id": "54a76ecd",
   "metadata": {},
   "source": [
    "# fitting an SVM model "
   ]
  },
  {
   "cell_type": "code",
   "execution_count": 152,
   "id": "e680d2f9",
   "metadata": {},
   "outputs": [],
   "source": [
    "from sklearn import svm\n",
    "clf = svm.SVC()"
   ]
  },
  {
   "cell_type": "code",
   "execution_count": 153,
   "id": "d2732701",
   "metadata": {},
   "outputs": [
    {
     "data": {
      "text/plain": [
       "SVC()"
      ]
     },
     "execution_count": 153,
     "metadata": {},
     "output_type": "execute_result"
    }
   ],
   "source": [
    "clf.fit(train_vectorizered,y_train)"
   ]
  },
  {
   "cell_type": "code",
   "execution_count": 155,
   "id": "90b4b528",
   "metadata": {},
   "outputs": [],
   "source": [
    "train_pred = clf.predict(train_vectorizered)"
   ]
  },
  {
   "cell_type": "code",
   "execution_count": 156,
   "id": "a2e62798",
   "metadata": {},
   "outputs": [],
   "source": [
    "test_pred = clf.predict(test_vectorizered)"
   ]
  },
  {
   "cell_type": "code",
   "execution_count": 157,
   "id": "75c52276",
   "metadata": {},
   "outputs": [],
   "source": [
    "from sklearn.metrics import confusion_matrix"
   ]
  },
  {
   "cell_type": "code",
   "execution_count": 158,
   "id": "161fa93d",
   "metadata": {},
   "outputs": [
    {
     "data": {
      "text/plain": [
       "array([[5481,   24],\n",
       "       [ 170, 1249]], dtype=int64)"
      ]
     },
     "execution_count": 158,
     "metadata": {},
     "output_type": "execute_result"
    }
   ],
   "source": [
    "#train\n",
    "confusion_matrix(y_train,train_pred)"
   ]
  },
  {
   "cell_type": "code",
   "execution_count": null,
   "id": "b4b70ba0",
   "metadata": {},
   "outputs": [],
   "source": []
  },
  {
   "cell_type": "code",
   "execution_count": 159,
   "id": "6d280de6",
   "metadata": {},
   "outputs": [
    {
     "data": {
      "text/plain": [
       "array([[3604,   69],\n",
       "       [ 369,  575]], dtype=int64)"
      ]
     },
     "execution_count": 159,
     "metadata": {},
     "output_type": "execute_result"
    }
   ],
   "source": [
    "# test\n",
    "confusion_matrix(y_test,test_pred)"
   ]
  },
  {
   "cell_type": "code",
   "execution_count": 161,
   "id": "9178e1f8",
   "metadata": {},
   "outputs": [],
   "source": [
    "from sklearn.metrics import roc_auc_score"
   ]
  },
  {
   "cell_type": "code",
   "execution_count": 165,
   "id": "beb502b1",
   "metadata": {},
   "outputs": [],
   "source": [
    "from sklearn import datasets,metrics, model_selection,svm"
   ]
  },
  {
   "cell_type": "code",
   "execution_count": 169,
   "id": "7157c994",
   "metadata": {},
   "outputs": [
    {
     "name": "stderr",
     "output_type": "stream",
     "text": [
      "C:\\ProgramData\\Anaconda3\\lib\\site-packages\\sklearn\\utils\\deprecation.py:87: FutureWarning: Function plot_roc_curve is deprecated; Function :func:`plot_roc_curve` is deprecated in 1.0 and will be removed in 1.2. Use one of the class methods: :meth:`sklearn.metric.RocCurveDisplay.from_predictions` or :meth:`sklearn.metric.RocCurveDisplay.from_estimator`.\n",
      "  warnings.warn(msg, category=FutureWarning)\n"
     ]
    },
    {
     "data": {
      "text/plain": [
       "<sklearn.metrics._plot.roc_curve.RocCurveDisplay at 0x14b848ee7f0>"
      ]
     },
     "execution_count": 169,
     "metadata": {},
     "output_type": "execute_result"
    },
    {
     "data": {
      "image/png": "[encoded data removed]",
      "text/plain": [
       "<Figure size 432x288 with 1 Axes>"
      ]
     },
     "metadata": {
      "needs_background": "light"
     },
     "output_type": "display_data"
    }
   ],
   "source": [
    "metrics.plot_roc_curve(clf,train_vectorizered,y_train)"
   ]
  },
  {
   "cell_type": "markdown",
   "id": "ccd3a6ed",
   "metadata": {},
   "source": [
    "### handling the huge class imblance evaluation with precision recall curve \n",
    "https://www.youtube.com/watch?v=EluMarMGezc"
   ]
  },
  {
   "cell_type": "markdown",
   "id": "08a83592",
   "metadata": {},
   "source": [
    "roc curve is between True positive rate and false positive rate it does not take the consideration of True negative and if we have a massively imbalanced data set then the roc curve does not paint a correct picture of the model performance so we use precession recall curve precesion is TP/TP+ FP and recall is TP/TP+FN \n",
    "\n",
    "Our model performation should be test on TN and FN which is recall of negative class over here the case is oppostise just keep that in mind the TP are less and True negative are more so adjust as per the data in hand , I have covered the explaination as per the youtube video"
   ]
  },
  {
   "cell_type": "code",
   "execution_count": 173,
   "id": "43d55395",
   "metadata": {},
   "outputs": [
    {
     "name": "stderr",
     "output_type": "stream",
     "text": [
      "C:\\ProgramData\\Anaconda3\\lib\\site-packages\\sklearn\\utils\\deprecation.py:87: FutureWarning: Function plot_precision_recall_curve is deprecated; Function `plot_precision_recall_curve` is deprecated in 1.0 and will be removed in 1.2. Use one of the class methods: PrecisionRecallDisplay.from_predictions or PrecisionRecallDisplay.from_estimator.\n",
      "  warnings.warn(msg, category=FutureWarning)\n"
     ]
    },
    {
     "data": {
      "text/plain": [
       "<sklearn.metrics._plot.precision_recall_curve.PrecisionRecallDisplay at 0x14bfcbebe80>"
      ]
     },
     "execution_count": 173,
     "metadata": {},
     "output_type": "execute_result"
    },
    {
     "data": {
      "image/png": "[encoded data removed]",
      "text/plain": [
       "<Figure size 432x288 with 1 Axes>"
      ]
     },
     "metadata": {
      "needs_background": "light"
     },
     "output_type": "display_data"
    }
   ],
   "source": [
    "metrics.plot_precision_recall_curve(clf,train_vectorizered,y_train)"
   ]
  },
  {
   "cell_type": "code",
   "execution_count": 170,
   "id": "6d7d4cdc",
   "metadata": {},
   "outputs": [
    {
     "name": "stderr",
     "output_type": "stream",
     "text": [
      "C:\\ProgramData\\Anaconda3\\lib\\site-packages\\sklearn\\utils\\deprecation.py:87: FutureWarning: Function plot_roc_curve is deprecated; Function :func:`plot_roc_curve` is deprecated in 1.0 and will be removed in 1.2. Use one of the class methods: :meth:`sklearn.metric.RocCurveDisplay.from_predictions` or :meth:`sklearn.metric.RocCurveDisplay.from_estimator`.\n",
      "  warnings.warn(msg, category=FutureWarning)\n"
     ]
    },
    {
     "data": {
      "text/plain": [
       "<sklearn.metrics._plot.roc_curve.RocCurveDisplay at 0x14be87c9520>"
      ]
     },
     "execution_count": 170,
     "metadata": {},
     "output_type": "execute_result"
    },
    {
     "data": {
      "image/png": "[encoded data removed]",
      "text/plain": [
       "<Figure size 432x288 with 1 Axes>"
      ]
     },
     "metadata": {
      "needs_background": "light"
     },
     "output_type": "display_data"
    }
   ],
   "source": [
    "metrics.plot_roc_curve(clf,test_vectorizered,y_test)"
   ]
  },
  {
   "cell_type": "code",
   "execution_count": 174,
   "id": "d4f0f04b",
   "metadata": {},
   "outputs": [
    {
     "name": "stderr",
     "output_type": "stream",
     "text": [
      "C:\\ProgramData\\Anaconda3\\lib\\site-packages\\sklearn\\utils\\deprecation.py:87: FutureWarning: Function plot_precision_recall_curve is deprecated; Function `plot_precision_recall_curve` is deprecated in 1.0 and will be removed in 1.2. Use one of the class methods: PrecisionRecallDisplay.from_predictions or PrecisionRecallDisplay.from_estimator.\n",
      "  warnings.warn(msg, category=FutureWarning)\n"
     ]
    },
    {
     "data": {
      "text/plain": [
       "<sklearn.metrics._plot.precision_recall_curve.PrecisionRecallDisplay at 0x14b848ee8b0>"
      ]
     },
     "execution_count": 174,
     "metadata": {},
     "output_type": "execute_result"
    },
    {
     "data": {
      "image/png": "[encoded data removed]",
      "text/plain": [
       "<Figure size 432x288 with 1 Axes>"
      ]
     },
     "metadata": {
      "needs_background": "light"
     },
     "output_type": "display_data"
    }
   ],
   "source": [
    "metrics.plot_precision_recall_curve(clf,test_vectorizered,y_test)"
   ]
  },
  {
   "cell_type": "markdown",
   "id": "aa68e7d0",
   "metadata": {},
   "source": [
    "Here is a new way to look at the concept of precision let's say john is a criminal and the precision of your model is 89% this means there is 89% chance that your model will say that yes john is a criminal"
   ]
  },
  {
   "cell_type": "markdown",
   "id": "af0ca8d7",
   "metadata": {},
   "source": [
    "# let's do a grid search on top on svm but first lets understand the main difference between the c value and the gamma hyperparameters "
   ]
  },
  {
   "cell_type": "markdown",
   "id": "ef736d2a",
   "metadata": {},
   "source": [
    "\n",
    "## In Support Vector Machines (SVM), both the `C` parameter and the `gamma` parameter are critical hyperparameters, but they serve different purposes and have distinct effects on the SVM model. Let's explore the differences between these two parameters:\n",
    "\n",
    "1. **C Parameter (Regularization Parameter):**\n",
    "   - The `C` parameter is responsible for controlling the trade-off between maximizing the margin between classes and minimizing the classification error on the training data.\n",
    "   - It is essentially a regularization parameter. A smaller `C` value encourages a wider margin but allows for more training points to be misclassified (soft margin), while a larger `C` value enforces a narrower margin and minimizes the training error (hard margin).\n",
    "   - A smaller `C` value makes the SVM more tolerant of misclassified data points, leading to a smoother decision boundary and potentially increased bias (underfitting).\n",
    "   - A larger `C` value makes the SVM less tolerant of misclassified points, leading to a more complex and flexible decision boundary, potentially at the risk of overfitting.\n",
    "\n",
    "2. **Gamma Parameter (Kernel Parameter):**\n",
    "   - The `gamma` parameter, on the other hand, is specific to SVMs using non-linear kernels (e.g., radial basis function or RBF kernel).\n",
    "   - It controls the shape of the decision boundary by determining the influence of a single training example on the decision boundary.\n",
    "   - A small `gamma` value implies that the influence of a data point is more widespread, resulting in a smoother, more generalized decision boundary.\n",
    "   - A large `gamma` value implies that the influence is more localized, resulting in a more complex and localized decision boundary that can closely fit the training data.\n",
    "\n",
    "In summary, the `C` parameter primarily regulates the balance between the margin and training error, while the `gamma` parameter impacts the complexity and flexibility of the decision boundary, particularly in non-linear SVMs using kernel functions. These parameters are crucial for tuning the SVM model to achieve the best trade-off between bias and variance for your specific classification problem. The optimal values for `C` and `gamma` depend on the characteristics of your dataset, and it often requires experimentation and hyperparameter tuning to find the most suitable values. "
   ]
  },
  {
   "cell_type": "code",
   "execution_count": 178,
   "id": "fcec8dc1",
   "metadata": {},
   "outputs": [],
   "source": [
    "param_dict = {\n",
    "    'C' : [0.1,1,10,1000],\n",
    "    'gamma': [1,0.1,0.01,0.0001],\n",
    "    'kernel' : ['rbf','linear','poly']\n",
    "}"
   ]
  },
  {
   "cell_type": "code",
   "execution_count": 176,
   "id": "98e82ec9",
   "metadata": {},
   "outputs": [],
   "source": [
    "# low c means soft margin means more misclassified classes and vice versa , there is a trade here which we have to deal with\n",
    "# low gamma means a simple and more generalize boundary where as high gamma means a complex boundary \n"
   ]
  },
  {
   "cell_type": "markdown",
   "id": "e766ef63",
   "metadata": {},
   "source": [
    "In Support Vector Machines (SVMs), the choice of kernel is a fundamental hyperparameter that determines the type of decision boundary the SVM will create. The SVM uses different kernel functions to map the input data into a higher-dimensional feature space, where it can separate the data points. The three common kernel functions are:\n",
    "\n",
    "1. **Radial Basis Function (RBF) Kernel:**\n",
    "   - The RBF kernel, also known as the Gaussian kernel, is one of the most widely used kernels in SVMs.\n",
    "   - It is suitable for both linear and non-linear classification problems.\n",
    "   - The RBF kernel allows the SVM to capture complex, non-linear relationships in the data by transforming it into a higher-dimensional space.\n",
    "   - The kernel's shape is determined by the `gamma` hyperparameter, which controls the width of the Gaussian curve used for mapping the data.\n",
    "\n",
    "2. **Linear Kernel:**\n",
    "   - The linear kernel is the simplest and most straightforward kernel.\n",
    "   - It is appropriate for linearly separable data, where the decision boundary is a straight line.\n",
    "   - When using the linear kernel, the SVM performs linear classification without any transformation of the data into a higher-dimensional space.\n",
    "   - The linear kernel can be effective for tasks where the classes can be separated by a straight line, plane, or hyperplane.\n",
    "\n",
    "3. **Polynomial (Poly) Kernel:**\n",
    "   - The polynomial kernel is used to capture non-linear relationships in the data by transforming it into a higher-dimensional space using polynomial functions.\n",
    "   - The degree of the polynomial is controlled by the `degree` hyperparameter. Higher degrees can capture more complex non-linear relationships but may lead to overfitting.\n",
    "   - The polynomial kernel is suitable for data with complex curved decision boundaries.\n",
    "\n",
    "In summary, the choice of kernel in SVMs depends on the nature of your data and the specific problem you are trying to solve. Here's a brief guideline for selecting a kernel:\n",
    "\n",
    "- Use the **Linear Kernel** when your data is linearly separable, and you want a simple, interpretable model with a linear decision boundary.\n",
    "\n",
    "- Use the **RBF Kernel** (Gaussian Kernel) by default or when you suspect that the data has non-linear patterns, as it is effective in capturing complex relationships.\n",
    "\n",
    "- Use the **Polynomial Kernel** when you believe that a polynomial relationship is a good representation of the underlying data, but be cautious about overfitting, especially with higher polynomial degrees.\n",
    "\n",
    "The choice of kernel should be part of your hyperparameter tuning process, along with other hyperparameters like `C` and `gamma` (if using an RBF kernel)."
   ]
  },
  {
   "cell_type": "markdown",
   "id": "ebfce285",
   "metadata": {},
   "source": [
    "## difference between the rbf and polynomial kernel"
   ]
  },
  {
   "cell_type": "markdown",
   "id": "e802345a",
   "metadata": {},
   "source": [
    "the primary difference between the Radial Basis Function (RBF) kernel and the Polynomial (Poly) kernel in SVMs lies in the shape of the contours or decision boundaries they create when mapping the data into higher-dimensional feature spaces.\n",
    "\n",
    "- **RBF Kernel:** The RBF kernel uses a Gaussian-like curve to transform the data. The shape of this curve is controlled by the `gamma` hyperparameter. A smaller `gamma` results in a wider curve, and a larger `gamma` results in a narrower curve. The decision boundary created by the RBF kernel can be more flexible and can capture complex, curved patterns in the data.\n",
    "\n",
    "- **Polynomial Kernel:** The Polynomial kernel, on the other hand, transforms the data using polynomial functions. The degree of the polynomial is controlled by the `degree` hyperparameter. Higher degrees create more complex polynomial functions that can capture intricate non-linear patterns in the data. However, increasing the degree can also lead to a more complex and localized decision boundary, potentially resulting in overfitting.\n",
    "\n",
    "In essence, the choice of kernel function affects the contours of the decision boundary in the feature space. The RBF kernel produces smoother, more flexible contours, while the Polynomial kernel generates contours based on polynomial functions of varying complexity. Your choice between these kernels should be based on the characteristics of your data and the problem you are trying to solve. Experimenting with different kernels and hyperparameters and evaluating their performance using techniques like cross-validation can help you determine the most suitable kernel for your specific application."
   ]
  },
  {
   "cell_type": "markdown",
   "id": "6b090599",
   "metadata": {},
   "source": [
    "In short they differ by making the contour of the graph and hence the polynomial are a bit on the complex side "
   ]
  },
  {
   "cell_type": "code",
   "execution_count": 179,
   "id": "51e063d9",
   "metadata": {},
   "outputs": [],
   "source": [
    "from sklearn.model_selection import GridSearchCV"
   ]
  },
  {
   "cell_type": "code",
   "execution_count": 180,
   "id": "2ecf2815",
   "metadata": {},
   "outputs": [],
   "source": [
    "grid_tf = GridSearchCV(clf,param_dict,n_jobs = 2,cv = 5,verbose = 10, scoring = 'accuracy')"
   ]
  },
  {
   "cell_type": "code",
   "execution_count": 182,
   "id": "3c1c2728",
   "metadata": {},
   "outputs": [
    {
     "name": "stdout",
     "output_type": "stream",
     "text": [
      "Fitting 5 folds for each of 48 candidates, totalling 240 fits\n"
     ]
    },
    {
     "data": {
      "text/plain": [
       "GridSearchCV(cv=5, estimator=SVC(), n_jobs=2,\n",
       "             param_grid={'C': [0.1, 1, 10, 1000],\n",
       "                         'gamma': [1, 0.1, 0.01, 0.0001],\n",
       "                         'kernel': ['rbf', 'linear', 'poly']},\n",
       "             scoring='accuracy', verbose=10)"
      ]
     },
     "execution_count": 182,
     "metadata": {},
     "output_type": "execute_result"
    }
   ],
   "source": [
    "grid_tf.fit(train_vectorizered,y_train)"
   ]
  },
  {
   "cell_type": "code",
   "execution_count": 184,
   "id": "abf1d85e",
   "metadata": {},
   "outputs": [
    {
     "data": {
      "text/plain": [
       "{'C': 10, 'gamma': 0.01, 'kernel': 'rbf'}"
      ]
     },
     "execution_count": 184,
     "metadata": {},
     "output_type": "execute_result"
    }
   ],
   "source": [
    "grid_tf.best_params_"
   ]
  },
  {
   "cell_type": "code",
   "execution_count": 185,
   "id": "584c3c3e",
   "metadata": {},
   "outputs": [],
   "source": [
    "train_pred_grid=grid_tf.predict(train_vectorizered)"
   ]
  },
  {
   "cell_type": "code",
   "execution_count": 186,
   "id": "bc39d408",
   "metadata": {},
   "outputs": [],
   "source": [
    "test_pred_grid = grid_tf.predict(test_vectorizered)"
   ]
  },
  {
   "cell_type": "code",
   "execution_count": 188,
   "id": "1dea36bc",
   "metadata": {},
   "outputs": [
    {
     "name": "stdout",
     "output_type": "stream",
     "text": [
      "[[5463   42]\n",
      " [ 125 1294]]\n"
     ]
    }
   ],
   "source": [
    "# train\n",
    "print(confusion_matrix(y_train,train_pred_grid))"
   ]
  },
  {
   "cell_type": "code",
   "execution_count": 189,
   "id": "fadccae5",
   "metadata": {},
   "outputs": [
    {
     "name": "stdout",
     "output_type": "stream",
     "text": [
      "[[3557  116]\n",
      " [ 288  656]]\n"
     ]
    }
   ],
   "source": [
    "# test\n",
    "print(confusion_matrix(y_test,test_pred_grid))"
   ]
  },
  {
   "cell_type": "code",
   "execution_count": 191,
   "id": "07e12c3b",
   "metadata": {},
   "outputs": [],
   "source": [
    "from sklearn.metrics import classification_report"
   ]
  },
  {
   "cell_type": "code",
   "execution_count": 192,
   "id": "4d53e651",
   "metadata": {},
   "outputs": [
    {
     "name": "stdout",
     "output_type": "stream",
     "text": [
      "              precision    recall  f1-score   support\n",
      "\n",
      "    negative       0.98      0.99      0.98      5505\n",
      "    positive       0.97      0.91      0.94      1419\n",
      "\n",
      "    accuracy                           0.98      6924\n",
      "   macro avg       0.97      0.95      0.96      6924\n",
      "weighted avg       0.98      0.98      0.98      6924\n",
      "\n",
      "\n",
      "\n",
      "              precision    recall  f1-score   support\n",
      "\n",
      "    negative       0.93      0.97      0.95      3673\n",
      "    positive       0.85      0.69      0.76       944\n",
      "\n",
      "    accuracy                           0.91      4617\n",
      "   macro avg       0.89      0.83      0.86      4617\n",
      "weighted avg       0.91      0.91      0.91      4617\n",
      "\n"
     ]
    }
   ],
   "source": [
    "# Print the classification report for train and test\n",
    "print(classification_report(y_train,train_pred_grid))\n",
    "print(\"\\n\")\n",
    "print(classification_report(y_test,test_pred_grid))"
   ]
  },
  {
   "cell_type": "code",
   "execution_count": 193,
   "id": "c2191d0e",
   "metadata": {},
   "outputs": [
    {
     "name": "stderr",
     "output_type": "stream",
     "text": [
      "C:\\ProgramData\\Anaconda3\\lib\\site-packages\\sklearn\\utils\\deprecation.py:87: FutureWarning: Function plot_roc_curve is deprecated; Function :func:`plot_roc_curve` is deprecated in 1.0 and will be removed in 1.2. Use one of the class methods: :meth:`sklearn.metric.RocCurveDisplay.from_predictions` or :meth:`sklearn.metric.RocCurveDisplay.from_estimator`.\n",
      "  warnings.warn(msg, category=FutureWarning)\n"
     ]
    },
    {
     "data": {
      "text/plain": [
       "<sklearn.metrics._plot.roc_curve.RocCurveDisplay at 0x14be882d460>"
      ]
     },
     "execution_count": 193,
     "metadata": {},
     "output_type": "execute_result"
    },
    {
     "data": {
      "image/png": "[encoded data removed]",
      "text/plain": [
       "<Figure size 432x288 with 1 Axes>"
      ]
     },
     "metadata": {
      "needs_background": "light"
     },
     "output_type": "display_data"
    }
   ],
   "source": [
    "from sklearn import datasets, metrics, model_selection, svm\n",
    "metrics.plot_roc_curve(grid_tf, train_vectorizered, y_train)  "
   ]
  },
  {
   "cell_type": "code",
   "execution_count": 194,
   "id": "499d0dfd",
   "metadata": {},
   "outputs": [
    {
     "name": "stderr",
     "output_type": "stream",
     "text": [
      "C:\\ProgramData\\Anaconda3\\lib\\site-packages\\sklearn\\utils\\deprecation.py:87: FutureWarning: Function plot_roc_curve is deprecated; Function :func:`plot_roc_curve` is deprecated in 1.0 and will be removed in 1.2. Use one of the class methods: :meth:`sklearn.metric.RocCurveDisplay.from_predictions` or :meth:`sklearn.metric.RocCurveDisplay.from_estimator`.\n",
      "  warnings.warn(msg, category=FutureWarning)\n"
     ]
    },
    {
     "data": {
      "text/plain": [
       "<sklearn.metrics._plot.roc_curve.RocCurveDisplay at 0x14be8920640>"
      ]
     },
     "execution_count": 194,
     "metadata": {},
     "output_type": "execute_result"
    },
    {
     "data": {
      "image/png": "[encoded data removed]",
      "text/plain": [
       "<Figure size 432x288 with 1 Axes>"
      ]
     },
     "metadata": {
      "needs_background": "light"
     },
     "output_type": "display_data"
    }
   ],
   "source": [
    "metrics.plot_roc_curve(grid_tf, test_vectorizered, y_test)  "
   ]
  },
  {
   "cell_type": "code",
   "execution_count": 196,
   "id": "7f514817",
   "metadata": {},
   "outputs": [
    {
     "name": "stderr",
     "output_type": "stream",
     "text": [
      "C:\\ProgramData\\Anaconda3\\lib\\site-packages\\sklearn\\utils\\deprecation.py:87: FutureWarning: Function plot_precision_recall_curve is deprecated; Function `plot_precision_recall_curve` is deprecated in 1.0 and will be removed in 1.2. Use one of the class methods: PrecisionRecallDisplay.from_predictions or PrecisionRecallDisplay.from_estimator.\n",
      "  warnings.warn(msg, category=FutureWarning)\n"
     ]
    },
    {
     "data": {
      "text/plain": [
       "<sklearn.metrics._plot.precision_recall_curve.PrecisionRecallDisplay at 0x14be88407f0>"
      ]
     },
     "execution_count": 196,
     "metadata": {},
     "output_type": "execute_result"
    },
    {
     "data": {
      "image/png": "[encoded data removed]",
      "text/plain": [
       "<Figure size 432x288 with 1 Axes>"
      ]
     },
     "metadata": {
      "needs_background": "light"
     },
     "output_type": "display_data"
    }
   ],
   "source": [
    "metrics.plot_precision_recall_curve(grid_tf, train_vectorizered, y_train)\n"
   ]
  },
  {
   "cell_type": "code",
   "execution_count": 198,
   "id": "e98211f0",
   "metadata": {},
   "outputs": [
    {
     "name": "stderr",
     "output_type": "stream",
     "text": [
      "C:\\ProgramData\\Anaconda3\\lib\\site-packages\\sklearn\\utils\\deprecation.py:87: FutureWarning: Function plot_precision_recall_curve is deprecated; Function `plot_precision_recall_curve` is deprecated in 1.0 and will be removed in 1.2. Use one of the class methods: PrecisionRecallDisplay.from_predictions or PrecisionRecallDisplay.from_estimator.\n",
      "  warnings.warn(msg, category=FutureWarning)\n"
     ]
    },
    {
     "data": {
      "text/plain": [
       "<sklearn.metrics._plot.precision_recall_curve.PrecisionRecallDisplay at 0x14b811ec250>"
      ]
     },
     "execution_count": 198,
     "metadata": {},
     "output_type": "execute_result"
    },
    {
     "data": {
      "image/png": "[encoded data removed]",
      "text/plain": [
       "<Figure size 432x288 with 1 Axes>"
      ]
     },
     "metadata": {
      "needs_background": "light"
     },
     "output_type": "display_data"
    }
   ],
   "source": [
    "metrics.plot_precision_recall_curve(grid_tf, test_vectorizered, y_test)\n"
   ]
  },
  {
   "cell_type": "code",
   "execution_count": 199,
   "id": "aa5f97bc",
   "metadata": {},
   "outputs": [],
   "source": [
    "# we have a average precesion of 0.86"
   ]
  },
  {
   "cell_type": "markdown",
   "id": "49f32e5c",
   "metadata": {},
   "source": [
    "A precision of 0.86 means that 86% of the positive predictions are correct. It measures the quality of the positive class predictions your model is making."
   ]
  },
  {
   "cell_type": "code",
   "execution_count": 52,
   "id": "39e7baff",
   "metadata": {},
   "outputs": [
    {
     "data": {
      "text/plain": [
       "10318    AmericanAir Also wait 2 hours speak someone phone cant wait 2 hours                                      \n",
       "881      united three people awesome working long hours easy say sorry Twitter help ppl EWR                       \n",
       "3237     united thanks rude customer service 3 hour delay really helped timing wise afternoon meetings Hello Delta\n",
       "7500     USAirways name Rett Cavan gofundme page going take last breath tonight airline cares money               \n",
       "7420     USAirways hire smarter people systems keep crashing instead mooks man airports goDelta                   \n",
       "                                                  ...                                                             \n",
       "4859     SouthwestAir Didnt see travel compete unused funds expiration date hidden fine print Never saw           \n",
       "919      united trying makechange reservations getting extremely frustrated Giving trying another airline         \n",
       "500      united completed form doubt use UA doesnt care 6 day vacation 5 Sure UA wont feel responsibility         \n",
       "4517     SouthwestAir LOVE IMAGINE DRAGONS MUCH EOULD DIE GOT TICKETS                                             \n",
       "5925     JetBlue someone info smh one bag came nothing                                                            \n",
       "Name: tokenized_tweet, Length: 6924, dtype: object"
      ]
     },
     "execution_count": 52,
     "metadata": {},
     "output_type": "execute_result"
    }
   ],
   "source": []
  },
  {
   "cell_type": "code",
   "execution_count": null,
   "id": "aa5dbd3b",
   "metadata": {},
   "outputs": [],
   "source": []
  }
 ],
 "metadata": {
  "kernelspec": {
   "display_name": "Python 3 (ipykernel)",
   "language": "python",
   "name": "python3"
  },
  "language_info": {
   "codemirror_mode": {
    "name": "ipython",
    "version": 3
   },
   "file_extension": ".py",
   "mimetype": "text/x-python",
   "name": "python",
   "nbconvert_exporter": "python",
   "pygments_lexer": "ipython3",
   "version": "3.9.12"
  }
 },
 "nbformat": 4,
 "nbformat_minor": 5
}
