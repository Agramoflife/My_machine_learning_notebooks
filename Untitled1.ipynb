{
 "cells": [
  {
   "cell_type": "markdown",
   "id": "38c585e0",
   "metadata": {},
   "source": [
    "# Recommender system"
   ]
  },
  {
   "cell_type": "code",
   "execution_count": null,
   "id": "4c224304",
   "metadata": {},
   "outputs": [],
   "source": [
    "consider a user to item matrix let items be the movies and the values in the matrix be the rating given by the user \n",
    "\n",
    "Now you find the cosine similarity between "
   ]
  }
 ],
 "metadata": {
  "kernelspec": {
   "display_name": "Python 3 (ipykernel)",
   "language": "python",
   "name": "python3"
  },
  "language_info": {
   "codemirror_mode": {
    "name": "ipython",
    "version": 3
   },
   "file_extension": ".py",
   "mimetype": "text/x-python",
   "name": "python",
   "nbconvert_exporter": "python",
   "pygments_lexer": "ipython3",
   "version": "3.9.12"
  }
 },
 "nbformat": 4,
 "nbformat_minor": 5
}
