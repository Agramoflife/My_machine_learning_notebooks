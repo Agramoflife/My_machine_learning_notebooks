{
 "cells": [
  {
   "cell_type": "code",
   "execution_count": 1,
   "id": "249c33c6",
   "metadata": {},
   "outputs": [
    {
     "data": {
      "text/plain": [
       "'C:\\\\Users\\\\Deepu\\\\Documents\\\\machine_learning'"
      ]
     },
     "execution_count": 1,
     "metadata": {},
     "output_type": "execute_result"
    }
   ],
   "source": [
    "pwd"
   ]
  },
  {
   "cell_type": "code",
   "execution_count": 3,
   "id": "3dcb2b86",
   "metadata": {
    "scrolled": true
   },
   "outputs": [
    {
     "name": "stdout",
     "output_type": "stream",
     "text": [
      "C:\\Users\\Deepu\\Desktop\n"
     ]
    }
   ],
   "source": [
    "cd C:\\\\Users\\\\Deepu\\\\Desktop"
   ]
  },
  {
   "cell_type": "code",
   "execution_count": 4,
   "id": "c935082d",
   "metadata": {},
   "outputs": [
    {
     "name": "stdout",
     "output_type": "stream",
     "text": [
      "C:\\Users\\Deepu\\Desktop\\New folder\n"
     ]
    }
   ],
   "source": [
    "cd C:\\Users\\Deepu\\Desktop\\New folder"
   ]
  },
  {
   "cell_type": "code",
   "execution_count": 5,
   "id": "764f58a4",
   "metadata": {},
   "outputs": [
    {
     "name": "stdout",
     "output_type": "stream",
     "text": [
      " Volume in drive C has no label.\n",
      " Volume Serial Number is 08CB-6401\n",
      "\n",
      " Directory of C:\\Users\\Deepu\\Desktop\\New folder\n",
      "\n",
      "10-12-2023  12:29    <DIR>          .\n",
      "10-12-2023  12:29    <DIR>          ..\n",
      "10-12-2023  16:35    <DIR>          MapUp-Data-Assessment-E-main\n",
      "10-12-2023  12:23         1,027,101 MapUp-Data-Assessment-E-main.zip\n",
      "10-12-2023  16:22    <DIR>          MapUp-Data-Assessment-F-main\n",
      "10-12-2023  12:23           512,056 MapUp-Data-Assessment-F-main.zip\n",
      "               2 File(s)      1,539,157 bytes\n",
      "               4 Dir(s)  68,582,055,936 bytes free\n"
     ]
    }
   ],
   "source": [
    "ls"
   ]
  },
  {
   "cell_type": "code",
   "execution_count": 9,
   "id": "af85dec9",
   "metadata": {},
   "outputs": [
    {
     "name": "stdout",
     "output_type": "stream",
     "text": [
      "C:\\Users\\Deepu\\Desktop\\New folder\\MapUp-Data-Assessment-E-main\\evaluation_data\\input\n"
     ]
    }
   ],
   "source": [
    "cd C:\\Users\\Deepu\\Desktop\\New folder\\MapUp-Data-Assessment-E-main\\evaluation_data\\input"
   ]
  },
  {
   "cell_type": "code",
   "execution_count": 10,
   "id": "bedb56a7",
   "metadata": {},
   "outputs": [
    {
     "data": {
      "text/plain": [
       "'C:\\\\Users\\\\Deepu\\\\Desktop\\\\New folder\\\\MapUp-Data-Assessment-E-main\\\\evaluation_data\\\\input'"
      ]
     },
     "execution_count": 10,
     "metadata": {},
     "output_type": "execute_result"
    }
   ],
   "source": [
    "pwd"
   ]
  },
  {
   "cell_type": "code",
   "execution_count": 11,
   "id": "f774f2e2",
   "metadata": {},
   "outputs": [],
   "source": [
    "import pandas as pd"
   ]
  },
  {
   "cell_type": "code",
   "execution_count": 14,
   "id": "dcb3550c",
   "metadata": {},
   "outputs": [],
   "source": [
    "df=pd.read_parquet('raw_data.parquet')"
   ]
  },
  {
   "cell_type": "code",
   "execution_count": 16,
   "id": "627dca92",
   "metadata": {},
   "outputs": [
    {
     "data": {
      "text/plain": [
       "(73472, 4)"
      ]
     },
     "execution_count": 16,
     "metadata": {},
     "output_type": "execute_result"
    }
   ],
   "source": [
    "df.shape"
   ]
  },
  {
   "cell_type": "code",
   "execution_count": 17,
   "id": "3cdee017",
   "metadata": {},
   "outputs": [
    {
     "name": "stdout",
     "output_type": "stream",
     "text": [
      "<class 'pandas.core.frame.DataFrame'>\n",
      "RangeIndex: 73472 entries, 0 to 73471\n",
      "Data columns (total 4 columns):\n",
      " #   Column     Non-Null Count  Dtype  \n",
      "---  ------     --------------  -----  \n",
      " 0   latitude   73472 non-null  float64\n",
      " 1   longitude  73472 non-null  float64\n",
      " 2   timestamp  73472 non-null  object \n",
      " 3   unit       73472 non-null  int64  \n",
      "dtypes: float64(2), int64(1), object(1)\n",
      "memory usage: 2.2+ MB\n"
     ]
    }
   ],
   "source": [
    "df.info()"
   ]
  },
  {
   "cell_type": "code",
   "execution_count": 22,
   "id": "9cf3df61",
   "metadata": {},
   "outputs": [
    {
     "data": {
      "text/html": [
       "<div>\n",
       "<style scoped>\n",
       "    .dataframe tbody tr th:only-of-type {\n",
       "        vertical-align: middle;\n",
       "    }\n",
       "\n",
       "    .dataframe tbody tr th {\n",
       "        vertical-align: top;\n",
       "    }\n",
       "\n",
       "    .dataframe thead th {\n",
       "        text-align: right;\n",
       "    }\n",
       "</style>\n",
       "<table border=\"1\" class=\"dataframe\">\n",
       "  <thead>\n",
       "    <tr style=\"text-align: right;\">\n",
       "      <th></th>\n",
       "      <th>latitude</th>\n",
       "      <th>longitude</th>\n",
       "      <th>timestamp</th>\n",
       "      <th>unit</th>\n",
       "    </tr>\n",
       "  </thead>\n",
       "  <tbody>\n",
       "    <tr>\n",
       "      <th>0</th>\n",
       "      <td>40.23426</td>\n",
       "      <td>-77.13796</td>\n",
       "      <td>2023-12-05T23:13:40Z</td>\n",
       "      <td>1000</td>\n",
       "    </tr>\n",
       "    <tr>\n",
       "      <th>1</th>\n",
       "      <td>40.23422</td>\n",
       "      <td>-77.13796</td>\n",
       "      <td>2023-12-05T23:13:40Z</td>\n",
       "      <td>1000</td>\n",
       "    </tr>\n",
       "    <tr>\n",
       "      <th>2</th>\n",
       "      <td>40.23419</td>\n",
       "      <td>-77.13795</td>\n",
       "      <td>2023-12-05T23:13:40Z</td>\n",
       "      <td>1000</td>\n",
       "    </tr>\n",
       "    <tr>\n",
       "      <th>3</th>\n",
       "      <td>40.23412</td>\n",
       "      <td>-77.13792</td>\n",
       "      <td>2023-12-05T23:13:40Z</td>\n",
       "      <td>1000</td>\n",
       "    </tr>\n",
       "    <tr>\n",
       "      <th>4</th>\n",
       "      <td>40.23412</td>\n",
       "      <td>-77.13792</td>\n",
       "      <td>2023-12-05T23:13:40Z</td>\n",
       "      <td>1000</td>\n",
       "    </tr>\n",
       "    <tr>\n",
       "      <th>5</th>\n",
       "      <td>40.23408</td>\n",
       "      <td>-77.13810</td>\n",
       "      <td>2023-12-05T23:13:41Z</td>\n",
       "      <td>1000</td>\n",
       "    </tr>\n",
       "    <tr>\n",
       "      <th>6</th>\n",
       "      <td>40.23401</td>\n",
       "      <td>-77.13836</td>\n",
       "      <td>2023-12-05T23:13:43Z</td>\n",
       "      <td>1000</td>\n",
       "    </tr>\n",
       "    <tr>\n",
       "      <th>7</th>\n",
       "      <td>40.23393</td>\n",
       "      <td>-77.13869</td>\n",
       "      <td>2023-12-05T23:13:45Z</td>\n",
       "      <td>1000</td>\n",
       "    </tr>\n",
       "    <tr>\n",
       "      <th>8</th>\n",
       "      <td>40.23391</td>\n",
       "      <td>-77.13879</td>\n",
       "      <td>2023-12-05T23:13:45Z</td>\n",
       "      <td>1000</td>\n",
       "    </tr>\n",
       "    <tr>\n",
       "      <th>9</th>\n",
       "      <td>40.23391</td>\n",
       "      <td>-77.13879</td>\n",
       "      <td>2023-12-05T23:13:45Z</td>\n",
       "      <td>1000</td>\n",
       "    </tr>\n",
       "  </tbody>\n",
       "</table>\n",
       "</div>"
      ],
      "text/plain": [
       "   latitude  longitude             timestamp  unit\n",
       "0  40.23426  -77.13796  2023-12-05T23:13:40Z  1000\n",
       "1  40.23422  -77.13796  2023-12-05T23:13:40Z  1000\n",
       "2  40.23419  -77.13795  2023-12-05T23:13:40Z  1000\n",
       "3  40.23412  -77.13792  2023-12-05T23:13:40Z  1000\n",
       "4  40.23412  -77.13792  2023-12-05T23:13:40Z  1000\n",
       "5  40.23408  -77.13810  2023-12-05T23:13:41Z  1000\n",
       "6  40.23401  -77.13836  2023-12-05T23:13:43Z  1000\n",
       "7  40.23393  -77.13869  2023-12-05T23:13:45Z  1000\n",
       "8  40.23391  -77.13879  2023-12-05T23:13:45Z  1000\n",
       "9  40.23391  -77.13879  2023-12-05T23:13:45Z  1000"
      ]
     },
     "execution_count": 22,
     "metadata": {},
     "output_type": "execute_result"
    }
   ],
   "source": [
    "df.head(10)"
   ]
  },
  {
   "cell_type": "code",
   "execution_count": 30,
   "id": "147d15e2",
   "metadata": {},
   "outputs": [],
   "source": [
    "df['timestamp'] = pd.to_datetime(df['timestamp'])\n",
    "df['time_diff'] = (df['timestamp'] - df['timestamp'].shift()).fillna(pd.Timedelta(seconds=0))\n",
    "df['trip_id'] = (df['time_diff'] > pd.Timedelta(hours=7)).cumsum()\n"
   ]
  },
  {
   "cell_type": "code",
   "execution_count": 41,
   "id": "3bac67da",
   "metadata": {},
   "outputs": [
    {
     "data": {
      "text/html": [
       "<div>\n",
       "<style scoped>\n",
       "    .dataframe tbody tr th:only-of-type {\n",
       "        vertical-align: middle;\n",
       "    }\n",
       "\n",
       "    .dataframe tbody tr th {\n",
       "        vertical-align: top;\n",
       "    }\n",
       "\n",
       "    .dataframe thead th {\n",
       "        text-align: right;\n",
       "    }\n",
       "</style>\n",
       "<table border=\"1\" class=\"dataframe\">\n",
       "  <thead>\n",
       "    <tr style=\"text-align: right;\">\n",
       "      <th></th>\n",
       "      <th>latitude</th>\n",
       "      <th>longitude</th>\n",
       "      <th>timestamp</th>\n",
       "      <th>unit</th>\n",
       "      <th>time_diff</th>\n",
       "      <th>trip_id</th>\n",
       "    </tr>\n",
       "  </thead>\n",
       "  <tbody>\n",
       "    <tr>\n",
       "      <th>0</th>\n",
       "      <td>40.23426</td>\n",
       "      <td>-77.13796</td>\n",
       "      <td>2023-12-05 23:13:40+00:00</td>\n",
       "      <td>1000</td>\n",
       "      <td>0 days 00:00:00</td>\n",
       "      <td>0</td>\n",
       "    </tr>\n",
       "    <tr>\n",
       "      <th>1</th>\n",
       "      <td>40.23422</td>\n",
       "      <td>-77.13796</td>\n",
       "      <td>2023-12-05 23:13:40+00:00</td>\n",
       "      <td>1000</td>\n",
       "      <td>0 days 00:00:00</td>\n",
       "      <td>0</td>\n",
       "    </tr>\n",
       "    <tr>\n",
       "      <th>2</th>\n",
       "      <td>40.23419</td>\n",
       "      <td>-77.13795</td>\n",
       "      <td>2023-12-05 23:13:40+00:00</td>\n",
       "      <td>1000</td>\n",
       "      <td>0 days 00:00:00</td>\n",
       "      <td>0</td>\n",
       "    </tr>\n",
       "    <tr>\n",
       "      <th>3</th>\n",
       "      <td>40.23412</td>\n",
       "      <td>-77.13792</td>\n",
       "      <td>2023-12-05 23:13:40+00:00</td>\n",
       "      <td>1000</td>\n",
       "      <td>0 days 00:00:00</td>\n",
       "      <td>0</td>\n",
       "    </tr>\n",
       "    <tr>\n",
       "      <th>4</th>\n",
       "      <td>40.23412</td>\n",
       "      <td>-77.13792</td>\n",
       "      <td>2023-12-05 23:13:40+00:00</td>\n",
       "      <td>1000</td>\n",
       "      <td>0 days 00:00:00</td>\n",
       "      <td>0</td>\n",
       "    </tr>\n",
       "    <tr>\n",
       "      <th>...</th>\n",
       "      <td>...</td>\n",
       "      <td>...</td>\n",
       "      <td>...</td>\n",
       "      <td>...</td>\n",
       "      <td>...</td>\n",
       "      <td>...</td>\n",
       "    </tr>\n",
       "    <tr>\n",
       "      <th>73467</th>\n",
       "      <td>42.98914</td>\n",
       "      <td>-74.40199</td>\n",
       "      <td>2023-12-11 02:50:02+00:00</td>\n",
       "      <td>2000</td>\n",
       "      <td>0 days 00:00:01</td>\n",
       "      <td>6</td>\n",
       "    </tr>\n",
       "    <tr>\n",
       "      <th>73468</th>\n",
       "      <td>42.98919</td>\n",
       "      <td>-74.40328</td>\n",
       "      <td>2023-12-11 02:50:09+00:00</td>\n",
       "      <td>2000</td>\n",
       "      <td>0 days 00:00:07</td>\n",
       "      <td>6</td>\n",
       "    </tr>\n",
       "    <tr>\n",
       "      <th>73469</th>\n",
       "      <td>42.98919</td>\n",
       "      <td>-74.40328</td>\n",
       "      <td>2023-12-11 02:50:09+00:00</td>\n",
       "      <td>2000</td>\n",
       "      <td>0 days 00:00:00</td>\n",
       "      <td>6</td>\n",
       "    </tr>\n",
       "    <tr>\n",
       "      <th>73470</th>\n",
       "      <td>42.98919</td>\n",
       "      <td>-74.40328</td>\n",
       "      <td>2023-12-11 02:50:09+00:00</td>\n",
       "      <td>2000</td>\n",
       "      <td>0 days 00:00:00</td>\n",
       "      <td>6</td>\n",
       "    </tr>\n",
       "    <tr>\n",
       "      <th>73471</th>\n",
       "      <td>42.98919</td>\n",
       "      <td>-74.40332</td>\n",
       "      <td>2023-12-11 02:50:09+00:00</td>\n",
       "      <td>2000</td>\n",
       "      <td>0 days 00:00:00</td>\n",
       "      <td>6</td>\n",
       "    </tr>\n",
       "  </tbody>\n",
       "</table>\n",
       "<p>73472 rows × 6 columns</p>\n",
       "</div>"
      ],
      "text/plain": [
       "       latitude  longitude                 timestamp  unit       time_diff  \\\n",
       "0      40.23426  -77.13796 2023-12-05 23:13:40+00:00  1000 0 days 00:00:00   \n",
       "1      40.23422  -77.13796 2023-12-05 23:13:40+00:00  1000 0 days 00:00:00   \n",
       "2      40.23419  -77.13795 2023-12-05 23:13:40+00:00  1000 0 days 00:00:00   \n",
       "3      40.23412  -77.13792 2023-12-05 23:13:40+00:00  1000 0 days 00:00:00   \n",
       "4      40.23412  -77.13792 2023-12-05 23:13:40+00:00  1000 0 days 00:00:00   \n",
       "...         ...        ...                       ...   ...             ...   \n",
       "73467  42.98914  -74.40199 2023-12-11 02:50:02+00:00  2000 0 days 00:00:01   \n",
       "73468  42.98919  -74.40328 2023-12-11 02:50:09+00:00  2000 0 days 00:00:07   \n",
       "73469  42.98919  -74.40328 2023-12-11 02:50:09+00:00  2000 0 days 00:00:00   \n",
       "73470  42.98919  -74.40328 2023-12-11 02:50:09+00:00  2000 0 days 00:00:00   \n",
       "73471  42.98919  -74.40332 2023-12-11 02:50:09+00:00  2000 0 days 00:00:00   \n",
       "\n",
       "       trip_id  \n",
       "0            0  \n",
       "1            0  \n",
       "2            0  \n",
       "3            0  \n",
       "4            0  \n",
       "...        ...  \n",
       "73467        6  \n",
       "73468        6  \n",
       "73469        6  \n",
       "73470        6  \n",
       "73471        6  \n",
       "\n",
       "[73472 rows x 6 columns]"
      ]
     },
     "execution_count": 41,
     "metadata": {},
     "output_type": "execute_result"
    }
   ],
   "source": [
    "df"
   ]
  },
  {
   "cell_type": "code",
   "execution_count": 42,
   "id": "d38a0557",
   "metadata": {},
   "outputs": [
    {
     "data": {
      "text/plain": [
       "'C:\\\\Users\\\\Deepu\\\\Desktop\\\\New folder\\\\MapUp-Data-Assessment-E-main\\\\evaluation_data\\\\input'"
      ]
     },
     "execution_count": 42,
     "metadata": {},
     "output_type": "execute_result"
    }
   ],
   "source": [
    "pwd"
   ]
  },
  {
   "cell_type": "code",
   "execution_count": 43,
   "id": "88f799d5",
   "metadata": {},
   "outputs": [],
   "source": [
    "output_dir = 'C:\\\\Users\\\\Deepu\\\\Desktop\\\\New folder\\\\MapUp-Data-Assessment-E-main\\\\evaluation_data\\\\input'\n",
    "\n",
    "for trip_id, group in df.groupby('trip_id'):\n",
    "    trip_filename = f\"{group['unit'].iloc[0]}_{trip_id}.csv\"\n",
    "    trip_filepath = f\"{output_dir}/{trip_filename}\"\n",
    "    group[['latitude', 'longitude', 'timestamp']].to_csv(trip_filepath, index=False)\n"
   ]
  },
  {
   "cell_type": "code",
   "execution_count": 104,
   "id": "66df823d",
   "metadata": {},
   "outputs": [],
   "source": [
    "import requests\n",
    "import os\n",
    "\n",
    "# Set your API key and URL directly (replace 'YOUR_API_KEY' and 'YOUR_API_URL' with your actual key and URL)\n",
    "api_key = 'nGLLQPbn4bNBGHHt6tJh9Bt8TmQmffjT'\n",
    "api_url = 'https://apis.tollguru.com/toll/v2/gps-tracks-csv-upload?mapProvider=osrm'\n",
    "\n",
    "url = f'{api_url}/gps-tracks-csv-upload?mapProvider=osrm&vehicleType=5AxlesTruck'\n",
    "headers = {'x-api-key': api_key, 'Content-Type': 'text/csv'}\n",
    "\n",
    "# Assuming you have the CSV file path stored in the variable 'csv_file_path'\n",
    "csv_file_path =  'test_file.csv'\n",
    "with open(csv_file_path, 'rb') as file:\n",
    "    response = requests.post(url, data=file, headers=headers)\n"
   ]
  },
  {
   "cell_type": "code",
   "execution_count": 103,
   "id": "a194c9e8",
   "metadata": {},
   "outputs": [
    {
     "data": {
      "text/plain": [
       "'{\"status\":400,\"code\":\"INPUT_ERROR\",\"value\":\"Invalid timestamp format; expected one of [2006-01-02T15:04:05Z07:00, 2006-01-02T15:04:05]; current format: 2023-12-08T01:16:38Z+0000\"}'"
      ]
     },
     "execution_count": 103,
     "metadata": {},
     "output_type": "execute_result"
    }
   ],
   "source": [
    "response.text"
   ]
  },
  {
   "cell_type": "code",
   "execution_count": 85,
   "id": "ecaed3d2",
   "metadata": {},
   "outputs": [],
   "source": [
    "response = requests.post(url,headers=headers)"
   ]
  },
  {
   "cell_type": "code",
   "execution_count": 86,
   "id": "fdcf476e",
   "metadata": {},
   "outputs": [
    {
     "data": {
      "text/plain": [
       "<Response [403]>"
      ]
     },
     "execution_count": 86,
     "metadata": {},
     "output_type": "execute_result"
    }
   ],
   "source": [
    "response"
   ]
  },
  {
   "cell_type": "code",
   "execution_count": 61,
   "id": "1f5e1435",
   "metadata": {},
   "outputs": [
    {
     "data": {
      "text/plain": [
       "'C:\\\\Users\\\\Deepu\\\\Desktop\\\\New folder\\\\MapUp-Data-Assessment-E-main\\\\evaluation_data\\\\input'"
      ]
     },
     "execution_count": 61,
     "metadata": {},
     "output_type": "execute_result"
    }
   ],
   "source": [
    "pwd"
   ]
  },
  {
   "cell_type": "code",
   "execution_count": 63,
   "id": "00e5e633",
   "metadata": {},
   "outputs": [
    {
     "name": "stdout",
     "output_type": "stream",
     "text": [
      " Volume in drive C has no label.\n",
      " Volume Serial Number is 08CB-6401\n",
      "\n",
      " Directory of C:\\Users\\Deepu\\Desktop\\New folder\\MapUp-Data-Assessment-E-main\\evaluation_data\\input\n",
      "\n",
      "10-12-2023  18:09    <DIR>          .\n",
      "10-12-2023  18:09    <DIR>          ..\n",
      "10-12-2023  18:09           670,276 1000_0.csv\n",
      "10-12-2023  18:09           562,190 1000_1.csv\n",
      "10-12-2023  18:09           725,608 1000_2.csv\n",
      "10-12-2023  18:09           170,406 1000_3.csv\n",
      "10-12-2023  18:09           563,147 2000_4.csv\n",
      "10-12-2023  18:09           158,462 2000_5.csv\n",
      "10-12-2023  18:09           513,192 2000_6.csv\n",
      "08-12-2023  14:11         1,220,303 raw_data.parquet\n",
      "               8 File(s)      4,583,584 bytes\n",
      "               2 Dir(s)  67,632,099,328 bytes free\n"
     ]
    }
   ],
   "source": [
    "ls"
   ]
  },
  {
   "cell_type": "code",
   "execution_count": 69,
   "id": "bf629a3a",
   "metadata": {},
   "outputs": [
    {
     "data": {
      "text/plain": [
       "'C:\\\\Users\\\\Deepu\\\\Desktop\\\\New folder\\\\MapUp-Data-Assessment-E-main\\\\evaluation_data\\\\input'"
      ]
     },
     "execution_count": 69,
     "metadata": {},
     "output_type": "execute_result"
    }
   ],
   "source": [
    "pwd"
   ]
  },
  {
   "cell_type": "code",
   "execution_count": 70,
   "id": "990cb06d",
   "metadata": {},
   "outputs": [
    {
     "name": "stdout",
     "output_type": "stream",
     "text": [
      "C:\\Users\\Deepu\\Desktop\\New folder\n"
     ]
    }
   ],
   "source": [
    "cd C:\\\\Users\\\\Deepu\\\\Desktop\\\\New folder\n"
   ]
  },
  {
   "cell_type": "code",
   "execution_count": 76,
   "id": "bfec9f0d",
   "metadata": {},
   "outputs": [
    {
     "data": {
      "text/plain": [
       "'C:\\\\Users\\\\Deepu\\\\Desktop\\\\New folder\\\\filez'"
      ]
     },
     "execution_count": 76,
     "metadata": {},
     "output_type": "execute_result"
    }
   ],
   "source": [
    "pwd"
   ]
  },
  {
   "cell_type": "code",
   "execution_count": 77,
   "id": "0f47dc8b",
   "metadata": {},
   "outputs": [
    {
     "name": "stdout",
     "output_type": "stream",
     "text": [
      " Volume in drive C has no label.\n",
      " Volume Serial Number is 08CB-6401\n",
      "\n",
      " Directory of C:\\Users\\Deepu\\Desktop\\New folder\\filez\n",
      "\n",
      "10-12-2023  18:39    <DIR>          .\n",
      "10-12-2023  18:39    <DIR>          ..\n",
      "10-12-2023  18:09           670,276 1000_0.csv\n",
      "10-12-2023  18:09           562,190 1000_1.csv\n",
      "10-12-2023  18:09           725,608 1000_2.csv\n",
      "10-12-2023  18:09           170,406 1000_3.csv\n",
      "10-12-2023  18:09           563,147 2000_4.csv\n",
      "10-12-2023  18:09           158,462 2000_5.csv\n",
      "10-12-2023  18:09           513,192 2000_6.csv\n",
      "               7 File(s)      3,363,281 bytes\n",
      "               2 Dir(s)  67,625,230,336 bytes free\n"
     ]
    }
   ],
   "source": [
    "ls"
   ]
  },
  {
   "cell_type": "code",
   "execution_count": 91,
   "id": "5c1c7954",
   "metadata": {},
   "outputs": [
    {
     "data": {
      "text/plain": [
       "'C:\\\\Users\\\\Deepu\\\\Desktop\\\\New folder\\\\filez'"
      ]
     },
     "execution_count": 91,
     "metadata": {},
     "output_type": "execute_result"
    }
   ],
   "source": [
    "pwd"
   ]
  },
  {
   "cell_type": "code",
   "execution_count": 94,
   "id": "4a3a1aba",
   "metadata": {},
   "outputs": [],
   "source": [
    "fl = pd.read_csv('1000_1.csv')"
   ]
  },
  {
   "cell_type": "code",
   "execution_count": 95,
   "id": "6613add8",
   "metadata": {},
   "outputs": [
    {
     "data": {
      "text/html": [
       "<div>\n",
       "<style scoped>\n",
       "    .dataframe tbody tr th:only-of-type {\n",
       "        vertical-align: middle;\n",
       "    }\n",
       "\n",
       "    .dataframe tbody tr th {\n",
       "        vertical-align: top;\n",
       "    }\n",
       "\n",
       "    .dataframe thead th {\n",
       "        text-align: right;\n",
       "    }\n",
       "</style>\n",
       "<table border=\"1\" class=\"dataframe\">\n",
       "  <thead>\n",
       "    <tr style=\"text-align: right;\">\n",
       "      <th></th>\n",
       "      <th>latitude</th>\n",
       "      <th>longitude</th>\n",
       "      <th>timestamp</th>\n",
       "    </tr>\n",
       "  </thead>\n",
       "  <tbody>\n",
       "    <tr>\n",
       "      <th>0</th>\n",
       "      <td>40.17010</td>\n",
       "      <td>-79.73264</td>\n",
       "      <td>2023-12-08 01:16:38+00:00</td>\n",
       "    </tr>\n",
       "    <tr>\n",
       "      <th>1</th>\n",
       "      <td>40.16999</td>\n",
       "      <td>-79.73276</td>\n",
       "      <td>2023-12-08 01:16:38+00:00</td>\n",
       "    </tr>\n",
       "    <tr>\n",
       "      <th>2</th>\n",
       "      <td>40.16999</td>\n",
       "      <td>-79.73276</td>\n",
       "      <td>2023-12-08 01:16:38+00:00</td>\n",
       "    </tr>\n",
       "    <tr>\n",
       "      <th>3</th>\n",
       "      <td>40.16999</td>\n",
       "      <td>-79.73276</td>\n",
       "      <td>2023-12-08 01:16:38+00:00</td>\n",
       "    </tr>\n",
       "    <tr>\n",
       "      <th>4</th>\n",
       "      <td>40.16996</td>\n",
       "      <td>-79.73280</td>\n",
       "      <td>2023-12-08 01:16:39+00:00</td>\n",
       "    </tr>\n",
       "    <tr>\n",
       "      <th>...</th>\n",
       "      <td>...</td>\n",
       "      <td>...</td>\n",
       "      <td>...</td>\n",
       "    </tr>\n",
       "    <tr>\n",
       "      <th>12275</th>\n",
       "      <td>40.59526</td>\n",
       "      <td>-74.26294</td>\n",
       "      <td>2023-12-05 15:13:38+00:00</td>\n",
       "    </tr>\n",
       "    <tr>\n",
       "      <th>12276</th>\n",
       "      <td>40.59506</td>\n",
       "      <td>-74.26287</td>\n",
       "      <td>2023-12-05 15:13:40+00:00</td>\n",
       "    </tr>\n",
       "    <tr>\n",
       "      <th>12277</th>\n",
       "      <td>40.59506</td>\n",
       "      <td>-74.26287</td>\n",
       "      <td>2023-12-05 15:13:40+00:00</td>\n",
       "    </tr>\n",
       "    <tr>\n",
       "      <th>12278</th>\n",
       "      <td>40.59506</td>\n",
       "      <td>-74.26287</td>\n",
       "      <td>2023-12-05 15:13:40+00:00</td>\n",
       "    </tr>\n",
       "    <tr>\n",
       "      <th>12279</th>\n",
       "      <td>40.59506</td>\n",
       "      <td>-74.26287</td>\n",
       "      <td>2023-12-05 15:13:40+00:00</td>\n",
       "    </tr>\n",
       "  </tbody>\n",
       "</table>\n",
       "<p>12280 rows × 3 columns</p>\n",
       "</div>"
      ],
      "text/plain": [
       "       latitude  longitude                  timestamp\n",
       "0      40.17010  -79.73264  2023-12-08 01:16:38+00:00\n",
       "1      40.16999  -79.73276  2023-12-08 01:16:38+00:00\n",
       "2      40.16999  -79.73276  2023-12-08 01:16:38+00:00\n",
       "3      40.16999  -79.73276  2023-12-08 01:16:38+00:00\n",
       "4      40.16996  -79.73280  2023-12-08 01:16:39+00:00\n",
       "...         ...        ...                        ...\n",
       "12275  40.59526  -74.26294  2023-12-05 15:13:38+00:00\n",
       "12276  40.59506  -74.26287  2023-12-05 15:13:40+00:00\n",
       "12277  40.59506  -74.26287  2023-12-05 15:13:40+00:00\n",
       "12278  40.59506  -74.26287  2023-12-05 15:13:40+00:00\n",
       "12279  40.59506  -74.26287  2023-12-05 15:13:40+00:00\n",
       "\n",
       "[12280 rows x 3 columns]"
      ]
     },
     "execution_count": 95,
     "metadata": {},
     "output_type": "execute_result"
    }
   ],
   "source": [
    "fl"
   ]
  },
  {
   "cell_type": "code",
   "execution_count": 96,
   "id": "a9567045",
   "metadata": {},
   "outputs": [
    {
     "name": "stdout",
     "output_type": "stream",
     "text": [
      "Original Timestamp: 2023-12-08 01:16:38+00:00\n",
      "Formatted Timestamp: 2023-12-08T01:16:38Z+0000\n"
     ]
    }
   ],
   "source": [
    "from datetime import datetime, timezone\n",
    "\n",
    "# Sample timestamp from your CSV file\n",
    "original_timestamp = \"2023-12-08 01:16:38+00:00\"\n",
    "\n",
    "# Convert the timestamp to a datetime object\n",
    "dt_object = datetime.strptime(original_timestamp, \"%Y-%m-%d %H:%M:%S%z\")\n",
    "\n",
    "# Format the datetime object to the expected TollGuru API format\n",
    "formatted_timestamp = dt_object.strftime(\"%Y-%m-%dT%H:%M:%SZ%z\")\n",
    "\n",
    "print(\"Original Timestamp:\", original_timestamp)\n",
    "print(\"Formatted Timestamp:\", formatted_timestamp)\n"
   ]
  },
  {
   "cell_type": "code",
   "execution_count": 97,
   "id": "98c66e7a",
   "metadata": {},
   "outputs": [
    {
     "name": "stdout",
     "output_type": "stream",
     "text": [
      "       latitude  longitude                  timestamp\n",
      "0      40.17010  -79.73264  2023-12-08T01:16:38Z+0000\n",
      "1      40.16999  -79.73276  2023-12-08T01:16:38Z+0000\n",
      "2      40.16999  -79.73276  2023-12-08T01:16:38Z+0000\n",
      "3      40.16999  -79.73276  2023-12-08T01:16:38Z+0000\n",
      "4      40.16996  -79.73280  2023-12-08T01:16:39Z+0000\n",
      "...         ...        ...                        ...\n",
      "12275  40.59526  -74.26294  2023-12-05T15:13:38Z+0000\n",
      "12276  40.59506  -74.26287  2023-12-05T15:13:40Z+0000\n",
      "12277  40.59506  -74.26287  2023-12-05T15:13:40Z+0000\n",
      "12278  40.59506  -74.26287  2023-12-05T15:13:40Z+0000\n",
      "12279  40.59506  -74.26287  2023-12-05T15:13:40Z+0000\n",
      "\n",
      "[12280 rows x 3 columns]\n"
     ]
    }
   ],
   "source": [
    "fl['timestamp'] = pd.to_datetime(fl['timestamp'], utc=True)\n",
    "\n",
    "# Format the 'timestamp' column to the expected TollGuru API format\n",
    "fl['timestamp'] = fl['timestamp'].dt.strftime(\"%Y-%m-%dT%H:%M:%SZ%z\")\n",
    "\n",
    "# Print the updated DataFrame\n",
    "print(fl)"
   ]
  },
  {
   "cell_type": "code",
   "execution_count": 98,
   "id": "056935f0",
   "metadata": {},
   "outputs": [],
   "source": [
    "# Save the DataFrame to a new CSV file\n",
    "fl.to_csv('test_file.csv', index=False)\n"
   ]
  },
  {
   "cell_type": "code",
   "execution_count": null,
   "id": "2df10127",
   "metadata": {},
   "outputs": [],
   "source": []
  }
 ],
 "metadata": {
  "kernelspec": {
   "display_name": "Python 3 (ipykernel)",
   "language": "python",
   "name": "python3"
  },
  "language_info": {
   "codemirror_mode": {
    "name": "ipython",
    "version": 3
   },
   "file_extension": ".py",
   "mimetype": "text/x-python",
   "name": "python",
   "nbconvert_exporter": "python",
   "pygments_lexer": "ipython3",
   "version": "3.9.12"
  }
 },
 "nbformat": 4,
 "nbformat_minor": 5
}
