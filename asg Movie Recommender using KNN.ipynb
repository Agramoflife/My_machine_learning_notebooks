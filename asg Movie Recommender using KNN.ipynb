{
 "cells": [
  {
   "cell_type": "markdown",
   "id": "ffcfb434",
   "metadata": {},
   "source": [
    "# Movie recommender using KNN"
   ]
  },
  {
   "cell_type": "code",
   "execution_count": 53,
   "id": "cda7d608",
   "metadata": {},
   "outputs": [
    {
     "data": {
      "text/plain": [
       "'C:\\\\Users\\\\Deepu\\\\Downloads'"
      ]
     },
     "execution_count": 53,
     "metadata": {},
     "output_type": "execute_result"
    }
   ],
   "source": [
    "pwd"
   ]
  },
  {
   "cell_type": "code",
   "execution_count": 54,
   "id": "c66b62ef",
   "metadata": {},
   "outputs": [
    {
     "name": "stdout",
     "output_type": "stream",
     "text": [
      "C:\\Users\\Deepu\\Downloads\n"
     ]
    }
   ],
   "source": [
    "cd C:\\\\Users\\\\Deepu\\\\Downloads"
   ]
  },
  {
   "cell_type": "code",
   "execution_count": 55,
   "id": "d44990b5",
   "metadata": {},
   "outputs": [],
   "source": [
    "import pandas as pd\n",
    "import numpy as np\n",
    "import matplotlib.pyplot as plt\n",
    "import seaborn as sns "
   ]
  },
  {
   "cell_type": "code",
   "execution_count": 56,
   "id": "9c6dd65f",
   "metadata": {},
   "outputs": [],
   "source": [
    "df = pd.read_csv('imdb_data.csv')"
   ]
  },
  {
   "cell_type": "code",
   "execution_count": null,
   "id": "af74ed4e",
   "metadata": {},
   "outputs": [],
   "source": []
  },
  {
   "cell_type": "code",
   "execution_count": 57,
   "id": "f03c4f53",
   "metadata": {},
   "outputs": [
    {
     "data": {
      "text/html": [
       "<div>\n",
       "<style scoped>\n",
       "    .dataframe tbody tr th:only-of-type {\n",
       "        vertical-align: middle;\n",
       "    }\n",
       "\n",
       "    .dataframe tbody tr th {\n",
       "        vertical-align: top;\n",
       "    }\n",
       "\n",
       "    .dataframe thead th {\n",
       "        text-align: right;\n",
       "    }\n",
       "</style>\n",
       "<table border=\"1\" class=\"dataframe\">\n",
       "  <thead>\n",
       "    <tr style=\"text-align: right;\">\n",
       "      <th></th>\n",
       "      <th>id</th>\n",
       "      <th>belongs_to_collection</th>\n",
       "      <th>budget</th>\n",
       "      <th>genres</th>\n",
       "      <th>homepage</th>\n",
       "      <th>imdb_id</th>\n",
       "      <th>original_language</th>\n",
       "      <th>original_title</th>\n",
       "      <th>overview</th>\n",
       "      <th>popularity</th>\n",
       "      <th>...</th>\n",
       "      <th>release_date</th>\n",
       "      <th>runtime</th>\n",
       "      <th>spoken_languages</th>\n",
       "      <th>status</th>\n",
       "      <th>tagline</th>\n",
       "      <th>title</th>\n",
       "      <th>Keywords</th>\n",
       "      <th>cast</th>\n",
       "      <th>crew</th>\n",
       "      <th>revenue</th>\n",
       "    </tr>\n",
       "  </thead>\n",
       "  <tbody>\n",
       "    <tr>\n",
       "      <th>0</th>\n",
       "      <td>1</td>\n",
       "      <td>[{'id': 313576, 'name': 'Hot Tub Time Machine ...</td>\n",
       "      <td>14000000</td>\n",
       "      <td>[{'id': 35, 'name': 'Comedy'}]</td>\n",
       "      <td>NaN</td>\n",
       "      <td>tt2637294</td>\n",
       "      <td>en</td>\n",
       "      <td>Hot Tub Time Machine 2</td>\n",
       "      <td>When Lou, who has become the \"father of the In...</td>\n",
       "      <td>6.575393</td>\n",
       "      <td>...</td>\n",
       "      <td>2/20/15</td>\n",
       "      <td>93.0</td>\n",
       "      <td>[{'iso_639_1': 'en', 'name': 'English'}]</td>\n",
       "      <td>Released</td>\n",
       "      <td>The Laws of Space and Time are About to be Vio...</td>\n",
       "      <td>Hot Tub Time Machine 2</td>\n",
       "      <td>[{'id': 4379, 'name': 'time travel'}, {'id': 9...</td>\n",
       "      <td>[{'cast_id': 4, 'character': 'Lou', 'credit_id...</td>\n",
       "      <td>[{'credit_id': '59ac067c92514107af02c8c8', 'de...</td>\n",
       "      <td>12314651</td>\n",
       "    </tr>\n",
       "    <tr>\n",
       "      <th>1</th>\n",
       "      <td>2</td>\n",
       "      <td>[{'id': 107674, 'name': 'The Princess Diaries ...</td>\n",
       "      <td>40000000</td>\n",
       "      <td>[{'id': 35, 'name': 'Comedy'}, {'id': 18, 'nam...</td>\n",
       "      <td>NaN</td>\n",
       "      <td>tt0368933</td>\n",
       "      <td>en</td>\n",
       "      <td>The Princess Diaries 2: Royal Engagement</td>\n",
       "      <td>Mia Thermopolis is now a college graduate and ...</td>\n",
       "      <td>8.248895</td>\n",
       "      <td>...</td>\n",
       "      <td>8/6/04</td>\n",
       "      <td>113.0</td>\n",
       "      <td>[{'iso_639_1': 'en', 'name': 'English'}]</td>\n",
       "      <td>Released</td>\n",
       "      <td>It can take a lifetime to find true love; she'...</td>\n",
       "      <td>The Princess Diaries 2: Royal Engagement</td>\n",
       "      <td>[{'id': 2505, 'name': 'coronation'}, {'id': 42...</td>\n",
       "      <td>[{'cast_id': 1, 'character': 'Mia Thermopolis'...</td>\n",
       "      <td>[{'credit_id': '52fe43fe9251416c7502563d', 'de...</td>\n",
       "      <td>95149435</td>\n",
       "    </tr>\n",
       "    <tr>\n",
       "      <th>2</th>\n",
       "      <td>3</td>\n",
       "      <td>NaN</td>\n",
       "      <td>3300000</td>\n",
       "      <td>[{'id': 18, 'name': 'Drama'}]</td>\n",
       "      <td>http://sonyclassics.com/whiplash/</td>\n",
       "      <td>tt2582802</td>\n",
       "      <td>en</td>\n",
       "      <td>Whiplash</td>\n",
       "      <td>Under the direction of a ruthless instructor, ...</td>\n",
       "      <td>64.299990</td>\n",
       "      <td>...</td>\n",
       "      <td>10/10/14</td>\n",
       "      <td>105.0</td>\n",
       "      <td>[{'iso_639_1': 'en', 'name': 'English'}]</td>\n",
       "      <td>Released</td>\n",
       "      <td>The road to greatness can take you to the edge.</td>\n",
       "      <td>Whiplash</td>\n",
       "      <td>[{'id': 1416, 'name': 'jazz'}, {'id': 1523, 'n...</td>\n",
       "      <td>[{'cast_id': 5, 'character': 'Andrew Neimann',...</td>\n",
       "      <td>[{'credit_id': '54d5356ec3a3683ba0000039', 'de...</td>\n",
       "      <td>13092000</td>\n",
       "    </tr>\n",
       "    <tr>\n",
       "      <th>3</th>\n",
       "      <td>4</td>\n",
       "      <td>NaN</td>\n",
       "      <td>1200000</td>\n",
       "      <td>[{'id': 53, 'name': 'Thriller'}, {'id': 18, 'n...</td>\n",
       "      <td>http://kahaanithefilm.com/</td>\n",
       "      <td>tt1821480</td>\n",
       "      <td>hi</td>\n",
       "      <td>Kahaani</td>\n",
       "      <td>Vidya Bagchi (Vidya Balan) arrives in Kolkata ...</td>\n",
       "      <td>3.174936</td>\n",
       "      <td>...</td>\n",
       "      <td>3/9/12</td>\n",
       "      <td>122.0</td>\n",
       "      <td>[{'iso_639_1': 'en', 'name': 'English'}, {'iso...</td>\n",
       "      <td>Released</td>\n",
       "      <td>NaN</td>\n",
       "      <td>Kahaani</td>\n",
       "      <td>[{'id': 10092, 'name': 'mystery'}, {'id': 1054...</td>\n",
       "      <td>[{'cast_id': 1, 'character': 'Vidya Bagchi', '...</td>\n",
       "      <td>[{'credit_id': '52fe48779251416c9108d6eb', 'de...</td>\n",
       "      <td>16000000</td>\n",
       "    </tr>\n",
       "    <tr>\n",
       "      <th>4</th>\n",
       "      <td>5</td>\n",
       "      <td>NaN</td>\n",
       "      <td>0</td>\n",
       "      <td>[{'id': 28, 'name': 'Action'}, {'id': 53, 'nam...</td>\n",
       "      <td>NaN</td>\n",
       "      <td>tt1380152</td>\n",
       "      <td>ko</td>\n",
       "      <td>마린보이</td>\n",
       "      <td>Marine Boy is the story of a former national s...</td>\n",
       "      <td>1.148070</td>\n",
       "      <td>...</td>\n",
       "      <td>2/5/09</td>\n",
       "      <td>118.0</td>\n",
       "      <td>[{'iso_639_1': 'ko', 'name': '한국어/조선말'}]</td>\n",
       "      <td>Released</td>\n",
       "      <td>NaN</td>\n",
       "      <td>Marine Boy</td>\n",
       "      <td>NaN</td>\n",
       "      <td>[{'cast_id': 3, 'character': 'Chun-soo', 'cred...</td>\n",
       "      <td>[{'credit_id': '52fe464b9251416c75073b43', 'de...</td>\n",
       "      <td>3923970</td>\n",
       "    </tr>\n",
       "  </tbody>\n",
       "</table>\n",
       "<p>5 rows × 23 columns</p>\n",
       "</div>"
      ],
      "text/plain": [
       "   id                              belongs_to_collection    budget  \\\n",
       "0   1  [{'id': 313576, 'name': 'Hot Tub Time Machine ...  14000000   \n",
       "1   2  [{'id': 107674, 'name': 'The Princess Diaries ...  40000000   \n",
       "2   3                                                NaN   3300000   \n",
       "3   4                                                NaN   1200000   \n",
       "4   5                                                NaN         0   \n",
       "\n",
       "                                              genres  \\\n",
       "0                     [{'id': 35, 'name': 'Comedy'}]   \n",
       "1  [{'id': 35, 'name': 'Comedy'}, {'id': 18, 'nam...   \n",
       "2                      [{'id': 18, 'name': 'Drama'}]   \n",
       "3  [{'id': 53, 'name': 'Thriller'}, {'id': 18, 'n...   \n",
       "4  [{'id': 28, 'name': 'Action'}, {'id': 53, 'nam...   \n",
       "\n",
       "                            homepage    imdb_id original_language  \\\n",
       "0                                NaN  tt2637294                en   \n",
       "1                                NaN  tt0368933                en   \n",
       "2  http://sonyclassics.com/whiplash/  tt2582802                en   \n",
       "3         http://kahaanithefilm.com/  tt1821480                hi   \n",
       "4                                NaN  tt1380152                ko   \n",
       "\n",
       "                             original_title  \\\n",
       "0                    Hot Tub Time Machine 2   \n",
       "1  The Princess Diaries 2: Royal Engagement   \n",
       "2                                  Whiplash   \n",
       "3                                   Kahaani   \n",
       "4                                      마린보이   \n",
       "\n",
       "                                            overview  popularity  ...  \\\n",
       "0  When Lou, who has become the \"father of the In...    6.575393  ...   \n",
       "1  Mia Thermopolis is now a college graduate and ...    8.248895  ...   \n",
       "2  Under the direction of a ruthless instructor, ...   64.299990  ...   \n",
       "3  Vidya Bagchi (Vidya Balan) arrives in Kolkata ...    3.174936  ...   \n",
       "4  Marine Boy is the story of a former national s...    1.148070  ...   \n",
       "\n",
       "  release_date runtime                                   spoken_languages  \\\n",
       "0      2/20/15    93.0           [{'iso_639_1': 'en', 'name': 'English'}]   \n",
       "1       8/6/04   113.0           [{'iso_639_1': 'en', 'name': 'English'}]   \n",
       "2     10/10/14   105.0           [{'iso_639_1': 'en', 'name': 'English'}]   \n",
       "3       3/9/12   122.0  [{'iso_639_1': 'en', 'name': 'English'}, {'iso...   \n",
       "4       2/5/09   118.0           [{'iso_639_1': 'ko', 'name': '한국어/조선말'}]   \n",
       "\n",
       "     status                                            tagline  \\\n",
       "0  Released  The Laws of Space and Time are About to be Vio...   \n",
       "1  Released  It can take a lifetime to find true love; she'...   \n",
       "2  Released    The road to greatness can take you to the edge.   \n",
       "3  Released                                                NaN   \n",
       "4  Released                                                NaN   \n",
       "\n",
       "                                      title  \\\n",
       "0                    Hot Tub Time Machine 2   \n",
       "1  The Princess Diaries 2: Royal Engagement   \n",
       "2                                  Whiplash   \n",
       "3                                   Kahaani   \n",
       "4                                Marine Boy   \n",
       "\n",
       "                                            Keywords  \\\n",
       "0  [{'id': 4379, 'name': 'time travel'}, {'id': 9...   \n",
       "1  [{'id': 2505, 'name': 'coronation'}, {'id': 42...   \n",
       "2  [{'id': 1416, 'name': 'jazz'}, {'id': 1523, 'n...   \n",
       "3  [{'id': 10092, 'name': 'mystery'}, {'id': 1054...   \n",
       "4                                                NaN   \n",
       "\n",
       "                                                cast  \\\n",
       "0  [{'cast_id': 4, 'character': 'Lou', 'credit_id...   \n",
       "1  [{'cast_id': 1, 'character': 'Mia Thermopolis'...   \n",
       "2  [{'cast_id': 5, 'character': 'Andrew Neimann',...   \n",
       "3  [{'cast_id': 1, 'character': 'Vidya Bagchi', '...   \n",
       "4  [{'cast_id': 3, 'character': 'Chun-soo', 'cred...   \n",
       "\n",
       "                                                crew   revenue  \n",
       "0  [{'credit_id': '59ac067c92514107af02c8c8', 'de...  12314651  \n",
       "1  [{'credit_id': '52fe43fe9251416c7502563d', 'de...  95149435  \n",
       "2  [{'credit_id': '54d5356ec3a3683ba0000039', 'de...  13092000  \n",
       "3  [{'credit_id': '52fe48779251416c9108d6eb', 'de...  16000000  \n",
       "4  [{'credit_id': '52fe464b9251416c75073b43', 'de...   3923970  \n",
       "\n",
       "[5 rows x 23 columns]"
      ]
     },
     "execution_count": 57,
     "metadata": {},
     "output_type": "execute_result"
    }
   ],
   "source": [
    "df.head()"
   ]
  },
  {
   "cell_type": "code",
   "execution_count": 58,
   "id": "cec31b8a",
   "metadata": {},
   "outputs": [
    {
     "data": {
      "text/plain": [
       "Index(['id', 'belongs_to_collection', 'budget', 'genres', 'homepage',\n",
       "       'imdb_id', 'original_language', 'original_title', 'overview',\n",
       "       'popularity', 'poster_path', 'production_companies',\n",
       "       'production_countries', 'release_date', 'runtime', 'spoken_languages',\n",
       "       'status', 'tagline', 'title', 'Keywords', 'cast', 'crew', 'revenue'],\n",
       "      dtype='object')"
      ]
     },
     "execution_count": 58,
     "metadata": {},
     "output_type": "execute_result"
    }
   ],
   "source": [
    "df.columns"
   ]
  },
  {
   "cell_type": "code",
   "execution_count": 59,
   "id": "7cf47306",
   "metadata": {},
   "outputs": [
    {
     "data": {
      "text/plain": [
       "\"[{'id': 313576, 'name': 'Hot Tub Time Machine Collection', 'poster_path': '/iEhb00TGPucF0b4joM1ieyY026U.jpg', 'backdrop_path': '/noeTVcgpBiD48fDjFVic1Vz7ope.jpg'}]\""
      ]
     },
     "execution_count": 59,
     "metadata": {},
     "output_type": "execute_result"
    }
   ],
   "source": [
    "df.belongs_to_collection[0]"
   ]
  },
  {
   "cell_type": "code",
   "execution_count": 60,
   "id": "d252f400",
   "metadata": {},
   "outputs": [
    {
     "data": {
      "text/plain": [
       "14000000"
      ]
     },
     "execution_count": 60,
     "metadata": {},
     "output_type": "execute_result"
    }
   ],
   "source": [
    "df.budget[0]"
   ]
  },
  {
   "cell_type": "code",
   "execution_count": 61,
   "id": "4bd8efc3",
   "metadata": {},
   "outputs": [
    {
     "name": "stdout",
     "output_type": "stream",
     "text": [
      "Action\n",
      "Thriller\n",
      "Science Fiction\n",
      "Crime\n",
      "Horror\n"
     ]
    }
   ],
   "source": [
    "for i in eval(df.genres[100]):\n",
    "    print(i['name'])"
   ]
  },
  {
   "cell_type": "code",
   "execution_count": 62,
   "id": "6e412fae",
   "metadata": {},
   "outputs": [],
   "source": [
    "def gen(x):\n",
    "    gen_list = []\n",
    "    x = str(x)\n",
    "    if x != 'nan':\n",
    "        for i in eval(x):\n",
    "            gen_list.append(i['name'])\n",
    "        \n",
    "    else:\n",
    "        pass\n",
    "    return gen_list"
   ]
  },
  {
   "cell_type": "code",
   "execution_count": 63,
   "id": "a26b5704",
   "metadata": {},
   "outputs": [
    {
     "data": {
      "text/plain": [
       "['Action', 'Comedy', 'Crime', 'Thriller']"
      ]
     },
     "execution_count": 63,
     "metadata": {},
     "output_type": "execute_result"
    }
   ],
   "source": [
    "gen(df.genres[120])"
   ]
  },
  {
   "cell_type": "code",
   "execution_count": 64,
   "id": "a6201ecb",
   "metadata": {},
   "outputs": [
    {
     "data": {
      "text/plain": [
       "[{'id': 10749, 'name': 'Romance'},\n",
       " {'id': 18, 'name': 'Drama'},\n",
       " {'id': 35, 'name': 'Comedy'}]"
      ]
     },
     "execution_count": 64,
     "metadata": {},
     "output_type": "execute_result"
    }
   ],
   "source": [
    "eval(df.genres[50])"
   ]
  },
  {
   "cell_type": "code",
   "execution_count": 65,
   "id": "49b4acd5",
   "metadata": {},
   "outputs": [
    {
     "data": {
      "text/plain": [
       "str"
      ]
     },
     "execution_count": 65,
     "metadata": {},
     "output_type": "execute_result"
    }
   ],
   "source": [
    "type(df.genres[0])"
   ]
  },
  {
   "cell_type": "code",
   "execution_count": 66,
   "id": "ca396ca9",
   "metadata": {},
   "outputs": [
    {
     "data": {
      "text/plain": [
       "0                                 [Comedy]\n",
       "1         [Comedy, Drama, Family, Romance]\n",
       "2                                  [Drama]\n",
       "3                        [Thriller, Drama]\n",
       "4                       [Action, Thriller]\n",
       "                       ...                \n",
       "2995                     [Comedy, Romance]\n",
       "2996                        [Drama, Music]\n",
       "2997    [Crime, Action, Mystery, Thriller]\n",
       "2998                     [Comedy, Romance]\n",
       "2999           [Thriller, Action, Mystery]\n",
       "Name: genres, Length: 3000, dtype: object"
      ]
     },
     "execution_count": 66,
     "metadata": {},
     "output_type": "execute_result"
    }
   ],
   "source": [
    "df.genres.apply(lambda x: gen(x))"
   ]
  },
  {
   "cell_type": "code",
   "execution_count": 67,
   "id": "6a060c6a",
   "metadata": {},
   "outputs": [
    {
     "name": "stderr",
     "output_type": "stream",
     "text": [
      "C:\\Users\\Deepu\\AppData\\Local\\Temp\\ipykernel_7732\\2214533962.py:1: UserWarning: Pandas doesn't allow columns to be created via a new attribute name - see https://pandas.pydata.org/pandas-docs/stable/indexing.html#attribute-access\n",
      "  df.mod_gen = df.genres.apply(lambda x: gen(x))\n"
     ]
    }
   ],
   "source": [
    "df.mod_gen = df.genres.apply(lambda x: gen(x))"
   ]
  },
  {
   "cell_type": "code",
   "execution_count": 68,
   "id": "4a273da2",
   "metadata": {},
   "outputs": [],
   "source": [
    "# it's because you are using df. method instead of df['']"
   ]
  },
  {
   "cell_type": "code",
   "execution_count": 69,
   "id": "8f55b8ac",
   "metadata": {},
   "outputs": [],
   "source": [
    "df['mod_gen'] = df['genres'].apply(lambda x: gen(x))"
   ]
  },
  {
   "cell_type": "code",
   "execution_count": 105,
   "id": "071d1d34",
   "metadata": {},
   "outputs": [
    {
     "data": {
      "text/plain": [
       "0                                 [Comedy]\n",
       "1         [Comedy, Drama, Family, Romance]\n",
       "2                                  [Drama]\n",
       "3                        [Thriller, Drama]\n",
       "4                       [Action, Thriller]\n",
       "                       ...                \n",
       "2995                     [Comedy, Romance]\n",
       "2996                        [Drama, Music]\n",
       "2997    [Crime, Action, Mystery, Thriller]\n",
       "2998                     [Comedy, Romance]\n",
       "2999           [Thriller, Action, Mystery]\n",
       "Name: mod_gen, Length: 3000, dtype: object"
      ]
     },
     "execution_count": 105,
     "metadata": {},
     "output_type": "execute_result"
    }
   ],
   "source": [
    "# we have extracted all the genres from the feature genres into a different columns\n",
    "df.pop('mod_gen')"
   ]
  },
  {
   "cell_type": "code",
   "execution_count": 71,
   "id": "9e66b9ec",
   "metadata": {},
   "outputs": [
    {
     "data": {
      "text/plain": [
       "0        6.575393\n",
       "1        8.248895\n",
       "2       64.299990\n",
       "3        3.174936\n",
       "4        1.148070\n",
       "          ...    \n",
       "2995     9.853270\n",
       "2996     3.727996\n",
       "2997    14.482345\n",
       "2998    15.725542\n",
       "2999    10.512109\n",
       "Name: popularity, Length: 3000, dtype: float64"
      ]
     },
     "execution_count": 71,
     "metadata": {},
     "output_type": "execute_result"
    }
   ],
   "source": [
    "df.popularity"
   ]
  },
  {
   "cell_type": "code",
   "execution_count": 72,
   "id": "761d0c24",
   "metadata": {},
   "outputs": [
    {
     "data": {
      "text/plain": [
       "Index(['id', 'belongs_to_collection', 'budget', 'genres', 'homepage',\n",
       "       'imdb_id', 'original_language', 'original_title', 'overview',\n",
       "       'popularity', 'poster_path', 'production_companies',\n",
       "       'production_countries', 'release_date', 'runtime', 'spoken_languages',\n",
       "       'status', 'tagline', 'title', 'Keywords', 'cast', 'crew', 'revenue',\n",
       "       'mod_gen'],\n",
       "      dtype='object')"
      ]
     },
     "execution_count": 72,
     "metadata": {},
     "output_type": "execute_result"
    }
   ],
   "source": [
    "df.columns"
   ]
  },
  {
   "cell_type": "markdown",
   "id": "064f04c9",
   "metadata": {},
   "source": [
    "# So we will be working with  only couple of select columns relevent to recommendation "
   ]
  },
  {
   "cell_type": "markdown",
   "id": "8d8af58d",
   "metadata": {},
   "source": [
    "move_id, movie_name, imdb_rating, and genres"
   ]
  },
  {
   "cell_type": "code",
   "execution_count": 73,
   "id": "258c2ee3",
   "metadata": {},
   "outputs": [
    {
     "data": {
      "text/plain": [
       "20"
      ]
     },
     "execution_count": 73,
     "metadata": {},
     "output_type": "execute_result"
    }
   ],
   "source": [
    "## let's first find how many types of genres do we have \n",
    "df.mod_gen.explode(',').nunique()"
   ]
  },
  {
   "cell_type": "code",
   "execution_count": 74,
   "id": "8823cfad",
   "metadata": {},
   "outputs": [
    {
     "data": {
      "text/plain": [
       "Drama              1531\n",
       "Comedy             1028\n",
       "Thriller            789\n",
       "Action              741\n",
       "Romance             571\n",
       "Crime               469\n",
       "Adventure           439\n",
       "Horror              301\n",
       "Science Fiction     290\n",
       "Family              260\n",
       "Fantasy             232\n",
       "Mystery             225\n",
       "Animation           141\n",
       "History             132\n",
       "War                 100\n",
       "Music               100\n",
       "Documentary          87\n",
       "Western              43\n",
       "Foreign              31\n",
       "TV Movie              1\n",
       "Name: genres, dtype: int64"
      ]
     },
     "execution_count": 74,
     "metadata": {},
     "output_type": "execute_result"
    }
   ],
   "source": [
    "# let's see the genres also \n",
    "df.mod_gen.explode(',').value_counts()"
   ]
  },
  {
   "cell_type": "code",
   "execution_count": 75,
   "id": "63a4a983",
   "metadata": {},
   "outputs": [
    {
     "data": {
      "text/plain": [
       "(3000, 24)"
      ]
     },
     "execution_count": 75,
     "metadata": {},
     "output_type": "execute_result"
    }
   ],
   "source": [
    "df.shape"
   ]
  },
  {
   "cell_type": "code",
   "execution_count": 76,
   "id": "1a0bfd29",
   "metadata": {},
   "outputs": [],
   "source": [
    "a=df.sample(n= 5)"
   ]
  },
  {
   "cell_type": "code",
   "execution_count": 77,
   "id": "1b015357",
   "metadata": {},
   "outputs": [
    {
     "data": {
      "text/plain": [
       "2612               Unknown\n",
       "1856          TRON: Legacy\n",
       "1657      About Last Night\n",
       "222     Meet Monica Velour\n",
       "695              Tere Naam\n",
       "Name: original_title, dtype: object"
      ]
     },
     "execution_count": 77,
     "metadata": {},
     "output_type": "execute_result"
    }
   ],
   "source": [
    "a['original_title']"
   ]
  },
  {
   "cell_type": "code",
   "execution_count": 78,
   "id": "25dea8ec",
   "metadata": {},
   "outputs": [
    {
     "data": {
      "text/plain": [
       "2612             [Action, Mystery, Thriller]\n",
       "1856    [Adventure, Action, Science Fiction]\n",
       "1657                       [Comedy, Romance]\n",
       "222                 [Comedy, Drama, Romance]\n",
       "695                      [Romance, Thriller]\n",
       "Name: mod_gen, dtype: object"
      ]
     },
     "execution_count": 78,
     "metadata": {},
     "output_type": "execute_result"
    }
   ],
   "source": [
    "a['mod_gen']"
   ]
  },
  {
   "cell_type": "code",
   "execution_count": 79,
   "id": "4aa52bd5",
   "metadata": {},
   "outputs": [],
   "source": [
    "col=['movie_name']+list(a['mod_gen'].explode(',').unique())"
   ]
  },
  {
   "cell_type": "code",
   "execution_count": 80,
   "id": "a0c7f5ee",
   "metadata": {},
   "outputs": [],
   "source": [
    "adf = pd.DataFrame(columns = col)"
   ]
  },
  {
   "cell_type": "code",
   "execution_count": 81,
   "id": "1dcdff5c",
   "metadata": {},
   "outputs": [
    {
     "data": {
      "text/html": [
       "<div>\n",
       "<style scoped>\n",
       "    .dataframe tbody tr th:only-of-type {\n",
       "        vertical-align: middle;\n",
       "    }\n",
       "\n",
       "    .dataframe tbody tr th {\n",
       "        vertical-align: top;\n",
       "    }\n",
       "\n",
       "    .dataframe thead th {\n",
       "        text-align: right;\n",
       "    }\n",
       "</style>\n",
       "<table border=\"1\" class=\"dataframe\">\n",
       "  <thead>\n",
       "    <tr style=\"text-align: right;\">\n",
       "      <th></th>\n",
       "      <th>movie_name</th>\n",
       "      <th>Action</th>\n",
       "      <th>Mystery</th>\n",
       "      <th>Thriller</th>\n",
       "      <th>Adventure</th>\n",
       "      <th>Science Fiction</th>\n",
       "      <th>Comedy</th>\n",
       "      <th>Romance</th>\n",
       "      <th>Drama</th>\n",
       "    </tr>\n",
       "  </thead>\n",
       "  <tbody>\n",
       "  </tbody>\n",
       "</table>\n",
       "</div>"
      ],
      "text/plain": [
       "Empty DataFrame\n",
       "Columns: [movie_name, Action, Mystery, Thriller, Adventure, Science Fiction, Comedy, Romance, Drama]\n",
       "Index: []"
      ]
     },
     "execution_count": 81,
     "metadata": {},
     "output_type": "execute_result"
    }
   ],
   "source": [
    "adf"
   ]
  },
  {
   "cell_type": "code",
   "execution_count": 82,
   "id": "dc24bd98",
   "metadata": {},
   "outputs": [],
   "source": [
    "adf['movie_name'] = a['original_title'].to_list()"
   ]
  },
  {
   "cell_type": "code",
   "execution_count": 83,
   "id": "da147799",
   "metadata": {},
   "outputs": [
    {
     "data": {
      "text/html": [
       "<div>\n",
       "<style scoped>\n",
       "    .dataframe tbody tr th:only-of-type {\n",
       "        vertical-align: middle;\n",
       "    }\n",
       "\n",
       "    .dataframe tbody tr th {\n",
       "        vertical-align: top;\n",
       "    }\n",
       "\n",
       "    .dataframe thead th {\n",
       "        text-align: right;\n",
       "    }\n",
       "</style>\n",
       "<table border=\"1\" class=\"dataframe\">\n",
       "  <thead>\n",
       "    <tr style=\"text-align: right;\">\n",
       "      <th></th>\n",
       "      <th>movie_name</th>\n",
       "      <th>Action</th>\n",
       "      <th>Mystery</th>\n",
       "      <th>Thriller</th>\n",
       "      <th>Adventure</th>\n",
       "      <th>Science Fiction</th>\n",
       "      <th>Comedy</th>\n",
       "      <th>Romance</th>\n",
       "      <th>Drama</th>\n",
       "    </tr>\n",
       "  </thead>\n",
       "  <tbody>\n",
       "    <tr>\n",
       "      <th>0</th>\n",
       "      <td>Unknown</td>\n",
       "      <td>NaN</td>\n",
       "      <td>NaN</td>\n",
       "      <td>NaN</td>\n",
       "      <td>NaN</td>\n",
       "      <td>NaN</td>\n",
       "      <td>NaN</td>\n",
       "      <td>NaN</td>\n",
       "      <td>NaN</td>\n",
       "    </tr>\n",
       "    <tr>\n",
       "      <th>1</th>\n",
       "      <td>TRON: Legacy</td>\n",
       "      <td>NaN</td>\n",
       "      <td>NaN</td>\n",
       "      <td>NaN</td>\n",
       "      <td>NaN</td>\n",
       "      <td>NaN</td>\n",
       "      <td>NaN</td>\n",
       "      <td>NaN</td>\n",
       "      <td>NaN</td>\n",
       "    </tr>\n",
       "    <tr>\n",
       "      <th>2</th>\n",
       "      <td>About Last Night</td>\n",
       "      <td>NaN</td>\n",
       "      <td>NaN</td>\n",
       "      <td>NaN</td>\n",
       "      <td>NaN</td>\n",
       "      <td>NaN</td>\n",
       "      <td>NaN</td>\n",
       "      <td>NaN</td>\n",
       "      <td>NaN</td>\n",
       "    </tr>\n",
       "    <tr>\n",
       "      <th>3</th>\n",
       "      <td>Meet Monica Velour</td>\n",
       "      <td>NaN</td>\n",
       "      <td>NaN</td>\n",
       "      <td>NaN</td>\n",
       "      <td>NaN</td>\n",
       "      <td>NaN</td>\n",
       "      <td>NaN</td>\n",
       "      <td>NaN</td>\n",
       "      <td>NaN</td>\n",
       "    </tr>\n",
       "    <tr>\n",
       "      <th>4</th>\n",
       "      <td>Tere Naam</td>\n",
       "      <td>NaN</td>\n",
       "      <td>NaN</td>\n",
       "      <td>NaN</td>\n",
       "      <td>NaN</td>\n",
       "      <td>NaN</td>\n",
       "      <td>NaN</td>\n",
       "      <td>NaN</td>\n",
       "      <td>NaN</td>\n",
       "    </tr>\n",
       "  </tbody>\n",
       "</table>\n",
       "</div>"
      ],
      "text/plain": [
       "           movie_name Action Mystery Thriller Adventure Science Fiction  \\\n",
       "0             Unknown    NaN     NaN      NaN       NaN             NaN   \n",
       "1        TRON: Legacy    NaN     NaN      NaN       NaN             NaN   \n",
       "2    About Last Night    NaN     NaN      NaN       NaN             NaN   \n",
       "3  Meet Monica Velour    NaN     NaN      NaN       NaN             NaN   \n",
       "4           Tere Naam    NaN     NaN      NaN       NaN             NaN   \n",
       "\n",
       "  Comedy Romance Drama  \n",
       "0    NaN     NaN   NaN  \n",
       "1    NaN     NaN   NaN  \n",
       "2    NaN     NaN   NaN  \n",
       "3    NaN     NaN   NaN  \n",
       "4    NaN     NaN   NaN  "
      ]
     },
     "execution_count": 83,
     "metadata": {},
     "output_type": "execute_result"
    }
   ],
   "source": [
    "adf"
   ]
  },
  {
   "cell_type": "code",
   "execution_count": 84,
   "id": "6b77b640",
   "metadata": {},
   "outputs": [],
   "source": [
    "adf['genres'] = a['mod_gen'].to_list()"
   ]
  },
  {
   "cell_type": "code",
   "execution_count": 106,
   "id": "605fcd9b",
   "metadata": {},
   "outputs": [],
   "source": [
    "adf.drop(columns = ['Action', 'Mystery', 'Thriller','Adventure','Science Fiction','Comedy','Romance','Drama'], inplace = True)"
   ]
  },
  {
   "cell_type": "code",
   "execution_count": 107,
   "id": "b07a36a2",
   "metadata": {},
   "outputs": [
    {
     "data": {
      "text/html": [
       "<div>\n",
       "<style scoped>\n",
       "    .dataframe tbody tr th:only-of-type {\n",
       "        vertical-align: middle;\n",
       "    }\n",
       "\n",
       "    .dataframe tbody tr th {\n",
       "        vertical-align: top;\n",
       "    }\n",
       "\n",
       "    .dataframe thead th {\n",
       "        text-align: right;\n",
       "    }\n",
       "</style>\n",
       "<table border=\"1\" class=\"dataframe\">\n",
       "  <thead>\n",
       "    <tr style=\"text-align: right;\">\n",
       "      <th></th>\n",
       "      <th>movie_name</th>\n",
       "      <th>genres</th>\n",
       "    </tr>\n",
       "  </thead>\n",
       "  <tbody>\n",
       "    <tr>\n",
       "      <th>0</th>\n",
       "      <td>Unknown</td>\n",
       "      <td>[Action, Mystery, Thriller]</td>\n",
       "    </tr>\n",
       "    <tr>\n",
       "      <th>1</th>\n",
       "      <td>TRON: Legacy</td>\n",
       "      <td>[Adventure, Action, Science Fiction]</td>\n",
       "    </tr>\n",
       "    <tr>\n",
       "      <th>2</th>\n",
       "      <td>About Last Night</td>\n",
       "      <td>[Comedy, Romance]</td>\n",
       "    </tr>\n",
       "    <tr>\n",
       "      <th>3</th>\n",
       "      <td>Meet Monica Velour</td>\n",
       "      <td>[Comedy, Drama, Romance]</td>\n",
       "    </tr>\n",
       "    <tr>\n",
       "      <th>4</th>\n",
       "      <td>Tere Naam</td>\n",
       "      <td>[Romance, Thriller]</td>\n",
       "    </tr>\n",
       "  </tbody>\n",
       "</table>\n",
       "</div>"
      ],
      "text/plain": [
       "           movie_name                                genres\n",
       "0             Unknown           [Action, Mystery, Thriller]\n",
       "1        TRON: Legacy  [Adventure, Action, Science Fiction]\n",
       "2    About Last Night                     [Comedy, Romance]\n",
       "3  Meet Monica Velour              [Comedy, Drama, Romance]\n",
       "4           Tere Naam                   [Romance, Thriller]"
      ]
     },
     "execution_count": 107,
     "metadata": {},
     "output_type": "execute_result"
    }
   ],
   "source": [
    "adf"
   ]
  },
  {
   "cell_type": "code",
   "execution_count": 114,
   "id": "83d97ca6",
   "metadata": {},
   "outputs": [],
   "source": [
    "genre_list = adf.genres.explode(',').unique().tolist()"
   ]
  },
  {
   "cell_type": "code",
   "execution_count": 115,
   "id": "bf6fac3a",
   "metadata": {},
   "outputs": [],
   "source": [
    "for i in genre_list:\n",
    "    adf[i] = adf['genres'].apply(lambda x: i in x).astype(int) # the astype is used to conver the true value into 1 \n",
    "# we are doing operation column wise "
   ]
  },
  {
   "cell_type": "code",
   "execution_count": 117,
   "id": "5dfffb63",
   "metadata": {},
   "outputs": [
    {
     "data": {
      "text/html": [
       "<div>\n",
       "<style scoped>\n",
       "    .dataframe tbody tr th:only-of-type {\n",
       "        vertical-align: middle;\n",
       "    }\n",
       "\n",
       "    .dataframe tbody tr th {\n",
       "        vertical-align: top;\n",
       "    }\n",
       "\n",
       "    .dataframe thead th {\n",
       "        text-align: right;\n",
       "    }\n",
       "</style>\n",
       "<table border=\"1\" class=\"dataframe\">\n",
       "  <thead>\n",
       "    <tr style=\"text-align: right;\">\n",
       "      <th></th>\n",
       "      <th>movie_name</th>\n",
       "      <th>genres</th>\n",
       "      <th>Action</th>\n",
       "      <th>Mystery</th>\n",
       "      <th>Thriller</th>\n",
       "      <th>Adventure</th>\n",
       "      <th>Science Fiction</th>\n",
       "      <th>Comedy</th>\n",
       "      <th>Romance</th>\n",
       "      <th>Drama</th>\n",
       "    </tr>\n",
       "  </thead>\n",
       "  <tbody>\n",
       "    <tr>\n",
       "      <th>0</th>\n",
       "      <td>Unknown</td>\n",
       "      <td>[Action, Mystery, Thriller]</td>\n",
       "      <td>1</td>\n",
       "      <td>1</td>\n",
       "      <td>1</td>\n",
       "      <td>0</td>\n",
       "      <td>0</td>\n",
       "      <td>0</td>\n",
       "      <td>0</td>\n",
       "      <td>0</td>\n",
       "    </tr>\n",
       "    <tr>\n",
       "      <th>1</th>\n",
       "      <td>TRON: Legacy</td>\n",
       "      <td>[Adventure, Action, Science Fiction]</td>\n",
       "      <td>1</td>\n",
       "      <td>0</td>\n",
       "      <td>0</td>\n",
       "      <td>1</td>\n",
       "      <td>1</td>\n",
       "      <td>0</td>\n",
       "      <td>0</td>\n",
       "      <td>0</td>\n",
       "    </tr>\n",
       "    <tr>\n",
       "      <th>2</th>\n",
       "      <td>About Last Night</td>\n",
       "      <td>[Comedy, Romance]</td>\n",
       "      <td>0</td>\n",
       "      <td>0</td>\n",
       "      <td>0</td>\n",
       "      <td>0</td>\n",
       "      <td>0</td>\n",
       "      <td>1</td>\n",
       "      <td>1</td>\n",
       "      <td>0</td>\n",
       "    </tr>\n",
       "    <tr>\n",
       "      <th>3</th>\n",
       "      <td>Meet Monica Velour</td>\n",
       "      <td>[Comedy, Drama, Romance]</td>\n",
       "      <td>0</td>\n",
       "      <td>0</td>\n",
       "      <td>0</td>\n",
       "      <td>0</td>\n",
       "      <td>0</td>\n",
       "      <td>1</td>\n",
       "      <td>1</td>\n",
       "      <td>1</td>\n",
       "    </tr>\n",
       "    <tr>\n",
       "      <th>4</th>\n",
       "      <td>Tere Naam</td>\n",
       "      <td>[Romance, Thriller]</td>\n",
       "      <td>0</td>\n",
       "      <td>0</td>\n",
       "      <td>1</td>\n",
       "      <td>0</td>\n",
       "      <td>0</td>\n",
       "      <td>0</td>\n",
       "      <td>1</td>\n",
       "      <td>0</td>\n",
       "    </tr>\n",
       "  </tbody>\n",
       "</table>\n",
       "</div>"
      ],
      "text/plain": [
       "           movie_name                                genres  Action  Mystery  \\\n",
       "0             Unknown           [Action, Mystery, Thriller]       1        1   \n",
       "1        TRON: Legacy  [Adventure, Action, Science Fiction]       1        0   \n",
       "2    About Last Night                     [Comedy, Romance]       0        0   \n",
       "3  Meet Monica Velour              [Comedy, Drama, Romance]       0        0   \n",
       "4           Tere Naam                   [Romance, Thriller]       0        0   \n",
       "\n",
       "   Thriller  Adventure  Science Fiction  Comedy  Romance  Drama  \n",
       "0         1          0                0       0        0      0  \n",
       "1         0          1                1       0        0      0  \n",
       "2         0          0                0       1        1      0  \n",
       "3         0          0                0       1        1      1  \n",
       "4         1          0                0       0        1      0  "
      ]
     },
     "execution_count": 117,
     "metadata": {},
     "output_type": "execute_result"
    }
   ],
   "source": [
    "adf"
   ]
  },
  {
   "cell_type": "code",
   "execution_count": null,
   "id": "387cf087",
   "metadata": {},
   "outputs": [],
   "source": []
  },
  {
   "cell_type": "code",
   "execution_count": 86,
   "id": "3b696e77",
   "metadata": {},
   "outputs": [],
   "source": [
    "def one(adf):\n",
    "    if 'Comedy' in adf.genres:\n",
    "        classe = 1\n",
    "    else:\n",
    "        classe = 0\n",
    "    return classe"
   ]
  },
  {
   "cell_type": "code",
   "execution_count": 87,
   "id": "5aa480fe",
   "metadata": {},
   "outputs": [],
   "source": [
    "adf['Comedy']=adf.apply(one,axis = 1)"
   ]
  },
  {
   "cell_type": "code",
   "execution_count": 88,
   "id": "5e07bcdc",
   "metadata": {},
   "outputs": [
    {
     "ename": "IndentationError",
     "evalue": "expected an indented block (1005177426.py, line 2)",
     "output_type": "error",
     "traceback": [
      "\u001b[1;36m  Input \u001b[1;32mIn [88]\u001b[1;36m\u001b[0m\n\u001b[1;33m    \u001b[0m\n\u001b[1;37m    ^\u001b[0m\n\u001b[1;31mIndentationError\u001b[0m\u001b[1;31m:\u001b[0m expected an indented block\n"
     ]
    }
   ],
   "source": [
    "def onead(adf):\n",
    "    "
   ]
  },
  {
   "cell_type": "code",
   "execution_count": null,
   "id": "da362947",
   "metadata": {},
   "outputs": [],
   "source": [
    "adf"
   ]
  },
  {
   "cell_type": "code",
   "execution_count": null,
   "id": "ba1c6d55",
   "metadata": {},
   "outputs": [],
   "source": [
    "adf['genres']"
   ]
  },
  {
   "cell_type": "code",
   "execution_count": null,
   "id": "a02580d8",
   "metadata": {},
   "outputs": [],
   "source": [
    "def one(adf):\n",
    "    for i in ['Action', 'Adventure','Comedy','Drama','Romance']:\n",
    "        for j in adf.genres:\n",
    "            if i in adf.genres:\n",
    "                val = 1\n",
    "            else:\n",
    "                val = 0\n",
    "            return val"
   ]
  },
  {
   "cell_type": "code",
   "execution_count": 89,
   "id": "40ef5fdd",
   "metadata": {},
   "outputs": [],
   "source": [
    "imdb_df=df[['id','popularity','title','mod_gen']].sample(n= 1100, replace = False)"
   ]
  },
  {
   "cell_type": "code",
   "execution_count": 90,
   "id": "a1f4f7fd",
   "metadata": {},
   "outputs": [
    {
     "data": {
      "text/html": [
       "<div>\n",
       "<style scoped>\n",
       "    .dataframe tbody tr th:only-of-type {\n",
       "        vertical-align: middle;\n",
       "    }\n",
       "\n",
       "    .dataframe tbody tr th {\n",
       "        vertical-align: top;\n",
       "    }\n",
       "\n",
       "    .dataframe thead th {\n",
       "        text-align: right;\n",
       "    }\n",
       "</style>\n",
       "<table border=\"1\" class=\"dataframe\">\n",
       "  <thead>\n",
       "    <tr style=\"text-align: right;\">\n",
       "      <th></th>\n",
       "      <th>id</th>\n",
       "      <th>popularity</th>\n",
       "      <th>title</th>\n",
       "      <th>mod_gen</th>\n",
       "    </tr>\n",
       "  </thead>\n",
       "  <tbody>\n",
       "    <tr>\n",
       "      <th>2376</th>\n",
       "      <td>2377</td>\n",
       "      <td>1.970054</td>\n",
       "      <td>Jaane Tu... Ya Jaane Na</td>\n",
       "      <td>[Drama, Comedy, Romance]</td>\n",
       "    </tr>\n",
       "    <tr>\n",
       "      <th>2808</th>\n",
       "      <td>2809</td>\n",
       "      <td>12.724645</td>\n",
       "      <td>Ferris Bueller's Day Off</td>\n",
       "      <td>[Comedy]</td>\n",
       "    </tr>\n",
       "    <tr>\n",
       "      <th>2164</th>\n",
       "      <td>2165</td>\n",
       "      <td>12.975936</td>\n",
       "      <td>Joy</td>\n",
       "      <td>[Drama, Comedy]</td>\n",
       "    </tr>\n",
       "    <tr>\n",
       "      <th>1937</th>\n",
       "      <td>1938</td>\n",
       "      <td>5.402262</td>\n",
       "      <td>Don't Tell Mom the Babysitter's Dead</td>\n",
       "      <td>[Comedy, Family]</td>\n",
       "    </tr>\n",
       "    <tr>\n",
       "      <th>301</th>\n",
       "      <td>302</td>\n",
       "      <td>1.533379</td>\n",
       "      <td>I'm No Angel</td>\n",
       "      <td>[Comedy, Romance]</td>\n",
       "    </tr>\n",
       "  </tbody>\n",
       "</table>\n",
       "</div>"
      ],
      "text/plain": [
       "        id  popularity                                 title  \\\n",
       "2376  2377    1.970054               Jaane Tu... Ya Jaane Na   \n",
       "2808  2809   12.724645              Ferris Bueller's Day Off   \n",
       "2164  2165   12.975936                                   Joy   \n",
       "1937  1938    5.402262  Don't Tell Mom the Babysitter's Dead   \n",
       "301    302    1.533379                          I'm No Angel   \n",
       "\n",
       "                       mod_gen  \n",
       "2376  [Drama, Comedy, Romance]  \n",
       "2808                  [Comedy]  \n",
       "2164           [Drama, Comedy]  \n",
       "1937          [Comedy, Family]  \n",
       "301          [Comedy, Romance]  "
      ]
     },
     "execution_count": 90,
     "metadata": {},
     "output_type": "execute_result"
    }
   ],
   "source": [
    "#we have the required dataset\n",
    "imdb_df.head()"
   ]
  },
  {
   "cell_type": "code",
   "execution_count": 99,
   "id": "a82e1be8",
   "metadata": {},
   "outputs": [],
   "source": [
    "imdb_df.rename(columns = {'mod_gen':'genres_list'}, inplace = True)"
   ]
  },
  {
   "cell_type": "code",
   "execution_count": 100,
   "id": "d5b8c79d",
   "metadata": {},
   "outputs": [
    {
     "data": {
      "text/html": [
       "<div>\n",
       "<style scoped>\n",
       "    .dataframe tbody tr th:only-of-type {\n",
       "        vertical-align: middle;\n",
       "    }\n",
       "\n",
       "    .dataframe tbody tr th {\n",
       "        vertical-align: top;\n",
       "    }\n",
       "\n",
       "    .dataframe thead th {\n",
       "        text-align: right;\n",
       "    }\n",
       "</style>\n",
       "<table border=\"1\" class=\"dataframe\">\n",
       "  <thead>\n",
       "    <tr style=\"text-align: right;\">\n",
       "      <th></th>\n",
       "      <th>id</th>\n",
       "      <th>popularity</th>\n",
       "      <th>title</th>\n",
       "      <th>genres_list</th>\n",
       "    </tr>\n",
       "  </thead>\n",
       "  <tbody>\n",
       "    <tr>\n",
       "      <th>2376</th>\n",
       "      <td>2377</td>\n",
       "      <td>1.970054</td>\n",
       "      <td>Jaane Tu... Ya Jaane Na</td>\n",
       "      <td>[Drama, Comedy, Romance]</td>\n",
       "    </tr>\n",
       "    <tr>\n",
       "      <th>2808</th>\n",
       "      <td>2809</td>\n",
       "      <td>12.724645</td>\n",
       "      <td>Ferris Bueller's Day Off</td>\n",
       "      <td>[Comedy]</td>\n",
       "    </tr>\n",
       "    <tr>\n",
       "      <th>2164</th>\n",
       "      <td>2165</td>\n",
       "      <td>12.975936</td>\n",
       "      <td>Joy</td>\n",
       "      <td>[Drama, Comedy]</td>\n",
       "    </tr>\n",
       "    <tr>\n",
       "      <th>1937</th>\n",
       "      <td>1938</td>\n",
       "      <td>5.402262</td>\n",
       "      <td>Don't Tell Mom the Babysitter's Dead</td>\n",
       "      <td>[Comedy, Family]</td>\n",
       "    </tr>\n",
       "    <tr>\n",
       "      <th>301</th>\n",
       "      <td>302</td>\n",
       "      <td>1.533379</td>\n",
       "      <td>I'm No Angel</td>\n",
       "      <td>[Comedy, Romance]</td>\n",
       "    </tr>\n",
       "    <tr>\n",
       "      <th>...</th>\n",
       "      <td>...</td>\n",
       "      <td>...</td>\n",
       "      <td>...</td>\n",
       "      <td>...</td>\n",
       "    </tr>\n",
       "    <tr>\n",
       "      <th>1425</th>\n",
       "      <td>1426</td>\n",
       "      <td>13.284712</td>\n",
       "      <td>Superman Returns</td>\n",
       "      <td>[Adventure, Fantasy, Action, Science Fiction]</td>\n",
       "    </tr>\n",
       "    <tr>\n",
       "      <th>88</th>\n",
       "      <td>89</td>\n",
       "      <td>13.655178</td>\n",
       "      <td>The Zookeeper's Wife</td>\n",
       "      <td>[Drama, History]</td>\n",
       "    </tr>\n",
       "    <tr>\n",
       "      <th>468</th>\n",
       "      <td>469</td>\n",
       "      <td>12.260159</td>\n",
       "      <td>Adore</td>\n",
       "      <td>[Drama]</td>\n",
       "    </tr>\n",
       "    <tr>\n",
       "      <th>1628</th>\n",
       "      <td>1629</td>\n",
       "      <td>6.694959</td>\n",
       "      <td>The French Connection</td>\n",
       "      <td>[Action, Crime, Thriller]</td>\n",
       "    </tr>\n",
       "    <tr>\n",
       "      <th>2465</th>\n",
       "      <td>2466</td>\n",
       "      <td>8.132811</td>\n",
       "      <td>Take Me Home Tonight</td>\n",
       "      <td>[Comedy, Drama, Romance]</td>\n",
       "    </tr>\n",
       "  </tbody>\n",
       "</table>\n",
       "<p>1100 rows × 4 columns</p>\n",
       "</div>"
      ],
      "text/plain": [
       "        id  popularity                                 title  \\\n",
       "2376  2377    1.970054               Jaane Tu... Ya Jaane Na   \n",
       "2808  2809   12.724645              Ferris Bueller's Day Off   \n",
       "2164  2165   12.975936                                   Joy   \n",
       "1937  1938    5.402262  Don't Tell Mom the Babysitter's Dead   \n",
       "301    302    1.533379                          I'm No Angel   \n",
       "...    ...         ...                                   ...   \n",
       "1425  1426   13.284712                      Superman Returns   \n",
       "88      89   13.655178                  The Zookeeper's Wife   \n",
       "468    469   12.260159                                 Adore   \n",
       "1628  1629    6.694959                 The French Connection   \n",
       "2465  2466    8.132811                  Take Me Home Tonight   \n",
       "\n",
       "                                        genres_list  \n",
       "2376                       [Drama, Comedy, Romance]  \n",
       "2808                                       [Comedy]  \n",
       "2164                                [Drama, Comedy]  \n",
       "1937                               [Comedy, Family]  \n",
       "301                               [Comedy, Romance]  \n",
       "...                                             ...  \n",
       "1425  [Adventure, Fantasy, Action, Science Fiction]  \n",
       "88                                 [Drama, History]  \n",
       "468                                         [Drama]  \n",
       "1628                      [Action, Crime, Thriller]  \n",
       "2465                       [Comedy, Drama, Romance]  \n",
       "\n",
       "[1100 rows x 4 columns]"
      ]
     },
     "execution_count": 100,
     "metadata": {},
     "output_type": "execute_result"
    }
   ],
   "source": [
    "imdb_df"
   ]
  },
  {
   "cell_type": "code",
   "execution_count": 101,
   "id": "dc40ed1c",
   "metadata": {},
   "outputs": [],
   "source": [
    "\n",
    "from sklearn.preprocessing import MultiLabelBinarizer\n",
    "\n",
    "mlb = MultiLabelBinarizer(sparse_output=True)\n",
    "\n",
    "imdb_df = imdb_df.join(\n",
    "            pd.DataFrame.sparse.from_spmatrix(\n",
    "                mlb.fit_transform(imdb_df.pop('genres_list')),\n",
    "                index=imdb_df.index,\n",
    "                columns=mlb.classes_))"
   ]
  },
  {
   "cell_type": "code",
   "execution_count": 102,
   "id": "2638b238",
   "metadata": {},
   "outputs": [
    {
     "data": {
      "text/html": [
       "<div>\n",
       "<style scoped>\n",
       "    .dataframe tbody tr th:only-of-type {\n",
       "        vertical-align: middle;\n",
       "    }\n",
       "\n",
       "    .dataframe tbody tr th {\n",
       "        vertical-align: top;\n",
       "    }\n",
       "\n",
       "    .dataframe thead th {\n",
       "        text-align: right;\n",
       "    }\n",
       "</style>\n",
       "<table border=\"1\" class=\"dataframe\">\n",
       "  <thead>\n",
       "    <tr style=\"text-align: right;\">\n",
       "      <th></th>\n",
       "      <th>id</th>\n",
       "      <th>popularity</th>\n",
       "      <th>title</th>\n",
       "      <th>Action</th>\n",
       "      <th>Adventure</th>\n",
       "      <th>Animation</th>\n",
       "      <th>Comedy</th>\n",
       "      <th>Crime</th>\n",
       "      <th>Documentary</th>\n",
       "      <th>Drama</th>\n",
       "      <th>...</th>\n",
       "      <th>Foreign</th>\n",
       "      <th>History</th>\n",
       "      <th>Horror</th>\n",
       "      <th>Music</th>\n",
       "      <th>Mystery</th>\n",
       "      <th>Romance</th>\n",
       "      <th>Science Fiction</th>\n",
       "      <th>Thriller</th>\n",
       "      <th>War</th>\n",
       "      <th>Western</th>\n",
       "    </tr>\n",
       "  </thead>\n",
       "  <tbody>\n",
       "    <tr>\n",
       "      <th>2376</th>\n",
       "      <td>2377</td>\n",
       "      <td>1.970054</td>\n",
       "      <td>Jaane Tu... Ya Jaane Na</td>\n",
       "      <td>0</td>\n",
       "      <td>0</td>\n",
       "      <td>0</td>\n",
       "      <td>1</td>\n",
       "      <td>0</td>\n",
       "      <td>0</td>\n",
       "      <td>1</td>\n",
       "      <td>...</td>\n",
       "      <td>0</td>\n",
       "      <td>0</td>\n",
       "      <td>0</td>\n",
       "      <td>0</td>\n",
       "      <td>0</td>\n",
       "      <td>1</td>\n",
       "      <td>0</td>\n",
       "      <td>0</td>\n",
       "      <td>0</td>\n",
       "      <td>0</td>\n",
       "    </tr>\n",
       "    <tr>\n",
       "      <th>2808</th>\n",
       "      <td>2809</td>\n",
       "      <td>12.724645</td>\n",
       "      <td>Ferris Bueller's Day Off</td>\n",
       "      <td>0</td>\n",
       "      <td>0</td>\n",
       "      <td>0</td>\n",
       "      <td>1</td>\n",
       "      <td>0</td>\n",
       "      <td>0</td>\n",
       "      <td>0</td>\n",
       "      <td>...</td>\n",
       "      <td>0</td>\n",
       "      <td>0</td>\n",
       "      <td>0</td>\n",
       "      <td>0</td>\n",
       "      <td>0</td>\n",
       "      <td>0</td>\n",
       "      <td>0</td>\n",
       "      <td>0</td>\n",
       "      <td>0</td>\n",
       "      <td>0</td>\n",
       "    </tr>\n",
       "    <tr>\n",
       "      <th>2164</th>\n",
       "      <td>2165</td>\n",
       "      <td>12.975936</td>\n",
       "      <td>Joy</td>\n",
       "      <td>0</td>\n",
       "      <td>0</td>\n",
       "      <td>0</td>\n",
       "      <td>1</td>\n",
       "      <td>0</td>\n",
       "      <td>0</td>\n",
       "      <td>1</td>\n",
       "      <td>...</td>\n",
       "      <td>0</td>\n",
       "      <td>0</td>\n",
       "      <td>0</td>\n",
       "      <td>0</td>\n",
       "      <td>0</td>\n",
       "      <td>0</td>\n",
       "      <td>0</td>\n",
       "      <td>0</td>\n",
       "      <td>0</td>\n",
       "      <td>0</td>\n",
       "    </tr>\n",
       "    <tr>\n",
       "      <th>1937</th>\n",
       "      <td>1938</td>\n",
       "      <td>5.402262</td>\n",
       "      <td>Don't Tell Mom the Babysitter's Dead</td>\n",
       "      <td>0</td>\n",
       "      <td>0</td>\n",
       "      <td>0</td>\n",
       "      <td>1</td>\n",
       "      <td>0</td>\n",
       "      <td>0</td>\n",
       "      <td>0</td>\n",
       "      <td>...</td>\n",
       "      <td>0</td>\n",
       "      <td>0</td>\n",
       "      <td>0</td>\n",
       "      <td>0</td>\n",
       "      <td>0</td>\n",
       "      <td>0</td>\n",
       "      <td>0</td>\n",
       "      <td>0</td>\n",
       "      <td>0</td>\n",
       "      <td>0</td>\n",
       "    </tr>\n",
       "    <tr>\n",
       "      <th>301</th>\n",
       "      <td>302</td>\n",
       "      <td>1.533379</td>\n",
       "      <td>I'm No Angel</td>\n",
       "      <td>0</td>\n",
       "      <td>0</td>\n",
       "      <td>0</td>\n",
       "      <td>1</td>\n",
       "      <td>0</td>\n",
       "      <td>0</td>\n",
       "      <td>0</td>\n",
       "      <td>...</td>\n",
       "      <td>0</td>\n",
       "      <td>0</td>\n",
       "      <td>0</td>\n",
       "      <td>0</td>\n",
       "      <td>0</td>\n",
       "      <td>1</td>\n",
       "      <td>0</td>\n",
       "      <td>0</td>\n",
       "      <td>0</td>\n",
       "      <td>0</td>\n",
       "    </tr>\n",
       "    <tr>\n",
       "      <th>...</th>\n",
       "      <td>...</td>\n",
       "      <td>...</td>\n",
       "      <td>...</td>\n",
       "      <td>...</td>\n",
       "      <td>...</td>\n",
       "      <td>...</td>\n",
       "      <td>...</td>\n",
       "      <td>...</td>\n",
       "      <td>...</td>\n",
       "      <td>...</td>\n",
       "      <td>...</td>\n",
       "      <td>...</td>\n",
       "      <td>...</td>\n",
       "      <td>...</td>\n",
       "      <td>...</td>\n",
       "      <td>...</td>\n",
       "      <td>...</td>\n",
       "      <td>...</td>\n",
       "      <td>...</td>\n",
       "      <td>...</td>\n",
       "      <td>...</td>\n",
       "    </tr>\n",
       "    <tr>\n",
       "      <th>1425</th>\n",
       "      <td>1426</td>\n",
       "      <td>13.284712</td>\n",
       "      <td>Superman Returns</td>\n",
       "      <td>1</td>\n",
       "      <td>1</td>\n",
       "      <td>0</td>\n",
       "      <td>0</td>\n",
       "      <td>0</td>\n",
       "      <td>0</td>\n",
       "      <td>0</td>\n",
       "      <td>...</td>\n",
       "      <td>0</td>\n",
       "      <td>0</td>\n",
       "      <td>0</td>\n",
       "      <td>0</td>\n",
       "      <td>0</td>\n",
       "      <td>0</td>\n",
       "      <td>1</td>\n",
       "      <td>0</td>\n",
       "      <td>0</td>\n",
       "      <td>0</td>\n",
       "    </tr>\n",
       "    <tr>\n",
       "      <th>88</th>\n",
       "      <td>89</td>\n",
       "      <td>13.655178</td>\n",
       "      <td>The Zookeeper's Wife</td>\n",
       "      <td>0</td>\n",
       "      <td>0</td>\n",
       "      <td>0</td>\n",
       "      <td>0</td>\n",
       "      <td>0</td>\n",
       "      <td>0</td>\n",
       "      <td>1</td>\n",
       "      <td>...</td>\n",
       "      <td>0</td>\n",
       "      <td>1</td>\n",
       "      <td>0</td>\n",
       "      <td>0</td>\n",
       "      <td>0</td>\n",
       "      <td>0</td>\n",
       "      <td>0</td>\n",
       "      <td>0</td>\n",
       "      <td>0</td>\n",
       "      <td>0</td>\n",
       "    </tr>\n",
       "    <tr>\n",
       "      <th>468</th>\n",
       "      <td>469</td>\n",
       "      <td>12.260159</td>\n",
       "      <td>Adore</td>\n",
       "      <td>0</td>\n",
       "      <td>0</td>\n",
       "      <td>0</td>\n",
       "      <td>0</td>\n",
       "      <td>0</td>\n",
       "      <td>0</td>\n",
       "      <td>1</td>\n",
       "      <td>...</td>\n",
       "      <td>0</td>\n",
       "      <td>0</td>\n",
       "      <td>0</td>\n",
       "      <td>0</td>\n",
       "      <td>0</td>\n",
       "      <td>0</td>\n",
       "      <td>0</td>\n",
       "      <td>0</td>\n",
       "      <td>0</td>\n",
       "      <td>0</td>\n",
       "    </tr>\n",
       "    <tr>\n",
       "      <th>1628</th>\n",
       "      <td>1629</td>\n",
       "      <td>6.694959</td>\n",
       "      <td>The French Connection</td>\n",
       "      <td>1</td>\n",
       "      <td>0</td>\n",
       "      <td>0</td>\n",
       "      <td>0</td>\n",
       "      <td>1</td>\n",
       "      <td>0</td>\n",
       "      <td>0</td>\n",
       "      <td>...</td>\n",
       "      <td>0</td>\n",
       "      <td>0</td>\n",
       "      <td>0</td>\n",
       "      <td>0</td>\n",
       "      <td>0</td>\n",
       "      <td>0</td>\n",
       "      <td>0</td>\n",
       "      <td>1</td>\n",
       "      <td>0</td>\n",
       "      <td>0</td>\n",
       "    </tr>\n",
       "    <tr>\n",
       "      <th>2465</th>\n",
       "      <td>2466</td>\n",
       "      <td>8.132811</td>\n",
       "      <td>Take Me Home Tonight</td>\n",
       "      <td>0</td>\n",
       "      <td>0</td>\n",
       "      <td>0</td>\n",
       "      <td>1</td>\n",
       "      <td>0</td>\n",
       "      <td>0</td>\n",
       "      <td>1</td>\n",
       "      <td>...</td>\n",
       "      <td>0</td>\n",
       "      <td>0</td>\n",
       "      <td>0</td>\n",
       "      <td>0</td>\n",
       "      <td>0</td>\n",
       "      <td>1</td>\n",
       "      <td>0</td>\n",
       "      <td>0</td>\n",
       "      <td>0</td>\n",
       "      <td>0</td>\n",
       "    </tr>\n",
       "  </tbody>\n",
       "</table>\n",
       "<p>1100 rows × 22 columns</p>\n",
       "</div>"
      ],
      "text/plain": [
       "        id  popularity                                 title  Action  \\\n",
       "2376  2377    1.970054               Jaane Tu... Ya Jaane Na       0   \n",
       "2808  2809   12.724645              Ferris Bueller's Day Off       0   \n",
       "2164  2165   12.975936                                   Joy       0   \n",
       "1937  1938    5.402262  Don't Tell Mom the Babysitter's Dead       0   \n",
       "301    302    1.533379                          I'm No Angel       0   \n",
       "...    ...         ...                                   ...     ...   \n",
       "1425  1426   13.284712                      Superman Returns       1   \n",
       "88      89   13.655178                  The Zookeeper's Wife       0   \n",
       "468    469   12.260159                                 Adore       0   \n",
       "1628  1629    6.694959                 The French Connection       1   \n",
       "2465  2466    8.132811                  Take Me Home Tonight       0   \n",
       "\n",
       "      Adventure  Animation  Comedy  Crime  Documentary  Drama  ...  Foreign  \\\n",
       "2376          0          0       1      0            0      1  ...        0   \n",
       "2808          0          0       1      0            0      0  ...        0   \n",
       "2164          0          0       1      0            0      1  ...        0   \n",
       "1937          0          0       1      0            0      0  ...        0   \n",
       "301           0          0       1      0            0      0  ...        0   \n",
       "...         ...        ...     ...    ...          ...    ...  ...      ...   \n",
       "1425          1          0       0      0            0      0  ...        0   \n",
       "88            0          0       0      0            0      1  ...        0   \n",
       "468           0          0       0      0            0      1  ...        0   \n",
       "1628          0          0       0      1            0      0  ...        0   \n",
       "2465          0          0       1      0            0      1  ...        0   \n",
       "\n",
       "      History  Horror  Music  Mystery  Romance  Science Fiction  Thriller  \\\n",
       "2376        0       0      0        0        1                0         0   \n",
       "2808        0       0      0        0        0                0         0   \n",
       "2164        0       0      0        0        0                0         0   \n",
       "1937        0       0      0        0        0                0         0   \n",
       "301         0       0      0        0        1                0         0   \n",
       "...       ...     ...    ...      ...      ...              ...       ...   \n",
       "1425        0       0      0        0        0                1         0   \n",
       "88          1       0      0        0        0                0         0   \n",
       "468         0       0      0        0        0                0         0   \n",
       "1628        0       0      0        0        0                0         1   \n",
       "2465        0       0      0        0        1                0         0   \n",
       "\n",
       "      War  Western  \n",
       "2376    0        0  \n",
       "2808    0        0  \n",
       "2164    0        0  \n",
       "1937    0        0  \n",
       "301     0        0  \n",
       "...   ...      ...  \n",
       "1425    0        0  \n",
       "88      0        0  \n",
       "468     0        0  \n",
       "1628    0        0  \n",
       "2465    0        0  \n",
       "\n",
       "[1100 rows x 22 columns]"
      ]
     },
     "execution_count": 102,
     "metadata": {},
     "output_type": "execute_result"
    }
   ],
   "source": [
    "imdb_df"
   ]
  },
  {
   "cell_type": "code",
   "execution_count": null,
   "id": "595be043",
   "metadata": {},
   "outputs": [],
   "source": []
  }
 ],
 "metadata": {
  "kernelspec": {
   "display_name": "Python 3 (ipykernel)",
   "language": "python",
   "name": "python3"
  },
  "language_info": {
   "codemirror_mode": {
    "name": "ipython",
    "version": 3
   },
   "file_extension": ".py",
   "mimetype": "text/x-python",
   "name": "python",
   "nbconvert_exporter": "python",
   "pygments_lexer": "ipython3",
   "version": "3.9.12"
  }
 },
 "nbformat": 4,
 "nbformat_minor": 5
}
