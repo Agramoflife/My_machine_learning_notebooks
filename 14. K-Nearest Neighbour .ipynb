{
 "cells": [
  {
   "cell_type": "markdown",
   "id": "789053f2",
   "metadata": {},
   "source": [
    "# K nearest neighbour  \n",
    "not much of math is involved in this so we would just stick to the concept and get ourself acquainted analogous examples "
   ]
  },
  {
   "cell_type": "markdown",
   "id": "25f09331",
   "metadata": {},
   "source": [
    "- This is a non parametric model - which means there are no weights associated with the features i.e no statistical quantity is estimated \n",
    "\n",
    "- There is no as such assumption in non parametric models like the distribution of target variable etc \n",
    "\n",
    "- It can be used for both classification where you decide the class of the instance based on the class of the k datapoints (majority wins) and regression where you just take the average of k datapoints around the instance  "
   ]
  },
  {
   "cell_type": "markdown",
   "id": "cd2f34cc",
   "metadata": {},
   "source": [
    "## Minkowski distance"
   ]
  },
  {
   "cell_type": "markdown",
   "id": "e5b1f8ba",
   "metadata": {},
   "source": [
    "Thank you for the clarification. The Minkowski distance is indeed a well-known distance metric used in mathematics and data science. It is a generalization of several other distance metrics, including the Euclidean distance and the Manhattan distance.\n",
    "\n",
    "The Minkowski distance between two points, often denoted as \"P\" and \"Q,\" in an n-dimensional space is defined as:\n",
    "\n",
    "[D(P, Q) = \\left(\\sum_{i=1}^{n} |P_i - Q_i|^p\\right)^{\\frac{1}{p}}\\]\n",
    "\n",
    "Here:\n",
    "\n",
    "- \\(D(P, Q)\\) represents the Minkowski distance between points \\(P\\) and \\(Q\\).\n",
    "- \\(n\\) is the number of dimensions (features) in the space.\n",
    "- \\(P_i\\) and \\(Q_i\\) are the respective coordinates of points \\(P\\) and \\(Q\\) in the \\(i\\)-th dimension.\n",
    "- \\(p\\) is a positive real number, which is a parameter that determines the \"order\" of the Minkowski distance. When \\(p = 2\\), it reduces to the Euclidean distance, and when \\(p = 1\\), it becomes the Manhattan distance.\n",
    "\n",
    "In summary, the Minkowski distance is a flexible distance metric that can take on various forms depending on the value of the parameter \\(p\\). It is commonly used in clustering, classification, and regression algorithms to measure the similarity or dissimilarity between data points in multi-dimensional spaces."
   ]
  },
  {
   "cell_type": "markdown",
   "id": "b40bbab7",
   "metadata": {},
   "source": [
    "**It is just a generic formula to find the distance between 2 points, you put the dimension (p value ) you getthe distance between points in respective dimensions** "
   ]
  },
  {
   "cell_type": "markdown",
   "id": "3d09e71d",
   "metadata": {},
   "source": [
    "## There is no as such relation between the graph which they have show in the KNN lecture notebook "
   ]
  },
  {
   "cell_type": "markdown",
   "id": "66b5e306",
   "metadata": {},
   "source": [
    "To understand the relation between overfitting and K consdier this if K = 1 the model is a over fit why because it fails to generalize the assumption, suppose you want to go to a resturant you ask one friend and he said the food is good there but that is his opinion it is not a general oppinion shared by group hence if k =1  the model overfits and when K is very high it underfits "
   ]
  },
  {
   "cell_type": "markdown",
   "id": "3df9ecf5",
   "metadata": {},
   "source": [
    "You can consider that with less value of K we will have a very twisty and curvy line where as for a large value of K we will have a line similar to linear line "
   ]
  },
  {
   "cell_type": "markdown",
   "id": "54fe7639",
   "metadata": {},
   "source": [
    "https://bl.ocks.org/duhaime/raw/8f7bb6a720d3d654c1ef00f777e97707/  "
   ]
  },
  {
   "cell_type": "markdown",
   "id": "8daa1d81",
   "metadata": {},
   "source": [
    "Now comming back to this visual representation consider the tip of the cursor arrow to be test datapoint now if you set the k = 1 and move the cursor you will notice for a small movement in curose the class changes so what is exactly happening, so for every small change the model is learning and kind of over learns but when we set the value of k to be let's say 10 then the the class is not that sensitive to data hence it has generalized the learning hence if we increase the value of k by alot then it over generalizes and make the mode underfit \n",
    "\n",
    "so samll change in the datapoint the class changes when k = 1 which means a very high variance and low bias i.e did not generalize this is perfect explation of overfitting model where varaince is super high and bais is super low \n",
    "\n",
    "Arnav has explained it very well in the video at 1:27:00 mins "
   ]
  },
  {
   "cell_type": "markdown",
   "id": "c9f529c4",
   "metadata": {},
   "source": [
    "**some tricks of trade**"
   ]
  },
  {
   "cell_type": "markdown",
   "id": "58a325fe",
   "metadata": {},
   "source": [
    "The value of k is usually odd so that there is a clear distribution of classes that is if k = 5 we can have 2,3 but when k = 4 we can have 2,2 i.e 2 from class A and class B"
   ]
  },
  {
   "cell_type": "markdown",
   "id": "dfb44c56",
   "metadata": {},
   "source": [
    "If the value of k is very large it will become computationally heavy as it will have to calculate lot of distances "
   ]
  },
  {
   "cell_type": "markdown",
   "id": "053e995e",
   "metadata": {},
   "source": [
    "The lecture notes are quite simple so not need to repeat the stuff here "
   ]
  },
  {
   "cell_type": "markdown",
   "id": "7209fded",
   "metadata": {},
   "source": [
    "# Here is how the dicision boundary made , rather call it a dilemma boundry, The decision boundry is actually the line drawn over the data points which are not sure to which class do they belong \n",
    "## this is why with k = 1 we will have a complex boundary "
   ]
  },
  {
   "cell_type": "markdown",
   "id": "16346472",
   "metadata": {},
   "source": [
    "take an example of yourself you live in ballia which some people call it is in bihar and some call it is in up so you say you life on the border where divides bihar and up same is with dilemma "
   ]
  },
  {
   "cell_type": "code",
   "execution_count": 220,
   "id": "e114e0e5",
   "metadata": {},
   "outputs": [],
   "source": [
    "import numpy as np\n",
    "import pandas as pd \n",
    "import matplotlib.pyplot as plt\n",
    "import seaborn as sns\n",
    "plt.style.use('ggplot') # this gives a grey background"
   ]
  },
  {
   "cell_type": "code",
   "execution_count": 221,
   "id": "50f2e7e1",
   "metadata": {},
   "outputs": [
    {
     "data": {
      "text/plain": [
       "'C:\\\\Users\\\\Deepu\\\\Downloads'"
      ]
     },
     "execution_count": 221,
     "metadata": {},
     "output_type": "execute_result"
    }
   ],
   "source": [
    "pwd"
   ]
  },
  {
   "cell_type": "code",
   "execution_count": 222,
   "id": "1acddea4",
   "metadata": {},
   "outputs": [
    {
     "name": "stdout",
     "output_type": "stream",
     "text": [
      "C:\\Users\\Deepu\\Downloads\n"
     ]
    }
   ],
   "source": [
    "cd C:\\\\Users\\\\Deepu\\\\Downloads"
   ]
  },
  {
   "cell_type": "code",
   "execution_count": 223,
   "id": "59490305",
   "metadata": {},
   "outputs": [],
   "source": [
    "df = pd.read_csv('diabetes.csv.csv')"
   ]
  },
  {
   "cell_type": "code",
   "execution_count": 224,
   "id": "a4a63023",
   "metadata": {},
   "outputs": [
    {
     "data": {
      "text/html": [
       "<div>\n",
       "<style scoped>\n",
       "    .dataframe tbody tr th:only-of-type {\n",
       "        vertical-align: middle;\n",
       "    }\n",
       "\n",
       "    .dataframe tbody tr th {\n",
       "        vertical-align: top;\n",
       "    }\n",
       "\n",
       "    .dataframe thead th {\n",
       "        text-align: right;\n",
       "    }\n",
       "</style>\n",
       "<table border=\"1\" class=\"dataframe\">\n",
       "  <thead>\n",
       "    <tr style=\"text-align: right;\">\n",
       "      <th></th>\n",
       "      <th>Pregnancies</th>\n",
       "      <th>Glucose</th>\n",
       "      <th>BloodPressure</th>\n",
       "      <th>SkinThickness</th>\n",
       "      <th>Insulin</th>\n",
       "      <th>BMI</th>\n",
       "      <th>DiabetesPedigreeFunction</th>\n",
       "      <th>Age</th>\n",
       "      <th>Outcome</th>\n",
       "    </tr>\n",
       "  </thead>\n",
       "  <tbody>\n",
       "    <tr>\n",
       "      <th>0</th>\n",
       "      <td>6</td>\n",
       "      <td>148</td>\n",
       "      <td>72</td>\n",
       "      <td>35</td>\n",
       "      <td>0</td>\n",
       "      <td>33.6</td>\n",
       "      <td>0.627</td>\n",
       "      <td>50</td>\n",
       "      <td>1</td>\n",
       "    </tr>\n",
       "    <tr>\n",
       "      <th>1</th>\n",
       "      <td>1</td>\n",
       "      <td>85</td>\n",
       "      <td>66</td>\n",
       "      <td>29</td>\n",
       "      <td>0</td>\n",
       "      <td>26.6</td>\n",
       "      <td>0.351</td>\n",
       "      <td>31</td>\n",
       "      <td>0</td>\n",
       "    </tr>\n",
       "    <tr>\n",
       "      <th>2</th>\n",
       "      <td>8</td>\n",
       "      <td>183</td>\n",
       "      <td>64</td>\n",
       "      <td>0</td>\n",
       "      <td>0</td>\n",
       "      <td>23.3</td>\n",
       "      <td>0.672</td>\n",
       "      <td>32</td>\n",
       "      <td>1</td>\n",
       "    </tr>\n",
       "    <tr>\n",
       "      <th>3</th>\n",
       "      <td>1</td>\n",
       "      <td>89</td>\n",
       "      <td>66</td>\n",
       "      <td>23</td>\n",
       "      <td>94</td>\n",
       "      <td>28.1</td>\n",
       "      <td>0.167</td>\n",
       "      <td>21</td>\n",
       "      <td>0</td>\n",
       "    </tr>\n",
       "    <tr>\n",
       "      <th>4</th>\n",
       "      <td>0</td>\n",
       "      <td>137</td>\n",
       "      <td>40</td>\n",
       "      <td>35</td>\n",
       "      <td>168</td>\n",
       "      <td>43.1</td>\n",
       "      <td>2.288</td>\n",
       "      <td>33</td>\n",
       "      <td>1</td>\n",
       "    </tr>\n",
       "  </tbody>\n",
       "</table>\n",
       "</div>"
      ],
      "text/plain": [
       "   Pregnancies  Glucose  BloodPressure  SkinThickness  Insulin   BMI  \\\n",
       "0            6      148             72             35        0  33.6   \n",
       "1            1       85             66             29        0  26.6   \n",
       "2            8      183             64              0        0  23.3   \n",
       "3            1       89             66             23       94  28.1   \n",
       "4            0      137             40             35      168  43.1   \n",
       "\n",
       "   DiabetesPedigreeFunction  Age  Outcome  \n",
       "0                     0.627   50        1  \n",
       "1                     0.351   31        0  \n",
       "2                     0.672   32        1  \n",
       "3                     0.167   21        0  \n",
       "4                     2.288   33        1  "
      ]
     },
     "execution_count": 224,
     "metadata": {},
     "output_type": "execute_result"
    }
   ],
   "source": [
    "df.head()"
   ]
  },
  {
   "cell_type": "code",
   "execution_count": 225,
   "id": "edae9c27",
   "metadata": {},
   "outputs": [
    {
     "data": {
      "text/plain": [
       "(768, 9)"
      ]
     },
     "execution_count": 225,
     "metadata": {},
     "output_type": "execute_result"
    }
   ],
   "source": [
    "df.shape"
   ]
  },
  {
   "cell_type": "code",
   "execution_count": 226,
   "id": "bbf31090",
   "metadata": {},
   "outputs": [
    {
     "name": "stdout",
     "output_type": "stream",
     "text": [
      "<class 'pandas.core.frame.DataFrame'>\n",
      "RangeIndex: 768 entries, 0 to 767\n",
      "Data columns (total 9 columns):\n",
      " #   Column                    Non-Null Count  Dtype  \n",
      "---  ------                    --------------  -----  \n",
      " 0   Pregnancies               768 non-null    int64  \n",
      " 1   Glucose                   768 non-null    int64  \n",
      " 2   BloodPressure             768 non-null    int64  \n",
      " 3   SkinThickness             768 non-null    int64  \n",
      " 4   Insulin                   768 non-null    int64  \n",
      " 5   BMI                       768 non-null    float64\n",
      " 6   DiabetesPedigreeFunction  768 non-null    float64\n",
      " 7   Age                       768 non-null    int64  \n",
      " 8   Outcome                   768 non-null    int64  \n",
      "dtypes: float64(2), int64(7)\n",
      "memory usage: 54.1 KB\n"
     ]
    }
   ],
   "source": [
    "df.info()\n"
   ]
  },
  {
   "cell_type": "code",
   "execution_count": 227,
   "id": "b5af8bc4",
   "metadata": {},
   "outputs": [
    {
     "data": {
      "text/html": [
       "<div>\n",
       "<style scoped>\n",
       "    .dataframe tbody tr th:only-of-type {\n",
       "        vertical-align: middle;\n",
       "    }\n",
       "\n",
       "    .dataframe tbody tr th {\n",
       "        vertical-align: top;\n",
       "    }\n",
       "\n",
       "    .dataframe thead th {\n",
       "        text-align: right;\n",
       "    }\n",
       "</style>\n",
       "<table border=\"1\" class=\"dataframe\">\n",
       "  <thead>\n",
       "    <tr style=\"text-align: right;\">\n",
       "      <th></th>\n",
       "      <th>Pregnancies</th>\n",
       "      <th>Glucose</th>\n",
       "      <th>BloodPressure</th>\n",
       "      <th>SkinThickness</th>\n",
       "      <th>Insulin</th>\n",
       "      <th>BMI</th>\n",
       "      <th>DiabetesPedigreeFunction</th>\n",
       "      <th>Age</th>\n",
       "      <th>Outcome</th>\n",
       "    </tr>\n",
       "  </thead>\n",
       "  <tbody>\n",
       "    <tr>\n",
       "      <th>count</th>\n",
       "      <td>768.000000</td>\n",
       "      <td>768.000000</td>\n",
       "      <td>768.000000</td>\n",
       "      <td>768.000000</td>\n",
       "      <td>768.000000</td>\n",
       "      <td>768.000000</td>\n",
       "      <td>768.000000</td>\n",
       "      <td>768.000000</td>\n",
       "      <td>768.000000</td>\n",
       "    </tr>\n",
       "    <tr>\n",
       "      <th>mean</th>\n",
       "      <td>3.845052</td>\n",
       "      <td>120.894531</td>\n",
       "      <td>69.105469</td>\n",
       "      <td>20.536458</td>\n",
       "      <td>79.799479</td>\n",
       "      <td>31.992578</td>\n",
       "      <td>0.471876</td>\n",
       "      <td>33.240885</td>\n",
       "      <td>0.348958</td>\n",
       "    </tr>\n",
       "    <tr>\n",
       "      <th>std</th>\n",
       "      <td>3.369578</td>\n",
       "      <td>31.972618</td>\n",
       "      <td>19.355807</td>\n",
       "      <td>15.952218</td>\n",
       "      <td>115.244002</td>\n",
       "      <td>7.884160</td>\n",
       "      <td>0.331329</td>\n",
       "      <td>11.760232</td>\n",
       "      <td>0.476951</td>\n",
       "    </tr>\n",
       "    <tr>\n",
       "      <th>min</th>\n",
       "      <td>0.000000</td>\n",
       "      <td>0.000000</td>\n",
       "      <td>0.000000</td>\n",
       "      <td>0.000000</td>\n",
       "      <td>0.000000</td>\n",
       "      <td>0.000000</td>\n",
       "      <td>0.078000</td>\n",
       "      <td>21.000000</td>\n",
       "      <td>0.000000</td>\n",
       "    </tr>\n",
       "    <tr>\n",
       "      <th>25%</th>\n",
       "      <td>1.000000</td>\n",
       "      <td>99.000000</td>\n",
       "      <td>62.000000</td>\n",
       "      <td>0.000000</td>\n",
       "      <td>0.000000</td>\n",
       "      <td>27.300000</td>\n",
       "      <td>0.243750</td>\n",
       "      <td>24.000000</td>\n",
       "      <td>0.000000</td>\n",
       "    </tr>\n",
       "    <tr>\n",
       "      <th>50%</th>\n",
       "      <td>3.000000</td>\n",
       "      <td>117.000000</td>\n",
       "      <td>72.000000</td>\n",
       "      <td>23.000000</td>\n",
       "      <td>30.500000</td>\n",
       "      <td>32.000000</td>\n",
       "      <td>0.372500</td>\n",
       "      <td>29.000000</td>\n",
       "      <td>0.000000</td>\n",
       "    </tr>\n",
       "    <tr>\n",
       "      <th>75%</th>\n",
       "      <td>6.000000</td>\n",
       "      <td>140.250000</td>\n",
       "      <td>80.000000</td>\n",
       "      <td>32.000000</td>\n",
       "      <td>127.250000</td>\n",
       "      <td>36.600000</td>\n",
       "      <td>0.626250</td>\n",
       "      <td>41.000000</td>\n",
       "      <td>1.000000</td>\n",
       "    </tr>\n",
       "    <tr>\n",
       "      <th>max</th>\n",
       "      <td>17.000000</td>\n",
       "      <td>199.000000</td>\n",
       "      <td>122.000000</td>\n",
       "      <td>99.000000</td>\n",
       "      <td>846.000000</td>\n",
       "      <td>67.100000</td>\n",
       "      <td>2.420000</td>\n",
       "      <td>81.000000</td>\n",
       "      <td>1.000000</td>\n",
       "    </tr>\n",
       "  </tbody>\n",
       "</table>\n",
       "</div>"
      ],
      "text/plain": [
       "       Pregnancies     Glucose  BloodPressure  SkinThickness     Insulin  \\\n",
       "count   768.000000  768.000000     768.000000     768.000000  768.000000   \n",
       "mean      3.845052  120.894531      69.105469      20.536458   79.799479   \n",
       "std       3.369578   31.972618      19.355807      15.952218  115.244002   \n",
       "min       0.000000    0.000000       0.000000       0.000000    0.000000   \n",
       "25%       1.000000   99.000000      62.000000       0.000000    0.000000   \n",
       "50%       3.000000  117.000000      72.000000      23.000000   30.500000   \n",
       "75%       6.000000  140.250000      80.000000      32.000000  127.250000   \n",
       "max      17.000000  199.000000     122.000000      99.000000  846.000000   \n",
       "\n",
       "              BMI  DiabetesPedigreeFunction         Age     Outcome  \n",
       "count  768.000000                768.000000  768.000000  768.000000  \n",
       "mean    31.992578                  0.471876   33.240885    0.348958  \n",
       "std      7.884160                  0.331329   11.760232    0.476951  \n",
       "min      0.000000                  0.078000   21.000000    0.000000  \n",
       "25%     27.300000                  0.243750   24.000000    0.000000  \n",
       "50%     32.000000                  0.372500   29.000000    0.000000  \n",
       "75%     36.600000                  0.626250   41.000000    1.000000  \n",
       "max     67.100000                  2.420000   81.000000    1.000000  "
      ]
     },
     "execution_count": 227,
     "metadata": {},
     "output_type": "execute_result"
    }
   ],
   "source": [
    "df.describe(include = 'all')"
   ]
  },
  {
   "cell_type": "code",
   "execution_count": 228,
   "id": "85f9b34e",
   "metadata": {},
   "outputs": [
    {
     "name": "stderr",
     "output_type": "stream",
     "text": [
      "C:\\ProgramData\\Anaconda3\\lib\\site-packages\\seaborn\\_decorators.py:36: FutureWarning: Pass the following variable as a keyword arg: x. From version 0.12, the only valid positional argument will be `data`, and passing other arguments without an explicit keyword will result in an error or misinterpretation.\n",
      "  warnings.warn(\n"
     ]
    },
    {
     "data": {
      "image/png": "[encoded data removed]",
      "text/plain": [
       "<Figure size 360x288 with 1 Axes>"
      ]
     },
     "metadata": {},
     "output_type": "display_data"
    }
   ],
   "source": [
    "# let's check if we are dealing with imbalance data set\n",
    "plt.figure(figsize = (5,4))\n",
    "sns.countplot(df.Outcome)\n",
    "plt.show()\n",
    "# so yes\n",
    "# we will have to use stratify to split the data so that proporation of class is mainted in the split "
   ]
  },
  {
   "cell_type": "code",
   "execution_count": 229,
   "id": "a2208fab",
   "metadata": {},
   "outputs": [],
   "source": [
    "# let's make an array of independent and dependent varialbes \n",
    "X = df.drop('Outcome',axis = 1).values # independent/features\n",
    "y = df.Outcome.values # dependent/ target "
   ]
  },
  {
   "cell_type": "code",
   "execution_count": 230,
   "id": "c6a1235f",
   "metadata": {},
   "outputs": [],
   "source": [
    "#let's train test split \n",
    "from sklearn.model_selection import train_test_split"
   ]
  },
  {
   "cell_type": "code",
   "execution_count": 131,
   "id": "1648c6a2",
   "metadata": {},
   "outputs": [],
   "source": [
    "X_train,X_test,y_train,y_test = train_test_split(X, y, test_size = 0.2, random_state = 30, stratify = y)\n",
    "# stratify makes sure that we have the same propration of class during split and one class does not domination on other "
   ]
  },
  {
   "cell_type": "code",
   "execution_count": 132,
   "id": "884c72de",
   "metadata": {},
   "outputs": [],
   "source": [
    "from sklearn.neighbors import KNeighborsClassifier "
   ]
  },
  {
   "cell_type": "markdown",
   "id": "643b7396",
   "metadata": {},
   "source": [
    "Let's fit model on one value of K then we first"
   ]
  },
  {
   "cell_type": "code",
   "execution_count": 133,
   "id": "a6e55a80",
   "metadata": {},
   "outputs": [
    {
     "data": {
      "text/plain": [
       "0.7922077922077922"
      ]
     },
     "execution_count": 133,
     "metadata": {},
     "output_type": "execute_result"
    }
   ],
   "source": [
    "knn = KNeighborsClassifier(n_neighbors = 5)\n",
    "knn.fit(X_train,y_train)\n",
    "knn.score(X_test,y_test)"
   ]
  },
  {
   "cell_type": "code",
   "execution_count": 134,
   "id": "3823ff2a",
   "metadata": {},
   "outputs": [],
   "source": [
    "from sklearn.metrics import accuracy_score "
   ]
  },
  {
   "cell_type": "code",
   "execution_count": 135,
   "id": "e155059c",
   "metadata": {},
   "outputs": [
    {
     "data": {
      "text/plain": [
       "0.7922077922077922"
      ]
     },
     "execution_count": 135,
     "metadata": {},
     "output_type": "execute_result"
    }
   ],
   "source": [
    "accuracy_score(y_test,knn.predict(X_test)) \n",
    "# so either you do it with method or function it's the same math "
   ]
  },
  {
   "cell_type": "markdown",
   "id": "76dd2892",
   "metadata": {},
   "source": [
    "# Now to find the value of K is a bit of a task we actuall do not know the value of K so we will run knn for differnet value of k on train data and we will check the accuracy score on the test data and based on the accuracy on the test data we will decide the value of K "
   ]
  },
  {
   "cell_type": "code",
   "execution_count": 136,
   "id": "3fa2f235",
   "metadata": {},
   "outputs": [],
   "source": [
    "k_values = np.arange(1,9)\n",
    "accuracy_train = []\n",
    "accuracy_test = []\n",
    "for k in range(1,9):\n",
    "    knn_model = KNeighborsClassifier(n_neighbors = k)\n",
    "    knn_model.fit(X_train,y_train)\n",
    "    score_train = knn_model.score(X_train,y_train)\n",
    "    score_test = knn_model.score(X_test,y_test)\n",
    "    accuracy_train.append(score_train)\n",
    "    accuracy_test.append(score_test)"
   ]
  },
  {
   "cell_type": "code",
   "execution_count": 162,
   "id": "934b045e",
   "metadata": {},
   "outputs": [
    {
     "data": {
      "image/png": "[encoded data removed]",
      "text/plain": [
       "<Figure size 432x288 with 1 Axes>"
      ]
     },
     "metadata": {},
     "output_type": "display_data"
    }
   ],
   "source": [
    "# let's plot the graph\n",
    "plt.figure(figsize = (6,4))\n",
    "ax = plt.gca()\n",
    "ax.plot(k_values,accuracy_train, label = 'Train accuracy',color = 'red')\n",
    "ax.plot(k_values,accuracy_test, label = 'Test accuracy',color = 'green')\n",
    "ax.legend()\n",
    "ax.set_title('Accuracy as per K value in train and test')\n",
    "ax.set_xlabel('K value ')\n",
    "ax.set_ylabel('accuracy')\n",
    "plt.show()"
   ]
  },
  {
   "cell_type": "code",
   "execution_count": 163,
   "id": "bd609b7d",
   "metadata": {},
   "outputs": [
    {
     "name": "stderr",
     "output_type": "stream",
     "text": [
      "C:\\ProgramData\\Anaconda3\\lib\\site-packages\\seaborn\\_decorators.py:36: FutureWarning: Pass the following variables as keyword args: x, y. From version 0.12, the only valid positional argument will be `data`, and passing other arguments without an explicit keyword will result in an error or misinterpretation.\n",
      "  warnings.warn(\n"
     ]
    },
    {
     "data": {
      "image/png": "[encoded data removed]",
      "text/plain": [
       "<Figure size 432x288 with 1 Axes>"
      ]
     },
     "metadata": {},
     "output_type": "display_data"
    }
   ],
   "source": [
    "sns.lineplot(k_values,abs(np.array(accuracy_train)*100 - np.array(accuracy_test)*100))\n",
    "plt.show()"
   ]
  },
  {
   "cell_type": "markdown",
   "id": "88e3091a",
   "metadata": {},
   "source": [
    "We can see at k = 7 the difference between test and train data is lowest"
   ]
  },
  {
   "cell_type": "code",
   "execution_count": 139,
   "id": "fcb80d54",
   "metadata": {},
   "outputs": [
    {
     "data": {
      "text/plain": [
       "KNeighborsClassifier(n_neighbors=7)"
      ]
     },
     "execution_count": 139,
     "metadata": {},
     "output_type": "execute_result"
    }
   ],
   "source": [
    "knn_ = KNeighborsClassifier(n_neighbors = 7)\n",
    "knn_.fit(X_train,y_train)"
   ]
  },
  {
   "cell_type": "code",
   "execution_count": 151,
   "id": "da060698",
   "metadata": {},
   "outputs": [],
   "source": [
    "y_train_pred = knn_.predict(X_train)"
   ]
  },
  {
   "cell_type": "code",
   "execution_count": 153,
   "id": "27e72343",
   "metadata": {},
   "outputs": [
    {
     "data": {
      "text/plain": [
       "0.7638436482084691"
      ]
     },
     "execution_count": 153,
     "metadata": {},
     "output_type": "execute_result"
    }
   ],
   "source": [
    "accuracy_score(y_train,y_train_pred)"
   ]
  },
  {
   "cell_type": "code",
   "execution_count": 154,
   "id": "7db91d75",
   "metadata": {},
   "outputs": [],
   "source": [
    "y_test_pred = knn_.predict(X_test)"
   ]
  },
  {
   "cell_type": "code",
   "execution_count": 155,
   "id": "29fdc70f",
   "metadata": {},
   "outputs": [
    {
     "data": {
      "text/plain": [
       "0.7662337662337663"
      ]
     },
     "execution_count": 155,
     "metadata": {},
     "output_type": "execute_result"
    }
   ],
   "source": [
    "accuracy_score(y_test,y_test_pred)"
   ]
  },
  {
   "cell_type": "code",
   "execution_count": 140,
   "id": "1d7daa94",
   "metadata": {},
   "outputs": [],
   "source": [
    "# Since we have an imblance data we will don't focous much on accuracy for our model evaluation \n",
    "from sklearn.metrics import confusion_matrix"
   ]
  },
  {
   "cell_type": "code",
   "execution_count": 141,
   "id": "bc8e3538",
   "metadata": {},
   "outputs": [
    {
     "data": {
      "text/plain": [
       "array([[347,  53],\n",
       "       [ 92, 122]], dtype=int64)"
      ]
     },
     "execution_count": 141,
     "metadata": {},
     "output_type": "execute_result"
    }
   ],
   "source": [
    "confusion_matrix(y_train,knn_.predict(X_train))"
   ]
  },
  {
   "cell_type": "markdown",
   "id": "b0a1b227",
   "metadata": {},
   "source": [
    "# [[TN, FP]\n",
    "# [FN, TP]]\n"
   ]
  },
  {
   "cell_type": "code",
   "execution_count": 157,
   "id": "b3025434",
   "metadata": {},
   "outputs": [
    {
     "data": {
      "text/plain": [
       "0.6971428571428572"
      ]
     },
     "execution_count": 157,
     "metadata": {},
     "output_type": "execute_result"
    }
   ],
   "source": [
    "# precision is how many times you are saying postitive and how many times its correct \n",
    "# TP/TP + FP\n",
    "print(122/(122+53))"
   ]
  },
  {
   "cell_type": "code",
   "execution_count": 158,
   "id": "5bc09671",
   "metadata": {},
   "outputs": [
    {
     "data": {
      "text/plain": [
       "0.5700934579439252"
      ]
     },
     "execution_count": 158,
     "metadata": {},
     "output_type": "execute_result"
    }
   ],
   "source": [
    "# recall if you have 5 chapter how many can you recall i.e\n",
    "# TP/TP + FN\n",
    "122/(122+92)"
   ]
  },
  {
   "cell_type": "code",
   "execution_count": 165,
   "id": "52eaa902",
   "metadata": {},
   "outputs": [
    {
     "data": {
      "text/plain": [
       "array([[82, 18],\n",
       "       [18, 36]], dtype=int64)"
      ]
     },
     "execution_count": 165,
     "metadata": {},
     "output_type": "execute_result"
    }
   ],
   "source": [
    "# test \n",
    "confusion_matrix(y_test,y_test_pred)"
   ]
  },
  {
   "cell_type": "code",
   "execution_count": 166,
   "id": "97a876ec",
   "metadata": {},
   "outputs": [
    {
     "data": {
      "text/plain": [
       "0.6666666666666666"
      ]
     },
     "execution_count": 166,
     "metadata": {},
     "output_type": "execute_result"
    }
   ],
   "source": [
    "# precesion \n",
    "36/(36+18)"
   ]
  },
  {
   "cell_type": "code",
   "execution_count": 167,
   "id": "985b1563",
   "metadata": {},
   "outputs": [
    {
     "data": {
      "text/plain": [
       "0.6666666666666666"
      ]
     },
     "execution_count": 167,
     "metadata": {},
     "output_type": "execute_result"
    }
   ],
   "source": [
    "# recall\n",
    "36/(36+18)"
   ]
  },
  {
   "cell_type": "code",
   "execution_count": 171,
   "id": "93b10355",
   "metadata": {},
   "outputs": [],
   "source": [
    "from sklearn.metrics import roc_auc_score"
   ]
  },
  {
   "cell_type": "code",
   "execution_count": 173,
   "id": "24d1c793",
   "metadata": {},
   "outputs": [
    {
     "data": {
      "text/plain": [
       "0.7433333333333334"
      ]
     },
     "execution_count": 173,
     "metadata": {},
     "output_type": "execute_result"
    }
   ],
   "source": [
    "roc_auc_score(y_test,y_test_pred)"
   ]
  },
  {
   "cell_type": "markdown",
   "id": "0992b533",
   "metadata": {},
   "source": [
    "## Let's also make a roc_auc plot to understand visually \n",
    "but before that let's revist the roc_auc score meaning "
   ]
  },
  {
   "cell_type": "markdown",
   "id": "8eacee2c",
   "metadata": {},
   "source": [
    "The ROC AUC (Receiver Operating Characteristic Area Under the Curve) value is a single scalar metric that provides valuable insights into the overall performance of a binary classification model. Specifically, it quantifies the model's ability to discriminate between the positive and negative classes, regardless of the threshold used for classification. Here's what the ROC AUC value tells you:\n",
    "\n",
    "1. Discriminative Power: The ROC AUC value measures how well your model can **distinguish** between the positive class and the negative class. A higher ROC AUC score indicates that the model is better at distinguishing between the two classes. A score of 1 represents perfect **discrimination**, where the model can perfectly separate the two classes.\n",
    "\n",
    "2. Threshold-Independent: Unlike metrics such as accuracy or F1-score, which depend on a specific threshold, the ROC AUC considers the model's performance across all possible threshold values. It assesses the model's ability to rank examples correctly without being tied to a particular decision point. This makes ROC AUC a robust and threshold-independent evaluation metric.\n",
    "\n",
    "3. Ranking Quality: ROC AUC evaluates how well your model ranks positive examples above negative examples. It measures the probability that a randomly chosen positive example will have a higher predicted probability of being positive than a randomly chosen negative example.\n",
    "\n",
    "4. **Model Comparison: ROC AUC is useful for comparing different models or algorithms. If you have multiple classifiers and want to determine which one performs better in terms of class separation, you can compare their ROC AUC scores. The model with the higher ROC AUC score is generally considered better at distinguishing between the classes.**\n",
    "\n",
    "5. Trade-Off Analysis: ROC AUC helps you assess the trade-off between Sensitivity (True Positive Rate) and Specificity (True Negative Rate) without selecting a specific threshold. It provides a global view of the model's performance across the entire range of possible operating points.\n",
    "\n",
    "In summary, the ROC AUC value is a valuable metric for assessing the overall discriminative power and ranking quality of a binary classification model. A higher ROC AUC score indicates better model performance in terms of separating positive and negative examples, and it is particularly useful when you want to evaluate and compare models independently of the threshold selection."
   ]
  },
  {
   "cell_type": "markdown",
   "id": "d6ee0271",
   "metadata": {},
   "source": [
    "## Analogy \n",
    "\n",
    "Imagine you have two superhero friends, Superman and Batman. They both have superpowers and are really good at saving the day. You want to see who's better at being a superhero.\n",
    "\n",
    "Now, instead of looking at just one thing, like who can fly the fastest or who's the strongest, you want to judge them based on many different things they can do, like flying, lifting heavy things, and catching bad guys.\n",
    "\n",
    "So, you collect a bunch of tests, like flying races and weightlifting contests. For each test, you give points to Superman and Batman. If Superman does better on a test, he gets more points, and if Batman does better, he gets more points.\n",
    "\n",
    "The ROC AUC is like a special way to add up all these points and see who's the better superhero overall. If the ROC AUC is 1, it means Superman wins all the tests, and he's the best superhero overall. But if the ROC AUC is lower, it means there's a mix of results, and it's not clear who's better at being a superhero.\n",
    "\n",
    "So, the ROC AUC helps us figure out who's the best superhero by looking at all the different things they can do and how well they do them."
   ]
  },
  {
   "cell_type": "markdown",
   "id": "2550cfcf",
   "metadata": {},
   "source": [
    "# linking"
   ]
  },
  {
   "cell_type": "markdown",
   "id": "bf0c6313",
   "metadata": {},
   "source": [
    "Certainly! Let's link the concept of ROC AUC to the superhero example and the diabetes dataset:\n",
    "\n",
    "Imagine you have a special machine called the \"Superhero Detector,\" and you want to use it to figure out who the real superheroes are among a group of people. In this case:\n",
    "\n",
    "- Class 1: These are the real superheroes, just like Superman and Batman. They have diabetes.\n",
    "- Class 0: These are regular people, like your everyday citizens. They don't have diabetes.\n",
    "\n",
    "Here's how it works:\n",
    "\n",
    "1. **Superhero Detector**: Your Superhero Detector is like a magic machine that uses measurements from people, such as their health stats (like blood sugar levels, age, weight, etc.), to decide if someone is a superhero (Class 1) or not (Class 0).\n",
    "\n",
    "2. **Superhero Testing**: You use the Superhero Detector on a bunch of people, and it gives each person a \"Superhero Score.\" The higher the score, the more likely they are a real superhero (Class 1), just like how you might give Superman and Batman scores based on their superpowers.\n",
    "\n",
    "3. **ROC Curve and ROC AUC**: Now, you want to see how good your Superhero Detector is at telling real superheroes from regular people. You create an ROC curve by changing the Superhero Score threshold. This curve shows how well your detector can separate the real superheroes from the regular folks at different thresholds, just like how you might see how well Superman and Batman perform in different superhero contests.\n",
    "\n",
    "- If the ROC AUC is 1, it means your Superhero Detector is perfect, just like Superman and Batman always winning superhero contests. It can perfectly tell who the real superheroes are.\n",
    "\n",
    "- If the ROC AUC is less than 1 but better than random guessing (0.5), it means your Superhero Detector is pretty good at distinguishing between real superheroes and regular people, just like how Superman and Batman usually outperform regular folks in contests.\n",
    "\n",
    "- If the ROC AUC is close to 0.5, it means your Superhero Detector is not much better than random guessing, and it might have a hard time telling real superheroes from regular people.\n",
    "\n",
    "So, ROC AUC helps you measure how well your Superhero Detector (machine learning model) can identify the true superheroes (people with diabetes) among the regular people (people without diabetes) based on their health measurements. The higher the ROC AUC, the better your detector is at this superpower-like task!"
   ]
  },
  {
   "cell_type": "markdown",
   "id": "0812e297",
   "metadata": {},
   "source": [
    "**You can say that the ROC AUC score tells you how good your model is at discriminating between Class 0 and Class 1. Specifically, it measures the model's ability to distinguish between the two classes, where Class 0 and Class 1 represent different categories, such as \"non-diabetic\" (0) and \"diabetic\" (1) in a diabetes dataset.**\n",
    "\n",
    "**So, your statement can be rephrased as:**\n",
    "\n",
    "**\"The ROC AUC score tells us how well our model can discriminate between Class 0 (e.g., non-diabetic) and Class 1 (e.g., diabetic), effectively distinguishing one class from the other.\"**\n",
    "\n",
    "**In other words, it assesses the model's capacity to correctly classify and separate data points into their respective classes.**"
   ]
  },
  {
   "cell_type": "markdown",
   "id": "68d90040",
   "metadata": {},
   "source": [
    "in a simple word consdier yourself as model and you are discrimination apples and oranges in two different boxes and roc_tells\n",
    "us you well are you doing if it is close to 1 this means you are doing well if it is 0.5 or below this means your are just randomly put apples and oranges in boxes "
   ]
  },
  {
   "cell_type": "markdown",
   "id": "397b5ece",
   "metadata": {},
   "source": [
    "**Also note TPR is sensitivity where as 1-fpr is specificity**"
   ]
  },
  {
   "cell_type": "code",
   "execution_count": 177,
   "id": "29abd99d",
   "metadata": {},
   "outputs": [],
   "source": [
    "y_pred_proba = knn.predict_proba(X_test)[:,1] # getting the probability of class 1 "
   ]
  },
  {
   "cell_type": "code",
   "execution_count": 179,
   "id": "a1e1d330",
   "metadata": {},
   "outputs": [],
   "source": [
    "from sklearn.metrics import roc_curve "
   ]
  },
  {
   "cell_type": "code",
   "execution_count": 180,
   "id": "7c846a4d",
   "metadata": {},
   "outputs": [],
   "source": [
    "fpr, tpr, thresholds = roc_curve(y_test, y_pred_proba)"
   ]
  },
  {
   "cell_type": "code",
   "execution_count": 186,
   "id": "8c4af126",
   "metadata": {},
   "outputs": [
    {
     "data": {
      "image/png": "[encoded data removed]",
      "text/plain": [
       "<Figure size 432x288 with 1 Axes>"
      ]
     },
     "metadata": {},
     "output_type": "display_data"
    }
   ],
   "source": [
    "plt.plot([0,1],[0,1],'k--') # this is to to draw the baseline \n",
    "plt.plot(fpr,tpr, label='Knn')\n",
    "plt.xlabel('fpr')\n",
    "plt.ylabel('tpr')\n",
    "plt.title('Knn(n_neighbors=7) ROC curve')\n",
    "plt.show()"
   ]
  },
  {
   "cell_type": "markdown",
   "id": "649c8d67",
   "metadata": {},
   "source": [
    "# This suggests that your model has some ability to distinguish between the two classes."
   ]
  },
  {
   "cell_type": "markdown",
   "id": "7472d864",
   "metadata": {},
   "source": [
    "# Conversly we can also do a gridserch cv to find the best value of K we will pass the entire dataset without train test split "
   ]
  },
  {
   "cell_type": "code",
   "execution_count": 188,
   "id": "9b248ca3",
   "metadata": {},
   "outputs": [],
   "source": [
    "from sklearn.model_selection import GridSearchCV"
   ]
  },
  {
   "cell_type": "code",
   "execution_count": 235,
   "id": "9722642e",
   "metadata": {},
   "outputs": [],
   "source": [
    "param_grid = {'n_neighbors':range(1,50)}"
   ]
  },
  {
   "cell_type": "code",
   "execution_count": 236,
   "id": "272d6b5b",
   "metadata": {},
   "outputs": [
    {
     "data": {
      "text/plain": [
       "GridSearchCV(cv=5, estimator=KNeighborsClassifier(),\n",
       "             param_grid={'n_neighbors': range(1, 50)}, scoring='accuracy')"
      ]
     },
     "execution_count": 236,
     "metadata": {},
     "output_type": "execute_result"
    }
   ],
   "source": [
    "knn_mod = KNeighborsClassifier()\n",
    "knn_cv = GridSearchCV(estimator = knn_mod,param_grid =  param_grid, scoring = 'accuracy',cv = 5)\n",
    "knn_cv.fit(X,y)"
   ]
  },
  {
   "cell_type": "code",
   "execution_count": 239,
   "id": "9787f4ad",
   "metadata": {},
   "outputs": [
    {
     "data": {
      "text/plain": [
       "{'n_neighbors': 14}"
      ]
     },
     "execution_count": 239,
     "metadata": {},
     "output_type": "execute_result"
    }
   ],
   "source": [
    "knn_cv.best_params_"
   ]
  },
  {
   "cell_type": "code",
   "execution_count": 240,
   "id": "de718f25",
   "metadata": {},
   "outputs": [
    {
     "data": {
      "text/plain": [
       "0.7578558696205755"
      ]
     },
     "execution_count": 240,
     "metadata": {},
     "output_type": "execute_result"
    }
   ],
   "source": [
    "knn_cv.best_score_"
   ]
  },
  {
   "cell_type": "code",
   "execution_count": 1,
   "id": "20bfdd4c",
   "metadata": {},
   "outputs": [],
   "source": [
    "# revise the roc, tpr,fpr , how is boundry formed and that's pretty much every thing."
   ]
  },
  {
   "cell_type": "code",
   "execution_count": null,
   "id": "68a96378",
   "metadata": {},
   "outputs": [],
   "source": []
  }
 ],
 "metadata": {
  "kernelspec": {
   "display_name": "Python 3 (ipykernel)",
   "language": "python",
   "name": "python3"
  },
  "language_info": {
   "codemirror_mode": {
    "name": "ipython",
    "version": 3
   },
   "file_extension": ".py",
   "mimetype": "text/x-python",
   "name": "python",
   "nbconvert_exporter": "python",
   "pygments_lexer": "ipython3",
   "version": "3.9.12"
  }
 },
 "nbformat": 4,
 "nbformat_minor": 5
}
