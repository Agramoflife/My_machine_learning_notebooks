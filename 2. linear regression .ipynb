{
 "cells": [
  {
   "cell_type": "markdown",
   "id": "34dd2cbf",
   "metadata": {},
   "source": [
    "# Linear regression "
   ]
  },
  {
   "cell_type": "markdown",
   "id": "537a88d3",
   "metadata": {},
   "source": [
    "Here is a summary of what is going to happen in the coming time - our data has columns these columns are called features/independent varaibles the result column is called the target/dependent variable. The data is going to be split into train test. The train part of the data we are going to train our model and on the test we will evaluate the model. apart from this there is no where the model is trained keep that in mind while training we will acquaint ourself with maths terms and the intution behind it so this is just to give you a high level picture of what we are going to do in the comming time "
   ]
  },
  {
   "cell_type": "markdown",
   "id": "0d2318d1",
   "metadata": {},
   "source": [
    "Note the evaluation part is very important, so we will covered that part explicitly with proper intitution behind every measure so with that note let's start our journey into the world of machines "
   ]
  },
  {
   "cell_type": "markdown",
   "id": "c1e2be7d",
   "metadata": {},
   "source": [
    "So ml is basically finding parterns in the data in more of a mathematical terms we can say the the ml is basically find the function which will map into to output in such a way that the error is minimum "
   ]
  },
  {
   "cell_type": "markdown",
   "id": "297d5bc9",
   "metadata": {},
   "source": [
    "lets understand the data first \n",
    "\n",
    "In every explanation of linear regression you will find a graph with n number of crosses so what basically are these things lets breakdown the componets. when you are handed over the data, it consist of rows and columns, in every linear regression model you will be see just 2 columns its because it is easy for us to visualize so lets consider the data which has 1 columns and n rows now the column one is feature and column 2 is result/target variable/ dependent variable lets plot this\n",
    "\n",
    "the x axis is the features and the y axis is the target variable, the datapoints are represented with cross sign \n",
    "\n",
    "In case if we have n-features then that data points are represented on hyperplane \n",
    "\n",
    "**for 2 columns we get the equation of line in 2 dimension for n-features/columns we get equation of line in hyper plane**"
   ]
  },
  {
   "cell_type": "markdown",
   "id": "a6dd6264",
   "metadata": {},
   "source": [
    "lets uderstand the composition of the data first \n",
    "\n",
    "data consist of the deterministics part and the residual part \n",
    "\n",
    "The deterministic part is the partern in the data which the machine recognizes \n",
    "\n",
    "the residual part is the datapoints which the machine does not recognizes \n",
    "\n",
    "Why am I stressing on the residual its because in the interview we have to explain the assumption of linear regression model their you will have to explain the homoscedasticity of the residuals i.e the residuals should exibits homoscedasticity i.e it should have a constant variance  "
   ]
  },
  {
   "cell_type": "markdown",
   "id": "1f49bd5b",
   "metadata": {},
   "source": [
    "**the data point which lie on the best fit line are deterministic point and the rest data point can be termed as residual**"
   ]
  },
  {
   "cell_type": "markdown",
   "id": "9679e000",
   "metadata": {},
   "source": [
    "chat gpt answer \n",
    "\n",
    "\n",
    "In the context of machine learning, the terms \"deterministic\" and \"residual\" refer to different components of data or model predictions.\n",
    "\n",
    "Deterministic Part:\n",
    "The deterministic part of data or a model prediction is the part that can be accurately explained or predicted by the features or variables in the model. It represents the relationship between the input features and the output/response variable that can be captured by the model. In other words, it's the part of the variation in the data that can be accounted for and explained by the model's parameters and features.\n",
    "Mathematically, if you have a model prediction Y_predicted and you decompose it into deterministic and residual parts, it can be represented as:\n",
    "\n",
    "Y_predicted = Deterministic_Part + Residual_Part\n",
    "\n",
    "Residual Part:\n",
    "The residual part, also known as the error or noise, is the portion of the data or model prediction that cannot be explained by the features or variables included in the model. It represents the unexplained variability or randomness in the data. Residuals can arise due to factors that are not captured by the model, measurement errors, or inherent randomness in the underlying process being modeled.\n",
    "In terms of model fitting, minimizing the residuals is a common objective in various machine learning algorithms. For instance, in linear regression, the goal is to minimize the sum of squared residuals to find the best-fitting line through the data.\n",
    "\n",
    "In summary, the deterministic part of data represents the portion that can be explained by the model's features, while the residual part represents the unexplained variability or noise that remains even after accounting for the deterministic relationship."
   ]
  },
  {
   "cell_type": "markdown",
   "id": "fa66fcdd",
   "metadata": {},
   "source": [
    "**ml models basically captures the deterministic part of the data** this is what we mean when we say machine learing is all about partern recogination i.e to capture deterministic part with some mathematical function"
   ]
  },
  {
   "cell_type": "markdown",
   "id": "2650bb2d",
   "metadata": {},
   "source": [
    "## best fit line \n",
    "layman language - The line which best describes the relationship between dependent and independent variable i.e between    features and labels/targes\n",
    "\n",
    "mathematical terms **the line which has the least error is the best fit line** \n",
    "\n",
    "**The trend line with the lowest error is the best fit line**"
   ]
  },
  {
   "cell_type": "markdown",
   "id": "9fa2b115",
   "metadata": {},
   "source": [
    "## A general machine learnign algo \n",
    "\n",
    "define an objective function \n",
    "\n",
    "define the paramenters\n",
    "\n",
    "define constrains # this is the constrain on the beta vaues i.e what will be the range of beta values  in sse equation "
   ]
  },
  {
   "cell_type": "markdown",
   "id": "726d1146",
   "metadata": {},
   "source": [
    "# concept is covered in the copy"
   ]
  },
  {
   "cell_type": "markdown",
   "id": "376e0eb0",
   "metadata": {},
   "source": [
    "Degree of polynomials is basically the highest power of the independent variable \n"
   ]
  },
  {
   "cell_type": "markdown",
   "id": "1a4c4321",
   "metadata": {},
   "source": [
    "what is the hypothesis of linear regression\n",
    "it says that the relationship between the features and target can be defined as a linear equation and the coeficent of the linear eqation can tell you important is the features and what relation it has with the features i.e + directly related and - means inversly related"
   ]
  },
  {
   "cell_type": "markdown",
   "id": "da3cc0eb",
   "metadata": {},
   "source": [
    "In sse you will see there is 1/2 term also this is just so that when we calculate the differentation of the sse for the gradient descent the 1/2 gets cancelled out for easy callculation"
   ]
  },
  {
   "cell_type": "markdown",
   "id": "6356238f",
   "metadata": {},
   "source": [
    "# what are the assumptions of linear regression "
   ]
  },
  {
   "cell_type": "markdown",
   "id": "072666d2",
   "metadata": {},
   "source": [
    "## 1. We assume that there is a linear relationship between the dependent and independent variable "
   ]
  },
  {
   "cell_type": "markdown",
   "id": "7ea87b79",
   "metadata": {},
   "source": [
    "## 2. There should be no multicolinearilyt between two terms\n",
    "This means there should be no relationship between the features i.e the correlation should be close to 0\n",
    "why here's why if x1 is +vely related to x2 then if x1 increase x2 increase and both have the same effect on y2 t.e they are kind of teaming up \n",
    "\n",
    "here is an example consider you have to predict house price but before that lets understand what is carpet area and total area\n",
    "total area is area of home + parking area and carpet area is area of home only \n",
    "\n",
    "so if we are building a model where total area can be defined as carpet area + parking area then there is no use of have 2 features we are good to go with just one feature only \n",
    "\n"
   ]
  },
  {
   "cell_type": "markdown",
   "id": "f8e517a3",
   "metadata": {},
   "source": [
    "**Now how to check if there is a colinearlity between the features one way is the df.corr() and then making a heatmap which we are already aware the other is VIF**"
   ]
  },
  {
   "cell_type": "markdown",
   "id": "d3bd7562",
   "metadata": {},
   "source": [
    "### V.I.F - Variance inflation factor : this is used to check the multicolinearity"
   ]
  },
  {
   "cell_type": "code",
   "execution_count": 13,
   "id": "c5670339",
   "metadata": {},
   "outputs": [],
   "source": [
    "import pandas as pd \n",
    "import numpy as np\n",
    "import matplotlib.pyplot as plt\n",
    "import seaborn as sns"
   ]
  },
  {
   "cell_type": "code",
   "execution_count": 8,
   "id": "071f8d86",
   "metadata": {},
   "outputs": [
    {
     "data": {
      "text/plain": [
       "array([[22, 23, 23,  2, 23],\n",
       "       [21,  9, 18, 22,  2],\n",
       "       [ 1, 15, 11, 11, 13],\n",
       "       [19, 23,  2,  4, 12],\n",
       "       [ 6, 20,  7, 24, 10],\n",
       "       [17, 18,  9, 14,  2],\n",
       "       [14, 13, 23, 23, 19],\n",
       "       [ 9,  5, 22,  4, 21],\n",
       "       [ 1, 11, 17,  5, 16],\n",
       "       [ 6, 21, 20,  9,  5]])"
      ]
     },
     "execution_count": 8,
     "metadata": {},
     "output_type": "execute_result"
    }
   ],
   "source": [
    "np.random.seed(9)\n",
    "array = np.random.randint(1,25,(10,5))"
   ]
  },
  {
   "cell_type": "code",
   "execution_count": 10,
   "id": "0ad49141",
   "metadata": {},
   "outputs": [],
   "source": [
    "df = pd.DataFrame(array,columns= ['Feat_1','Feat_2','Feat_3','Feat_4','Feat_5'])"
   ]
  },
  {
   "cell_type": "code",
   "execution_count": 11,
   "id": "76168742",
   "metadata": {},
   "outputs": [
    {
     "data": {
      "text/html": [
       "<div>\n",
       "<style scoped>\n",
       "    .dataframe tbody tr th:only-of-type {\n",
       "        vertical-align: middle;\n",
       "    }\n",
       "\n",
       "    .dataframe tbody tr th {\n",
       "        vertical-align: top;\n",
       "    }\n",
       "\n",
       "    .dataframe thead th {\n",
       "        text-align: right;\n",
       "    }\n",
       "</style>\n",
       "<table border=\"1\" class=\"dataframe\">\n",
       "  <thead>\n",
       "    <tr style=\"text-align: right;\">\n",
       "      <th></th>\n",
       "      <th>Feat_1</th>\n",
       "      <th>Feat_2</th>\n",
       "      <th>Feat_3</th>\n",
       "      <th>Feat_4</th>\n",
       "      <th>Feat_5</th>\n",
       "    </tr>\n",
       "  </thead>\n",
       "  <tbody>\n",
       "    <tr>\n",
       "      <th>0</th>\n",
       "      <td>22</td>\n",
       "      <td>23</td>\n",
       "      <td>23</td>\n",
       "      <td>2</td>\n",
       "      <td>23</td>\n",
       "    </tr>\n",
       "    <tr>\n",
       "      <th>1</th>\n",
       "      <td>21</td>\n",
       "      <td>9</td>\n",
       "      <td>18</td>\n",
       "      <td>22</td>\n",
       "      <td>2</td>\n",
       "    </tr>\n",
       "    <tr>\n",
       "      <th>2</th>\n",
       "      <td>1</td>\n",
       "      <td>15</td>\n",
       "      <td>11</td>\n",
       "      <td>11</td>\n",
       "      <td>13</td>\n",
       "    </tr>\n",
       "    <tr>\n",
       "      <th>3</th>\n",
       "      <td>19</td>\n",
       "      <td>23</td>\n",
       "      <td>2</td>\n",
       "      <td>4</td>\n",
       "      <td>12</td>\n",
       "    </tr>\n",
       "    <tr>\n",
       "      <th>4</th>\n",
       "      <td>6</td>\n",
       "      <td>20</td>\n",
       "      <td>7</td>\n",
       "      <td>24</td>\n",
       "      <td>10</td>\n",
       "    </tr>\n",
       "    <tr>\n",
       "      <th>5</th>\n",
       "      <td>17</td>\n",
       "      <td>18</td>\n",
       "      <td>9</td>\n",
       "      <td>14</td>\n",
       "      <td>2</td>\n",
       "    </tr>\n",
       "    <tr>\n",
       "      <th>6</th>\n",
       "      <td>14</td>\n",
       "      <td>13</td>\n",
       "      <td>23</td>\n",
       "      <td>23</td>\n",
       "      <td>19</td>\n",
       "    </tr>\n",
       "    <tr>\n",
       "      <th>7</th>\n",
       "      <td>9</td>\n",
       "      <td>5</td>\n",
       "      <td>22</td>\n",
       "      <td>4</td>\n",
       "      <td>21</td>\n",
       "    </tr>\n",
       "    <tr>\n",
       "      <th>8</th>\n",
       "      <td>1</td>\n",
       "      <td>11</td>\n",
       "      <td>17</td>\n",
       "      <td>5</td>\n",
       "      <td>16</td>\n",
       "    </tr>\n",
       "    <tr>\n",
       "      <th>9</th>\n",
       "      <td>6</td>\n",
       "      <td>21</td>\n",
       "      <td>20</td>\n",
       "      <td>9</td>\n",
       "      <td>5</td>\n",
       "    </tr>\n",
       "  </tbody>\n",
       "</table>\n",
       "</div>"
      ],
      "text/plain": [
       "   Feat_1  Feat_2  Feat_3  Feat_4  Feat_5\n",
       "0      22      23      23       2      23\n",
       "1      21       9      18      22       2\n",
       "2       1      15      11      11      13\n",
       "3      19      23       2       4      12\n",
       "4       6      20       7      24      10\n",
       "5      17      18       9      14       2\n",
       "6      14      13      23      23      19\n",
       "7       9       5      22       4      21\n",
       "8       1      11      17       5      16\n",
       "9       6      21      20       9       5"
      ]
     },
     "execution_count": 11,
     "metadata": {},
     "output_type": "execute_result"
    }
   ],
   "source": [
    "df"
   ]
  },
  {
   "cell_type": "code",
   "execution_count": 12,
   "id": "6dff006c",
   "metadata": {},
   "outputs": [
    {
     "data": {
      "text/html": [
       "<div>\n",
       "<style scoped>\n",
       "    .dataframe tbody tr th:only-of-type {\n",
       "        vertical-align: middle;\n",
       "    }\n",
       "\n",
       "    .dataframe tbody tr th {\n",
       "        vertical-align: top;\n",
       "    }\n",
       "\n",
       "    .dataframe thead th {\n",
       "        text-align: right;\n",
       "    }\n",
       "</style>\n",
       "<table border=\"1\" class=\"dataframe\">\n",
       "  <thead>\n",
       "    <tr style=\"text-align: right;\">\n",
       "      <th></th>\n",
       "      <th>Feat_1</th>\n",
       "      <th>Feat_2</th>\n",
       "      <th>Feat_3</th>\n",
       "      <th>Feat_4</th>\n",
       "      <th>Feat_5</th>\n",
       "    </tr>\n",
       "  </thead>\n",
       "  <tbody>\n",
       "    <tr>\n",
       "      <th>Feat_1</th>\n",
       "      <td>1.000000</td>\n",
       "      <td>0.231987</td>\n",
       "      <td>0.040484</td>\n",
       "      <td>0.037610</td>\n",
       "      <td>-0.077900</td>\n",
       "    </tr>\n",
       "    <tr>\n",
       "      <th>Feat_2</th>\n",
       "      <td>0.231987</td>\n",
       "      <td>1.000000</td>\n",
       "      <td>-0.435777</td>\n",
       "      <td>-0.143284</td>\n",
       "      <td>-0.132646</td>\n",
       "    </tr>\n",
       "    <tr>\n",
       "      <th>Feat_3</th>\n",
       "      <td>0.040484</td>\n",
       "      <td>-0.435777</td>\n",
       "      <td>1.000000</td>\n",
       "      <td>-0.081425</td>\n",
       "      <td>0.434333</td>\n",
       "    </tr>\n",
       "    <tr>\n",
       "      <th>Feat_4</th>\n",
       "      <td>0.037610</td>\n",
       "      <td>-0.143284</td>\n",
       "      <td>-0.081425</td>\n",
       "      <td>1.000000</td>\n",
       "      <td>-0.439092</td>\n",
       "    </tr>\n",
       "    <tr>\n",
       "      <th>Feat_5</th>\n",
       "      <td>-0.077900</td>\n",
       "      <td>-0.132646</td>\n",
       "      <td>0.434333</td>\n",
       "      <td>-0.439092</td>\n",
       "      <td>1.000000</td>\n",
       "    </tr>\n",
       "  </tbody>\n",
       "</table>\n",
       "</div>"
      ],
      "text/plain": [
       "          Feat_1    Feat_2    Feat_3    Feat_4    Feat_5\n",
       "Feat_1  1.000000  0.231987  0.040484  0.037610 -0.077900\n",
       "Feat_2  0.231987  1.000000 -0.435777 -0.143284 -0.132646\n",
       "Feat_3  0.040484 -0.435777  1.000000 -0.081425  0.434333\n",
       "Feat_4  0.037610 -0.143284 -0.081425  1.000000 -0.439092\n",
       "Feat_5 -0.077900 -0.132646  0.434333 -0.439092  1.000000"
      ]
     },
     "execution_count": 12,
     "metadata": {},
     "output_type": "execute_result"
    }
   ],
   "source": [
    "df.corr()"
   ]
  },
  {
   "cell_type": "code",
   "execution_count": 17,
   "id": "e4603e82",
   "metadata": {},
   "outputs": [
    {
     "data": {
      "text/plain": [
       "<AxesSubplot:>"
      ]
     },
     "execution_count": 17,
     "metadata": {},
     "output_type": "execute_result"
    },
    {
     "data": {
      "image/png": "[encoded data removed]",
      "text/plain": [
       "<Figure size 432x288 with 2 Axes>"
      ]
     },
     "metadata": {
      "needs_background": "light"
     },
     "output_type": "display_data"
    }
   ],
   "source": [
    "sns.heatmap(df.corr(),annot = True)"
   ]
  },
  {
   "cell_type": "markdown",
   "id": "f5c073f4",
   "metadata": {},
   "source": [
    "The number closer to the 1 and -1 represent's that two features are related while close to zero show not related "
   ]
  },
  {
   "cell_type": "code",
   "execution_count": 27,
   "id": "ac3e8333",
   "metadata": {},
   "outputs": [],
   "source": [
    "from statsmodels.stats.outliers_influence import variance_inflation_factor"
   ]
  },
  {
   "cell_type": "code",
   "execution_count": 28,
   "id": "1a666634",
   "metadata": {},
   "outputs": [
    {
     "data": {
      "text/plain": [
       "array([[22, 23, 23,  2, 23],\n",
       "       [21,  9, 18, 22,  2],\n",
       "       [ 1, 15, 11, 11, 13],\n",
       "       [19, 23,  2,  4, 12],\n",
       "       [ 6, 20,  7, 24, 10],\n",
       "       [17, 18,  9, 14,  2],\n",
       "       [14, 13, 23, 23, 19],\n",
       "       [ 9,  5, 22,  4, 21],\n",
       "       [ 1, 11, 17,  5, 16],\n",
       "       [ 6, 21, 20,  9,  5]])"
      ]
     },
     "execution_count": 28,
     "metadata": {},
     "output_type": "execute_result"
    }
   ],
   "source": [
    "array "
   ]
  },
  {
   "cell_type": "code",
   "execution_count": 40,
   "id": "51680985",
   "metadata": {},
   "outputs": [
    {
     "data": {
      "text/plain": [
       "3.6652142945008532"
      ]
     },
     "execution_count": 40,
     "metadata": {},
     "output_type": "execute_result"
    }
   ],
   "source": [
    "variance_inflation_factor(array,0)"
   ]
  },
  {
   "cell_type": "markdown",
   "id": "cd5a0779",
   "metadata": {},
   "source": [
    "lets first understand this in the variance_inflation_factor(array,0)\n",
    "array = the entire column\n",
    "and i = 0 in above case is telling find the corelation of first columns with every other column in the array and wrap it in a mathematical function and give a VIF score to signify how much is that column corelated. \n",
    "\n",
    "Okay but how would you find with which column, the first coloumn exibits max corealtion simple use the heatmap above and then find out and delete the column (this is a business knowledge problem and hence should be delt with care)"
   ]
  },
  {
   "cell_type": "markdown",
   "id": "d15b206f",
   "metadata": {},
   "source": [
    "lets understand how does it work when we run variance_inflation_factore(array,0) lets say we are talking about feat_1 column i.e 0 index, So how is this column related to the other columns it will find a df.corr(0,1) 02,03,04 and it will via some math function tell you to what extent is the 0 column has relations it will not tell you with which is the max for that you will have to use sns.heatmap(df.corr(),annot = True) and decide by your self  "
   ]
  },
  {
   "cell_type": "code",
   "execution_count": 70,
   "id": "d394ec54",
   "metadata": {},
   "outputs": [
    {
     "name": "stdout",
     "output_type": "stream",
     "text": [
      "Feat_1 : 3.6652142945008532\n",
      "Feat_2 : 5.05989047046839\n",
      "Feat_3 : 6.551654643012114\n",
      "Feat_4 : 2.8897095617108968\n",
      "Feat_5 : 5.400584029216732\n"
     ]
    }
   ],
   "source": [
    "for i in range(5):\n",
    "    print(df.columns[i],':',variance_inflation_factor(array,i)) # go and find the VIF score of every column i.e col 0,1,2,3,4 and give a vifscore "
   ]
  },
  {
   "cell_type": "code",
   "execution_count": null,
   "id": "b9003637",
   "metadata": {},
   "outputs": [],
   "source": [
    "So we have got the vif values lets understand the values \n",
    "VIF = 1 no multicolinearity \n",
    "VIF < 5 less correaltion  \n",
    "VIF > 5 there is a high correlation\n",
    "VIF > 10 a very high corelation "
   ]
  },
  {
   "cell_type": "code",
   "execution_count": 79,
   "id": "e0c7aeaa",
   "metadata": {},
   "outputs": [
    {
     "data": {
      "text/plain": [
       "<AxesSubplot:>"
      ]
     },
     "execution_count": 79,
     "metadata": {},
     "output_type": "execute_result"
    },
    {
     "data": {
      "image/png": "[encoded data removed]",
      "text/plain": [
       "<Figure size 432x288 with 2 Axes>"
      ]
     },
     "metadata": {
      "needs_background": "light"
     },
     "output_type": "display_data"
    }
   ],
   "source": [
    "sns.heatmap(df.corr(),annot = True)"
   ]
  },
  {
   "cell_type": "code",
   "execution_count": 75,
   "id": "b81b67fe",
   "metadata": {},
   "outputs": [
    {
     "data": {
      "text/html": [
       "<div>\n",
       "<style scoped>\n",
       "    .dataframe tbody tr th:only-of-type {\n",
       "        vertical-align: middle;\n",
       "    }\n",
       "\n",
       "    .dataframe tbody tr th {\n",
       "        vertical-align: top;\n",
       "    }\n",
       "\n",
       "    .dataframe thead th {\n",
       "        text-align: right;\n",
       "    }\n",
       "</style>\n",
       "<table border=\"1\" class=\"dataframe\">\n",
       "  <thead>\n",
       "    <tr style=\"text-align: right;\">\n",
       "      <th></th>\n",
       "      <th>Feat_1</th>\n",
       "      <th>Feat_2</th>\n",
       "      <th>Feat_4</th>\n",
       "      <th>Feat_5</th>\n",
       "    </tr>\n",
       "  </thead>\n",
       "  <tbody>\n",
       "    <tr>\n",
       "      <th>0</th>\n",
       "      <td>22</td>\n",
       "      <td>23</td>\n",
       "      <td>2</td>\n",
       "      <td>23</td>\n",
       "    </tr>\n",
       "    <tr>\n",
       "      <th>1</th>\n",
       "      <td>21</td>\n",
       "      <td>9</td>\n",
       "      <td>22</td>\n",
       "      <td>2</td>\n",
       "    </tr>\n",
       "    <tr>\n",
       "      <th>2</th>\n",
       "      <td>1</td>\n",
       "      <td>15</td>\n",
       "      <td>11</td>\n",
       "      <td>13</td>\n",
       "    </tr>\n",
       "    <tr>\n",
       "      <th>3</th>\n",
       "      <td>19</td>\n",
       "      <td>23</td>\n",
       "      <td>4</td>\n",
       "      <td>12</td>\n",
       "    </tr>\n",
       "    <tr>\n",
       "      <th>4</th>\n",
       "      <td>6</td>\n",
       "      <td>20</td>\n",
       "      <td>24</td>\n",
       "      <td>10</td>\n",
       "    </tr>\n",
       "    <tr>\n",
       "      <th>5</th>\n",
       "      <td>17</td>\n",
       "      <td>18</td>\n",
       "      <td>14</td>\n",
       "      <td>2</td>\n",
       "    </tr>\n",
       "    <tr>\n",
       "      <th>6</th>\n",
       "      <td>14</td>\n",
       "      <td>13</td>\n",
       "      <td>23</td>\n",
       "      <td>19</td>\n",
       "    </tr>\n",
       "    <tr>\n",
       "      <th>7</th>\n",
       "      <td>9</td>\n",
       "      <td>5</td>\n",
       "      <td>4</td>\n",
       "      <td>21</td>\n",
       "    </tr>\n",
       "    <tr>\n",
       "      <th>8</th>\n",
       "      <td>1</td>\n",
       "      <td>11</td>\n",
       "      <td>5</td>\n",
       "      <td>16</td>\n",
       "    </tr>\n",
       "    <tr>\n",
       "      <th>9</th>\n",
       "      <td>6</td>\n",
       "      <td>21</td>\n",
       "      <td>9</td>\n",
       "      <td>5</td>\n",
       "    </tr>\n",
       "  </tbody>\n",
       "</table>\n",
       "</div>"
      ],
      "text/plain": [
       "   Feat_1  Feat_2  Feat_4  Feat_5\n",
       "0      22      23       2      23\n",
       "1      21       9      22       2\n",
       "2       1      15      11      13\n",
       "3      19      23       4      12\n",
       "4       6      20      24      10\n",
       "5      17      18      14       2\n",
       "6      14      13      23      19\n",
       "7       9       5       4      21\n",
       "8       1      11       5      16\n",
       "9       6      21       9       5"
      ]
     },
     "execution_count": 75,
     "metadata": {},
     "output_type": "execute_result"
    }
   ],
   "source": [
    "#let's delete the feat_3 and see\n",
    "df.drop(['Feat_3',],axis = 1)"
   ]
  },
  {
   "cell_type": "code",
   "execution_count": null,
   "id": "93f9fc2a",
   "metadata": {},
   "outputs": [],
   "source": [
    "look at hte heatmap and figure out which column to dorp "
   ]
  },
  {
   "cell_type": "code",
   "execution_count": 78,
   "id": "b4c6473d",
   "metadata": {},
   "outputs": [
    {
     "name": "stdout",
     "output_type": "stream",
     "text": [
      "Feat_1 : 3.4195712204369397\n",
      "Feat_2 : 5.003016544259369\n",
      "Feat_4 : 2.3646000991223954\n",
      "Feat_5 : 2.6602543471583284\n"
     ]
    }
   ],
   "source": [
    "for i in range(4):\n",
    "    print(df.drop(['Feat_3',],axis = 1).columns[i],':',variance_inflation_factor(df.drop(['Feat_3'],axis = 1).values,i))"
   ]
  },
  {
   "cell_type": "markdown",
   "id": "97586b4c",
   "metadata": {},
   "source": [
    "## 3.Homoscedasticity = The residuals should exibit homoscedasticity"
   ]
  },
  {
   "cell_type": "markdown",
   "id": "19a75ec9",
   "metadata": {},
   "source": [
    "This is related to variance i.e the residuals across the linear regression line show be uniform \n",
    "\n",
    "In mathematical terms the residuals should have constant variance \n",
    "\n",
    "what is variance it is the distribution of the data along the mean line how is your data distributed along mean vaule "
   ]
  },
  {
   "cell_type": "markdown",
   "id": "efd5846f",
   "metadata": {},
   "source": [
    "**How will you check simple we will plot the data using matplot lib**"
   ]
  },
  {
   "cell_type": "markdown",
   "id": "095962ff",
   "metadata": {},
   "source": [
    "# How to treat this if our data don't follow those assumptions "
   ]
  },
  {
   "cell_type": "markdown",
   "id": "e2d26cb1",
   "metadata": {},
   "source": [
    "## linear transformation of data"
   ]
  },
  {
   "cell_type": "markdown",
   "id": "b9f361e3",
   "metadata": {},
   "source": [
    "So what if we have data which is not linear well one this we can do is take a underooot of the data for example if you have a feature say x and some how you found out that it does not have a linear relation how by matplotlib so instead of taking a x we take root of x example you have the value of x as 81 you do the underroot of x and take 9 instead . you can do inverse and you can also use log transformation \n",
    "### Lets' list out the transformation\n",
    "\n",
    "### square root transformation \n",
    "taking the square root of the feature\n",
    "### inverse transofrmation \n",
    "taking inverse i.e 1/feature\n",
    "### log transoformation \n",
    "taking log of the feature\n",
    "\n",
    "### This is some of the tranformation we can use to make the features and target have a linear relation "
   ]
  },
  {
   "cell_type": "markdown",
   "id": "2aaa5d6c",
   "metadata": {},
   "source": [
    "# how to reduce the multicolinearity \n",
    "1.this is done above where you find the vif and delete the feature \n",
    "\n",
    "2.or combine two features and come up with new feature like in the house pricing you can create a parking feauter out of carpet and total area i.e just subtract\n",
    "\n",
    "3.using PCA"
   ]
  },
  {
   "cell_type": "markdown",
   "id": "cc235f9f",
   "metadata": {},
   "source": [
    "# How to treat the homoscedasticity "
   ]
  },
  {
   "cell_type": "markdown",
   "id": "fcf9c2c2",
   "metadata": {},
   "source": [
    "So picking up from the lieartransformation you , doing that can somewhat make our data exibit the homoscedasticity but apart from that you can use the outlier removal technique also "
   ]
  },
  {
   "cell_type": "markdown",
   "id": "8faf7523",
   "metadata": {},
   "source": [
    "But before doing that lets understand what are outliers \n",
    "\n",
    "An outlier is a data point or observation that significantly differs from the rest of the data in a dataset. In other words, it's a value that is unusually distant from other values in the same dataset. Outliers can arise due to various reasons, such as measurement errors, experimental anomalies, or genuine rare occurrences.\n"
   ]
  },
  {
   "cell_type": "markdown",
   "id": "562b62f2",
   "metadata": {},
   "source": [
    "when we are making the best fit line the model has to take the outlier in consideration and those outlier don't paint the average picture of event so the line is drawn a bit tilting to the outlier why not remove those event which don't paint the averge picture this is what is outlier removal we remove the outliers and try to achive homoscedasticity "
   ]
  },
  {
   "cell_type": "markdown",
   "id": "45bc541b",
   "metadata": {},
   "source": [
    "# Evaluation of linear regression models "
   ]
  },
  {
   "cell_type": "markdown",
   "id": "24faa341",
   "metadata": {},
   "source": [
    "This is kind of important "
   ]
  },
  {
   "cell_type": "markdown",
   "id": "5e597dcc",
   "metadata": {},
   "source": [
    "So before doing that here is what sop is followed \n",
    "\n",
    "You take the data you split the data into train and test into 80:20 or 75:25 ratio \n",
    "\n",
    "You train the model on the train data and you test the model on the test data"
   ]
  },
  {
   "cell_type": "markdown",
   "id": "550d3d7c",
   "metadata": {},
   "source": [
    "### Here is the list of evaluation metrics we will use \n",
    "\n",
    "Mean square error \n",
    "\n",
    "Root mean square error\n",
    "\n",
    "Absoulte error \n",
    "\n",
    "Absolute percentage error\n",
    "\n",
    "R square error \n",
    "\n",
    "Adjusted R squre error "
   ]
  },
  {
   "cell_type": "markdown",
   "id": "3f981641",
   "metadata": {},
   "source": [
    "# R square aka coefficient of determination "
   ]
  },
  {
   "cell_type": "markdown",
   "id": "c891df4d",
   "metadata": {},
   "source": [
    "all above are easy lets just discuss the r square and adjusted r2 \n",
    "\n",
    "**R-squared (R²), also known as the coefficient of determination, is a statistical measure that quantifies the proportion of the variance in the dependent variable (the outcome you're trying to predict) that is explained by the independent variables (features) in a regression model. In other words, it indicates the goodness of fit of the regression model to the observed data.**"
   ]
  },
  {
   "cell_type": "markdown",
   "id": "1e4f1422",
   "metadata": {},
   "source": [
    "To understand the term proportion of the variance in the dependent variable consider and error in the linear regression line and baseline take a ratio them "
   ]
  },
  {
   "cell_type": "markdown",
   "id": "65b28e34",
   "metadata": {},
   "source": [
    "Adjusted R square consider a dataset of ads campaign you build the model on 4 features out of 10 features now now when you take the r2 the you will have some r2 but when you build the model with 10 features it will have r2 better then the previous model. this concept in explained in the copy proprely "
   ]
  },
  {
   "cell_type": "markdown",
   "id": "cdfc4efb",
   "metadata": {},
   "source": [
    "# The range of data "
   ]
  },
  {
   "cell_type": "code",
   "execution_count": 2,
   "id": "1269d44b",
   "metadata": {},
   "outputs": [],
   "source": [
    "import numpy as np\n",
    "import pandas as pd\n",
    "from sklearn.preprocessing import MinMaxScaler"
   ]
  },
  {
   "cell_type": "markdown",
   "id": "5457bbd3",
   "metadata": {},
   "source": [
    "Let say we have a dataset of marketing campaign and there is a feature called marketing spend so and they have a marketing budget in crores so you can't put this range of values in model so how to deal with such case \n",
    "\n",
    "We have a work around for this problem we basically using scaling technique to scale down the feature values \n",
    "we can do this via standardization or normalization I have cover the concept in the copy "
   ]
  },
  {
   "cell_type": "code",
   "execution_count": 4,
   "id": "d3fac0a9",
   "metadata": {},
   "outputs": [],
   "source": [
    "# let's see how excatly we do it\n",
    "marketing_spend = np.linspace(1000000,10000000,1000)"
   ]
  },
  {
   "cell_type": "code",
   "execution_count": 6,
   "id": "c0ff8586",
   "metadata": {},
   "outputs": [
    {
     "data": {
      "text/plain": [
       "array([1000000.        , 1009009.00900901, 1018018.01801802,\n",
       "       1027027.02702703, 1036036.03603604, 1045045.04504505,\n",
       "       1054054.05405405, 1063063.06306306, 1072072.07207207,\n",
       "       1081081.08108108])"
      ]
     },
     "execution_count": 6,
     "metadata": {},
     "output_type": "execute_result"
    }
   ],
   "source": [
    "#so basically we have a very large range of values \n",
    "marketing_spend[0:10]"
   ]
  },
  {
   "cell_type": "code",
   "execution_count": 36,
   "id": "5756f210",
   "metadata": {
    "collapsed": true
   },
   "outputs": [
    {
     "data": {
      "text/plain": [
       "array([[0.        ],\n",
       "       [0.001001  ],\n",
       "       [0.002002  ],\n",
       "       [0.003003  ],\n",
       "       [0.004004  ],\n",
       "       [0.00500501],\n",
       "       [0.00600601],\n",
       "       [0.00700701],\n",
       "       [0.00800801],\n",
       "       [0.00900901],\n",
       "       [0.01001001],\n",
       "       [0.01101101],\n",
       "       [0.01201201],\n",
       "       [0.01301301],\n",
       "       [0.01401401],\n",
       "       [0.01501502],\n",
       "       [0.01601602],\n",
       "       [0.01701702],\n",
       "       [0.01801802],\n",
       "       [0.01901902],\n",
       "       [0.02002002],\n",
       "       [0.02102102],\n",
       "       [0.02202202],\n",
       "       [0.02302302],\n",
       "       [0.02402402],\n",
       "       [0.02502503],\n",
       "       [0.02602603],\n",
       "       [0.02702703],\n",
       "       [0.02802803],\n",
       "       [0.02902903],\n",
       "       [0.03003003],\n",
       "       [0.03103103],\n",
       "       [0.03203203],\n",
       "       [0.03303303],\n",
       "       [0.03403403],\n",
       "       [0.03503504],\n",
       "       [0.03603604],\n",
       "       [0.03703704],\n",
       "       [0.03803804],\n",
       "       [0.03903904],\n",
       "       [0.04004004],\n",
       "       [0.04104104],\n",
       "       [0.04204204],\n",
       "       [0.04304304],\n",
       "       [0.04404404],\n",
       "       [0.04504505],\n",
       "       [0.04604605],\n",
       "       [0.04704705],\n",
       "       [0.04804805],\n",
       "       [0.04904905],\n",
       "       [0.05005005],\n",
       "       [0.05105105],\n",
       "       [0.05205205],\n",
       "       [0.05305305],\n",
       "       [0.05405405],\n",
       "       [0.05505506],\n",
       "       [0.05605606],\n",
       "       [0.05705706],\n",
       "       [0.05805806],\n",
       "       [0.05905906],\n",
       "       [0.06006006],\n",
       "       [0.06106106],\n",
       "       [0.06206206],\n",
       "       [0.06306306],\n",
       "       [0.06406406],\n",
       "       [0.06506507],\n",
       "       [0.06606607],\n",
       "       [0.06706707],\n",
       "       [0.06806807],\n",
       "       [0.06906907],\n",
       "       [0.07007007],\n",
       "       [0.07107107],\n",
       "       [0.07207207],\n",
       "       [0.07307307],\n",
       "       [0.07407407],\n",
       "       [0.07507508],\n",
       "       [0.07607608],\n",
       "       [0.07707708],\n",
       "       [0.07807808],\n",
       "       [0.07907908],\n",
       "       [0.08008008],\n",
       "       [0.08108108],\n",
       "       [0.08208208],\n",
       "       [0.08308308],\n",
       "       [0.08408408],\n",
       "       [0.08508509],\n",
       "       [0.08608609],\n",
       "       [0.08708709],\n",
       "       [0.08808809],\n",
       "       [0.08908909],\n",
       "       [0.09009009],\n",
       "       [0.09109109],\n",
       "       [0.09209209],\n",
       "       [0.09309309],\n",
       "       [0.09409409],\n",
       "       [0.0950951 ],\n",
       "       [0.0960961 ],\n",
       "       [0.0970971 ],\n",
       "       [0.0980981 ],\n",
       "       [0.0990991 ],\n",
       "       [0.1001001 ],\n",
       "       [0.1011011 ],\n",
       "       [0.1021021 ],\n",
       "       [0.1031031 ],\n",
       "       [0.1041041 ],\n",
       "       [0.10510511],\n",
       "       [0.10610611],\n",
       "       [0.10710711],\n",
       "       [0.10810811],\n",
       "       [0.10910911],\n",
       "       [0.11011011],\n",
       "       [0.11111111],\n",
       "       [0.11211211],\n",
       "       [0.11311311],\n",
       "       [0.11411411],\n",
       "       [0.11511512],\n",
       "       [0.11611612],\n",
       "       [0.11711712],\n",
       "       [0.11811812],\n",
       "       [0.11911912],\n",
       "       [0.12012012],\n",
       "       [0.12112112],\n",
       "       [0.12212212],\n",
       "       [0.12312312],\n",
       "       [0.12412412],\n",
       "       [0.12512513],\n",
       "       [0.12612613],\n",
       "       [0.12712713],\n",
       "       [0.12812813],\n",
       "       [0.12912913],\n",
       "       [0.13013013],\n",
       "       [0.13113113],\n",
       "       [0.13213213],\n",
       "       [0.13313313],\n",
       "       [0.13413413],\n",
       "       [0.13513514],\n",
       "       [0.13613614],\n",
       "       [0.13713714],\n",
       "       [0.13813814],\n",
       "       [0.13913914],\n",
       "       [0.14014014],\n",
       "       [0.14114114],\n",
       "       [0.14214214],\n",
       "       [0.14314314],\n",
       "       [0.14414414],\n",
       "       [0.14514515],\n",
       "       [0.14614615],\n",
       "       [0.14714715],\n",
       "       [0.14814815],\n",
       "       [0.14914915],\n",
       "       [0.15015015],\n",
       "       [0.15115115],\n",
       "       [0.15215215],\n",
       "       [0.15315315],\n",
       "       [0.15415415],\n",
       "       [0.15515516],\n",
       "       [0.15615616],\n",
       "       [0.15715716],\n",
       "       [0.15815816],\n",
       "       [0.15915916],\n",
       "       [0.16016016],\n",
       "       [0.16116116],\n",
       "       [0.16216216],\n",
       "       [0.16316316],\n",
       "       [0.16416416],\n",
       "       [0.16516517],\n",
       "       [0.16616617],\n",
       "       [0.16716717],\n",
       "       [0.16816817],\n",
       "       [0.16916917],\n",
       "       [0.17017017],\n",
       "       [0.17117117],\n",
       "       [0.17217217],\n",
       "       [0.17317317],\n",
       "       [0.17417417],\n",
       "       [0.17517518],\n",
       "       [0.17617618],\n",
       "       [0.17717718],\n",
       "       [0.17817818],\n",
       "       [0.17917918],\n",
       "       [0.18018018],\n",
       "       [0.18118118],\n",
       "       [0.18218218],\n",
       "       [0.18318318],\n",
       "       [0.18418418],\n",
       "       [0.18518519],\n",
       "       [0.18618619],\n",
       "       [0.18718719],\n",
       "       [0.18818819],\n",
       "       [0.18918919],\n",
       "       [0.19019019],\n",
       "       [0.19119119],\n",
       "       [0.19219219],\n",
       "       [0.19319319],\n",
       "       [0.19419419],\n",
       "       [0.1951952 ],\n",
       "       [0.1961962 ],\n",
       "       [0.1971972 ],\n",
       "       [0.1981982 ],\n",
       "       [0.1991992 ],\n",
       "       [0.2002002 ],\n",
       "       [0.2012012 ],\n",
       "       [0.2022022 ],\n",
       "       [0.2032032 ],\n",
       "       [0.2042042 ],\n",
       "       [0.20520521],\n",
       "       [0.20620621],\n",
       "       [0.20720721],\n",
       "       [0.20820821],\n",
       "       [0.20920921],\n",
       "       [0.21021021],\n",
       "       [0.21121121],\n",
       "       [0.21221221],\n",
       "       [0.21321321],\n",
       "       [0.21421421],\n",
       "       [0.21521522],\n",
       "       [0.21621622],\n",
       "       [0.21721722],\n",
       "       [0.21821822],\n",
       "       [0.21921922],\n",
       "       [0.22022022],\n",
       "       [0.22122122],\n",
       "       [0.22222222],\n",
       "       [0.22322322],\n",
       "       [0.22422422],\n",
       "       [0.22522523],\n",
       "       [0.22622623],\n",
       "       [0.22722723],\n",
       "       [0.22822823],\n",
       "       [0.22922923],\n",
       "       [0.23023023],\n",
       "       [0.23123123],\n",
       "       [0.23223223],\n",
       "       [0.23323323],\n",
       "       [0.23423423],\n",
       "       [0.23523524],\n",
       "       [0.23623624],\n",
       "       [0.23723724],\n",
       "       [0.23823824],\n",
       "       [0.23923924],\n",
       "       [0.24024024],\n",
       "       [0.24124124],\n",
       "       [0.24224224],\n",
       "       [0.24324324],\n",
       "       [0.24424424],\n",
       "       [0.24524525],\n",
       "       [0.24624625],\n",
       "       [0.24724725],\n",
       "       [0.24824825],\n",
       "       [0.24924925],\n",
       "       [0.25025025],\n",
       "       [0.25125125],\n",
       "       [0.25225225],\n",
       "       [0.25325325],\n",
       "       [0.25425425],\n",
       "       [0.25525526],\n",
       "       [0.25625626],\n",
       "       [0.25725726],\n",
       "       [0.25825826],\n",
       "       [0.25925926],\n",
       "       [0.26026026],\n",
       "       [0.26126126],\n",
       "       [0.26226226],\n",
       "       [0.26326326],\n",
       "       [0.26426426],\n",
       "       [0.26526527],\n",
       "       [0.26626627],\n",
       "       [0.26726727],\n",
       "       [0.26826827],\n",
       "       [0.26926927],\n",
       "       [0.27027027],\n",
       "       [0.27127127],\n",
       "       [0.27227227],\n",
       "       [0.27327327],\n",
       "       [0.27427427],\n",
       "       [0.27527528],\n",
       "       [0.27627628],\n",
       "       [0.27727728],\n",
       "       [0.27827828],\n",
       "       [0.27927928],\n",
       "       [0.28028028],\n",
       "       [0.28128128],\n",
       "       [0.28228228],\n",
       "       [0.28328328],\n",
       "       [0.28428428],\n",
       "       [0.28528529],\n",
       "       [0.28628629],\n",
       "       [0.28728729],\n",
       "       [0.28828829],\n",
       "       [0.28928929],\n",
       "       [0.29029029],\n",
       "       [0.29129129],\n",
       "       [0.29229229],\n",
       "       [0.29329329],\n",
       "       [0.29429429],\n",
       "       [0.2952953 ],\n",
       "       [0.2962963 ],\n",
       "       [0.2972973 ],\n",
       "       [0.2982983 ],\n",
       "       [0.2992993 ],\n",
       "       [0.3003003 ],\n",
       "       [0.3013013 ],\n",
       "       [0.3023023 ],\n",
       "       [0.3033033 ],\n",
       "       [0.3043043 ],\n",
       "       [0.30530531],\n",
       "       [0.30630631],\n",
       "       [0.30730731],\n",
       "       [0.30830831],\n",
       "       [0.30930931],\n",
       "       [0.31031031],\n",
       "       [0.31131131],\n",
       "       [0.31231231],\n",
       "       [0.31331331],\n",
       "       [0.31431431],\n",
       "       [0.31531532],\n",
       "       [0.31631632],\n",
       "       [0.31731732],\n",
       "       [0.31831832],\n",
       "       [0.31931932],\n",
       "       [0.32032032],\n",
       "       [0.32132132],\n",
       "       [0.32232232],\n",
       "       [0.32332332],\n",
       "       [0.32432432],\n",
       "       [0.32532533],\n",
       "       [0.32632633],\n",
       "       [0.32732733],\n",
       "       [0.32832833],\n",
       "       [0.32932933],\n",
       "       [0.33033033],\n",
       "       [0.33133133],\n",
       "       [0.33233233],\n",
       "       [0.33333333],\n",
       "       [0.33433433],\n",
       "       [0.33533534],\n",
       "       [0.33633634],\n",
       "       [0.33733734],\n",
       "       [0.33833834],\n",
       "       [0.33933934],\n",
       "       [0.34034034],\n",
       "       [0.34134134],\n",
       "       [0.34234234],\n",
       "       [0.34334334],\n",
       "       [0.34434434],\n",
       "       [0.34534535],\n",
       "       [0.34634635],\n",
       "       [0.34734735],\n",
       "       [0.34834835],\n",
       "       [0.34934935],\n",
       "       [0.35035035],\n",
       "       [0.35135135],\n",
       "       [0.35235235],\n",
       "       [0.35335335],\n",
       "       [0.35435435],\n",
       "       [0.35535536],\n",
       "       [0.35635636],\n",
       "       [0.35735736],\n",
       "       [0.35835836],\n",
       "       [0.35935936],\n",
       "       [0.36036036],\n",
       "       [0.36136136],\n",
       "       [0.36236236],\n",
       "       [0.36336336],\n",
       "       [0.36436436],\n",
       "       [0.36536537],\n",
       "       [0.36636637],\n",
       "       [0.36736737],\n",
       "       [0.36836837],\n",
       "       [0.36936937],\n",
       "       [0.37037037],\n",
       "       [0.37137137],\n",
       "       [0.37237237],\n",
       "       [0.37337337],\n",
       "       [0.37437437],\n",
       "       [0.37537538],\n",
       "       [0.37637638],\n",
       "       [0.37737738],\n",
       "       [0.37837838],\n",
       "       [0.37937938],\n",
       "       [0.38038038],\n",
       "       [0.38138138],\n",
       "       [0.38238238],\n",
       "       [0.38338338],\n",
       "       [0.38438438],\n",
       "       [0.38538539],\n",
       "       [0.38638639],\n",
       "       [0.38738739],\n",
       "       [0.38838839],\n",
       "       [0.38938939],\n",
       "       [0.39039039],\n",
       "       [0.39139139],\n",
       "       [0.39239239],\n",
       "       [0.39339339],\n",
       "       [0.39439439],\n",
       "       [0.3953954 ],\n",
       "       [0.3963964 ],\n",
       "       [0.3973974 ],\n",
       "       [0.3983984 ],\n",
       "       [0.3993994 ],\n",
       "       [0.4004004 ],\n",
       "       [0.4014014 ],\n",
       "       [0.4024024 ],\n",
       "       [0.4034034 ],\n",
       "       [0.4044044 ],\n",
       "       [0.40540541],\n",
       "       [0.40640641],\n",
       "       [0.40740741],\n",
       "       [0.40840841],\n",
       "       [0.40940941],\n",
       "       [0.41041041],\n",
       "       [0.41141141],\n",
       "       [0.41241241],\n",
       "       [0.41341341],\n",
       "       [0.41441441],\n",
       "       [0.41541542],\n",
       "       [0.41641642],\n",
       "       [0.41741742],\n",
       "       [0.41841842],\n",
       "       [0.41941942],\n",
       "       [0.42042042],\n",
       "       [0.42142142],\n",
       "       [0.42242242],\n",
       "       [0.42342342],\n",
       "       [0.42442442],\n",
       "       [0.42542543],\n",
       "       [0.42642643],\n",
       "       [0.42742743],\n",
       "       [0.42842843],\n",
       "       [0.42942943],\n",
       "       [0.43043043],\n",
       "       [0.43143143],\n",
       "       [0.43243243],\n",
       "       [0.43343343],\n",
       "       [0.43443443],\n",
       "       [0.43543544],\n",
       "       [0.43643644],\n",
       "       [0.43743744],\n",
       "       [0.43843844],\n",
       "       [0.43943944],\n",
       "       [0.44044044],\n",
       "       [0.44144144],\n",
       "       [0.44244244],\n",
       "       [0.44344344],\n",
       "       [0.44444444],\n",
       "       [0.44544545],\n",
       "       [0.44644645],\n",
       "       [0.44744745],\n",
       "       [0.44844845],\n",
       "       [0.44944945],\n",
       "       [0.45045045],\n",
       "       [0.45145145],\n",
       "       [0.45245245],\n",
       "       [0.45345345],\n",
       "       [0.45445445],\n",
       "       [0.45545546],\n",
       "       [0.45645646],\n",
       "       [0.45745746],\n",
       "       [0.45845846],\n",
       "       [0.45945946],\n",
       "       [0.46046046],\n",
       "       [0.46146146],\n",
       "       [0.46246246],\n",
       "       [0.46346346],\n",
       "       [0.46446446],\n",
       "       [0.46546547],\n",
       "       [0.46646647],\n",
       "       [0.46746747],\n",
       "       [0.46846847],\n",
       "       [0.46946947],\n",
       "       [0.47047047],\n",
       "       [0.47147147],\n",
       "       [0.47247247],\n",
       "       [0.47347347],\n",
       "       [0.47447447],\n",
       "       [0.47547548],\n",
       "       [0.47647648],\n",
       "       [0.47747748],\n",
       "       [0.47847848],\n",
       "       [0.47947948],\n",
       "       [0.48048048],\n",
       "       [0.48148148],\n",
       "       [0.48248248],\n",
       "       [0.48348348],\n",
       "       [0.48448448],\n",
       "       [0.48548549],\n",
       "       [0.48648649],\n",
       "       [0.48748749],\n",
       "       [0.48848849],\n",
       "       [0.48948949],\n",
       "       [0.49049049],\n",
       "       [0.49149149],\n",
       "       [0.49249249],\n",
       "       [0.49349349],\n",
       "       [0.49449449],\n",
       "       [0.4954955 ],\n",
       "       [0.4964965 ],\n",
       "       [0.4974975 ],\n",
       "       [0.4984985 ],\n",
       "       [0.4994995 ],\n",
       "       [0.5005005 ],\n",
       "       [0.5015015 ],\n",
       "       [0.5025025 ],\n",
       "       [0.5035035 ],\n",
       "       [0.5045045 ],\n",
       "       [0.50550551],\n",
       "       [0.50650651],\n",
       "       [0.50750751],\n",
       "       [0.50850851],\n",
       "       [0.50950951],\n",
       "       [0.51051051],\n",
       "       [0.51151151],\n",
       "       [0.51251251],\n",
       "       [0.51351351],\n",
       "       [0.51451451],\n",
       "       [0.51551552],\n",
       "       [0.51651652],\n",
       "       [0.51751752],\n",
       "       [0.51851852],\n",
       "       [0.51951952],\n",
       "       [0.52052052],\n",
       "       [0.52152152],\n",
       "       [0.52252252],\n",
       "       [0.52352352],\n",
       "       [0.52452452],\n",
       "       [0.52552553],\n",
       "       [0.52652653],\n",
       "       [0.52752753],\n",
       "       [0.52852853],\n",
       "       [0.52952953],\n",
       "       [0.53053053],\n",
       "       [0.53153153],\n",
       "       [0.53253253],\n",
       "       [0.53353353],\n",
       "       [0.53453453],\n",
       "       [0.53553554],\n",
       "       [0.53653654],\n",
       "       [0.53753754],\n",
       "       [0.53853854],\n",
       "       [0.53953954],\n",
       "       [0.54054054],\n",
       "       [0.54154154],\n",
       "       [0.54254254],\n",
       "       [0.54354354],\n",
       "       [0.54454454],\n",
       "       [0.54554555],\n",
       "       [0.54654655],\n",
       "       [0.54754755],\n",
       "       [0.54854855],\n",
       "       [0.54954955],\n",
       "       [0.55055055],\n",
       "       [0.55155155],\n",
       "       [0.55255255],\n",
       "       [0.55355355],\n",
       "       [0.55455455],\n",
       "       [0.55555556],\n",
       "       [0.55655656],\n",
       "       [0.55755756],\n",
       "       [0.55855856],\n",
       "       [0.55955956],\n",
       "       [0.56056056],\n",
       "       [0.56156156],\n",
       "       [0.56256256],\n",
       "       [0.56356356],\n",
       "       [0.56456456],\n",
       "       [0.56556557],\n",
       "       [0.56656657],\n",
       "       [0.56756757],\n",
       "       [0.56856857],\n",
       "       [0.56956957],\n",
       "       [0.57057057],\n",
       "       [0.57157157],\n",
       "       [0.57257257],\n",
       "       [0.57357357],\n",
       "       [0.57457457],\n",
       "       [0.57557558],\n",
       "       [0.57657658],\n",
       "       [0.57757758],\n",
       "       [0.57857858],\n",
       "       [0.57957958],\n",
       "       [0.58058058],\n",
       "       [0.58158158],\n",
       "       [0.58258258],\n",
       "       [0.58358358],\n",
       "       [0.58458458],\n",
       "       [0.58558559],\n",
       "       [0.58658659],\n",
       "       [0.58758759],\n",
       "       [0.58858859],\n",
       "       [0.58958959],\n",
       "       [0.59059059],\n",
       "       [0.59159159],\n",
       "       [0.59259259],\n",
       "       [0.59359359],\n",
       "       [0.59459459],\n",
       "       [0.5955956 ],\n",
       "       [0.5965966 ],\n",
       "       [0.5975976 ],\n",
       "       [0.5985986 ],\n",
       "       [0.5995996 ],\n",
       "       [0.6006006 ],\n",
       "       [0.6016016 ],\n",
       "       [0.6026026 ],\n",
       "       [0.6036036 ],\n",
       "       [0.6046046 ],\n",
       "       [0.60560561],\n",
       "       [0.60660661],\n",
       "       [0.60760761],\n",
       "       [0.60860861],\n",
       "       [0.60960961],\n",
       "       [0.61061061],\n",
       "       [0.61161161],\n",
       "       [0.61261261],\n",
       "       [0.61361361],\n",
       "       [0.61461461],\n",
       "       [0.61561562],\n",
       "       [0.61661662],\n",
       "       [0.61761762],\n",
       "       [0.61861862],\n",
       "       [0.61961962],\n",
       "       [0.62062062],\n",
       "       [0.62162162],\n",
       "       [0.62262262],\n",
       "       [0.62362362],\n",
       "       [0.62462462],\n",
       "       [0.62562563],\n",
       "       [0.62662663],\n",
       "       [0.62762763],\n",
       "       [0.62862863],\n",
       "       [0.62962963],\n",
       "       [0.63063063],\n",
       "       [0.63163163],\n",
       "       [0.63263263],\n",
       "       [0.63363363],\n",
       "       [0.63463463],\n",
       "       [0.63563564],\n",
       "       [0.63663664],\n",
       "       [0.63763764],\n",
       "       [0.63863864],\n",
       "       [0.63963964],\n",
       "       [0.64064064],\n",
       "       [0.64164164],\n",
       "       [0.64264264],\n",
       "       [0.64364364],\n",
       "       [0.64464464],\n",
       "       [0.64564565],\n",
       "       [0.64664665],\n",
       "       [0.64764765],\n",
       "       [0.64864865],\n",
       "       [0.64964965],\n",
       "       [0.65065065],\n",
       "       [0.65165165],\n",
       "       [0.65265265],\n",
       "       [0.65365365],\n",
       "       [0.65465465],\n",
       "       [0.65565566],\n",
       "       [0.65665666],\n",
       "       [0.65765766],\n",
       "       [0.65865866],\n",
       "       [0.65965966],\n",
       "       [0.66066066],\n",
       "       [0.66166166],\n",
       "       [0.66266266],\n",
       "       [0.66366366],\n",
       "       [0.66466466],\n",
       "       [0.66566567],\n",
       "       [0.66666667],\n",
       "       [0.66766767],\n",
       "       [0.66866867],\n",
       "       [0.66966967],\n",
       "       [0.67067067],\n",
       "       [0.67167167],\n",
       "       [0.67267267],\n",
       "       [0.67367367],\n",
       "       [0.67467467],\n",
       "       [0.67567568],\n",
       "       [0.67667668],\n",
       "       [0.67767768],\n",
       "       [0.67867868],\n",
       "       [0.67967968],\n",
       "       [0.68068068],\n",
       "       [0.68168168],\n",
       "       [0.68268268],\n",
       "       [0.68368368],\n",
       "       [0.68468468],\n",
       "       [0.68568569],\n",
       "       [0.68668669],\n",
       "       [0.68768769],\n",
       "       [0.68868869],\n",
       "       [0.68968969],\n",
       "       [0.69069069],\n",
       "       [0.69169169],\n",
       "       [0.69269269],\n",
       "       [0.69369369],\n",
       "       [0.69469469],\n",
       "       [0.6956957 ],\n",
       "       [0.6966967 ],\n",
       "       [0.6976977 ],\n",
       "       [0.6986987 ],\n",
       "       [0.6996997 ],\n",
       "       [0.7007007 ],\n",
       "       [0.7017017 ],\n",
       "       [0.7027027 ],\n",
       "       [0.7037037 ],\n",
       "       [0.7047047 ],\n",
       "       [0.70570571],\n",
       "       [0.70670671],\n",
       "       [0.70770771],\n",
       "       [0.70870871],\n",
       "       [0.70970971],\n",
       "       [0.71071071],\n",
       "       [0.71171171],\n",
       "       [0.71271271],\n",
       "       [0.71371371],\n",
       "       [0.71471471],\n",
       "       [0.71571572],\n",
       "       [0.71671672],\n",
       "       [0.71771772],\n",
       "       [0.71871872],\n",
       "       [0.71971972],\n",
       "       [0.72072072],\n",
       "       [0.72172172],\n",
       "       [0.72272272],\n",
       "       [0.72372372],\n",
       "       [0.72472472],\n",
       "       [0.72572573],\n",
       "       [0.72672673],\n",
       "       [0.72772773],\n",
       "       [0.72872873],\n",
       "       [0.72972973],\n",
       "       [0.73073073],\n",
       "       [0.73173173],\n",
       "       [0.73273273],\n",
       "       [0.73373373],\n",
       "       [0.73473473],\n",
       "       [0.73573574],\n",
       "       [0.73673674],\n",
       "       [0.73773774],\n",
       "       [0.73873874],\n",
       "       [0.73973974],\n",
       "       [0.74074074],\n",
       "       [0.74174174],\n",
       "       [0.74274274],\n",
       "       [0.74374374],\n",
       "       [0.74474474],\n",
       "       [0.74574575],\n",
       "       [0.74674675],\n",
       "       [0.74774775],\n",
       "       [0.74874875],\n",
       "       [0.74974975],\n",
       "       [0.75075075],\n",
       "       [0.75175175],\n",
       "       [0.75275275],\n",
       "       [0.75375375],\n",
       "       [0.75475475],\n",
       "       [0.75575576],\n",
       "       [0.75675676],\n",
       "       [0.75775776],\n",
       "       [0.75875876],\n",
       "       [0.75975976],\n",
       "       [0.76076076],\n",
       "       [0.76176176],\n",
       "       [0.76276276],\n",
       "       [0.76376376],\n",
       "       [0.76476476],\n",
       "       [0.76576577],\n",
       "       [0.76676677],\n",
       "       [0.76776777],\n",
       "       [0.76876877],\n",
       "       [0.76976977],\n",
       "       [0.77077077],\n",
       "       [0.77177177],\n",
       "       [0.77277277],\n",
       "       [0.77377377],\n",
       "       [0.77477477],\n",
       "       [0.77577578],\n",
       "       [0.77677678],\n",
       "       [0.77777778],\n",
       "       [0.77877878],\n",
       "       [0.77977978],\n",
       "       [0.78078078],\n",
       "       [0.78178178],\n",
       "       [0.78278278],\n",
       "       [0.78378378],\n",
       "       [0.78478478],\n",
       "       [0.78578579],\n",
       "       [0.78678679],\n",
       "       [0.78778779],\n",
       "       [0.78878879],\n",
       "       [0.78978979],\n",
       "       [0.79079079],\n",
       "       [0.79179179],\n",
       "       [0.79279279],\n",
       "       [0.79379379],\n",
       "       [0.79479479],\n",
       "       [0.7957958 ],\n",
       "       [0.7967968 ],\n",
       "       [0.7977978 ],\n",
       "       [0.7987988 ],\n",
       "       [0.7997998 ],\n",
       "       [0.8008008 ],\n",
       "       [0.8018018 ],\n",
       "       [0.8028028 ],\n",
       "       [0.8038038 ],\n",
       "       [0.8048048 ],\n",
       "       [0.80580581],\n",
       "       [0.80680681],\n",
       "       [0.80780781],\n",
       "       [0.80880881],\n",
       "       [0.80980981],\n",
       "       [0.81081081],\n",
       "       [0.81181181],\n",
       "       [0.81281281],\n",
       "       [0.81381381],\n",
       "       [0.81481481],\n",
       "       [0.81581582],\n",
       "       [0.81681682],\n",
       "       [0.81781782],\n",
       "       [0.81881882],\n",
       "       [0.81981982],\n",
       "       [0.82082082],\n",
       "       [0.82182182],\n",
       "       [0.82282282],\n",
       "       [0.82382382],\n",
       "       [0.82482482],\n",
       "       [0.82582583],\n",
       "       [0.82682683],\n",
       "       [0.82782783],\n",
       "       [0.82882883],\n",
       "       [0.82982983],\n",
       "       [0.83083083],\n",
       "       [0.83183183],\n",
       "       [0.83283283],\n",
       "       [0.83383383],\n",
       "       [0.83483483],\n",
       "       [0.83583584],\n",
       "       [0.83683684],\n",
       "       [0.83783784],\n",
       "       [0.83883884],\n",
       "       [0.83983984],\n",
       "       [0.84084084],\n",
       "       [0.84184184],\n",
       "       [0.84284284],\n",
       "       [0.84384384],\n",
       "       [0.84484484],\n",
       "       [0.84584585],\n",
       "       [0.84684685],\n",
       "       [0.84784785],\n",
       "       [0.84884885],\n",
       "       [0.84984985],\n",
       "       [0.85085085],\n",
       "       [0.85185185],\n",
       "       [0.85285285],\n",
       "       [0.85385385],\n",
       "       [0.85485485],\n",
       "       [0.85585586],\n",
       "       [0.85685686],\n",
       "       [0.85785786],\n",
       "       [0.85885886],\n",
       "       [0.85985986],\n",
       "       [0.86086086],\n",
       "       [0.86186186],\n",
       "       [0.86286286],\n",
       "       [0.86386386],\n",
       "       [0.86486486],\n",
       "       [0.86586587],\n",
       "       [0.86686687],\n",
       "       [0.86786787],\n",
       "       [0.86886887],\n",
       "       [0.86986987],\n",
       "       [0.87087087],\n",
       "       [0.87187187],\n",
       "       [0.87287287],\n",
       "       [0.87387387],\n",
       "       [0.87487487],\n",
       "       [0.87587588],\n",
       "       [0.87687688],\n",
       "       [0.87787788],\n",
       "       [0.87887888],\n",
       "       [0.87987988],\n",
       "       [0.88088088],\n",
       "       [0.88188188],\n",
       "       [0.88288288],\n",
       "       [0.88388388],\n",
       "       [0.88488488],\n",
       "       [0.88588589],\n",
       "       [0.88688689],\n",
       "       [0.88788789],\n",
       "       [0.88888889],\n",
       "       [0.88988989],\n",
       "       [0.89089089],\n",
       "       [0.89189189],\n",
       "       [0.89289289],\n",
       "       [0.89389389],\n",
       "       [0.89489489],\n",
       "       [0.8958959 ],\n",
       "       [0.8968969 ],\n",
       "       [0.8978979 ],\n",
       "       [0.8988989 ],\n",
       "       [0.8998999 ],\n",
       "       [0.9009009 ],\n",
       "       [0.9019019 ],\n",
       "       [0.9029029 ],\n",
       "       [0.9039039 ],\n",
       "       [0.9049049 ],\n",
       "       [0.90590591],\n",
       "       [0.90690691],\n",
       "       [0.90790791],\n",
       "       [0.90890891],\n",
       "       [0.90990991],\n",
       "       [0.91091091],\n",
       "       [0.91191191],\n",
       "       [0.91291291],\n",
       "       [0.91391391],\n",
       "       [0.91491491],\n",
       "       [0.91591592],\n",
       "       [0.91691692],\n",
       "       [0.91791792],\n",
       "       [0.91891892],\n",
       "       [0.91991992],\n",
       "       [0.92092092],\n",
       "       [0.92192192],\n",
       "       [0.92292292],\n",
       "       [0.92392392],\n",
       "       [0.92492492],\n",
       "       [0.92592593],\n",
       "       [0.92692693],\n",
       "       [0.92792793],\n",
       "       [0.92892893],\n",
       "       [0.92992993],\n",
       "       [0.93093093],\n",
       "       [0.93193193],\n",
       "       [0.93293293],\n",
       "       [0.93393393],\n",
       "       [0.93493493],\n",
       "       [0.93593594],\n",
       "       [0.93693694],\n",
       "       [0.93793794],\n",
       "       [0.93893894],\n",
       "       [0.93993994],\n",
       "       [0.94094094],\n",
       "       [0.94194194],\n",
       "       [0.94294294],\n",
       "       [0.94394394],\n",
       "       [0.94494494],\n",
       "       [0.94594595],\n",
       "       [0.94694695],\n",
       "       [0.94794795],\n",
       "       [0.94894895],\n",
       "       [0.94994995],\n",
       "       [0.95095095],\n",
       "       [0.95195195],\n",
       "       [0.95295295],\n",
       "       [0.95395395],\n",
       "       [0.95495495],\n",
       "       [0.95595596],\n",
       "       [0.95695696],\n",
       "       [0.95795796],\n",
       "       [0.95895896],\n",
       "       [0.95995996],\n",
       "       [0.96096096],\n",
       "       [0.96196196],\n",
       "       [0.96296296],\n",
       "       [0.96396396],\n",
       "       [0.96496496],\n",
       "       [0.96596597],\n",
       "       [0.96696697],\n",
       "       [0.96796797],\n",
       "       [0.96896897],\n",
       "       [0.96996997],\n",
       "       [0.97097097],\n",
       "       [0.97197197],\n",
       "       [0.97297297],\n",
       "       [0.97397397],\n",
       "       [0.97497497],\n",
       "       [0.97597598],\n",
       "       [0.97697698],\n",
       "       [0.97797798],\n",
       "       [0.97897898],\n",
       "       [0.97997998],\n",
       "       [0.98098098],\n",
       "       [0.98198198],\n",
       "       [0.98298298],\n",
       "       [0.98398398],\n",
       "       [0.98498498],\n",
       "       [0.98598599],\n",
       "       [0.98698699],\n",
       "       [0.98798799],\n",
       "       [0.98898899],\n",
       "       [0.98998999],\n",
       "       [0.99099099],\n",
       "       [0.99199199],\n",
       "       [0.99299299],\n",
       "       [0.99399399],\n",
       "       [0.99499499],\n",
       "       [0.995996  ],\n",
       "       [0.996997  ],\n",
       "       [0.997998  ],\n",
       "       [0.998999  ],\n",
       "       [1.        ]])"
      ]
     },
     "execution_count": 36,
     "metadata": {},
     "output_type": "execute_result"
    }
   ],
   "source": [
    "scaler = MinMaxScaler() # it's a class\n",
    "scaler.fit_transform(marketing_spend) #"
   ]
  },
  {
   "cell_type": "code",
   "execution_count": 8,
   "id": "969b4d7c",
   "metadata": {},
   "outputs": [],
   "source": [
    "a = np.array([1,2,3,4])"
   ]
  },
  {
   "cell_type": "code",
   "execution_count": 19,
   "id": "21ce97d5",
   "metadata": {},
   "outputs": [
    {
     "data": {
      "text/plain": [
       "array([[1, 2, 3, 4]])"
      ]
     },
     "execution_count": 19,
     "metadata": {},
     "output_type": "execute_result"
    }
   ],
   "source": [
    "a.reshape(1,-1) # reshape rows , column"
   ]
  },
  {
   "cell_type": "code",
   "execution_count": 27,
   "id": "9162373f",
   "metadata": {},
   "outputs": [],
   "source": [
    "marketing_spend=marketing_spend.reshape(-1,1)"
   ]
  },
  {
   "cell_type": "code",
   "execution_count": 28,
   "id": "f4f01829",
   "metadata": {},
   "outputs": [
    {
     "data": {
      "text/plain": [
       "(1000, 1)"
      ]
     },
     "execution_count": 28,
     "metadata": {},
     "output_type": "execute_result"
    }
   ],
   "source": [
    "marketing_spend.shape"
   ]
  },
  {
   "cell_type": "code",
   "execution_count": 31,
   "id": "72b58a9d",
   "metadata": {},
   "outputs": [],
   "source": [
    "scaled_down_spends=scaler.fit_transform(marketing_spend)"
   ]
  },
  {
   "cell_type": "code",
   "execution_count": 34,
   "id": "474b4ea8",
   "metadata": {},
   "outputs": [
    {
     "data": {
      "text/plain": [
       "(0.0, 1.0)"
      ]
     },
     "execution_count": 34,
     "metadata": {},
     "output_type": "execute_result"
    }
   ],
   "source": [
    "# every thing is scaled down between closed interval 0 and 1\n",
    "scaled_down_spends.min(),scaled_down_spends.max()"
   ]
  },
  {
   "cell_type": "markdown",
   "id": "0ca85d03",
   "metadata": {},
   "source": [
    "So we have seen that the values have been scaled down "
   ]
  },
  {
   "cell_type": "markdown",
   "id": "4b1f1edf",
   "metadata": {},
   "source": [
    "# Here are some key take aways from the MinMaxScaler\n",
    "## the data should be a 2d array \n",
    "## it chould be arrange like pillar wise i.e (-1,1)"
   ]
  },
  {
   "cell_type": "markdown",
   "id": "bd503ec5",
   "metadata": {},
   "source": [
    "# Some question to rigid our concept"
   ]
  },
  {
   "cell_type": "markdown",
   "id": "cb3266eb",
   "metadata": {},
   "source": [
    "Under what circumstance, unlikely as it might be, would the standard error of estimate be zero?\n",
    "\n",
    "The correlation coefficient is either 1.00 or -1.00\n"
   ]
  },
  {
   "cell_type": "markdown",
   "id": "8c34fa4a",
   "metadata": {},
   "source": [
    "Which of the following is true about Residuals ?\n",
    "\n",
    "lower is better"
   ]
  },
  {
   "cell_type": "markdown",
   "id": "5bca0027",
   "metadata": {},
   "source": [
    "\n",
    "A measure of goodness of fit for the estimated regression equation is the\n",
    "\n",
    "mean square due to regression"
   ]
  },
  {
   "cell_type": "markdown",
   "id": "706ce1a6",
   "metadata": {},
   "source": [
    "Which of the following methods do we use to find the best fit line for data in Linear Regression?\n",
    "\n",
    "Least square error\n"
   ]
  },
  {
   "cell_type": "markdown",
   "id": "f5c5782e",
   "metadata": {},
   "source": [
    "Gradient of a continuous and differentiable function\n",
    "\n",
    "\n",
    "is zero at a minimum\n",
    "is zero at a saddle point\n",
    "decreases as you get closer to the minimum"
   ]
  },
  {
   "cell_type": "markdown",
   "id": "9b2f4536",
   "metadata": {},
   "source": [
    "A procedure used for finding the equation of a straight line which provides the best approximation for the relationship between the independent and dependent variables is\n",
    "\n",
    "\n",
    "the least squares method"
   ]
  },
  {
   "cell_type": "markdown",
   "id": "4a918a01",
   "metadata": {},
   "source": [
    "Which of the following metrics can be used for evaluating regression models?\n",
    "\n",
    "RMSE / MSE / MAE\n",
    "Adjusted R Squared\n",
    "F Statistics\n",
    "R Squared"
   ]
  },
  {
   "cell_type": "markdown",
   "id": "67ba2dea",
   "metadata": {},
   "source": [
    "In the mathematical Equation of Linear Regression Y = β1 + β2X + ϵ, (β1, β2) refers to __________\n",
    "yintercept and slope"
   ]
  },
  {
   "cell_type": "markdown",
   "id": "ccd2050a",
   "metadata": {},
   "source": [
    "# 2"
   ]
  },
  {
   "cell_type": "code",
   "execution_count": null,
   "id": "a3ae14c9",
   "metadata": {},
   "outputs": [],
   "source": [
    "A measure of goodness of fit for the estimated regression equation is the\n",
    "\n",
    "mean square due to regression"
   ]
  },
  {
   "cell_type": "code",
   "execution_count": null,
   "id": "acf59cbd",
   "metadata": {},
   "outputs": [],
   "source": [
    "If Linear regression model perfectly first i.e., train error is zero, then\n",
    "Couldn’t comment on Test error"
   ]
  },
  {
   "cell_type": "markdown",
   "id": "186d1f54",
   "metadata": {},
   "source": [
    "Which of the following statement(s) can be true post adding a variable in a linear regression model?\n",
    "R-Squared increases and Adjusted R-squared decreases"
   ]
  },
  {
   "cell_type": "markdown",
   "id": "e455d19a",
   "metadata": {},
   "source": [
    "In a simple Linear Regression model (one independent variable), if we change the input variable by 1 unit. How much output variable will change?\n",
    "\n",
    "by its slope"
   ]
  },
  {
   "cell_type": "code",
   "execution_count": null,
   "id": "95bec993",
   "metadata": {},
   "outputs": [],
   "source": [
    "what is not a assumption of Linear Regression?\n",
    "we assume that there is no multicolinearity"
   ]
  },
  {
   "cell_type": "markdown",
   "id": "890ed508",
   "metadata": {},
   "source": [
    "\n",
    "A procedure used for finding the equation of a straight line which provides the best approximation for the relationship between the independent and dependent variables is\n",
    "\n",
    "the least square method\n"
   ]
  },
  {
   "cell_type": "code",
   "execution_count": null,
   "id": "560c3e33",
   "metadata": {},
   "outputs": [],
   "source": [
    "Which of the following methods do we use to find the best fit line for data in Linear Regression?\n",
    "Least squared error"
   ]
  },
  {
   "cell_type": "markdown",
   "id": "704cd7aa",
   "metadata": {},
   "source": [
    "In practice, Line of best fit or regression line is found when\n",
    "\n",
    "\n",
    "Sum of the square of residuals ( ∑ (Y-h(X))^2) is minimum"
   ]
  },
  {
   "cell_type": "code",
   "execution_count": null,
   "id": "7113077c",
   "metadata": {},
   "outputs": [],
   "source": []
  },
  {
   "cell_type": "code",
   "execution_count": null,
   "id": "a7b44832",
   "metadata": {},
   "outputs": [],
   "source": []
  },
  {
   "cell_type": "code",
   "execution_count": null,
   "id": "a127f47c",
   "metadata": {},
   "outputs": [],
   "source": []
  },
  {
   "cell_type": "markdown",
   "id": "69154ccf",
   "metadata": {},
   "source": [
    "Which of the following code returns the coefficient values?\n"
   ]
  },
  {
   "cell_type": "markdown",
   "id": "9b999765",
   "metadata": {},
   "source": [
    "How to import linear regression from sklearn?\n",
    "\n",
    "For Normalization, we use___________ MinMaxScaler\n",
    "\n",
    "Which of the following code returns the coefficient values?\n",
    "\n",
    "We don't need feature selection if we have single digit columns. false\n",
    "\n",
    "For Standardization, We use_____________ StandardScaler\n",
    "\n",
    "Which one rescales the data to have mean of 0 and a standard deviation of 1? StandardScaler\n",
    "\n",
    "How to import R2 score?\n",
    "\n",
    "Which one rescales values into range of [0,1]? minmaxscaler\n",
    "\n"
   ]
  },
  {
   "cell_type": "code",
   "execution_count": null,
   "id": "64f53fff",
   "metadata": {},
   "outputs": [],
   "source": [
    "\n",
    "regressor.coef_"
   ]
  },
  {
   "cell_type": "code",
   "execution_count": null,
   "id": "22e0fe3e",
   "metadata": {},
   "outputs": [],
   "source": [
    "How to import R2 score?"
   ]
  },
  {
   "cell_type": "code",
   "execution_count": null,
   "id": "979d4fe2",
   "metadata": {},
   "outputs": [],
   "source": [
    "\n",
    "We don't need feature selection if we have single digit columns."
   ]
  },
  {
   "cell_type": "code",
   "execution_count": null,
   "id": "71054ee3",
   "metadata": {},
   "outputs": [],
   "source": [
    "For Standardization, We use_____________\n",
    "\n",
    "StandardScalar"
   ]
  },
  {
   "cell_type": "code",
   "execution_count": null,
   "id": "75705371",
   "metadata": {},
   "outputs": [],
   "source": [
    "How to fit the data to linear regression algorithm?\n",
    "\n",
    "regressor=LinearRegression()\n",
    "regressor.fit(X_train, y_train)"
   ]
  },
  {
   "cell_type": "code",
   "execution_count": null,
   "id": "fba547ca",
   "metadata": {},
   "outputs": [],
   "source": [
    "For Normalization, we use___________\n",
    "StandardScalar"
   ]
  },
  {
   "cell_type": "code",
   "execution_count": null,
   "id": "1b42156d",
   "metadata": {},
   "outputs": [],
   "source": [
    "How to import linear regression from sklearn?"
   ]
  },
  {
   "cell_type": "code",
   "execution_count": null,
   "id": "1cbda39e",
   "metadata": {},
   "outputs": [],
   "source": [
    "Which one rescales values into range of [0,1]?\n",
    "MInmax scalar"
   ]
  },
  {
   "cell_type": "markdown",
   "id": "8a41e7bf",
   "metadata": {},
   "source": [
    "# standard error of estimate "
   ]
  },
  {
   "cell_type": "markdown",
   "id": "f5835403",
   "metadata": {},
   "source": [
    "so see is like I predict that you have 100 dollars in your pocket with deviation of +-2 dollars and sse is just the difference between my prediction and you having the actual dollar"
   ]
  },
  {
   "cell_type": "markdown",
   "id": "6d4f83fe",
   "metadata": {},
   "source": [
    "SEE measures the average variability of the observed data points around the regression line."
   ]
  },
  {
   "cell_type": "markdown",
   "id": "2d21b193",
   "metadata": {},
   "source": [
    "## F test is related to the math model you will have to revisit "
   ]
  },
  {
   "cell_type": "markdown",
   "id": "41b68598",
   "metadata": {},
   "source": [
    "# what is sum square due to regression and  sum square due to error lets understand this with a analogus \n",
    "\n",
    "Of course, let's try another example:\n",
    "\n",
    "Imagine you're playing with toy cars, and you want to know how fast they go when you push them. You decide to measure how hard you push the cars (that's your \"input\") and how far they travel (that's your \"output\").\n",
    "\n",
    "1. **Mean Square Due to Regression:**\n",
    "   - This is like when you draw a line to show how hard you pushed the cars and how far they went. If your line matches the real results really well, it means you're good at predicting how far the cars will go when you push them harder or softer.\n",
    "   - So, if your line is very close to the actual results, this number is big, and it shows you're good at guessing.\n",
    "\n",
    "2. **Mean Square Due to Error:**\n",
    "   - Sometimes, even if you try your best, your guesses might not be exactly right. This is where the Mean Square Due to Error comes in.\n",
    "   - It's like checking how much your guesses are different from what actually happens. If this number is small, it means your guesses are pretty accurate and close to the real results. But if it's big, it means your guesses are not so close to what actually happens.\n",
    "\n",
    "Think of it like this: the first number tells you how well your drawing (line) matches your guesses, and the second number tells you if you made any mistakes in your guesses. Just like before, you want the first number to be big and the second number to be small to show that you're really good at understanding and predicting how things work."
   ]
  },
  {
   "cell_type": "markdown",
   "id": "657100cc",
   "metadata": {},
   "source": [
    "let me get this correct So I basically push the car and see how far it goes that I plot that on graph and now lets say I do this 40 times and make a graph now I have a plot and a function what after this "
   ]
  },
  {
   "cell_type": "markdown",
   "id": "4a3e94df",
   "metadata": {},
   "source": [
    "Exactly! You're on the right track. Here's what you have done so far:\n",
    "\n",
    "1. **Pushing the Car:** You pushed the toy cars and measured how hard you pushed them (this is like your \"input\") and how far they traveled (this is like your \"output\").\n",
    "\n",
    "2. **Data Collection:** You did this 40 times, so you have 40 pairs of measurements (input and output).\n",
    "\n",
    "3. **Graph Plotting:** You took all those pairs of measurements and plotted them on a graph. The input values are on one axis (like the x-axis), and the output values are on the other axis (like the y-axis). This creates a bunch of points on the graph.\n",
    "\n",
    "4. **Line or Curve:** After you plotted the points, you can draw a line or curve that tries to go through the points in the best way possible. This line or curve is like your guess or prediction about how hard you push and how far the car goes. This is the function you mentioned.\n",
    "\n",
    "Now, what's next?\n",
    "\n",
    "5. **Understanding the Relationship:** The line or curve you drew is your way of understanding how pushing the car (input) is related to how far it goes (output). The slope of the line or the shape of the curve tells you about this relationship. If the line goes up, it means pushing harder makes the car go farther. If it goes down, it means pushing harder makes the car go less far.\n",
    "\n",
    "6. **Mean Squares:** Now, the \"Mean Square Due to Regression\" and \"Mean Square Due to Error\" come in. These numbers help you see how well your line or curve fits the real measurements. If the line is close to the points, your Mean Square Due to Regression is big, and it means you did a good job understanding the relationship. If your line is close to the real measurements, your Mean Square Due to Error is small, and it means your guesses are pretty good.\n",
    "\n",
    "These steps help you know if your guesses are accurate and how well your function (line or curve) describes the connection between pushing the car and how far it goes. It's like figuring out a puzzle and making sure your guess is as close as possible to what really happens."
   ]
  },
  {
   "cell_type": "markdown",
   "id": "06e8b374",
   "metadata": {},
   "source": [
    "so sum square due to regression says the goodness of fit higher the value better is the model and sum square due to error says what is the difference between your prediction and actual prediction and the low it is the better is the model "
   ]
  },
  {
   "cell_type": "markdown",
   "id": "fbbf9025",
   "metadata": {},
   "source": [
    "End thought - sum square due to regresion says how good is your regression line is that if it is good it is catching most of the predictions and is a good fit \n",
    "\n",
    "sse is like differnce between the actual value and predicted value "
   ]
  },
  {
   "cell_type": "markdown",
   "id": "2b22a0ae",
   "metadata": {},
   "source": [
    "## Base line model \n",
    "\n",
    "so we take the average of all the target variable and plot a line parallel to x axis that is what gives us a baseline model"
   ]
  },
  {
   "cell_type": "markdown",
   "id": "030a26a8",
   "metadata": {},
   "source": [
    "# What is the difference between standardization and normalization \n",
    "\n",
    "standardization scales the data such that the mean of the data is zero and the variance is 1\n",
    "\n",
    "Normalization scales the data between range 0 to 1 or -1 to 1"
   ]
  },
  {
   "cell_type": "code",
   "execution_count": null,
   "id": "fefeb43c",
   "metadata": {},
   "outputs": [],
   "source": []
  }
 ],
 "metadata": {
  "kernelspec": {
   "display_name": "Python 3 (ipykernel)",
   "language": "python",
   "name": "python3"
  },
  "language_info": {
   "codemirror_mode": {
    "name": "ipython",
    "version": 3
   },
   "file_extension": ".py",
   "mimetype": "text/x-python",
   "name": "python",
   "nbconvert_exporter": "python",
   "pygments_lexer": "ipython3",
   "version": "3.9.12"
  }
 },
 "nbformat": 4,
 "nbformat_minor": 5
}
