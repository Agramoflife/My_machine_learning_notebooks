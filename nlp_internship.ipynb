{
 "cells": [
  {
   "cell_type": "markdown",
   "id": "8da51583",
   "metadata": {},
   "source": [
    "# NLP"
   ]
  },
  {
   "cell_type": "code",
   "execution_count": 1,
   "id": "59a2bafb",
   "metadata": {},
   "outputs": [
    {
     "data": {
      "text/plain": [
       "['Rise of e-health and its impact on humans by the year 2030',\n",
       " 'The rise of e-health, or the use of electronic means to facilitate health care, has been a major development in the healthcare industry in recent years. The use of technology to improve access to healthcare and make it more efficient has the potential to revolutionize the way we think about healthcare and its delivery. By 2030, it is likely that e-health will have a significant impact on the way we receive and provide healthcare, and this essay will explore the potential impacts of e-health on humans by that year.',\n",
       " 'One of the main benefits of e-health is the increased access it provides to healthcare services. With the use of telemedicine and other remote care technologies, patients can receive care from anywhere with an internet connection. This can be particularly beneficial for those who live in rural or underserved areas, where access to healthcare providers may be limited. It can also be useful for those with mobility issues or disabilities that make it difficult for them to visit a healthcare facility in person. By 2030, it is likely that the use of telemedicine and other remote care technologies will become even more widespread, potentially leading to a decrease in healthcare disparities and an increase in access to care for those who may have previously had difficulty accessing it.',\n",
       " 'In addition to increasing access to care, e-health has the potential to improve the efficiency of the healthcare system. By using electronic medical records and other digital technologies, healthcare providers can more easily share and access patient information, streamlining the process of providing care. This can lead to more accurate diagnoses and treatment plans, and potentially reduce the need for unnecessary or redundant tests and procedures. By 2030, it is likely that the use of electronic medical records and other digital technologies will become even more widespread, potentially leading to a more efficient and effective healthcare system.',\n",
       " 'Another potential impact of e-health by 2030 is the ability to use data analytics to improve population health. By collecting and analyzing data on patient health and healthcare utilization, healthcare providers can identify trends and patterns that may help them better understand and address the health needs of their patient populations. This could lead to the development of targeted interventions and prevention strategies that are more effective at improving population health. Additionally, the use of wearable technology and other digital health devices can help individuals track and manage their own health, potentially leading to improved health outcomes for individuals and populations.',\n",
       " 'While the potential benefits of e-health are significant, there are also potential challenges and drawbacks to consider. One concern is the potential for cybersecurity breaches, which could compromise the confidentiality and privacy of patient information. It is important for healthcare organizations to prioritize cybersecurity and ensure that appropriate measures are in place to protect patient data. Another concern is the potential for the use of e-health to exacerbate healthcare disparities, as those who are unable to afford or access the necessary technology may be left behind. Ensuring that e-health technologies are accessible and affordable to all is an important consideration as the use of e-health continues to grow.',\n",
       " 'In conclusion, by 2030 it is likely that e-health will have a significant impact on the way we receive and provide healthcare. The increased access to care and improved efficiency provided by e-health technologies have the potential to revolutionize the healthcare industry and improve health outcomes for individuals and populations. However, it is important to consider and address potential challenges and drawbacks, such as cybersecurity concerns and healthcare disparities, as the use of e-health continues to grow.',\n",
       " 'We provide intelligence, accelerate innovation and implement technology with extraordinary breadth and depth global insights into the big data,data-driven dashboards, applications development, and information management for organizations through combining unique, specialist services and high-lvel human expertise.']"
      ]
     },
     "execution_count": 1,
     "metadata": {},
     "output_type": "execute_result"
    }
   ],
   "source": [
    "import requests\n",
    "from bs4 import BeautifulSoup\n",
    "\n",
    "# with putting the URL to scrape\n",
    "url = 'https://insights.blackcoffer.com/rise-of-e-health-and-its-impact-on-humans-by-the-year-2030/'\n",
    "\n",
    "# Send an HTTP GET request to the URL\n",
    "response = requests.get(url)\n",
    "\n",
    "# Parse the HTML content\n",
    "soup = BeautifulSoup(response.text, 'html.parser')\n",
    "\n",
    "# Define the class attribute of the unwanted paragraphs\n",
    "unwanted_class = \"entry-title td-module-title\"\n",
    "\n",
    "# Find and remove unwanted paragraphs based on the class attribute\n",
    "unwanted_paragraphs = soup.find_all('p', class_=unwanted_class)\n",
    "for unwanted_paragraph in unwanted_paragraphs:\n",
    "    unwanted_paragraph.extract()\n",
    "\n",
    "# Now, the soup object contains the remaining paragraphs (header and article)\n",
    "header = soup.find('h1')  # You can change 'h1' to the appropriate header tag\n",
    "\n",
    "# Extract article paragraphs (you can customize the paragraph tag)\n",
    "paragraphs = soup.find_all('p')  # You can change 'p' to the appropriate paragraph tag\n",
    "\n",
    "# Create a list to store filtered paragraphs\n",
    "filtered_paragraphs = [header.get_text()]\n",
    "# Define the text to be excluded\n",
    "excluded_texts = [\"Contact us: hello@blackcoffer.com\", \"© All Right Reserved, Blackcoffer(OPC) Pvt. Ltd\"]\n",
    "\n",
    "# Iterate through paragraphs and keep only those that don't contain excluded texts\n",
    "for paragraph in paragraphs:\n",
    "    paragraph_text = paragraph.get_text()  # Get the text content of the paragraph\n",
    "    if all(excluded_text not in paragraph_text for excluded_text in excluded_texts):\n",
    "        filtered_paragraphs.append(paragraph_text)\n",
    "\n",
    "# Now, the 'filtered_paragraphs' list contains the paragraphs with the excluded texts\n",
    "filtered_paragraphs"
   ]
  },
  {
   "cell_type": "code",
   "execution_count": 4,
   "id": "5896e288",
   "metadata": {},
   "outputs": [
    {
     "data": {
      "text/plain": [
       "'Rise of e-health and its impact on humans by the year 2030'"
      ]
     },
     "execution_count": 4,
     "metadata": {},
     "output_type": "execute_result"
    }
   ],
   "source": [
    "filtered_paragraphs[0]"
   ]
  },
  {
   "cell_type": "code",
   "execution_count": 5,
   "id": "6d6b9a1b",
   "metadata": {},
   "outputs": [],
   "source": [
    "import numpy as np\n",
    "import pandas as pd"
   ]
  },
  {
   "cell_type": "code",
   "execution_count": 6,
   "id": "44a9fb07",
   "metadata": {},
   "outputs": [
    {
     "data": {
      "text/plain": [
       "'C:\\\\Users\\\\Deepu\\\\Documents\\\\machine_learning'"
      ]
     },
     "execution_count": 6,
     "metadata": {},
     "output_type": "execute_result"
    }
   ],
   "source": [
    "pwd"
   ]
  },
  {
   "cell_type": "code",
   "execution_count": 12,
   "id": "8e2cecc6",
   "metadata": {},
   "outputs": [
    {
     "name": "stdout",
     "output_type": "stream",
     "text": [
      "C:\\Users\\Deepu\\Downloads\\20211030 Test Assignment\n"
     ]
    }
   ],
   "source": [
    "cd C:\\\\Users\\\\Deepu\\\\Downloads\\\\20211030 Test Assignment"
   ]
  },
  {
   "cell_type": "code",
   "execution_count": 14,
   "id": "50385890",
   "metadata": {},
   "outputs": [
    {
     "name": "stdout",
     "output_type": "stream",
     "text": [
      " Volume in drive C has no label.\n",
      " Volume Serial Number is 08CB-6401\n",
      "\n",
      " Directory of C:\\Users\\Deepu\\Downloads\\20211030 Test Assignment\n",
      "\n",
      "03-11-2023  21:21    <DIR>          .\n",
      "03-11-2023  21:21    <DIR>          ..\n",
      "04-08-2023  08:17            14,604 Input.xlsx\n",
      "03-10-2023  23:40    <DIR>          MasterDictionary\n",
      "16-11-2022  07:22            12,467 Objective.docx\n",
      "04-08-2023  08:18            16,053 Output Data Structure.xlsx\n",
      "03-10-2023  23:40    <DIR>          StopWords\n",
      "26-05-2022  00:38            14,551 Text Analysis.docx\n",
      "               4 File(s)         57,675 bytes\n",
      "               4 Dir(s)  70,961,766,400 bytes free\n"
     ]
    }
   ],
   "source": [
    "ls"
   ]
  },
  {
   "cell_type": "code",
   "execution_count": 15,
   "id": "1dc3fa47",
   "metadata": {},
   "outputs": [],
   "source": [
    "df = pd.read_excel('Input.xlsx')"
   ]
  },
  {
   "cell_type": "code",
   "execution_count": 16,
   "id": "852206be",
   "metadata": {},
   "outputs": [
    {
     "data": {
      "text/html": [
       "<div>\n",
       "<style scoped>\n",
       "    .dataframe tbody tr th:only-of-type {\n",
       "        vertical-align: middle;\n",
       "    }\n",
       "\n",
       "    .dataframe tbody tr th {\n",
       "        vertical-align: top;\n",
       "    }\n",
       "\n",
       "    .dataframe thead th {\n",
       "        text-align: right;\n",
       "    }\n",
       "</style>\n",
       "<table border=\"1\" class=\"dataframe\">\n",
       "  <thead>\n",
       "    <tr style=\"text-align: right;\">\n",
       "      <th></th>\n",
       "      <th>URL_ID</th>\n",
       "      <th>URL</th>\n",
       "    </tr>\n",
       "  </thead>\n",
       "  <tbody>\n",
       "    <tr>\n",
       "      <th>0</th>\n",
       "      <td>123.0</td>\n",
       "      <td>https://insights.blackcoffer.com/rise-of-telem...</td>\n",
       "    </tr>\n",
       "    <tr>\n",
       "      <th>1</th>\n",
       "      <td>321.0</td>\n",
       "      <td>https://insights.blackcoffer.com/rise-of-e-hea...</td>\n",
       "    </tr>\n",
       "    <tr>\n",
       "      <th>2</th>\n",
       "      <td>2345.0</td>\n",
       "      <td>https://insights.blackcoffer.com/rise-of-e-hea...</td>\n",
       "    </tr>\n",
       "    <tr>\n",
       "      <th>3</th>\n",
       "      <td>4321.0</td>\n",
       "      <td>https://insights.blackcoffer.com/rise-of-telem...</td>\n",
       "    </tr>\n",
       "    <tr>\n",
       "      <th>4</th>\n",
       "      <td>432.0</td>\n",
       "      <td>https://insights.blackcoffer.com/rise-of-telem...</td>\n",
       "    </tr>\n",
       "  </tbody>\n",
       "</table>\n",
       "</div>"
      ],
      "text/plain": [
       "   URL_ID                                                URL\n",
       "0   123.0  https://insights.blackcoffer.com/rise-of-telem...\n",
       "1   321.0  https://insights.blackcoffer.com/rise-of-e-hea...\n",
       "2  2345.0  https://insights.blackcoffer.com/rise-of-e-hea...\n",
       "3  4321.0  https://insights.blackcoffer.com/rise-of-telem...\n",
       "4   432.0  https://insights.blackcoffer.com/rise-of-telem..."
      ]
     },
     "execution_count": 16,
     "metadata": {},
     "output_type": "execute_result"
    }
   ],
   "source": [
    "df.head()"
   ]
  },
  {
   "cell_type": "code",
   "execution_count": 17,
   "id": "314f748a",
   "metadata": {},
   "outputs": [
    {
     "name": "stdout",
     "output_type": "stream",
     "text": [
      "<class 'pandas.core.frame.DataFrame'>\n",
      "RangeIndex: 114 entries, 0 to 113\n",
      "Data columns (total 2 columns):\n",
      " #   Column  Non-Null Count  Dtype  \n",
      "---  ------  --------------  -----  \n",
      " 0   URL_ID  114 non-null    float64\n",
      " 1   URL     114 non-null    object \n",
      "dtypes: float64(1), object(1)\n",
      "memory usage: 1.9+ KB\n"
     ]
    }
   ],
   "source": [
    "df.info()"
   ]
  },
  {
   "cell_type": "code",
   "execution_count": 18,
   "id": "d4b8a4e7",
   "metadata": {},
   "outputs": [],
   "source": [
    "# no nulls "
   ]
  },
  {
   "cell_type": "markdown",
   "id": "39fe258f",
   "metadata": {},
   "source": [
    "Here is what we will do we know that the appy function works iteratively so we run this function on every link and get the contnet"
   ]
  },
  {
   "cell_type": "code",
   "execution_count": 19,
   "id": "99241542",
   "metadata": {},
   "outputs": [],
   "source": [
    "# creating a function which will extract the paragraphs form the website url\n",
    "def content(i):\n",
    "  # Replace 'your_url_here' with the actual URL you want to scrape\n",
    "  url = i\n",
    "\n",
    "  # Send an HTTP GET request to the URL\n",
    "  response = requests.get(url)\n",
    "\n",
    "  # Parse the HTML content\n",
    "  soup = BeautifulSoup(response.text, 'html.parser')\n",
    "\n",
    "  # Define the class attribute of the unwanted paragraphs\n",
    "  unwanted_class = \"entry-title td-module-title\"\n",
    "\n",
    "  # Find and remove unwanted paragraphs based on the class attribute\n",
    "  unwanted_paragraphs = soup.find_all('p', class_=unwanted_class)\n",
    "  for unwanted_paragraph in unwanted_paragraphs:\n",
    "      unwanted_paragraph.extract()\n",
    "\n",
    "  # Now, the soup object contains the remaining paragraphs (header and article)\n",
    "  header = soup.find('h1')  # You can change 'h1' to the appropriate header tag\n",
    "\n",
    "  # Extract article paragraphs (you can customize the paragraph tag)\n",
    "  paragraphs = soup.find_all('p')  # You can change 'p' to the appropriate paragraph tag\n",
    "\n",
    "  # Create a list to store filtered paragraphs\n",
    "  filtered_paragraphs = []\n",
    "  # Define the text to be excluded\n",
    "  excluded_texts = [\"Contact us: hello@blackcoffer.com\", \"© All Right Reserved, Blackcoffer(OPC) Pvt. Ltd\"]\n",
    "\n",
    "  # Iterate through paragraphs and keep only those that don't contain excluded texts\n",
    "  for paragraph in paragraphs:\n",
    "      paragraph_text = paragraph.get_text()  # Get the text content of the paragraph\n",
    "      if all(excluded_text not in paragraph_text for excluded_text in excluded_texts):\n",
    "          filtered_paragraphs.append(paragraph_text)\n",
    "\n",
    "  # Now, the 'filtered_paragraphs' list contains the paragraphs with the excluded texts\n",
    "  return filtered_paragraphs"
   ]
  },
  {
   "cell_type": "code",
   "execution_count": null,
   "id": "18362d0a",
   "metadata": {},
   "outputs": [],
   "source": [
    "df['content'] = df['URL'].apply(lambda x: content(x))"
   ]
  },
  {
   "cell_type": "code",
   "execution_count": null,
   "id": "b2f73226",
   "metadata": {},
   "outputs": [],
   "source": []
  }
 ],
 "metadata": {
  "kernelspec": {
   "display_name": "Python 3 (ipykernel)",
   "language": "python",
   "name": "python3"
  },
  "language_info": {
   "codemirror_mode": {
    "name": "ipython",
    "version": 3
   },
   "file_extension": ".py",
   "mimetype": "text/x-python",
   "name": "python",
   "nbconvert_exporter": "python",
   "pygments_lexer": "ipython3",
   "version": "3.9.12"
  }
 },
 "nbformat": 4,
 "nbformat_minor": 5
}
