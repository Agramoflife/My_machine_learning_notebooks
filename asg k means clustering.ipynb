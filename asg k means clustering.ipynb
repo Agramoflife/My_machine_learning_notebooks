{
 "cells": [
  {
   "cell_type": "markdown",
   "id": "2a4034dc",
   "metadata": {},
   "source": [
    "# K means clustering on online sales data with 2 features for a better visualizaion purpose "
   ]
  },
  {
   "cell_type": "markdown",
   "id": "929a1bb0",
   "metadata": {},
   "source": [
    "K-menas on shopping data ( we will choose only two columns for better visulazion )"
   ]
  },
  {
   "cell_type": "code",
   "execution_count": 1,
   "id": "9376ca37",
   "metadata": {},
   "outputs": [
    {
     "name": "stdout",
     "output_type": "stream",
     "text": [
      "[WinError 2] The system cannot find the file specified: 'downloads'\n",
      "C:\\Users\\Deepu\\Documents\\machine_learning\n"
     ]
    }
   ],
   "source": [
    "cd downloads"
   ]
  },
  {
   "cell_type": "code",
   "execution_count": 2,
   "id": "8a743db1",
   "metadata": {},
   "outputs": [
    {
     "data": {
      "text/plain": [
       "'C:\\\\Users\\\\Deepu\\\\Documents\\\\machine_learning'"
      ]
     },
     "execution_count": 2,
     "metadata": {},
     "output_type": "execute_result"
    }
   ],
   "source": [
    "pwd"
   ]
  },
  {
   "cell_type": "code",
   "execution_count": 3,
   "id": "dec78b32",
   "metadata": {},
   "outputs": [
    {
     "name": "stdout",
     "output_type": "stream",
     "text": [
      "c:\\users\\deepu\\downloads\n"
     ]
    }
   ],
   "source": [
    "cd c:\\\\users\\deepu\\downloads\n"
   ]
  },
  {
   "cell_type": "code",
   "execution_count": 4,
   "id": "a54dc692",
   "metadata": {},
   "outputs": [],
   "source": [
    "import numpy as np\n",
    "import pandas as pd\n",
    "import matplotlib.pyplot as plt\n",
    "import seaborn as sns"
   ]
  },
  {
   "cell_type": "code",
   "execution_count": 11,
   "id": "a9465ddd",
   "metadata": {},
   "outputs": [],
   "source": [
    "demo = pd.read_csv('shopping_data.csv')"
   ]
  },
  {
   "cell_type": "code",
   "execution_count": 12,
   "id": "0cb60fc1",
   "metadata": {},
   "outputs": [
    {
     "data": {
      "text/html": [
       "<div>\n",
       "<style scoped>\n",
       "    .dataframe tbody tr th:only-of-type {\n",
       "        vertical-align: middle;\n",
       "    }\n",
       "\n",
       "    .dataframe tbody tr th {\n",
       "        vertical-align: top;\n",
       "    }\n",
       "\n",
       "    .dataframe thead th {\n",
       "        text-align: right;\n",
       "    }\n",
       "</style>\n",
       "<table border=\"1\" class=\"dataframe\">\n",
       "  <thead>\n",
       "    <tr style=\"text-align: right;\">\n",
       "      <th></th>\n",
       "      <th>CustomerID</th>\n",
       "      <th>Genre</th>\n",
       "      <th>Age</th>\n",
       "      <th>Annual Income (k$)</th>\n",
       "      <th>Spending Score (1-100)</th>\n",
       "    </tr>\n",
       "  </thead>\n",
       "  <tbody>\n",
       "    <tr>\n",
       "      <th>0</th>\n",
       "      <td>1</td>\n",
       "      <td>Male</td>\n",
       "      <td>19</td>\n",
       "      <td>15</td>\n",
       "      <td>39</td>\n",
       "    </tr>\n",
       "    <tr>\n",
       "      <th>1</th>\n",
       "      <td>2</td>\n",
       "      <td>Male</td>\n",
       "      <td>21</td>\n",
       "      <td>15</td>\n",
       "      <td>81</td>\n",
       "    </tr>\n",
       "    <tr>\n",
       "      <th>2</th>\n",
       "      <td>3</td>\n",
       "      <td>Female</td>\n",
       "      <td>20</td>\n",
       "      <td>16</td>\n",
       "      <td>6</td>\n",
       "    </tr>\n",
       "    <tr>\n",
       "      <th>3</th>\n",
       "      <td>4</td>\n",
       "      <td>Female</td>\n",
       "      <td>23</td>\n",
       "      <td>16</td>\n",
       "      <td>77</td>\n",
       "    </tr>\n",
       "    <tr>\n",
       "      <th>4</th>\n",
       "      <td>5</td>\n",
       "      <td>Female</td>\n",
       "      <td>31</td>\n",
       "      <td>17</td>\n",
       "      <td>40</td>\n",
       "    </tr>\n",
       "    <tr>\n",
       "      <th>...</th>\n",
       "      <td>...</td>\n",
       "      <td>...</td>\n",
       "      <td>...</td>\n",
       "      <td>...</td>\n",
       "      <td>...</td>\n",
       "    </tr>\n",
       "    <tr>\n",
       "      <th>195</th>\n",
       "      <td>196</td>\n",
       "      <td>Female</td>\n",
       "      <td>35</td>\n",
       "      <td>120</td>\n",
       "      <td>79</td>\n",
       "    </tr>\n",
       "    <tr>\n",
       "      <th>196</th>\n",
       "      <td>197</td>\n",
       "      <td>Female</td>\n",
       "      <td>45</td>\n",
       "      <td>126</td>\n",
       "      <td>28</td>\n",
       "    </tr>\n",
       "    <tr>\n",
       "      <th>197</th>\n",
       "      <td>198</td>\n",
       "      <td>Male</td>\n",
       "      <td>32</td>\n",
       "      <td>126</td>\n",
       "      <td>74</td>\n",
       "    </tr>\n",
       "    <tr>\n",
       "      <th>198</th>\n",
       "      <td>199</td>\n",
       "      <td>Male</td>\n",
       "      <td>32</td>\n",
       "      <td>137</td>\n",
       "      <td>18</td>\n",
       "    </tr>\n",
       "    <tr>\n",
       "      <th>199</th>\n",
       "      <td>200</td>\n",
       "      <td>Male</td>\n",
       "      <td>30</td>\n",
       "      <td>137</td>\n",
       "      <td>83</td>\n",
       "    </tr>\n",
       "  </tbody>\n",
       "</table>\n",
       "<p>200 rows × 5 columns</p>\n",
       "</div>"
      ],
      "text/plain": [
       "     CustomerID   Genre  Age  Annual Income (k$)  Spending Score (1-100)\n",
       "0             1    Male   19                  15                      39\n",
       "1             2    Male   21                  15                      81\n",
       "2             3  Female   20                  16                       6\n",
       "3             4  Female   23                  16                      77\n",
       "4             5  Female   31                  17                      40\n",
       "..          ...     ...  ...                 ...                     ...\n",
       "195         196  Female   35                 120                      79\n",
       "196         197  Female   45                 126                      28\n",
       "197         198    Male   32                 126                      74\n",
       "198         199    Male   32                 137                      18\n",
       "199         200    Male   30                 137                      83\n",
       "\n",
       "[200 rows x 5 columns]"
      ]
     },
     "execution_count": 12,
     "metadata": {},
     "output_type": "execute_result"
    }
   ],
   "source": [
    "demo"
   ]
  },
  {
   "cell_type": "code",
   "execution_count": 13,
   "id": "5cf477ae",
   "metadata": {},
   "outputs": [],
   "source": [
    "demo.drop(['CustomerID','Genre','Age'], axis = 1,inplace = True)"
   ]
  },
  {
   "cell_type": "code",
   "execution_count": 8,
   "id": "d1271d3a",
   "metadata": {},
   "outputs": [
    {
     "data": {
      "text/html": [
       "<div>\n",
       "<style scoped>\n",
       "    .dataframe tbody tr th:only-of-type {\n",
       "        vertical-align: middle;\n",
       "    }\n",
       "\n",
       "    .dataframe tbody tr th {\n",
       "        vertical-align: top;\n",
       "    }\n",
       "\n",
       "    .dataframe thead th {\n",
       "        text-align: right;\n",
       "    }\n",
       "</style>\n",
       "<table border=\"1\" class=\"dataframe\">\n",
       "  <thead>\n",
       "    <tr style=\"text-align: right;\">\n",
       "      <th></th>\n",
       "      <th>Annual Income (k$)</th>\n",
       "      <th>Spending Score (1-100)</th>\n",
       "    </tr>\n",
       "  </thead>\n",
       "  <tbody>\n",
       "    <tr>\n",
       "      <th>0</th>\n",
       "      <td>15</td>\n",
       "      <td>39</td>\n",
       "    </tr>\n",
       "    <tr>\n",
       "      <th>1</th>\n",
       "      <td>15</td>\n",
       "      <td>81</td>\n",
       "    </tr>\n",
       "    <tr>\n",
       "      <th>2</th>\n",
       "      <td>16</td>\n",
       "      <td>6</td>\n",
       "    </tr>\n",
       "    <tr>\n",
       "      <th>3</th>\n",
       "      <td>16</td>\n",
       "      <td>77</td>\n",
       "    </tr>\n",
       "    <tr>\n",
       "      <th>4</th>\n",
       "      <td>17</td>\n",
       "      <td>40</td>\n",
       "    </tr>\n",
       "    <tr>\n",
       "      <th>...</th>\n",
       "      <td>...</td>\n",
       "      <td>...</td>\n",
       "    </tr>\n",
       "    <tr>\n",
       "      <th>195</th>\n",
       "      <td>120</td>\n",
       "      <td>79</td>\n",
       "    </tr>\n",
       "    <tr>\n",
       "      <th>196</th>\n",
       "      <td>126</td>\n",
       "      <td>28</td>\n",
       "    </tr>\n",
       "    <tr>\n",
       "      <th>197</th>\n",
       "      <td>126</td>\n",
       "      <td>74</td>\n",
       "    </tr>\n",
       "    <tr>\n",
       "      <th>198</th>\n",
       "      <td>137</td>\n",
       "      <td>18</td>\n",
       "    </tr>\n",
       "    <tr>\n",
       "      <th>199</th>\n",
       "      <td>137</td>\n",
       "      <td>83</td>\n",
       "    </tr>\n",
       "  </tbody>\n",
       "</table>\n",
       "<p>200 rows × 2 columns</p>\n",
       "</div>"
      ],
      "text/plain": [
       "     Annual Income (k$)  Spending Score (1-100)\n",
       "0                    15                      39\n",
       "1                    15                      81\n",
       "2                    16                       6\n",
       "3                    16                      77\n",
       "4                    17                      40\n",
       "..                  ...                     ...\n",
       "195                 120                      79\n",
       "196                 126                      28\n",
       "197                 126                      74\n",
       "198                 137                      18\n",
       "199                 137                      83\n",
       "\n",
       "[200 rows x 2 columns]"
      ]
     },
     "execution_count": 8,
     "metadata": {},
     "output_type": "execute_result"
    }
   ],
   "source": [
    "demo"
   ]
  },
  {
   "cell_type": "code",
   "execution_count": 9,
   "id": "b8e2b179",
   "metadata": {},
   "outputs": [
    {
     "name": "stdout",
     "output_type": "stream",
     "text": [
      "<class 'pandas.core.frame.DataFrame'>\n",
      "RangeIndex: 200 entries, 0 to 199\n",
      "Data columns (total 2 columns):\n",
      " #   Column                  Non-Null Count  Dtype\n",
      "---  ------                  --------------  -----\n",
      " 0   Annual Income (k$)      200 non-null    int64\n",
      " 1   Spending Score (1-100)  200 non-null    int64\n",
      "dtypes: int64(2)\n",
      "memory usage: 3.2 KB\n"
     ]
    }
   ],
   "source": [
    "demo.info()"
   ]
  },
  {
   "cell_type": "markdown",
   "id": "b7f882dc",
   "metadata": {},
   "source": [
    "## Okay let's just build a simple K means clustering without doing much of feature engineerng and then we will do features engineering"
   ]
  },
  {
   "cell_type": "code",
   "execution_count": 42,
   "id": "d38f5271",
   "metadata": {},
   "outputs": [
    {
     "data": {
      "text/plain": [
       "KMeans(n_clusters=4)"
      ]
     },
     "execution_count": 42,
     "metadata": {},
     "output_type": "execute_result"
    }
   ],
   "source": [
    "from sklearn.cluster import KMeans\n",
    "kmeans = KMeans(n_clusters = 4)\n",
    "kmeans.fit(demo)"
   ]
  },
  {
   "cell_type": "code",
   "execution_count": 43,
   "id": "8dbfc01d",
   "metadata": {},
   "outputs": [
    {
     "name": "stdout",
     "output_type": "stream",
     "text": [
      "[[48.26       56.48      ]\n",
      " [86.53846154 82.12820513]\n",
      " [87.         18.63157895]\n",
      " [26.30434783 20.91304348]]\n"
     ]
    }
   ],
   "source": [
    "# let's check the centers \n",
    "centers=kmeans.cluster_centers_\n",
    "print(centers)"
   ]
  },
  {
   "cell_type": "code",
   "execution_count": 49,
   "id": "9d8cf9f4",
   "metadata": {},
   "outputs": [
    {
     "data": {
      "image/png": "[encoded data removed]",
      "text/plain": [
       "<Figure size 648x432 with 1 Axes>"
      ]
     },
     "metadata": {
      "needs_background": "light"
     },
     "output_type": "display_data"
    }
   ],
   "source": [
    "# Let's plot it \n",
    "plt.figure(figsize = (9,6))\n",
    "plt.scatter(demo.iloc[:,0],demo.iloc[:,1])\n",
    "plt.scatter(centers[:,0],centers[:,1],color = 'red', s = 200, alpha = .8)\n",
    "plt.show()"
   ]
  },
  {
   "cell_type": "code",
   "execution_count": 56,
   "id": "bc48e6e9",
   "metadata": {},
   "outputs": [],
   "source": [
    "# Now that we have the clusters what if i choose the value of K to be 1,2,3 or so on so what decides the best values of K\n",
    "# That is done by evaluating the inertia / error"
   ]
  },
  {
   "cell_type": "markdown",
   "id": "6f35b999",
   "metadata": {},
   "source": [
    "### InertiaIn K-means clustering, the sum of squares of distances (often referred to as \"inertia\" or \"within-cluster sum of squares\") is used as an internal evaluation metric to assess the quality of clustering. The objective of the K-means algorithm is to minimize this sum of squares.\n",
    "\n",
    "A lower sum of squares indicates that the data points are closer to their cluster centroids, implying tighter and more compact clusters. However, a lower sum of squares alone doesn't guarantee that you have good or optimal clusters. It's essential to consider a few things:\n",
    "\n",
    "1. **Varying Number of Clusters (K)**: The sum of squares tends to decrease as the number of clusters increases. However, it doesn't mean that more clusters are better. You'll need to use additional techniques (like the elbow method or silhouette score) to determine the optimal number of clusters.\n",
    "\n",
    "2. **Cluster Separation**: Simply minimizing the sum of squares doesn't guarantee meaningful or well-separated clusters. Assessing how distinct the clusters are from each other is crucial for the quality of clustering.\n",
    "\n",
    "3. **Domain Knowledge**: Always consider the context of your problem. Sometimes, the \"right\" number of clusters might not be purely based on statistical measures. Understanding the domain can help in interpreting the clusters better.\n",
    "\n",
    "4. **Robustness**: Check the robustness of the clustering results. Re-running the algorithm with different initializations and verifying the consistency of the clusters is important.\n",
    "\n",
    "5. **Use of Additional Metrics**: While the sum of squares is an essential measure, combining it with other evaluation metrics like silhouette score, Davies-Bouldin index, or visual inspection can provide a more comprehensive assessment of the clustering quality.\n",
    "\n",
    "In summary, while a lower sum of squares is desirable and indicative of compact clusters, it's not the sole factor in determining whether the clusters are \"good\". Using a combination of evaluation metrics and domain knowledge will help in making a more informed judgment about the quality of the clusters.\n"
   ]
  },
  {
   "cell_type": "code",
   "execution_count": 57,
   "id": "93e60e4a",
   "metadata": {},
   "outputs": [
    {
     "data": {
      "text/plain": [
       "73679.78903948834"
      ]
     },
     "execution_count": 57,
     "metadata": {},
     "output_type": "execute_result"
    }
   ],
   "source": [
    "# let's calculate the inertia of our modle with k = 4\n",
    "kmeans.inertia_"
   ]
  },
  {
   "cell_type": "code",
   "execution_count": 61,
   "id": "e91f4ec5",
   "metadata": {},
   "outputs": [],
   "source": [
    "k_values = range(2,21)\n",
    "inertia_values = []\n",
    "for i in k_values:\n",
    "    kmeans = KMeans(n_clusters = i)\n",
    "    kmeans.fit(demo)\n",
    "    inertia=kmeans.inertia_\n",
    "    inertia_values.append(inertia)"
   ]
  },
  {
   "cell_type": "code",
   "execution_count": 67,
   "id": "53a98d9d",
   "metadata": {},
   "outputs": [
    {
     "data": {
      "image/png": "[encoded data removed]",
      "text/plain": [
       "<Figure size 648x432 with 1 Axes>"
      ]
     },
     "metadata": {
      "needs_background": "light"
     },
     "output_type": "display_data"
    }
   ],
   "source": [
    "plt.figure(figsize = (9,6))\n",
    "plt.plot(k_values,inertia_values,marker = 'o',color = 'red')\n",
    "plt.show()"
   ]
  },
  {
   "cell_type": "code",
   "execution_count": 68,
   "id": "ace7d3ed",
   "metadata": {},
   "outputs": [],
   "source": [
    "# so we will choose the value of k = 5 as there is a significant drop at k = 5"
   ]
  },
  {
   "cell_type": "code",
   "execution_count": 70,
   "id": "df660194",
   "metadata": {},
   "outputs": [
    {
     "data": {
      "text/plain": [
       "<seaborn.axisgrid.PairGrid at 0x2300cf2a580>"
      ]
     },
     "execution_count": 70,
     "metadata": {},
     "output_type": "execute_result"
    },
    {
     "data": {
      "image/png": "[encoded data removed]",
      "text/plain": [
       "<Figure size 360x360 with 6 Axes>"
      ]
     },
     "metadata": {
      "needs_background": "light"
     },
     "output_type": "display_data"
    }
   ],
   "source": [
    "sns.pairplot(demo)"
   ]
  },
  {
   "cell_type": "code",
   "execution_count": 71,
   "id": "77eb99f6",
   "metadata": {},
   "outputs": [
    {
     "data": {
      "text/plain": [
       "Annual Income (k$)        0.321843\n",
       "Spending Score (1-100)   -0.047220\n",
       "dtype: float64"
      ]
     },
     "execution_count": 71,
     "metadata": {},
     "output_type": "execute_result"
    }
   ],
   "source": [
    "# So we have outlier \n",
    "demo.skew()"
   ]
  },
  {
   "cell_type": "markdown",
   "id": "544545a9",
   "metadata": {},
   "source": [
    "The annual income is a bit right skewed "
   ]
  },
  {
   "cell_type": "code",
   "execution_count": 82,
   "id": "bacc3985",
   "metadata": {},
   "outputs": [
    {
     "data": {
      "text/plain": [
       "count    200.000000\n",
       "mean      60.560000\n",
       "std       26.264721\n",
       "min       15.000000\n",
       "25%       41.500000\n",
       "50%       61.500000\n",
       "75%       78.000000\n",
       "max      137.000000\n",
       "Name: Annual Income (k$), dtype: float64"
      ]
     },
     "execution_count": 82,
     "metadata": {},
     "output_type": "execute_result"
    }
   ],
   "source": [
    "demo['Annual Income (k$)'].describe()"
   ]
  },
  {
   "cell_type": "code",
   "execution_count": null,
   "id": "136287af",
   "metadata": {},
   "outputs": [],
   "source": [
    "# the spending score is a bit left skewed"
   ]
  },
  {
   "cell_type": "code",
   "execution_count": 81,
   "id": "5b7e7470",
   "metadata": {},
   "outputs": [
    {
     "data": {
      "text/plain": [
       "count    200.000000\n",
       "mean      50.200000\n",
       "std       25.823522\n",
       "min        1.000000\n",
       "25%       34.750000\n",
       "50%       50.000000\n",
       "75%       73.000000\n",
       "max       99.000000\n",
       "Name: Spending Score (1-100), dtype: float64"
      ]
     },
     "execution_count": 81,
     "metadata": {},
     "output_type": "execute_result"
    }
   ],
   "source": [
    "demo['Spending Score (1-100)'].describe()"
   ]
  },
  {
   "cell_type": "code",
   "execution_count": 77,
   "id": "90872798",
   "metadata": {},
   "outputs": [
    {
     "name": "stderr",
     "output_type": "stream",
     "text": [
      "C:\\ProgramData\\Anaconda3\\lib\\site-packages\\seaborn\\distributions.py:2619: FutureWarning: `distplot` is a deprecated function and will be removed in a future version. Please adapt your code to use either `displot` (a figure-level function with similar flexibility) or `histplot` (an axes-level function for histograms).\n",
      "  warnings.warn(msg, FutureWarning)\n"
     ]
    },
    {
     "data": {
      "text/plain": [
       "<AxesSubplot:xlabel='Spending Score (1-100)', ylabel='Density'>"
      ]
     },
     "execution_count": 77,
     "metadata": {},
     "output_type": "execute_result"
    },
    {
     "data": {
      "image/png": "[encoded data removed]",
      "text/plain": [
       "<Figure size 432x288 with 1 Axes>"
      ]
     },
     "metadata": {
      "needs_background": "light"
     },
     "output_type": "display_data"
    }
   ],
   "source": [
    "sns.distplot(demo['Spending Score (1-100)'])"
   ]
  },
  {
   "cell_type": "code",
   "execution_count": 79,
   "id": "5ea97e8b",
   "metadata": {},
   "outputs": [
    {
     "name": "stderr",
     "output_type": "stream",
     "text": [
      "C:\\ProgramData\\Anaconda3\\lib\\site-packages\\seaborn\\distributions.py:2619: FutureWarning: `distplot` is a deprecated function and will be removed in a future version. Please adapt your code to use either `displot` (a figure-level function with similar flexibility) or `histplot` (an axes-level function for histograms).\n",
      "  warnings.warn(msg, FutureWarning)\n"
     ]
    },
    {
     "data": {
      "text/plain": [
       "<AxesSubplot:xlabel='Annual Income (k$)', ylabel='Density'>"
      ]
     },
     "execution_count": 79,
     "metadata": {},
     "output_type": "execute_result"
    },
    {
     "data": {
      "image/png": "[encoded data removed]",
      "text/plain": [
       "<Figure size 432x288 with 1 Axes>"
      ]
     },
     "metadata": {
      "needs_background": "light"
     },
     "output_type": "display_data"
    }
   ],
   "source": [
    "sns.distplot(demo['Annual Income (k$)'])"
   ]
  },
  {
   "cell_type": "markdown",
   "id": "0f68b122",
   "metadata": {},
   "source": [
    "let's do a power transformation"
   ]
  },
  {
   "cell_type": "code",
   "execution_count": null,
   "id": "56bde082",
   "metadata": {},
   "outputs": [],
   "source": []
  }
 ],
 "metadata": {
  "kernelspec": {
   "display_name": "Python 3 (ipykernel)",
   "language": "python",
   "name": "python3"
  },
  "language_info": {
   "codemirror_mode": {
    "name": "ipython",
    "version": 3
   },
   "file_extension": ".py",
   "mimetype": "text/x-python",
   "name": "python",
   "nbconvert_exporter": "python",
   "pygments_lexer": "ipython3",
   "version": "3.9.12"
  }
 },
 "nbformat": 4,
 "nbformat_minor": 5
}
