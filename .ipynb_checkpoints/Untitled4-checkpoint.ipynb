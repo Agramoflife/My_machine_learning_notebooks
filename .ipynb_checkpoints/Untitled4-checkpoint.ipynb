{
 "cells": [
  {
   "cell_type": "code",
   "execution_count": 1,
   "id": "69dcc804",
   "metadata": {},
   "outputs": [
    {
     "data": {
      "text/plain": [
       "'C:\\\\Users\\\\Deepu\\\\Documents\\\\machine_learning'"
      ]
     },
     "execution_count": 1,
     "metadata": {},
     "output_type": "execute_result"
    }
   ],
   "source": [
    "pwd"
   ]
  },
  {
   "cell_type": "code",
   "execution_count": 3,
   "id": "134e841b",
   "metadata": {
    "scrolled": true
   },
   "outputs": [
    {
     "name": "stdout",
     "output_type": "stream",
     "text": [
      "C:\\Users\\Deepu\\Desktop\n"
     ]
    }
   ],
   "source": [
    "cd C:\\\\Users\\\\Deepu\\\\Desktop"
   ]
  },
  {
   "cell_type": "code",
   "execution_count": 4,
   "id": "559e8c4b",
   "metadata": {},
   "outputs": [
    {
     "name": "stdout",
     "output_type": "stream",
     "text": [
      "C:\\Users\\Deepu\\Desktop\\New folder\n"
     ]
    }
   ],
   "source": [
    "cd C:\\Users\\Deepu\\Desktop\\New folder"
   ]
  },
  {
   "cell_type": "code",
   "execution_count": 5,
   "id": "4facf43e",
   "metadata": {},
   "outputs": [
    {
     "name": "stdout",
     "output_type": "stream",
     "text": [
      " Volume in drive C has no label.\n",
      " Volume Serial Number is 08CB-6401\n",
      "\n",
      " Directory of C:\\Users\\Deepu\\Desktop\\New folder\n",
      "\n",
      "10-12-2023  12:29    <DIR>          .\n",
      "10-12-2023  12:29    <DIR>          ..\n",
      "10-12-2023  16:35    <DIR>          MapUp-Data-Assessment-E-main\n",
      "10-12-2023  12:23         1,027,101 MapUp-Data-Assessment-E-main.zip\n",
      "10-12-2023  16:22    <DIR>          MapUp-Data-Assessment-F-main\n",
      "10-12-2023  12:23           512,056 MapUp-Data-Assessment-F-main.zip\n",
      "               2 File(s)      1,539,157 bytes\n",
      "               4 Dir(s)  68,582,055,936 bytes free\n"
     ]
    }
   ],
   "source": [
    "ls"
   ]
  },
  {
   "cell_type": "code",
   "execution_count": 9,
   "id": "ee693023",
   "metadata": {},
   "outputs": [
    {
     "name": "stdout",
     "output_type": "stream",
     "text": [
      "C:\\Users\\Deepu\\Desktop\\New folder\\MapUp-Data-Assessment-E-main\\evaluation_data\\input\n"
     ]
    }
   ],
   "source": [
    "cd C:\\Users\\Deepu\\Desktop\\New folder\\MapUp-Data-Assessment-E-main\\evaluation_data\\input"
   ]
  },
  {
   "cell_type": "code",
   "execution_count": 10,
   "id": "6715aaf2",
   "metadata": {},
   "outputs": [
    {
     "data": {
      "text/plain": [
       "'C:\\\\Users\\\\Deepu\\\\Desktop\\\\New folder\\\\MapUp-Data-Assessment-E-main\\\\evaluation_data\\\\input'"
      ]
     },
     "execution_count": 10,
     "metadata": {},
     "output_type": "execute_result"
    }
   ],
   "source": [
    "pwd"
   ]
  },
  {
   "cell_type": "code",
   "execution_count": 11,
   "id": "60025c4a",
   "metadata": {},
   "outputs": [],
   "source": [
    "import pandas as pd"
   ]
  },
  {
   "cell_type": "code",
   "execution_count": 14,
   "id": "a3fbcadc",
   "metadata": {},
   "outputs": [],
   "source": [
    "df=pd.read_parquet('raw_data.parquet')"
   ]
  },
  {
   "cell_type": "code",
   "execution_count": 16,
   "id": "209c0a5a",
   "metadata": {},
   "outputs": [
    {
     "data": {
      "text/plain": [
       "(73472, 4)"
      ]
     },
     "execution_count": 16,
     "metadata": {},
     "output_type": "execute_result"
    }
   ],
   "source": [
    "df.shape"
   ]
  },
  {
   "cell_type": "code",
   "execution_count": 17,
   "id": "2f925f07",
   "metadata": {},
   "outputs": [
    {
     "name": "stdout",
     "output_type": "stream",
     "text": [
      "<class 'pandas.core.frame.DataFrame'>\n",
      "RangeIndex: 73472 entries, 0 to 73471\n",
      "Data columns (total 4 columns):\n",
      " #   Column     Non-Null Count  Dtype  \n",
      "---  ------     --------------  -----  \n",
      " 0   latitude   73472 non-null  float64\n",
      " 1   longitude  73472 non-null  float64\n",
      " 2   timestamp  73472 non-null  object \n",
      " 3   unit       73472 non-null  int64  \n",
      "dtypes: float64(2), int64(1), object(1)\n",
      "memory usage: 2.2+ MB\n"
     ]
    }
   ],
   "source": [
    "df.info()"
   ]
  },
  {
   "cell_type": "code",
   "execution_count": 22,
   "id": "a2f169bc",
   "metadata": {},
   "outputs": [
    {
     "data": {
      "text/html": [
       "<div>\n",
       "<style scoped>\n",
       "    .dataframe tbody tr th:only-of-type {\n",
       "        vertical-align: middle;\n",
       "    }\n",
       "\n",
       "    .dataframe tbody tr th {\n",
       "        vertical-align: top;\n",
       "    }\n",
       "\n",
       "    .dataframe thead th {\n",
       "        text-align: right;\n",
       "    }\n",
       "</style>\n",
       "<table border=\"1\" class=\"dataframe\">\n",
       "  <thead>\n",
       "    <tr style=\"text-align: right;\">\n",
       "      <th></th>\n",
       "      <th>latitude</th>\n",
       "      <th>longitude</th>\n",
       "      <th>timestamp</th>\n",
       "      <th>unit</th>\n",
       "    </tr>\n",
       "  </thead>\n",
       "  <tbody>\n",
       "    <tr>\n",
       "      <th>0</th>\n",
       "      <td>40.23426</td>\n",
       "      <td>-77.13796</td>\n",
       "      <td>2023-12-05T23:13:40Z</td>\n",
       "      <td>1000</td>\n",
       "    </tr>\n",
       "    <tr>\n",
       "      <th>1</th>\n",
       "      <td>40.23422</td>\n",
       "      <td>-77.13796</td>\n",
       "      <td>2023-12-05T23:13:40Z</td>\n",
       "      <td>1000</td>\n",
       "    </tr>\n",
       "    <tr>\n",
       "      <th>2</th>\n",
       "      <td>40.23419</td>\n",
       "      <td>-77.13795</td>\n",
       "      <td>2023-12-05T23:13:40Z</td>\n",
       "      <td>1000</td>\n",
       "    </tr>\n",
       "    <tr>\n",
       "      <th>3</th>\n",
       "      <td>40.23412</td>\n",
       "      <td>-77.13792</td>\n",
       "      <td>2023-12-05T23:13:40Z</td>\n",
       "      <td>1000</td>\n",
       "    </tr>\n",
       "    <tr>\n",
       "      <th>4</th>\n",
       "      <td>40.23412</td>\n",
       "      <td>-77.13792</td>\n",
       "      <td>2023-12-05T23:13:40Z</td>\n",
       "      <td>1000</td>\n",
       "    </tr>\n",
       "    <tr>\n",
       "      <th>5</th>\n",
       "      <td>40.23408</td>\n",
       "      <td>-77.13810</td>\n",
       "      <td>2023-12-05T23:13:41Z</td>\n",
       "      <td>1000</td>\n",
       "    </tr>\n",
       "    <tr>\n",
       "      <th>6</th>\n",
       "      <td>40.23401</td>\n",
       "      <td>-77.13836</td>\n",
       "      <td>2023-12-05T23:13:43Z</td>\n",
       "      <td>1000</td>\n",
       "    </tr>\n",
       "    <tr>\n",
       "      <th>7</th>\n",
       "      <td>40.23393</td>\n",
       "      <td>-77.13869</td>\n",
       "      <td>2023-12-05T23:13:45Z</td>\n",
       "      <td>1000</td>\n",
       "    </tr>\n",
       "    <tr>\n",
       "      <th>8</th>\n",
       "      <td>40.23391</td>\n",
       "      <td>-77.13879</td>\n",
       "      <td>2023-12-05T23:13:45Z</td>\n",
       "      <td>1000</td>\n",
       "    </tr>\n",
       "    <tr>\n",
       "      <th>9</th>\n",
       "      <td>40.23391</td>\n",
       "      <td>-77.13879</td>\n",
       "      <td>2023-12-05T23:13:45Z</td>\n",
       "      <td>1000</td>\n",
       "    </tr>\n",
       "  </tbody>\n",
       "</table>\n",
       "</div>"
      ],
      "text/plain": [
       "   latitude  longitude             timestamp  unit\n",
       "0  40.23426  -77.13796  2023-12-05T23:13:40Z  1000\n",
       "1  40.23422  -77.13796  2023-12-05T23:13:40Z  1000\n",
       "2  40.23419  -77.13795  2023-12-05T23:13:40Z  1000\n",
       "3  40.23412  -77.13792  2023-12-05T23:13:40Z  1000\n",
       "4  40.23412  -77.13792  2023-12-05T23:13:40Z  1000\n",
       "5  40.23408  -77.13810  2023-12-05T23:13:41Z  1000\n",
       "6  40.23401  -77.13836  2023-12-05T23:13:43Z  1000\n",
       "7  40.23393  -77.13869  2023-12-05T23:13:45Z  1000\n",
       "8  40.23391  -77.13879  2023-12-05T23:13:45Z  1000\n",
       "9  40.23391  -77.13879  2023-12-05T23:13:45Z  1000"
      ]
     },
     "execution_count": 22,
     "metadata": {},
     "output_type": "execute_result"
    }
   ],
   "source": [
    "df.head(10)"
   ]
  },
  {
   "cell_type": "code",
   "execution_count": 30,
   "id": "1737bc42",
   "metadata": {},
   "outputs": [],
   "source": [
    "df['timestamp'] = pd.to_datetime(df['timestamp'])\n",
    "df['time_diff'] = (df['timestamp'] - df['timestamp'].shift()).fillna(pd.Timedelta(seconds=0))\n",
    "df['trip_id'] = (df['time_diff'] > pd.Timedelta(hours=7)).cumsum()\n"
   ]
  },
  {
   "cell_type": "code",
   "execution_count": 41,
   "id": "ba569e01",
   "metadata": {},
   "outputs": [
    {
     "data": {
      "text/html": [
       "<div>\n",
       "<style scoped>\n",
       "    .dataframe tbody tr th:only-of-type {\n",
       "        vertical-align: middle;\n",
       "    }\n",
       "\n",
       "    .dataframe tbody tr th {\n",
       "        vertical-align: top;\n",
       "    }\n",
       "\n",
       "    .dataframe thead th {\n",
       "        text-align: right;\n",
       "    }\n",
       "</style>\n",
       "<table border=\"1\" class=\"dataframe\">\n",
       "  <thead>\n",
       "    <tr style=\"text-align: right;\">\n",
       "      <th></th>\n",
       "      <th>latitude</th>\n",
       "      <th>longitude</th>\n",
       "      <th>timestamp</th>\n",
       "      <th>unit</th>\n",
       "      <th>time_diff</th>\n",
       "      <th>trip_id</th>\n",
       "    </tr>\n",
       "  </thead>\n",
       "  <tbody>\n",
       "    <tr>\n",
       "      <th>0</th>\n",
       "      <td>40.23426</td>\n",
       "      <td>-77.13796</td>\n",
       "      <td>2023-12-05 23:13:40+00:00</td>\n",
       "      <td>1000</td>\n",
       "      <td>0 days 00:00:00</td>\n",
       "      <td>0</td>\n",
       "    </tr>\n",
       "    <tr>\n",
       "      <th>1</th>\n",
       "      <td>40.23422</td>\n",
       "      <td>-77.13796</td>\n",
       "      <td>2023-12-05 23:13:40+00:00</td>\n",
       "      <td>1000</td>\n",
       "      <td>0 days 00:00:00</td>\n",
       "      <td>0</td>\n",
       "    </tr>\n",
       "    <tr>\n",
       "      <th>2</th>\n",
       "      <td>40.23419</td>\n",
       "      <td>-77.13795</td>\n",
       "      <td>2023-12-05 23:13:40+00:00</td>\n",
       "      <td>1000</td>\n",
       "      <td>0 days 00:00:00</td>\n",
       "      <td>0</td>\n",
       "    </tr>\n",
       "    <tr>\n",
       "      <th>3</th>\n",
       "      <td>40.23412</td>\n",
       "      <td>-77.13792</td>\n",
       "      <td>2023-12-05 23:13:40+00:00</td>\n",
       "      <td>1000</td>\n",
       "      <td>0 days 00:00:00</td>\n",
       "      <td>0</td>\n",
       "    </tr>\n",
       "    <tr>\n",
       "      <th>4</th>\n",
       "      <td>40.23412</td>\n",
       "      <td>-77.13792</td>\n",
       "      <td>2023-12-05 23:13:40+00:00</td>\n",
       "      <td>1000</td>\n",
       "      <td>0 days 00:00:00</td>\n",
       "      <td>0</td>\n",
       "    </tr>\n",
       "    <tr>\n",
       "      <th>...</th>\n",
       "      <td>...</td>\n",
       "      <td>...</td>\n",
       "      <td>...</td>\n",
       "      <td>...</td>\n",
       "      <td>...</td>\n",
       "      <td>...</td>\n",
       "    </tr>\n",
       "    <tr>\n",
       "      <th>73467</th>\n",
       "      <td>42.98914</td>\n",
       "      <td>-74.40199</td>\n",
       "      <td>2023-12-11 02:50:02+00:00</td>\n",
       "      <td>2000</td>\n",
       "      <td>0 days 00:00:01</td>\n",
       "      <td>6</td>\n",
       "    </tr>\n",
       "    <tr>\n",
       "      <th>73468</th>\n",
       "      <td>42.98919</td>\n",
       "      <td>-74.40328</td>\n",
       "      <td>2023-12-11 02:50:09+00:00</td>\n",
       "      <td>2000</td>\n",
       "      <td>0 days 00:00:07</td>\n",
       "      <td>6</td>\n",
       "    </tr>\n",
       "    <tr>\n",
       "      <th>73469</th>\n",
       "      <td>42.98919</td>\n",
       "      <td>-74.40328</td>\n",
       "      <td>2023-12-11 02:50:09+00:00</td>\n",
       "      <td>2000</td>\n",
       "      <td>0 days 00:00:00</td>\n",
       "      <td>6</td>\n",
       "    </tr>\n",
       "    <tr>\n",
       "      <th>73470</th>\n",
       "      <td>42.98919</td>\n",
       "      <td>-74.40328</td>\n",
       "      <td>2023-12-11 02:50:09+00:00</td>\n",
       "      <td>2000</td>\n",
       "      <td>0 days 00:00:00</td>\n",
       "      <td>6</td>\n",
       "    </tr>\n",
       "    <tr>\n",
       "      <th>73471</th>\n",
       "      <td>42.98919</td>\n",
       "      <td>-74.40332</td>\n",
       "      <td>2023-12-11 02:50:09+00:00</td>\n",
       "      <td>2000</td>\n",
       "      <td>0 days 00:00:00</td>\n",
       "      <td>6</td>\n",
       "    </tr>\n",
       "  </tbody>\n",
       "</table>\n",
       "<p>73472 rows × 6 columns</p>\n",
       "</div>"
      ],
      "text/plain": [
       "       latitude  longitude                 timestamp  unit       time_diff  \\\n",
       "0      40.23426  -77.13796 2023-12-05 23:13:40+00:00  1000 0 days 00:00:00   \n",
       "1      40.23422  -77.13796 2023-12-05 23:13:40+00:00  1000 0 days 00:00:00   \n",
       "2      40.23419  -77.13795 2023-12-05 23:13:40+00:00  1000 0 days 00:00:00   \n",
       "3      40.23412  -77.13792 2023-12-05 23:13:40+00:00  1000 0 days 00:00:00   \n",
       "4      40.23412  -77.13792 2023-12-05 23:13:40+00:00  1000 0 days 00:00:00   \n",
       "...         ...        ...                       ...   ...             ...   \n",
       "73467  42.98914  -74.40199 2023-12-11 02:50:02+00:00  2000 0 days 00:00:01   \n",
       "73468  42.98919  -74.40328 2023-12-11 02:50:09+00:00  2000 0 days 00:00:07   \n",
       "73469  42.98919  -74.40328 2023-12-11 02:50:09+00:00  2000 0 days 00:00:00   \n",
       "73470  42.98919  -74.40328 2023-12-11 02:50:09+00:00  2000 0 days 00:00:00   \n",
       "73471  42.98919  -74.40332 2023-12-11 02:50:09+00:00  2000 0 days 00:00:00   \n",
       "\n",
       "       trip_id  \n",
       "0            0  \n",
       "1            0  \n",
       "2            0  \n",
       "3            0  \n",
       "4            0  \n",
       "...        ...  \n",
       "73467        6  \n",
       "73468        6  \n",
       "73469        6  \n",
       "73470        6  \n",
       "73471        6  \n",
       "\n",
       "[73472 rows x 6 columns]"
      ]
     },
     "execution_count": 41,
     "metadata": {},
     "output_type": "execute_result"
    }
   ],
   "source": [
    "df"
   ]
  },
  {
   "cell_type": "code",
   "execution_count": 42,
   "id": "89ba591b",
   "metadata": {},
   "outputs": [
    {
     "data": {
      "text/plain": [
       "'C:\\\\Users\\\\Deepu\\\\Desktop\\\\New folder\\\\MapUp-Data-Assessment-E-main\\\\evaluation_data\\\\input'"
      ]
     },
     "execution_count": 42,
     "metadata": {},
     "output_type": "execute_result"
    }
   ],
   "source": [
    "pwd"
   ]
  },
  {
   "cell_type": "code",
   "execution_count": 43,
   "id": "a1a50218",
   "metadata": {},
   "outputs": [],
   "source": [
    "output_dir = 'C:\\\\Users\\\\Deepu\\\\Desktop\\\\New folder\\\\MapUp-Data-Assessment-E-main\\\\evaluation_data\\\\input'\n",
    "\n",
    "for trip_id, group in df.groupby('trip_id'):\n",
    "    trip_filename = f\"{group['unit'].iloc[0]}_{trip_id}.csv\"\n",
    "    trip_filepath = f\"{output_dir}/{trip_filename}\"\n",
    "    group[['latitude', 'longitude', 'timestamp']].to_csv(trip_filepath, index=False)\n"
   ]
  },
  {
   "cell_type": "code",
   "execution_count": 68,
   "id": "2b2eb30c",
   "metadata": {},
   "outputs": [
    {
     "ename": "PermissionError",
     "evalue": "[Errno 13] Permission denied: 'C:\\\\Users\\\\Deepu\\\\Downloads\\\\filez'",
     "output_type": "error",
     "traceback": [
      "\u001b[1;31m---------------------------------------------------------------------------\u001b[0m",
      "\u001b[1;31mPermissionError\u001b[0m                           Traceback (most recent call last)",
      "Input \u001b[1;32mIn [68]\u001b[0m, in \u001b[0;36m<cell line: 13>\u001b[1;34m()\u001b[0m\n\u001b[0;32m     11\u001b[0m \u001b[38;5;66;03m# Assuming you have the CSV file path stored in the variable 'csv_file_path'\u001b[39;00m\n\u001b[0;32m     12\u001b[0m csv_file_path \u001b[38;5;241m=\u001b[39m  \u001b[38;5;124mr\u001b[39m\u001b[38;5;124m'\u001b[39m\u001b[38;5;124mC:\u001b[39m\u001b[38;5;124m\\\u001b[39m\u001b[38;5;124mUsers\u001b[39m\u001b[38;5;124m\\\u001b[39m\u001b[38;5;124mDeepu\u001b[39m\u001b[38;5;124m\\\u001b[39m\u001b[38;5;124mDownloads\u001b[39m\u001b[38;5;124m\\\u001b[39m\u001b[38;5;124mfilez\u001b[39m\u001b[38;5;124m'\u001b[39m\n\u001b[1;32m---> 13\u001b[0m \u001b[38;5;28;01mwith\u001b[39;00m \u001b[38;5;28;43mopen\u001b[39;49m\u001b[43m(\u001b[49m\u001b[43mcsv_file_path\u001b[49m\u001b[43m,\u001b[49m\u001b[43m \u001b[49m\u001b[38;5;124;43m'\u001b[39;49m\u001b[38;5;124;43mrb\u001b[39;49m\u001b[38;5;124;43m'\u001b[39;49m\u001b[43m)\u001b[49m \u001b[38;5;28;01mas\u001b[39;00m file:\n\u001b[0;32m     14\u001b[0m     response \u001b[38;5;241m=\u001b[39m requests\u001b[38;5;241m.\u001b[39mpost(url, data\u001b[38;5;241m=\u001b[39mfile, headers\u001b[38;5;241m=\u001b[39mheaders)\n",
      "\u001b[1;31mPermissionError\u001b[0m: [Errno 13] Permission denied: 'C:\\\\Users\\\\Deepu\\\\Downloads\\\\filez'"
     ]
    }
   ],
   "source": [
    "import requests\n",
    "import os\n",
    "\n",
    "# Set your API key and URL directly (replace 'YOUR_API_KEY' and 'YOUR_API_URL' with your actual key and URL)\n",
    "api_key = 'GLLQPbn4bNBGHHt6tJh9Bt8TmQmffjT'\n",
    "api_url = 'https://apis.tollguru.com/toll/v2/gps-tracks-csv-upload?mapProvider=osrm'\n",
    "\n",
    "url = f'{api_url}/gps-tracks-csv-upload?mapProvider=osrm&vehicleType=5AxlesTruck'\n",
    "headers = {'x-api-key': api_key, 'Content-Type': 'text/csv'}\n",
    "\n",
    "# Assuming you have the CSV file path stored in the variable 'csv_file_path'\n",
    "csv_file_path =  r'C:\\Users\\Deepu\\Downloads\\filez'\n",
    "with open(csv_file_path, 'rb') as file:\n",
    "    response = requests.post(url, data=file, headers=headers)\n"
   ]
  },
  {
   "cell_type": "code",
   "execution_count": 56,
   "id": "1b989938",
   "metadata": {},
   "outputs": [],
   "source": [
    "response = requests.post(url,headers=headers)"
   ]
  },
  {
   "cell_type": "code",
   "execution_count": 60,
   "id": "26d97093",
   "metadata": {},
   "outputs": [
    {
     "data": {
      "text/plain": [
       "<Response [403]>"
      ]
     },
     "execution_count": 60,
     "metadata": {},
     "output_type": "execute_result"
    }
   ],
   "source": [
    "response"
   ]
  },
  {
   "cell_type": "code",
   "execution_count": 61,
   "id": "cd854c32",
   "metadata": {},
   "outputs": [
    {
     "data": {
      "text/plain": [
       "'C:\\\\Users\\\\Deepu\\\\Desktop\\\\New folder\\\\MapUp-Data-Assessment-E-main\\\\evaluation_data\\\\input'"
      ]
     },
     "execution_count": 61,
     "metadata": {},
     "output_type": "execute_result"
    }
   ],
   "source": [
    "pwd"
   ]
  },
  {
   "cell_type": "code",
   "execution_count": 63,
   "id": "6d9fae6f",
   "metadata": {},
   "outputs": [
    {
     "name": "stdout",
     "output_type": "stream",
     "text": [
      " Volume in drive C has no label.\n",
      " Volume Serial Number is 08CB-6401\n",
      "\n",
      " Directory of C:\\Users\\Deepu\\Desktop\\New folder\\MapUp-Data-Assessment-E-main\\evaluation_data\\input\n",
      "\n",
      "10-12-2023  18:09    <DIR>          .\n",
      "10-12-2023  18:09    <DIR>          ..\n",
      "10-12-2023  18:09           670,276 1000_0.csv\n",
      "10-12-2023  18:09           562,190 1000_1.csv\n",
      "10-12-2023  18:09           725,608 1000_2.csv\n",
      "10-12-2023  18:09           170,406 1000_3.csv\n",
      "10-12-2023  18:09           563,147 2000_4.csv\n",
      "10-12-2023  18:09           158,462 2000_5.csv\n",
      "10-12-2023  18:09           513,192 2000_6.csv\n",
      "08-12-2023  14:11         1,220,303 raw_data.parquet\n",
      "               8 File(s)      4,583,584 bytes\n",
      "               2 Dir(s)  67,632,099,328 bytes free\n"
     ]
    }
   ],
   "source": [
    "ls"
   ]
  },
  {
   "cell_type": "code",
   "execution_count": 69,
   "id": "3e7f08f8",
   "metadata": {},
   "outputs": [
    {
     "data": {
      "text/plain": [
       "'C:\\\\Users\\\\Deepu\\\\Desktop\\\\New folder\\\\MapUp-Data-Assessment-E-main\\\\evaluation_data\\\\input'"
      ]
     },
     "execution_count": 69,
     "metadata": {},
     "output_type": "execute_result"
    }
   ],
   "source": [
    "pwd"
   ]
  },
  {
   "cell_type": "code",
   "execution_count": 70,
   "id": "89058a71",
   "metadata": {},
   "outputs": [
    {
     "name": "stdout",
     "output_type": "stream",
     "text": [
      "C:\\Users\\Deepu\\Desktop\\New folder\n"
     ]
    }
   ],
   "source": [
    "cd C:\\\\Users\\\\Deepu\\\\Desktop\\\\New folder\n"
   ]
  },
  {
   "cell_type": "code",
   "execution_count": null,
   "id": "93188244",
   "metadata": {},
   "outputs": [],
   "source": []
  },
  {
   "cell_type": "code",
   "execution_count": null,
   "id": "3993a3c8",
   "metadata": {},
   "outputs": [],
   "source": [
    ";d\n"
   ]
  }
 ],
 "metadata": {
  "kernelspec": {
   "display_name": "Python 3 (ipykernel)",
   "language": "python",
   "name": "python3"
  },
  "language_info": {
   "codemirror_mode": {
    "name": "ipython",
    "version": 3
   },
   "file_extension": ".py",
   "mimetype": "text/x-python",
   "name": "python",
   "nbconvert_exporter": "python",
   "pygments_lexer": "ipython3",
   "version": "3.9.12"
  }
 },
 "nbformat": 4,
 "nbformat_minor": 5
}
