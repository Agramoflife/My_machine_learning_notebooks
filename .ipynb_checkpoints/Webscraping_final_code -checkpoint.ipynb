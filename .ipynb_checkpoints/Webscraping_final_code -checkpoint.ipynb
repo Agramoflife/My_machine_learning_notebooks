{
 "cells": [
  {
   "cell_type": "code",
   "execution_count": 9,
   "id": "146f54f1",
   "metadata": {},
   "outputs": [
    {
     "name": "stdout",
     "output_type": "stream",
     "text": [
      "\n",
      "Telemedicine, the use of technology to diagnose and treat patients remotely, has been rising in recent years. With the advent of high-speed internet and improved video conferencing tools, healthcare providers are increasingly turning to telemedicine to provide care to patients in remote or underserved areas.\n",
      "Telemedicine, using technology to provide healthcare services remotely, has recently gained popularity. With advancements in communication and medical technology, it has become increasingly possible for doctors and patients to connect and interact from anywhere in the world. This has led to the rise of telemedicine, which has the potential to revolutionize the way healthcare is delivered.#Telemedicine\n",
      "The increasing focus on preventative healthcare has also driven the rise of telemedicine. As more and more people become aware of the importance of staying healthy, they are looking for ways to prevent illness and maintain their health. Telemedicine allows people to monitor their health and get advice from healthcare providers without traveling to a clinic or hospital.\n",
      "Improved access to healthcare: One of the biggest challenges in the healthcare industry is the unequal distribution of medical resources, with many remote and rural areas lacking access to quality care. Telemedicine can help bridge this gap by allowing patients in these underserved areas to connect with healthcare providers worldwide. This can give people access to specialized medical care that they would otherwise not be able to receive, improving their health and overall well-being.#Healthcare\n",
      "Greater convenience and flexibility: Telemedicine also offers a level of convenience and flexibility that is impossible with traditional in-person medical visits. Patients can consult with their healthcare providers from the comfort of their own homes, saving time and money on travel. This is particularly beneficial for individuals who have mobility issues or who live in areas with limited access to medical facilities.\n",
      "Reduced healthcare costs: By enabling patients to receive care remotely, telemedicine can help reduce the overall cost of healthcare. This is because telemedicine visits are generally less expensive than in-person visits and can help prevent the need for more costly interventions, such as hospitalizations. As a result, telemedicine has the potential to make healthcare more affordable for patients and healthcare providers alike.#Costs\n",
      "Enhanced healthcare outcomes: Telemedicine can also improve patients’ quality of care. By allowing healthcare providers to access medical records and other important information remotely, telemedicine can help ensure that patients receive the most appropriate care for their needs. This can lead to better health outcomes and a higher quality of life for patients.#Enhanced\n",
      "More significant job opportunities in the healthcare industry like healthcare sector, including for healthcare providers, support staff, and technology experts. This can provide a boost to local economies and help to reduce unemployment.#Jobs\n",
      "Better care for chronic conditions: Telemedicine can help patients with chronic conditions to manage their health more effectively, allowing them to receive regular check-ups and treatment without the need to travel long distances. This can improve the quality of life for these individuals and reduce the risk of complications from their conditions.\n",
      "Increased flexibility for patients and healthcare providers: Telemedicine allows patients and providers to schedule consultations at times convenient for them, improving the overall flexibility of the healthcare system. This can help to reduce wait times and improve patient satisfaction.\n",
      "Increased accessibility: Telemedicine makes healthcare more accessible to people living in rural and remote areas, who may not have easy access to medical facilities. With telemedicine, patients can consult with doctors and specialists from their homes using their phones, computers, or other devices. This means that more people will be able to get the medical care they need, regardless of where they live.\n",
      "Reduced costs: One of the most significant benefits of telemedicine is that it can reduce healthcare costs. Patients can avoid the costs of travel, accommodation, and time off work associated with in-person visits to the doctor. Telemedicine can also help reduce the cost of medical procedures, as doctors can remotely monitor patients and provide care without needing hospitalization.\n",
      "Improved health outcomes: By providing patients with access to medical care from the comfort of their own homes, telemedicine can help improve their health outcomes. For example, patients with chronic conditions can use telemedicine to manage their symptoms and reduce the risk of complications. Telemedicine can also help prevent the spread of infectious diseases, as patients can receive care without contacting other people.\n",
      "Increased convenience: Telemedicine offers a more convenient option for patients who need medical care. With telemedicine, patients can schedule appointments and consult with doctors at a convenient time without having to take time off work or arrange transportation. This can be especially beneficial for people with busy schedules or mobility issues.\n",
      "Telemedicine, or the use of electronic communication and information technologies to provide healthcare services remotely, has the potential to significantly impact the way we receive and deliver medical care. In the next 20 years, telemedicine will likely become an increasingly important part of our healthcare system, providing numerous benefits and improving the livelihood of many people.\n",
      "The benefits of telemedicine are numerous. For patients, it provides convenient access to medical care without traveling long distances. It also allows for faster diagnosis and treatment and improved continuity of care. For healthcare providers, telemedicine can reduce the strain on already-overburdened healthcare systems and make providing care to patients in remote areas more accessible.\n",
      "The rise of telemedicine will likely significantly impact how we receive medical care in the future. By 2040, it is estimated that telemedicine will be a standard part of the healthcare landscape, with more and more doctors using it to diagnose and treat patients remotely.\n",
      "One of the key drivers of the rise of telemedicine has been the increasing availability of high-speed internet and improved video conferencing tools. In the past, the video and audio quality of telemedicine consultations were often poor, making it difficult for doctors to diagnose and treat patients accurately. However, with faster internet speeds and better video conferencing tools, telemedicine consultations are just as good as in-person visits.\n",
      "Telemedicine makes healthcare more accessible. With telemedicine, patients no longer travel long distances to see a doctor or specialist. Instead, they can receive care from the comfort of their own home. This is particularly beneficial for people living in rural areas, where access to healthcare can be limited.\n",
      "Another factor contributing to the rise of telemedicine is the increasing demand for healthcare services. With the global population growing and people living longer, the need for medical care will only continue to increase. Telemedicine offers a way for healthcare providers to meet this demand by allowing them to provide care to more patients in a shorter amount of time.\n",
      "Another substantial impact of telemedicine is that it can improve patient quality of care. By using technology to connect patients with doctors, telemedicine can help ensure patients receive the best care possible. For example, a doctor can use video conferencing to consult with a specialist or use remote monitoring devices to track a patient’s vital signs. This can help doctors make more informed decisions and provide better treatment.\n",
      "Telemedicine also has the potential to reduce healthcare costs. By allowing patients to receive care from their homes, telemedicine can reduce the need for expensive hospital visits. In addition, telemedicine can help prevent the spread of infectious diseases, reducing healthcare costs by avoiding hospitalization.\n",
      "One of the critical impacts of telemedicine is that it can improve the patient experience. By providing patients with the ability to receive care from the comfort of their own homes, telemedicine can help reduce anxiety and stress. In addition, telemedicine can make it easier for patients to communicate with their doctors and get the answers they need.\n",
      "Another way in which telemedicine will impact people’s livelihoods is by making healthcare more efficient. By allowing doctors to diagnose and treat patients remotely, telemedicine will help reduce the time patients spend waiting to see a doctor. It will also help reduce doctors’ spending on administrative tasks, freeing them up to see more patients and provide better care.\n",
      "One major factor driving the rise of telemedicine is the increasing use of technology in healthcare. With advances in communication and medical technology, it is now possible for doctors and other healthcare providers to remotely diagnose and treat patients using video conferencing, remote monitoring, and other forms of telemedicine. This not only allows for more efficient and convenient healthcare delivery but also enables healthcare providers to offer specialized care to patients who otherwise may not have access to it.\n",
      "Another factor contributing to the rise of telemedicine is the need for improved access to healthcare. Patients may travel long distances in many rural and underserved areas; patients may travel long distances to access medical care. Telemedicine can bridge this gap by allowing patients in these areas to consult with healthcare providers remotely. This not only improves access to healthcare but also reduces the need for patients to travel long distances, saving them time and money.\n",
      "Finally, telemedicine’s rise is also driven by the growing trend of remote work. As more and more people work from home or other remote locations, the need for convenient and accessible healthcare is increasing. Telemedicine allows employees to consult with healthcare providers from their homes, reducing the need for them to take time off work to visit a doctor or other healthcare provider.\n",
      "Overall, the rise of telemedicine by 2040 is a result of a combination of factors, including the increasing use of technology in healthcare, the need for improved access to healthcare, and the growing trend of remote work. As these factors continue to evolve, likely, telemedicine will likely become an increasingly important part of the healthcare landscape.\n",
      "However, the rise of telemedicine is also likely to present some challenges. For example, telemedicine consultations may only be suitable for some medical conditions, and some patients may still need to see a doctor. Additionally, telemedicine may put some jobs at risk, such as receptionists and other administrative staff in healthcare facilities.\n",
      "\n",
      "\n"
     ]
    }
   ],
   "source": [
    "import requests\n",
    "from bs4 import BeautifulSoup\n",
    "\n",
    "url = 'https://insights.blackcoffer.com/rise-of-telemedicine-and-its-impact-on-livelihood-by-2040-3-2/'\n",
    "\n",
    "response = requests.get(url)\n",
    "\n",
    "soup = BeautifulSoup(response.text, 'html.parser')\n",
    "\n",
    "header = soup.find('h1',class_=\"entry-title\")\n",
    "#print(header.text)\n",
    "\n",
    "content = soup.find_all('div', class_=\"td-post-content tagdiv-type\")\n",
    "\n",
    "pre_elements = soup.find_all('pre') # searching the unwanted content \n",
    "for pre_element in pre_elements:\n",
    "  pre_element.extract() #.extract() removes the part from the html\n",
    "text_content = content\n",
    "\n",
    "for i in content:\n",
    "    print(i.text)\n",
    "\n"
   ]
  },
  {
   "cell_type": "code",
   "execution_count": 7,
   "id": "b5e2efcc",
   "metadata": {},
   "outputs": [
    {
     "data": {
      "text/plain": [
       "[<div class=\"td-post-content tagdiv-type\">\n",
       " <p>Telemedicine, the use of technology to diagnose and treat patients remotely, has been rising in recent years. With the advent of high-speed internet and improved video conferencing tools, healthcare providers are increasingly turning to telemedicine to provide care to patients in remote or underserved areas.</p>\n",
       " <p><strong>Telemedicine</strong>, using technology to provide healthcare services remotely, has recently gained popularity. With advancements in communication and medical technology, it has become increasingly possible for doctors and patients to connect and interact from anywhere in the world. This has led to the rise of telemedicine, which has the potential to revolutionize the way healthcare is delivered<strong>.#Telemedicine</strong></p>\n",
       " <p>The increasing focus on preventative healthcare has also driven the rise of telemedicine. As more and more people become aware of the importance of staying healthy, they are looking for ways to prevent illness and maintain their health. Telemedicine allows people to monitor their health and get advice from healthcare providers without traveling to a clinic or hospital.</p>\n",
       " <p>Improved access to <strong>healthcare</strong>: One of the biggest challenges in the healthcare industry is the unequal distribution of medical resources, with many remote and rural areas lacking access to quality care. Telemedicine can help bridge this gap by allowing patients in these underserved areas to connect with healthcare providers worldwide. This can give people access to specialized medical care that they would otherwise not be able to receive, improving their health and overall well-being<strong>.#Healthcare</strong></p>\n",
       " <p>Greater convenience and flexibility: Telemedicine also offers a level of <strong>convenience</strong> and <strong>flexibility</strong> that is impossible with traditional in-person medical visits. Patients can consult with their healthcare providers from the comfort of their own homes, saving time and money on travel. This is particularly beneficial for individuals who have mobility issues or who live in areas with limited access to <strong>medical facilities.</strong></p>\n",
       " <p><strong>Reduced healthcare costs</strong>: By enabling patients to receive care remotely, telemedicine can help reduce the overall cost of healthcare. This is because telemedicine visits are generally less expensive than in-person visits and can help prevent the need for more costly interventions, such as hospitalizations. As a result, telemedicine has the potential to make healthcare more affordable for patients and healthcare providers alike<strong>.#Costs</strong></p>\n",
       " <p><strong>Enhanced healthcare outcomes</strong>: Telemedicine can also improve patients’ quality of care. By allowing healthcare providers to access medical records and other important information remotely, telemedicine can help ensure that patients receive the most appropriate care for their needs. This can lead to better health outcomes and a higher quality of life for patients<strong>.#Enhanced</strong></p>\n",
       " <p>More significant <strong>job opportunities</strong> in the healthcare industry like healthcare sector, including for healthcare providers, support staff, and technology experts. This can provide a boost to local <strong>economies </strong>and help to reduce unemployment<strong>.#Jobs</strong></p>\n",
       " <p><strong>Better care</strong> for chronic conditions: Telemedicine can help patients with chronic conditions to manage their health more effectively, allowing them to receive regular check-ups and treatment without the need to travel long distances. This can improve the quality of life for these individuals and reduce the risk of complications from their conditions.</p>\n",
       " <p>Increased flexibility for patients and healthcare providers: Telemedicine allows patients and providers to schedule consultations at times convenient for them, improving the overall flexibility of the healthcare system. This can help to reduce wait times and improve patient satisfaction.</p>\n",
       " <p>Increased accessibility: Telemedicine makes healthcare more accessible to people living in rural and remote areas, who may not have easy access to medical facilities. With telemedicine, patients can consult with doctors and specialists from their homes using their phones, computers, or other devices. This means that more people will be able to get the medical care they need, regardless of where they live.</p>\n",
       " <p>Reduced costs: One of the most significant benefits of telemedicine is that it can reduce healthcare costs. Patients can avoid the costs of travel, accommodation, and time off work associated with in-person visits to the doctor. Telemedicine can also help reduce the cost of medical procedures, as doctors can remotely monitor patients and provide care without needing hospitalization.</p>\n",
       " <p>Improved health outcomes: By providing patients with access to medical care from the comfort of their own homes, telemedicine can help improve their health outcomes. For example, patients with chronic conditions can use telemedicine to manage their symptoms and reduce the risk of complications. Telemedicine can also help prevent the spread of infectious diseases, as patients can receive care without contacting other people.</p>\n",
       " <p>Increased convenience: Telemedicine offers a more convenient option for patients who need medical care. With telemedicine, patients can schedule appointments and consult with doctors at a convenient time without having to take time off work or arrange transportation. This can be especially beneficial for people with busy schedules or mobility issues.</p>\n",
       " <p>Telemedicine, or the use of electronic communication and information technologies to provide healthcare services remotely, has the potential to significantly impact the way we receive and deliver medical care. In the next 20 years, telemedicine will likely become an increasingly important part of our healthcare system, providing numerous benefits and improving the livelihood of many people.</p>\n",
       " <p>The benefits of telemedicine are numerous. For patients, it provides convenient access to medical care without traveling long distances. It also allows for faster diagnosis and treatment and improved continuity of care. For healthcare providers, telemedicine can reduce the strain on already-overburdened healthcare systems and make providing care to patients in remote areas more accessible.</p>\n",
       " <p>The rise of telemedicine will likely significantly impact how we receive medical care in the future. By 2040, it is estimated that telemedicine will be a standard part of the healthcare landscape, with more and more doctors using it to diagnose and treat patients remotely.</p>\n",
       " <p>One of the key drivers of the rise of telemedicine has been the increasing availability of high-speed internet and improved video conferencing tools. In the past, the video and audio quality of telemedicine consultations were often poor, making it difficult for doctors to diagnose and treat patients accurately. However, with faster internet speeds and better video conferencing tools, telemedicine consultations are just as good as in-person visits.</p>\n",
       " <p>Telemedicine makes healthcare more accessible. With telemedicine, patients no longer travel long distances to see a doctor or specialist. Instead, they can receive care from the comfort of their own home. This is particularly beneficial for people living in rural areas, where access to healthcare can be limited.</p>\n",
       " <p>Another factor contributing to the rise of telemedicine is the increasing demand for healthcare services. With the global population growing and people living longer, the need for medical care will only continue to increase. Telemedicine offers a way for healthcare providers to meet this demand by allowing them to provide care to more patients in a shorter amount of time.</p>\n",
       " <p>Another substantial impact of telemedicine is that it can improve patient quality of care. By using technology to connect patients with doctors, telemedicine can help ensure patients receive the best care possible. For example, a doctor can use video conferencing to consult with a specialist or use remote monitoring devices to track a patient’s vital signs. This can help doctors make more informed decisions and provide better treatment.</p>\n",
       " <p>Telemedicine also has the potential to reduce healthcare costs. By allowing patients to receive care from their homes, telemedicine can reduce the need for expensive hospital visits. In addition, telemedicine can help prevent the spread of infectious diseases, reducing healthcare costs by avoiding hospitalization.</p>\n",
       " <p>One of the critical impacts of telemedicine is that it can improve the patient experience. By providing patients with the ability to receive care from the comfort of their own homes, telemedicine can help reduce anxiety and stress. In addition, telemedicine can make it easier for patients to communicate with their doctors and get the answers they need.</p>\n",
       " <p>Another way in which telemedicine will impact people’s livelihoods is by making healthcare more efficient. By allowing doctors to diagnose and treat patients remotely, telemedicine will help reduce the time patients spend waiting to see a doctor. It will also help reduce doctors’ spending on administrative tasks, freeing them up to see more patients and provide better care.</p>\n",
       " <p>One major factor driving the rise of telemedicine is the increasing use of technology in healthcare. With advances in communication and medical technology, it is now possible for doctors and other healthcare providers to remotely diagnose and treat patients using video conferencing, remote monitoring, and other forms of telemedicine. This not only allows for more efficient and convenient healthcare delivery but also enables healthcare providers to offer specialized care to patients who otherwise may not have access to it.</p>\n",
       " <p>Another factor contributing to the rise of telemedicine is the need for improved access to healthcare. Patients may travel long distances in many rural and underserved areas; patients may travel long distances to access medical care. Telemedicine can bridge this gap by allowing patients in these areas to consult with healthcare providers remotely. This not only improves access to healthcare but also reduces the need for patients to travel long distances, saving them time and money.</p>\n",
       " <p>Finally, telemedicine’s rise is also driven by the growing trend of remote work. As more and more people work from home or other remote locations, the need for convenient and accessible healthcare is increasing. Telemedicine allows employees to consult with healthcare providers from their homes, reducing the need for them to take time off work to visit a doctor or other healthcare provider.</p>\n",
       " <p>Overall, the rise of telemedicine by 2040 is a result of a combination of factors, including the increasing use of technology in healthcare, the need for improved access to healthcare, and the growing trend of remote work. As these factors continue to evolve, likely, telemedicine will likely become an increasingly important part of the healthcare landscape.</p>\n",
       " <p>However, the rise of telemedicine is also likely to present some challenges. For example, telemedicine consultations may only be suitable for some medical conditions, and some patients may still need to see a doctor. Additionally, telemedicine may put some jobs at risk, such as receptionists and other administrative staff in healthcare facilities.</p>\n",
       " <pre class=\"wp-block-preformatted\">Blackcoffer Insights 46: G.K.Harish Balaji, Indian Institute of Technology,Madras</pre>\n",
       " </div>]"
      ]
     },
     "execution_count": 7,
     "metadata": {},
     "output_type": "execute_result"
    }
   ],
   "source": [
    "import requests\n",
    "from bs4 import BeautifulSoup\n",
    "\n",
    "url = 'https://insights.blackcoffer.com/rise-of-telemedicine-and-its-impact-on-livelihood-by-2040-3-2/'\n",
    "\n",
    "response = requests.get(url)\n",
    "\n",
    "soup = BeautifulSoup(response.text, 'html.parser')\n",
    "\n",
    "header = soup.find('h1',class_=\"entry-title\")\n",
    "#print(header.text)\n",
    "\n",
    "content = soup.find_all('div', class_=\"td-post-content tagdiv-type\")\n",
    "content"
   ]
  },
  {
   "cell_type": "code",
   "execution_count": 111,
   "id": "33d40f5e",
   "metadata": {},
   "outputs": [
    {
     "name": "stdout",
     "output_type": "stream",
     "text": [
      " \n"
     ]
    }
   ],
   "source": [
    "import requests\n",
    "from bs4 import BeautifulSoup\n",
    "\n",
    "url = 'https://insights.blackcoffer.com/rise-of-telemedicine-and-its-impact-on-livelihood-by-2040-3-2/'\n",
    "\n",
    "response = requests.get(url)\n",
    "\n",
    "soup = BeautifulSoup(response.text, 'html.parser')\n",
    "\n",
    "header = soup.find('h1', class_=\"entry-title\")\n",
    "# print(header.text)\n",
    "\n",
    "content = soup.find('div', class_=\"tdb-block-inner td-fix-index\")\n",
    "\n",
    "# Remove the specific <pre> element from the content\n",
    "pre_element = content.find('pre', class_='wp-block-preformatted')\n",
    "if pre_element:\n",
    "    pre_element.extract()\n",
    "\n",
    "# Get the modified content without the removed <pre> element\n",
    "# for i in content:\n",
    "#     print(i.text)\n",
    "con = ''\n",
    "for i in content:\n",
    "    con = con + i.get_text() + ' '\n",
    "#print(con)\n",
    "\n",
    "if con == ' '\n"
   ]
  },
  {
   "cell_type": "code",
   "execution_count": 113,
   "id": "24ee935b",
   "metadata": {},
   "outputs": [
    {
     "data": {
      "text/plain": [
       "True"
      ]
     },
     "execution_count": 113,
     "metadata": {},
     "output_type": "execute_result"
    }
   ],
   "source": [
    "con == ' '"
   ]
  },
  {
   "cell_type": "code",
   "execution_count": 2,
   "id": "b59bfde1",
   "metadata": {},
   "outputs": [
    {
     "data": {
      "text/plain": [
       "'C:\\\\Users\\\\Deepu'"
      ]
     },
     "execution_count": 2,
     "metadata": {},
     "output_type": "execute_result"
    }
   ],
   "source": [
    "pwd"
   ]
  },
  {
   "cell_type": "code",
   "execution_count": 3,
   "id": "70b6cf10",
   "metadata": {},
   "outputs": [
    {
     "name": "stdout",
     "output_type": "stream",
     "text": [
      "C:\\Users\\Deepu\\downloads\n"
     ]
    }
   ],
   "source": [
    "cd downloads"
   ]
  },
  {
   "cell_type": "code",
   "execution_count": 4,
   "id": "66be5c56",
   "metadata": {},
   "outputs": [
    {
     "name": "stdout",
     "output_type": "stream",
     "text": [
      "C:\\Users\\Deepu\\downloads\\20211030 Test Assignment\n"
     ]
    }
   ],
   "source": [
    "cd 20211030 Test Assignment"
   ]
  },
  {
   "cell_type": "code",
   "execution_count": 5,
   "id": "f19cf278",
   "metadata": {},
   "outputs": [
    {
     "name": "stdout",
     "output_type": "stream",
     "text": [
      " Volume in drive C has no label.\n",
      " Volume Serial Number is 08CB-6401\n",
      "\n",
      " Directory of C:\\Users\\Deepu\\downloads\\20211030 Test Assignment\n",
      "\n",
      "08-11-2023  01:43    <DIR>          .\n",
      "08-11-2023  01:43    <DIR>          ..\n",
      "04-08-2023  08:17            14,604 Input.xlsx\n",
      "03-10-2023  23:40    <DIR>          MasterDictionary\n",
      "16-11-2022  07:22            12,467 Objective.docx\n",
      "04-08-2023  08:18            16,053 Output Data Structure.xlsx\n",
      "03-10-2023  23:40    <DIR>          StopWords\n",
      "26-05-2022  00:38            14,551 Text Analysis.docx\n",
      "               4 File(s)         57,675 bytes\n",
      "               4 Dir(s)  77,077,983,232 bytes free\n"
     ]
    }
   ],
   "source": [
    "ls"
   ]
  },
  {
   "cell_type": "code",
   "execution_count": 6,
   "id": "08610ff7",
   "metadata": {},
   "outputs": [],
   "source": [
    "import pandas as pd"
   ]
  },
  {
   "cell_type": "code",
   "execution_count": 7,
   "id": "18fd6021",
   "metadata": {},
   "outputs": [],
   "source": [
    "df=pd.read_excel('Input.xlsx')"
   ]
  },
  {
   "cell_type": "code",
   "execution_count": 39,
   "id": "b82db368",
   "metadata": {},
   "outputs": [],
   "source": [
    "import requests\n",
    "from bs4 import BeautifulSoup\n",
    "\n",
    "def con_fun(i):\n",
    "    url = i\n",
    "\n",
    "    response = requests.get(url)\n",
    "\n",
    "    soup = BeautifulSoup(response.text, 'html.parser')\n",
    "\n",
    "    header = soup.find('h1', class_=\"entry-title\")\n",
    "    # print(header.text)\n",
    "\n",
    "    content = soup.find('div', class_=\"td-post-content tagdiv-type\")\n",
    "\n",
    "    # Remove the specific <pre> element from the content\n",
    "    pre_element = content.find('pre', class_='wp-block-preformatted')\n",
    "    if pre_element:\n",
    "        pre_element.extract()\n",
    "\n",
    "    # Get the modified content without the removed <pre> element\n",
    "    # for i in content:\n",
    "    #     print(i.text)\n",
    "    con = ''\n",
    "    for i in content:\n",
    "        con = con + i.get_text() + ' '\n",
    "    return(con)\n"
   ]
  },
  {
   "cell_type": "code",
   "execution_count": 48,
   "id": "b835bf6c",
   "metadata": {},
   "outputs": [
    {
     "data": {
      "text/plain": [
       "0    \n",
       "1    \n",
       "2    \n",
       "Name: URL, dtype: object"
      ]
     },
     "execution_count": 48,
     "metadata": {},
     "output_type": "execute_result"
    }
   ],
   "source": [
    "df['URL'][0:3].apply(lambda x: con_fun(x))"
   ]
  },
  {
   "cell_type": "code",
   "execution_count": 47,
   "id": "fa863df2",
   "metadata": {},
   "outputs": [
    {
     "name": "stdout",
     "output_type": "stream",
     "text": [
      "This domain is for use in illustrative examples in documents. You may use this\n",
      "    domain in literature without prior coordination or asking for permission. More information...\n"
     ]
    }
   ],
   "source": [
    "import requests\n",
    "from bs4 import BeautifulSoup\n",
    "\n",
    "def con_fun(i):\n",
    "    url = i\n",
    "    response = requests.get(url)\n",
    "    soup = BeautifulSoup(response.text, 'html.parser')\n",
    "\n",
    "    header = soup.find('h1', class_=\"entry-title\")\n",
    "\n",
    "    content = soup.find('div',)\n",
    "\n",
    "    if content is None:\n",
    "        return \"Content not found\"\n",
    "\n",
    "    # Remove the specific <pre> element from the content\n",
    "    pre_element = content.find('pre', class_='wp-block-preformatted')\n",
    "    if pre_element:\n",
    "        pre_element.extract()\n",
    "\n",
    "    # Get the modified content without the removed <pre> element\n",
    "    con = ''\n",
    "    for i in content.find_all(['p', 'h2', 'h3', 'ul', 'ol', 'blockquote']):  # Adjust the tags you want to include\n",
    "        con += i.get_text(separator=' ', strip=True) + ' '\n",
    "    return con.strip()\n",
    "\n",
    "# Example usage\n",
    "url_to_scrape = 'https://example.com'  # Put your desired URL here\n",
    "result = con_fun(url_to_scrape)\n",
    "print(result)\n"
   ]
  },
  {
   "cell_type": "code",
   "execution_count": 95,
   "id": "c3b06b96",
   "metadata": {},
   "outputs": [],
   "source": [
    "import requests\n",
    "from bs4 import BeautifulSoup\n",
    "\n",
    "url = 'https://insights.blackcoffer.com/rise-of-telemedicine-and-its-impact-on-livelihood-by-2040-3-2/'\n",
    "\n",
    "response = requests.get(url) # sending the request to get the content\n",
    "\n",
    "soup = BeautifulSoup(response.text, 'html.parser') # got the content and converted into soup object \n",
    "\n"
   ]
  },
  {
   "cell_type": "code",
   "execution_count": 96,
   "id": "01703c11",
   "metadata": {},
   "outputs": [],
   "source": [
    "div_parts=soup.find_all('div',class_=\"td-post-content tagdiv-type\") # form the soup object find all the div tag only with tag as\n",
    "# \"td-post-content tagdiv-type\""
   ]
  },
  {
   "cell_type": "code",
   "execution_count": 97,
   "id": "52682245",
   "metadata": {},
   "outputs": [
    {
     "data": {
      "text/plain": [
       "[<div class=\"td-post-content tagdiv-type\">\n",
       " <p>Telemedicine, the use of technology to diagnose and treat patients remotely, has been rising in recent years. With the advent of high-speed internet and improved video conferencing tools, healthcare providers are increasingly turning to telemedicine to provide care to patients in remote or underserved areas.</p>\n",
       " <p><strong>Telemedicine</strong>, using technology to provide healthcare services remotely, has recently gained popularity. With advancements in communication and medical technology, it has become increasingly possible for doctors and patients to connect and interact from anywhere in the world. This has led to the rise of telemedicine, which has the potential to revolutionize the way healthcare is delivered<strong>.#Telemedicine</strong></p>\n",
       " <p>The increasing focus on preventative healthcare has also driven the rise of telemedicine. As more and more people become aware of the importance of staying healthy, they are looking for ways to prevent illness and maintain their health. Telemedicine allows people to monitor their health and get advice from healthcare providers without traveling to a clinic or hospital.</p>\n",
       " <p>Improved access to <strong>healthcare</strong>: One of the biggest challenges in the healthcare industry is the unequal distribution of medical resources, with many remote and rural areas lacking access to quality care. Telemedicine can help bridge this gap by allowing patients in these underserved areas to connect with healthcare providers worldwide. This can give people access to specialized medical care that they would otherwise not be able to receive, improving their health and overall well-being<strong>.#Healthcare</strong></p>\n",
       " <p>Greater convenience and flexibility: Telemedicine also offers a level of <strong>convenience</strong> and <strong>flexibility</strong> that is impossible with traditional in-person medical visits. Patients can consult with their healthcare providers from the comfort of their own homes, saving time and money on travel. This is particularly beneficial for individuals who have mobility issues or who live in areas with limited access to <strong>medical facilities.</strong></p>\n",
       " <p><strong>Reduced healthcare costs</strong>: By enabling patients to receive care remotely, telemedicine can help reduce the overall cost of healthcare. This is because telemedicine visits are generally less expensive than in-person visits and can help prevent the need for more costly interventions, such as hospitalizations. As a result, telemedicine has the potential to make healthcare more affordable for patients and healthcare providers alike<strong>.#Costs</strong></p>\n",
       " <p><strong>Enhanced healthcare outcomes</strong>: Telemedicine can also improve patients’ quality of care. By allowing healthcare providers to access medical records and other important information remotely, telemedicine can help ensure that patients receive the most appropriate care for their needs. This can lead to better health outcomes and a higher quality of life for patients<strong>.#Enhanced</strong></p>\n",
       " <p>More significant <strong>job opportunities</strong> in the healthcare industry like healthcare sector, including for healthcare providers, support staff, and technology experts. This can provide a boost to local <strong>economies </strong>and help to reduce unemployment<strong>.#Jobs</strong></p>\n",
       " <p><strong>Better care</strong> for chronic conditions: Telemedicine can help patients with chronic conditions to manage their health more effectively, allowing them to receive regular check-ups and treatment without the need to travel long distances. This can improve the quality of life for these individuals and reduce the risk of complications from their conditions.</p>\n",
       " <p>Increased flexibility for patients and healthcare providers: Telemedicine allows patients and providers to schedule consultations at times convenient for them, improving the overall flexibility of the healthcare system. This can help to reduce wait times and improve patient satisfaction.</p>\n",
       " <p>Increased accessibility: Telemedicine makes healthcare more accessible to people living in rural and remote areas, who may not have easy access to medical facilities. With telemedicine, patients can consult with doctors and specialists from their homes using their phones, computers, or other devices. This means that more people will be able to get the medical care they need, regardless of where they live.</p>\n",
       " <p>Reduced costs: One of the most significant benefits of telemedicine is that it can reduce healthcare costs. Patients can avoid the costs of travel, accommodation, and time off work associated with in-person visits to the doctor. Telemedicine can also help reduce the cost of medical procedures, as doctors can remotely monitor patients and provide care without needing hospitalization.</p>\n",
       " <p>Improved health outcomes: By providing patients with access to medical care from the comfort of their own homes, telemedicine can help improve their health outcomes. For example, patients with chronic conditions can use telemedicine to manage their symptoms and reduce the risk of complications. Telemedicine can also help prevent the spread of infectious diseases, as patients can receive care without contacting other people.</p>\n",
       " <p>Increased convenience: Telemedicine offers a more convenient option for patients who need medical care. With telemedicine, patients can schedule appointments and consult with doctors at a convenient time without having to take time off work or arrange transportation. This can be especially beneficial for people with busy schedules or mobility issues.</p>\n",
       " <p>Telemedicine, or the use of electronic communication and information technologies to provide healthcare services remotely, has the potential to significantly impact the way we receive and deliver medical care. In the next 20 years, telemedicine will likely become an increasingly important part of our healthcare system, providing numerous benefits and improving the livelihood of many people.</p>\n",
       " <p>The benefits of telemedicine are numerous. For patients, it provides convenient access to medical care without traveling long distances. It also allows for faster diagnosis and treatment and improved continuity of care. For healthcare providers, telemedicine can reduce the strain on already-overburdened healthcare systems and make providing care to patients in remote areas more accessible.</p>\n",
       " <p>The rise of telemedicine will likely significantly impact how we receive medical care in the future. By 2040, it is estimated that telemedicine will be a standard part of the healthcare landscape, with more and more doctors using it to diagnose and treat patients remotely.</p>\n",
       " <p>One of the key drivers of the rise of telemedicine has been the increasing availability of high-speed internet and improved video conferencing tools. In the past, the video and audio quality of telemedicine consultations were often poor, making it difficult for doctors to diagnose and treat patients accurately. However, with faster internet speeds and better video conferencing tools, telemedicine consultations are just as good as in-person visits.</p>\n",
       " <p>Telemedicine makes healthcare more accessible. With telemedicine, patients no longer travel long distances to see a doctor or specialist. Instead, they can receive care from the comfort of their own home. This is particularly beneficial for people living in rural areas, where access to healthcare can be limited.</p>\n",
       " <p>Another factor contributing to the rise of telemedicine is the increasing demand for healthcare services. With the global population growing and people living longer, the need for medical care will only continue to increase. Telemedicine offers a way for healthcare providers to meet this demand by allowing them to provide care to more patients in a shorter amount of time.</p>\n",
       " <p>Another substantial impact of telemedicine is that it can improve patient quality of care. By using technology to connect patients with doctors, telemedicine can help ensure patients receive the best care possible. For example, a doctor can use video conferencing to consult with a specialist or use remote monitoring devices to track a patient’s vital signs. This can help doctors make more informed decisions and provide better treatment.</p>\n",
       " <p>Telemedicine also has the potential to reduce healthcare costs. By allowing patients to receive care from their homes, telemedicine can reduce the need for expensive hospital visits. In addition, telemedicine can help prevent the spread of infectious diseases, reducing healthcare costs by avoiding hospitalization.</p>\n",
       " <p>One of the critical impacts of telemedicine is that it can improve the patient experience. By providing patients with the ability to receive care from the comfort of their own homes, telemedicine can help reduce anxiety and stress. In addition, telemedicine can make it easier for patients to communicate with their doctors and get the answers they need.</p>\n",
       " <p>Another way in which telemedicine will impact people’s livelihoods is by making healthcare more efficient. By allowing doctors to diagnose and treat patients remotely, telemedicine will help reduce the time patients spend waiting to see a doctor. It will also help reduce doctors’ spending on administrative tasks, freeing them up to see more patients and provide better care.</p>\n",
       " <p>One major factor driving the rise of telemedicine is the increasing use of technology in healthcare. With advances in communication and medical technology, it is now possible for doctors and other healthcare providers to remotely diagnose and treat patients using video conferencing, remote monitoring, and other forms of telemedicine. This not only allows for more efficient and convenient healthcare delivery but also enables healthcare providers to offer specialized care to patients who otherwise may not have access to it.</p>\n",
       " <p>Another factor contributing to the rise of telemedicine is the need for improved access to healthcare. Patients may travel long distances in many rural and underserved areas; patients may travel long distances to access medical care. Telemedicine can bridge this gap by allowing patients in these areas to consult with healthcare providers remotely. This not only improves access to healthcare but also reduces the need for patients to travel long distances, saving them time and money.</p>\n",
       " <p>Finally, telemedicine’s rise is also driven by the growing trend of remote work. As more and more people work from home or other remote locations, the need for convenient and accessible healthcare is increasing. Telemedicine allows employees to consult with healthcare providers from their homes, reducing the need for them to take time off work to visit a doctor or other healthcare provider.</p>\n",
       " <p>Overall, the rise of telemedicine by 2040 is a result of a combination of factors, including the increasing use of technology in healthcare, the need for improved access to healthcare, and the growing trend of remote work. As these factors continue to evolve, likely, telemedicine will likely become an increasingly important part of the healthcare landscape.</p>\n",
       " <p>However, the rise of telemedicine is also likely to present some challenges. For example, telemedicine consultations may only be suitable for some medical conditions, and some patients may still need to see a doctor. Additionally, telemedicine may put some jobs at risk, such as receptionists and other administrative staff in healthcare facilities.</p>\n",
       " <pre class=\"wp-block-preformatted\">Blackcoffer Insights 46: G.K.Harish Balaji, Indian Institute of Technology,Madras</pre>\n",
       " </div>]"
      ]
     },
     "execution_count": 97,
     "metadata": {},
     "output_type": "execute_result"
    }
   ],
   "source": [
    "div_parts # have the div content with tag \"td-post-content tagdiv-type\""
   ]
  },
  {
   "cell_type": "code",
   "execution_count": null,
   "id": "2824b111",
   "metadata": {},
   "outputs": [],
   "source": []
  },
  {
   "cell_type": "code",
   "execution_count": 98,
   "id": "ac46c057",
   "metadata": {},
   "outputs": [
    {
     "name": "stdout",
     "output_type": "stream",
     "text": [
      "Telemedicine, the use of technology to diagnose and treat patients remotely, has been rising in recent years. With the advent of high-speed internet and improved video conferencing tools, healthcare providers are increasingly turning to telemedicine to provide care to patients in remote or underserved areas.\n",
      "Telemedicine, using technology to provide healthcare services remotely, has recently gained popularity. With advancements in communication and medical technology, it has become increasingly possible for doctors and patients to connect and interact from anywhere in the world. This has led to the rise of telemedicine, which has the potential to revolutionize the way healthcare is delivered.#Telemedicine\n",
      "The increasing focus on preventative healthcare has also driven the rise of telemedicine. As more and more people become aware of the importance of staying healthy, they are looking for ways to prevent illness and maintain their health. Telemedicine allows people to monitor their health and get advice from healthcare providers without traveling to a clinic or hospital.\n",
      "Improved access to healthcare: One of the biggest challenges in the healthcare industry is the unequal distribution of medical resources, with many remote and rural areas lacking access to quality care. Telemedicine can help bridge this gap by allowing patients in these underserved areas to connect with healthcare providers worldwide. This can give people access to specialized medical care that they would otherwise not be able to receive, improving their health and overall well-being.#Healthcare\n",
      "Greater convenience and flexibility: Telemedicine also offers a level of convenience and flexibility that is impossible with traditional in-person medical visits. Patients can consult with their healthcare providers from the comfort of their own homes, saving time and money on travel. This is particularly beneficial for individuals who have mobility issues or who live in areas with limited access to medical facilities.\n",
      "Reduced healthcare costs: By enabling patients to receive care remotely, telemedicine can help reduce the overall cost of healthcare. This is because telemedicine visits are generally less expensive than in-person visits and can help prevent the need for more costly interventions, such as hospitalizations. As a result, telemedicine has the potential to make healthcare more affordable for patients and healthcare providers alike.#Costs\n",
      "Enhanced healthcare outcomes: Telemedicine can also improve patients’ quality of care. By allowing healthcare providers to access medical records and other important information remotely, telemedicine can help ensure that patients receive the most appropriate care for their needs. This can lead to better health outcomes and a higher quality of life for patients.#Enhanced\n",
      "More significant job opportunities in the healthcare industry like healthcare sector, including for healthcare providers, support staff, and technology experts. This can provide a boost to local economies and help to reduce unemployment.#Jobs\n",
      "Better care for chronic conditions: Telemedicine can help patients with chronic conditions to manage their health more effectively, allowing them to receive regular check-ups and treatment without the need to travel long distances. This can improve the quality of life for these individuals and reduce the risk of complications from their conditions.\n",
      "Increased flexibility for patients and healthcare providers: Telemedicine allows patients and providers to schedule consultations at times convenient for them, improving the overall flexibility of the healthcare system. This can help to reduce wait times and improve patient satisfaction.\n",
      "Increased accessibility: Telemedicine makes healthcare more accessible to people living in rural and remote areas, who may not have easy access to medical facilities. With telemedicine, patients can consult with doctors and specialists from their homes using their phones, computers, or other devices. This means that more people will be able to get the medical care they need, regardless of where they live.\n",
      "Reduced costs: One of the most significant benefits of telemedicine is that it can reduce healthcare costs. Patients can avoid the costs of travel, accommodation, and time off work associated with in-person visits to the doctor. Telemedicine can also help reduce the cost of medical procedures, as doctors can remotely monitor patients and provide care without needing hospitalization.\n",
      "Improved health outcomes: By providing patients with access to medical care from the comfort of their own homes, telemedicine can help improve their health outcomes. For example, patients with chronic conditions can use telemedicine to manage their symptoms and reduce the risk of complications. Telemedicine can also help prevent the spread of infectious diseases, as patients can receive care without contacting other people.\n",
      "Increased convenience: Telemedicine offers a more convenient option for patients who need medical care. With telemedicine, patients can schedule appointments and consult with doctors at a convenient time without having to take time off work or arrange transportation. This can be especially beneficial for people with busy schedules or mobility issues.\n",
      "Telemedicine, or the use of electronic communication and information technologies to provide healthcare services remotely, has the potential to significantly impact the way we receive and deliver medical care. In the next 20 years, telemedicine will likely become an increasingly important part of our healthcare system, providing numerous benefits and improving the livelihood of many people.\n",
      "The benefits of telemedicine are numerous. For patients, it provides convenient access to medical care without traveling long distances. It also allows for faster diagnosis and treatment and improved continuity of care. For healthcare providers, telemedicine can reduce the strain on already-overburdened healthcare systems and make providing care to patients in remote areas more accessible.\n",
      "The rise of telemedicine will likely significantly impact how we receive medical care in the future. By 2040, it is estimated that telemedicine will be a standard part of the healthcare landscape, with more and more doctors using it to diagnose and treat patients remotely.\n",
      "One of the key drivers of the rise of telemedicine has been the increasing availability of high-speed internet and improved video conferencing tools. In the past, the video and audio quality of telemedicine consultations were often poor, making it difficult for doctors to diagnose and treat patients accurately. However, with faster internet speeds and better video conferencing tools, telemedicine consultations are just as good as in-person visits.\n",
      "Telemedicine makes healthcare more accessible. With telemedicine, patients no longer travel long distances to see a doctor or specialist. Instead, they can receive care from the comfort of their own home. This is particularly beneficial for people living in rural areas, where access to healthcare can be limited.\n",
      "Another factor contributing to the rise of telemedicine is the increasing demand for healthcare services. With the global population growing and people living longer, the need for medical care will only continue to increase. Telemedicine offers a way for healthcare providers to meet this demand by allowing them to provide care to more patients in a shorter amount of time.\n",
      "Another substantial impact of telemedicine is that it can improve patient quality of care. By using technology to connect patients with doctors, telemedicine can help ensure patients receive the best care possible. For example, a doctor can use video conferencing to consult with a specialist or use remote monitoring devices to track a patient’s vital signs. This can help doctors make more informed decisions and provide better treatment.\n",
      "Telemedicine also has the potential to reduce healthcare costs. By allowing patients to receive care from their homes, telemedicine can reduce the need for expensive hospital visits. In addition, telemedicine can help prevent the spread of infectious diseases, reducing healthcare costs by avoiding hospitalization.\n",
      "One of the critical impacts of telemedicine is that it can improve the patient experience. By providing patients with the ability to receive care from the comfort of their own homes, telemedicine can help reduce anxiety and stress. In addition, telemedicine can make it easier for patients to communicate with their doctors and get the answers they need.\n",
      "Another way in which telemedicine will impact people’s livelihoods is by making healthcare more efficient. By allowing doctors to diagnose and treat patients remotely, telemedicine will help reduce the time patients spend waiting to see a doctor. It will also help reduce doctors’ spending on administrative tasks, freeing them up to see more patients and provide better care.\n",
      "One major factor driving the rise of telemedicine is the increasing use of technology in healthcare. With advances in communication and medical technology, it is now possible for doctors and other healthcare providers to remotely diagnose and treat patients using video conferencing, remote monitoring, and other forms of telemedicine. This not only allows for more efficient and convenient healthcare delivery but also enables healthcare providers to offer specialized care to patients who otherwise may not have access to it.\n",
      "Another factor contributing to the rise of telemedicine is the need for improved access to healthcare. Patients may travel long distances in many rural and underserved areas; patients may travel long distances to access medical care. Telemedicine can bridge this gap by allowing patients in these areas to consult with healthcare providers remotely. This not only improves access to healthcare but also reduces the need for patients to travel long distances, saving them time and money.\n",
      "Finally, telemedicine’s rise is also driven by the growing trend of remote work. As more and more people work from home or other remote locations, the need for convenient and accessible healthcare is increasing. Telemedicine allows employees to consult with healthcare providers from their homes, reducing the need for them to take time off work to visit a doctor or other healthcare provider.\n",
      "Overall, the rise of telemedicine by 2040 is a result of a combination of factors, including the increasing use of technology in healthcare, the need for improved access to healthcare, and the growing trend of remote work. As these factors continue to evolve, likely, telemedicine will likely become an increasingly important part of the healthcare landscape.\n",
      "However, the rise of telemedicine is also likely to present some challenges. For example, telemedicine consultations may only be suitable for some medical conditions, and some patients may still need to see a doctor. Additionally, telemedicine may put some jobs at risk, such as receptionists and other administrative staff in healthcare facilities.\n"
     ]
    }
   ],
   "source": [
    "# now you have all the div content run a loop and geting all the div part which starts with p tag \n",
    "\n",
    "for div in div_parts:\n",
    "    elements_inside_div = div.find_all('p')  # Example: Searching for paragraph tags 'p' inside each div\n",
    "    for element in elements_inside_div:\n",
    "        print(element.get_text())  # Print or process the elements found inside each div\n"
   ]
  },
  {
   "cell_type": "code",
   "execution_count": 100,
   "id": "04dfcd27",
   "metadata": {},
   "outputs": [],
   "source": [
    "\n",
    "def final_con(i):\n",
    "    url = i\n",
    "\n",
    "    response = requests.get(url) # sending the request to get the content\n",
    "\n",
    "    soup = BeautifulSoup(response.text, 'html.parser') # got the content and converted into soup object \n",
    "    \n",
    "    div_parts=soup.find_all('div',class_ = \"td-post-content tagdiv-type\") \n",
    "    \n",
    "    # now you have all the div content run a loop and geting all the div part which starts with p tag \n",
    "    content = ' '\n",
    "    for div in div_parts:\n",
    "        elements_inside_div = div.find_all('p')  # Example: Searching for paragraph tags 'p' inside each div\n",
    "        for element in elements_inside_div:\n",
    "            content = content  + element.get_text() + ' ' "
   ]
  },
  {
   "cell_type": "code",
   "execution_count": 104,
   "id": "fcbf842c",
   "metadata": {
    "scrolled": true
   },
   "outputs": [
    {
     "name": "stderr",
     "output_type": "stream",
     "text": [
      "\n",
      "KeyboardInterrupt\n",
      "\n"
     ]
    }
   ],
   "source": [
    "df.URL.apply(lambda x: final_con(x))"
   ]
  },
  {
   "cell_type": "code",
   "execution_count": 114,
   "id": "ad54f6e5",
   "metadata": {},
   "outputs": [],
   "source": [
    "\n",
    "def final_con(i):\n",
    "    url = i\n",
    "\n",
    "    response = requests.get(url) # sending the request to get the content\n",
    "\n",
    "    soup = BeautifulSoup(response.text, 'html.parser') # got the content and converted into soup object \n",
    "    \n",
    "    div_parts=soup.find_all('div',class_ = \"td-post-content tagdiv-type\")\n",
    "    #div_parts=soup.find_all('div', class_=\"tdb-block-inner td-fix-index\")\n",
    "    \n",
    "    # now you have all the div content run a loop and geting all the div part which starts with p tag \n",
    "    content = ' '\n",
    "    for div in div_parts:\n",
    "        elements_inside_div = div.find_all('p')  # Example: Searching for paragraph tags 'p' inside each div\n",
    "        for element in elements_inside_div:\n",
    "            content = content  + element.get_text() + ' ' \n",
    "    return content   "
   ]
  },
  {
   "cell_type": "code",
   "execution_count": 122,
   "id": "151b86c2",
   "metadata": {},
   "outputs": [
    {
     "data": {
      "text/plain": [
       "0       Telemedicine, the use of technology to diagno...\n",
       "1       The rise of e-health, or the use of electroni...\n",
       "2                                                       \n",
       "3       “More gains on quality, affordability and acc...\n",
       "4       “More gains on quality, affordability and acc...\n",
       "                             ...                        \n",
       "109     Before jumping on the topic I would like to g...\n",
       "110     As the coronavirus spreads around the world a...\n",
       "111     From Alibaba to Ping An and Google to Ford, c...\n",
       "112     When\\nthe British ruled India, many Indians\\n...\n",
       "113     The business of business is no longer to do j...\n",
       "Name: URL, Length: 114, dtype: object"
      ]
     },
     "execution_count": 122,
     "metadata": {},
     "output_type": "execute_result"
    }
   ],
   "source": [
    "df.URL.apply(lambda x: final_con(x))"
   ]
  },
  {
   "cell_type": "markdown",
   "id": "7973e20c",
   "metadata": {},
   "source": [
    "# The working code"
   ]
  },
  {
   "cell_type": "code",
   "execution_count": 24,
   "id": "712af657",
   "metadata": {},
   "outputs": [
    {
     "name": "stdout",
     "output_type": "stream",
     "text": [
      "Rise of e-health and its impact on humans by the year 2030\n",
      "2020 was the year the world was ravaged by the SarsCov2 virus. This notorious virus brought about a pandemic that would go on to change the course of humanity.  From that point forth daily lives of everyone across the world changed. With widespread stringent lockdowns, the entire world came to a sharp halt. Not only was the general populace affected, but the pandemic also affected all industries. The pandemic did not even spare critical industries, like healthcare and security. While these industries were required to function for the benefit of society, their daily operations changed drastically. But just as human nature prevails, we rose from this adversity. Post pandemic era saw the rise of new technologies that could aid overcome the restrictions put forth by the pandemic. In this article, we will specifically focus on the healthcare industries, innovations done in the industry, and the impact of those innovations on humans by 2030. Lockdowns initiated to curb the pandemic caused people to stay in their homes at all times. The exception to this was the medical staff who acted as our first line of defense against the pandemic. They not only had to deal with the pandemic but also had to cater to patients suffering from various other ailments. While people were restricted to go out, they still required medical consultation for their issues. This conundrum led to the rise of imparting healthcare facilities over electronic media. Healthcare workers utilized technologies such as video calls and virtual meetings to reach out to the needy. Now, these practices are also known as ‘e-Health’.  As the pandemic raged on, society saw numerous initiatives in the e-health sector. Government-led initiatives like ‘eSanjeevani OPD’ brought government OPD facilities directly to people’s homes.  It should be noted that e-health is not just limited to providing patients with virtual meetings. It encompasses every technology that transitions the traditional healthcare sector into a more accessible electronic form. Keeping with this trend we also saw the use of the Internet of Things (IoT)  to build the Internet of Medical Things (IoMT). These internet-connected devices allowed remote monitoring and controlling of facilities imparted to patients.  With the onset of 5G technology, the use of  IoMT has flourished. Some of these solutions include smart devices that monitor an individual’s health metrics. These devices are also capable of sending out alerts in case the metrics do not fall under the acceptable range. Furthermore with the advancements in artificial intelligence, machine learning, and deep learning technologies these devices do more than just report. With the help of these technologies, IoMT devices are now capable of intelligently performing actions that keep the metric of a patient in check. Another interesting technology that has found its use in the healthcare industry is ‘Blockchain technology. The technology used as the base for cryptocurrency can also be used to maintain immutable records of patients. Such blockchain solutions are already finding their way into the market Pranacare, is one such India start-up. It is a  platform for doctors driven by blockchain and AI. It offers tools to help dieticians, diabetologists, and cardiac specialists manage their customers and data. It also maintains, tracks, and records patient data and offers a decentralized ledger. The armchair is another organization that combines blockchain technology and the health industry.  The armchair provides an Ethereum-based platform for electronic health records storage. The blockchain is a hybrid public/private network that analyses data using Artificial Intelligence. Will use Ethereum Smart Contracts with the Hyperledger Sawtooth platform to offer a safe method for both patients and providers to access patient data. Existing e-health services also saw a rise during the pandemic. For example, telemedicine visits increased from 1-2% of ambulatory care visits before to the pandemic to 30% of all visits. With customer readiness to adopt telehealth climbing to 66%. According to health systems, up to 40% of primary care appointments might be performed remotely. With the increased penetration of the internet in our daily lives, it has been now critical for companies and start-ups to capture this segment. Keeping in with this agenda, the market has seen a proliferation of companies providing e-health services. Consequently, this industry has also seen an increase.in investments. Between 2019 and 2020, investments in telemedicine solutions quadrupled, rising from $1.1 billion to $3.1 billion. In 2020, total funding for remote patient monitoring (RPM) solutions will have more than quadrupled, rising from $417 million to $941 million. According to e-healthcare investors, RPM solutions for chronic care management are expected to become more popular in the next coming years. Analysts predict that eHealth will increase at a compound annual growth rate of 16.1% from 2022 to 2030, with the eHealth segment expected to generate $61.4 billion in sales in 2023 alone. China is expected to lead the global market followed by the USA. Overall, the e-Health industry is expected to see a boom in investments, providing early investors with a large return for their investments. While e-Health seems like the probable future for the entire healthcare industry, special attention must be given to the security aspect of these services. Being connected to the internet and being made available to all also attracts a lot of nefarious elements. Cybercriminals continually target the healthcare industry. The ransomware attack on AIIMS New Delhi is a prime example of this. Cybercriminals were able to cripple AIIMS systems. For over two weeks this caused massive chaos and confusion among the general public. The pandemic itself saw a large number of healthcare-themed smishing and vishing attacks. Their major motive was to exploit the insecure and scared public and make use of the pandemic to extort money. Every example of a cyberattack on a healthcare industry has always led to massive chaos. Healthcare is considered a critical industry, thereby it needs to be adequately protected. With e-Health on the rise, by 2023 society can also expect a lot of jobs to open in the sector of cyber security in the healthcare industry. e-Health solutions are the need of the hour. Integrating e-Health solutions with up-and-coming technologies can effectively ensure inclusivity for all. Such solutions can bring healthcare facilities to the remotest parts of the earth. With current trends in sight, 2030 is expected to have a large market share occupied by e-Health solutions. Early investors can expect high returns by 2030. With this in mind, special focus should also be given to securing the ever-growing e-health industry.\n"
     ]
    }
   ],
   "source": [
    "\n",
    "url = df.URL[2]\n",
    "\n",
    "response = requests.get(url) # sending the request to get the content\n",
    "\n",
    "soup = BeautifulSoup(response.text, 'html.parser') # got the content and converted into soup object \n",
    "\n",
    "# header = soup.find('h1')\n",
    "# print(header.text)\n",
    "# print(' ')\n",
    "\n",
    "div_parts=soup.find_all('div',class_ = \"td-post-content tagdiv-type\")\n",
    "    #div_parts=soup.find_all('div', class_=\"tdb-block-inner td-fix-index\")\n",
    "    \n",
    "    # now you have all the div content run a loop and geting all the div part which starts with p tag \n",
    "content = ' '\n",
    "for div in div_parts:\n",
    "    elements_inside_div = div.find_all('p')  # Example: Searching for paragraph tags 'p' inside each div\n",
    "    for element in elements_inside_div:\n",
    "        content = content  + element.get_text() + ' ' \n",
    "#print(content)   \n",
    "if content == ' ':\n",
    "    #div_parts=soup.find_all('div',class_ = \"td-post-content tagdiv-type\")\n",
    "    div_parts=soup.find_all('div', class_=\"tdb-block-inner td-fix-index\")\n",
    "    \n",
    "    # now you have all the div content run a loop and geting all the div part which starts with p tag \n",
    "content = ' '\n",
    "for div in div_parts:\n",
    "    elements_inside_div = div.find_all('p')  # Example: Searching for paragraph tags 'p' inside each div\n",
    "    for element in elements_inside_div:\n",
    "        content = content  + element.get_text() + ' '\n",
    "content = header.text +'\\n' + content.strip() # adding the header and the content together \n",
    "print(content)\n"
   ]
  },
  {
   "cell_type": "code",
   "execution_count": 25,
   "id": "9696c942",
   "metadata": {},
   "outputs": [
    {
     "name": "stdout",
     "output_type": "stream",
     "text": [
      "Content has been saved to extracted_content.txt\n"
     ]
    }
   ],
   "source": [
    "# Your existing code to fetch content...\n",
    "\n",
    "# Assuming 'content' has the extracted text, proceed to save it in a text file\n",
    "if content.strip():  # Check if content is not empty or just whitespace\n",
    "    with open('extracted_content.txt', 'w', encoding='utf-8') as file:\n",
    "        file.write(content)\n",
    "        print(\"Content has been saved to extracted_content.txt\")\n",
    "else:\n",
    "    print(\"No content found to save.\")\n",
    "\n"
   ]
  },
  {
   "cell_type": "code",
   "execution_count": 19,
   "id": "998e2af4",
   "metadata": {},
   "outputs": [
    {
     "data": {
      "text/plain": [
       "'deepukumar'"
      ]
     },
     "execution_count": 19,
     "metadata": {},
     "output_type": "execute_result"
    }
   ],
   "source": [
    "'deepu' + 'kumar'"
   ]
  },
  {
   "cell_type": "code",
   "execution_count": null,
   "id": "4312ff0e",
   "metadata": {},
   "outputs": [],
   "source": []
  }
 ],
 "metadata": {
  "kernelspec": {
   "display_name": "Python 3 (ipykernel)",
   "language": "python",
   "name": "python3"
  },
  "language_info": {
   "codemirror_mode": {
    "name": "ipython",
    "version": 3
   },
   "file_extension": ".py",
   "mimetype": "text/x-python",
   "name": "python",
   "nbconvert_exporter": "python",
   "pygments_lexer": "ipython3",
   "version": "3.9.12"
  }
 },
 "nbformat": 4,
 "nbformat_minor": 5
}
