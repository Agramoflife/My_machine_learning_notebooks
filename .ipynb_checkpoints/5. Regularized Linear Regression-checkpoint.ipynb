{
 "cells": [
  {
   "cell_type": "markdown",
   "id": "262cb5c6",
   "metadata": {},
   "source": [
    "# Regularized Linear regression"
   ]
  },
  {
   "cell_type": "markdown",
   "id": "5c027aee",
   "metadata": {},
   "source": [
    "the value of the parameters defined the importance of that feature in the dataset "
   ]
  },
  {
   "cell_type": "markdown",
   "id": "e0b086f8",
   "metadata": {},
   "source": [
    "Consider this in every epoch the machine decrease error and propogates to overfitting there will be a time time where the error will be superless this means the model has become complex now to reduce the complexity we add a penalty term(error) to decrease the comlexity of the model"
   ]
  },
  {
   "cell_type": "markdown",
   "id": "89aafbde",
   "metadata": {},
   "source": [
    "**Regularization is a technique to solve for overfitting of machine learning models** in other words it is a technique to reduce the complexity of the model.\n",
    "\n",
    "In regularization we decrease the magnitude of the parameters which decrease the slope of the line and makes it towards being horizontal"
   ]
  },
  {
   "cell_type": "markdown",
   "id": "a200bb05",
   "metadata": {},
   "source": [
    "Is it true that the L1 term in Lasso has the following purposes: performing feature selection, compensating for overfitting, and smoothing?"
   ]
  },
  {
   "cell_type": "markdown",
   "id": "999315b8",
   "metadata": {},
   "source": [
    "In this Lasso and Ridge regression as alpha value increases, the slope of the regression line reduces and becomes horizontal.\n",
    "\n",
    "Yes that is true "
   ]
  },
  {
   "cell_type": "markdown",
   "id": "5624ef27",
   "metadata": {},
   "source": [
    "In Ridge regression, as the regularization parameter increases, the regression coefficients decrease?\n",
    "\n",
    "False"
   ]
  },
  {
   "cell_type": "markdown",
   "id": "b9b4744f",
   "metadata": {},
   "source": [
    "Which of the following methods does not have closed form solution for its coefficients? \n",
    "\n",
    "\n",
    "Lasso Regression"
   ]
  },
  {
   "cell_type": "markdown",
   "id": "d1e2aa82",
   "metadata": {},
   "source": [
    "For Lasso Regression, if the regularization parameter = 0, what does it mean?\n",
    "\n",
    "The loss function is as same as the ordinary least square loss function"
   ]
  },
  {
   "cell_type": "markdown",
   "id": "b07b39fe",
   "metadata": {},
   "source": [
    "Which of the following is true about regularized regression?\n",
    "\n",
    "Can help with bias trade-off"
   ]
  },
  {
   "cell_type": "markdown",
   "id": "e7e111d5",
   "metadata": {},
   "source": [
    "##  2"
   ]
  },
  {
   "cell_type": "markdown",
   "id": "784c8e49",
   "metadata": {},
   "source": [
    "What’s the penalty term for the Ridge regression?\n",
    "\n",
    "Is it true that the L1 term in Lasso has the following purposes: performing feature selection, compensating for overfitting, and smoothing?\n",
    "    \n",
    "With Lasso Regression the influence of the hyper parameter lambda, as lambda tends to zero the solution approaches to _________________\n",
    "    \n",
    "In Ridge regression, A hyper parameter is used called “_____________” that controls the weighting of the penalty to the loss function.\n",
    "    \n",
    "For Lasso Regression, if the regularization parameter is very high, which options are true?\n",
    "    \n",
    "- Can be used to select important features of a dataset\n",
    "  Shrinks the coefficients of less important features to exactly 0\n",
    "\n",
    "Which of the following of the coefficients is added as the penalty term to the loss function in Lasso regression?\n",
    "\n"
   ]
  },
  {
   "cell_type": "markdown",
   "id": "0bd5f1dc",
   "metadata": {},
   "source": [
    "# Let's starts "
   ]
  },
  {
   "cell_type": "markdown",
   "id": "afb9e077",
   "metadata": {},
   "source": [
    "It is a method to decrease the complexity of the model by introducing a penelty term \n"
   ]
  },
  {
   "cell_type": "code",
   "execution_count": null,
   "id": "6ce32c85",
   "metadata": {},
   "outputs": [],
   "source": [
    "import numpy as np\n",
    "import pandas as pd\n",
    "import matplotlib.pyplot as plt\n",
    "from sklearn.datasets import load_boston\n",
    "from sklearn.linear_model import Ridge, RidgeCV\n",
    "from sklearn.linear_model import Lasso, LassoCV\n",
    "from sklearn.linear_model import LinearRegression\n",
    "from sklearn.preprocessing import StandardScaler\n",
    "from sklearn.model_selection import train_test_split"
   ]
  },
  {
   "cell_type": "code",
   "execution_count": 1,
   "id": "a303164e",
   "metadata": {},
   "outputs": [],
   "source": [
    "import numpy as np\n",
    "import pandas as pd\n",
    "from numpy import math\n",
    "\n",
    "from sklearn.datasets import load_boston\n",
    "from sklearn.linear_model import Ridge, RidgeCV\n",
    "from sklearn.linear_model import Lasso, LassoCV\n",
    "from sklearn.linear_model import LinearRegression\n",
    "from sklearn.preprocessing import StandardScaler\n",
    "from sklearn.model_selection import train_test_split\n",
    "from sklearn.metrics import mean_squared_error\n",
    "\n",
    "import matplotlib.pyplot as plt\n",
    "import seaborn as sns"
   ]
  },
  {
   "cell_type": "code",
   "execution_count": 2,
   "id": "fcabeb7e",
   "metadata": {},
   "outputs": [
    {
     "name": "stderr",
     "output_type": "stream",
     "text": [
      "C:\\ProgramData\\Anaconda3\\lib\\site-packages\\sklearn\\utils\\deprecation.py:87: FutureWarning: Function load_boston is deprecated; `load_boston` is deprecated in 1.0 and will be removed in 1.2.\n",
      "\n",
      "    The Boston housing prices dataset has an ethical problem. You can refer to\n",
      "    the documentation of this function for further details.\n",
      "\n",
      "    The scikit-learn maintainers therefore strongly discourage the use of this\n",
      "    dataset unless the purpose of the code is to study and educate about\n",
      "    ethical issues in data science and machine learning.\n",
      "\n",
      "    In this special case, you can fetch the dataset from the original\n",
      "    source::\n",
      "\n",
      "        import pandas as pd\n",
      "        import numpy as np\n",
      "\n",
      "\n",
      "        data_url = \"http://lib.stat.cmu.edu/datasets/boston\"\n",
      "        raw_df = pd.read_csv(data_url, sep=\"\\s+\", skiprows=22, header=None)\n",
      "        data = np.hstack([raw_df.values[::2, :], raw_df.values[1::2, :2]])\n",
      "        target = raw_df.values[1::2, 2]\n",
      "\n",
      "    Alternative datasets include the California housing dataset (i.e.\n",
      "    :func:`~sklearn.datasets.fetch_california_housing`) and the Ames housing\n",
      "    dataset. You can load the datasets as follows::\n",
      "\n",
      "        from sklearn.datasets import fetch_california_housing\n",
      "        housing = fetch_california_housing()\n",
      "\n",
      "    for the California housing dataset and::\n",
      "\n",
      "        from sklearn.datasets import fetch_openml\n",
      "        housing = fetch_openml(name=\"house_prices\", as_frame=True)\n",
      "\n",
      "    for the Ames housing dataset.\n",
      "    \n",
      "  warnings.warn(msg, category=FutureWarning)\n"
     ]
    }
   ],
   "source": [
    "boston = load_boston()"
   ]
  },
  {
   "cell_type": "code",
   "execution_count": 3,
   "id": "e4897776",
   "metadata": {},
   "outputs": [
    {
     "data": {
      "text/plain": [
       "2"
      ]
     },
     "execution_count": 3,
     "metadata": {},
     "output_type": "execute_result"
    }
   ],
   "source": [
    "boston.data.ndim"
   ]
  },
  {
   "cell_type": "code",
   "execution_count": 4,
   "id": "c6597b31",
   "metadata": {},
   "outputs": [
    {
     "ename": "SyntaxError",
     "evalue": "invalid syntax (2940557327.py, line 1)",
     "output_type": "error",
     "traceback": [
      "\u001b[1;36m  Input \u001b[1;32mIn [4]\u001b[1;36m\u001b[0m\n\u001b[1;33m    Boston_data is  a 2d array lets extract the required data from the 2d array and make it into a dataframe\u001b[0m\n\u001b[1;37m                      ^\u001b[0m\n\u001b[1;31mSyntaxError\u001b[0m\u001b[1;31m:\u001b[0m invalid syntax\n"
     ]
    }
   ],
   "source": [
    "Boston_data is  a 2d array lets extract the required data from the 2d array and make it into a dataframe"
   ]
  },
  {
   "cell_type": "code",
   "execution_count": 5,
   "id": "85fa13e8",
   "metadata": {},
   "outputs": [
    {
     "data": {
      "text/html": [
       "<div>\n",
       "<style scoped>\n",
       "    .dataframe tbody tr th:only-of-type {\n",
       "        vertical-align: middle;\n",
       "    }\n",
       "\n",
       "    .dataframe tbody tr th {\n",
       "        vertical-align: top;\n",
       "    }\n",
       "\n",
       "    .dataframe thead th {\n",
       "        text-align: right;\n",
       "    }\n",
       "</style>\n",
       "<table border=\"1\" class=\"dataframe\">\n",
       "  <thead>\n",
       "    <tr style=\"text-align: right;\">\n",
       "      <th></th>\n",
       "      <th>CRIM</th>\n",
       "      <th>ZN</th>\n",
       "      <th>INDUS</th>\n",
       "      <th>CHAS</th>\n",
       "      <th>NOX</th>\n",
       "      <th>RM</th>\n",
       "      <th>AGE</th>\n",
       "    </tr>\n",
       "  </thead>\n",
       "  <tbody>\n",
       "    <tr>\n",
       "      <th>0</th>\n",
       "      <td>0.00632</td>\n",
       "      <td>18.0</td>\n",
       "      <td>2.31</td>\n",
       "      <td>0.0</td>\n",
       "      <td>0.538</td>\n",
       "      <td>6.575</td>\n",
       "      <td>65.2</td>\n",
       "    </tr>\n",
       "    <tr>\n",
       "      <th>1</th>\n",
       "      <td>0.02731</td>\n",
       "      <td>0.0</td>\n",
       "      <td>7.07</td>\n",
       "      <td>0.0</td>\n",
       "      <td>0.469</td>\n",
       "      <td>6.421</td>\n",
       "      <td>78.9</td>\n",
       "    </tr>\n",
       "    <tr>\n",
       "      <th>2</th>\n",
       "      <td>0.02729</td>\n",
       "      <td>0.0</td>\n",
       "      <td>7.07</td>\n",
       "      <td>0.0</td>\n",
       "      <td>0.469</td>\n",
       "      <td>7.185</td>\n",
       "      <td>61.1</td>\n",
       "    </tr>\n",
       "    <tr>\n",
       "      <th>3</th>\n",
       "      <td>0.03237</td>\n",
       "      <td>0.0</td>\n",
       "      <td>2.18</td>\n",
       "      <td>0.0</td>\n",
       "      <td>0.458</td>\n",
       "      <td>6.998</td>\n",
       "      <td>45.8</td>\n",
       "    </tr>\n",
       "    <tr>\n",
       "      <th>4</th>\n",
       "      <td>0.06905</td>\n",
       "      <td>0.0</td>\n",
       "      <td>2.18</td>\n",
       "      <td>0.0</td>\n",
       "      <td>0.458</td>\n",
       "      <td>7.147</td>\n",
       "      <td>54.2</td>\n",
       "    </tr>\n",
       "  </tbody>\n",
       "</table>\n",
       "</div>"
      ],
      "text/plain": [
       "      CRIM    ZN  INDUS  CHAS    NOX     RM   AGE\n",
       "0  0.00632  18.0   2.31   0.0  0.538  6.575  65.2\n",
       "1  0.02731   0.0   7.07   0.0  0.469  6.421  78.9\n",
       "2  0.02729   0.0   7.07   0.0  0.469  7.185  61.1\n",
       "3  0.03237   0.0   2.18   0.0  0.458  6.998  45.8\n",
       "4  0.06905   0.0   2.18   0.0  0.458  7.147  54.2"
      ]
     },
     "execution_count": 5,
     "metadata": {},
     "output_type": "execute_result"
    }
   ],
   "source": [
    "# extract input and response variables (housing prices), \n",
    "# meaning of each variable is in the link above\n",
    "feature_num = 7\n",
    "boston = load_boston()\n",
    "X = boston.data[:, :feature_num]\n",
    "y = boston.target\n",
    "features = boston.feature_names[:feature_num]\n",
    "pd.DataFrame(X, columns = features).head()"
   ]
  },
  {
   "cell_type": "code",
   "execution_count": 6,
   "id": "63eff81c",
   "metadata": {},
   "outputs": [
    {
     "data": {
      "text/html": [
       "<div>\n",
       "<style scoped>\n",
       "    .dataframe tbody tr th:only-of-type {\n",
       "        vertical-align: middle;\n",
       "    }\n",
       "\n",
       "    .dataframe tbody tr th {\n",
       "        vertical-align: top;\n",
       "    }\n",
       "\n",
       "    .dataframe thead th {\n",
       "        text-align: right;\n",
       "    }\n",
       "</style>\n",
       "<table border=\"1\" class=\"dataframe\">\n",
       "  <thead>\n",
       "    <tr style=\"text-align: right;\">\n",
       "      <th></th>\n",
       "      <th>CRIM</th>\n",
       "      <th>ZN</th>\n",
       "      <th>INDUS</th>\n",
       "      <th>CHAS</th>\n",
       "      <th>NOX</th>\n",
       "      <th>RM</th>\n",
       "      <th>AGE</th>\n",
       "    </tr>\n",
       "  </thead>\n",
       "  <tbody>\n",
       "    <tr>\n",
       "      <th>0</th>\n",
       "      <td>0.00632</td>\n",
       "      <td>18.0</td>\n",
       "      <td>2.31</td>\n",
       "      <td>0.0</td>\n",
       "      <td>0.538</td>\n",
       "      <td>6.575</td>\n",
       "      <td>65.2</td>\n",
       "    </tr>\n",
       "    <tr>\n",
       "      <th>1</th>\n",
       "      <td>0.02731</td>\n",
       "      <td>0.0</td>\n",
       "      <td>7.07</td>\n",
       "      <td>0.0</td>\n",
       "      <td>0.469</td>\n",
       "      <td>6.421</td>\n",
       "      <td>78.9</td>\n",
       "    </tr>\n",
       "    <tr>\n",
       "      <th>2</th>\n",
       "      <td>0.02729</td>\n",
       "      <td>0.0</td>\n",
       "      <td>7.07</td>\n",
       "      <td>0.0</td>\n",
       "      <td>0.469</td>\n",
       "      <td>7.185</td>\n",
       "      <td>61.1</td>\n",
       "    </tr>\n",
       "    <tr>\n",
       "      <th>3</th>\n",
       "      <td>0.03237</td>\n",
       "      <td>0.0</td>\n",
       "      <td>2.18</td>\n",
       "      <td>0.0</td>\n",
       "      <td>0.458</td>\n",
       "      <td>6.998</td>\n",
       "      <td>45.8</td>\n",
       "    </tr>\n",
       "    <tr>\n",
       "      <th>4</th>\n",
       "      <td>0.06905</td>\n",
       "      <td>0.0</td>\n",
       "      <td>2.18</td>\n",
       "      <td>0.0</td>\n",
       "      <td>0.458</td>\n",
       "      <td>7.147</td>\n",
       "      <td>54.2</td>\n",
       "    </tr>\n",
       "  </tbody>\n",
       "</table>\n",
       "</div>"
      ],
      "text/plain": [
       "      CRIM    ZN  INDUS  CHAS    NOX     RM   AGE\n",
       "0  0.00632  18.0   2.31   0.0  0.538  6.575  65.2\n",
       "1  0.02731   0.0   7.07   0.0  0.469  6.421  78.9\n",
       "2  0.02729   0.0   7.07   0.0  0.469  7.185  61.1\n",
       "3  0.03237   0.0   2.18   0.0  0.458  6.998  45.8\n",
       "4  0.06905   0.0   2.18   0.0  0.458  7.147  54.2"
      ]
     },
     "execution_count": 6,
     "metadata": {},
     "output_type": "execute_result"
    }
   ],
   "source": [
    "feature_num = 7\n",
    "\n",
    "X = boston.data[:,:feature_num]\n",
    "y = boston.target\n",
    "features = boston.feature_names[:feature_num]\n",
    "pd.DataFrame(X,columns =  features).head()"
   ]
  },
  {
   "cell_type": "code",
   "execution_count": 7,
   "id": "bd863e82",
   "metadata": {},
   "outputs": [],
   "source": [
    "# this was just for our visualization thats it "
   ]
  },
  {
   "cell_type": "code",
   "execution_count": 74,
   "id": "da002e4e",
   "metadata": {},
   "outputs": [],
   "source": [
    "# spliting the data\n",
    "X_train,X_test,y_train,y_test = train_test_split(X, y, test_size = 0.2, random_state = 2)\n",
    "\n",
    "#transforming\n",
    "std = StandardScaler()\n",
    "X_train_std = std.fit_transform(X_train)\n",
    "X_test_std = std.transform(X_test)"
   ]
  },
  {
   "cell_type": "code",
   "execution_count": 9,
   "id": "3dbdbe32",
   "metadata": {},
   "outputs": [
    {
     "name": "stdout",
     "output_type": "stream",
     "text": [
      "[-1.51276656  0.36105385 -0.91733106  1.06385188 -0.62817387  4.71557031\n",
      " -0.73545058]\n",
      "22.52227722772274\n",
      "34.802509505001375\n"
     ]
    }
   ],
   "source": [
    "# first lets run ridge for only one alpha\n",
    "ridge = Ridge(alpha = 1,fit_intercept = True)\n",
    "ridge.fit(X_train_std,y_train)\n",
    "print(ridge.coef_)\n",
    "print(ridge.intercept_)\n",
    "y_train_predict = ridge.predict(X_train_std)\n",
    "y_test_predict = ridge.predict(X_test_std)\n",
    "mse = mean_squared_error(y_train,y_train_predict)\n",
    "print(mse)"
   ]
  },
  {
   "cell_type": "code",
   "execution_count": 10,
   "id": "6a942560",
   "metadata": {},
   "outputs": [
    {
     "name": "stdout",
     "output_type": "stream",
     "text": [
      "Different values of alpha[   10   100  1000 10000]\n"
     ]
    }
   ],
   "source": [
    "# we will run the ridge regression for different alpha values\n",
    "\n",
    "alphas = 10**np.arange(1,5)\n",
    "print(f'Different values of alpha{alphas}')\n",
    "\n",
    "ridge_weight = []\n",
    "for alpha in alphas:\n",
    "    ridge = Ridge(alpha = alpha, fit_intercept = True)\n",
    "    ridge.fit(X_train_std,y_train)\n",
    "    ridge_weight.append(ridge.coef_)\n",
    "    "
   ]
  },
  {
   "cell_type": "code",
   "execution_count": 11,
   "id": "8f13ff0f",
   "metadata": {},
   "outputs": [
    {
     "data": {
      "text/plain": [
       "[array([-1.49206312,  0.38727255, -0.93387489,  1.05398288, -0.64033294,\n",
       "         4.60275953, -0.72225458]),\n",
       " array([-1.32026209,  0.5409517 , -1.00412817,  0.94713053, -0.71133473,\n",
       "         3.74549749, -0.67442666]),\n",
       " array([-0.67983134,  0.5300704 , -0.73461892,  0.40136137, -0.61008556,\n",
       "         1.44882275, -0.5468596 ]),\n",
       " array([-0.12773037,  0.12229641, -0.15851654,  0.05488282, -0.14166729,\n",
       "         0.22574596, -0.12975011])]"
      ]
     },
     "execution_count": 11,
     "metadata": {},
     "output_type": "execute_result"
    }
   ],
   "source": [
    "# this is a list of array \n",
    "ridge_weight "
   ]
  },
  {
   "cell_type": "code",
   "execution_count": 12,
   "id": "9901f9a5",
   "metadata": {},
   "outputs": [
    {
     "ename": "SyntaxError",
     "evalue": "invalid syntax (4055363607.py, line 4)",
     "output_type": "error",
     "traceback": [
      "\u001b[1;36m  Input \u001b[1;32mIn [12]\u001b[1;36m\u001b[0m\n\u001b[1;33m    for i in range(len(weight.shape[0]))\u001b[0m\n\u001b[1;37m                                        ^\u001b[0m\n\u001b[1;31mSyntaxError\u001b[0m\u001b[1;31m:\u001b[0m invalid syntax\n"
     ]
    }
   ],
   "source": [
    "def weight_versus_alpha_graph(weight,alphas,featuers):\n",
    "    weight = np.array(weight)\n",
    "    \n",
    "    for i in range(len(weight.shape[0]))"
   ]
  },
  {
   "cell_type": "code",
   "execution_count": 13,
   "id": "70ab2e2d",
   "metadata": {},
   "outputs": [],
   "source": [
    "def weight_versus_alpha_plot(weight, alphas, features):\n",
    "    \"\"\"\n",
    "    Pass in the estimated weight, the alpha value and the names\n",
    "    for the features and plot the model's estimated coefficient weight \n",
    "    for different alpha values\n",
    "    \"\"\"\n",
    "    fig = plt.figure(figsize = (8, 6))\n",
    "    \n",
    "    # ensure that the weight is an array\n",
    "    weight = np.array(weight)\n",
    "    for col in range(weight.shape[1]):\n",
    "        plt.plot(alphas, weight[:, col], label = features[col])\n",
    "\n",
    "    plt.axhline(0, color = 'black', linestyle = '--', linewidth = 3)\n",
    "    \n",
    "    # manually specify the coordinate of the legend\n",
    "    plt.legend(bbox_to_anchor = (1.3, 0.9))\n",
    "    plt.title('Coefficient Weight as Alpha Grows')\n",
    "    plt.ylabel('Coefficient weight')\n",
    "    plt.xlabel('alpha')\n",
    "    return fig"
   ]
  },
  {
   "cell_type": "code",
   "execution_count": 14,
   "id": "1dd3d500",
   "metadata": {},
   "outputs": [
    {
     "ename": "NameError",
     "evalue": "name 'weight' is not defined",
     "output_type": "error",
     "traceback": [
      "\u001b[1;31m---------------------------------------------------------------------------\u001b[0m",
      "\u001b[1;31mNameError\u001b[0m                                 Traceback (most recent call last)",
      "Input \u001b[1;32mIn [14]\u001b[0m, in \u001b[0;36m<cell line: 1>\u001b[1;34m()\u001b[0m\n\u001b[1;32m----> 1\u001b[0m weight_versus_alpha_plot(\u001b[43mweight\u001b[49m,alphas,features)\n",
      "\u001b[1;31mNameError\u001b[0m: name 'weight' is not defined"
     ]
    }
   ],
   "source": [
    "weight_versus_alpha_plot(weight,alphas,features)"
   ]
  },
  {
   "cell_type": "code",
   "execution_count": null,
   "id": "6d7d1093",
   "metadata": {},
   "outputs": [],
   "source": [
    "weight.shape"
   ]
  },
  {
   "cell_type": "code",
   "execution_count": 15,
   "id": "51cbc6ac",
   "metadata": {},
   "outputs": [
    {
     "ename": "NameError",
     "evalue": "name 'weight' is not defined",
     "output_type": "error",
     "traceback": [
      "\u001b[1;31m---------------------------------------------------------------------------\u001b[0m",
      "\u001b[1;31mNameError\u001b[0m                                 Traceback (most recent call last)",
      "Input \u001b[1;32mIn [15]\u001b[0m, in \u001b[0;36m<cell line: 1>\u001b[1;34m()\u001b[0m\n\u001b[1;32m----> 1\u001b[0m plt\u001b[38;5;241m.\u001b[39mplot(alphas,\u001b[43mweight\u001b[49m[:,\u001b[38;5;241m1\u001b[39m],label \u001b[38;5;241m=\u001b[39m features[\u001b[38;5;241m0\u001b[39m])\n\u001b[0;32m      2\u001b[0m plt\u001b[38;5;241m.\u001b[39maxhline(\u001b[38;5;241m0\u001b[39m, color \u001b[38;5;241m=\u001b[39m \u001b[38;5;124m'\u001b[39m\u001b[38;5;124mblack\u001b[39m\u001b[38;5;124m'\u001b[39m, linestyle \u001b[38;5;241m=\u001b[39m \u001b[38;5;124m'\u001b[39m\u001b[38;5;124m--\u001b[39m\u001b[38;5;124m'\u001b[39m, linewidth \u001b[38;5;241m=\u001b[39m \u001b[38;5;241m3\u001b[39m)\n",
      "\u001b[1;31mNameError\u001b[0m: name 'weight' is not defined"
     ]
    }
   ],
   "source": [
    "plt.plot(alphas,weight[:,1],label = features[0])\n",
    "plt.axhline(0, color = 'black', linestyle = '--', linewidth = 3)\n"
   ]
  },
  {
   "cell_type": "code",
   "execution_count": 16,
   "id": "40a566c4",
   "metadata": {},
   "outputs": [],
   "source": [
    "weight = np.array(ridge_weight)"
   ]
  },
  {
   "cell_type": "code",
   "execution_count": 17,
   "id": "0a850af3",
   "metadata": {},
   "outputs": [
    {
     "data": {
      "text/plain": [
       "[<matplotlib.lines.Line2D at 0x23d0c036070>]"
      ]
     },
     "execution_count": 17,
     "metadata": {},
     "output_type": "execute_result"
    },
    {
     "data": {
      "image/png": "[encoded data removed]",
      "text/plain": [
       "<Figure size 432x288 with 1 Axes>"
      ]
     },
     "metadata": {
      "needs_background": "light"
     },
     "output_type": "display_data"
    }
   ],
   "source": [
    "plt.plot(weight[0],label = features[0])"
   ]
  },
  {
   "cell_type": "code",
   "execution_count": 18,
   "id": "0da87c60",
   "metadata": {},
   "outputs": [
    {
     "data": {
      "text/plain": [
       "(array([-1.49206312,  0.38727255, -0.93387489,  1.05398288, -0.64033294,\n",
       "         4.60275953, -0.72225458]),\n",
       " array(['CRIM', 'ZN', 'INDUS', 'CHAS', 'NOX', 'RM', 'AGE'], dtype='<U7'))"
      ]
     },
     "execution_count": 18,
     "metadata": {},
     "output_type": "execute_result"
    }
   ],
   "source": [
    "weight[0],features"
   ]
  },
  {
   "cell_type": "code",
   "execution_count": 19,
   "id": "892ac55f",
   "metadata": {},
   "outputs": [
    {
     "data": {
      "text/plain": [
       "<matplotlib.collections.PathCollection at 0x23d0cb71f40>"
      ]
     },
     "execution_count": 19,
     "metadata": {},
     "output_type": "execute_result"
    },
    {
     "data": {
      "image/png": "[encoded data removed]",
      "text/plain": [
       "<Figure size 432x288 with 1 Axes>"
      ]
     },
     "metadata": {
      "needs_background": "light"
     },
     "output_type": "display_data"
    }
   ],
   "source": [
    "plt.scatter(weight[0],features)"
   ]
  },
  {
   "cell_type": "code",
   "execution_count": 20,
   "id": "9cdb1e32",
   "metadata": {},
   "outputs": [
    {
     "ename": "ValueError",
     "evalue": "x and y must be the same size",
     "output_type": "error",
     "traceback": [
      "\u001b[1;31m---------------------------------------------------------------------------\u001b[0m",
      "\u001b[1;31mValueError\u001b[0m                                Traceback (most recent call last)",
      "Input \u001b[1;32mIn [20]\u001b[0m, in \u001b[0;36m<cell line: 1>\u001b[1;34m()\u001b[0m\n\u001b[0;32m      1\u001b[0m \u001b[38;5;28;01mfor\u001b[39;00m i \u001b[38;5;129;01min\u001b[39;00m \u001b[38;5;28mrange\u001b[39m(weight\u001b[38;5;241m.\u001b[39mshape[\u001b[38;5;241m0\u001b[39m]):\n\u001b[1;32m----> 2\u001b[0m     \u001b[43mplt\u001b[49m\u001b[38;5;241;43m.\u001b[39;49m\u001b[43mscatter\u001b[49m\u001b[43m(\u001b[49m\u001b[43mweight\u001b[49m\u001b[43m[\u001b[49m\u001b[38;5;241;43m0\u001b[39;49m\u001b[43m,\u001b[49m\u001b[43mi\u001b[49m\u001b[43m:\u001b[49m\u001b[43m]\u001b[49m\u001b[43m,\u001b[49m\u001b[43mfeatures\u001b[49m\u001b[43m)\u001b[49m\n",
      "File \u001b[1;32mC:\\ProgramData\\Anaconda3\\lib\\site-packages\\matplotlib\\pyplot.py:2807\u001b[0m, in \u001b[0;36mscatter\u001b[1;34m(x, y, s, c, marker, cmap, norm, vmin, vmax, alpha, linewidths, edgecolors, plotnonfinite, data, **kwargs)\u001b[0m\n\u001b[0;32m   2802\u001b[0m \u001b[38;5;129m@_copy_docstring_and_deprecators\u001b[39m(Axes\u001b[38;5;241m.\u001b[39mscatter)\n\u001b[0;32m   2803\u001b[0m \u001b[38;5;28;01mdef\u001b[39;00m \u001b[38;5;21mscatter\u001b[39m(\n\u001b[0;32m   2804\u001b[0m         x, y, s\u001b[38;5;241m=\u001b[39m\u001b[38;5;28;01mNone\u001b[39;00m, c\u001b[38;5;241m=\u001b[39m\u001b[38;5;28;01mNone\u001b[39;00m, marker\u001b[38;5;241m=\u001b[39m\u001b[38;5;28;01mNone\u001b[39;00m, cmap\u001b[38;5;241m=\u001b[39m\u001b[38;5;28;01mNone\u001b[39;00m, norm\u001b[38;5;241m=\u001b[39m\u001b[38;5;28;01mNone\u001b[39;00m,\n\u001b[0;32m   2805\u001b[0m         vmin\u001b[38;5;241m=\u001b[39m\u001b[38;5;28;01mNone\u001b[39;00m, vmax\u001b[38;5;241m=\u001b[39m\u001b[38;5;28;01mNone\u001b[39;00m, alpha\u001b[38;5;241m=\u001b[39m\u001b[38;5;28;01mNone\u001b[39;00m, linewidths\u001b[38;5;241m=\u001b[39m\u001b[38;5;28;01mNone\u001b[39;00m, \u001b[38;5;241m*\u001b[39m,\n\u001b[0;32m   2806\u001b[0m         edgecolors\u001b[38;5;241m=\u001b[39m\u001b[38;5;28;01mNone\u001b[39;00m, plotnonfinite\u001b[38;5;241m=\u001b[39m\u001b[38;5;28;01mFalse\u001b[39;00m, data\u001b[38;5;241m=\u001b[39m\u001b[38;5;28;01mNone\u001b[39;00m, \u001b[38;5;241m*\u001b[39m\u001b[38;5;241m*\u001b[39mkwargs):\n\u001b[1;32m-> 2807\u001b[0m     __ret \u001b[38;5;241m=\u001b[39m gca()\u001b[38;5;241m.\u001b[39mscatter(\n\u001b[0;32m   2808\u001b[0m         x, y, s\u001b[38;5;241m=\u001b[39ms, c\u001b[38;5;241m=\u001b[39mc, marker\u001b[38;5;241m=\u001b[39mmarker, cmap\u001b[38;5;241m=\u001b[39mcmap, norm\u001b[38;5;241m=\u001b[39mnorm,\n\u001b[0;32m   2809\u001b[0m         vmin\u001b[38;5;241m=\u001b[39mvmin, vmax\u001b[38;5;241m=\u001b[39mvmax, alpha\u001b[38;5;241m=\u001b[39malpha, linewidths\u001b[38;5;241m=\u001b[39mlinewidths,\n\u001b[0;32m   2810\u001b[0m         edgecolors\u001b[38;5;241m=\u001b[39medgecolors, plotnonfinite\u001b[38;5;241m=\u001b[39mplotnonfinite,\n\u001b[0;32m   2811\u001b[0m         \u001b[38;5;241m*\u001b[39m\u001b[38;5;241m*\u001b[39m({\u001b[38;5;124m\"\u001b[39m\u001b[38;5;124mdata\u001b[39m\u001b[38;5;124m\"\u001b[39m: data} \u001b[38;5;28;01mif\u001b[39;00m data \u001b[38;5;129;01mis\u001b[39;00m \u001b[38;5;129;01mnot\u001b[39;00m \u001b[38;5;28;01mNone\u001b[39;00m \u001b[38;5;28;01melse\u001b[39;00m {}), \u001b[38;5;241m*\u001b[39m\u001b[38;5;241m*\u001b[39mkwargs)\n\u001b[0;32m   2812\u001b[0m     sci(__ret)\n\u001b[0;32m   2813\u001b[0m     \u001b[38;5;28;01mreturn\u001b[39;00m __ret\n",
      "File \u001b[1;32mC:\\ProgramData\\Anaconda3\\lib\\site-packages\\matplotlib\\__init__.py:1412\u001b[0m, in \u001b[0;36m_preprocess_data.<locals>.inner\u001b[1;34m(ax, data, *args, **kwargs)\u001b[0m\n\u001b[0;32m   1409\u001b[0m \u001b[38;5;129m@functools\u001b[39m\u001b[38;5;241m.\u001b[39mwraps(func)\n\u001b[0;32m   1410\u001b[0m \u001b[38;5;28;01mdef\u001b[39;00m \u001b[38;5;21minner\u001b[39m(ax, \u001b[38;5;241m*\u001b[39margs, data\u001b[38;5;241m=\u001b[39m\u001b[38;5;28;01mNone\u001b[39;00m, \u001b[38;5;241m*\u001b[39m\u001b[38;5;241m*\u001b[39mkwargs):\n\u001b[0;32m   1411\u001b[0m     \u001b[38;5;28;01mif\u001b[39;00m data \u001b[38;5;129;01mis\u001b[39;00m \u001b[38;5;28;01mNone\u001b[39;00m:\n\u001b[1;32m-> 1412\u001b[0m         \u001b[38;5;28;01mreturn\u001b[39;00m func(ax, \u001b[38;5;241m*\u001b[39m\u001b[38;5;28mmap\u001b[39m(sanitize_sequence, args), \u001b[38;5;241m*\u001b[39m\u001b[38;5;241m*\u001b[39mkwargs)\n\u001b[0;32m   1414\u001b[0m     bound \u001b[38;5;241m=\u001b[39m new_sig\u001b[38;5;241m.\u001b[39mbind(ax, \u001b[38;5;241m*\u001b[39margs, \u001b[38;5;241m*\u001b[39m\u001b[38;5;241m*\u001b[39mkwargs)\n\u001b[0;32m   1415\u001b[0m     auto_label \u001b[38;5;241m=\u001b[39m (bound\u001b[38;5;241m.\u001b[39marguments\u001b[38;5;241m.\u001b[39mget(label_namer)\n\u001b[0;32m   1416\u001b[0m                   \u001b[38;5;129;01mor\u001b[39;00m bound\u001b[38;5;241m.\u001b[39mkwargs\u001b[38;5;241m.\u001b[39mget(label_namer))\n",
      "File \u001b[1;32mC:\\ProgramData\\Anaconda3\\lib\\site-packages\\matplotlib\\axes\\_axes.py:4369\u001b[0m, in \u001b[0;36mAxes.scatter\u001b[1;34m(self, x, y, s, c, marker, cmap, norm, vmin, vmax, alpha, linewidths, edgecolors, plotnonfinite, **kwargs)\u001b[0m\n\u001b[0;32m   4367\u001b[0m y \u001b[38;5;241m=\u001b[39m np\u001b[38;5;241m.\u001b[39mma\u001b[38;5;241m.\u001b[39mravel(y)\n\u001b[0;32m   4368\u001b[0m \u001b[38;5;28;01mif\u001b[39;00m x\u001b[38;5;241m.\u001b[39msize \u001b[38;5;241m!=\u001b[39m y\u001b[38;5;241m.\u001b[39msize:\n\u001b[1;32m-> 4369\u001b[0m     \u001b[38;5;28;01mraise\u001b[39;00m \u001b[38;5;167;01mValueError\u001b[39;00m(\u001b[38;5;124m\"\u001b[39m\u001b[38;5;124mx and y must be the same size\u001b[39m\u001b[38;5;124m\"\u001b[39m)\n\u001b[0;32m   4371\u001b[0m \u001b[38;5;28;01mif\u001b[39;00m s \u001b[38;5;129;01mis\u001b[39;00m \u001b[38;5;28;01mNone\u001b[39;00m:\n\u001b[0;32m   4372\u001b[0m     s \u001b[38;5;241m=\u001b[39m (\u001b[38;5;241m20\u001b[39m \u001b[38;5;28;01mif\u001b[39;00m rcParams[\u001b[38;5;124m'\u001b[39m\u001b[38;5;124m_internal.classic_mode\u001b[39m\u001b[38;5;124m'\u001b[39m] \u001b[38;5;28;01melse\u001b[39;00m\n\u001b[0;32m   4373\u001b[0m          rcParams[\u001b[38;5;124m'\u001b[39m\u001b[38;5;124mlines.markersize\u001b[39m\u001b[38;5;124m'\u001b[39m] \u001b[38;5;241m*\u001b[39m\u001b[38;5;241m*\u001b[39m \u001b[38;5;241m2.0\u001b[39m)\n",
      "\u001b[1;31mValueError\u001b[0m: x and y must be the same size"
     ]
    },
    {
     "data": {
      "image/png": "[encoded data removed]",
      "text/plain": [
       "<Figure size 432x288 with 1 Axes>"
      ]
     },
     "metadata": {
      "needs_background": "light"
     },
     "output_type": "display_data"
    }
   ],
   "source": [
    "for i in range(weight.shape[0]):\n",
    "    plt.scatter(weight[0,i:],features)"
   ]
  },
  {
   "cell_type": "code",
   "execution_count": null,
   "id": "80949f5e",
   "metadata": {},
   "outputs": [],
   "source": [
    "weight[0,:]"
   ]
  },
  {
   "cell_type": "code",
   "execution_count": null,
   "id": "5410ca9e",
   "metadata": {},
   "outputs": [],
   "source": [
    "for i in range(4):\n",
    "    print(weight[i][0])"
   ]
  },
  {
   "cell_type": "code",
   "execution_count": null,
   "id": "bef8bd6e",
   "metadata": {},
   "outputs": [],
   "source": [
    "for i in len(alphas):\n",
    "    print(i)"
   ]
  },
  {
   "cell_type": "code",
   "execution_count": null,
   "id": "d2c8cd43",
   "metadata": {},
   "outputs": [],
   "source": [
    "for i in range(7):\n",
    "    plt.plot(alphas,weight[:,i],label = features[i])"
   ]
  },
  {
   "cell_type": "code",
   "execution_count": null,
   "id": "9c965af0",
   "metadata": {},
   "outputs": [],
   "source": [
    "weight[:,1]"
   ]
  },
  {
   "cell_type": "code",
   "execution_count": null,
   "id": "c9a25f4f",
   "metadata": {},
   "outputs": [],
   "source": [
    "# this is what we are looping \n",
    "plt.plot(alphas,weight[:,0],label = features[0])\n",
    "plt.plot(alphas,weight[:,1],label = features[1])\n",
    "plt.plot(alphas,weight[:,2],label = features[2])\n",
    "plt.plot(alphas,weight[:,3],label = features[3])\n",
    "plt.plot(alphas,weight[:,4],label = features[4])\n",
    "plt.plot(alphas,weight[:,5],label = features[5])\n",
    "plt.plot(alphas,weight[:,6],label = features[6])\n",
    "\n",
    "\n",
    "#let's understand now we are make feature vs alpha for every feature "
   ]
  },
  {
   "cell_type": "code",
   "execution_count": null,
   "id": "96420338",
   "metadata": {},
   "outputs": [],
   "source": [
    "weight"
   ]
  },
  {
   "cell_type": "code",
   "execution_count": null,
   "id": "27e7efd9",
   "metadata": {},
   "outputs": [],
   "source": [
    "weight[2,:]"
   ]
  },
  {
   "cell_type": "code",
   "execution_count": null,
   "id": "8538cb8d",
   "metadata": {},
   "outputs": [],
   "source": [
    "df=pd.DataFrame(weight,columns = features,index = [1,10,100,1000])\n",
    "display(df)"
   ]
  },
  {
   "cell_type": "code",
   "execution_count": null,
   "id": "08f55355",
   "metadata": {},
   "outputs": [],
   "source": [
    "plt.plot(df.CRIM,)\n",
    "plt.plot(df.ZN,)\n",
    "plt.plot(df.INDUS,)\n",
    "plt.plot(df.CHAS,)\n",
    "plt.plot(df.NOX,)\n",
    "plt.plot(df.RM,)\n",
    "plt.plot(df.AGE,)"
   ]
  },
  {
   "cell_type": "code",
   "execution_count": 21,
   "id": "7cb87388",
   "metadata": {},
   "outputs": [
    {
     "data": {
      "text/plain": [
       "array([[-1.49206312,  0.38727255, -0.93387489,  1.05398288, -0.64033294,\n",
       "         4.60275953, -0.72225458],\n",
       "       [-1.32026209,  0.5409517 , -1.00412817,  0.94713053, -0.71133473,\n",
       "         3.74549749, -0.67442666],\n",
       "       [-0.67983134,  0.5300704 , -0.73461892,  0.40136137, -0.61008556,\n",
       "         1.44882275, -0.5468596 ],\n",
       "       [-0.12773037,  0.12229641, -0.15851654,  0.05488282, -0.14166729,\n",
       "         0.22574596, -0.12975011]])"
      ]
     },
     "execution_count": 21,
     "metadata": {},
     "output_type": "execute_result"
    }
   ],
   "source": [
    "weight "
   ]
  },
  {
   "cell_type": "code",
   "execution_count": 22,
   "id": "7d9c80d2",
   "metadata": {},
   "outputs": [
    {
     "data": {
      "text/plain": [
       "[array([-1.49206312,  0.38727255, -0.93387489,  1.05398288, -0.64033294,\n",
       "         4.60275953, -0.72225458]),\n",
       " array([-1.32026209,  0.5409517 , -1.00412817,  0.94713053, -0.71133473,\n",
       "         3.74549749, -0.67442666]),\n",
       " array([-0.67983134,  0.5300704 , -0.73461892,  0.40136137, -0.61008556,\n",
       "         1.44882275, -0.5468596 ]),\n",
       " array([-0.12773037,  0.12229641, -0.15851654,  0.05488282, -0.14166729,\n",
       "         0.22574596, -0.12975011])]"
      ]
     },
     "execution_count": 22,
     "metadata": {},
     "output_type": "execute_result"
    }
   ],
   "source": [
    "ridge_weight"
   ]
  },
  {
   "cell_type": "code",
   "execution_count": 23,
   "id": "84833b7b",
   "metadata": {},
   "outputs": [],
   "source": [
    "weight = np.array(ridge_weight)"
   ]
  },
  {
   "cell_type": "code",
   "execution_count": 24,
   "id": "b7588f1f",
   "metadata": {},
   "outputs": [
    {
     "data": {
      "text/plain": [
       "2"
      ]
     },
     "execution_count": 24,
     "metadata": {},
     "output_type": "execute_result"
    }
   ],
   "source": [
    "weight.ndim"
   ]
  },
  {
   "cell_type": "code",
   "execution_count": 25,
   "id": "fc666b84",
   "metadata": {},
   "outputs": [
    {
     "data": {
      "text/plain": [
       "(4, 7)"
      ]
     },
     "execution_count": 25,
     "metadata": {},
     "output_type": "execute_result"
    }
   ],
   "source": [
    "weight.shape"
   ]
  },
  {
   "cell_type": "code",
   "execution_count": 26,
   "id": "437ec049",
   "metadata": {},
   "outputs": [
    {
     "ename": "IndentationError",
     "evalue": "expected an indented block (1160403788.py, line 2)",
     "output_type": "error",
     "traceback": [
      "\u001b[1;36m  Input \u001b[1;32mIn [26]\u001b[1;36m\u001b[0m\n\u001b[1;33m    \u001b[0m\n\u001b[1;37m    ^\u001b[0m\n\u001b[1;31mIndentationError\u001b[0m\u001b[1;31m:\u001b[0m expected an indented block\n"
     ]
    }
   ],
   "source": [
    "for i in range(weight.shape[0]):\n",
    "    "
   ]
  },
  {
   "cell_type": "code",
   "execution_count": 27,
   "id": "1abcc88b",
   "metadata": {},
   "outputs": [
    {
     "data": {
      "text/plain": [
       "<matplotlib.collections.PathCollection at 0x23d0fd2a160>"
      ]
     },
     "execution_count": 27,
     "metadata": {},
     "output_type": "execute_result"
    },
    {
     "data": {
      "image/png": "[encoded data removed]",
      "text/plain": [
       "<Figure size 432x288 with 1 Axes>"
      ]
     },
     "metadata": {
      "needs_background": "light"
     },
     "output_type": "display_data"
    }
   ],
   "source": [
    "plt.scatter(alphas,weight[:,0]) \n",
    "# You want all rows and single column and loop this you will get the plot of every features"
   ]
  },
  {
   "cell_type": "code",
   "execution_count": 28,
   "id": "0a644334",
   "metadata": {},
   "outputs": [
    {
     "data": {
      "text/plain": [
       "array([-1.49206312, -1.32026209, -0.67983134, -0.12773037])"
      ]
     },
     "execution_count": 28,
     "metadata": {},
     "output_type": "execute_result"
    }
   ],
   "source": [
    "weight[:,0]"
   ]
  },
  {
   "cell_type": "code",
   "execution_count": 29,
   "id": "0550192e",
   "metadata": {},
   "outputs": [
    {
     "data": {
      "text/plain": [
       "Text(0.5, 0, 'alpha')"
      ]
     },
     "execution_count": 29,
     "metadata": {},
     "output_type": "execute_result"
    },
    {
     "data": {
      "image/png": "[encoded data removed]",
      "text/plain": [
       "<Figure size 576x432 with 1 Axes>"
      ]
     },
     "metadata": {
      "needs_background": "light"
     },
     "output_type": "display_data"
    }
   ],
   "source": [
    "plt.figure(figsize = (8,6))\n",
    "for i in range(weight.shape[1]):\n",
    "    plt.plot(alphas,weight[:,i],label = features[i])\n",
    "    plt.axhline(0, color = 'black', linestyle = '--', linewidth = 3)\n",
    "    \n",
    "# manually specify the coordinate of the legend\n",
    "plt.legend(bbox_to_anchor = (1.3, 0.9)) # this arument basically puts the legned out of the plotbox \n",
    "plt.title('Coefficient Weight as Alpha Grows')\n",
    "plt.ylabel('Coefficient weight')\n",
    "plt.xlabel('alpha')   "
   ]
  },
  {
   "cell_type": "code",
   "execution_count": 38,
   "id": "54b58321",
   "metadata": {},
   "outputs": [
    {
     "data": {
      "text/plain": [
       "array([-0.16896977,  0.01583014, -0.15282119,  3.75664651, -2.99060683,\n",
       "        6.85218972, -0.02942346])"
      ]
     },
     "execution_count": 38,
     "metadata": {},
     "output_type": "execute_result"
    }
   ],
   "source": [
    "lasso = Lasso(alpha = 0.01, fit_intercept = True)\n",
    "lasso.fit(X_train,y_train)\n",
    "lasso.coef_"
   ]
  },
  {
   "cell_type": "code",
   "execution_count": 75,
   "id": "388695d5",
   "metadata": {},
   "outputs": [
    {
     "name": "stdout",
     "output_type": "stream",
     "text": [
      "[array([-0.18420851,  0.00908152, -0.16886115,  5.64916517, -3.42980624,\n",
      "        7.10162303, -0.02205152]), array([-0.19277909,  0.01128293, -0.19295893,  4.27604911, -0.        ,\n",
      "        6.978786  , -0.02615794]), array([-0.20365527,  0.02316812, -0.21301136,  0.        , -0.        ,\n",
      "        5.18342138, -0.02200726]), array([-0.18713713,  0.04965197, -0.26392639,  0.        , -0.        ,\n",
      "        0.        , -0.02681443]), array([-0.15815092,  0.05097321, -0.18248522,  0.        , -0.        ,\n",
      "        0.        , -0.0382763 ])]\n"
     ]
    }
   ],
   "source": [
    "alphas = [0.01, 0.1, 1, 5, 8]\n",
    "lasso_weight = []\n",
    "for alpha in alphas:\n",
    "    lasso = Lasso(alpha = alpha, fit_intercept = True)\n",
    "    lasso.fit(X_train,y_train)\n",
    "    lasso_weight.append(lasso.coef_)\n",
    "print(lasso_weight)    "
   ]
  },
  {
   "cell_type": "code",
   "execution_count": 76,
   "id": "864c2787",
   "metadata": {},
   "outputs": [],
   "source": [
    "lasso_weight=np.array(lasso_weight)"
   ]
  },
  {
   "cell_type": "code",
   "execution_count": 77,
   "id": "687efbbc",
   "metadata": {},
   "outputs": [
    {
     "data": {
      "text/plain": [
       "(5, 7)"
      ]
     },
     "execution_count": 77,
     "metadata": {},
     "output_type": "execute_result"
    }
   ],
   "source": [
    "lasso_weight.shape"
   ]
  },
  {
   "cell_type": "code",
   "execution_count": 102,
   "id": "1fdfc388",
   "metadata": {},
   "outputs": [
    {
     "data": {
      "image/png": "[encoded data removed]",
      "text/plain": [
       "<Figure size 720x576 with 1 Axes>"
      ]
     },
     "metadata": {
      "needs_background": "light"
     },
     "output_type": "display_data"
    }
   ],
   "source": [
    "plt.figure(figsize = (10,8))\n",
    "for i in range(7):\n",
    "    plt.plot(alphas,lasso_weight[:,i],label = boston.feature_names[i])\n",
    "    plt.axhline(0, color = 'black', linestyle = '--',linewidth = 3)\n",
    "    plt.legend(bbox_to_anchor = (1,0.9))\n",
    "    plt.title('Parameter weights vs alphas',fontsize = 15)\n",
    "    plt.xlabel('alpha',fontsize = 12)\n",
    "    plt.ylabel('parameer weights',fontsize = 12)\n",
    "plt.show()"
   ]
  },
  {
   "cell_type": "code",
   "execution_count": 61,
   "id": "05f7397f",
   "metadata": {},
   "outputs": [
    {
     "data": {
      "text/plain": [
       "'CRIM'"
      ]
     },
     "execution_count": 61,
     "metadata": {},
     "output_type": "execute_result"
    }
   ],
   "source": [
    "boston.feature_names[0]"
   ]
  },
  {
   "cell_type": "code",
   "execution_count": null,
   "id": "85bca5a4",
   "metadata": {},
   "outputs": [],
   "source": []
  }
 ],
 "metadata": {
  "kernelspec": {
   "display_name": "Python 3 (ipykernel)",
   "language": "python",
   "name": "python3"
  },
  "language_info": {
   "codemirror_mode": {
    "name": "ipython",
    "version": 3
   },
   "file_extension": ".py",
   "mimetype": "text/x-python",
   "name": "python",
   "nbconvert_exporter": "python",
   "pygments_lexer": "ipython3",
   "version": "3.9.12"
  }
 },
 "nbformat": 4,
 "nbformat_minor": 5
}
