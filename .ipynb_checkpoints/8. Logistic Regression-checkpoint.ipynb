{
 "cells": [
  {
   "cell_type": "markdown",
   "id": "ae40e391",
   "metadata": {},
   "source": [
    "# Logistic regression "
   ]
  },
  {
   "cell_type": "markdown",
   "id": "3fa220fd",
   "metadata": {},
   "source": [
    "It is just an extension of linear regression which is used for a classifiction problem in this the output of linear regression is converted into a range between 0 and 1 which is also what the probability is "
   ]
  },
  {
   "cell_type": "markdown",
   "id": "1de98007",
   "metadata": {},
   "source": [
    "It is also called linear classification model "
   ]
  },
  {
   "cell_type": "markdown",
   "id": "b91eded0",
   "metadata": {},
   "source": [
    "let's take a single data point and go through the process of logistic regression in detail. For this example, we'll use a hypothetical scenario: predicting whether a student will pass (1) or fail (0) an exam based on the number of hours they studied.\n",
    "\n",
    "**Data Point:**\n",
    "- Independent Variable (X): Number of hours studied = 5 hours\n",
    "- Dependent Variable (Y): Exam outcome = 1 (pass)\n",
    "\n",
    "Now, let's walk through the steps of logistic regression for this data point:\n",
    "\n",
    "**Step 1: Data Preparation**\n",
    "- You have a dataset with multiple data points, each representing a student. Each data point includes the number of hours studied (X) and the exam outcome (Y).\n",
    "\n",
    "**Step 2: Model Initialization**\n",
    "- In logistic regression, we start with an initial model that describes the relationship between the independent variable(s) and the log-odds of the dependent variable. The log-odds is represented as \\(z\\), and the relationship is described by the equation: \\(z = \\beta_0 + \\beta_1 \\cdot X\\).\n",
    "- Here, \\(\\beta_0\\) and \\(\\beta_1\\) are the coefficients that we need to estimate. In the beginning, these coefficients are usually set to some initial values (often 0 or random values).\n",
    "\n",
    "**Step 3: Calculate the Linear Combination (z)**\n",
    "- For our data point, we calculate the linear combination \\(z\\) as follows:\n",
    "  - \\(X\\) (Number of hours studied) = 5 hours\n",
    "  - \\(z = \\beta_0 + \\beta_1 \\cdot 5\\)\n",
    "\n",
    "**Step 4: Apply the Sigmoid Function**\n",
    "- The linear combination \\(z\\) is then passed through the sigmoid (logistic) function to obtain the predicted probability of passing the exam (Y=1):\n",
    "  - \\( P(Y=1) = \\frac{1}{1 + e^{-z}} \\)\n",
    "  - Using the calculated value of \\(z\\), we can compute \\(P(Y=1)\\).\n",
    "\n",
    "**Step 5: Interpret the Probability**\n",
    "- In our example, let's say the calculated probability is \\(P(Y=1) = 0.7\\). This means the model estimates a 70% probability of the student passing the exam given that they studied for 5 hours.\n",
    "\n",
    "**Step 6: Making a Decision**\n",
    "- In logistic regression, you typically set a threshold (e.g., 0.5) to make a binary decision. If \\(P(Y=1)\\) is greater than or equal to the threshold, you predict \"Pass\" (Y=1); otherwise, you predict \"Fail\" (Y=0).\n",
    "- For example, if your threshold is 0.5 and \\(P(Y=1) = 0.7\\), you would predict \"Pass\" for this student.\n",
    "\n",
    "**Step 7: Model Evaluation**\n",
    "- After making predictions for all data points and applying a threshold, you evaluate the performance of the logistic regression model using metrics such as accuracy, precision, recall, F1-score, or ROC-AUC, depending on the specific problem.\n",
    "\n",
    "In summary, logistic regression takes an input data point, calculates a linear combination of the input features, applies the sigmoid function to obtain a probability, and then makes a binary prediction based on a chosen threshold. This process is repeated for all data points in the dataset to build and evaluate the logistic regression model."
   ]
  },
  {
   "cell_type": "markdown",
   "id": "0ce6ac56",
   "metadata": {},
   "source": [
    "Let's understand it with physics analogy \n",
    "\n",
    "Let's explain the concept of log odds in logistic regression using an analogy related to physics.\n",
    "\n",
    "**Analogy: Potential Energy and Log Odds**\n",
    "\n",
    "Imagine you are studying the potential energy of an object. In physics, potential energy (PE) is a measure of the stored energy an object has due to its position or state. For example, a ball on a shelf has potential energy because it can fall to the ground.\n",
    "\n",
    "Now, let's relate this concept to logistic regression:\n",
    "\n",
    "1. **Potential Energy (PE):** In physics, you calculate potential energy based on the height of an object and a constant (usually gravity). It tells you how much energy the object has because of its position.\n",
    "\n",
    "   - In logistic regression, think of the \"potential energy\" as the \"log odds.\" The log odds tell you how likely an event (like passing an exam) is to happen based on certain factors (like hours of study). It's like measuring the \"energy\" of the event occurring.\n",
    "\n",
    "2. **Height and Factors (Independent Variables):** In physics, the height of the object is a crucial factor in calculating potential energy. Similarly, in logistic regression, independent variables (like hours of study) are essential factors that affect the log odds. These factors can make the event more or less likely to happen.\n",
    "\n",
    "3. **Calculating Potential Energy (Log Odds):** In physics, you use a formula to calculate potential energy based on height and a constant (PE = m * g * h, where m is mass, g is gravity, and h is height). In logistic regression, you use a formula to calculate log odds based on independent variables and coefficients (log odds = β0 + β1 * X1 + β2 * X2 + ...).\n",
    "\n",
    "4. **Interpreting Potential Energy (Log Odds):** In physics, a higher potential energy means the object has more stored energy and is more likely to move or change. Similarly, in logistic regression, a higher log odds mean that the event is more likely to occur based on the given factors. A lower log odds mean the event is less likely to occur.\n",
    "\n",
    "5. **Transforming to Probability:** In logistic regression, you don't stop at log odds. You want to know the probability of the event happening. So, you use a special function (the sigmoid function) to transform the log odds into a probability between 0 and 1. This probability represents how likely the event is to occur.\n",
    "\n",
    "In summary, just as physics uses potential energy to measure stored energy, logistic regression uses log odds to measure the likelihood of an event happening based on certain factors (independent variables). The log odds are then transformed into a probability to make predictions. It's like understanding the \"energy\" of an event occurring in the context of your data and variables."
   ]
  },
  {
   "cell_type": "markdown",
   "id": "b3a1afd5",
   "metadata": {},
   "source": [
    "# let's first understand what is this log odd function "
   ]
  },
  {
   "cell_type": "markdown",
   "id": "e666e2d4",
   "metadata": {},
   "source": [
    "Certainly, let's explain the concept of log-odds using a simple example related to a student passing or failing an exam.\n",
    "\n",
    "**Scenario:** Imagine you are a teacher, and you want to predict whether a student will pass (1) or fail (0) an exam based on the number of hours they studied. You collect data and find that for a group of students, the probability of passing (\\(P\\)) is 0.8 (or 80%).\n",
    "\n",
    "Now, let's use the log-odds to understand the relationship between \\(P\\) and the odds of passing.\n",
    "\n",
    "**Step 1: Calculate the Odds (Odds of Passing)**\n",
    "- The odds of passing are calculated as the ratio of the probability of passing (\\(P\\)) to the probability of failing (1 - \\(P\\)):\n",
    "  - Odds of Passing = \\(\\frac{P}{1-P} = \\frac{0.8}{1-0.8} = \\frac{0.8}{0.2} = 4\\)\n",
    "\n",
    "This means that the odds of a student passing the exam are 4 times higher than the odds of them failing.\n",
    "\n",
    "**Step 2: Calculate the Log-Odds (Logit)**\n",
    "- The log-odds, denoted as \\(\\log\\left(\\frac{P}{1-P}\\right)\\), is the natural logarithm of the odds calculated in step 1:\n",
    "  - Log-Odds = \\(\\log\\left(\\frac{0.8}{0.2}\\right) \\approx 1.386\\)\n",
    "\n",
    "So, the log-odds of a student passing the exam are approximately 1.386.\n",
    "\n",
    "**Step 3: Interpretation of Log-Odds**\n",
    "- The log-odds tell you how much the probability of passing (\\(P\\)) differs from a balanced situation where the odds of passing and failing are equal (i.e., odds = 1).\n",
    "- In this case, a log-odds of 1.386 means that the probability of passing is higher than the probability of failing because it's greater than 0, but it's not extremely high.\n",
    "\n",
    "**Step 4: Inverse Transformation to Probability**\n",
    "- If you want to find the probability (\\(P\\)) from the log-odds, you can use the inverse transformation:\n",
    "  - \\(\\frac{P}{1-P} = e^{\\text{Log-Odds}}\\)\n",
    "  - \\(\\frac{P}{1-P} = e^{1.386}\\)\n",
    "\n",
    "To find \\(P\\), you would solve for it:\n",
    "\n",
    "\\[ P = \\frac{e^{1.386}}{1 + e^{1.386}} \\approx 0.8 \\]\n",
    "\n",
    "So, the probability of a student passing the exam, based on the log-odds of 1.386, is approximately 0.8 or 80%, which is what we initially found.\n",
    "\n",
    "In summary, the log-odds (\\(\\log\\left(\\frac{P}{1-P}\\right)\\)) express how the probability of an event occurring relates to the odds of it not occurring. It's a way to represent the relationship between probability and odds in logistic regression, and it can be useful for modeling and analyzing binary outcomes."
   ]
  },
  {
   "cell_type": "markdown",
   "id": "58119b60",
   "metadata": {},
   "source": [
    "**In logistic regression the logit function is represent as the linear combination of independent variable and weights, With the help of the logit function, you can find the estimated probability of a particular class (often denoted as class 1**"
   ]
  },
  {
   "cell_type": "markdown",
   "id": "0929cf94",
   "metadata": {},
   "source": [
    "this is what happends you take the output of linear regression you equate it to log of odd you do a antilog of that and rearrane the terms and you find the p but you also noticed that after rearranging the equation looks excatly like sigmoid function which has a output between 0 or 1"
   ]
  },
  {
   "cell_type": "markdown",
   "id": "17fd5eb7",
   "metadata": {},
   "source": [
    "The logit function is basically the inverse function of sigmoid function i.e when you put an input in logit function you get output and when you put the output from the logit function into sigmoid function you basically get the output(sigmoid function output) that was the input of logit function "
   ]
  },
  {
   "cell_type": "markdown",
   "id": "7ab8e8b5",
   "metadata": {},
   "source": [
    "Now from logit functin we basically calculated the probability of class i.e 0 or 1 you can think of them as random varialbe \n",
    "\n",
    "Yes, that's a correct way to interpret logistic regression in a binary classification context:\n",
    "\n",
    "- In logistic regression, you often map one of the two classes (e.g., \"success\") to 1 and the other class (e.g., \"not success\" or \"failure\") to 0.\n",
    "\n",
    "- When you calculate \\(P(Y=1)\\) in logistic regression, you are indeed estimating the probability of the \"success\" class, or the probability of the event of interest occurring. In other words, you're modeling the likelihood of success based on the predictor variables.\n",
    "\n",
    "So, logistic regression is a method for modeling and estimating the probability of a specific outcome (e.g., success) or class (e.g., positive class) in a binary classification problem. It's often used for tasks where you want to predict the probability of a particular event happening or not happening."
   ]
  },
  {
   "cell_type": "markdown",
   "id": "4015a445",
   "metadata": {},
   "source": [
    "# Loss function/Cost Function intitution "
   ]
  },
  {
   "cell_type": "markdown",
   "id": "6380656a",
   "metadata": {},
   "source": [
    "Let's talk about the loss/cost funciton . so the probability value which we calcualted should be close to 1 for class 1 and close to zero for class zero so we basically find the value of weight such that the probability value resembles with the class that is we don't want p = 0.1 and class to be 1 instead we want p = 0.9 and class to be 1\n",
    "\n",
    "How do we do this let's understand the concept first consider you are tossing coin three time what is the probability of getting head it will be 1/2*1/2*1/2 i.e we are multiplying the probability and we consider that these are indepenent events \n",
    "following the same ground to find the probability of y = 1 we kind of multiply every probability in the dataset and we try to maximize the value this muliplication of probability is called likehood function and dealing this directly is kind of tough so we take a log of likehood function and we try to maximize the log of likelyhood function to get the best value of weights "
   ]
  },
  {
   "cell_type": "markdown",
   "id": "0f2f5a92",
   "metadata": {},
   "source": [
    "In logistic regression, finding the best values for the coefficients (often denoted as \\(w\\) or \\(\\beta\\)) is typically done through a process called parameter estimation. The goal is to find the values of these coefficients that best fit the given data. This process often involves using a method called maximum likelihood estimation (MLE).\n",
    "\n",
    "Here's a simplified explanation of why we don't take the sum of all the probabilities of the data points directly:\n",
    "\n",
    "1. **Likelihood Function**: Logistic regression aims to model the relationship between the predictor variables and the binary outcome (0 or 1) using the logistic function. The probability of a data point belonging to class 1 is given by:\n",
    "\n",
    "   \\[ P(Y=1) = \\frac{1}{1 + e^{-z}} \\]\n",
    "\n",
    "   The likelihood function is the product of these probabilities for all data points in the dataset. We aim to maximize this likelihood function to find the best coefficients.\n",
    "\n",
    "2. **Log-Likelihood Function**: Instead of working with the product of probabilities (which can be numerically challenging), it's common to work with the log-likelihood function, which is the sum of the log-transformed probabilities. The log-likelihood function is easier to work with and has the same maximum as the likelihood function.\n",
    "\n",
    "   \\[ \\text{Log-Likelihood} = \\sum_{i=1}^n \\left[ y_i \\cdot \\log(P(Y=1)) + (1 - y_i) \\cdot \\log(1 - P(Y=1)) \\right] \\]\n",
    "\n",
    "   - \\(n\\) is the number of data points.\n",
    "   - \\(y_i\\) is the actual class label (0 or 1) for the \\(i\\)-th data point.\n",
    "   - \\(P(Y=1)\\) is the predicted probability of the \\(i\\)-th data point belonging to class 1.\n",
    "\n",
    "3. **Maximizing the Log-Likelihood**: The goal is to find the coefficients that maximize the log-likelihood function. This is typically done using optimization techniques like gradient descent or specialized solvers. Maximizing the log-likelihood effectively finds the coefficients that make the model's predictions as close as possible to the actual class labels in the dataset.\n",
    "\n",
    "So, while the probabilities of individual data points are used to compute the likelihood function, it's the log-likelihood function that is maximized during the parameter estimation process to find the best values for the coefficients. This approach simplifies the optimization and helps in finding the most appropriate model parameters."
   ]
  },
  {
   "cell_type": "markdown",
   "id": "f1bf8049",
   "metadata": {},
   "source": [
    "The idea behind the product\n",
    "\n",
    "Certainly, let's dive into why we use the product of probabilities and how it relates to real-life examples.\n",
    "\n",
    "**1. Motivation for the Product of Probabilities:**\n",
    "\n",
    "In logistic regression, the likelihood function is constructed by taking the product of probabilities for all data points. This approach arises from the assumption that the data points are independently and identically distributed (i.i.d.). In other words, the probability of one data point doesn't depend on the outcomes of other data points. This assumption simplifies the modeling process.\n",
    "\n",
    "**2. Real-Life Example (Coin Flips):**\n",
    "\n",
    "Let's consider a simple example of flipping a fair coin. We want to estimate the probability of getting heads (H) based on the number of flips. Each flip of the coin can be considered a data point:\n",
    "\n",
    "- 1st flip: H or T (1 data point)\n",
    "- 2nd flip: H or T (1 data point)\n",
    "- ...\n",
    "\n",
    "Now, suppose we have data for 10 coin flips:\n",
    "\n",
    "H, T, H, H, T, T, H, T, H, H\n",
    "\n",
    "We want to estimate the probability of getting heads (\\(P(\\text{H})\\)).\n",
    "\n",
    "- If we assume the coin flips are independent, we can calculate the probability of getting heads for each flip:\n",
    "  - \\(P(\\text{H})\\) for the 1st flip is 0.5 (50% chance).\n",
    "  - \\(P(\\text{H})\\) for the 2nd flip is also 0.5, independent of the 1st flip.\n",
    "  - And so on for all 10 flips.\n",
    "\n",
    "- To estimate the combined probability of this sequence of coin flips, we multiply the individual probabilities because each flip is independent:\n",
    "  - \\(P(\\text{H}) \\cdot P(\\text{H}) \\cdot P(\\text{H}) \\cdot P(\\text{H}) \\cdot P(\\text{H}) \\cdot P(\\text{H}) \\cdot P(\\text{H}) \\cdot P(\\text{H}) \\cdot P(\\text{H}) \\cdot P(\\text{H})\\)\n",
    "\n",
    "This is a simplified example, but it illustrates the concept of using the product of probabilities when dealing with independent events. In logistic regression, we make a similar assumption that the individual data points (observations) are independent, and we use the product of probabilities to construct the likelihood function for the entire dataset. This likelihood function is then maximized to find the best coefficients for the logistic regression model."
   ]
  },
  {
   "cell_type": "markdown",
   "id": "6db86542",
   "metadata": {},
   "source": [
    "In logistic regression, when you maximize the likelihood function to find the best coefficients, you are essentially finding the model parameters that make the model's predicted probabilities match the actual class labels as closely as possible for the entire dataset. This optimization process doesn't specifically target one class (e.g., class 1) or the probability of class 0; it aims to find coefficients that improve the overall model's ability to make accurate predictions for both classes.\n",
    "\n",
    "Here's what happens during the optimization process:\n",
    "\n",
    "1. **Maximizing Likelihood**: The primary objective is to maximize the likelihood function, which involves finding the values of the model coefficients that maximize the agreement between the predicted probabilities and the actual class labels for the entire dataset. This process optimizes the model's ability to distinguish between class 0 and class 1.\n",
    "\n",
    "2. **Model Coefficients**: The coefficients you obtain through this optimization represent the best linear combination of the predictor variables to predict the log-odds (and, by extension, the probabilities) of class 1. These coefficients are chosen to minimize the discrepancies between predicted and actual outcomes across both classes.\n",
    "\n",
    "3. **Thresholding for Classification**: After obtaining the coefficients, you can use them to make binary classification decisions. You typically apply a threshold (commonly 0.5) to the predicted probabilities. If the predicted probability is greater than or equal to the threshold, you classify the observation as class 1; otherwise, you classify it as class 0.\n",
    "\n",
    "The optimization process focuses on making the model's predictions more accurate overall rather than specifically targeting one class or the probability of class 0. The aim is to improve the model's ability to distinguish between the two classes based on the provided data and predictor variables."
   ]
  },
  {
   "cell_type": "markdown",
   "id": "1a5b6005",
   "metadata": {},
   "source": [
    "# fit_transform and transform \n",
    "\n",
    "let's revist the fit_transform and transform in the fit_trainsfomr when you are using MinMaxScaler/standard scaler it king of learns the parameter of the X_train dataset and trainsforms the X_train the parameters which it learns are min value max value etx so in fit is where there is learning and in transform it transform the dataset So we basically do a fit_transfrom on the train data and then we use those learned parameters to transform the X_test data so that is what trainfomr(X_test) does "
   ]
  },
  {
   "cell_type": "markdown",
   "id": "360ffbd5",
   "metadata": {},
   "source": [
    "why do we maximize the log likehood is covered in the copy "
   ]
  },
  {
   "cell_type": "markdown",
   "id": "2c16b692",
   "metadata": {},
   "source": [
    "The relation between log likelihood and binary entropy loss function you have to first go through the stats module once again "
   ]
  },
  {
   "cell_type": "markdown",
   "id": "8825fba2",
   "metadata": {},
   "source": [
    "# evaluation "
   ]
  },
  {
   "cell_type": "markdown",
   "id": "fc123277",
   "metadata": {},
   "source": [
    "- accuracy is simple how do you check accuray, correct prediction divide by total prediction of the entire data set\n",
    "\n",
    "\n",
    "- Precision measures the accuracy of positive predictions made by a model. It answers the question: \"Of all the instances predicted as positive, how many were correctly classified as positive?\n",
    "\n",
    "\n",
    "- RECALL measures the model's ability to correctly identify all relevant instances within a specific class. It answers the question: \"Of all the actual positive instances, how many were correctly classified as positive?\"\n",
    "\n"
   ]
  },
  {
   "cell_type": "markdown",
   "id": "e192d08a",
   "metadata": {},
   "source": [
    "For the recall consider this in exam you studied 5 chapters and in the exam you could recall only 3 chapters so your recall is 3/3+2\n",
    "3 is the one you recalled/ 3 the one you recalled plus 2 the one you could not recall similarly TP/TP + FN"
   ]
  },
  {
   "cell_type": "markdown",
   "id": "4b90e1e0",
   "metadata": {},
   "source": [
    "Let's start with the code part "
   ]
  },
  {
   "cell_type": "code",
   "execution_count": 5,
   "id": "a24c4a88",
   "metadata": {},
   "outputs": [],
   "source": [
    "import numpy as np \n",
    "import pandas as pd \n",
    "from numpy import math\n",
    "\n",
    "from sklearn.linear_model import LogisticRegression \n",
    "\n",
    "from sklearn import metrics \n",
    "\n",
    "import matplotlib.pyplot as plt"
   ]
  },
  {
   "cell_type": "markdown",
   "id": "85d6439d",
   "metadata": {},
   "source": [
    "let's first draw the graph of sigmoid function "
   ]
  },
  {
   "cell_type": "code",
   "execution_count": 13,
   "id": "5670555b",
   "metadata": {},
   "outputs": [
    {
     "data": {
      "text/plain": [
       "array([-5.        , -4.8989899 , -4.7979798 , -4.6969697 , -4.5959596 ,\n",
       "       -4.49494949, -4.39393939, -4.29292929, -4.19191919, -4.09090909,\n",
       "       -3.98989899, -3.88888889, -3.78787879, -3.68686869, -3.58585859,\n",
       "       -3.48484848, -3.38383838, -3.28282828, -3.18181818, -3.08080808,\n",
       "       -2.97979798, -2.87878788, -2.77777778, -2.67676768, -2.57575758,\n",
       "       -2.47474747, -2.37373737, -2.27272727, -2.17171717, -2.07070707,\n",
       "       -1.96969697, -1.86868687, -1.76767677, -1.66666667, -1.56565657,\n",
       "       -1.46464646, -1.36363636, -1.26262626, -1.16161616, -1.06060606,\n",
       "       -0.95959596, -0.85858586, -0.75757576, -0.65656566, -0.55555556,\n",
       "       -0.45454545, -0.35353535, -0.25252525, -0.15151515, -0.05050505,\n",
       "        0.05050505,  0.15151515,  0.25252525,  0.35353535,  0.45454545,\n",
       "        0.55555556,  0.65656566,  0.75757576,  0.85858586,  0.95959596,\n",
       "        1.06060606,  1.16161616,  1.26262626,  1.36363636,  1.46464646,\n",
       "        1.56565657,  1.66666667,  1.76767677,  1.86868687,  1.96969697,\n",
       "        2.07070707,  2.17171717,  2.27272727,  2.37373737,  2.47474747,\n",
       "        2.57575758,  2.67676768,  2.77777778,  2.87878788,  2.97979798,\n",
       "        3.08080808,  3.18181818,  3.28282828,  3.38383838,  3.48484848,\n",
       "        3.58585859,  3.68686869,  3.78787879,  3.88888889,  3.98989899,\n",
       "        4.09090909,  4.19191919,  4.29292929,  4.39393939,  4.49494949,\n",
       "        4.5959596 ,  4.6969697 ,  4.7979798 ,  4.8989899 ,  5.        ])"
      ]
     },
     "execution_count": 13,
     "metadata": {},
     "output_type": "execute_result"
    }
   ],
   "source": [
    "x_value = np.linspace(-5,5, 100)\n",
    "x_value"
   ]
  },
  {
   "cell_type": "code",
   "execution_count": 15,
   "id": "25c6b231",
   "metadata": {},
   "outputs": [],
   "source": [
    "y_value=1/(1+np.exp(-x_value))"
   ]
  },
  {
   "cell_type": "code",
   "execution_count": 16,
   "id": "65a34b30",
   "metadata": {},
   "outputs": [
    {
     "data": {
      "text/plain": [
       "[<matplotlib.lines.Line2D at 0x16e56af0c70>]"
      ]
     },
     "execution_count": 16,
     "metadata": {},
     "output_type": "execute_result"
    },
    {
     "data": {
      "image/png": "[encoded data removed]",
      "text/plain": [
       "<Figure size 432x288 with 1 Axes>"
      ]
     },
     "metadata": {
      "needs_background": "light"
     },
     "output_type": "display_data"
    }
   ],
   "source": [
    "plt.plot(x_value,y_value)"
   ]
  },
  {
   "cell_type": "code",
   "execution_count": 40,
   "id": "32d7026a",
   "metadata": {},
   "outputs": [
    {
     "name": "stderr",
     "output_type": "stream",
     "text": [
      "C:\\Users\\Deepu\\AppData\\Local\\Temp\\ipykernel_4200\\4254089498.py:3: RuntimeWarning: divide by zero encountered in log\n",
      "  y_v = -np.log(x_v)\n"
     ]
    },
    {
     "data": {
      "image/png": "[encoded data removed]",
      "text/plain": [
       "<Figure size 648x432 with 1 Axes>"
      ]
     },
     "metadata": {
      "needs_background": "light"
     },
     "output_type": "display_data"
    }
   ],
   "source": [
    "plt.figure(figsize = (9,6))\n",
    "x_v = np.linspace(0,1,10000)\n",
    "y_v = -np.log(x_v)\n",
    "plt.plot(x_v,y_v,color = 'red')\n",
    "plt.title('Binary Cross entropy loss function',size = 15)\n",
    "plt.xlabel('Predicted probability',size = 12)\n",
    "plt.ylabel('error',size = 12)\n",
    "plt.show()"
   ]
  },
  {
   "cell_type": "markdown",
   "id": "6cb750da",
   "metadata": {},
   "source": [
    "as the predicted probability is close to 1 the error is less and as the predicted probability is close to 0 the error is huge so we basically try to minimize our cost log loss function to "
   ]
  },
  {
   "cell_type": "markdown",
   "id": "e44e8886",
   "metadata": {},
   "source": [
    "in other words if the value of -log(p) is greate that means the model is less confident on its prediction and if the value of -log(p) is small that the model is confident on it's prediction and when will the value of  -log(p) will be small when the p is very close to 1 . When will the value of -log(p) be high when p is very close to 0 "
   ]
  },
  {
   "cell_type": "code",
   "execution_count": 41,
   "id": "ee34ddef",
   "metadata": {},
   "outputs": [
    {
     "data": {
      "text/plain": [
       "'C:\\\\Users\\\\Deepu\\\\Documents\\\\machine_learning'"
      ]
     },
     "execution_count": 41,
     "metadata": {},
     "output_type": "execute_result"
    }
   ],
   "source": [
    "pwd"
   ]
  },
  {
   "cell_type": "code",
   "execution_count": 42,
   "id": "2b465757",
   "metadata": {},
   "outputs": [
    {
     "name": "stdout",
     "output_type": "stream",
     "text": [
      "C:\\Users\\Deepu\\Downloads\n"
     ]
    }
   ],
   "source": [
    "cd C:\\\\Users\\\\Deepu\\\\Downloads"
   ]
  },
  {
   "cell_type": "code",
   "execution_count": 43,
   "id": "3b4bd7e2",
   "metadata": {},
   "outputs": [],
   "source": [
    "data = pd.read_csv('WA_Fn-UseC_-Telco-Customer-Churn.csv')"
   ]
  },
  {
   "cell_type": "code",
   "execution_count": 44,
   "id": "7d81b803",
   "metadata": {},
   "outputs": [
    {
     "data": {
      "text/html": [
       "<div>\n",
       "<style scoped>\n",
       "    .dataframe tbody tr th:only-of-type {\n",
       "        vertical-align: middle;\n",
       "    }\n",
       "\n",
       "    .dataframe tbody tr th {\n",
       "        vertical-align: top;\n",
       "    }\n",
       "\n",
       "    .dataframe thead th {\n",
       "        text-align: right;\n",
       "    }\n",
       "</style>\n",
       "<table border=\"1\" class=\"dataframe\">\n",
       "  <thead>\n",
       "    <tr style=\"text-align: right;\">\n",
       "      <th></th>\n",
       "      <th>customerID</th>\n",
       "      <th>gender</th>\n",
       "      <th>SeniorCitizen</th>\n",
       "      <th>Partner</th>\n",
       "      <th>Dependents</th>\n",
       "      <th>tenure</th>\n",
       "      <th>PhoneService</th>\n",
       "      <th>MultipleLines</th>\n",
       "      <th>InternetService</th>\n",
       "      <th>OnlineSecurity</th>\n",
       "      <th>...</th>\n",
       "      <th>DeviceProtection</th>\n",
       "      <th>TechSupport</th>\n",
       "      <th>StreamingTV</th>\n",
       "      <th>StreamingMovies</th>\n",
       "      <th>Contract</th>\n",
       "      <th>PaperlessBilling</th>\n",
       "      <th>PaymentMethod</th>\n",
       "      <th>MonthlyCharges</th>\n",
       "      <th>TotalCharges</th>\n",
       "      <th>Churn</th>\n",
       "    </tr>\n",
       "  </thead>\n",
       "  <tbody>\n",
       "    <tr>\n",
       "      <th>0</th>\n",
       "      <td>7590-VHVEG</td>\n",
       "      <td>Female</td>\n",
       "      <td>0</td>\n",
       "      <td>Yes</td>\n",
       "      <td>No</td>\n",
       "      <td>1</td>\n",
       "      <td>No</td>\n",
       "      <td>No phone service</td>\n",
       "      <td>DSL</td>\n",
       "      <td>No</td>\n",
       "      <td>...</td>\n",
       "      <td>No</td>\n",
       "      <td>No</td>\n",
       "      <td>No</td>\n",
       "      <td>No</td>\n",
       "      <td>Month-to-month</td>\n",
       "      <td>Yes</td>\n",
       "      <td>Electronic check</td>\n",
       "      <td>29.85</td>\n",
       "      <td>29.85</td>\n",
       "      <td>No</td>\n",
       "    </tr>\n",
       "    <tr>\n",
       "      <th>1</th>\n",
       "      <td>5575-GNVDE</td>\n",
       "      <td>Male</td>\n",
       "      <td>0</td>\n",
       "      <td>No</td>\n",
       "      <td>No</td>\n",
       "      <td>34</td>\n",
       "      <td>Yes</td>\n",
       "      <td>No</td>\n",
       "      <td>DSL</td>\n",
       "      <td>Yes</td>\n",
       "      <td>...</td>\n",
       "      <td>Yes</td>\n",
       "      <td>No</td>\n",
       "      <td>No</td>\n",
       "      <td>No</td>\n",
       "      <td>One year</td>\n",
       "      <td>No</td>\n",
       "      <td>Mailed check</td>\n",
       "      <td>56.95</td>\n",
       "      <td>1889.5</td>\n",
       "      <td>No</td>\n",
       "    </tr>\n",
       "    <tr>\n",
       "      <th>2</th>\n",
       "      <td>3668-QPYBK</td>\n",
       "      <td>Male</td>\n",
       "      <td>0</td>\n",
       "      <td>No</td>\n",
       "      <td>No</td>\n",
       "      <td>2</td>\n",
       "      <td>Yes</td>\n",
       "      <td>No</td>\n",
       "      <td>DSL</td>\n",
       "      <td>Yes</td>\n",
       "      <td>...</td>\n",
       "      <td>No</td>\n",
       "      <td>No</td>\n",
       "      <td>No</td>\n",
       "      <td>No</td>\n",
       "      <td>Month-to-month</td>\n",
       "      <td>Yes</td>\n",
       "      <td>Mailed check</td>\n",
       "      <td>53.85</td>\n",
       "      <td>108.15</td>\n",
       "      <td>Yes</td>\n",
       "    </tr>\n",
       "    <tr>\n",
       "      <th>3</th>\n",
       "      <td>7795-CFOCW</td>\n",
       "      <td>Male</td>\n",
       "      <td>0</td>\n",
       "      <td>No</td>\n",
       "      <td>No</td>\n",
       "      <td>45</td>\n",
       "      <td>No</td>\n",
       "      <td>No phone service</td>\n",
       "      <td>DSL</td>\n",
       "      <td>Yes</td>\n",
       "      <td>...</td>\n",
       "      <td>Yes</td>\n",
       "      <td>Yes</td>\n",
       "      <td>No</td>\n",
       "      <td>No</td>\n",
       "      <td>One year</td>\n",
       "      <td>No</td>\n",
       "      <td>Bank transfer (automatic)</td>\n",
       "      <td>42.30</td>\n",
       "      <td>1840.75</td>\n",
       "      <td>No</td>\n",
       "    </tr>\n",
       "    <tr>\n",
       "      <th>4</th>\n",
       "      <td>9237-HQITU</td>\n",
       "      <td>Female</td>\n",
       "      <td>0</td>\n",
       "      <td>No</td>\n",
       "      <td>No</td>\n",
       "      <td>2</td>\n",
       "      <td>Yes</td>\n",
       "      <td>No</td>\n",
       "      <td>Fiber optic</td>\n",
       "      <td>No</td>\n",
       "      <td>...</td>\n",
       "      <td>No</td>\n",
       "      <td>No</td>\n",
       "      <td>No</td>\n",
       "      <td>No</td>\n",
       "      <td>Month-to-month</td>\n",
       "      <td>Yes</td>\n",
       "      <td>Electronic check</td>\n",
       "      <td>70.70</td>\n",
       "      <td>151.65</td>\n",
       "      <td>Yes</td>\n",
       "    </tr>\n",
       "  </tbody>\n",
       "</table>\n",
       "<p>5 rows × 21 columns</p>\n",
       "</div>"
      ],
      "text/plain": [
       "   customerID  gender  SeniorCitizen Partner Dependents  tenure PhoneService  \\\n",
       "0  7590-VHVEG  Female              0     Yes         No       1           No   \n",
       "1  5575-GNVDE    Male              0      No         No      34          Yes   \n",
       "2  3668-QPYBK    Male              0      No         No       2          Yes   \n",
       "3  7795-CFOCW    Male              0      No         No      45           No   \n",
       "4  9237-HQITU  Female              0      No         No       2          Yes   \n",
       "\n",
       "      MultipleLines InternetService OnlineSecurity  ... DeviceProtection  \\\n",
       "0  No phone service             DSL             No  ...               No   \n",
       "1                No             DSL            Yes  ...              Yes   \n",
       "2                No             DSL            Yes  ...               No   \n",
       "3  No phone service             DSL            Yes  ...              Yes   \n",
       "4                No     Fiber optic             No  ...               No   \n",
       "\n",
       "  TechSupport StreamingTV StreamingMovies        Contract PaperlessBilling  \\\n",
       "0          No          No              No  Month-to-month              Yes   \n",
       "1          No          No              No        One year               No   \n",
       "2          No          No              No  Month-to-month              Yes   \n",
       "3         Yes          No              No        One year               No   \n",
       "4          No          No              No  Month-to-month              Yes   \n",
       "\n",
       "               PaymentMethod MonthlyCharges  TotalCharges Churn  \n",
       "0           Electronic check          29.85         29.85    No  \n",
       "1               Mailed check          56.95        1889.5    No  \n",
       "2               Mailed check          53.85        108.15   Yes  \n",
       "3  Bank transfer (automatic)          42.30       1840.75    No  \n",
       "4           Electronic check          70.70        151.65   Yes  \n",
       "\n",
       "[5 rows x 21 columns]"
      ]
     },
     "execution_count": 44,
     "metadata": {},
     "output_type": "execute_result"
    }
   ],
   "source": [
    "data.head()"
   ]
  },
  {
   "cell_type": "code",
   "execution_count": 54,
   "id": "2b147889",
   "metadata": {},
   "outputs": [
    {
     "name": "stdout",
     "output_type": "stream",
     "text": [
      "The shape of datasset\n",
      "Rows: 7043\n",
      "columns: 21\n"
     ]
    }
   ],
   "source": [
    "print('The shape of datasset')\n",
    "print(\"Rows: {}\\ncolumns: {}\".format(data.shape[0],data.shape[1]))"
   ]
  },
  {
   "cell_type": "code",
   "execution_count": 55,
   "id": "aa8b48c8",
   "metadata": {},
   "outputs": [
    {
     "name": "stdout",
     "output_type": "stream",
     "text": [
      "Name: Deepu \n",
      " Surname: Kumar\n"
     ]
    }
   ],
   "source": [
    "#just a fancy way to do a print \n",
    "a = 'Deepu'\n",
    "b = 'Kumar'\n",
    "print(\"Name: {} \\n Surname: {}\".format(a,b))"
   ]
  },
  {
   "cell_type": "code",
   "execution_count": 58,
   "id": "04bff66d",
   "metadata": {},
   "outputs": [
    {
     "name": "stdout",
     "output_type": "stream",
     "text": [
      "object\n"
     ]
    }
   ],
   "source": [
    "print(data.gender.dtype)"
   ]
  },
  {
   "cell_type": "code",
   "execution_count": 69,
   "id": "b5971c27",
   "metadata": {},
   "outputs": [
    {
     "data": {
      "text/html": [
       "<div>\n",
       "<style scoped>\n",
       "    .dataframe tbody tr th:only-of-type {\n",
       "        vertical-align: middle;\n",
       "    }\n",
       "\n",
       "    .dataframe tbody tr th {\n",
       "        vertical-align: top;\n",
       "    }\n",
       "\n",
       "    .dataframe thead th {\n",
       "        text-align: right;\n",
       "    }\n",
       "</style>\n",
       "<table border=\"1\" class=\"dataframe\">\n",
       "  <thead>\n",
       "    <tr style=\"text-align: right;\">\n",
       "      <th></th>\n",
       "      <th>columns</th>\n",
       "      <th>datatype</th>\n",
       "    </tr>\n",
       "  </thead>\n",
       "  <tbody>\n",
       "    <tr>\n",
       "      <th>0</th>\n",
       "      <td>customerID</td>\n",
       "      <td>object</td>\n",
       "    </tr>\n",
       "    <tr>\n",
       "      <th>1</th>\n",
       "      <td>gender</td>\n",
       "      <td>object</td>\n",
       "    </tr>\n",
       "    <tr>\n",
       "      <th>2</th>\n",
       "      <td>SeniorCitizen</td>\n",
       "      <td>int64</td>\n",
       "    </tr>\n",
       "    <tr>\n",
       "      <th>3</th>\n",
       "      <td>Partner</td>\n",
       "      <td>object</td>\n",
       "    </tr>\n",
       "    <tr>\n",
       "      <th>4</th>\n",
       "      <td>Dependents</td>\n",
       "      <td>object</td>\n",
       "    </tr>\n",
       "    <tr>\n",
       "      <th>5</th>\n",
       "      <td>tenure</td>\n",
       "      <td>int64</td>\n",
       "    </tr>\n",
       "    <tr>\n",
       "      <th>6</th>\n",
       "      <td>PhoneService</td>\n",
       "      <td>object</td>\n",
       "    </tr>\n",
       "    <tr>\n",
       "      <th>7</th>\n",
       "      <td>MultipleLines</td>\n",
       "      <td>object</td>\n",
       "    </tr>\n",
       "    <tr>\n",
       "      <th>8</th>\n",
       "      <td>InternetService</td>\n",
       "      <td>object</td>\n",
       "    </tr>\n",
       "    <tr>\n",
       "      <th>9</th>\n",
       "      <td>OnlineSecurity</td>\n",
       "      <td>object</td>\n",
       "    </tr>\n",
       "    <tr>\n",
       "      <th>10</th>\n",
       "      <td>OnlineBackup</td>\n",
       "      <td>object</td>\n",
       "    </tr>\n",
       "    <tr>\n",
       "      <th>11</th>\n",
       "      <td>DeviceProtection</td>\n",
       "      <td>object</td>\n",
       "    </tr>\n",
       "    <tr>\n",
       "      <th>12</th>\n",
       "      <td>TechSupport</td>\n",
       "      <td>object</td>\n",
       "    </tr>\n",
       "    <tr>\n",
       "      <th>13</th>\n",
       "      <td>StreamingTV</td>\n",
       "      <td>object</td>\n",
       "    </tr>\n",
       "    <tr>\n",
       "      <th>14</th>\n",
       "      <td>StreamingMovies</td>\n",
       "      <td>object</td>\n",
       "    </tr>\n",
       "    <tr>\n",
       "      <th>15</th>\n",
       "      <td>Contract</td>\n",
       "      <td>object</td>\n",
       "    </tr>\n",
       "    <tr>\n",
       "      <th>16</th>\n",
       "      <td>PaperlessBilling</td>\n",
       "      <td>object</td>\n",
       "    </tr>\n",
       "    <tr>\n",
       "      <th>17</th>\n",
       "      <td>PaymentMethod</td>\n",
       "      <td>object</td>\n",
       "    </tr>\n",
       "    <tr>\n",
       "      <th>18</th>\n",
       "      <td>MonthlyCharges</td>\n",
       "      <td>float64</td>\n",
       "    </tr>\n",
       "    <tr>\n",
       "      <th>19</th>\n",
       "      <td>TotalCharges</td>\n",
       "      <td>object</td>\n",
       "    </tr>\n",
       "    <tr>\n",
       "      <th>20</th>\n",
       "      <td>Churn</td>\n",
       "      <td>object</td>\n",
       "    </tr>\n",
       "  </tbody>\n",
       "</table>\n",
       "</div>"
      ],
      "text/plain": [
       "             columns datatype\n",
       "0         customerID   object\n",
       "1             gender   object\n",
       "2      SeniorCitizen    int64\n",
       "3            Partner   object\n",
       "4         Dependents   object\n",
       "5             tenure    int64\n",
       "6       PhoneService   object\n",
       "7      MultipleLines   object\n",
       "8    InternetService   object\n",
       "9     OnlineSecurity   object\n",
       "10      OnlineBackup   object\n",
       "11  DeviceProtection   object\n",
       "12       TechSupport   object\n",
       "13       StreamingTV   object\n",
       "14   StreamingMovies   object\n",
       "15          Contract   object\n",
       "16  PaperlessBilling   object\n",
       "17     PaymentMethod   object\n",
       "18    MonthlyCharges  float64\n",
       "19      TotalCharges   object\n",
       "20             Churn   object"
      ]
     },
     "execution_count": 69,
     "metadata": {},
     "output_type": "execute_result"
    }
   ],
   "source": [
    "pd.DataFrame({'columns':list(data.columns),'datatype': [data[i].dtype for i in data.columns]})"
   ]
  },
  {
   "cell_type": "code",
   "execution_count": 72,
   "id": "1a43ff97",
   "metadata": {},
   "outputs": [
    {
     "data": {
      "text/plain": [
       "customerID           object\n",
       "gender               object\n",
       "SeniorCitizen         int64\n",
       "Partner              object\n",
       "Dependents           object\n",
       "tenure                int64\n",
       "PhoneService         object\n",
       "MultipleLines        object\n",
       "InternetService      object\n",
       "OnlineSecurity       object\n",
       "OnlineBackup         object\n",
       "DeviceProtection     object\n",
       "TechSupport          object\n",
       "StreamingTV          object\n",
       "StreamingMovies      object\n",
       "Contract             object\n",
       "PaperlessBilling     object\n",
       "PaymentMethod        object\n",
       "MonthlyCharges      float64\n",
       "TotalCharges         object\n",
       "Churn                object\n",
       "dtype: object"
      ]
     },
     "execution_count": 72,
     "metadata": {},
     "output_type": "execute_result"
    }
   ],
   "source": [
    "#if you want the datatype of the entire dataset you can do dtypes\n",
    "data.dtypes"
   ]
  },
  {
   "cell_type": "code",
   "execution_count": 74,
   "id": "92d5461c",
   "metadata": {},
   "outputs": [
    {
     "data": {
      "text/html": [
       "<div>\n",
       "<style scoped>\n",
       "    .dataframe tbody tr th:only-of-type {\n",
       "        vertical-align: middle;\n",
       "    }\n",
       "\n",
       "    .dataframe tbody tr th {\n",
       "        vertical-align: top;\n",
       "    }\n",
       "\n",
       "    .dataframe thead th {\n",
       "        text-align: right;\n",
       "    }\n",
       "</style>\n",
       "<table border=\"1\" class=\"dataframe\">\n",
       "  <thead>\n",
       "    <tr style=\"text-align: right;\">\n",
       "      <th></th>\n",
       "      <th>Data Type</th>\n",
       "    </tr>\n",
       "  </thead>\n",
       "  <tbody>\n",
       "    <tr>\n",
       "      <th>customerID</th>\n",
       "      <td>object</td>\n",
       "    </tr>\n",
       "    <tr>\n",
       "      <th>gender</th>\n",
       "      <td>object</td>\n",
       "    </tr>\n",
       "    <tr>\n",
       "      <th>SeniorCitizen</th>\n",
       "      <td>int64</td>\n",
       "    </tr>\n",
       "    <tr>\n",
       "      <th>Partner</th>\n",
       "      <td>object</td>\n",
       "    </tr>\n",
       "    <tr>\n",
       "      <th>Dependents</th>\n",
       "      <td>object</td>\n",
       "    </tr>\n",
       "    <tr>\n",
       "      <th>tenure</th>\n",
       "      <td>int64</td>\n",
       "    </tr>\n",
       "    <tr>\n",
       "      <th>PhoneService</th>\n",
       "      <td>object</td>\n",
       "    </tr>\n",
       "    <tr>\n",
       "      <th>MultipleLines</th>\n",
       "      <td>object</td>\n",
       "    </tr>\n",
       "    <tr>\n",
       "      <th>InternetService</th>\n",
       "      <td>object</td>\n",
       "    </tr>\n",
       "    <tr>\n",
       "      <th>OnlineSecurity</th>\n",
       "      <td>object</td>\n",
       "    </tr>\n",
       "    <tr>\n",
       "      <th>OnlineBackup</th>\n",
       "      <td>object</td>\n",
       "    </tr>\n",
       "    <tr>\n",
       "      <th>DeviceProtection</th>\n",
       "      <td>object</td>\n",
       "    </tr>\n",
       "    <tr>\n",
       "      <th>TechSupport</th>\n",
       "      <td>object</td>\n",
       "    </tr>\n",
       "    <tr>\n",
       "      <th>StreamingTV</th>\n",
       "      <td>object</td>\n",
       "    </tr>\n",
       "    <tr>\n",
       "      <th>StreamingMovies</th>\n",
       "      <td>object</td>\n",
       "    </tr>\n",
       "    <tr>\n",
       "      <th>Contract</th>\n",
       "      <td>object</td>\n",
       "    </tr>\n",
       "    <tr>\n",
       "      <th>PaperlessBilling</th>\n",
       "      <td>object</td>\n",
       "    </tr>\n",
       "    <tr>\n",
       "      <th>PaymentMethod</th>\n",
       "      <td>object</td>\n",
       "    </tr>\n",
       "    <tr>\n",
       "      <th>MonthlyCharges</th>\n",
       "      <td>float64</td>\n",
       "    </tr>\n",
       "    <tr>\n",
       "      <th>TotalCharges</th>\n",
       "      <td>object</td>\n",
       "    </tr>\n",
       "    <tr>\n",
       "      <th>Churn</th>\n",
       "      <td>object</td>\n",
       "    </tr>\n",
       "  </tbody>\n",
       "</table>\n",
       "</div>"
      ],
      "text/plain": [
       "                 Data Type\n",
       "customerID          object\n",
       "gender              object\n",
       "SeniorCitizen        int64\n",
       "Partner             object\n",
       "Dependents          object\n",
       "tenure               int64\n",
       "PhoneService        object\n",
       "MultipleLines       object\n",
       "InternetService     object\n",
       "OnlineSecurity      object\n",
       "OnlineBackup        object\n",
       "DeviceProtection    object\n",
       "TechSupport         object\n",
       "StreamingTV         object\n",
       "StreamingMovies     object\n",
       "Contract            object\n",
       "PaperlessBilling    object\n",
       "PaymentMethod       object\n",
       "MonthlyCharges     float64\n",
       "TotalCharges        object\n",
       "Churn               object"
      ]
     },
     "execution_count": 74,
     "metadata": {},
     "output_type": "execute_result"
    }
   ],
   "source": [
    "pd.DataFrame(data.dtypes).rename(columns = {0:'Data Type'})"
   ]
  },
  {
   "cell_type": "code",
   "execution_count": 77,
   "id": "c9e4633b",
   "metadata": {},
   "outputs": [
    {
     "data": {
      "text/plain": [
       "['SeniorCitizen', 'tenure', 'MonthlyCharges']"
      ]
     },
     "execution_count": 77,
     "metadata": {},
     "output_type": "execute_result"
    }
   ],
   "source": [
    "data.describe().columns.tolist()"
   ]
  },
  {
   "cell_type": "code",
   "execution_count": 86,
   "id": "a7c41406",
   "metadata": {},
   "outputs": [],
   "source": [
    "df = data.copy()"
   ]
  },
  {
   "cell_type": "code",
   "execution_count": 87,
   "id": "0030c97e",
   "metadata": {
    "scrolled": true
   },
   "outputs": [
    {
     "data": {
      "text/html": [
       "<div>\n",
       "<style scoped>\n",
       "    .dataframe tbody tr th:only-of-type {\n",
       "        vertical-align: middle;\n",
       "    }\n",
       "\n",
       "    .dataframe tbody tr th {\n",
       "        vertical-align: top;\n",
       "    }\n",
       "\n",
       "    .dataframe thead th {\n",
       "        text-align: right;\n",
       "    }\n",
       "</style>\n",
       "<table border=\"1\" class=\"dataframe\">\n",
       "  <thead>\n",
       "    <tr style=\"text-align: right;\">\n",
       "      <th></th>\n",
       "      <th>customerID</th>\n",
       "      <th>gender</th>\n",
       "      <th>SeniorCitizen</th>\n",
       "      <th>Partner</th>\n",
       "      <th>Dependents</th>\n",
       "      <th>tenure</th>\n",
       "      <th>PhoneService</th>\n",
       "      <th>MultipleLines</th>\n",
       "      <th>InternetService</th>\n",
       "      <th>OnlineSecurity</th>\n",
       "      <th>...</th>\n",
       "      <th>DeviceProtection</th>\n",
       "      <th>TechSupport</th>\n",
       "      <th>StreamingTV</th>\n",
       "      <th>StreamingMovies</th>\n",
       "      <th>Contract</th>\n",
       "      <th>PaperlessBilling</th>\n",
       "      <th>PaymentMethod</th>\n",
       "      <th>MonthlyCharges</th>\n",
       "      <th>TotalCharges</th>\n",
       "      <th>Churn</th>\n",
       "    </tr>\n",
       "  </thead>\n",
       "  <tbody>\n",
       "    <tr>\n",
       "      <th>0</th>\n",
       "      <td>7590-VHVEG</td>\n",
       "      <td>Female</td>\n",
       "      <td>0</td>\n",
       "      <td>Yes</td>\n",
       "      <td>No</td>\n",
       "      <td>1</td>\n",
       "      <td>No</td>\n",
       "      <td>No phone service</td>\n",
       "      <td>DSL</td>\n",
       "      <td>No</td>\n",
       "      <td>...</td>\n",
       "      <td>No</td>\n",
       "      <td>No</td>\n",
       "      <td>No</td>\n",
       "      <td>No</td>\n",
       "      <td>Month-to-month</td>\n",
       "      <td>Yes</td>\n",
       "      <td>Electronic check</td>\n",
       "      <td>29.85</td>\n",
       "      <td>29.85</td>\n",
       "      <td>No</td>\n",
       "    </tr>\n",
       "    <tr>\n",
       "      <th>1</th>\n",
       "      <td>5575-GNVDE</td>\n",
       "      <td>Male</td>\n",
       "      <td>0</td>\n",
       "      <td>No</td>\n",
       "      <td>No</td>\n",
       "      <td>34</td>\n",
       "      <td>Yes</td>\n",
       "      <td>No</td>\n",
       "      <td>DSL</td>\n",
       "      <td>Yes</td>\n",
       "      <td>...</td>\n",
       "      <td>Yes</td>\n",
       "      <td>No</td>\n",
       "      <td>No</td>\n",
       "      <td>No</td>\n",
       "      <td>One year</td>\n",
       "      <td>No</td>\n",
       "      <td>Mailed check</td>\n",
       "      <td>56.95</td>\n",
       "      <td>1889.5</td>\n",
       "      <td>No</td>\n",
       "    </tr>\n",
       "    <tr>\n",
       "      <th>2</th>\n",
       "      <td>3668-QPYBK</td>\n",
       "      <td>Male</td>\n",
       "      <td>0</td>\n",
       "      <td>No</td>\n",
       "      <td>No</td>\n",
       "      <td>2</td>\n",
       "      <td>Yes</td>\n",
       "      <td>No</td>\n",
       "      <td>DSL</td>\n",
       "      <td>Yes</td>\n",
       "      <td>...</td>\n",
       "      <td>No</td>\n",
       "      <td>No</td>\n",
       "      <td>No</td>\n",
       "      <td>No</td>\n",
       "      <td>Month-to-month</td>\n",
       "      <td>Yes</td>\n",
       "      <td>Mailed check</td>\n",
       "      <td>53.85</td>\n",
       "      <td>108.15</td>\n",
       "      <td>Yes</td>\n",
       "    </tr>\n",
       "    <tr>\n",
       "      <th>3</th>\n",
       "      <td>7795-CFOCW</td>\n",
       "      <td>Male</td>\n",
       "      <td>0</td>\n",
       "      <td>No</td>\n",
       "      <td>No</td>\n",
       "      <td>45</td>\n",
       "      <td>No</td>\n",
       "      <td>No phone service</td>\n",
       "      <td>DSL</td>\n",
       "      <td>Yes</td>\n",
       "      <td>...</td>\n",
       "      <td>Yes</td>\n",
       "      <td>Yes</td>\n",
       "      <td>No</td>\n",
       "      <td>No</td>\n",
       "      <td>One year</td>\n",
       "      <td>No</td>\n",
       "      <td>Bank transfer (automatic)</td>\n",
       "      <td>42.30</td>\n",
       "      <td>1840.75</td>\n",
       "      <td>No</td>\n",
       "    </tr>\n",
       "    <tr>\n",
       "      <th>4</th>\n",
       "      <td>9237-HQITU</td>\n",
       "      <td>Female</td>\n",
       "      <td>0</td>\n",
       "      <td>No</td>\n",
       "      <td>No</td>\n",
       "      <td>2</td>\n",
       "      <td>Yes</td>\n",
       "      <td>No</td>\n",
       "      <td>Fiber optic</td>\n",
       "      <td>No</td>\n",
       "      <td>...</td>\n",
       "      <td>No</td>\n",
       "      <td>No</td>\n",
       "      <td>No</td>\n",
       "      <td>No</td>\n",
       "      <td>Month-to-month</td>\n",
       "      <td>Yes</td>\n",
       "      <td>Electronic check</td>\n",
       "      <td>70.70</td>\n",
       "      <td>151.65</td>\n",
       "      <td>Yes</td>\n",
       "    </tr>\n",
       "  </tbody>\n",
       "</table>\n",
       "<p>5 rows × 21 columns</p>\n",
       "</div>"
      ],
      "text/plain": [
       "   customerID  gender  SeniorCitizen Partner Dependents  tenure PhoneService  \\\n",
       "0  7590-VHVEG  Female              0     Yes         No       1           No   \n",
       "1  5575-GNVDE    Male              0      No         No      34          Yes   \n",
       "2  3668-QPYBK    Male              0      No         No       2          Yes   \n",
       "3  7795-CFOCW    Male              0      No         No      45           No   \n",
       "4  9237-HQITU  Female              0      No         No       2          Yes   \n",
       "\n",
       "      MultipleLines InternetService OnlineSecurity  ... DeviceProtection  \\\n",
       "0  No phone service             DSL             No  ...               No   \n",
       "1                No             DSL            Yes  ...              Yes   \n",
       "2                No             DSL            Yes  ...               No   \n",
       "3  No phone service             DSL            Yes  ...              Yes   \n",
       "4                No     Fiber optic             No  ...               No   \n",
       "\n",
       "  TechSupport StreamingTV StreamingMovies        Contract PaperlessBilling  \\\n",
       "0          No          No              No  Month-to-month              Yes   \n",
       "1          No          No              No        One year               No   \n",
       "2          No          No              No  Month-to-month              Yes   \n",
       "3         Yes          No              No        One year               No   \n",
       "4          No          No              No  Month-to-month              Yes   \n",
       "\n",
       "               PaymentMethod MonthlyCharges  TotalCharges Churn  \n",
       "0           Electronic check          29.85         29.85    No  \n",
       "1               Mailed check          56.95        1889.5    No  \n",
       "2               Mailed check          53.85        108.15   Yes  \n",
       "3  Bank transfer (automatic)          42.30       1840.75    No  \n",
       "4           Electronic check          70.70        151.65   Yes  \n",
       "\n",
       "[5 rows x 21 columns]"
      ]
     },
     "execution_count": 87,
     "metadata": {},
     "output_type": "execute_result"
    }
   ],
   "source": [
    "df.head()"
   ]
  },
  {
   "cell_type": "markdown",
   "id": "6c9532af",
   "metadata": {},
   "source": [
    "# let's do a very short EDA"
   ]
  },
  {
   "cell_type": "code",
   "execution_count": 94,
   "id": "341b58e1",
   "metadata": {
    "scrolled": true
   },
   "outputs": [
    {
     "ename": "ValueError",
     "evalue": "The truth value of a Series is ambiguous. Use a.empty, a.bool(), a.item(), a.any() or a.all().",
     "output_type": "error",
     "traceback": [
      "\u001b[1;31m---------------------------------------------------------------------------\u001b[0m",
      "\u001b[1;31mValueError\u001b[0m                                Traceback (most recent call last)",
      "Input \u001b[1;32mIn [94]\u001b[0m, in \u001b[0;36m<cell line: 1>\u001b[1;34m()\u001b[0m\n\u001b[1;32m----> 1\u001b[0m \u001b[43mplt\u001b[49m\u001b[38;5;241;43m.\u001b[39;49m\u001b[43mboxplot\u001b[49m\u001b[43m(\u001b[49m\u001b[43mdf\u001b[49m\u001b[38;5;241;43m.\u001b[39;49m\u001b[43mMonthlyCharges\u001b[49m\u001b[43m,\u001b[49m\u001b[43mdf\u001b[49m\u001b[38;5;241;43m.\u001b[39;49m\u001b[43mChurn\u001b[49m\u001b[43m)\u001b[49m\n",
      "File \u001b[1;32mC:\\ProgramData\\Anaconda3\\lib\\site-packages\\matplotlib\\pyplot.py:2428\u001b[0m, in \u001b[0;36mboxplot\u001b[1;34m(x, notch, sym, vert, whis, positions, widths, patch_artist, bootstrap, usermedians, conf_intervals, meanline, showmeans, showcaps, showbox, showfliers, boxprops, labels, flierprops, medianprops, meanprops, capprops, whiskerprops, manage_ticks, autorange, zorder, data)\u001b[0m\n\u001b[0;32m   2418\u001b[0m \u001b[38;5;129m@_copy_docstring_and_deprecators\u001b[39m(Axes\u001b[38;5;241m.\u001b[39mboxplot)\n\u001b[0;32m   2419\u001b[0m \u001b[38;5;28;01mdef\u001b[39;00m \u001b[38;5;21mboxplot\u001b[39m(\n\u001b[0;32m   2420\u001b[0m         x, notch\u001b[38;5;241m=\u001b[39m\u001b[38;5;28;01mNone\u001b[39;00m, sym\u001b[38;5;241m=\u001b[39m\u001b[38;5;28;01mNone\u001b[39;00m, vert\u001b[38;5;241m=\u001b[39m\u001b[38;5;28;01mNone\u001b[39;00m, whis\u001b[38;5;241m=\u001b[39m\u001b[38;5;28;01mNone\u001b[39;00m,\n\u001b[1;32m   (...)\u001b[0m\n\u001b[0;32m   2426\u001b[0m         whiskerprops\u001b[38;5;241m=\u001b[39m\u001b[38;5;28;01mNone\u001b[39;00m, manage_ticks\u001b[38;5;241m=\u001b[39m\u001b[38;5;28;01mTrue\u001b[39;00m, autorange\u001b[38;5;241m=\u001b[39m\u001b[38;5;28;01mFalse\u001b[39;00m,\n\u001b[0;32m   2427\u001b[0m         zorder\u001b[38;5;241m=\u001b[39m\u001b[38;5;28;01mNone\u001b[39;00m, \u001b[38;5;241m*\u001b[39m, data\u001b[38;5;241m=\u001b[39m\u001b[38;5;28;01mNone\u001b[39;00m):\n\u001b[1;32m-> 2428\u001b[0m     \u001b[38;5;28;01mreturn\u001b[39;00m gca()\u001b[38;5;241m.\u001b[39mboxplot(\n\u001b[0;32m   2429\u001b[0m         x, notch\u001b[38;5;241m=\u001b[39mnotch, sym\u001b[38;5;241m=\u001b[39msym, vert\u001b[38;5;241m=\u001b[39mvert, whis\u001b[38;5;241m=\u001b[39mwhis,\n\u001b[0;32m   2430\u001b[0m         positions\u001b[38;5;241m=\u001b[39mpositions, widths\u001b[38;5;241m=\u001b[39mwidths, patch_artist\u001b[38;5;241m=\u001b[39mpatch_artist,\n\u001b[0;32m   2431\u001b[0m         bootstrap\u001b[38;5;241m=\u001b[39mbootstrap, usermedians\u001b[38;5;241m=\u001b[39musermedians,\n\u001b[0;32m   2432\u001b[0m         conf_intervals\u001b[38;5;241m=\u001b[39mconf_intervals, meanline\u001b[38;5;241m=\u001b[39mmeanline,\n\u001b[0;32m   2433\u001b[0m         showmeans\u001b[38;5;241m=\u001b[39mshowmeans, showcaps\u001b[38;5;241m=\u001b[39mshowcaps, showbox\u001b[38;5;241m=\u001b[39mshowbox,\n\u001b[0;32m   2434\u001b[0m         showfliers\u001b[38;5;241m=\u001b[39mshowfliers, boxprops\u001b[38;5;241m=\u001b[39mboxprops, labels\u001b[38;5;241m=\u001b[39mlabels,\n\u001b[0;32m   2435\u001b[0m         flierprops\u001b[38;5;241m=\u001b[39mflierprops, medianprops\u001b[38;5;241m=\u001b[39mmedianprops,\n\u001b[0;32m   2436\u001b[0m         meanprops\u001b[38;5;241m=\u001b[39mmeanprops, capprops\u001b[38;5;241m=\u001b[39mcapprops,\n\u001b[0;32m   2437\u001b[0m         whiskerprops\u001b[38;5;241m=\u001b[39mwhiskerprops, manage_ticks\u001b[38;5;241m=\u001b[39mmanage_ticks,\n\u001b[0;32m   2438\u001b[0m         autorange\u001b[38;5;241m=\u001b[39mautorange, zorder\u001b[38;5;241m=\u001b[39mzorder,\n\u001b[0;32m   2439\u001b[0m         \u001b[38;5;241m*\u001b[39m\u001b[38;5;241m*\u001b[39m({\u001b[38;5;124m\"\u001b[39m\u001b[38;5;124mdata\u001b[39m\u001b[38;5;124m\"\u001b[39m: data} \u001b[38;5;28;01mif\u001b[39;00m data \u001b[38;5;129;01mis\u001b[39;00m \u001b[38;5;129;01mnot\u001b[39;00m \u001b[38;5;28;01mNone\u001b[39;00m \u001b[38;5;28;01melse\u001b[39;00m {}))\n",
      "File \u001b[1;32mC:\\ProgramData\\Anaconda3\\lib\\site-packages\\matplotlib\\__init__.py:1412\u001b[0m, in \u001b[0;36m_preprocess_data.<locals>.inner\u001b[1;34m(ax, data, *args, **kwargs)\u001b[0m\n\u001b[0;32m   1409\u001b[0m \u001b[38;5;129m@functools\u001b[39m\u001b[38;5;241m.\u001b[39mwraps(func)\n\u001b[0;32m   1410\u001b[0m \u001b[38;5;28;01mdef\u001b[39;00m \u001b[38;5;21minner\u001b[39m(ax, \u001b[38;5;241m*\u001b[39margs, data\u001b[38;5;241m=\u001b[39m\u001b[38;5;28;01mNone\u001b[39;00m, \u001b[38;5;241m*\u001b[39m\u001b[38;5;241m*\u001b[39mkwargs):\n\u001b[0;32m   1411\u001b[0m     \u001b[38;5;28;01mif\u001b[39;00m data \u001b[38;5;129;01mis\u001b[39;00m \u001b[38;5;28;01mNone\u001b[39;00m:\n\u001b[1;32m-> 1412\u001b[0m         \u001b[38;5;28;01mreturn\u001b[39;00m func(ax, \u001b[38;5;241m*\u001b[39m\u001b[38;5;28mmap\u001b[39m(sanitize_sequence, args), \u001b[38;5;241m*\u001b[39m\u001b[38;5;241m*\u001b[39mkwargs)\n\u001b[0;32m   1414\u001b[0m     bound \u001b[38;5;241m=\u001b[39m new_sig\u001b[38;5;241m.\u001b[39mbind(ax, \u001b[38;5;241m*\u001b[39margs, \u001b[38;5;241m*\u001b[39m\u001b[38;5;241m*\u001b[39mkwargs)\n\u001b[0;32m   1415\u001b[0m     auto_label \u001b[38;5;241m=\u001b[39m (bound\u001b[38;5;241m.\u001b[39marguments\u001b[38;5;241m.\u001b[39mget(label_namer)\n\u001b[0;32m   1416\u001b[0m                   \u001b[38;5;129;01mor\u001b[39;00m bound\u001b[38;5;241m.\u001b[39mkwargs\u001b[38;5;241m.\u001b[39mget(label_namer))\n",
      "File \u001b[1;32mC:\\ProgramData\\Anaconda3\\lib\\site-packages\\matplotlib\\axes\\_axes.py:3807\u001b[0m, in \u001b[0;36mAxes.boxplot\u001b[1;34m(self, x, notch, sym, vert, whis, positions, widths, patch_artist, bootstrap, usermedians, conf_intervals, meanline, showmeans, showcaps, showbox, showfliers, boxprops, labels, flierprops, medianprops, meanprops, capprops, whiskerprops, manage_ticks, autorange, zorder)\u001b[0m\n\u001b[0;32m   3804\u001b[0m                     \u001b[38;5;28;01mif\u001b[39;00m ci[\u001b[38;5;241m1\u001b[39m] \u001b[38;5;129;01mis\u001b[39;00m \u001b[38;5;129;01mnot\u001b[39;00m \u001b[38;5;28;01mNone\u001b[39;00m:\n\u001b[0;32m   3805\u001b[0m                         stats[\u001b[38;5;124m'\u001b[39m\u001b[38;5;124mcihi\u001b[39m\u001b[38;5;124m'\u001b[39m] \u001b[38;5;241m=\u001b[39m ci[\u001b[38;5;241m1\u001b[39m]\n\u001b[1;32m-> 3807\u001b[0m artists \u001b[38;5;241m=\u001b[39m \u001b[38;5;28;43mself\u001b[39;49m\u001b[38;5;241;43m.\u001b[39;49m\u001b[43mbxp\u001b[49m\u001b[43m(\u001b[49m\u001b[43mbxpstats\u001b[49m\u001b[43m,\u001b[49m\u001b[43m \u001b[49m\u001b[43mpositions\u001b[49m\u001b[38;5;241;43m=\u001b[39;49m\u001b[43mpositions\u001b[49m\u001b[43m,\u001b[49m\u001b[43m \u001b[49m\u001b[43mwidths\u001b[49m\u001b[38;5;241;43m=\u001b[39;49m\u001b[43mwidths\u001b[49m\u001b[43m,\u001b[49m\n\u001b[0;32m   3808\u001b[0m \u001b[43m                   \u001b[49m\u001b[43mvert\u001b[49m\u001b[38;5;241;43m=\u001b[39;49m\u001b[43mvert\u001b[49m\u001b[43m,\u001b[49m\u001b[43m \u001b[49m\u001b[43mpatch_artist\u001b[49m\u001b[38;5;241;43m=\u001b[39;49m\u001b[43mpatch_artist\u001b[49m\u001b[43m,\u001b[49m\n\u001b[0;32m   3809\u001b[0m \u001b[43m                   \u001b[49m\u001b[43mshownotches\u001b[49m\u001b[38;5;241;43m=\u001b[39;49m\u001b[43mnotch\u001b[49m\u001b[43m,\u001b[49m\u001b[43m \u001b[49m\u001b[43mshowmeans\u001b[49m\u001b[38;5;241;43m=\u001b[39;49m\u001b[43mshowmeans\u001b[49m\u001b[43m,\u001b[49m\n\u001b[0;32m   3810\u001b[0m \u001b[43m                   \u001b[49m\u001b[43mshowcaps\u001b[49m\u001b[38;5;241;43m=\u001b[39;49m\u001b[43mshowcaps\u001b[49m\u001b[43m,\u001b[49m\u001b[43m \u001b[49m\u001b[43mshowbox\u001b[49m\u001b[38;5;241;43m=\u001b[39;49m\u001b[43mshowbox\u001b[49m\u001b[43m,\u001b[49m\n\u001b[0;32m   3811\u001b[0m \u001b[43m                   \u001b[49m\u001b[43mboxprops\u001b[49m\u001b[38;5;241;43m=\u001b[39;49m\u001b[43mboxprops\u001b[49m\u001b[43m,\u001b[49m\u001b[43m \u001b[49m\u001b[43mflierprops\u001b[49m\u001b[38;5;241;43m=\u001b[39;49m\u001b[43mflierprops\u001b[49m\u001b[43m,\u001b[49m\n\u001b[0;32m   3812\u001b[0m \u001b[43m                   \u001b[49m\u001b[43mmedianprops\u001b[49m\u001b[38;5;241;43m=\u001b[39;49m\u001b[43mmedianprops\u001b[49m\u001b[43m,\u001b[49m\u001b[43m \u001b[49m\u001b[43mmeanprops\u001b[49m\u001b[38;5;241;43m=\u001b[39;49m\u001b[43mmeanprops\u001b[49m\u001b[43m,\u001b[49m\n\u001b[0;32m   3813\u001b[0m \u001b[43m                   \u001b[49m\u001b[43mmeanline\u001b[49m\u001b[38;5;241;43m=\u001b[39;49m\u001b[43mmeanline\u001b[49m\u001b[43m,\u001b[49m\u001b[43m \u001b[49m\u001b[43mshowfliers\u001b[49m\u001b[38;5;241;43m=\u001b[39;49m\u001b[43mshowfliers\u001b[49m\u001b[43m,\u001b[49m\n\u001b[0;32m   3814\u001b[0m \u001b[43m                   \u001b[49m\u001b[43mcapprops\u001b[49m\u001b[38;5;241;43m=\u001b[39;49m\u001b[43mcapprops\u001b[49m\u001b[43m,\u001b[49m\u001b[43m \u001b[49m\u001b[43mwhiskerprops\u001b[49m\u001b[38;5;241;43m=\u001b[39;49m\u001b[43mwhiskerprops\u001b[49m\u001b[43m,\u001b[49m\n\u001b[0;32m   3815\u001b[0m \u001b[43m                   \u001b[49m\u001b[43mmanage_ticks\u001b[49m\u001b[38;5;241;43m=\u001b[39;49m\u001b[43mmanage_ticks\u001b[49m\u001b[43m,\u001b[49m\u001b[43m \u001b[49m\u001b[43mzorder\u001b[49m\u001b[38;5;241;43m=\u001b[39;49m\u001b[43mzorder\u001b[49m\u001b[43m)\u001b[49m\n\u001b[0;32m   3816\u001b[0m \u001b[38;5;28;01mreturn\u001b[39;00m artists\n",
      "File \u001b[1;32mC:\\ProgramData\\Anaconda3\\lib\\site-packages\\matplotlib\\axes\\_axes.py:4012\u001b[0m, in \u001b[0;36mAxes.bxp\u001b[1;34m(self, bxpstats, positions, widths, vert, patch_artist, shownotches, showmeans, showcaps, showbox, showfliers, boxprops, whiskerprops, flierprops, medianprops, capprops, meanprops, meanline, manage_ticks, zorder)\u001b[0m\n\u001b[0;32m   4010\u001b[0m med_y \u001b[38;5;241m=\u001b[39m [stats[\u001b[38;5;124m'\u001b[39m\u001b[38;5;124mmed\u001b[39m\u001b[38;5;124m'\u001b[39m], stats[\u001b[38;5;124m'\u001b[39m\u001b[38;5;124mmed\u001b[39m\u001b[38;5;124m'\u001b[39m]]\n\u001b[0;32m   4011\u001b[0m \u001b[38;5;66;03m# notched boxes\u001b[39;00m\n\u001b[1;32m-> 4012\u001b[0m \u001b[38;5;28;01mif\u001b[39;00m shownotches:\n\u001b[0;32m   4013\u001b[0m     box_x \u001b[38;5;241m=\u001b[39m [box_left, box_right, box_right, cap_right, box_right,\n\u001b[0;32m   4014\u001b[0m              box_right, box_left, box_left, cap_left, box_left,\n\u001b[0;32m   4015\u001b[0m              box_left]\n\u001b[0;32m   4016\u001b[0m     box_y \u001b[38;5;241m=\u001b[39m [stats[\u001b[38;5;124m'\u001b[39m\u001b[38;5;124mq1\u001b[39m\u001b[38;5;124m'\u001b[39m], stats[\u001b[38;5;124m'\u001b[39m\u001b[38;5;124mq1\u001b[39m\u001b[38;5;124m'\u001b[39m], stats[\u001b[38;5;124m'\u001b[39m\u001b[38;5;124mcilo\u001b[39m\u001b[38;5;124m'\u001b[39m],\n\u001b[0;32m   4017\u001b[0m              stats[\u001b[38;5;124m'\u001b[39m\u001b[38;5;124mmed\u001b[39m\u001b[38;5;124m'\u001b[39m], stats[\u001b[38;5;124m'\u001b[39m\u001b[38;5;124mcihi\u001b[39m\u001b[38;5;124m'\u001b[39m], stats[\u001b[38;5;124m'\u001b[39m\u001b[38;5;124mq3\u001b[39m\u001b[38;5;124m'\u001b[39m],\n\u001b[0;32m   4018\u001b[0m              stats[\u001b[38;5;124m'\u001b[39m\u001b[38;5;124mq3\u001b[39m\u001b[38;5;124m'\u001b[39m], stats[\u001b[38;5;124m'\u001b[39m\u001b[38;5;124mcihi\u001b[39m\u001b[38;5;124m'\u001b[39m], stats[\u001b[38;5;124m'\u001b[39m\u001b[38;5;124mmed\u001b[39m\u001b[38;5;124m'\u001b[39m],\n\u001b[0;32m   4019\u001b[0m              stats[\u001b[38;5;124m'\u001b[39m\u001b[38;5;124mcilo\u001b[39m\u001b[38;5;124m'\u001b[39m], stats[\u001b[38;5;124m'\u001b[39m\u001b[38;5;124mq1\u001b[39m\u001b[38;5;124m'\u001b[39m]]\n",
      "File \u001b[1;32mC:\\ProgramData\\Anaconda3\\lib\\site-packages\\pandas\\core\\generic.py:1527\u001b[0m, in \u001b[0;36mNDFrame.__nonzero__\u001b[1;34m(self)\u001b[0m\n\u001b[0;32m   1525\u001b[0m \u001b[38;5;129m@final\u001b[39m\n\u001b[0;32m   1526\u001b[0m \u001b[38;5;28;01mdef\u001b[39;00m \u001b[38;5;21m__nonzero__\u001b[39m(\u001b[38;5;28mself\u001b[39m):\n\u001b[1;32m-> 1527\u001b[0m     \u001b[38;5;28;01mraise\u001b[39;00m \u001b[38;5;167;01mValueError\u001b[39;00m(\n\u001b[0;32m   1528\u001b[0m         \u001b[38;5;124mf\u001b[39m\u001b[38;5;124m\"\u001b[39m\u001b[38;5;124mThe truth value of a \u001b[39m\u001b[38;5;132;01m{\u001b[39;00m\u001b[38;5;28mtype\u001b[39m(\u001b[38;5;28mself\u001b[39m)\u001b[38;5;241m.\u001b[39m\u001b[38;5;18m__name__\u001b[39m\u001b[38;5;132;01m}\u001b[39;00m\u001b[38;5;124m is ambiguous. \u001b[39m\u001b[38;5;124m\"\u001b[39m\n\u001b[0;32m   1529\u001b[0m         \u001b[38;5;124m\"\u001b[39m\u001b[38;5;124mUse a.empty, a.bool(), a.item(), a.any() or a.all().\u001b[39m\u001b[38;5;124m\"\u001b[39m\n\u001b[0;32m   1530\u001b[0m     )\n",
      "\u001b[1;31mValueError\u001b[0m: The truth value of a Series is ambiguous. Use a.empty, a.bool(), a.item(), a.any() or a.all()."
     ]
    },
    {
     "data": {
      "image/png": "[encoded data removed]",
      "text/plain": [
       "<Figure size 432x288 with 1 Axes>"
      ]
     },
     "metadata": {
      "needs_background": "light"
     },
     "output_type": "display_data"
    }
   ],
   "source": [
    "plt.boxplot(df.MonthlyCharges,df.Churn)"
   ]
  },
  {
   "cell_type": "code",
   "execution_count": 99,
   "id": "f205ceb3",
   "metadata": {},
   "outputs": [
    {
     "data": {
      "image/png": "[encoded data removed]",
      "text/plain": [
       "<Figure size 648x432 with 1 Axes>"
      ]
     },
     "metadata": {
      "needs_background": "light"
     },
     "output_type": "display_data"
    }
   ],
   "source": [
    "plt.figure(figsize = (9,6))\n",
    "ax = plt.gca()\n",
    "df.boxplot(column = 'MonthlyCharges',by = 'Churn',ax = ax)\n",
    "ax.set_ylabel('Monthly Charges')\n",
    "plt.show()"
   ]
  },
  {
   "cell_type": "code",
   "execution_count": 160,
   "id": "ea5d2706",
   "metadata": {},
   "outputs": [
    {
     "data": {
      "image/png": "[encoded data removed]",
      "text/plain": [
       "<Figure size 720x1440 with 3 Axes>"
      ]
     },
     "metadata": {
      "needs_background": "light"
     },
     "output_type": "display_data"
    }
   ],
   "source": [
    "\n",
    "fig, axs = plt.subplots(3,1,figsize = (10,20))\n",
    "flat_axis = axs.flatten()\n",
    "count = 0\n",
    "for i in df.describe().columns.tolist():\n",
    "    df.boxplot(column = i,by = 'Churn', ax = flat_axis[count],color = 'red')\n",
    "    flat_axis[count].set_ylabel(i,fontsize = 12)\n",
    "    \n",
    "    count+=1\n",
    "\n",
    "plt.show()"
   ]
  },
  {
   "cell_type": "code",
   "execution_count": 149,
   "id": "abb216ae",
   "metadata": {},
   "outputs": [
    {
     "data": {
      "text/plain": [
       "0    5901\n",
       "1    1142\n",
       "Name: SeniorCitizen, dtype: int64"
      ]
     },
     "execution_count": 149,
     "metadata": {},
     "output_type": "execute_result"
    }
   ],
   "source": [
    "df.SeniorCitizen.value_counts() # so it is basically a catagorical only "
   ]
  },
  {
   "cell_type": "code",
   "execution_count": 166,
   "id": "2f7b57ee",
   "metadata": {},
   "outputs": [
    {
     "data": {
      "image/png": "[encoded data removed]",
      "text/plain": [
       "<Figure size 720x1440 with 2 Axes>"
      ]
     },
     "metadata": {
      "needs_background": "light"
     },
     "output_type": "display_data"
    }
   ],
   "source": [
    "\n",
    "fig, axs = plt.subplots(2,1,figsize = (10,20))\n",
    "flat_axis = axs.flatten()\n",
    "count = 0\n",
    "for i in df.describe().columns.tolist():\n",
    "    if i not in ['SeniorCitizen']:\n",
    "        df.boxplot(column = i,by = 'Churn', ax = flat_axis[count],color = 'red')\n",
    "        flat_axis[count].set_ylabel(i,fontsize = 12)\n",
    "    \n",
    "        count+=1 #don't keep in else part \n",
    "\n",
    "plt.show()"
   ]
  },
  {
   "cell_type": "code",
   "execution_count": 178,
   "id": "20a35ddd",
   "metadata": {},
   "outputs": [],
   "source": [
    "df['Class'] = df['Churn'].apply(lambda x:1 if x == 'Yes' else 0)"
   ]
  },
  {
   "cell_type": "code",
   "execution_count": 182,
   "id": "939ecf87",
   "metadata": {},
   "outputs": [],
   "source": [
    "X=df[['tenure','MonthlyCharges']].copy()\n",
    "y= df['Churn'].copy()"
   ]
  },
  {
   "cell_type": "code",
   "execution_count": 185,
   "id": "59d2b7aa",
   "metadata": {},
   "outputs": [],
   "source": [
    "# let's train test split\n",
    "from sklearn.model_selection import train_test_split\n",
    "X_train, X_test,y_train,y_test = train_test_split(X,y,test_size = 0.2, random_state = 0)"
   ]
  },
  {
   "cell_type": "code",
   "execution_count": 187,
   "id": "aad559cb",
   "metadata": {},
   "outputs": [
    {
     "data": {
      "text/plain": [
       "((5634, 2), (1409, 2))"
      ]
     },
     "execution_count": 187,
     "metadata": {},
     "output_type": "execute_result"
    }
   ],
   "source": [
    "X_train.shape,X_test.shape"
   ]
  },
  {
   "cell_type": "code",
   "execution_count": 188,
   "id": "2317e155",
   "metadata": {},
   "outputs": [
    {
     "data": {
      "text/plain": [
       "((5634,), (1409,))"
      ]
     },
     "execution_count": 188,
     "metadata": {},
     "output_type": "execute_result"
    }
   ],
   "source": [
    "y_train.shape,y_test.shape"
   ]
  },
  {
   "cell_type": "code",
   "execution_count": 191,
   "id": "1f762221",
   "metadata": {},
   "outputs": [
    {
     "data": {
      "text/plain": [
       "LogisticRegression(max_iter=10000)"
      ]
     },
     "execution_count": 191,
     "metadata": {},
     "output_type": "execute_result"
    }
   ],
   "source": [
    "model = LogisticRegression(fit_intercept = True , max_iter = 10000)\n",
    "model.fit(X_train,y_train)"
   ]
  },
  {
   "cell_type": "code",
   "execution_count": 194,
   "id": "1ac37695",
   "metadata": {},
   "outputs": [
    {
     "data": {
      "text/plain": [
       "array([[-0.05646728,  0.03315385]])"
      ]
     },
     "execution_count": 194,
     "metadata": {},
     "output_type": "execute_result"
    }
   ],
   "source": [
    "model.coef_"
   ]
  },
  {
   "cell_type": "code",
   "execution_count": 195,
   "id": "21870f33",
   "metadata": {},
   "outputs": [
    {
     "data": {
      "text/plain": [
       "array([-1.77408975])"
      ]
     },
     "execution_count": 195,
     "metadata": {},
     "output_type": "execute_result"
    }
   ],
   "source": [
    "model.intercept_"
   ]
  },
  {
   "cell_type": "markdown",
   "id": "30a1cb43",
   "metadata": {},
   "source": [
    "# evaluation "
   ]
  },
  {
   "cell_type": "code",
   "execution_count": 198,
   "id": "bdae3476",
   "metadata": {},
   "outputs": [
    {
     "data": {
      "text/plain": [
       "array(['No', 'No', 'No', ..., 'No', 'Yes', 'No'], dtype=object)"
      ]
     },
     "execution_count": 198,
     "metadata": {},
     "output_type": "execute_result"
    }
   ],
   "source": [
    "# simply gives you the label \n",
    "model.predict(X_train)"
   ]
  },
  {
   "cell_type": "code",
   "execution_count": 217,
   "id": "7bb67bbc",
   "metadata": {},
   "outputs": [],
   "source": [
    "# gives you the probability for class 1\n",
    "train_preds=model.predict_proba(X_train)"
   ]
  },
  {
   "cell_type": "code",
   "execution_count": 218,
   "id": "96a7284b",
   "metadata": {},
   "outputs": [],
   "source": [
    "test_preds = model.predict_proba(X_test)"
   ]
  },
  {
   "cell_type": "code",
   "execution_count": 207,
   "id": "6b718a72",
   "metadata": {},
   "outputs": [
    {
     "data": {
      "text/plain": [
       "array([0.2854851 , 0.21477359, 0.46935224, ..., 0.22711321, 0.28381889,\n",
       "       0.42259962])"
      ]
     },
     "execution_count": 207,
     "metadata": {},
     "output_type": "execute_result"
    }
   ],
   "source": [
    "test_preds[:,1]"
   ]
  },
  {
   "cell_type": "code",
   "execution_count": 219,
   "id": "8fbec9a6",
   "metadata": {},
   "outputs": [
    {
     "data": {
      "text/plain": [
       "array([[0.7145149 , 0.2854851 ],\n",
       "       [0.78522641, 0.21477359],\n",
       "       [0.53064776, 0.46935224],\n",
       "       ...,\n",
       "       [0.77288679, 0.22711321],\n",
       "       [0.71618111, 0.28381889],\n",
       "       [0.57740038, 0.42259962]])"
      ]
     },
     "execution_count": 219,
     "metadata": {},
     "output_type": "execute_result"
    }
   ],
   "source": [
    "test_preds"
   ]
  },
  {
   "cell_type": "code",
   "execution_count": 220,
   "id": "42fc8925",
   "metadata": {},
   "outputs": [],
   "source": [
    "#In the test preds we have both the class 0 and class 1 probability lets take the probability of class 1 \n",
    "test_preds = test_preds[:,1]\n",
    "train_preds = train_preds[:,1]"
   ]
  },
  {
   "cell_type": "code",
   "execution_count": 224,
   "id": "31584a99",
   "metadata": {},
   "outputs": [],
   "source": [
    "test_class_preds = model.predict(X_test)\n",
    "train_class_preds=model.predict(X_train)"
   ]
  },
  {
   "cell_type": "code",
   "execution_count": 225,
   "id": "62034cf2",
   "metadata": {},
   "outputs": [
    {
     "data": {
      "text/plain": [
       "array(['No', 'No', 'No', ..., 'No', 'Yes', 'No'], dtype=object)"
      ]
     },
     "execution_count": 225,
     "metadata": {},
     "output_type": "execute_result"
    }
   ],
   "source": [
    "train_class_preds"
   ]
  },
  {
   "cell_type": "code",
   "execution_count": 228,
   "id": "4c862236",
   "metadata": {},
   "outputs": [],
   "source": [
    "from sklearn.metrics import accuracy_score, confusion_matrix\n",
    "import seaborn as sns\n"
   ]
  },
  {
   "cell_type": "code",
   "execution_count": 230,
   "id": "de27535f",
   "metadata": {},
   "outputs": [
    {
     "data": {
      "text/plain": [
       "0.7857649982250621"
      ]
     },
     "execution_count": 230,
     "metadata": {},
     "output_type": "execute_result"
    }
   ],
   "source": [
    "# the accuracy score or training \n",
    "accuracy_score(train_class_preds,y_train)"
   ]
  },
  {
   "cell_type": "code",
   "execution_count": 231,
   "id": "0253bbb3",
   "metadata": {},
   "outputs": [
    {
     "data": {
      "text/plain": [
       "0.7735982966643009"
      ]
     },
     "execution_count": 231,
     "metadata": {},
     "output_type": "execute_result"
    }
   ],
   "source": [
    "# the accuracy score of test\n",
    "accuracy_score(test_class_preds, y_test)"
   ]
  },
  {
   "cell_type": "code",
   "execution_count": 233,
   "id": "cecf7f99",
   "metadata": {},
   "outputs": [
    {
     "data": {
      "text/plain": [
       "array([[3745,  388],\n",
       "       [ 819,  682]], dtype=int64)"
      ]
     },
     "execution_count": 233,
     "metadata": {},
     "output_type": "execute_result"
    }
   ],
   "source": [
    "confusion_matrix(y_train,train_class_preds)"
   ]
  },
  {
   "cell_type": "code",
   "execution_count": 256,
   "id": "7a4300ab",
   "metadata": {},
   "outputs": [
    {
     "data": {
      "image/png": "[encoded data removed]",
      "text/plain": [
       "<Figure size 432x288 with 2 Axes>"
      ]
     },
     "metadata": {
      "needs_background": "light"
     },
     "output_type": "display_data"
    },
    {
     "data": {
      "text/plain": [
       "<Figure size 648x432 with 0 Axes>"
      ]
     },
     "metadata": {},
     "output_type": "display_data"
    }
   ],
   "source": [
    "ax = plt.gca()\n",
    "plt.figure(figsize = (9,6))\n",
    "sns.heatmap(confusion_matrix(train_class_preds,y_train),annot = True,ax = ax)\n",
    "ax.set_title('Confusion Matrix for train', fontsize = 15)\n",
    "ax.xaxis.set_ticklabels(['Retained','Churned'])\n",
    "ax.yaxis.set_ticklabels(['Retained','Churned'])\n",
    "plt.show()"
   ]
  },
  {
   "cell_type": "code",
   "execution_count": 260,
   "id": "a80440e6",
   "metadata": {},
   "outputs": [
    {
     "data": {
      "image/png": "[encoded data removed]",
      "text/plain": [
       "<Figure size 432x288 with 2 Axes>"
      ]
     },
     "metadata": {
      "needs_background": "light"
     },
     "output_type": "display_data"
    },
    {
     "data": {
      "text/plain": [
       "<Figure size 648x432 with 0 Axes>"
      ]
     },
     "metadata": {},
     "output_type": "display_data"
    }
   ],
   "source": [
    "ax = plt.gca()\n",
    "plt.figure(figsize = (9,6))\n",
    "sns.heatmap(confusion_matrix(test_class_preds,y_test),annot = True,ax = ax,cmap = 'hot')\n",
    "ax.set_title('Confusion Matrix for test', fontsize = 15)\n",
    "ax.xaxis.set_ticklabels(['Retained','Churned'])\n",
    "ax.yaxis.set_ticklabels(['Retained','Churned'])\n",
    "plt.show()"
   ]
  },
  {
   "cell_type": "code",
   "execution_count": 263,
   "id": "15fb14ef",
   "metadata": {},
   "outputs": [],
   "source": [
    "from sklearn.model_selection import cross_validate"
   ]
  },
  {
   "cell_type": "code",
   "execution_count": 266,
   "id": "8a0a022b",
   "metadata": {},
   "outputs": [
    {
     "name": "stderr",
     "output_type": "stream",
     "text": [
      "[Parallel(n_jobs=1)]: Using backend SequentialBackend with 1 concurrent workers.\n"
     ]
    },
    {
     "name": "stdout",
     "output_type": "stream",
     "text": [
      "[CV] START .....................................................................\n",
      "[CV] END ..................., score=(train=0.784, test=0.781) total time=   0.1s\n",
      "[CV] START .....................................................................\n",
      "[CV] END ..................., score=(train=0.785, test=0.788) total time=   0.0s\n",
      "[CV] START .....................................................................\n",
      "[CV] END ..................., score=(train=0.787, test=0.772) total time=   0.0s\n",
      "[CV] START .....................................................................\n",
      "[CV] END ..................., score=(train=0.783, test=0.791) total time=   0.0s\n",
      "[CV] START .....................................................................\n"
     ]
    },
    {
     "name": "stderr",
     "output_type": "stream",
     "text": [
      "[Parallel(n_jobs=1)]: Done   1 out of   1 | elapsed:    0.2s remaining:    0.0s\n",
      "[Parallel(n_jobs=1)]: Done   2 out of   2 | elapsed:    0.2s remaining:    0.0s\n",
      "[Parallel(n_jobs=1)]: Done   3 out of   3 | elapsed:    0.3s remaining:    0.0s\n",
      "[Parallel(n_jobs=1)]: Done   4 out of   4 | elapsed:    0.3s remaining:    0.0s\n"
     ]
    },
    {
     "name": "stdout",
     "output_type": "stream",
     "text": [
      "[CV] END ..................., score=(train=0.784, test=0.790) total time=   0.0s\n"
     ]
    },
    {
     "name": "stderr",
     "output_type": "stream",
     "text": [
      "[Parallel(n_jobs=1)]: Done   5 out of   5 | elapsed:    0.4s remaining:    0.0s\n",
      "[Parallel(n_jobs=1)]: Done   5 out of   5 | elapsed:    0.4s finished\n"
     ]
    }
   ],
   "source": [
    "model = LogisticRegression()\n",
    "cv_model = cross_validate(model, X, y, scoring = 'accuracy', cv = 5, return_train_score = True, return_estimator = True,verbose = 10)"
   ]
  },
  {
   "cell_type": "code",
   "execution_count": 273,
   "id": "2b35c057",
   "metadata": {},
   "outputs": [
    {
     "data": {
      "text/plain": [
       "{'fit_time': array([0.21572256, 0.04160976, 0.04688907, 0.03125072, 0.03124714]),\n",
       " 'score_time': array([0.00508571, 0.00399756, 0.        , 0.        , 0.        ]),\n",
       " 'estimator': [LogisticRegression(),\n",
       "  LogisticRegression(),\n",
       "  LogisticRegression(),\n",
       "  LogisticRegression(),\n",
       "  LogisticRegression()],\n",
       " 'test_score': array([0.78140525, 0.78779276, 0.77217885, 0.79119318, 0.78977273]),\n",
       " 'train_score': array([0.78434505, 0.78470004, 0.78736244, 0.78314108, 0.78402839])}"
      ]
     },
     "execution_count": 273,
     "metadata": {},
     "output_type": "execute_result"
    }
   ],
   "source": [
    "# this retruns a dictonary \n",
    "cv_model"
   ]
  },
  {
   "cell_type": "code",
   "execution_count": 274,
   "id": "d922b309",
   "metadata": {},
   "outputs": [
    {
     "data": {
      "text/plain": [
       "array([0.78434505, 0.78470004, 0.78736244, 0.78314108, 0.78402839])"
      ]
     },
     "execution_count": 274,
     "metadata": {},
     "output_type": "execute_result"
    }
   ],
   "source": [
    "cv_model['train_score']"
   ]
  },
  {
   "cell_type": "code",
   "execution_count": 275,
   "id": "45cd5fb8",
   "metadata": {},
   "outputs": [
    {
     "data": {
      "text/plain": [
       "array([0.78140525, 0.78779276, 0.77217885, 0.79119318, 0.78977273])"
      ]
     },
     "execution_count": 275,
     "metadata": {},
     "output_type": "execute_result"
    }
   ],
   "source": [
    "cv_model['test_score']"
   ]
  },
  {
   "cell_type": "code",
   "execution_count": 279,
   "id": "b0eb0e0b",
   "metadata": {},
   "outputs": [
    {
     "ename": "KeyError",
     "evalue": "'train_estimator'",
     "output_type": "error",
     "traceback": [
      "\u001b[1;31m---------------------------------------------------------------------------\u001b[0m",
      "\u001b[1;31mKeyError\u001b[0m                                  Traceback (most recent call last)",
      "Input \u001b[1;32mIn [279]\u001b[0m, in \u001b[0;36m<cell line: 1>\u001b[1;34m()\u001b[0m\n\u001b[1;32m----> 1\u001b[0m \u001b[43mcv_model\u001b[49m\u001b[43m[\u001b[49m\u001b[38;5;124;43m'\u001b[39;49m\u001b[38;5;124;43mtrain_estimator\u001b[39;49m\u001b[38;5;124;43m'\u001b[39;49m\u001b[43m]\u001b[49m\n",
      "\u001b[1;31mKeyError\u001b[0m: 'train_estimator'"
     ]
    }
   ],
   "source": [
    "cv_model['train_estimator']"
   ]
  },
  {
   "cell_type": "code",
   "execution_count": 281,
   "id": "376f23a6",
   "metadata": {},
   "outputs": [
    {
     "name": "stderr",
     "output_type": "stream",
     "text": [
      "[Parallel(n_jobs=1)]: Using backend SequentialBackend with 1 concurrent workers.\n",
      "[Parallel(n_jobs=1)]: Done   1 out of   1 | elapsed:    0.0s remaining:    0.0s\n",
      "[Parallel(n_jobs=1)]: Done   2 out of   2 | elapsed:    0.0s remaining:    0.0s\n",
      "[Parallel(n_jobs=1)]: Done   3 out of   3 | elapsed:    0.1s remaining:    0.0s\n"
     ]
    },
    {
     "name": "stdout",
     "output_type": "stream",
     "text": [
      "[CV] START .....................................................................\n",
      "[CV] END ................ accuracy: (train=0.785, test=0.789) total time=   0.0s\n",
      "[CV] START .....................................................................\n",
      "[CV] END ................ accuracy: (train=0.787, test=0.791) total time=   0.0s\n",
      "[CV] START .....................................................................\n",
      "[CV] END ................ accuracy: (train=0.788, test=0.771) total time=   0.0s\n",
      "[CV] START .....................................................................\n",
      "[CV] END ................ accuracy: (train=0.789, test=0.775) total time=   0.0s\n",
      "[CV] START .....................................................................\n",
      "[CV] END ................ accuracy: (train=0.781, test=0.806) total time=   0.0s\n"
     ]
    },
    {
     "name": "stderr",
     "output_type": "stream",
     "text": [
      "[Parallel(n_jobs=1)]: Done   4 out of   4 | elapsed:    0.1s remaining:    0.0s\n",
      "[Parallel(n_jobs=1)]: Done   5 out of   5 | elapsed:    0.2s remaining:    0.0s\n",
      "[Parallel(n_jobs=1)]: Done   5 out of   5 | elapsed:    0.2s finished\n"
     ]
    }
   ],
   "source": [
    "logistic = LogisticRegression()\n",
    "scoring = ['accuracy']\n",
    "scores = cross_validate(logistic,X_train, y_train, scoring = scoring, cv = 5, return_train_score=True,return_estimator=True,verbose = 10)"
   ]
  },
  {
   "cell_type": "code",
   "execution_count": 286,
   "id": "a1930171",
   "metadata": {},
   "outputs": [
    {
     "data": {
      "text/plain": [
       "array([0.78500111, 0.78677613, 0.78788551, 0.78877302, 0.78127773])"
      ]
     },
     "execution_count": 286,
     "metadata": {},
     "output_type": "execute_result"
    }
   ],
   "source": [
    "scores['train_accuracy']"
   ]
  },
  {
   "cell_type": "code",
   "execution_count": 287,
   "id": "9e35e39c",
   "metadata": {},
   "outputs": [
    {
     "name": "stdout",
     "output_type": "stream",
     "text": [
      "[[-0.05617762  0.03293792]]\n",
      "[[-0.05562275  0.03215852]]\n",
      "[[-0.05820295  0.03454813]]\n",
      "[[-0.05711808  0.03362381]]\n",
      "[[-0.05530045  0.03257423]]\n"
     ]
    }
   ],
   "source": [
    "for model in scores['estimator']:\n",
    "    print(model.coef_)"
   ]
  },
  {
   "cell_type": "markdown",
   "id": "e8a79c9a",
   "metadata": {},
   "source": [
    "# likelihood function \n",
    "The likelihood function is a fundamental concept in statistical inference¹. It measures the goodness of fit of a statistical model to a sample of data for given values of the unknown parameters¹. The likelihood function indicates how likely a particular population is to produce an observed sample¹.\n",
    "\n",
    "The likelihood function (often simply called the likelihood) is the joint probability (or probability density) of observed data viewed as a function of the parameters of a statistical model³. In other words, when the parameters are viewed as a function with fixed data, it is a likelihood function³.\n",
    "\n",
    "In the frequentist paradigm, the notation is often avoided and instead or are used to indicate that the parameters are regarded as a fixed unknown quantity rather than as a random variable being conditioned on³. The likelihood function does not specify the probability that the parameters are the truth, given the observed sample³.\n",
    "\n",
    "Unlike probability density functions, likelihoods aren’t normalized⁴. For example, if we find that L (θ 1 | x) > L (θ 2 | x), we know that our observed point x is more likely to have been observed under parameter conditions θ = θ 1 rather than θ = θ 2⁴.\n",
    "\n",
    "Source: Conversation with Bing, 12/10/2023\n",
    "(1) Likelihood Function - Statistics.com: Data Science, Analytics .... https://www.statistics.com/glossary/likelihood-function/.\n",
    "(2) Likelihood function - Wikipedia. https://en.wikipedia.org/wiki/Likelihood_function.\n",
    "(3) Likelihood Function: Overview / Simple Definition - Statistics How To. https://www.statisticshowto.com/likelihood-function-definition/.\n",
    "(4) . https://bing.com/search?q=definition+of+likelihood+function.\n",
    "(5) undefined. https://en.wikipedia.org/wiki/Likelihood_principle.\n",
    "(6) undefined. https://www.stat.purdue.edu/~zhanghao/MAS/handout/Likelihood.pdf."
   ]
  },
  {
   "cell_type": "markdown",
   "id": "b2a1275c",
   "metadata": {},
   "source": [
    "You must be wondering what is theta 1 and theta 2 given x\n",
    "\n",
    "Sure, let's consider a simple example of flipping a coin. Suppose we have a coin and we don't know if it's fair (i.e., the probability of getting a head is 0.5) or not. We can denote the unknown probability of getting a head as θ.\n",
    "\n",
    "Now, suppose we flip the coin 10 times and observe 7 heads. We want to know how likely this outcome is under different values of θ.\n",
    "\n",
    "Here, θ1 could be 0.5 (indicating a fair coin) and θ2 could be 0.7 (indicating a slightly biased coin).\n",
    "\n",
    "- The likelihood of observing 7 heads in 10 flips for a fair coin (θ1 = 0.5) can be calculated using the binomial distribution formula: L(θ1|x) = C(10, 7) * (0.5)^7 * (1-0.5)^(10-7)\n",
    "- Similarly, the likelihood of observing the data for a biased coin (θ2 = 0.7) would be: L(θ2|x) = C(10, 7) * (0.7)^7 * (1-0.7)^(10-7)\n",
    "\n",
    "If L(θ1|x) > L(θ2|x), it means that the observed data (7 heads in 10 flips) is more likely to have occurred if the coin was fair (θ1 = 0.5). Conversely, if L(θ2|x) > L(θ1|x), it suggests that the data is more likely under the condition that the coin was slightly biased towards heads (θ2 = 0.7).\n",
    "\n",
    "This is a simplified example and in real-world applications, we often deal with multiple parameters and complex likelihood functions."
   ]
  },
  {
   "cell_type": "markdown",
   "id": "ae351a7e",
   "metadata": {},
   "source": [
    "**Thing of it like this using the logit function you have generated the the probabilities now using the likelihood function you can see how well you prediction fits the actually values,** \n",
    "\n",
    "**and when you have a likelihood which is maximum this means your assumption(predictions) fits very well with the actuall values i.e good model**\n",
    "\n",
    "**the concept why maximum I have convered in the notebook**  "
   ]
  },
  {
   "cell_type": "code",
   "execution_count": null,
   "id": "83c93c98",
   "metadata": {},
   "outputs": [],
   "source": []
  }
 ],
 "metadata": {
  "kernelspec": {
   "display_name": "Python 3 (ipykernel)",
   "language": "python",
   "name": "python3"
  },
  "language_info": {
   "codemirror_mode": {
    "name": "ipython",
    "version": 3
   },
   "file_extension": ".py",
   "mimetype": "text/x-python",
   "name": "python",
   "nbconvert_exporter": "python",
   "pygments_lexer": "ipython3",
   "version": "3.9.12"
  }
 },
 "nbformat": 4,
 "nbformat_minor": 5
}
