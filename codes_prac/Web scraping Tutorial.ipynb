{
 "cells": [
  {
   "cell_type": "markdown",
   "id": "c2868c54",
   "metadata": {},
   "source": [
    "# Web scraping and API fundamentals"
   ]
  },
  {
   "cell_type": "markdown",
   "id": "c6429612",
   "metadata": {},
   "source": [
    "first set do a www.indeed.com/robot.txt to check the permessions"
   ]
  },
  {
   "cell_type": "code",
   "execution_count": 1,
   "id": "8d64a668",
   "metadata": {},
   "outputs": [],
   "source": [
    "import requests "
   ]
  },
  {
   "cell_type": "code",
   "execution_count": 3,
   "id": "de1562ee",
   "metadata": {},
   "outputs": [],
   "source": [
    "api_key = '95fe6e86d0d2799b408b66a312475bca' # You will have to provide the api key "
   ]
  },
  {
   "cell_type": "code",
   "execution_count": 217,
   "id": "6b426809",
   "metadata": {},
   "outputs": [],
   "source": [
    "# folow the f string here and the ? access_key = {api_key} syntax \n",
    "base_url = f'http://api.exchangeratesapi.io/latest?access_key={api_key}' # the https request is restricted use http instead \n",
    "response = requests.get(base_url)"
   ]
  },
  {
   "cell_type": "code",
   "execution_count": 218,
   "id": "035ed6e4",
   "metadata": {},
   "outputs": [
    {
     "data": {
      "text/plain": [
       "True"
      ]
     },
     "execution_count": 218,
     "metadata": {},
     "output_type": "execute_result"
    }
   ],
   "source": [
    "# check if success\n",
    "response.ok"
   ]
  },
  {
   "cell_type": "code",
   "execution_count": 219,
   "id": "064d9ca3",
   "metadata": {},
   "outputs": [
    {
     "data": {
      "text/plain": [
       "200"
      ]
     },
     "execution_count": 219,
     "metadata": {},
     "output_type": "execute_result"
    }
   ],
   "source": [
    "# check in server lingo\n",
    "# 200 means success\n",
    "response.status_code"
   ]
  },
  {
   "cell_type": "code",
   "execution_count": 220,
   "id": "5c97a738",
   "metadata": {},
   "outputs": [
    {
     "data": {
      "text/plain": [
       "'{\"success\":true,\"timestamp\":1700315583,\"base\":\"EUR\",\"date\":\"2023-11-18\",\"rates\":{\"AED\":4.00965,\"AFN\":75.018901,\"ALL\":103.920772,\"AMD\":437.476958,\"ANG\":1.957849,\"AOA\":903.570398,\"ARS\":384.006996,\"AUD\":1.676099,\"AWG\":1.964957,\"AZN\":1.860127,\"BAM\":1.95525,\"BBD\":2.193383,\"BDT\":120.306163,\"BGN\":1.95964,\"BHD\":0.409685,\"BIF\":3087.531618,\"BMD\":1.091643,\"BND\":1.460289,\"BOB\":7.506889,\"BRL\":5.355496,\"BSD\":1.086294,\"BTC\":2.9952381e-5,\"BTN\":90.447761,\"BWP\":14.571902,\"BYN\":3.578494,\"BYR\":21396.202226,\"BZD\":2.189684,\"CAD\":1.497898,\"CDF\":2866.654836,\"CHF\":0.966941,\"CLF\":0.034535,\"CLP\":952.921987,\"CNY\":7.871514,\"COP\":4439.651329,\"CRC\":577.337621,\"CUC\":1.091643,\"CUP\":28.928539,\"CVE\":110.233996,\"CZK\":24.489537,\"DJF\":193.415601,\"DKK\":7.458764,\"DOP\":61.692649,\"DZD\":146.66446,\"EGP\":33.594451,\"ERN\":16.374645,\"ETB\":60.756612,\"EUR\":1,\"FJD\":2.498666,\"FKP\":0.878435,\"GBP\":0.876329,\"GEL\":2.942022,\"GGP\":0.878435,\"GHS\":12.989347,\"GIP\":0.878435,\"GMD\":73.413415,\"GNF\":9334.374667,\"GTQ\":8.505608,\"GYD\":227.276078,\"HKD\":8.511814,\"HNL\":26.831454,\"HRK\":7.68688,\"HTG\":144.149457,\"HUF\":379.215358,\"IDR\":16837.828673,\"ILS\":4.05755,\"IMP\":0.878435,\"INR\":90.924854,\"IQD\":1423.099747,\"IRR\":46135.565218,\"ISK\":152.895936,\"JEP\":0.878435,\"JMD\":169.282389,\"JOD\":0.774307,\"JPY\":163.238875,\"KES\":165.443468,\"KGS\":97.293557,\"KHR\":4475.741179,\"KMF\":495.196586,\"KPW\":982.491758,\"KRW\":1415.184533,\"KWD\":0.336543,\"KYD\":0.905245,\"KZT\":504.048234,\"LAK\":22526.664279,\"LBP\":16327.407846,\"LKR\":356.339778,\"LRD\":205.065549,\"LSL\":20.053898,\"LTL\":3.223338,\"LVL\":0.660324,\"LYD\":5.26352,\"MAD\":11.017801,\"MDL\":19.374551,\"MGA\":4920.616056,\"MKD\":61.597675,\"MMK\":2281.258386,\"MNT\":3763.112256,\"MOP\":8.726346,\"MRO\":389.716353,\"MUR\":48.207367,\"MVR\":16.866297,\"MWK\":1828.685674,\"MXN\":18.807484,\"MYR\":5.100706,\"MZN\":69.046364,\"NAD\":20.053893,\"NGN\":917.024173,\"NIO\":39.758818,\"NOK\":11.783075,\"NPR\":144.716298,\"NZD\":1.820619,\"OMR\":0.420217,\"PAB\":1.086294,\"PEN\":4.201418,\"PGK\":4.103846,\"PHP\":60.474296,\"PKR\":311.230565,\"PLN\":4.386266,\"PYG\":8072.72951,\"QAR\":3.974714,\"RON\":4.977678,\"RSD\":117.207035,\"RUB\":97.538707,\"RWF\":1339.823169,\"SAR\":4.094218,\"SBD\":9.191265,\"SCR\":14.320772,\"SDG\":656.077796,\"SEK\":11.564833,\"SGD\":1.467391,\"SHP\":1.328257,\"SLE\":24.490293,\"SLL\":21559.949041,\"SOS\":623.328506,\"SRD\":41.640763,\"STD\":22594.805475,\"SYP\":14193.347758,\"SZL\":19.885407,\"THB\":38.639253,\"TJS\":11.884357,\"TMT\":3.82075,\"TND\":3.399926,\"TOP\":2.600335,\"TRY\":31.307888,\"TTD\":7.376925,\"TWD\":34.659341,\"TZS\":2713.636778,\"UAH\":39.236265,\"UGX\":4105.845213,\"USD\":1.091643,\"UYU\":43.147864,\"UZS\":13340.247998,\"VEF\":3861416.594396,\"VES\":38.607661,\"VND\":26488.716684,\"VUV\":132.260957,\"WST\":3.025362,\"XAF\":655.772561,\"XAG\":0.04601,\"XAU\":0.000551,\"XCD\":2.95022,\"XDR\":0.820169,\"XOF\":655.772561,\"XPF\":120.572363,\"YER\":273.351325,\"ZAR\":20.024193,\"ZMK\":9826.100628,\"ZMW\":25.229904,\"ZWL\":351.508591}}'"
      ]
     },
     "execution_count": 220,
     "metadata": {},
     "output_type": "execute_result"
    }
   ],
   "source": [
    "# get the response in string format\n",
    "response.text"
   ]
  },
  {
   "cell_type": "code",
   "execution_count": 221,
   "id": "df114ef0",
   "metadata": {},
   "outputs": [
    {
     "name": "stdout",
     "output_type": "stream",
     "text": [
      "{'success': True, 'timestamp': 1700315583, 'base': 'EUR', 'date': '2023-11-18', 'rates': {'AED': 4.00965, 'AFN': 75.018901, 'ALL': 103.920772, 'AMD': 437.476958, 'ANG': 1.957849, 'AOA': 903.570398, 'ARS': 384.006996, 'AUD': 1.676099, 'AWG': 1.964957, 'AZN': 1.860127, 'BAM': 1.95525, 'BBD': 2.193383, 'BDT': 120.306163, 'BGN': 1.95964, 'BHD': 0.409685, 'BIF': 3087.531618, 'BMD': 1.091643, 'BND': 1.460289, 'BOB': 7.506889, 'BRL': 5.355496, 'BSD': 1.086294, 'BTC': 2.9952381e-05, 'BTN': 90.447761, 'BWP': 14.571902, 'BYN': 3.578494, 'BYR': 21396.202226, 'BZD': 2.189684, 'CAD': 1.497898, 'CDF': 2866.654836, 'CHF': 0.966941, 'CLF': 0.034535, 'CLP': 952.921987, 'CNY': 7.871514, 'COP': 4439.651329, 'CRC': 577.337621, 'CUC': 1.091643, 'CUP': 28.928539, 'CVE': 110.233996, 'CZK': 24.489537, 'DJF': 193.415601, 'DKK': 7.458764, 'DOP': 61.692649, 'DZD': 146.66446, 'EGP': 33.594451, 'ERN': 16.374645, 'ETB': 60.756612, 'EUR': 1, 'FJD': 2.498666, 'FKP': 0.878435, 'GBP': 0.876329, 'GEL': 2.942022, 'GGP': 0.878435, 'GHS': 12.989347, 'GIP': 0.878435, 'GMD': 73.413415, 'GNF': 9334.374667, 'GTQ': 8.505608, 'GYD': 227.276078, 'HKD': 8.511814, 'HNL': 26.831454, 'HRK': 7.68688, 'HTG': 144.149457, 'HUF': 379.215358, 'IDR': 16837.828673, 'ILS': 4.05755, 'IMP': 0.878435, 'INR': 90.924854, 'IQD': 1423.099747, 'IRR': 46135.565218, 'ISK': 152.895936, 'JEP': 0.878435, 'JMD': 169.282389, 'JOD': 0.774307, 'JPY': 163.238875, 'KES': 165.443468, 'KGS': 97.293557, 'KHR': 4475.741179, 'KMF': 495.196586, 'KPW': 982.491758, 'KRW': 1415.184533, 'KWD': 0.336543, 'KYD': 0.905245, 'KZT': 504.048234, 'LAK': 22526.664279, 'LBP': 16327.407846, 'LKR': 356.339778, 'LRD': 205.065549, 'LSL': 20.053898, 'LTL': 3.223338, 'LVL': 0.660324, 'LYD': 5.26352, 'MAD': 11.017801, 'MDL': 19.374551, 'MGA': 4920.616056, 'MKD': 61.597675, 'MMK': 2281.258386, 'MNT': 3763.112256, 'MOP': 8.726346, 'MRO': 389.716353, 'MUR': 48.207367, 'MVR': 16.866297, 'MWK': 1828.685674, 'MXN': 18.807484, 'MYR': 5.100706, 'MZN': 69.046364, 'NAD': 20.053893, 'NGN': 917.024173, 'NIO': 39.758818, 'NOK': 11.783075, 'NPR': 144.716298, 'NZD': 1.820619, 'OMR': 0.420217, 'PAB': 1.086294, 'PEN': 4.201418, 'PGK': 4.103846, 'PHP': 60.474296, 'PKR': 311.230565, 'PLN': 4.386266, 'PYG': 8072.72951, 'QAR': 3.974714, 'RON': 4.977678, 'RSD': 117.207035, 'RUB': 97.538707, 'RWF': 1339.823169, 'SAR': 4.094218, 'SBD': 9.191265, 'SCR': 14.320772, 'SDG': 656.077796, 'SEK': 11.564833, 'SGD': 1.467391, 'SHP': 1.328257, 'SLE': 24.490293, 'SLL': 21559.949041, 'SOS': 623.328506, 'SRD': 41.640763, 'STD': 22594.805475, 'SYP': 14193.347758, 'SZL': 19.885407, 'THB': 38.639253, 'TJS': 11.884357, 'TMT': 3.82075, 'TND': 3.399926, 'TOP': 2.600335, 'TRY': 31.307888, 'TTD': 7.376925, 'TWD': 34.659341, 'TZS': 2713.636778, 'UAH': 39.236265, 'UGX': 4105.845213, 'USD': 1.091643, 'UYU': 43.147864, 'UZS': 13340.247998, 'VEF': 3861416.594396, 'VES': 38.607661, 'VND': 26488.716684, 'VUV': 132.260957, 'WST': 3.025362, 'XAF': 655.772561, 'XAG': 0.04601, 'XAU': 0.000551, 'XCD': 2.95022, 'XDR': 0.820169, 'XOF': 655.772561, 'XPF': 120.572363, 'YER': 273.351325, 'ZAR': 20.024193, 'ZMK': 9826.100628, 'ZMW': 25.229904, 'ZWL': 351.508591}}\n",
      "<class 'dict'>\n"
     ]
    }
   ],
   "source": [
    "# get the response in python object - it converts the json into python objects\n",
    "# json is composed of dictonary and list \n",
    "print(response.json() )\n",
    "print(type(response.json()))"
   ]
  },
  {
   "cell_type": "markdown",
   "id": "2b0c6325",
   "metadata": {},
   "source": [
    "state less is when you are not attaching any files and state is when you have to attach files with request like login is a detail you want to get to the api this means it has state but when in above case we just wanted an acces so not state "
   ]
  },
  {
   "cell_type": "code",
   "execution_count": 222,
   "id": "da72eda5",
   "metadata": {},
   "outputs": [
    {
     "data": {
      "text/plain": [
       "b'{\"success\":true,\"timestamp\":1700315583,\"base\":\"EUR\",\"date\":\"2023-11-18\",\"rates\":{\"AED\":4.00965,\"AFN\":75.018901,\"ALL\":103.920772,\"AMD\":437.476958,\"ANG\":1.957849,\"AOA\":903.570398,\"ARS\":384.006996,\"AUD\":1.676099,\"AWG\":1.964957,\"AZN\":1.860127,\"BAM\":1.95525,\"BBD\":2.193383,\"BDT\":120.306163,\"BGN\":1.95964,\"BHD\":0.409685,\"BIF\":3087.531618,\"BMD\":1.091643,\"BND\":1.460289,\"BOB\":7.506889,\"BRL\":5.355496,\"BSD\":1.086294,\"BTC\":2.9952381e-5,\"BTN\":90.447761,\"BWP\":14.571902,\"BYN\":3.578494,\"BYR\":21396.202226,\"BZD\":2.189684,\"CAD\":1.497898,\"CDF\":2866.654836,\"CHF\":0.966941,\"CLF\":0.034535,\"CLP\":952.921987,\"CNY\":7.871514,\"COP\":4439.651329,\"CRC\":577.337621,\"CUC\":1.091643,\"CUP\":28.928539,\"CVE\":110.233996,\"CZK\":24.489537,\"DJF\":193.415601,\"DKK\":7.458764,\"DOP\":61.692649,\"DZD\":146.66446,\"EGP\":33.594451,\"ERN\":16.374645,\"ETB\":60.756612,\"EUR\":1,\"FJD\":2.498666,\"FKP\":0.878435,\"GBP\":0.876329,\"GEL\":2.942022,\"GGP\":0.878435,\"GHS\":12.989347,\"GIP\":0.878435,\"GMD\":73.413415,\"GNF\":9334.374667,\"GTQ\":8.505608,\"GYD\":227.276078,\"HKD\":8.511814,\"HNL\":26.831454,\"HRK\":7.68688,\"HTG\":144.149457,\"HUF\":379.215358,\"IDR\":16837.828673,\"ILS\":4.05755,\"IMP\":0.878435,\"INR\":90.924854,\"IQD\":1423.099747,\"IRR\":46135.565218,\"ISK\":152.895936,\"JEP\":0.878435,\"JMD\":169.282389,\"JOD\":0.774307,\"JPY\":163.238875,\"KES\":165.443468,\"KGS\":97.293557,\"KHR\":4475.741179,\"KMF\":495.196586,\"KPW\":982.491758,\"KRW\":1415.184533,\"KWD\":0.336543,\"KYD\":0.905245,\"KZT\":504.048234,\"LAK\":22526.664279,\"LBP\":16327.407846,\"LKR\":356.339778,\"LRD\":205.065549,\"LSL\":20.053898,\"LTL\":3.223338,\"LVL\":0.660324,\"LYD\":5.26352,\"MAD\":11.017801,\"MDL\":19.374551,\"MGA\":4920.616056,\"MKD\":61.597675,\"MMK\":2281.258386,\"MNT\":3763.112256,\"MOP\":8.726346,\"MRO\":389.716353,\"MUR\":48.207367,\"MVR\":16.866297,\"MWK\":1828.685674,\"MXN\":18.807484,\"MYR\":5.100706,\"MZN\":69.046364,\"NAD\":20.053893,\"NGN\":917.024173,\"NIO\":39.758818,\"NOK\":11.783075,\"NPR\":144.716298,\"NZD\":1.820619,\"OMR\":0.420217,\"PAB\":1.086294,\"PEN\":4.201418,\"PGK\":4.103846,\"PHP\":60.474296,\"PKR\":311.230565,\"PLN\":4.386266,\"PYG\":8072.72951,\"QAR\":3.974714,\"RON\":4.977678,\"RSD\":117.207035,\"RUB\":97.538707,\"RWF\":1339.823169,\"SAR\":4.094218,\"SBD\":9.191265,\"SCR\":14.320772,\"SDG\":656.077796,\"SEK\":11.564833,\"SGD\":1.467391,\"SHP\":1.328257,\"SLE\":24.490293,\"SLL\":21559.949041,\"SOS\":623.328506,\"SRD\":41.640763,\"STD\":22594.805475,\"SYP\":14193.347758,\"SZL\":19.885407,\"THB\":38.639253,\"TJS\":11.884357,\"TMT\":3.82075,\"TND\":3.399926,\"TOP\":2.600335,\"TRY\":31.307888,\"TTD\":7.376925,\"TWD\":34.659341,\"TZS\":2713.636778,\"UAH\":39.236265,\"UGX\":4105.845213,\"USD\":1.091643,\"UYU\":43.147864,\"UZS\":13340.247998,\"VEF\":3861416.594396,\"VES\":38.607661,\"VND\":26488.716684,\"VUV\":132.260957,\"WST\":3.025362,\"XAF\":655.772561,\"XAG\":0.04601,\"XAU\":0.000551,\"XCD\":2.95022,\"XDR\":0.820169,\"XOF\":655.772561,\"XPF\":120.572363,\"YER\":273.351325,\"ZAR\":20.024193,\"ZMK\":9826.100628,\"ZMW\":25.229904,\"ZWL\":351.508591}}'"
      ]
     },
     "execution_count": 222,
     "metadata": {},
     "output_type": "execute_result"
    }
   ],
   "source": [
    "# to get into bytes format\n",
    "response.content"
   ]
  },
  {
   "cell_type": "code",
   "execution_count": 223,
   "id": "7a313c51",
   "metadata": {},
   "outputs": [],
   "source": [
    "# lets beautify the response\n",
    "\n",
    "# loads convert a json formatted string into a python objects \n",
    "# dumps converts a python objects back to a regular stirng\n",
    "\n",
    "import json\n"
   ]
  },
  {
   "cell_type": "code",
   "execution_count": 224,
   "id": "4fcdfa3b",
   "metadata": {},
   "outputs": [
    {
     "name": "stdout",
     "output_type": "stream",
     "text": [
      "{\n",
      "    \"success\": true,\n",
      "    \"timestamp\": 1700315583,\n",
      "    \"base\": \"EUR\",\n",
      "    \"date\": \"2023-11-18\",\n",
      "    \"rates\": {\n",
      "        \"AED\": 4.00965,\n",
      "        \"AFN\": 75.018901,\n",
      "        \"ALL\": 103.920772,\n",
      "        \"AMD\": 437.476958,\n",
      "        \"ANG\": 1.957849,\n",
      "        \"AOA\": 903.570398,\n",
      "        \"ARS\": 384.006996,\n",
      "        \"AUD\": 1.676099,\n",
      "        \"AWG\": 1.964957,\n",
      "        \"AZN\": 1.860127,\n",
      "        \"BAM\": 1.95525,\n",
      "        \"BBD\": 2.193383,\n",
      "        \"BDT\": 120.306163,\n",
      "        \"BGN\": 1.95964,\n",
      "        \"BHD\": 0.409685,\n",
      "        \"BIF\": 3087.531618,\n",
      "        \"BMD\": 1.091643,\n",
      "        \"BND\": 1.460289,\n",
      "        \"BOB\": 7.506889,\n",
      "        \"BRL\": 5.355496,\n",
      "        \"BSD\": 1.086294,\n",
      "        \"BTC\": 2.9952381e-05,\n",
      "        \"BTN\": 90.447761,\n",
      "        \"BWP\": 14.571902,\n",
      "        \"BYN\": 3.578494,\n",
      "        \"BYR\": 21396.202226,\n",
      "        \"BZD\": 2.189684,\n",
      "        \"CAD\": 1.497898,\n",
      "        \"CDF\": 2866.654836,\n",
      "        \"CHF\": 0.966941,\n",
      "        \"CLF\": 0.034535,\n",
      "        \"CLP\": 952.921987,\n",
      "        \"CNY\": 7.871514,\n",
      "        \"COP\": 4439.651329,\n",
      "        \"CRC\": 577.337621,\n",
      "        \"CUC\": 1.091643,\n",
      "        \"CUP\": 28.928539,\n",
      "        \"CVE\": 110.233996,\n",
      "        \"CZK\": 24.489537,\n",
      "        \"DJF\": 193.415601,\n",
      "        \"DKK\": 7.458764,\n",
      "        \"DOP\": 61.692649,\n",
      "        \"DZD\": 146.66446,\n",
      "        \"EGP\": 33.594451,\n",
      "        \"ERN\": 16.374645,\n",
      "        \"ETB\": 60.756612,\n",
      "        \"EUR\": 1,\n",
      "        \"FJD\": 2.498666,\n",
      "        \"FKP\": 0.878435,\n",
      "        \"GBP\": 0.876329,\n",
      "        \"GEL\": 2.942022,\n",
      "        \"GGP\": 0.878435,\n",
      "        \"GHS\": 12.989347,\n",
      "        \"GIP\": 0.878435,\n",
      "        \"GMD\": 73.413415,\n",
      "        \"GNF\": 9334.374667,\n",
      "        \"GTQ\": 8.505608,\n",
      "        \"GYD\": 227.276078,\n",
      "        \"HKD\": 8.511814,\n",
      "        \"HNL\": 26.831454,\n",
      "        \"HRK\": 7.68688,\n",
      "        \"HTG\": 144.149457,\n",
      "        \"HUF\": 379.215358,\n",
      "        \"IDR\": 16837.828673,\n",
      "        \"ILS\": 4.05755,\n",
      "        \"IMP\": 0.878435,\n",
      "        \"INR\": 90.924854,\n",
      "        \"IQD\": 1423.099747,\n",
      "        \"IRR\": 46135.565218,\n",
      "        \"ISK\": 152.895936,\n",
      "        \"JEP\": 0.878435,\n",
      "        \"JMD\": 169.282389,\n",
      "        \"JOD\": 0.774307,\n",
      "        \"JPY\": 163.238875,\n",
      "        \"KES\": 165.443468,\n",
      "        \"KGS\": 97.293557,\n",
      "        \"KHR\": 4475.741179,\n",
      "        \"KMF\": 495.196586,\n",
      "        \"KPW\": 982.491758,\n",
      "        \"KRW\": 1415.184533,\n",
      "        \"KWD\": 0.336543,\n",
      "        \"KYD\": 0.905245,\n",
      "        \"KZT\": 504.048234,\n",
      "        \"LAK\": 22526.664279,\n",
      "        \"LBP\": 16327.407846,\n",
      "        \"LKR\": 356.339778,\n",
      "        \"LRD\": 205.065549,\n",
      "        \"LSL\": 20.053898,\n",
      "        \"LTL\": 3.223338,\n",
      "        \"LVL\": 0.660324,\n",
      "        \"LYD\": 5.26352,\n",
      "        \"MAD\": 11.017801,\n",
      "        \"MDL\": 19.374551,\n",
      "        \"MGA\": 4920.616056,\n",
      "        \"MKD\": 61.597675,\n",
      "        \"MMK\": 2281.258386,\n",
      "        \"MNT\": 3763.112256,\n",
      "        \"MOP\": 8.726346,\n",
      "        \"MRO\": 389.716353,\n",
      "        \"MUR\": 48.207367,\n",
      "        \"MVR\": 16.866297,\n",
      "        \"MWK\": 1828.685674,\n",
      "        \"MXN\": 18.807484,\n",
      "        \"MYR\": 5.100706,\n",
      "        \"MZN\": 69.046364,\n",
      "        \"NAD\": 20.053893,\n",
      "        \"NGN\": 917.024173,\n",
      "        \"NIO\": 39.758818,\n",
      "        \"NOK\": 11.783075,\n",
      "        \"NPR\": 144.716298,\n",
      "        \"NZD\": 1.820619,\n",
      "        \"OMR\": 0.420217,\n",
      "        \"PAB\": 1.086294,\n",
      "        \"PEN\": 4.201418,\n",
      "        \"PGK\": 4.103846,\n",
      "        \"PHP\": 60.474296,\n",
      "        \"PKR\": 311.230565,\n",
      "        \"PLN\": 4.386266,\n",
      "        \"PYG\": 8072.72951,\n",
      "        \"QAR\": 3.974714,\n",
      "        \"RON\": 4.977678,\n",
      "        \"RSD\": 117.207035,\n",
      "        \"RUB\": 97.538707,\n",
      "        \"RWF\": 1339.823169,\n",
      "        \"SAR\": 4.094218,\n",
      "        \"SBD\": 9.191265,\n",
      "        \"SCR\": 14.320772,\n",
      "        \"SDG\": 656.077796,\n",
      "        \"SEK\": 11.564833,\n",
      "        \"SGD\": 1.467391,\n",
      "        \"SHP\": 1.328257,\n",
      "        \"SLE\": 24.490293,\n",
      "        \"SLL\": 21559.949041,\n",
      "        \"SOS\": 623.328506,\n",
      "        \"SRD\": 41.640763,\n",
      "        \"STD\": 22594.805475,\n",
      "        \"SYP\": 14193.347758,\n",
      "        \"SZL\": 19.885407,\n",
      "        \"THB\": 38.639253,\n",
      "        \"TJS\": 11.884357,\n",
      "        \"TMT\": 3.82075,\n",
      "        \"TND\": 3.399926,\n",
      "        \"TOP\": 2.600335,\n",
      "        \"TRY\": 31.307888,\n",
      "        \"TTD\": 7.376925,\n",
      "        \"TWD\": 34.659341,\n",
      "        \"TZS\": 2713.636778,\n",
      "        \"UAH\": 39.236265,\n",
      "        \"UGX\": 4105.845213,\n",
      "        \"USD\": 1.091643,\n",
      "        \"UYU\": 43.147864,\n",
      "        \"UZS\": 13340.247998,\n",
      "        \"VEF\": 3861416.594396,\n",
      "        \"VES\": 38.607661,\n",
      "        \"VND\": 26488.716684,\n",
      "        \"VUV\": 132.260957,\n",
      "        \"WST\": 3.025362,\n",
      "        \"XAF\": 655.772561,\n",
      "        \"XAG\": 0.04601,\n",
      "        \"XAU\": 0.000551,\n",
      "        \"XCD\": 2.95022,\n",
      "        \"XDR\": 0.820169,\n",
      "        \"XOF\": 655.772561,\n",
      "        \"XPF\": 120.572363,\n",
      "        \"YER\": 273.351325,\n",
      "        \"ZAR\": 20.024193,\n",
      "        \"ZMK\": 9826.100628,\n",
      "        \"ZMW\": 25.229904,\n",
      "        \"ZWL\": 351.508591\n",
      "    }\n",
      "}\n"
     ]
    }
   ],
   "source": [
    "print(json.dumps(response.json(), indent = 4))"
   ]
  },
  {
   "cell_type": "code",
   "execution_count": 225,
   "id": "44200165",
   "metadata": {},
   "outputs": [
    {
     "data": {
      "text/plain": [
       "dict_keys(['success', 'timestamp', 'base', 'date', 'rates'])"
      ]
     },
     "execution_count": 225,
     "metadata": {},
     "output_type": "execute_result"
    }
   ],
   "source": [
    "# convert json into python object dict and get keys \n",
    "response.json().keys()"
   ]
  },
  {
   "cell_type": "markdown",
   "id": "1790c9d6",
   "metadata": {},
   "source": [
    "# Parameters in API\n",
    "it is used to get a specific information from the entire json file "
   ]
  },
  {
   "cell_type": "code",
   "execution_count": null,
   "id": "f26ff449",
   "metadata": {},
   "outputs": [],
   "source": []
  },
  {
   "cell_type": "code",
   "execution_count": 226,
   "id": "8a8c42ec",
   "metadata": {},
   "outputs": [
    {
     "data": {
      "text/plain": [
       "'http://api.exchangeratesapi.io/latest?access_key=95fe6e86d0d2799b408b66a312475bca&symbols=USD,GBP,INR'"
      ]
     },
     "execution_count": 226,
     "metadata": {},
     "output_type": "execute_result"
    }
   ],
   "source": [
    "api_key = '95fe6e86d0d2799b408b66a312475bca' # You will have to provide the api key \n",
    "\n",
    "# folow the f string here and the ? access_key = {api_key} syntax \n",
    "base_url = f'http://api.exchangeratesapi.io/latest?access_key={api_key}' # the https request is restricted use http instead \n",
    "\n",
    "# so \n",
    "param_url = f'{base_url}&symbols=USD,GBP,INR' # this is not working with the 'a' + 'b' rathrer use the f string format \n",
    "\n",
    "param_url"
   ]
  },
  {
   "cell_type": "code",
   "execution_count": 227,
   "id": "c6a852cc",
   "metadata": {},
   "outputs": [
    {
     "data": {
      "text/plain": [
       "{'USD': 1.091643, 'GBP': 0.876329, 'INR': 90.924854}"
      ]
     },
     "execution_count": 227,
     "metadata": {},
     "output_type": "execute_result"
    }
   ],
   "source": [
    "response_=requests.get(param_url)\n",
    "py_object=response_.json()    \n",
    "py_object['rates']"
   ]
  },
  {
   "cell_type": "markdown",
   "id": "52fdc1c1",
   "metadata": {},
   "source": [
    "## So what are parameters basically ?"
   ]
  },
  {
   "cell_type": "markdown",
   "id": "2c71340f",
   "metadata": {},
   "source": [
    "Exactly, that's correct. Different APIs may have different parameter names based on their functionality and purpose. The names and meanings of parameters are typically outlined in the API documentation provided by the service. It's crucial to consult the documentation for the specific API you are working with to understand the required parameters, their names, and the values they accept.\n",
    "\n",
    "For example, some common types of parameters in API requests include:\n",
    "\n",
    "1. **API Key Parameter:** Used for authentication and authorization, just like the `access_key` parameter in your example.\n",
    "\n",
    "2. **Query Parameters:** Used to filter or customize the data returned by the API. These can be similar to your `symbols` parameter, specifying specific criteria for the API response.\n",
    "\n",
    "3. **Path Parameters:** Parts of the URL path that indicate specific resources or identifiers. For example, in `https://api.example.com/users/{user_id}`, `{user_id}` might be a path parameter representing a specific user.\n",
    "\n",
    "4. **Header Parameters:** Information included in the request headers, often used for additional metadata or authentication.\n",
    "\n",
    "Always refer to the documentation of the specific API you are working with to understand the correct parameter names, formats, and any additional requirements for making successful requests."
   ]
  },
  {
   "cell_type": "code",
   "execution_count": 228,
   "id": "22b452ac",
   "metadata": {},
   "outputs": [
    {
     "data": {
      "text/plain": [
       "90.924854"
      ]
     },
     "execution_count": 228,
     "metadata": {},
     "output_type": "execute_result"
    }
   ],
   "source": [
    "#So let's make an function which will dollar into rupees\n",
    "py_object['rates']['INR']"
   ]
  },
  {
   "cell_type": "code",
   "execution_count": 229,
   "id": "c30e5fef",
   "metadata": {},
   "outputs": [],
   "source": [
    "def dollar_to_rupee(numb):\n",
    "    api_key = '95fe6e86d0d2799b408b66a312475bca' # You will have to provide the api key \n",
    "\n",
    "    # folow the f string here and the ? access_key = {api_key} syntax \n",
    "    base_url = f'http://api.exchangeratesapi.io/latest?access_key={api_key}' # the https request is restricted use http instead \n",
    "\n",
    "    # so the parameter start with the ? followed by what parameter you want to acces \n",
    "    param_url = f'{base_url}&symbols=USD,GBP,INR' # this is not working with the 'a' + 'b' rathrer use the f string format\n",
    "    \n",
    "    response_=requests.get(param_url)\n",
    "    py_object=response_.json()\n",
    "    \n",
    "    return numb*py_object['rates']['INR']"
   ]
  },
  {
   "cell_type": "code",
   "execution_count": 230,
   "id": "093ba524",
   "metadata": {},
   "outputs": [
    {
     "data": {
      "text/plain": [
       "909.2485399999999"
      ]
     },
     "execution_count": 230,
     "metadata": {},
     "output_type": "execute_result"
    }
   ],
   "source": [
    "# this is live and current value\n",
    "dollar_to_rupee(10)"
   ]
  },
  {
   "cell_type": "markdown",
   "id": "b66b0bb9",
   "metadata": {},
   "source": [
    "In the api documents we also have a base parameter which you can access it to check who many ruppes make 1 usd or so "
   ]
  },
  {
   "cell_type": "markdown",
   "id": "4f36f980",
   "metadata": {},
   "source": [
    "### Refer the api documentation prior to using api"
   ]
  },
  {
   "cell_type": "markdown",
   "id": "e99a0dac",
   "metadata": {},
   "source": [
    "## Historical data"
   ]
  },
  {
   "cell_type": "code",
   "execution_count": 258,
   "id": "ebf11d57",
   "metadata": {},
   "outputs": [
    {
     "data": {
      "text/plain": [
       "'http://api.exchangeratesapi.io/latest?access_key=95fe6e86d0d2799b408b66a312475bca'"
      ]
     },
     "execution_count": 258,
     "metadata": {},
     "output_type": "execute_result"
    }
   ],
   "source": [
    "# we will add the url and parameteres \n",
    "base_url"
   ]
  },
  {
   "cell_type": "code",
   "execution_count": 305,
   "id": "bda815aa",
   "metadata": {},
   "outputs": [
    {
     "name": "stdout",
     "output_type": "stream",
     "text": [
      "{'success': True, 'timestamp': 1700335503, 'base': 'EUR', 'date': '2023-11-18', 'rates': {'AED': 4.00965, 'AFN': 75.018901, 'ALL': 103.920772, 'AMD': 437.476958, 'ANG': 1.957849, 'AOA': 903.570398, 'ARS': 384.006996, 'AUD': 1.676099, 'AWG': 1.964957, 'AZN': 1.860127, 'BAM': 1.95525, 'BBD': 2.193383, 'BDT': 120.306163, 'BGN': 1.95964, 'BHD': 0.409685, 'BIF': 3087.531618, 'BMD': 1.091643, 'BND': 1.460289, 'BOB': 7.506889, 'BRL': 5.355496, 'BSD': 1.086294, 'BTC': 2.9706419e-05, 'BTN': 90.447761, 'BWP': 14.571902, 'BYN': 3.578494, 'BYR': 21396.202226, 'BZD': 2.189684, 'CAD': 1.497898, 'CDF': 2866.654836, 'CHF': 0.966941, 'CLF': 0.034535, 'CLP': 952.921987, 'CNY': 7.871514, 'COP': 4439.651329, 'CRC': 577.337621, 'CUC': 1.091643, 'CUP': 28.928539, 'CVE': 110.233996, 'CZK': 24.489537, 'DJF': 193.415601, 'DKK': 7.458764, 'DOP': 61.692649, 'DZD': 146.66446, 'EGP': 33.594451, 'ERN': 16.374645, 'ETB': 60.756612, 'EUR': 1, 'FJD': 2.498666, 'FKP': 0.878435, 'GBP': 0.876329, 'GEL': 2.942022, 'GGP': 0.878435, 'GHS': 12.989347, 'GIP': 0.878435, 'GMD': 73.413415, 'GNF': 9334.374667, 'GTQ': 8.505608, 'GYD': 227.276078, 'HKD': 8.511814, 'HNL': 26.831454, 'HRK': 7.68688, 'HTG': 144.149457, 'HUF': 379.215358, 'IDR': 16837.828673, 'ILS': 4.05755, 'IMP': 0.878435, 'INR': 90.924854, 'IQD': 1423.099747, 'IRR': 46135.565218, 'ISK': 152.895936, 'JEP': 0.878435, 'JMD': 169.282389, 'JOD': 0.774307, 'JPY': 163.238875, 'KES': 165.443468, 'KGS': 97.293557, 'KHR': 4475.741179, 'KMF': 495.196586, 'KPW': 982.491758, 'KRW': 1415.184533, 'KWD': 0.336543, 'KYD': 0.905245, 'KZT': 504.048234, 'LAK': 22526.664279, 'LBP': 16327.407846, 'LKR': 356.339778, 'LRD': 205.065549, 'LSL': 20.053898, 'LTL': 3.223338, 'LVL': 0.660324, 'LYD': 5.26352, 'MAD': 11.017801, 'MDL': 19.374551, 'MGA': 4920.616056, 'MKD': 61.597675, 'MMK': 2281.258386, 'MNT': 3763.112256, 'MOP': 8.726346, 'MRO': 389.716353, 'MUR': 48.207367, 'MVR': 16.866297, 'MWK': 1828.685674, 'MXN': 18.807484, 'MYR': 5.100706, 'MZN': 69.046364, 'NAD': 20.053893, 'NGN': 917.024173, 'NIO': 39.758818, 'NOK': 11.783075, 'NPR': 144.716298, 'NZD': 1.820619, 'OMR': 0.420217, 'PAB': 1.086294, 'PEN': 4.201418, 'PGK': 4.103846, 'PHP': 60.474296, 'PKR': 311.230565, 'PLN': 4.386266, 'PYG': 8072.72951, 'QAR': 3.974714, 'RON': 4.977678, 'RSD': 117.207035, 'RUB': 97.538707, 'RWF': 1339.823169, 'SAR': 4.094218, 'SBD': 9.191265, 'SCR': 14.320772, 'SDG': 656.077796, 'SEK': 11.564833, 'SGD': 1.467391, 'SHP': 1.328257, 'SLE': 24.490293, 'SLL': 21559.949041, 'SOS': 623.328506, 'SRD': 41.640763, 'STD': 22594.805475, 'SYP': 14193.347758, 'SZL': 19.885407, 'THB': 38.639253, 'TJS': 11.884357, 'TMT': 3.82075, 'TND': 3.399926, 'TOP': 2.600335, 'TRY': 31.307888, 'TTD': 7.376925, 'TWD': 34.659341, 'TZS': 2713.636778, 'UAH': 39.236265, 'UGX': 4105.845213, 'USD': 1.091643, 'UYU': 43.147864, 'UZS': 13340.247998, 'VEF': 3861416.594396, 'VES': 38.607661, 'VND': 26488.716684, 'VUV': 132.260957, 'WST': 3.025362, 'XAF': 655.772561, 'XAG': 0.04601, 'XAU': 0.000551, 'XCD': 2.95022, 'XDR': 0.820169, 'XOF': 655.772561, 'XPF': 120.572363, 'YER': 273.351325, 'ZAR': 20.024193, 'ZMK': 9826.100628, 'ZMW': 25.229904, 'ZWL': 351.508591}}\n",
      "http://api.exchangeratesapi.io/latest?access_key=95fe6e86d0d2799b408b66a312475bca&2016-01-26\n"
     ]
    }
   ],
   "source": [
    "history_url = f'{base_url}&2016-01-26' # data only for the particular date \n",
    "response_1=requests.get(history_url)\n",
    "print(response_1.json())\n",
    "response_1.status_code\n",
    "print(history_url)"
   ]
  },
  {
   "cell_type": "code",
   "execution_count": 233,
   "id": "73e4d417",
   "metadata": {
    "scrolled": true
   },
   "outputs": [
    {
     "name": "stdout",
     "output_type": "stream",
     "text": [
      "{\n",
      "   \"success\": true,\n",
      "   \"timestamp\": 1700315643,\n",
      "   \"base\": \"EUR\",\n",
      "   \"date\": \"2023-11-18\",\n",
      "   \"rates\": {\n",
      "      \"AED\": 4.00965,\n",
      "      \"AFN\": 75.018901,\n",
      "      \"ALL\": 103.920772,\n",
      "      \"AMD\": 437.476958,\n",
      "      \"ANG\": 1.957849,\n",
      "      \"AOA\": 903.570398,\n",
      "      \"ARS\": 384.006996,\n",
      "      \"AUD\": 1.676099,\n",
      "      \"AWG\": 1.964957,\n",
      "      \"AZN\": 1.860127,\n",
      "      \"BAM\": 1.95525,\n",
      "      \"BBD\": 2.193383,\n",
      "      \"BDT\": 120.306163,\n",
      "      \"BGN\": 1.95964,\n",
      "      \"BHD\": 0.409685,\n",
      "      \"BIF\": 3087.531618,\n",
      "      \"BMD\": 1.091643,\n",
      "      \"BND\": 1.460289,\n",
      "      \"BOB\": 7.506889,\n",
      "      \"BRL\": 5.355496,\n",
      "      \"BSD\": 1.086294,\n",
      "      \"BTC\": 2.9933023e-05,\n",
      "      \"BTN\": 90.447761,\n",
      "      \"BWP\": 14.571902,\n",
      "      \"BYN\": 3.578494,\n",
      "      \"BYR\": 21396.202226,\n",
      "      \"BZD\": 2.189684,\n",
      "      \"CAD\": 1.497898,\n",
      "      \"CDF\": 2866.654836,\n",
      "      \"CHF\": 0.966941,\n",
      "      \"CLF\": 0.034535,\n",
      "      \"CLP\": 952.921987,\n",
      "      \"CNY\": 7.871514,\n",
      "      \"COP\": 4439.651329,\n",
      "      \"CRC\": 577.337621,\n",
      "      \"CUC\": 1.091643,\n",
      "      \"CUP\": 28.928539,\n",
      "      \"CVE\": 110.233996,\n",
      "      \"CZK\": 24.489537,\n",
      "      \"DJF\": 193.415601,\n",
      "      \"DKK\": 7.458764,\n",
      "      \"DOP\": 61.692649,\n",
      "      \"DZD\": 146.66446,\n",
      "      \"EGP\": 33.594451,\n",
      "      \"ERN\": 16.374645,\n",
      "      \"ETB\": 60.756612,\n",
      "      \"EUR\": 1,\n",
      "      \"FJD\": 2.498666,\n",
      "      \"FKP\": 0.878435,\n",
      "      \"GBP\": 0.876329,\n",
      "      \"GEL\": 2.942022,\n",
      "      \"GGP\": 0.878435,\n",
      "      \"GHS\": 12.989347,\n",
      "      \"GIP\": 0.878435,\n",
      "      \"GMD\": 73.413415,\n",
      "      \"GNF\": 9334.374667,\n",
      "      \"GTQ\": 8.505608,\n",
      "      \"GYD\": 227.276078,\n",
      "      \"HKD\": 8.511814,\n",
      "      \"HNL\": 26.831454,\n",
      "      \"HRK\": 7.68688,\n",
      "      \"HTG\": 144.149457,\n",
      "      \"HUF\": 379.215358,\n",
      "      \"IDR\": 16837.828673,\n",
      "      \"ILS\": 4.05755,\n",
      "      \"IMP\": 0.878435,\n",
      "      \"INR\": 90.924854,\n",
      "      \"IQD\": 1423.099747,\n",
      "      \"IRR\": 46135.565218,\n",
      "      \"ISK\": 152.895936,\n",
      "      \"JEP\": 0.878435,\n",
      "      \"JMD\": 169.282389,\n",
      "      \"JOD\": 0.774307,\n",
      "      \"JPY\": 163.238875,\n",
      "      \"KES\": 165.443468,\n",
      "      \"KGS\": 97.293557,\n",
      "      \"KHR\": 4475.741179,\n",
      "      \"KMF\": 495.196586,\n",
      "      \"KPW\": 982.491758,\n",
      "      \"KRW\": 1415.184533,\n",
      "      \"KWD\": 0.336543,\n",
      "      \"KYD\": 0.905245,\n",
      "      \"KZT\": 504.048234,\n",
      "      \"LAK\": 22526.664279,\n",
      "      \"LBP\": 16327.407846,\n",
      "      \"LKR\": 356.339778,\n",
      "      \"LRD\": 205.065549,\n",
      "      \"LSL\": 20.053898,\n",
      "      \"LTL\": 3.223338,\n",
      "      \"LVL\": 0.660324,\n",
      "      \"LYD\": 5.26352,\n",
      "      \"MAD\": 11.017801,\n",
      "      \"MDL\": 19.374551,\n",
      "      \"MGA\": 4920.616056,\n",
      "      \"MKD\": 61.597675,\n",
      "      \"MMK\": 2281.258386,\n",
      "      \"MNT\": 3763.112256,\n",
      "      \"MOP\": 8.726346,\n",
      "      \"MRO\": 389.716353,\n",
      "      \"MUR\": 48.207367,\n",
      "      \"MVR\": 16.866297,\n",
      "      \"MWK\": 1828.685674,\n",
      "      \"MXN\": 18.807484,\n",
      "      \"MYR\": 5.100706,\n",
      "      \"MZN\": 69.046364,\n",
      "      \"NAD\": 20.053893,\n",
      "      \"NGN\": 917.024173,\n",
      "      \"NIO\": 39.758818,\n",
      "      \"NOK\": 11.783075,\n",
      "      \"NPR\": 144.716298,\n",
      "      \"NZD\": 1.820619,\n",
      "      \"OMR\": 0.420217,\n",
      "      \"PAB\": 1.086294,\n",
      "      \"PEN\": 4.201418,\n",
      "      \"PGK\": 4.103846,\n",
      "      \"PHP\": 60.474296,\n",
      "      \"PKR\": 311.230565,\n",
      "      \"PLN\": 4.386266,\n",
      "      \"PYG\": 8072.72951,\n",
      "      \"QAR\": 3.974714,\n",
      "      \"RON\": 4.977678,\n",
      "      \"RSD\": 117.207035,\n",
      "      \"RUB\": 97.538707,\n",
      "      \"RWF\": 1339.823169,\n",
      "      \"SAR\": 4.094218,\n",
      "      \"SBD\": 9.191265,\n",
      "      \"SCR\": 14.320772,\n",
      "      \"SDG\": 656.077796,\n",
      "      \"SEK\": 11.564833,\n",
      "      \"SGD\": 1.467391,\n",
      "      \"SHP\": 1.328257,\n",
      "      \"SLE\": 24.490293,\n",
      "      \"SLL\": 21559.949041,\n",
      "      \"SOS\": 623.328506,\n",
      "      \"SRD\": 41.640763,\n",
      "      \"STD\": 22594.805475,\n",
      "      \"SYP\": 14193.347758,\n",
      "      \"SZL\": 19.885407,\n",
      "      \"THB\": 38.639253,\n",
      "      \"TJS\": 11.884357,\n",
      "      \"TMT\": 3.82075,\n",
      "      \"TND\": 3.399926,\n",
      "      \"TOP\": 2.600335,\n",
      "      \"TRY\": 31.307888,\n",
      "      \"TTD\": 7.376925,\n",
      "      \"TWD\": 34.659341,\n",
      "      \"TZS\": 2713.636778,\n",
      "      \"UAH\": 39.236265,\n",
      "      \"UGX\": 4105.845213,\n",
      "      \"USD\": 1.091643,\n",
      "      \"UYU\": 43.147864,\n",
      "      \"UZS\": 13340.247998,\n",
      "      \"VEF\": 3861416.594396,\n",
      "      \"VES\": 38.607661,\n",
      "      \"VND\": 26488.716684,\n",
      "      \"VUV\": 132.260957,\n",
      "      \"WST\": 3.025362,\n",
      "      \"XAF\": 655.772561,\n",
      "      \"XAG\": 0.04601,\n",
      "      \"XAU\": 0.000551,\n",
      "      \"XCD\": 2.95022,\n",
      "      \"XDR\": 0.820169,\n",
      "      \"XOF\": 655.772561,\n",
      "      \"XPF\": 120.572363,\n",
      "      \"YER\": 273.351325,\n",
      "      \"ZAR\": 20.024193,\n",
      "      \"ZMK\": 9826.100628,\n",
      "      \"ZMW\": 25.229904,\n",
      "      \"ZWL\": 351.508591\n",
      "   }\n",
      "}\n"
     ]
    }
   ],
   "source": [
    "print(json.dumps(response_1.json(), indent = 3))"
   ]
  },
  {
   "cell_type": "markdown",
   "id": "a9e8c508",
   "metadata": {},
   "source": [
    "## time period \n",
    "There si a problem in the time peroid will sort it out latter"
   ]
  },
  {
   "cell_type": "code",
   "execution_count": 234,
   "id": "a69a8c2d",
   "metadata": {},
   "outputs": [
    {
     "data": {
      "text/plain": [
       "'http://api.exchangeratesapi.io/latest?access_key=95fe6e86d0d2799b408b66a312475bca'"
      ]
     },
     "execution_count": 234,
     "metadata": {},
     "output_type": "execute_result"
    }
   ],
   "source": [
    "base_url"
   ]
  },
  {
   "cell_type": "code",
   "execution_count": 283,
   "id": "a632057b",
   "metadata": {},
   "outputs": [],
   "source": [
    "test_url = 'http://api.exchangeratesapi.io/v1/latest?access_key=95fe6e86d0d2799b408b66a312475bca&start_date=2016-01-26&end_date=2018-04-26&symbols=GBP'"
   ]
  },
  {
   "cell_type": "code",
   "execution_count": 284,
   "id": "c7ae9844",
   "metadata": {},
   "outputs": [
    {
     "data": {
      "text/plain": [
       "{'success': True,\n",
       " 'timestamp': 1700317083,\n",
       " 'base': 'EUR',\n",
       " 'date': '2023-11-18',\n",
       " 'rates': {'GBP': 0.876329}}"
      ]
     },
     "execution_count": 284,
     "metadata": {},
     "output_type": "execute_result"
    }
   ],
   "source": [
    "requests.get(test_url).json()"
   ]
  },
  {
   "cell_type": "code",
   "execution_count": 288,
   "id": "eac4c865",
   "metadata": {},
   "outputs": [],
   "source": [
    "## Time series data try the promt on gpt ot get timeseres and fit a ml model on it using yahoofinace app"
   ]
  },
  {
   "cell_type": "code",
   "execution_count": 287,
   "id": "60ac6ee0",
   "metadata": {},
   "outputs": [
    {
     "data": {
      "text/plain": [
       "{'error': {'code': 'https_access_restricted',\n",
       "  'message': 'Access Restricted - Your current Subscription Plan does not support HTTPS Encryption.'}}"
      ]
     },
     "execution_count": 287,
     "metadata": {},
     "output_type": "execute_result"
    }
   ],
   "source": [
    "a=f'https://api.exchangeratesapi.io/v1/timeseries?access_key={api_key}&start_date=2012-05-01&end_date=2012-05-25'\n",
    "requests.get(a).json()"
   ]
  },
  {
   "cell_type": "markdown",
   "id": "508adece",
   "metadata": {},
   "source": [
    "# Currency convertor  "
   ]
  },
  {
   "cell_type": "markdown",
   "id": "238aac3e",
   "metadata": {},
   "source": [
    "baiscally we will be sending request to get the current value of the currency and then multiply it , the thing which we have to work on is the url so we will make the url with the help of user out "
   ]
  },
  {
   "cell_type": "code",
   "execution_count": 306,
   "id": "db31538d",
   "metadata": {
    "collapsed": true
   },
   "outputs": [
    {
     "data": {
      "text/plain": [
       "{'success': True,\n",
       " 'timestamp': 1700335563,\n",
       " 'base': 'EUR',\n",
       " 'date': '2023-11-18',\n",
       " 'rates': {'AED': 4.00965,\n",
       "  'AFN': 75.018901,\n",
       "  'ALL': 103.920772,\n",
       "  'AMD': 437.476958,\n",
       "  'ANG': 1.957849,\n",
       "  'AOA': 903.570398,\n",
       "  'ARS': 384.006996,\n",
       "  'AUD': 1.676099,\n",
       "  'AWG': 1.964957,\n",
       "  'AZN': 1.860127,\n",
       "  'BAM': 1.95525,\n",
       "  'BBD': 2.193383,\n",
       "  'BDT': 120.306163,\n",
       "  'BGN': 1.95964,\n",
       "  'BHD': 0.409685,\n",
       "  'BIF': 3087.531618,\n",
       "  'BMD': 1.091643,\n",
       "  'BND': 1.460289,\n",
       "  'BOB': 7.506889,\n",
       "  'BRL': 5.355496,\n",
       "  'BSD': 1.086294,\n",
       "  'BTC': 2.9710881e-05,\n",
       "  'BTN': 90.447761,\n",
       "  'BWP': 14.571902,\n",
       "  'BYN': 3.578494,\n",
       "  'BYR': 21396.202226,\n",
       "  'BZD': 2.189684,\n",
       "  'CAD': 1.497898,\n",
       "  'CDF': 2866.654836,\n",
       "  'CHF': 0.966941,\n",
       "  'CLF': 0.034535,\n",
       "  'CLP': 952.921987,\n",
       "  'CNY': 7.871514,\n",
       "  'COP': 4439.651329,\n",
       "  'CRC': 577.337621,\n",
       "  'CUC': 1.091643,\n",
       "  'CUP': 28.928539,\n",
       "  'CVE': 110.233996,\n",
       "  'CZK': 24.489537,\n",
       "  'DJF': 193.415601,\n",
       "  'DKK': 7.458764,\n",
       "  'DOP': 61.692649,\n",
       "  'DZD': 146.66446,\n",
       "  'EGP': 33.594451,\n",
       "  'ERN': 16.374645,\n",
       "  'ETB': 60.756612,\n",
       "  'EUR': 1,\n",
       "  'FJD': 2.498666,\n",
       "  'FKP': 0.878435,\n",
       "  'GBP': 0.876329,\n",
       "  'GEL': 2.942022,\n",
       "  'GGP': 0.878435,\n",
       "  'GHS': 12.989347,\n",
       "  'GIP': 0.878435,\n",
       "  'GMD': 73.413415,\n",
       "  'GNF': 9334.374667,\n",
       "  'GTQ': 8.505608,\n",
       "  'GYD': 227.276078,\n",
       "  'HKD': 8.511814,\n",
       "  'HNL': 26.831454,\n",
       "  'HRK': 7.68688,\n",
       "  'HTG': 144.149457,\n",
       "  'HUF': 379.215358,\n",
       "  'IDR': 16837.828673,\n",
       "  'ILS': 4.05755,\n",
       "  'IMP': 0.878435,\n",
       "  'INR': 90.924854,\n",
       "  'IQD': 1423.099747,\n",
       "  'IRR': 46135.565218,\n",
       "  'ISK': 152.895936,\n",
       "  'JEP': 0.878435,\n",
       "  'JMD': 169.282389,\n",
       "  'JOD': 0.774307,\n",
       "  'JPY': 163.238875,\n",
       "  'KES': 165.443468,\n",
       "  'KGS': 97.293557,\n",
       "  'KHR': 4475.741179,\n",
       "  'KMF': 495.196586,\n",
       "  'KPW': 982.491758,\n",
       "  'KRW': 1415.184533,\n",
       "  'KWD': 0.336543,\n",
       "  'KYD': 0.905245,\n",
       "  'KZT': 504.048234,\n",
       "  'LAK': 22526.664279,\n",
       "  'LBP': 16327.407846,\n",
       "  'LKR': 356.339778,\n",
       "  'LRD': 205.065549,\n",
       "  'LSL': 20.053898,\n",
       "  'LTL': 3.223338,\n",
       "  'LVL': 0.660324,\n",
       "  'LYD': 5.26352,\n",
       "  'MAD': 11.017801,\n",
       "  'MDL': 19.374551,\n",
       "  'MGA': 4920.616056,\n",
       "  'MKD': 61.597675,\n",
       "  'MMK': 2281.258386,\n",
       "  'MNT': 3763.112256,\n",
       "  'MOP': 8.726346,\n",
       "  'MRO': 389.716353,\n",
       "  'MUR': 48.207367,\n",
       "  'MVR': 16.866297,\n",
       "  'MWK': 1828.685674,\n",
       "  'MXN': 18.807484,\n",
       "  'MYR': 5.100706,\n",
       "  'MZN': 69.046364,\n",
       "  'NAD': 20.053893,\n",
       "  'NGN': 917.024173,\n",
       "  'NIO': 39.758818,\n",
       "  'NOK': 11.783075,\n",
       "  'NPR': 144.716298,\n",
       "  'NZD': 1.820619,\n",
       "  'OMR': 0.420217,\n",
       "  'PAB': 1.086294,\n",
       "  'PEN': 4.201418,\n",
       "  'PGK': 4.103846,\n",
       "  'PHP': 60.474296,\n",
       "  'PKR': 311.230565,\n",
       "  'PLN': 4.386266,\n",
       "  'PYG': 8072.72951,\n",
       "  'QAR': 3.974714,\n",
       "  'RON': 4.977678,\n",
       "  'RSD': 117.207035,\n",
       "  'RUB': 97.538707,\n",
       "  'RWF': 1339.823169,\n",
       "  'SAR': 4.094218,\n",
       "  'SBD': 9.191265,\n",
       "  'SCR': 14.320772,\n",
       "  'SDG': 656.077796,\n",
       "  'SEK': 11.564833,\n",
       "  'SGD': 1.467391,\n",
       "  'SHP': 1.328257,\n",
       "  'SLE': 24.490293,\n",
       "  'SLL': 21559.949041,\n",
       "  'SOS': 623.328506,\n",
       "  'SRD': 41.640763,\n",
       "  'STD': 22594.805475,\n",
       "  'SYP': 14193.347758,\n",
       "  'SZL': 19.885407,\n",
       "  'THB': 38.639253,\n",
       "  'TJS': 11.884357,\n",
       "  'TMT': 3.82075,\n",
       "  'TND': 3.399926,\n",
       "  'TOP': 2.600335,\n",
       "  'TRY': 31.307888,\n",
       "  'TTD': 7.376925,\n",
       "  'TWD': 34.659341,\n",
       "  'TZS': 2713.636778,\n",
       "  'UAH': 39.236265,\n",
       "  'UGX': 4105.845213,\n",
       "  'USD': 1.091643,\n",
       "  'UYU': 43.147864,\n",
       "  'UZS': 13340.247998,\n",
       "  'VEF': 3861416.594396,\n",
       "  'VES': 38.607661,\n",
       "  'VND': 26488.716684,\n",
       "  'VUV': 132.260957,\n",
       "  'WST': 3.025362,\n",
       "  'XAF': 655.772561,\n",
       "  'XAG': 0.04601,\n",
       "  'XAU': 0.000551,\n",
       "  'XCD': 2.95022,\n",
       "  'XDR': 0.820169,\n",
       "  'XOF': 655.772561,\n",
       "  'XPF': 120.572363,\n",
       "  'YER': 273.351325,\n",
       "  'ZAR': 20.024193,\n",
       "  'ZMK': 9826.100628,\n",
       "  'ZMW': 25.229904,\n",
       "  'ZWL': 351.508591}}"
      ]
     },
     "execution_count": 306,
     "metadata": {},
     "output_type": "execute_result"
    }
   ],
   "source": [
    "requests.get(f'{base_url}&2016-01-26&symbol=INR').json()"
   ]
  },
  {
   "cell_type": "code",
   "execution_count": null,
   "id": "38ba0cc3",
   "metadata": {},
   "outputs": [],
   "source": [
    "rough logic should look something like this \n",
    "user_url = f'{base_url}&date={}&base={}&symbol={}"
   ]
  },
  {
   "cell_type": "code",
   "execution_count": 345,
   "id": "dc7cc32d",
   "metadata": {},
   "outputs": [
    {
     "data": {
      "text/plain": [
       "{'success': True,\n",
       " 'timestamp': 1700265599,\n",
       " 'historical': True,\n",
       " 'base': 'EUR',\n",
       " 'date': '2023-11-17',\n",
       " 'rates': {'GBP': 0.876118}}"
      ]
     },
     "execution_count": 345,
     "metadata": {},
     "output_type": "execute_result"
    }
   ],
   "source": [
    "requests.get(f'http://api.exchangeratesapi.io/v1/2023-11-17?access_key={api_key}&symbols=GBP').json()"
   ]
  },
  {
   "cell_type": "code",
   "execution_count": 352,
   "id": "6583300b",
   "metadata": {},
   "outputs": [
    {
     "data": {
      "text/plain": [
       "{'error': {'code': 'function_access_restricted',\n",
       "  'message': 'Access Restricted - Your current Subscription Plan does not support this API Function.'}}"
      ]
     },
     "execution_count": 352,
     "metadata": {},
     "output_type": "execute_result"
    }
   ],
   "source": [
    "requests.get(f'http://api.exchangeratesapi.io/v1/convert?access_key={api_key}&from=GBP&to=JPY&amount=25').json()\n",
    "# shitest api to explore"
   ]
  },
  {
   "cell_type": "markdown",
   "id": "d55ecb3e",
   "metadata": {},
   "source": [
    "# The logic to circumvent the above problem\n",
    "To overcome this shitty problem we have used the concept if a = b and b = c then a = c \n",
    "\n",
    "so if 1 euro = 50 dollor and 1 euro = 80 ruppess then \n",
    "\n",
    "50 dollor = 80 rupees\n",
    "\n",
    "this means 1 dollor = 80 rupees/50 dollors\n",
    "\n",
    "now if I have to convert the 30 dollors i will simply do 30*80/50 "
   ]
  },
  {
   "cell_type": "code",
   "execution_count": 4,
   "id": "b069e9bc",
   "metadata": {},
   "outputs": [
    {
     "name": "stdout",
     "output_type": "stream",
     "text": [
      "Please enter the date in yyyy-mm-dd format2023-11-10\n",
      "Convert from currencyINR\n",
      "Convert to currencyUSD\n",
      "how much INR do you want to convert65000\n",
      "That will be 780.3199898803257 USD\n"
     ]
    }
   ],
   "source": [
    "api_key = '95fe6e86d0d2799b408b66a312475bca' # You will have to provide the api key \n",
    "date = input('Please enter the date in yyyy-mm-dd format')\n",
    "base = input('Convert from currency')\n",
    "curr = input('Convert to currency')\n",
    "\n",
    "amount = float(input(\"how much {} do you want to convert\".format(base))) # float(input(f\"how much {base} do you want to convert\")\n",
    "\n",
    "base_currency=requests.get(f'http://api.exchangeratesapi.io/v1/{date}?access_key={api_key}&symbols={base}').json()\n",
    "val_1=base_currency['rates'][base]\n",
    "             \n",
    "curr_currency=requests.get(f'http://api.exchangeratesapi.io/v1/{date}?access_key={api_key}&symbols={curr}').json()\n",
    "val_2=curr_currency['rates'][curr]\n",
    "\n",
    "unit = val_2/val_1 \n",
    "print(f'That will be {amount*unit} {curr}')"
   ]
  },
  {
   "cell_type": "code",
   "execution_count": 362,
   "id": "fae04281",
   "metadata": {},
   "outputs": [
    {
     "data": {
      "text/plain": [
       "True"
      ]
     },
     "execution_count": 362,
     "metadata": {},
     "output_type": "execute_result"
    }
   ],
   "source": [
    "#Will use this for error handling\n",
    "response.ok"
   ]
  },
  {
   "cell_type": "code",
   "execution_count": null,
   "id": "2259eb35",
   "metadata": {},
   "outputs": [],
   "source": []
  }
 ],
 "metadata": {
  "kernelspec": {
   "display_name": "Python 3 (ipykernel)",
   "language": "python",
   "name": "python3"
  },
  "language_info": {
   "codemirror_mode": {
    "name": "ipython",
    "version": 3
   },
   "file_extension": ".py",
   "mimetype": "text/x-python",
   "name": "python",
   "nbconvert_exporter": "python",
   "pygments_lexer": "ipython3",
   "version": "3.9.12"
  }
 },
 "nbformat": 4,
 "nbformat_minor": 5
}
