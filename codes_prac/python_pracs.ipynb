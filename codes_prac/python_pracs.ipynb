{
 "cells": [
  {
   "cell_type": "markdown",
   "id": "292c16b4",
   "metadata": {},
   "source": [
    "# python"
   ]
  },
  {
   "cell_type": "code",
   "execution_count": 1,
   "id": "e8412ef0",
   "metadata": {},
   "outputs": [
    {
     "name": "stdout",
     "output_type": "stream",
     "text": [
      "100\n"
     ]
    }
   ],
   "source": [
    "#battery status \n",
    "n = 4\n",
    "battery_status = 50\n",
    "event = [25,-30,70,10]\n",
    "for i in range(n):\n",
    "    battery_status = battery_status + (event[i])\n",
    "    if battery_status > 100:\n",
    "        battery_status = 100\n",
    "print(battery_status)\n"
   ]
  },
  {
   "cell_type": "code",
   "execution_count": 4,
   "id": "d2574226",
   "metadata": {},
   "outputs": [
    {
     "name": "stdout",
     "output_type": "stream",
     "text": [
      "5\n",
      "5\n"
     ]
    }
   ],
   "source": [
    "x = int(input())\n",
    "print(x)"
   ]
  },
  {
   "cell_type": "code",
   "execution_count": 8,
   "id": "d44a9013",
   "metadata": {},
   "outputs": [
    {
     "name": "stdout",
     "output_type": "stream",
     "text": [
      "4542\n"
     ]
    }
   ],
   "source": [
    "y = input()"
   ]
  },
  {
   "cell_type": "code",
   "execution_count": 2,
   "id": "d8870def",
   "metadata": {},
   "outputs": [
    {
     "name": "stdout",
     "output_type": "stream",
     "text": [
      "********************\n",
      " ******************\n",
      "  ****************\n",
      "   **************\n",
      "    ************\n",
      "     **********\n",
      "      ********\n",
      "       ******\n",
      "        ****\n",
      "         **\n"
     ]
    }
   ],
   "source": [
    "# the space and the star is varying just imagine you are you going to draw this on the graph and write a code for it simple\n",
    "count = 20 \n",
    "space_count = 0\n",
    "for i in range(10):\n",
    "    print(space_count*' '+ count*'*')\n",
    "    space_count = space_count + 1\n",
    "    count = count - 2"
   ]
  },
  {
   "cell_type": "code",
   "execution_count": 2,
   "id": "157a362f",
   "metadata": {},
   "outputs": [
    {
     "data": {
      "text/plain": [
       "True"
      ]
     },
     "execution_count": 2,
     "metadata": {},
     "output_type": "execute_result"
    }
   ],
   "source": [
    "'abc123'.isalnum()"
   ]
  },
  {
   "cell_type": "code",
   "execution_count": 7,
   "id": "5a6d5418",
   "metadata": {},
   "outputs": [
    {
     "name": "stdout",
     "output_type": "stream",
     "text": [
      "-------deepu--------\n"
     ]
    }
   ],
   "source": [
    "print('deepu'.center(20,'-'))"
   ]
  },
  {
   "cell_type": "code",
   "execution_count": 32,
   "id": "ff1159e3",
   "metadata": {},
   "outputs": [
    {
     "name": "stdout",
     "output_type": "stream",
     "text": [
      "*\n",
      "*\n",
      "**\n",
      "***\n",
      "****\n"
     ]
    }
   ],
   "source": [
    "for i in range(5):\n",
    "    print('*'.center(i,'*'))"
   ]
  },
  {
   "cell_type": "code",
   "execution_count": 33,
   "id": "01701dfc",
   "metadata": {},
   "outputs": [
    {
     "name": "stdout",
     "output_type": "stream",
     "text": [
      "    *     \n",
      "   *    \n"
     ]
    }
   ],
   "source": [
    "print('*'.center(10,' '))\n",
    "print('*'.center(8,' '))"
   ]
  },
  {
   "cell_type": "code",
   "execution_count": null,
   "id": "a9d42dc8",
   "metadata": {},
   "outputs": [],
   "source": []
  }
 ],
 "metadata": {
  "kernelspec": {
   "display_name": "Python 3 (ipykernel)",
   "language": "python",
   "name": "python3"
  },
  "language_info": {
   "codemirror_mode": {
    "name": "ipython",
    "version": 3
   },
   "file_extension": ".py",
   "mimetype": "text/x-python",
   "name": "python",
   "nbconvert_exporter": "python",
   "pygments_lexer": "ipython3",
   "version": "3.9.12"
  }
 },
 "nbformat": 4,
 "nbformat_minor": 5
}
