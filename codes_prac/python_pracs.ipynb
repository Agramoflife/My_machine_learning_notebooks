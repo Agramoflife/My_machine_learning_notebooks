{
 "cells": [
  {
   "cell_type": "markdown",
   "id": "292c16b4",
   "metadata": {},
   "source": [
    "# python"
   ]
  },
  {
   "cell_type": "code",
   "execution_count": 1,
   "id": "e8412ef0",
   "metadata": {},
   "outputs": [
    {
     "name": "stdout",
     "output_type": "stream",
     "text": [
      "100\n"
     ]
    }
   ],
   "source": [
    "#battery status \n",
    "n = 4\n",
    "battery_status = 50\n",
    "event = [25,-30,70,10]\n",
    "for i in range(n):\n",
    "    battery_status = battery_status + (event[i])\n",
    "    if battery_status > 100:\n",
    "        battery_status = 100\n",
    "print(battery_status)\n"
   ]
  },
  {
   "cell_type": "code",
   "execution_count": 4,
   "id": "d2574226",
   "metadata": {},
   "outputs": [
    {
     "name": "stdout",
     "output_type": "stream",
     "text": [
      "5\n",
      "5\n"
     ]
    }
   ],
   "source": [
    "x = int(input())\n",
    "print(x)"
   ]
  },
  {
   "cell_type": "code",
   "execution_count": 8,
   "id": "d44a9013",
   "metadata": {},
   "outputs": [
    {
     "name": "stdout",
     "output_type": "stream",
     "text": [
      "4542\n"
     ]
    }
   ],
   "source": [
    "y = input()"
   ]
  },
  {
   "cell_type": "code",
   "execution_count": 2,
   "id": "d8870def",
   "metadata": {},
   "outputs": [
    {
     "name": "stdout",
     "output_type": "stream",
     "text": [
      "********************\n",
      " ******************\n",
      "  ****************\n",
      "   **************\n",
      "    ************\n",
      "     **********\n",
      "      ********\n",
      "       ******\n",
      "        ****\n",
      "         **\n"
     ]
    }
   ],
   "source": [
    "# the space and the star is varying just imagine you are you going to draw this on the graph and write a code for it simple\n",
    "count = 20 \n",
    "space_count = 0\n",
    "for i in range(10):\n",
    "    print(space_count*' '+ count*'*')\n",
    "    space_count = space_count + 1\n",
    "    count = count - 2"
   ]
  },
  {
   "cell_type": "code",
   "execution_count": 2,
   "id": "157a362f",
   "metadata": {},
   "outputs": [
    {
     "data": {
      "text/plain": [
       "True"
      ]
     },
     "execution_count": 2,
     "metadata": {},
     "output_type": "execute_result"
    }
   ],
   "source": [
    "'abc123'.isalnum()"
   ]
  },
  {
   "cell_type": "code",
   "execution_count": 7,
   "id": "5a6d5418",
   "metadata": {},
   "outputs": [
    {
     "name": "stdout",
     "output_type": "stream",
     "text": [
      "-------deepu--------\n"
     ]
    }
   ],
   "source": [
    "print('deepu'.center(20,'-'))"
   ]
  },
  {
   "cell_type": "code",
   "execution_count": 32,
   "id": "ff1159e3",
   "metadata": {},
   "outputs": [
    {
     "name": "stdout",
     "output_type": "stream",
     "text": [
      "*\n",
      "*\n",
      "**\n",
      "***\n",
      "****\n"
     ]
    }
   ],
   "source": [
    "for i in range(5):\n",
    "    print('*'.center(i,'*'))"
   ]
  },
  {
   "cell_type": "code",
   "execution_count": 33,
   "id": "01701dfc",
   "metadata": {},
   "outputs": [
    {
     "name": "stdout",
     "output_type": "stream",
     "text": [
      "    *     \n",
      "   *    \n"
     ]
    }
   ],
   "source": [
    "print('*'.center(10,' '))\n",
    "print('*'.center(8,' '))"
   ]
  },
  {
   "cell_type": "code",
   "execution_count": 38,
   "id": "a9d42dc8",
   "metadata": {},
   "outputs": [
    {
     "name": "stdout",
     "output_type": "stream",
     "text": [
      "1\n",
      "1\n",
      "1\n",
      "1\n",
      "2\n",
      "3\n",
      "3\n"
     ]
    }
   ],
   "source": [
    "listy = [1,1,1,2,1,2,2,3,3,3]\n",
    "y = set()\n",
    "count = 0\n",
    "for i in listy:\n",
    "    y.add(i)\n",
    "    count += 1\n",
    "    if len(y) == 1 and count in [0,1,2,3]:\n",
    "        print(i)\n",
    "#     while len(y) == 1 and count in range(1,4):\n",
    "#         print(i)\n",
    "        \n",
    "    else:\n",
    "        #print(i)\n",
    "        count = 0\n",
    "        y.clear()\n",
    "        continue"
   ]
  },
  {
   "cell_type": "code",
   "execution_count": 36,
   "id": "1e05329c",
   "metadata": {},
   "outputs": [
    {
     "data": {
      "text/plain": [
       "[1, 1, 1, 1, 2, 2, 2, 3, 3, 3]"
      ]
     },
     "execution_count": 36,
     "metadata": {},
     "output_type": "execute_result"
    }
   ],
   "source": [
    "sorted(listy)"
   ]
  },
  {
   "cell_type": "raw",
   "id": "a4c2d1be",
   "metadata": {},
   "source": [
    "here is the logic we will pick the number and compare the number if it is same of not for the next iterations and give a count to that and if the count is greated than three we will append the number now when the next number say 4th number is not same as the current number we will change the current number to 2 and now chech if the next iteration of number are same as 2 we will count and see if the count is greater then 3 or not if not than again we will change the number  "
   ]
  },
  {
   "cell_type": "code",
   "execution_count": 44,
   "id": "8fc69d7e",
   "metadata": {},
   "outputs": [
    {
     "name": "stdout",
     "output_type": "stream",
     "text": [
      "Numbers that appear at least three times consecutively: [1, 3]\n"
     ]
    }
   ],
   "source": [
    "listy = [1, 1, 1, 2, 1, 2, 2, 3, 3, 3]\n",
    "\n",
    "# this is the list in which we will append the numbers which are appearing for more then three times\n",
    "result = []\n",
    "\n",
    "# defining the number with which we want ot compare , It is set to None you can set any thing initialy like name deepu etc\n",
    "current_number = None #'Deepu'\n",
    "\n",
    "# setting the count i.e how many times is the number appearing consecutively \n",
    "count = 0\n",
    "\n",
    "for num in listy:\n",
    "    \n",
    "    #checking if the number is same as the current_number \n",
    "    if num == current_number:\n",
    "        count += 1\n",
    "    else:\n",
    "        current_number = num # not hence makeing it to i here it is numb \n",
    "        count = 1\n",
    "\n",
    "    if count >= 3 and num not in result:\n",
    "        #print('hey')\n",
    "        result.append(num)\n",
    "\n",
    "print(\"Numbers that appear at least three times consecutively:\", result)\n"
   ]
  },
  {
   "cell_type": "code",
   "execution_count": 54,
   "id": "81e74119",
   "metadata": {},
   "outputs": [
    {
     "name": "stdout",
     "output_type": "stream",
     "text": [
      "Numbers that appear at least three times consecutively: [1, 3]\n"
     ]
    }
   ],
   "source": [
    "# same question but not a well though through solution \n",
    "\n",
    "listy = [1, 1, 1, 2, 1, 2, 2, 3, 3, 3]\n",
    "y = []\n",
    "for i in range(1,len(listy)-1):\n",
    "    if listy[i-1] == listy[i] == listy[i+1]:\n",
    "        y.append(listy[i]) \n",
    "print(\"Numbers that appear at least three times consecutively:\", y)"
   ]
  },
  {
   "cell_type": "code",
   "execution_count": null,
   "id": "f225e0a8",
   "metadata": {},
   "outputs": [],
   "source": []
  }
 ],
 "metadata": {
  "kernelspec": {
   "display_name": "Python 3 (ipykernel)",
   "language": "python",
   "name": "python3"
  },
  "language_info": {
   "codemirror_mode": {
    "name": "ipython",
    "version": 3
   },
   "file_extension": ".py",
   "mimetype": "text/x-python",
   "name": "python",
   "nbconvert_exporter": "python",
   "pygments_lexer": "ipython3",
   "version": "3.9.12"
  }
 },
 "nbformat": 4,
 "nbformat_minor": 5
}
