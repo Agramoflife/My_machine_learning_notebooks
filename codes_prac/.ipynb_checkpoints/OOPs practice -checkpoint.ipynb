{
 "cells": [
  {
   "cell_type": "markdown",
   "id": "e8325423",
   "metadata": {},
   "source": [
    "# oops concepts "
   ]
  },
  {
   "cell_type": "markdown",
   "id": "64c482cb",
   "metadata": {},
   "source": [
    "AT a high level every thing inside python are objects and classes are just a blueprint to create new user defined objects when you writing x = [2,3] this is basically an object at a high level, we can also say that object is an instance of class in the example here you are creating an instance of class list."
   ]
  },
  {
   "cell_type": "markdown",
   "id": "45549cf7",
   "metadata": {},
   "source": [
    "abstraction is basically covering the the complex code from the user and making it available in a way user can understand \n",
    "Abstraction in programming is indeed about simplifying complex code or systems to make them more user-friendly and understandable. It involves hiding the unnecessary details while exposing the essential features or functionalities"
   ]
  },
  {
   "cell_type": "markdown",
   "id": "bbbf6fe7",
   "metadata": {},
   "source": [
    "Polymorphism is having differnt class with same method name in such case the method will be revoked to the class which is instantiated "
   ]
  },
  {
   "cell_type": "markdown",
   "id": "1c644eaa",
   "metadata": {},
   "source": [
    "Inheritence is basically the properties, atributes and methods of a parent class is passed down to the child class but inverse is not true "
   ]
  },
  {
   "cell_type": "code",
   "execution_count": 60,
   "id": "b222733f",
   "metadata": {},
   "outputs": [],
   "source": [
    "class dog:\n",
    "    def __init__(self,name):\n",
    "        self.name = name \n",
    "    \n",
    "    def hey(self):\n",
    "        print(f'hello {self.name}')"
   ]
  },
  {
   "cell_type": "code",
   "execution_count": 61,
   "id": "311e947b",
   "metadata": {},
   "outputs": [],
   "source": [
    "x=dog('Tyson')"
   ]
  },
  {
   "cell_type": "code",
   "execution_count": 62,
   "id": "4090c496",
   "metadata": {},
   "outputs": [
    {
     "name": "stdout",
     "output_type": "stream",
     "text": [
      "hello Tyson\n"
     ]
    }
   ],
   "source": [
    "x.hey()"
   ]
  },
  {
   "cell_type": "code",
   "execution_count": 99,
   "id": "6df3ef84",
   "metadata": {},
   "outputs": [],
   "source": [
    "class circle:\n",
    "    def __init__(self,radius= 1):\n",
    "        self.radius = radius\n",
    "        self.area = 3.14*radius*radius\n",
    "        \n",
    "    def set_radius(self,new_radius):\n",
    "        self.radius = new_radius\n",
    "        \n",
    "        return 'changed successfully'"
   ]
  },
  {
   "cell_type": "code",
   "execution_count": 100,
   "id": "82c354de",
   "metadata": {},
   "outputs": [],
   "source": [
    "cir1  = circle()"
   ]
  },
  {
   "cell_type": "code",
   "execution_count": 101,
   "id": "65c56217",
   "metadata": {},
   "outputs": [
    {
     "data": {
      "text/plain": [
       "1"
      ]
     },
     "execution_count": 101,
     "metadata": {},
     "output_type": "execute_result"
    }
   ],
   "source": [
    "cir1.radius"
   ]
  },
  {
   "cell_type": "code",
   "execution_count": 102,
   "id": "a6a224c0",
   "metadata": {},
   "outputs": [
    {
     "data": {
      "text/plain": [
       "3.14"
      ]
     },
     "execution_count": 102,
     "metadata": {},
     "output_type": "execute_result"
    }
   ],
   "source": [
    "cir1.area"
   ]
  },
  {
   "cell_type": "code",
   "execution_count": 103,
   "id": "79f36082",
   "metadata": {},
   "outputs": [
    {
     "data": {
      "text/plain": [
       "'changed successfully'"
      ]
     },
     "execution_count": 103,
     "metadata": {},
     "output_type": "execute_result"
    }
   ],
   "source": [
    "cir1.set_radius(5)"
   ]
  },
  {
   "cell_type": "code",
   "execution_count": 104,
   "id": "78925198",
   "metadata": {},
   "outputs": [
    {
     "data": {
      "text/plain": [
       "5"
      ]
     },
     "execution_count": 104,
     "metadata": {},
     "output_type": "execute_result"
    }
   ],
   "source": [
    "cir1.radius"
   ]
  },
  {
   "cell_type": "code",
   "execution_count": 105,
   "id": "52a3a21f",
   "metadata": {},
   "outputs": [
    {
     "data": {
      "text/plain": [
       "3.14"
      ]
     },
     "execution_count": 105,
     "metadata": {},
     "output_type": "execute_result"
    }
   ],
   "source": [
    "cir1.area"
   ]
  },
  {
   "cell_type": "code",
   "execution_count": 107,
   "id": "223a7e07",
   "metadata": {},
   "outputs": [],
   "source": [
    "c = gola(3)"
   ]
  },
  {
   "cell_type": "code",
   "execution_count": 108,
   "id": "8d8549d7",
   "metadata": {},
   "outputs": [
    {
     "data": {
      "text/plain": [
       "(3, 28.259999999999998)"
      ]
     },
     "execution_count": 108,
     "metadata": {},
     "output_type": "execute_result"
    }
   ],
   "source": [
    "c.radius,c.area"
   ]
  },
  {
   "cell_type": "code",
   "execution_count": 110,
   "id": "a74fffa4",
   "metadata": {},
   "outputs": [
    {
     "data": {
      "text/plain": [
       "'New radius set to 4'"
      ]
     },
     "execution_count": 110,
     "metadata": {},
     "output_type": "execute_result"
    }
   ],
   "source": [
    "c.new_radius(4)"
   ]
  },
  {
   "cell_type": "code",
   "execution_count": 111,
   "id": "649d1e2a",
   "metadata": {},
   "outputs": [
    {
     "data": {
      "text/plain": [
       "4"
      ]
     },
     "execution_count": 111,
     "metadata": {},
     "output_type": "execute_result"
    }
   ],
   "source": [
    "c.radius"
   ]
  },
  {
   "cell_type": "code",
   "execution_count": 112,
   "id": "f6d08db0",
   "metadata": {},
   "outputs": [
    {
     "data": {
      "text/plain": [
       "28.259999999999998"
      ]
     },
     "execution_count": 112,
     "metadata": {},
     "output_type": "execute_result"
    }
   ],
   "source": [
    "c.area"
   ]
  },
  {
   "cell_type": "code",
   "execution_count": 134,
   "id": "76295850",
   "metadata": {},
   "outputs": [],
   "source": [
    "class rectangle:\n",
    "    def __init__(self,length,breadth):\n",
    "        self.length = length\n",
    "        self.breadth = breadth\n",
    "        self.perimeter = 2*(length+breadth)\n",
    "        self.area = length*breadth\n",
    "    \n",
    "    def change_dim(self,new_length,new_breadth):\n",
    "        self.length = new_length # changing \n",
    "        self.breadth = new_breadth # changeing \n",
    "        self.area = new_length*new_breadth # remember the computer is a dumb machine you have only changed the radius not the \n",
    "        # area so you will have to update the area also \n",
    "        self.perimeter = 2*(new_length + new_breadth)"
   ]
  },
  {
   "cell_type": "code",
   "execution_count": 136,
   "id": "eeba6f72",
   "metadata": {},
   "outputs": [],
   "source": [
    "r = rectangle(length = 4,breadth = 2)"
   ]
  },
  {
   "cell_type": "code",
   "execution_count": 137,
   "id": "96757e33",
   "metadata": {},
   "outputs": [
    {
     "data": {
      "text/plain": [
       "(4, 2)"
      ]
     },
     "execution_count": 137,
     "metadata": {},
     "output_type": "execute_result"
    }
   ],
   "source": [
    "r.length,r.breadth"
   ]
  },
  {
   "cell_type": "code",
   "execution_count": 138,
   "id": "a0b9df72",
   "metadata": {},
   "outputs": [
    {
     "data": {
      "text/plain": [
       "(12, 8)"
      ]
     },
     "execution_count": 138,
     "metadata": {},
     "output_type": "execute_result"
    }
   ],
   "source": [
    "r.perimeter,r.area"
   ]
  },
  {
   "cell_type": "code",
   "execution_count": 139,
   "id": "e28327f4",
   "metadata": {},
   "outputs": [],
   "source": [
    "r.change_dim(8,6)"
   ]
  },
  {
   "cell_type": "code",
   "execution_count": 140,
   "id": "26a6357f",
   "metadata": {},
   "outputs": [
    {
     "data": {
      "text/plain": [
       "48"
      ]
     },
     "execution_count": 140,
     "metadata": {},
     "output_type": "execute_result"
    }
   ],
   "source": [
    "r.area"
   ]
  },
  {
   "cell_type": "code",
   "execution_count": 141,
   "id": "fc5aabaf",
   "metadata": {},
   "outputs": [
    {
     "data": {
      "text/plain": [
       "28"
      ]
     },
     "execution_count": 141,
     "metadata": {},
     "output_type": "execute_result"
    }
   ],
   "source": [
    "r.perimeter"
   ]
  },
  {
   "cell_type": "code",
   "execution_count": 133,
   "id": "a6b83114",
   "metadata": {},
   "outputs": [
    {
     "data": {
      "text/plain": [
       "8"
      ]
     },
     "execution_count": 133,
     "metadata": {},
     "output_type": "execute_result"
    }
   ],
   "source": [
    "r.length"
   ]
  },
  {
   "cell_type": "code",
   "execution_count": 125,
   "id": "94639b29",
   "metadata": {},
   "outputs": [
    {
     "data": {
      "text/plain": [
       "6"
      ]
     },
     "execution_count": 125,
     "metadata": {},
     "output_type": "execute_result"
    }
   ],
   "source": [
    "r.breadth"
   ]
  },
  {
   "cell_type": "markdown",
   "id": "e3f825b1",
   "metadata": {},
   "source": [
    "# polymorhism"
   ]
  },
  {
   "cell_type": "code",
   "execution_count": 146,
   "id": "bedb415e",
   "metadata": {},
   "outputs": [],
   "source": [
    "class house_neptune:\n",
    "    def __init__():\n",
    "        pass\n",
    "    \n",
    "    def motto():\n",
    "        return 'We are Reds'"
   ]
  },
  {
   "cell_type": "code",
   "execution_count": 150,
   "id": "e57507a3",
   "metadata": {},
   "outputs": [],
   "source": [
    "rohit = house_neptune"
   ]
  },
  {
   "cell_type": "code",
   "execution_count": 151,
   "id": "4930493f",
   "metadata": {},
   "outputs": [
    {
     "data": {
      "text/plain": [
       "'We are Reds'"
      ]
     },
     "execution_count": 151,
     "metadata": {},
     "output_type": "execute_result"
    }
   ],
   "source": [
    "rohit.motto()"
   ]
  },
  {
   "cell_type": "code",
   "execution_count": 169,
   "id": "b46faa0f",
   "metadata": {},
   "outputs": [],
   "source": [
    "class house_saturn:\n",
    "    def __init__(self):\n",
    "        pass\n",
    "    \n",
    "    def motto():\n",
    "        return 'We are greens'"
   ]
  },
  {
   "cell_type": "code",
   "execution_count": 167,
   "id": "4e1d152f",
   "metadata": {},
   "outputs": [],
   "source": [
    "deepu = house_saturn"
   ]
  },
  {
   "cell_type": "code",
   "execution_count": 168,
   "id": "197589d0",
   "metadata": {},
   "outputs": [
    {
     "data": {
      "text/plain": [
       "'We are greens'"
      ]
     },
     "execution_count": 168,
     "metadata": {},
     "output_type": "execute_result"
    }
   ],
   "source": [
    "deepu.motto()"
   ]
  },
  {
   "cell_type": "markdown",
   "id": "654b7a8b",
   "metadata": {},
   "source": [
    "# Error handling "
   ]
  },
  {
   "cell_type": "code",
   "execution_count": 171,
   "id": "db1e379e",
   "metadata": {},
   "outputs": [
    {
     "name": "stdout",
     "output_type": "stream",
     "text": [
      "Hey! I am in try block\n",
      "Now I am in else block\n",
      "Now I am in finally block\n"
     ]
    }
   ],
   "source": [
    "try:\n",
    "    print('Hey! I am in try block')\n",
    "    #print('Rr', whatup)\n",
    "\n",
    "except:\n",
    "    print('I am in except block now because your try block has an error ')\n",
    "\n",
    "else:\n",
    "    print('Now I am in else block')\n",
    "    \n",
    "finally:\n",
    "    print('Now I am in finally block')\n",
    "    "
   ]
  },
  {
   "cell_type": "code",
   "execution_count": 177,
   "id": "9e6457c3",
   "metadata": {},
   "outputs": [
    {
     "name": "stdout",
     "output_type": "stream",
     "text": [
      "i am in except block\n",
      "no matter what I an good and will always be printed\n"
     ]
    }
   ],
   "source": [
    "try:\n",
    "    p\n",
    "    #print('deepu is in try')\n",
    "except:\n",
    "    print('i am in except block')\n",
    "else:\n",
    "    print('I am in else block')\n",
    "\n",
    "finally:\n",
    "    print('no matter what I an good and will always be printed')"
   ]
  },
  {
   "cell_type": "code",
   "execution_count": null,
   "id": "324933c7",
   "metadata": {},
   "outputs": [],
   "source": []
  }
 ],
 "metadata": {
  "kernelspec": {
   "display_name": "Python 3 (ipykernel)",
   "language": "python",
   "name": "python3"
  },
  "language_info": {
   "codemirror_mode": {
    "name": "ipython",
    "version": 3
   },
   "file_extension": ".py",
   "mimetype": "text/x-python",
   "name": "python",
   "nbconvert_exporter": "python",
   "pygments_lexer": "ipython3",
   "version": "3.9.12"
  }
 },
 "nbformat": 4,
 "nbformat_minor": 5
}
