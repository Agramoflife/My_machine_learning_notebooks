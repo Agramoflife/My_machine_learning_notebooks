{
 "cells": [
  {
   "cell_type": "markdown",
   "id": "77fe4f4a",
   "metadata": {},
   "source": [
    "# Decision Tree"
   ]
  },
  {
   "cell_type": "code",
   "execution_count": null,
   "id": "2539c9a7",
   "metadata": {},
   "outputs": [],
   "source": [
    "can be used for both categorical and continous variabe , for continous variable reduction in varinace factor is used "
   ]
  },
  {
   "cell_type": "markdown",
   "id": "d73050e0",
   "metadata": {},
   "source": [
    "This is a non prametric model that is it does not have weight/ coefficients associated with the features unlike linear regression it does not require scalling of features "
   ]
  },
  {
   "cell_type": "markdown",
   "id": "fc779435",
   "metadata": {},
   "source": [
    "To cover this topic refer the class notebook it's quite elaborative "
   ]
  },
  {
   "cell_type": "markdown",
   "id": "7dee354d",
   "metadata": {},
   "source": [
    "This is quite an easy algoritm and very intituive for even a non analytical guy . Here is how it works lets consider there is a data set of students who play cricket in the leisure time it has features like gender, height, class and label as play cricket or not, Now the when we apply decision treen the ml will split the data on featres like let's say gender into boys and girls who play cricket then the boys and girls will further be split based on let's say class i.e 9th, and 10th class who play cricket  and the 9th and 10th class who play cricket will futher be split into height of 9th and 10th who play cricket  "
   ]
  },
  {
   "cell_type": "markdown",
   "id": "98b79ffb",
   "metadata": {},
   "source": [
    "Now if a new data point comes, it will fall in gender lets say he is a boy(who play cricket) , now this boy will fall in another split i.e in which class he is let's say 10th now again he will fall in another split height i.e height of people say greater then 5.5 who play cricket and then he will be classified as plays cricket "
   ]
  },
  {
   "cell_type": "markdown",
   "id": "9d49d76e",
   "metadata": {},
   "source": [
    "Now comes the question how does the split happens the split happens based on information gain there is a simple relation between entropy and information gain . \n",
    "Recall the entropy concept studied in chemistry, entropy defines the degree of randomness present in the system in other words how choatic is the system example the indian road juncitons are very choatic in nature as nobody follow rules\n",
    "\n",
    "higher the entropy lower is the information gain the splits happens on the feature which has maximum information gain \n",
    "entropy = plog(p) + qlog(q) , we calculate the entropy and then we callculated the weighted entropy and we subtract it from when. "
   ]
  },
  {
   "cell_type": "markdown",
   "id": "35305a21",
   "metadata": {},
   "source": [
    "There are also other methods which describes the best splits \n",
    "- Information gain\n",
    "- Gini\n",
    "- chi square\n",
    "- Reduction in variance"
   ]
  },
  {
   "cell_type": "markdown",
   "id": "c830ace7",
   "metadata": {},
   "source": [
    "# information theory "
   ]
  },
  {
   "cell_type": "markdown",
   "id": "4ea90ea4",
   "metadata": {},
   "source": [
    "So entorpy is defined as the degree of randomness in a system if the entropy is low the randomness is less and if the entropy is high the system is quite choatic in nature \n",
    "\n",
    "Information theory says that if you have a low entropy this means there is a little uncertaintiy in the data and it requires less information to to describe the data (consider you , Anil, Sachin and Mehra all decide to go to Saffron then you say 'all in' that it took you very less information to describe the decision) but if you have a high entropy this means there is high unceratinty in the data and it requires more information to describe the data ( consider you want to go to saffron, Anil wants to go to Reddy's Sachin wants to go to The Camden lane and Mehra wan't to go to Venkys so there is a lot of uncertaintly and it requires alot of information like what do every one want's to eat and so many other question so you require a lot of inforamation to come to the final solution ) \n",
    "\n",
    "Conversely we can say then if there is a decrease in the entropy there is a increase in the information that is decrease in entropy results in information gain \n",
    "\n",
    "So we know that the root node has the entire dataset lets say that there are 400 out of 800 datapoint belong to 1 and otherwise so we calculate the entropy of it using the formula as -plog(p) - qlog(q), We then calculate the entropy of each feature i.e lets say on gender we have 39 females and 61 males we calculate the probability of females who play cricket and not play cricket and then we do the same for boys then we take the weighted entropy and we do this for all the features now we have the weight entropy of all the features we subtract this weighted entropy from the rootnode and we take that feature which gives then maximum information gain i.e where there is maximum decrease in the entroy and this is carried down further make it like a branches "
   ]
  },
  {
   "cell_type": "markdown",
   "id": "8ed90ff6",
   "metadata": {},
   "source": [
    "let's talk about gini\n",
    "\n",
    "Gini impurity measures how homogeneous or impure the feature (or data) is at a specific node in a decision tree. Specifically, it quantifies the level of disorder or impurity in that node with respect to the distribution of classes within it.\n",
    "\n",
    "In a decision tree, the Gini impurity is a measure of how mixed the classes are in a node. The lower the Gini impurity, the more pure the node is. The Gini impurity is calculated using the Gini coefficient.\n",
    "\n",
    "gini impurity = 1 - ( summation of probability)\n",
    "\n",
    "The Gini impurity value for a binary classification problem (where there are two classes) will always lie between 0 and 0.5.\n",
    "\n",
    "- A Gini impurity of 0 indicates perfect homogeneity, meaning that all data points in the node belong to the same class. This is the lowest possible Gini impurity and represents a pure node.\n",
    "\n",
    "- A Gini impurity of 0.5 (0.5 is also written as 50% or 50:50) indicates maximum impurity. It means that the data points in the node are evenly split between two classes, resulting in the highest possible level of impurity and uncertainty.\n",
    "\n",
    "In practice, Gini impurity values closer to 0 indicate greater homogeneity within a node, while values closer to 0.5 indicate greater impurity or heterogeneity. Decision tree algorithms aim to minimize Gini impurity when selecting splits to create more homogeneous child nodes as the tree is built."
   ]
  },
  {
   "cell_type": "markdown",
   "id": "4de5fc2d",
   "metadata": {},
   "source": [
    "The term \"Gini impurity\" and \"Gini\" are often used interchangeably in the context of decision trees. When people refer to \"calculating Gini,\" they are typically referring to calculating the Gini impurity (Gini index or Gini value) for a specific node in a decision tree.\n",
    "\n",
    "So, when you calculate \"Gini,\" you are effectively calculating the Gini impurity for that node using the formula I provided in my previous response. There is no separate formula for \"Gini\" distinct from the Gini impurity in the context of decision trees.\n",
    "\n",
    "In summary, to calculate \"Gini\" for a node in a decision tree, you follow the steps I mentioned in my previous response to calculate the Gini impurity (Gini index or Gini value)."
   ]
  },
  {
   "cell_type": "code",
   "execution_count": null,
   "id": "2e58d1d7",
   "metadata": {},
   "outputs": [],
   "source": []
  },
  {
   "cell_type": "markdown",
   "id": "b7481ebb",
   "metadata": {},
   "source": [
    "The calculation is done in the copy you can go through to understand it also the class notes are good so you can go through that as well "
   ]
  },
  {
   "cell_type": "code",
   "execution_count": null,
   "id": "fbd0a1b4",
   "metadata": {},
   "outputs": [],
   "source": []
  },
  {
   "cell_type": "markdown",
   "id": "9d81958d",
   "metadata": {},
   "source": [
    "# Implementation "
   ]
  },
  {
   "cell_type": "code",
   "execution_count": 1,
   "id": "79f5b217",
   "metadata": {},
   "outputs": [],
   "source": [
    "import pandas as pd\n",
    "from sklearn.metrics import accuracy_score, auc\n",
    "from sklearn.model_selection import train_test_split\n",
    "from sklearn.tree import DecisionTreeClassifier"
   ]
  },
  {
   "cell_type": "code",
   "execution_count": 2,
   "id": "09907623",
   "metadata": {},
   "outputs": [
    {
     "data": {
      "text/plain": [
       "'C:\\\\Users\\\\Deepu\\\\Documents\\\\machine_learning'"
      ]
     },
     "execution_count": 2,
     "metadata": {},
     "output_type": "execute_result"
    }
   ],
   "source": [
    "pwd"
   ]
  },
  {
   "cell_type": "code",
   "execution_count": 3,
   "id": "acca8eb5",
   "metadata": {},
   "outputs": [
    {
     "name": "stdout",
     "output_type": "stream",
     "text": [
      "C:\\Users\\Deepu\\Downloads\n"
     ]
    }
   ],
   "source": [
    "cd C:\\\\Users\\\\Deepu\\\\Downloads "
   ]
  },
  {
   "cell_type": "code",
   "execution_count": 4,
   "id": "f1c27ce9",
   "metadata": {},
   "outputs": [],
   "source": [
    "data = pd.read_csv('daily_weather.csv')"
   ]
  },
  {
   "cell_type": "code",
   "execution_count": 63,
   "id": "8f1b2e26",
   "metadata": {},
   "outputs": [
    {
     "data": {
      "text/html": [
       "<div>\n",
       "<style scoped>\n",
       "    .dataframe tbody tr th:only-of-type {\n",
       "        vertical-align: middle;\n",
       "    }\n",
       "\n",
       "    .dataframe tbody tr th {\n",
       "        vertical-align: top;\n",
       "    }\n",
       "\n",
       "    .dataframe thead th {\n",
       "        text-align: right;\n",
       "    }\n",
       "</style>\n",
       "<table border=\"1\" class=\"dataframe\">\n",
       "  <thead>\n",
       "    <tr style=\"text-align: right;\">\n",
       "      <th></th>\n",
       "      <th>air_pressure_9am</th>\n",
       "      <th>air_temp_9am</th>\n",
       "      <th>avg_wind_direction_9am</th>\n",
       "      <th>avg_wind_speed_9am</th>\n",
       "      <th>max_wind_direction_9am</th>\n",
       "      <th>max_wind_speed_9am</th>\n",
       "      <th>rain_accumulation_9am</th>\n",
       "      <th>rain_duration_9am</th>\n",
       "      <th>relative_humidity_9am</th>\n",
       "      <th>high_humidity_3pm</th>\n",
       "    </tr>\n",
       "  </thead>\n",
       "  <tbody>\n",
       "    <tr>\n",
       "      <th>0</th>\n",
       "      <td>918.060000</td>\n",
       "      <td>74.822000</td>\n",
       "      <td>271.100000</td>\n",
       "      <td>2.080354</td>\n",
       "      <td>295.400000</td>\n",
       "      <td>2.863283</td>\n",
       "      <td>0.0</td>\n",
       "      <td>0.0</td>\n",
       "      <td>42.420000</td>\n",
       "      <td>1</td>\n",
       "    </tr>\n",
       "    <tr>\n",
       "      <th>1</th>\n",
       "      <td>917.347688</td>\n",
       "      <td>71.403843</td>\n",
       "      <td>101.935179</td>\n",
       "      <td>2.443009</td>\n",
       "      <td>140.471549</td>\n",
       "      <td>3.533324</td>\n",
       "      <td>0.0</td>\n",
       "      <td>0.0</td>\n",
       "      <td>24.328697</td>\n",
       "      <td>0</td>\n",
       "    </tr>\n",
       "    <tr>\n",
       "      <th>2</th>\n",
       "      <td>923.040000</td>\n",
       "      <td>60.638000</td>\n",
       "      <td>51.000000</td>\n",
       "      <td>17.067852</td>\n",
       "      <td>63.700000</td>\n",
       "      <td>22.100967</td>\n",
       "      <td>0.0</td>\n",
       "      <td>20.0</td>\n",
       "      <td>8.900000</td>\n",
       "      <td>0</td>\n",
       "    </tr>\n",
       "    <tr>\n",
       "      <th>3</th>\n",
       "      <td>920.502751</td>\n",
       "      <td>70.138895</td>\n",
       "      <td>198.832133</td>\n",
       "      <td>4.337363</td>\n",
       "      <td>211.203341</td>\n",
       "      <td>5.190045</td>\n",
       "      <td>0.0</td>\n",
       "      <td>0.0</td>\n",
       "      <td>12.189102</td>\n",
       "      <td>0</td>\n",
       "    </tr>\n",
       "    <tr>\n",
       "      <th>4</th>\n",
       "      <td>921.160000</td>\n",
       "      <td>44.294000</td>\n",
       "      <td>277.800000</td>\n",
       "      <td>1.856660</td>\n",
       "      <td>136.500000</td>\n",
       "      <td>2.863283</td>\n",
       "      <td>8.9</td>\n",
       "      <td>14730.0</td>\n",
       "      <td>92.410000</td>\n",
       "      <td>1</td>\n",
       "    </tr>\n",
       "  </tbody>\n",
       "</table>\n",
       "</div>"
      ],
      "text/plain": [
       "   air_pressure_9am  air_temp_9am  avg_wind_direction_9am  avg_wind_speed_9am  \\\n",
       "0        918.060000     74.822000              271.100000            2.080354   \n",
       "1        917.347688     71.403843              101.935179            2.443009   \n",
       "2        923.040000     60.638000               51.000000           17.067852   \n",
       "3        920.502751     70.138895              198.832133            4.337363   \n",
       "4        921.160000     44.294000              277.800000            1.856660   \n",
       "\n",
       "   max_wind_direction_9am  max_wind_speed_9am  rain_accumulation_9am  \\\n",
       "0              295.400000            2.863283                    0.0   \n",
       "1              140.471549            3.533324                    0.0   \n",
       "2               63.700000           22.100967                    0.0   \n",
       "3              211.203341            5.190045                    0.0   \n",
       "4              136.500000            2.863283                    8.9   \n",
       "\n",
       "   rain_duration_9am  relative_humidity_9am  high_humidity_3pm  \n",
       "0                0.0              42.420000                  1  \n",
       "1                0.0              24.328697                  0  \n",
       "2               20.0               8.900000                  0  \n",
       "3                0.0              12.189102                  0  \n",
       "4            14730.0              92.410000                  1  "
      ]
     },
     "execution_count": 63,
     "metadata": {},
     "output_type": "execute_result"
    }
   ],
   "source": [
    "data.head()"
   ]
  },
  {
   "cell_type": "code",
   "execution_count": 64,
   "id": "60d9e5e5",
   "metadata": {},
   "outputs": [
    {
     "data": {
      "text/plain": [
       "Index(['air_pressure_9am', 'air_temp_9am', 'avg_wind_direction_9am',\n",
       "       'avg_wind_speed_9am', 'max_wind_direction_9am', 'max_wind_speed_9am',\n",
       "       'rain_accumulation_9am', 'rain_duration_9am', 'relative_humidity_9am',\n",
       "       'high_humidity_3pm'],\n",
       "      dtype='object')"
      ]
     },
     "execution_count": 64,
     "metadata": {},
     "output_type": "execute_result"
    }
   ],
   "source": [
    "data.columns\n"
   ]
  },
  {
   "cell_type": "code",
   "execution_count": 65,
   "id": "b7e8131e",
   "metadata": {},
   "outputs": [
    {
     "data": {
      "text/plain": [
       "(1064, 10)"
      ]
     },
     "execution_count": 65,
     "metadata": {},
     "output_type": "execute_result"
    }
   ],
   "source": [
    "data.shape"
   ]
  },
  {
   "cell_type": "code",
   "execution_count": 66,
   "id": "453a34c1",
   "metadata": {},
   "outputs": [
    {
     "name": "stdout",
     "output_type": "stream",
     "text": [
      "<class 'pandas.core.frame.DataFrame'>\n",
      "Int64Index: 1064 entries, 0 to 1094\n",
      "Data columns (total 10 columns):\n",
      " #   Column                  Non-Null Count  Dtype  \n",
      "---  ------                  --------------  -----  \n",
      " 0   air_pressure_9am        1064 non-null   float64\n",
      " 1   air_temp_9am            1064 non-null   float64\n",
      " 2   avg_wind_direction_9am  1064 non-null   float64\n",
      " 3   avg_wind_speed_9am      1064 non-null   float64\n",
      " 4   max_wind_direction_9am  1064 non-null   float64\n",
      " 5   max_wind_speed_9am      1064 non-null   float64\n",
      " 6   rain_accumulation_9am   1064 non-null   float64\n",
      " 7   rain_duration_9am       1064 non-null   float64\n",
      " 8   relative_humidity_9am   1064 non-null   float64\n",
      " 9   high_humidity_3pm       1064 non-null   int64  \n",
      "dtypes: float64(9), int64(1)\n",
      "memory usage: 91.4 KB\n"
     ]
    }
   ],
   "source": [
    "data.info()"
   ]
  },
  {
   "cell_type": "code",
   "execution_count": 67,
   "id": "3973de05",
   "metadata": {},
   "outputs": [
    {
     "data": {
      "text/html": [
       "<div>\n",
       "<style scoped>\n",
       "    .dataframe tbody tr th:only-of-type {\n",
       "        vertical-align: middle;\n",
       "    }\n",
       "\n",
       "    .dataframe tbody tr th {\n",
       "        vertical-align: top;\n",
       "    }\n",
       "\n",
       "    .dataframe thead th {\n",
       "        text-align: right;\n",
       "    }\n",
       "</style>\n",
       "<table border=\"1\" class=\"dataframe\">\n",
       "  <thead>\n",
       "    <tr style=\"text-align: right;\">\n",
       "      <th></th>\n",
       "      <th>air_pressure_9am</th>\n",
       "      <th>air_temp_9am</th>\n",
       "      <th>avg_wind_direction_9am</th>\n",
       "      <th>avg_wind_speed_9am</th>\n",
       "      <th>max_wind_direction_9am</th>\n",
       "      <th>max_wind_speed_9am</th>\n",
       "      <th>rain_accumulation_9am</th>\n",
       "      <th>rain_duration_9am</th>\n",
       "      <th>relative_humidity_9am</th>\n",
       "      <th>high_humidity_3pm</th>\n",
       "    </tr>\n",
       "  </thead>\n",
       "  <tbody>\n",
       "    <tr>\n",
       "      <th>count</th>\n",
       "      <td>1064.000000</td>\n",
       "      <td>1064.000000</td>\n",
       "      <td>1064.000000</td>\n",
       "      <td>1064.000000</td>\n",
       "      <td>1064.000000</td>\n",
       "      <td>1064.000000</td>\n",
       "      <td>1064.000000</td>\n",
       "      <td>1064.000000</td>\n",
       "      <td>1064.000000</td>\n",
       "      <td>1064.000000</td>\n",
       "    </tr>\n",
       "    <tr>\n",
       "      <th>mean</th>\n",
       "      <td>918.903180</td>\n",
       "      <td>65.022609</td>\n",
       "      <td>142.306756</td>\n",
       "      <td>5.485793</td>\n",
       "      <td>148.480424</td>\n",
       "      <td>6.999714</td>\n",
       "      <td>0.182023</td>\n",
       "      <td>266.393697</td>\n",
       "      <td>34.077440</td>\n",
       "      <td>0.497180</td>\n",
       "    </tr>\n",
       "    <tr>\n",
       "      <th>std</th>\n",
       "      <td>3.179040</td>\n",
       "      <td>11.168033</td>\n",
       "      <td>69.149472</td>\n",
       "      <td>4.534427</td>\n",
       "      <td>67.154911</td>\n",
       "      <td>5.590790</td>\n",
       "      <td>1.534493</td>\n",
       "      <td>1503.092216</td>\n",
       "      <td>25.356668</td>\n",
       "      <td>0.500227</td>\n",
       "    </tr>\n",
       "    <tr>\n",
       "      <th>min</th>\n",
       "      <td>907.990000</td>\n",
       "      <td>36.752000</td>\n",
       "      <td>15.500000</td>\n",
       "      <td>0.693451</td>\n",
       "      <td>28.900000</td>\n",
       "      <td>1.185578</td>\n",
       "      <td>0.000000</td>\n",
       "      <td>0.000000</td>\n",
       "      <td>6.090000</td>\n",
       "      <td>0.000000</td>\n",
       "    </tr>\n",
       "    <tr>\n",
       "      <th>25%</th>\n",
       "      <td>916.595376</td>\n",
       "      <td>57.398000</td>\n",
       "      <td>65.979244</td>\n",
       "      <td>2.245529</td>\n",
       "      <td>76.335351</td>\n",
       "      <td>3.064608</td>\n",
       "      <td>0.000000</td>\n",
       "      <td>0.000000</td>\n",
       "      <td>15.093365</td>\n",
       "      <td>0.000000</td>\n",
       "    </tr>\n",
       "    <tr>\n",
       "      <th>50%</th>\n",
       "      <td>918.942281</td>\n",
       "      <td>65.778479</td>\n",
       "      <td>165.937461</td>\n",
       "      <td>3.869906</td>\n",
       "      <td>176.350000</td>\n",
       "      <td>4.943637</td>\n",
       "      <td>0.000000</td>\n",
       "      <td>0.000000</td>\n",
       "      <td>23.135000</td>\n",
       "      <td>0.000000</td>\n",
       "    </tr>\n",
       "    <tr>\n",
       "      <th>75%</th>\n",
       "      <td>921.169054</td>\n",
       "      <td>73.530872</td>\n",
       "      <td>191.100000</td>\n",
       "      <td>7.264463</td>\n",
       "      <td>201.125000</td>\n",
       "      <td>8.747888</td>\n",
       "      <td>0.000000</td>\n",
       "      <td>0.000000</td>\n",
       "      <td>44.660000</td>\n",
       "      <td>1.000000</td>\n",
       "    </tr>\n",
       "    <tr>\n",
       "      <th>max</th>\n",
       "      <td>929.320000</td>\n",
       "      <td>98.906000</td>\n",
       "      <td>343.400000</td>\n",
       "      <td>23.554978</td>\n",
       "      <td>312.200000</td>\n",
       "      <td>29.840780</td>\n",
       "      <td>24.020000</td>\n",
       "      <td>17704.000000</td>\n",
       "      <td>92.620000</td>\n",
       "      <td>1.000000</td>\n",
       "    </tr>\n",
       "  </tbody>\n",
       "</table>\n",
       "</div>"
      ],
      "text/plain": [
       "       air_pressure_9am  air_temp_9am  avg_wind_direction_9am  \\\n",
       "count       1064.000000   1064.000000             1064.000000   \n",
       "mean         918.903180     65.022609              142.306756   \n",
       "std            3.179040     11.168033               69.149472   \n",
       "min          907.990000     36.752000               15.500000   \n",
       "25%          916.595376     57.398000               65.979244   \n",
       "50%          918.942281     65.778479              165.937461   \n",
       "75%          921.169054     73.530872              191.100000   \n",
       "max          929.320000     98.906000              343.400000   \n",
       "\n",
       "       avg_wind_speed_9am  max_wind_direction_9am  max_wind_speed_9am  \\\n",
       "count         1064.000000             1064.000000         1064.000000   \n",
       "mean             5.485793              148.480424            6.999714   \n",
       "std              4.534427               67.154911            5.590790   \n",
       "min              0.693451               28.900000            1.185578   \n",
       "25%              2.245529               76.335351            3.064608   \n",
       "50%              3.869906              176.350000            4.943637   \n",
       "75%              7.264463              201.125000            8.747888   \n",
       "max             23.554978              312.200000           29.840780   \n",
       "\n",
       "       rain_accumulation_9am  rain_duration_9am  relative_humidity_9am  \\\n",
       "count            1064.000000        1064.000000            1064.000000   \n",
       "mean                0.182023         266.393697              34.077440   \n",
       "std                 1.534493        1503.092216              25.356668   \n",
       "min                 0.000000           0.000000               6.090000   \n",
       "25%                 0.000000           0.000000              15.093365   \n",
       "50%                 0.000000           0.000000              23.135000   \n",
       "75%                 0.000000           0.000000              44.660000   \n",
       "max                24.020000       17704.000000              92.620000   \n",
       "\n",
       "       high_humidity_3pm  \n",
       "count        1064.000000  \n",
       "mean            0.497180  \n",
       "std             0.500227  \n",
       "min             0.000000  \n",
       "25%             0.000000  \n",
       "50%             0.000000  \n",
       "75%             1.000000  \n",
       "max             1.000000  "
      ]
     },
     "execution_count": 67,
     "metadata": {},
     "output_type": "execute_result"
    }
   ],
   "source": [
    "data.describe()"
   ]
  },
  {
   "cell_type": "code",
   "execution_count": 68,
   "id": "f6c244b5",
   "metadata": {},
   "outputs": [
    {
     "data": {
      "text/plain": [
       "0    535\n",
       "1    529\n",
       "Name: high_humidity_3pm, dtype: int64"
      ]
     },
     "execution_count": 68,
     "metadata": {},
     "output_type": "execute_result"
    }
   ],
   "source": [
    "data.high_humidity_3pm.value_counts()"
   ]
  },
  {
   "cell_type": "code",
   "execution_count": 69,
   "id": "02a73462",
   "metadata": {},
   "outputs": [
    {
     "data": {
      "text/plain": [
       "air_pressure_9am          0\n",
       "air_temp_9am              0\n",
       "avg_wind_direction_9am    0\n",
       "avg_wind_speed_9am        0\n",
       "max_wind_direction_9am    0\n",
       "max_wind_speed_9am        0\n",
       "rain_accumulation_9am     0\n",
       "rain_duration_9am         0\n",
       "relative_humidity_9am     0\n",
       "high_humidity_3pm         0\n",
       "dtype: int64"
      ]
     },
     "execution_count": 69,
     "metadata": {},
     "output_type": "execute_result"
    }
   ],
   "source": [
    "data.isnull().sum()"
   ]
  },
  {
   "cell_type": "code",
   "execution_count": 70,
   "id": "422d11b7",
   "metadata": {},
   "outputs": [],
   "source": [
    "data.dropna(inplace = True)"
   ]
  },
  {
   "cell_type": "code",
   "execution_count": 71,
   "id": "1dc91738",
   "metadata": {},
   "outputs": [
    {
     "data": {
      "text/plain": [
       "air_pressure_9am          0\n",
       "air_temp_9am              0\n",
       "avg_wind_direction_9am    0\n",
       "avg_wind_speed_9am        0\n",
       "max_wind_direction_9am    0\n",
       "max_wind_speed_9am        0\n",
       "rain_accumulation_9am     0\n",
       "rain_duration_9am         0\n",
       "relative_humidity_9am     0\n",
       "high_humidity_3pm         0\n",
       "dtype: int64"
      ]
     },
     "execution_count": 71,
     "metadata": {},
     "output_type": "execute_result"
    }
   ],
   "source": [
    "data.isnull().sum()"
   ]
  },
  {
   "cell_type": "code",
   "execution_count": 72,
   "id": "207a307c",
   "metadata": {},
   "outputs": [],
   "source": [
    "dependent_variable = 'high_humidity_3pm'"
   ]
  },
  {
   "cell_type": "code",
   "execution_count": 73,
   "id": "37c92c69",
   "metadata": {},
   "outputs": [],
   "source": [
    "independent_variables = ['air_pressure_9am', 'air_temp_9am', 'avg_wind_direction_9am',\n",
    "       'avg_wind_speed_9am', 'max_wind_direction_9am', 'max_wind_speed_9am',\n",
    "       'rain_accumulation_9am', 'rain_duration_9am', 'relative_humidity_9am']"
   ]
  },
  {
   "cell_type": "code",
   "execution_count": 74,
   "id": "ca03dc5c",
   "metadata": {},
   "outputs": [],
   "source": [
    "my_list=list(set(data.columns.tolist()) - {dependent_variable}) # note use curly brackets instead of set in the later part"
   ]
  },
  {
   "cell_type": "code",
   "execution_count": 75,
   "id": "5383e94c",
   "metadata": {},
   "outputs": [
    {
     "data": {
      "text/plain": [
       "['max_wind_speed_9am',\n",
       " 'rain_duration_9am',\n",
       " 'relative_humidity_9am',\n",
       " 'air_pressure_9am',\n",
       " 'avg_wind_speed_9am',\n",
       " 'max_wind_direction_9am',\n",
       " 'air_temp_9am',\n",
       " 'avg_wind_direction_9am',\n",
       " 'rain_accumulation_9am']"
      ]
     },
     "execution_count": 75,
     "metadata": {},
     "output_type": "execute_result"
    }
   ],
   "source": [
    "my_list"
   ]
  },
  {
   "cell_type": "code",
   "execution_count": 76,
   "id": "26d27fdd",
   "metadata": {},
   "outputs": [
    {
     "data": {
      "text/plain": [
       "['air_pressure_9am',\n",
       " 'air_temp_9am',\n",
       " 'avg_wind_direction_9am',\n",
       " 'avg_wind_speed_9am',\n",
       " 'max_wind_direction_9am',\n",
       " 'max_wind_speed_9am',\n",
       " 'rain_accumulation_9am',\n",
       " 'rain_duration_9am',\n",
       " 'relative_humidity_9am']"
      ]
     },
     "execution_count": 76,
     "metadata": {},
     "output_type": "execute_result"
    }
   ],
   "source": [
    "independent_variables "
   ]
  },
  {
   "cell_type": "code",
   "execution_count": 77,
   "id": "6fe6c585",
   "metadata": {},
   "outputs": [
    {
     "name": "stdout",
     "output_type": "stream",
     "text": [
      "True\n"
     ]
    }
   ],
   "source": [
    "y = []\n",
    "for i in my_list:\n",
    "    if i in independent_variables:\n",
    "        y.append(1)\n",
    "    else:\n",
    "        y.append(0)\n",
    "if 0 in y:\n",
    "    print('False')\n",
    "else:\n",
    "    print('True')"
   ]
  },
  {
   "cell_type": "code",
   "execution_count": 78,
   "id": "d2f2dfe6",
   "metadata": {},
   "outputs": [],
   "source": [
    "X = data[independent_variables]\n",
    "y = data[dependent_variable]"
   ]
  },
  {
   "cell_type": "code",
   "execution_count": 79,
   "id": "581f1fb6",
   "metadata": {},
   "outputs": [],
   "source": [
    "# building the model \n",
    "X_train, X_test, y_train, y_test = train_test_split(X, y, test_size = 0.33, random_state = 324)"
   ]
  },
  {
   "cell_type": "code",
   "execution_count": 80,
   "id": "dd85fdcc",
   "metadata": {},
   "outputs": [
    {
     "data": {
      "text/plain": [
       "DecisionTreeClassifier(criterion='entropy', max_leaf_nodes=10, random_state=0)"
      ]
     },
     "execution_count": 80,
     "metadata": {},
     "output_type": "execute_result"
    }
   ],
   "source": [
    "humidity_classifier = DecisionTreeClassifier(criterion = 'entropy', max_leaf_nodes = 10,random_state = 0)\n",
    "humidity_classifier.fit(X_train,y_train,)\n"
   ]
  },
  {
   "cell_type": "markdown",
   "id": "0c249ce0",
   "metadata": {},
   "source": [
    "The random_state parameter helps control the random aspects of the decision tree algorithm when multiple features have equal merit for splitting. It ensures that the algorithm's behavior is predictable and consistent, which can be essential for reproducibility and debugging purposes."
   ]
  },
  {
   "cell_type": "code",
   "execution_count": 81,
   "id": "2a188514",
   "metadata": {},
   "outputs": [],
   "source": [
    "y_predicted_test=humidity_classifier.predict(X_test)"
   ]
  },
  {
   "cell_type": "code",
   "execution_count": 82,
   "id": "bbce0048",
   "metadata": {},
   "outputs": [],
   "source": [
    "y_predicted_train = humidity_classifier.predict(X_train)"
   ]
  },
  {
   "cell_type": "code",
   "execution_count": 83,
   "id": "c737e048",
   "metadata": {},
   "outputs": [
    {
     "data": {
      "text/plain": [
       "88.34269662921348"
      ]
     },
     "execution_count": 83,
     "metadata": {},
     "output_type": "execute_result"
    }
   ],
   "source": [
    "accuracy_score(y_train,y_predicted_train)*100"
   ]
  },
  {
   "cell_type": "code",
   "execution_count": 84,
   "id": "fa2c1b62",
   "metadata": {},
   "outputs": [
    {
     "data": {
      "text/plain": [
       "90.9090909090909"
      ]
     },
     "execution_count": 84,
     "metadata": {},
     "output_type": "execute_result"
    }
   ],
   "source": [
    "accuracy_score(y_test,y_predicted_test)*100"
   ]
  },
  {
   "cell_type": "markdown",
   "id": "94bf530b",
   "metadata": {},
   "source": [
    "Advantages\n",
    "Easy to Understand: Decision tree output is very easy to understand even for people from non-analytical background. It does not require any statistical knowledge to read and interpret them. Its graphical representation is very intuitive and users can easily relate their hypothesis.\n",
    "\n",
    "Useful in Data exploration: Decision tree is one of the fastest way to identify most significant variables and relation between two or more variables. With the help of decision trees, we can create new variables / features that has better power to predict target variable. It can also be used in data exploration stage. For example, we are working on a problem where we have information available in hundreds of variables, there decision tree will help to identify most significant variable. Less data cleaning required: It requires less data cleaning compared to some other modeling techniques. It is not influenced by outliers and missing values to a fair degree.\n",
    "\n",
    "Non Parametric Method: Decision tree is considered to be a non-parametric method. This means that decision trees have no assumptions about the space distribution and the classifier structure."
   ]
  },
  {
   "cell_type": "markdown",
   "id": "46357100",
   "metadata": {},
   "source": [
    "Disadvantages\n",
    "Over fitting: Over fitting is one of the most practical difficulty for decision tree models. This problem gets solved by setting constraints on model parameters and pruning.\n",
    "\n"
   ]
  },
  {
   "cell_type": "markdown",
   "id": "38d649b9",
   "metadata": {},
   "source": [
    "Let's understand the graph "
   ]
  },
  {
   "cell_type": "code",
   "execution_count": 123,
   "id": "da1f6be6",
   "metadata": {},
   "outputs": [
    {
     "data": {
      "text/plain": [
       "((712, 9), (712,))"
      ]
     },
     "execution_count": 123,
     "metadata": {},
     "output_type": "execute_result"
    }
   ],
   "source": [
    "X_train.shape, y_train.shape"
   ]
  },
  {
   "cell_type": "code",
   "execution_count": 124,
   "id": "eba2f4e6",
   "metadata": {},
   "outputs": [],
   "source": [
    "# for our understanding of the decision treen let's get the train dataset with target\n",
    "df = pd.concat([X_train,y_train],axis = 1)"
   ]
  },
  {
   "cell_type": "markdown",
   "id": "261379f3",
   "metadata": {},
   "source": [
    "# root node where there is entire dataset"
   ]
  },
  {
   "cell_type": "code",
   "execution_count": 121,
   "id": "1c48409c",
   "metadata": {},
   "outputs": [
    {
     "data": {
      "text/plain": [
       "0    360\n",
       "1    352\n",
       "Name: high_humidity_3pm, dtype: int64"
      ]
     },
     "execution_count": 121,
     "metadata": {},
     "output_type": "execute_result"
    }
   ],
   "source": [
    "df.high_humidity_3pm.value_counts()"
   ]
  },
  {
   "cell_type": "markdown",
   "id": "e869de46",
   "metadata": {},
   "source": [
    "# Class distribution of relative_humidity_9am where relative_humidity_9am is less than or equal to 25.95 similar to female distrubtion of those who play cricket"
   ]
  },
  {
   "cell_type": "code",
   "execution_count": 118,
   "id": "0686c082",
   "metadata": {},
   "outputs": [
    {
     "data": {
      "text/plain": [
       "0    326\n",
       "1     65\n",
       "Name: high_humidity_3pm, dtype: int64"
      ]
     },
     "execution_count": 118,
     "metadata": {},
     "output_type": "execute_result"
    }
   ],
   "source": [
    "#fist filter the relative_humidity_9am and then do a value count of the target varaible\n",
    "df[df['relative_humidity_9am'] <=25.95].high_humidity_3pm.value_counts()"
   ]
  },
  {
   "cell_type": "markdown",
   "id": "f864ac4a",
   "metadata": {},
   "source": [
    "# Class distribution of relative_humidity_9am where relative_humidity_9am is greater than 25.95 similar to male distrubtion of those who play cricket"
   ]
  },
  {
   "cell_type": "code",
   "execution_count": 119,
   "id": "9e337385",
   "metadata": {},
   "outputs": [
    {
     "data": {
      "text/plain": [
       "1    287\n",
       "0     34\n",
       "Name: high_humidity_3pm, dtype: int64"
      ]
     },
     "execution_count": 119,
     "metadata": {},
     "output_type": "execute_result"
    }
   ],
   "source": [
    "df[df['relative_humidity_9am'] >25.95].high_humidity_3pm.value_counts()"
   ]
  },
  {
   "cell_type": "markdown",
   "id": "700cff16",
   "metadata": {},
   "source": [
    "Now weight entropy is calculated and then and similarly this is done on every feature and the feature which gives maximum information gain is selected in this case it was relative_humidity_9am was the feature which gave maximum information gain "
   ]
  },
  {
   "cell_type": "code",
   "execution_count": null,
   "id": "875e9edc",
   "metadata": {},
   "outputs": [],
   "source": []
  }
 ],
 "metadata": {
  "kernelspec": {
   "display_name": "Python 3 (ipykernel)",
   "language": "python",
   "name": "python3"
  },
  "language_info": {
   "codemirror_mode": {
    "name": "ipython",
    "version": 3
   },
   "file_extension": ".py",
   "mimetype": "text/x-python",
   "name": "python",
   "nbconvert_exporter": "python",
   "pygments_lexer": "ipython3",
   "version": "3.9.12"
  }
 },
 "nbformat": 4,
 "nbformat_minor": 5
}
