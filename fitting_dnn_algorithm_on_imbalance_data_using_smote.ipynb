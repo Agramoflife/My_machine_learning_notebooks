{
  "nbformat": 4,
  "nbformat_minor": 0,
  "metadata": {
    "colab": {
      "provenance": []
    },
    "kernelspec": {
      "name": "python3",
      "display_name": "Python 3"
    },
    "language_info": {
      "name": "python"
    }
  },
  "cells": [
    {
      "cell_type": "code",
      "execution_count": null,
      "metadata": {
        "id": "sNeHbPZenMVj"
      },
      "outputs": [],
      "source": [
        "# DNN alorithm using Tensor flow we have already done the eda on credit card data and we kown that it is a imblance data and we will be using the smote to handle the imbalance in the data"
      ]
    },
    {
      "cell_type": "code",
      "source": [
        "import pandas as pd\n",
        "import numpy as np"
      ],
      "metadata": {
        "id": "7LYIdTKGoCOK"
      },
      "execution_count": null,
      "outputs": []
    },
    {
      "cell_type": "code",
      "source": [
        "from google.colab import drive\n",
        "drive.mount('/content/drive')"
      ],
      "metadata": {
        "colab": {
          "base_uri": "https://localhost:8080/"
        },
        "id": "XYUF_JSSoYan",
        "outputId": "bea05970-737f-454c-e0b2-be7f0ef2f5fc"
      },
      "execution_count": null,
      "outputs": [
        {
          "output_type": "stream",
          "name": "stdout",
          "text": [
            "Drive already mounted at /content/drive; to attempt to forcibly remount, call drive.mount(\"/content/drive\", force_remount=True).\n"
          ]
        }
      ]
    },
    {
      "cell_type": "code",
      "source": [
        "\n",
        "data = pd.read_csv('/content/drive/MyDrive/yup here is the data/creditcard (1).csv')\n"
      ],
      "metadata": {
        "id": "sjiobU3TofLH"
      },
      "execution_count": null,
      "outputs": []
    },
    {
      "cell_type": "code",
      "source": [
        "from imblearn.over_sampling import SMOTE\n",
        "\n",
        "smote = SMOTE()\n",
        "\n",
        "# fit predictor and target variable\n",
        "x_smote, y_smote = smote.fit_resample(data.iloc[:,0:-1], data['Target'])\n",
        "\n",
        "print('Original dataset shape', len(data))\n",
        "print('Resampled dataset shape', len(y_smote))"
      ],
      "metadata": {
        "colab": {
          "base_uri": "https://localhost:8080/"
        },
        "id": "PijZ-Y5ZvLg7",
        "outputId": "9c7abaed-78cb-4915-c4ed-ea26a840bfbd"
      },
      "execution_count": null,
      "outputs": [
        {
          "output_type": "stream",
          "name": "stdout",
          "text": [
            "Original dataset shape 56962\n",
            "Resampled dataset shape 113728\n"
          ]
        }
      ]
    },
    {
      "cell_type": "code",
      "source": [
        "x_smote.shape,y_smote.shape"
      ],
      "metadata": {
        "colab": {
          "base_uri": "https://localhost:8080/"
        },
        "id": "8Ldc4BILvVpJ",
        "outputId": "0c844f26-b5a6-43be-8b06-002d1d319b7c"
      },
      "execution_count": null,
      "outputs": [
        {
          "output_type": "execute_result",
          "data": {
            "text/plain": [
              "((113728, 29), (113728,))"
            ]
          },
          "metadata": {},
          "execution_count": 11
        }
      ]
    },
    {
      "cell_type": "code",
      "source": [
        "from sklearn.model_selection import train_test_split"
      ],
      "metadata": {
        "id": "KrQcPAuevcDa"
      },
      "execution_count": null,
      "outputs": []
    },
    {
      "cell_type": "code",
      "source": [
        "x_train, x_test, y_train, y_test = train_test_split(x_smote, y_smote, test_size = 0.2, random_state = 30)"
      ],
      "metadata": {
        "id": "QB877knwv5PM"
      },
      "execution_count": null,
      "outputs": []
    },
    {
      "cell_type": "code",
      "source": [
        "from tensorflow import keras"
      ],
      "metadata": {
        "id": "Vkq02G6WwO6G"
      },
      "execution_count": null,
      "outputs": []
    },
    {
      "cell_type": "code",
      "source": [
        "def get_model():\n",
        "  model = keras.Sequential([\n",
        "      keras.layers.Flatten(input_shape = [x_train.shape[-1]]),# input layer\n",
        "      keras.layers.Dense(512, activation = 'relu'),# hidden layers\n",
        "      keras.layers.Dense(256, activation = 'relu'),\n",
        "      keras.layers.Dense(128, activation = 'relu'),\n",
        "      keras.layers.Dense(64, activation = 'relu'),\n",
        "      keras.layers.Dense(32, activation = 'relu'),\n",
        "      keras.layers.Dropout(0.5), # hyerparamter\n",
        "      keras.layers.Dense(2,activation = 'sigmoid')# output layer\n",
        "  ])\n",
        "  model.compile(optimizer = 'adam',\n",
        "                loss = 'sparse_categorical_crossentropy',\n",
        "                metrics = ['accuracy'])\n",
        "\n",
        "  return model"
      ],
      "metadata": {
        "id": "OQ88mNhOwYl2"
      },
      "execution_count": null,
      "outputs": []
    },
    {
      "cell_type": "code",
      "source": [
        "import tensorflow as tf\n",
        "\n",
        "batch_size = 512\n",
        "train_ds = tf.data.Dataset.from_tensor_slices((x_train,y_train)).shuffle(len(x_train)).batch(batch_size) # converting into tensor\n",
        "val_df = tf.data.Dataset.from_tensor_slices((x_test,y_test)).batch(batch_size) # converting into tensor\n",
        "\n",
        "model = get_model()\n",
        "fit = model.fit(train_ds,validation_data = val_df, epochs = 5)"
      ],
      "metadata": {
        "colab": {
          "base_uri": "https://localhost:8080/"
        },
        "id": "PrJylmMOzgju",
        "outputId": "2f594a1c-28ee-4783-916f-7b77b2ddafc4"
      },
      "execution_count": null,
      "outputs": [
        {
          "output_type": "stream",
          "name": "stdout",
          "text": [
            "Epoch 1/5\n",
            "178/178 [==============================] - 6s 20ms/step - loss: 0.1983 - accuracy: 0.9350 - val_loss: 0.0761 - val_accuracy: 0.9838\n",
            "Epoch 2/5\n",
            "178/178 [==============================] - 3s 18ms/step - loss: 0.0548 - accuracy: 0.9839 - val_loss: 0.0635 - val_accuracy: 0.9755\n",
            "Epoch 3/5\n",
            "178/178 [==============================] - 3s 18ms/step - loss: 0.0473 - accuracy: 0.9833 - val_loss: 0.0425 - val_accuracy: 0.9809\n",
            "Epoch 4/5\n",
            "178/178 [==============================] - 4s 21ms/step - loss: 0.0355 - accuracy: 0.9880 - val_loss: 0.0213 - val_accuracy: 0.9916\n",
            "Epoch 5/5\n",
            "178/178 [==============================] - 3s 18ms/step - loss: 0.0330 - accuracy: 0.9892 - val_loss: 0.0280 - val_accuracy: 0.9913\n"
          ]
        }
      ]
    },
    {
      "cell_type": "code",
      "source": [
        "import matplotlib.pyplot as plt\n",
        "\n",
        "plt.plot(fit.history['accuracy'], color='blue')\n",
        "plt.plot(fit.history['val_accuracy'], color='red')\n",
        "plt.show()"
      ],
      "metadata": {
        "colab": {
          "base_uri": "https://localhost:8080/",
          "height": 430
        },
        "id": "GYjZUQAa0CB9",
        "outputId": "0c81e9fb-83b0-4eb8-b753-f4316dc52044"
      },
      "execution_count": null,
      "outputs": [
        {
          "output_type": "display_data",
          "data": {
            "text/plain": [
              "<Figure size 640x480 with 1 Axes>"
            ],
            "image/png": "[encoded data removed]"
          },
          "metadata": {}
        }
      ]
    },
    {
      "cell_type": "code",
      "source": [
        "y_pred_nn = model.predict(val_ds)[:,1]\n",
        "y_pred_nn = list(y_pred_nn)\n",
        "y_pred_nn[:5]"
      ],
      "metadata": {
        "colab": {
          "base_uri": "https://localhost:8080/"
        },
        "id": "maGv0Vgv113d",
        "outputId": "5bb729ac-82ac-4404-affb-af18d7e4f5f9"
      },
      "execution_count": null,
      "outputs": [
        {
          "output_type": "stream",
          "name": "stdout",
          "text": [
            "45/45 [==============================] - 1s 10ms/step\n"
          ]
        },
        {
          "output_type": "execute_result",
          "data": {
            "text/plain": [
              "[4.8494795e-25, 1.0, 1.0, 8.449251e-25, 1.6541384e-12]"
            ]
          },
          "metadata": {},
          "execution_count": 44
        }
      ]
    },
    {
      "cell_type": "code",
      "source": [
        "from sklearn.metrics import roc_auc_score"
      ],
      "metadata": {
        "id": "-KR2AozT2LZv"
      },
      "execution_count": null,
      "outputs": []
    },
    {
      "cell_type": "code",
      "source": [
        "print('ROCAUC score:', roc_auc_score(y_test, y_pred_nn))\n",
        "#print('Accuracy score:', accuracy_score(y_test, y_pred_nn))"
      ],
      "metadata": {
        "colab": {
          "base_uri": "https://localhost:8080/"
        },
        "id": "db8jejqn1_E_",
        "outputId": "754835c5-1c4a-46aa-d33b-609ec22019ed"
      },
      "execution_count": null,
      "outputs": [
        {
          "output_type": "stream",
          "name": "stdout",
          "text": [
            "ROCAUC score: 0.9994792642486471\n"
          ]
        }
      ]
    },
    {
      "cell_type": "code",
      "source": [
        "from sklearn.metrics import precision_recall_curve,auc"
      ],
      "metadata": {
        "id": "bY2xq2KV2Xnj"
      },
      "execution_count": null,
      "outputs": []
    },
    {
      "cell_type": "code",
      "source": [
        "precision, recall, thresholds = precision_recall_curve(y_test, y_pred_nn)\n",
        "auc_precision_recall = auc(recall, precision)\n",
        "print(auc_precision_recall)"
      ],
      "metadata": {
        "colab": {
          "base_uri": "https://localhost:8080/"
        },
        "id": "EcKRtHP42B9u",
        "outputId": "0ceabd29-de6a-432b-9d27-030e26de0355"
      },
      "execution_count": null,
      "outputs": [
        {
          "output_type": "stream",
          "name": "stdout",
          "text": [
            "0.9993631176547345\n"
          ]
        }
      ]
    },
    {
      "cell_type": "code",
      "source": [
        "y_pred_nn[:5]"
      ],
      "metadata": {
        "colab": {
          "base_uri": "https://localhost:8080/"
        },
        "id": "bv2OumkA2KPt",
        "outputId": "1bf76931-cdc1-45a4-9573-157610702aa0"
      },
      "execution_count": null,
      "outputs": [
        {
          "output_type": "execute_result",
          "data": {
            "text/plain": [
              "[4.8494795e-25, 1.0, 1.0, 8.449251e-25, 1.6541384e-12]"
            ]
          },
          "metadata": {},
          "execution_count": 60
        }
      ]
    },
    {
      "cell_type": "code",
      "source": [
        "y_test[:5]"
      ],
      "metadata": {
        "colab": {
          "base_uri": "https://localhost:8080/"
        },
        "id": "Z5Rj2GoJ3tSv",
        "outputId": "8662cf91-89d9-4b08-8a79-ba5d5f8372e5"
      },
      "execution_count": null,
      "outputs": [
        {
          "output_type": "execute_result",
          "data": {
            "text/plain": [
              "54369     0\n",
              "106551    1\n",
              "96197     1\n",
              "19147     0\n",
              "22236     0\n",
              "Name: Target, dtype: int64"
            ]
          },
          "metadata": {},
          "execution_count": 61
        }
      ]
    },
    {
      "cell_type": "code",
      "source": [],
      "metadata": {
        "id": "MTaytzhk36Uv"
      },
      "execution_count": null,
      "outputs": []
    }
  ]
}