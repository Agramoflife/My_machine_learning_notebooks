{
 "cells": [
  {
   "cell_type": "markdown",
   "id": "a7613cda",
   "metadata": {},
   "source": [
    "# Anomoly detection "
   ]
  },
  {
   "cell_type": "markdown",
   "id": "420048c6",
   "metadata": {},
   "source": [
    "pyod - for oulier detection"
   ]
  },
  {
   "cell_type": "markdown",
   "id": "607206b2",
   "metadata": {},
   "source": [
    "The person in a grop which does not share the common behaviour of the group "
   ]
  },
  {
   "cell_type": "markdown",
   "id": "98c14907",
   "metadata": {},
   "source": [
    "## Outlier \n",
    "Datapoint that diverge away from the trend of the group is called outlier. It focous mainly on the outlier of the particular feature "
   ]
  },
  {
   "cell_type": "markdown",
   "id": "43857ba9",
   "metadata": {},
   "source": [
    "# Anomaly \n",
    "finding the datapoint that diverges away from the trend of the dataset (i.e the row which does not share the same behaviour). If focous on the rows of the dataset which do not share the group behaviour/properties "
   ]
  },
  {
   "cell_type": "markdown",
   "id": "d207ca1b",
   "metadata": {},
   "source": [
    "In a daset if a datapoint (considering all it's feature i.t the entire row) does not share the behavior of the entire dataset then it is a anomaly"
   ]
  },
  {
   "cell_type": "markdown",
   "id": "ab22adac",
   "metadata": {},
   "source": [
    "# Note : Anomaly Detection is performed on unlabeled dataset this should be performed before clustering "
   ]
  },
  {
   "cell_type": "markdown",
   "id": "b840cfc9",
   "metadata": {},
   "source": [
    "# Contamination \n",
    "This is how much do you assume that the data set has outliers "
   ]
  },
  {
   "cell_type": "markdown",
   "id": "def637da",
   "metadata": {},
   "source": [
    "# In isolation forest what is contamination ?"
   ]
  },
  {
   "cell_type": "markdown",
   "id": "d9ae5f95",
   "metadata": {},
   "source": [
    "In the context of the Isolation Forest algorithm, `contamination` refers to the proportion of outliers in the dataset¹. This parameter is used when fitting the model to define the threshold on the scores of the samples¹². \n",
    "\n",
    "If `contamination` is set to 'auto', the threshold is determined as in the original paper¹. If it's a float, the contamination should be in the range (0, 0.5]¹. It's not mandatory to set the contamination value, as by default it is set to 'auto'². However, it can affect the model results, as the predict method makes use of the threshold, which is set by the contamination value². \n",
    "\n",
    "In summary, the `contamination` parameter allows you to define what proportion of your data is considered anomalous by the Isolation Forest algorithm."
   ]
  },
  {
   "cell_type": "markdown",
   "id": "ea8934ba",
   "metadata": {},
   "source": [
    "can you give an example with say one feature"
   ]
  },
  {
   "cell_type": "markdown",
   "id": "fcb6ca26",
   "metadata": {},
   "source": [
    "Sure, here's an example of how you might use the Isolation Forest algorithm with a single feature. In this case, let's consider a dataset of temperatures in Celsius, where we want to detect the outliers (i.e., unusually high or low temperatures)."
   ]
  },
  {
   "cell_type": "code",
   "execution_count": 6,
   "id": "e5fb9e45",
   "metadata": {},
   "outputs": [
    {
     "name": "stdout",
     "output_type": "stream",
     "text": [
      "[ 1  1  1  1 -1  1  1  1  1  1  1 -1  1  1]\n"
     ]
    }
   ],
   "source": [
    "from sklearn.ensemble import IsolationForest\n",
    "import numpy as np\n",
    "\n",
    "# Let's create a sample dataset with temperatures\n",
    "temperatures = np.array([22, 21, 23, 22, 100, 22, 23, 24, 25, 23, 22, 500, 23, 22]).reshape(-1, 1)\n",
    "\n",
    "# Initialize the Isolation Forest model\n",
    "clf = IsolationForest(contamination=0.1)  # Assuming approximately 10% of the data are outliers\n",
    "\n",
    "# Fit the model\n",
    "clf.fit(temperatures)\n",
    "\n",
    "# Predict the anomalies in the data\n",
    "pred = clf.predict(temperatures)\n",
    "print(pred)"
   ]
  },
  {
   "cell_type": "markdown",
   "id": "21fd5a1c",
   "metadata": {},
   "source": [
    "In the output, `-1` indicates an outlier and `1` indicates a normal data point. The `contamination` parameter is set to `0.1`, indicating that we expect about 10% of the data to be outliers. This is just a simple example and in a real-world scenario, you would likely have more complex and multi-dimensional data. But the principle remains the same."
   ]
  },
  {
   "cell_type": "markdown",
   "id": "48dd8ad9",
   "metadata": {},
   "source": [
    "So in the above exapmle we assumed that we may have 10% outliers so where does the threshold concept is involved here?"
   ]
  },
  {
   "cell_type": "markdown",
   "id": "5df9bc92",
   "metadata": {},
   "source": [
    "The `contamination` parameter in the Isolation Forest algorithm is directly related to the threshold used for distinguishing between outliers and inliers.\n",
    "\n",
    "When the Isolation Forest algorithm is trained, it assigns a score to each data point. This score represents the anomaly score of the corresponding data point. The scores typically range between 0 (for normal points) and 1 (for outliers).\n",
    "\n",
    "The `contamination` parameter is used to set a **threshold** on these scores. If `contamination` is set to 0.1 (as in our example), it means we assume that 10% of the data points are outliers. **The algorithm then sets the threshold for the anomaly score in such a way that approximately 10% of the data points get a score above this threshold. These points are then classified as outliers.**\n",
    "\n",
    "So, in our example, the temperatures that are classified as outliers are those that have an anomaly score above the threshold determined by the `contamination` parameter. The exact value of the threshold is internally calculated by the algorithm based on the `contamination` value and the anomaly scores of the data points. It's not directly visible or accessible, but it's implicitly there, playing a crucial role in the classification of data points as outliers or inliers."
   ]
  },
  {
   "cell_type": "markdown",
   "id": "59958758",
   "metadata": {},
   "source": [
    "So basically we are assuming the conamination score and passing it to the alorithm and the algorithms calculates the score for every datapoint and then it aranges those score like say we have the following score 0.1,-0.2,-0.3,0.5,0.3, it will arange these score which will be -0.2,-0.3,0.1,0.3,0.5 so now it will choose the value of threshold such that 10% of these values  (these coressponding to datapoints) will be outliers, This is how the isolation forest works "
   ]
  },
  {
   "cell_type": "code",
   "execution_count": null,
   "id": "9936ea0f",
   "metadata": {},
   "outputs": [],
   "source": []
  }
 ],
 "metadata": {
  "kernelspec": {
   "display_name": "Python 3 (ipykernel)",
   "language": "python",
   "name": "python3"
  },
  "language_info": {
   "codemirror_mode": {
    "name": "ipython",
    "version": 3
   },
   "file_extension": ".py",
   "mimetype": "text/x-python",
   "name": "python",
   "nbconvert_exporter": "python",
   "pygments_lexer": "ipython3",
   "version": "3.9.12"
  }
 },
 "nbformat": 4,
 "nbformat_minor": 5
}
