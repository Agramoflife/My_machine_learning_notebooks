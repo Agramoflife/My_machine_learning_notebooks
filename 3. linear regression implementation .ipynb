{
 "cells": [
  {
   "cell_type": "markdown",
   "id": "0ce33b15",
   "metadata": {},
   "source": [
    "# Linear regression implementation "
   ]
  },
  {
   "cell_type": "code",
   "execution_count": 1,
   "id": "67eb1cec",
   "metadata": {},
   "outputs": [],
   "source": [
    "# lets import the important libraries\n",
    "# start with the libraries you already know first\n",
    "import numpy as np \n",
    "import pandas as pd\n",
    "import matplotlib.pyplot as plt \n",
    "import seaborn as sns"
   ]
  },
  {
   "cell_type": "code",
   "execution_count": 3,
   "id": "90b71974",
   "metadata": {},
   "outputs": [
    {
     "data": {
      "text/plain": [
       "'C:\\\\Users\\\\Deepu\\\\Documents\\\\machine_learning'"
      ]
     },
     "execution_count": 3,
     "metadata": {},
     "output_type": "execute_result"
    }
   ],
   "source": [
    "pwd"
   ]
  },
  {
   "cell_type": "code",
   "execution_count": 4,
   "id": "3e554983",
   "metadata": {},
   "outputs": [
    {
     "name": "stdout",
     "output_type": "stream",
     "text": [
      "C:\\Users\\Deepu\\Downloads\n"
     ]
    }
   ],
   "source": [
    "cd C:\\\\Users\\\\Deepu\\\\Downloads"
   ]
  },
  {
   "cell_type": "code",
   "execution_count": 5,
   "id": "3cf4f218",
   "metadata": {},
   "outputs": [],
   "source": [
    "dataset = pd.read_csv('50_Startups.csv')"
   ]
  },
  {
   "cell_type": "code",
   "execution_count": 6,
   "id": "f1d1ceae",
   "metadata": {
    "scrolled": true
   },
   "outputs": [
    {
     "data": {
      "text/html": [
       "<div>\n",
       "<style scoped>\n",
       "    .dataframe tbody tr th:only-of-type {\n",
       "        vertical-align: middle;\n",
       "    }\n",
       "\n",
       "    .dataframe tbody tr th {\n",
       "        vertical-align: top;\n",
       "    }\n",
       "\n",
       "    .dataframe thead th {\n",
       "        text-align: right;\n",
       "    }\n",
       "</style>\n",
       "<table border=\"1\" class=\"dataframe\">\n",
       "  <thead>\n",
       "    <tr style=\"text-align: right;\">\n",
       "      <th></th>\n",
       "      <th>R&amp;D Spend</th>\n",
       "      <th>Administration</th>\n",
       "      <th>Marketing Spend</th>\n",
       "      <th>State</th>\n",
       "      <th>Profit</th>\n",
       "    </tr>\n",
       "  </thead>\n",
       "  <tbody>\n",
       "    <tr>\n",
       "      <th>0</th>\n",
       "      <td>165349.20</td>\n",
       "      <td>136897.80</td>\n",
       "      <td>471784.10</td>\n",
       "      <td>New York</td>\n",
       "      <td>192261.83</td>\n",
       "    </tr>\n",
       "    <tr>\n",
       "      <th>1</th>\n",
       "      <td>162597.70</td>\n",
       "      <td>151377.59</td>\n",
       "      <td>443898.53</td>\n",
       "      <td>California</td>\n",
       "      <td>191792.06</td>\n",
       "    </tr>\n",
       "    <tr>\n",
       "      <th>2</th>\n",
       "      <td>153441.51</td>\n",
       "      <td>101145.55</td>\n",
       "      <td>407934.54</td>\n",
       "      <td>Florida</td>\n",
       "      <td>191050.39</td>\n",
       "    </tr>\n",
       "    <tr>\n",
       "      <th>3</th>\n",
       "      <td>144372.41</td>\n",
       "      <td>118671.85</td>\n",
       "      <td>383199.62</td>\n",
       "      <td>New York</td>\n",
       "      <td>182901.99</td>\n",
       "    </tr>\n",
       "    <tr>\n",
       "      <th>4</th>\n",
       "      <td>142107.34</td>\n",
       "      <td>91391.77</td>\n",
       "      <td>366168.42</td>\n",
       "      <td>Florida</td>\n",
       "      <td>166187.94</td>\n",
       "    </tr>\n",
       "  </tbody>\n",
       "</table>\n",
       "</div>"
      ],
      "text/plain": [
       "   R&D Spend  Administration  Marketing Spend       State     Profit\n",
       "0  165349.20       136897.80        471784.10    New York  192261.83\n",
       "1  162597.70       151377.59        443898.53  California  191792.06\n",
       "2  153441.51       101145.55        407934.54     Florida  191050.39\n",
       "3  144372.41       118671.85        383199.62    New York  182901.99\n",
       "4  142107.34        91391.77        366168.42     Florida  166187.94"
      ]
     },
     "execution_count": 6,
     "metadata": {},
     "output_type": "execute_result"
    }
   ],
   "source": [
    "dataset.head()"
   ]
  },
  {
   "cell_type": "code",
   "execution_count": 7,
   "id": "1acf3091",
   "metadata": {},
   "outputs": [],
   "source": [
    "# These are the actual sets of libraries we would need so lets import\n",
    "import numpy as np \n",
    "import pandas as pd\n",
    "from numpy import math\n",
    "\n",
    "#below are the machine learning libraries\n",
    "from sklearn.preprocessing import MinMaxScaler\n",
    "from sklearn.model_selection import train_test_split\n",
    "from sklearn.linear_model import LinearRegression\n",
    "from sklearn.metrics import r2_score\n",
    "from sklearn.metrics import mean_squared_error\n",
    "\n",
    "#visualization libraries\n",
    "import matplotlib.pyplot as plt\n",
    "import seaborn as sns"
   ]
  },
  {
   "cell_type": "code",
   "execution_count": 8,
   "id": "d1b4f1c3",
   "metadata": {},
   "outputs": [
    {
     "data": {
      "text/html": [
       "<div>\n",
       "<style scoped>\n",
       "    .dataframe tbody tr th:only-of-type {\n",
       "        vertical-align: middle;\n",
       "    }\n",
       "\n",
       "    .dataframe tbody tr th {\n",
       "        vertical-align: top;\n",
       "    }\n",
       "\n",
       "    .dataframe thead th {\n",
       "        text-align: right;\n",
       "    }\n",
       "</style>\n",
       "<table border=\"1\" class=\"dataframe\">\n",
       "  <thead>\n",
       "    <tr style=\"text-align: right;\">\n",
       "      <th></th>\n",
       "      <th>R&amp;D Spend</th>\n",
       "      <th>Administration</th>\n",
       "      <th>Marketing Spend</th>\n",
       "      <th>State</th>\n",
       "      <th>Profit</th>\n",
       "    </tr>\n",
       "  </thead>\n",
       "  <tbody>\n",
       "    <tr>\n",
       "      <th>0</th>\n",
       "      <td>165349.20</td>\n",
       "      <td>136897.80</td>\n",
       "      <td>471784.10</td>\n",
       "      <td>New York</td>\n",
       "      <td>192261.83</td>\n",
       "    </tr>\n",
       "    <tr>\n",
       "      <th>1</th>\n",
       "      <td>162597.70</td>\n",
       "      <td>151377.59</td>\n",
       "      <td>443898.53</td>\n",
       "      <td>California</td>\n",
       "      <td>191792.06</td>\n",
       "    </tr>\n",
       "    <tr>\n",
       "      <th>2</th>\n",
       "      <td>153441.51</td>\n",
       "      <td>101145.55</td>\n",
       "      <td>407934.54</td>\n",
       "      <td>Florida</td>\n",
       "      <td>191050.39</td>\n",
       "    </tr>\n",
       "    <tr>\n",
       "      <th>3</th>\n",
       "      <td>144372.41</td>\n",
       "      <td>118671.85</td>\n",
       "      <td>383199.62</td>\n",
       "      <td>New York</td>\n",
       "      <td>182901.99</td>\n",
       "    </tr>\n",
       "    <tr>\n",
       "      <th>4</th>\n",
       "      <td>142107.34</td>\n",
       "      <td>91391.77</td>\n",
       "      <td>366168.42</td>\n",
       "      <td>Florida</td>\n",
       "      <td>166187.94</td>\n",
       "    </tr>\n",
       "  </tbody>\n",
       "</table>\n",
       "</div>"
      ],
      "text/plain": [
       "   R&D Spend  Administration  Marketing Spend       State     Profit\n",
       "0  165349.20       136897.80        471784.10    New York  192261.83\n",
       "1  162597.70       151377.59        443898.53  California  191792.06\n",
       "2  153441.51       101145.55        407934.54     Florida  191050.39\n",
       "3  144372.41       118671.85        383199.62    New York  182901.99\n",
       "4  142107.34        91391.77        366168.42     Florida  166187.94"
      ]
     },
     "execution_count": 8,
     "metadata": {},
     "output_type": "execute_result"
    }
   ],
   "source": [
    "# We have alread imorted the dataset\n",
    "dataset.head()"
   ]
  },
  {
   "cell_type": "code",
   "execution_count": 9,
   "id": "d6edb208",
   "metadata": {},
   "outputs": [],
   "source": [
    "# let's try to understand the dataset"
   ]
  },
  {
   "cell_type": "code",
   "execution_count": 10,
   "id": "209ff98b",
   "metadata": {},
   "outputs": [
    {
     "data": {
      "text/plain": [
       "(50, 5)"
      ]
     },
     "execution_count": 10,
     "metadata": {},
     "output_type": "execute_result"
    }
   ],
   "source": [
    "dataset.shape"
   ]
  },
  {
   "cell_type": "code",
   "execution_count": 11,
   "id": "ae35ce81",
   "metadata": {},
   "outputs": [
    {
     "name": "stdout",
     "output_type": "stream",
     "text": [
      "<class 'pandas.core.frame.DataFrame'>\n",
      "RangeIndex: 50 entries, 0 to 49\n",
      "Data columns (total 5 columns):\n",
      " #   Column           Non-Null Count  Dtype  \n",
      "---  ------           --------------  -----  \n",
      " 0   R&D Spend        50 non-null     float64\n",
      " 1   Administration   50 non-null     float64\n",
      " 2   Marketing Spend  50 non-null     float64\n",
      " 3   State            50 non-null     object \n",
      " 4   Profit           50 non-null     float64\n",
      "dtypes: float64(4), object(1)\n",
      "memory usage: 2.1+ KB\n"
     ]
    }
   ],
   "source": [
    "dataset.info()"
   ]
  },
  {
   "cell_type": "code",
   "execution_count": 12,
   "id": "76ae76ba",
   "metadata": {},
   "outputs": [
    {
     "data": {
      "text/html": [
       "<div>\n",
       "<style scoped>\n",
       "    .dataframe tbody tr th:only-of-type {\n",
       "        vertical-align: middle;\n",
       "    }\n",
       "\n",
       "    .dataframe tbody tr th {\n",
       "        vertical-align: top;\n",
       "    }\n",
       "\n",
       "    .dataframe thead th {\n",
       "        text-align: right;\n",
       "    }\n",
       "</style>\n",
       "<table border=\"1\" class=\"dataframe\">\n",
       "  <thead>\n",
       "    <tr style=\"text-align: right;\">\n",
       "      <th></th>\n",
       "      <th>R&amp;D Spend</th>\n",
       "      <th>Administration</th>\n",
       "      <th>Marketing Spend</th>\n",
       "      <th>Profit</th>\n",
       "    </tr>\n",
       "  </thead>\n",
       "  <tbody>\n",
       "    <tr>\n",
       "      <th>count</th>\n",
       "      <td>50.000000</td>\n",
       "      <td>50.000000</td>\n",
       "      <td>50.000000</td>\n",
       "      <td>50.000000</td>\n",
       "    </tr>\n",
       "    <tr>\n",
       "      <th>mean</th>\n",
       "      <td>73721.615600</td>\n",
       "      <td>121344.639600</td>\n",
       "      <td>211025.097800</td>\n",
       "      <td>112012.639200</td>\n",
       "    </tr>\n",
       "    <tr>\n",
       "      <th>std</th>\n",
       "      <td>45902.256482</td>\n",
       "      <td>28017.802755</td>\n",
       "      <td>122290.310726</td>\n",
       "      <td>40306.180338</td>\n",
       "    </tr>\n",
       "    <tr>\n",
       "      <th>min</th>\n",
       "      <td>0.000000</td>\n",
       "      <td>51283.140000</td>\n",
       "      <td>0.000000</td>\n",
       "      <td>14681.400000</td>\n",
       "    </tr>\n",
       "    <tr>\n",
       "      <th>25%</th>\n",
       "      <td>39936.370000</td>\n",
       "      <td>103730.875000</td>\n",
       "      <td>129300.132500</td>\n",
       "      <td>90138.902500</td>\n",
       "    </tr>\n",
       "    <tr>\n",
       "      <th>50%</th>\n",
       "      <td>73051.080000</td>\n",
       "      <td>122699.795000</td>\n",
       "      <td>212716.240000</td>\n",
       "      <td>107978.190000</td>\n",
       "    </tr>\n",
       "    <tr>\n",
       "      <th>75%</th>\n",
       "      <td>101602.800000</td>\n",
       "      <td>144842.180000</td>\n",
       "      <td>299469.085000</td>\n",
       "      <td>139765.977500</td>\n",
       "    </tr>\n",
       "    <tr>\n",
       "      <th>max</th>\n",
       "      <td>165349.200000</td>\n",
       "      <td>182645.560000</td>\n",
       "      <td>471784.100000</td>\n",
       "      <td>192261.830000</td>\n",
       "    </tr>\n",
       "  </tbody>\n",
       "</table>\n",
       "</div>"
      ],
      "text/plain": [
       "           R&D Spend  Administration  Marketing Spend         Profit\n",
       "count      50.000000       50.000000        50.000000      50.000000\n",
       "mean    73721.615600   121344.639600    211025.097800  112012.639200\n",
       "std     45902.256482    28017.802755    122290.310726   40306.180338\n",
       "min         0.000000    51283.140000         0.000000   14681.400000\n",
       "25%     39936.370000   103730.875000    129300.132500   90138.902500\n",
       "50%     73051.080000   122699.795000    212716.240000  107978.190000\n",
       "75%    101602.800000   144842.180000    299469.085000  139765.977500\n",
       "max    165349.200000   182645.560000    471784.100000  192261.830000"
      ]
     },
     "execution_count": 12,
     "metadata": {},
     "output_type": "execute_result"
    }
   ],
   "source": [
    "dataset.describe()"
   ]
  },
  {
   "cell_type": "code",
   "execution_count": 13,
   "id": "a5864d1f",
   "metadata": {},
   "outputs": [
    {
     "data": {
      "text/plain": [
       "R&D Spend          0\n",
       "Administration     0\n",
       "Marketing Spend    0\n",
       "State              0\n",
       "Profit             0\n",
       "dtype: int64"
      ]
     },
     "execution_count": 13,
     "metadata": {},
     "output_type": "execute_result"
    }
   ],
   "source": [
    "dataset.isna().sum()"
   ]
  },
  {
   "cell_type": "code",
   "execution_count": 14,
   "id": "7af4618f",
   "metadata": {},
   "outputs": [
    {
     "data": {
      "text/plain": [
       "0"
      ]
     },
     "execution_count": 14,
     "metadata": {},
     "output_type": "execute_result"
    }
   ],
   "source": [
    "dataset.isna().sum().sum()"
   ]
  },
  {
   "cell_type": "code",
   "execution_count": 15,
   "id": "a4560a2a",
   "metadata": {},
   "outputs": [],
   "source": [
    "# so we have a cleaned data already "
   ]
  },
  {
   "cell_type": "code",
   "execution_count": 16,
   "id": "46d3e84e",
   "metadata": {},
   "outputs": [
    {
     "data": {
      "text/plain": [
       "Index(['R&D Spend', 'Administration', 'Marketing Spend', 'State', 'Profit'], dtype='object')"
      ]
     },
     "execution_count": 16,
     "metadata": {},
     "output_type": "execute_result"
    }
   ],
   "source": [
    "# let's do a plot and understand the dataset more closely \n",
    "\n",
    "dataset.columns"
   ]
  },
  {
   "cell_type": "code",
   "execution_count": 17,
   "id": "40b7281f",
   "metadata": {},
   "outputs": [],
   "source": [
    "# Profit is our target variable and rest are features lets plot the graph with features vs profit  "
   ]
  },
  {
   "cell_type": "markdown",
   "id": "c91775ca",
   "metadata": {},
   "source": [
    "# Let's do a plot of all the featueres  with the target one by one "
   ]
  },
  {
   "cell_type": "code",
   "execution_count": 18,
   "id": "37988445",
   "metadata": {},
   "outputs": [
    {
     "data": {
      "image/png": "[encoded data removed]",
      "text/plain": [
       "<Figure size 432x288 with 1 Axes>"
      ]
     },
     "metadata": {
      "needs_background": "light"
     },
     "output_type": "display_data"
    }
   ],
   "source": [
    "plt.scatter(dataset['Marketing Spend'],dataset['Profit'],alpha = 0.5) # marketing spend on the xaxis  and profit on y aixs \n",
    "#alpha = regulates the trasperacy of the points\n",
    "plt.title('Scatter plot of Profit with Marketing Spend')\n",
    "plt.xlabel('Marketing Spend')\n",
    "plt.ylabel('Profit')\n",
    "plt.show()\n"
   ]
  },
  {
   "cell_type": "markdown",
   "id": "136f10e0",
   "metadata": {},
   "source": [
    "## Now that we have the data representation graphically lets try to fit a line though by looking at the distribution we can say there is a linear relation between marketing spend and profit "
   ]
  },
  {
   "cell_type": "code",
   "execution_count": 19,
   "id": "1a0432e6",
   "metadata": {},
   "outputs": [],
   "source": [
    "# here is how you fit a line/proboala on a data "
   ]
  },
  {
   "cell_type": "code",
   "execution_count": 20,
   "id": "12e0bba6",
   "metadata": {},
   "outputs": [
    {
     "data": {
      "image/png": "[encoded data removed]",
      "text/plain": [
       "<Figure size 432x288 with 1 Axes>"
      ]
     },
     "metadata": {
      "needs_background": "light"
     },
     "output_type": "display_data"
    }
   ],
   "source": [
    "import matplotlib.pyplot as plt\n",
    "import numpy as np\n",
    "\n",
    "# Generate some sample data\n",
    "x = np.random.rand(20)\n",
    "y = np.random.rand(20)\n",
    "\n",
    "# Create a scatter plot\n",
    "plt.scatter(x, y, label='Data Points')\n",
    "\n",
    "# Fit a linear regression line to the data\n",
    "coefficients = np.polyfit(x, y, 1)\n",
    "line = np.polyval(coefficients, x)\n",
    "\n",
    "# Plot the linear regression line\n",
    "plt.plot(x, line, color='red', label='Regression Line')\n",
    "\n",
    "# Add labels and legend\n",
    "plt.xlabel('X-axis')\n",
    "plt.ylabel('Y-axis')\n",
    "plt.title('Scatter Plot with Regression Line')\n",
    "plt.legend()\n",
    "\n",
    "# Display the plot\n",
    "plt.show()\n"
   ]
  },
  {
   "cell_type": "markdown",
   "id": "ff8a1256",
   "metadata": {},
   "source": [
    "# polyfit\n",
    "it basically find the best fit line between using least square i.e the error between the predicated and the actual is very less just line we did in the sse part"
   ]
  },
  {
   "cell_type": "code",
   "execution_count": 21,
   "id": "0c005cad",
   "metadata": {},
   "outputs": [
    {
     "name": "stdout",
     "output_type": "stream",
     "text": [
      "the m is 2.249999999999999 and the c is -0.8499999999999976\n"
     ]
    }
   ],
   "source": [
    "# lets understand what is poly fit first \n",
    "#it basically find the best fit line for a given data \n",
    "# the np.polyfit returns the coefficients of that line \n",
    "x = np.array([1, 2, 3, 4, 5])\n",
    "y = np.array([2, 3.5, 5, 8, 11])\n",
    "\n",
    "coefficients = np.polyfit(x, y, 1) # deg = 1 , the 1 represent that it will give i.e x^1 type if 2 it will give parabola i.e x^2\n",
    "# basicaaly np.polyfit has x,y and degree of line you want ot fit and it retrun it will give you coefficient of that line \n",
    "\n",
    "print(f'the m is {coefficients[0]} and the c is {coefficients[1]}')"
   ]
  },
  {
   "cell_type": "code",
   "execution_count": 22,
   "id": "9fbf1710",
   "metadata": {},
   "outputs": [
    {
     "name": "stdout",
     "output_type": "stream",
     "text": [
      "[-0.85  1.4   3.65  5.9 ]\n"
     ]
    }
   ],
   "source": [
    "# using the above coefficeint we can get x and y and plot the line/parabola \n",
    "\n",
    "#coefficients = np.array([1, -2, 1])  # Coefficients of a quadratic polynomial: x^2 - 2x + 1\n",
    "x_values = np.array([0, 1, 2, 3])\n",
    "\n",
    "y_values = np.polyval(coefficients, x_values)\n",
    "print(y_values)\n",
    "# you have x you have y plot it "
   ]
  },
  {
   "cell_type": "code",
   "execution_count": 23,
   "id": "eb630994",
   "metadata": {},
   "outputs": [
    {
     "data": {
      "text/plain": [
       "[<matplotlib.lines.Line2D at 0x277c38f3160>]"
      ]
     },
     "execution_count": 23,
     "metadata": {},
     "output_type": "execute_result"
    },
    {
     "data": {
      "image/png": "[encoded data removed]",
      "text/plain": [
       "<Figure size 432x288 with 1 Axes>"
      ]
     },
     "metadata": {
      "needs_background": "light"
     },
     "output_type": "display_data"
    }
   ],
   "source": [
    "plt.plot(x_values,y_values) "
   ]
  },
  {
   "cell_type": "markdown",
   "id": "78d45ac6",
   "metadata": {},
   "source": [
    "## so this is what we will do on the data of marketing and profit as well and see if there is a relation "
   ]
  },
  {
   "cell_type": "code",
   "execution_count": 24,
   "id": "c7409dc2",
   "metadata": {},
   "outputs": [
    {
     "data": {
      "image/png": "[encoded data removed]",
      "text/plain": [
       "<Figure size 720x432 with 1 Axes>"
      ]
     },
     "metadata": {
      "needs_background": "light"
     },
     "output_type": "display_data"
    }
   ],
   "source": [
    "plt.figure(figsize = (10,6))\n",
    "plt.scatter(dataset['Marketing Spend'],dataset['Profit'],alpha = 0.5,color = 'red')\n",
    "plt.title('Scatter plot of Marketing Spend vs Profit')\n",
    "plt.xlabel('Marketing Spend')\n",
    "plt.ylabel('Profit')\n",
    "coefficients=np.polyfit(dataset['Marketing Spend'],dataset['Profit'],1) # this gives us the slope and constand of line as deg=1\n",
    "# x_values = np.linspace(1,100,10) # values of line to plot graph\n",
    "x_values = dataset['Marketing Spend']\n",
    "y_values = np.polyval(coefficients,x_values)\n",
    "plt.plot(x_values,y_values,color = 'green',alpha = 1)\n",
    "plt.show()\n",
    "\n",
    "# Note this is the best fit line when we have one feature and respective target value  \n",
    "# Note The line is darker at the middel and ligher at the ends because we have more data point in the midde part "
   ]
  },
  {
   "cell_type": "code",
   "execution_count": 25,
   "id": "7fb29196",
   "metadata": {},
   "outputs": [
    {
     "data": {
      "image/png": "[encoded data removed]",
      "text/plain": [
       "<Figure size 432x288 with 1 Axes>"
      ]
     },
     "metadata": {
      "needs_background": "light"
     },
     "output_type": "display_data"
    }
   ],
   "source": [
    "# let's do it for other as well \n",
    "\n",
    "plt.scatter(dataset['R&D Spend'],dataset['Profit'],alpha = 0.5)\n",
    "plt.title('Scatter plot of R&D Spend vs Profit')\n",
    "plt.xlabel('R&D Spend')\n",
    "plt.ylabel('Profit')\n",
    "plt.show()"
   ]
  },
  {
   "cell_type": "code",
   "execution_count": 26,
   "id": "1953e961",
   "metadata": {},
   "outputs": [
    {
     "data": {
      "image/png": "[encoded data removed]",
      "text/plain": [
       "<Figure size 720x432 with 1 Axes>"
      ]
     },
     "metadata": {
      "needs_background": "light"
     },
     "output_type": "display_data"
    }
   ],
   "source": [
    "plt.figure(figsize = (10,6))\n",
    "\n",
    "plt.scatter(dataset['R&D Spend'],dataset['Profit'],alpha = 0.5,color = 'red')\n",
    "plt.title('Scatter plot of R&D Spend vs Profit')\n",
    "plt.xlabel('R&D Spend')\n",
    "plt.ylabel('Profit')\n",
    "coefficients = np.polyfit(dataset['R&D Spend'],dataset['Profit'],1)\n",
    "y_values = np.polyval(coefficients,dataset['R&D Spend'])\n",
    "plt.plot(dataset['R&D Spend'],y_values,color = 'green')\n",
    "plt.show()"
   ]
  },
  {
   "cell_type": "code",
   "execution_count": 27,
   "id": "598bfd1e",
   "metadata": {},
   "outputs": [
    {
     "data": {
      "image/png": "[encoded data removed]",
      "text/plain": [
       "<Figure size 432x288 with 1 Axes>"
      ]
     },
     "metadata": {
      "needs_background": "light"
     },
     "output_type": "display_data"
    }
   ],
   "source": [
    "plt.scatter(dataset['Administration'],dataset['Profit'],alpha = 0.5)\n",
    "plt.title('Scatter plot of Administartion vs Profit')\n",
    "plt.xlabel('Adminstration')\n",
    "plt.ylabel('Profit')\n",
    "plt.show()"
   ]
  },
  {
   "cell_type": "code",
   "execution_count": 28,
   "id": "e35b711a",
   "metadata": {},
   "outputs": [
    {
     "data": {
      "image/png": "[encoded data removed]",
      "text/plain": [
       "<Figure size 720x432 with 1 Axes>"
      ]
     },
     "metadata": {
      "needs_background": "light"
     },
     "output_type": "display_data"
    }
   ],
   "source": [
    "plt.figure(figsize = (10,6))\n",
    "\n",
    "plt.scatter(dataset['Administration'],dataset['Profit'],alpha = 0.5)\n",
    "plt.title('Scatter plot of Administartion vs Profit')\n",
    "plt.xlabel('Adminstration')\n",
    "plt.ylabel('Profit')\n",
    "\n",
    "coefficient = np.polyfit(dataset['Administration'],dataset['Profit'],1)\n",
    "y_values = np.polyval(coefficient,dataset['Administration'])\n",
    "plt.plot(dataset['Administration'],y_values)\n",
    "plt.show()"
   ]
  },
  {
   "cell_type": "markdown",
   "id": "89bed3d8",
   "metadata": {},
   "source": [
    "We can see above that there is no linear relationship between administration and profit as the datapoint are distributed all across the line with no linear parttern\n",
    "\n",
    "Since there is no linear relationship between the administration and Profit we can drop this column but for now let's just try to built a vanila model so we will include it rather. "
   ]
  },
  {
   "cell_type": "markdown",
   "id": "ded42ed9",
   "metadata": {},
   "source": [
    "## There is a discreate variable which is State lets check the satewise porfit"
   ]
  },
  {
   "cell_type": "code",
   "execution_count": 29,
   "id": "9b377496",
   "metadata": {},
   "outputs": [],
   "source": [
    "#let's revist the group by first"
   ]
  },
  {
   "cell_type": "code",
   "execution_count": 30,
   "id": "f6e1b446",
   "metadata": {},
   "outputs": [
    {
     "data": {
      "text/plain": [
       "New York      17\n",
       "California    17\n",
       "Florida       16\n",
       "Name: State, dtype: int64"
      ]
     },
     "execution_count": 30,
     "metadata": {},
     "output_type": "execute_result"
    }
   ],
   "source": [
    "\n",
    "dataset['State'].value_counts()"
   ]
  },
  {
   "cell_type": "code",
   "execution_count": 31,
   "id": "7e6ff88a",
   "metadata": {},
   "outputs": [
    {
     "name": "stdout",
     "output_type": "stream",
     "text": [
      "['New York' 'California' 'Florida']\n",
      "3\n"
     ]
    }
   ],
   "source": [
    "print(dataset['State'].unique()) # this is to find the unique state\n",
    "print(dataset['State'].nunique()) # count of unique "
   ]
  },
  {
   "cell_type": "code",
   "execution_count": 32,
   "id": "9bbac6be",
   "metadata": {},
   "outputs": [
    {
     "data": {
      "text/plain": [
       "State\n",
       "California    1766387.98\n",
       "Florida       1900384.39\n",
       "New York      1933859.59\n",
       "Name: Profit, dtype: float64"
      ]
     },
     "execution_count": 32,
     "metadata": {},
     "output_type": "execute_result"
    }
   ],
   "source": [
    "#way 1\n",
    "dataset.groupby('State')['Profit'].sum()"
   ]
  },
  {
   "cell_type": "code",
   "execution_count": 33,
   "id": "4d4ebb4d",
   "metadata": {},
   "outputs": [
    {
     "data": {
      "text/html": [
       "<div>\n",
       "<style scoped>\n",
       "    .dataframe tbody tr th:only-of-type {\n",
       "        vertical-align: middle;\n",
       "    }\n",
       "\n",
       "    .dataframe tbody tr th {\n",
       "        vertical-align: top;\n",
       "    }\n",
       "\n",
       "    .dataframe thead th {\n",
       "        text-align: right;\n",
       "    }\n",
       "</style>\n",
       "<table border=\"1\" class=\"dataframe\">\n",
       "  <thead>\n",
       "    <tr style=\"text-align: right;\">\n",
       "      <th></th>\n",
       "      <th>State</th>\n",
       "      <th>Profit</th>\n",
       "    </tr>\n",
       "  </thead>\n",
       "  <tbody>\n",
       "    <tr>\n",
       "      <th>0</th>\n",
       "      <td>California</td>\n",
       "      <td>1766387.98</td>\n",
       "    </tr>\n",
       "    <tr>\n",
       "      <th>1</th>\n",
       "      <td>Florida</td>\n",
       "      <td>1900384.39</td>\n",
       "    </tr>\n",
       "    <tr>\n",
       "      <th>2</th>\n",
       "      <td>New York</td>\n",
       "      <td>1933859.59</td>\n",
       "    </tr>\n",
       "  </tbody>\n",
       "</table>\n",
       "</div>"
      ],
      "text/plain": [
       "        State      Profit\n",
       "0  California  1766387.98\n",
       "1     Florida  1900384.39\n",
       "2    New York  1933859.59"
      ]
     },
     "execution_count": 33,
     "metadata": {},
     "output_type": "execute_result"
    }
   ],
   "source": [
    "#way2\n",
    "dataset.groupby('State',as_index = False).agg({'Profit':'sum'})"
   ]
  },
  {
   "cell_type": "code",
   "execution_count": 34,
   "id": "75971306",
   "metadata": {},
   "outputs": [
    {
     "data": {
      "text/plain": [
       "<AxesSubplot:xlabel='State'>"
      ]
     },
     "execution_count": 34,
     "metadata": {},
     "output_type": "execute_result"
    },
    {
     "data": {
      "image/png": "[encoded data removed]",
      "text/plain": [
       "<Figure size 432x288 with 1 Axes>"
      ]
     },
     "metadata": {
      "needs_background": "light"
     },
     "output_type": "display_data"
    }
   ],
   "source": [
    "dataset.groupby('State').agg({'Profit':'sum'}).plot(kind = 'bar') # this is a short way of doing the plot"
   ]
  },
  {
   "cell_type": "code",
   "execution_count": 35,
   "id": "14681b6b",
   "metadata": {},
   "outputs": [
    {
     "data": {
      "text/plain": [
       "Text(0, 0.5, 'Profit')"
      ]
     },
     "execution_count": 35,
     "metadata": {},
     "output_type": "execute_result"
    },
    {
     "data": {
      "image/png": "[encoded data removed]",
      "text/plain": [
       "<Figure size 720x360 with 1 Axes>"
      ]
     },
     "metadata": {
      "needs_background": "light"
     },
     "output_type": "display_data"
    }
   ],
   "source": [
    "ax = dataset.groupby('State')['Profit'].mean().plot.bar(\n",
    "    figsize = (10,5),\n",
    "    fontsize = 14\n",
    ")\n",
    "\n",
    "#setting the title\n",
    "ax.set_title('Average Profit of different state where the startup operate')\n",
    "\n",
    "#setting the x and y lables\n",
    "ax.set_xlabel('State',fontsize = 15)\n",
    "ax.set_ylabel('Profit',fontsize = 15)"
   ]
  },
  {
   "cell_type": "code",
   "execution_count": 36,
   "id": "e77a09ad",
   "metadata": {},
   "outputs": [
    {
     "data": {
      "image/png": "[encoded data removed]",
      "text/plain": [
       "<Figure size 432x288 with 2 Axes>"
      ]
     },
     "metadata": {
      "needs_background": "light"
     },
     "output_type": "display_data"
    }
   ],
   "source": [
    "sns.heatmap(dataset.corr(),annot = True)\n",
    "\n",
    "plt.title('Heat map of continous features',fontsize = 15)\n",
    "\n",
    "plt.show()"
   ]
  },
  {
   "cell_type": "markdown",
   "id": "1f44e27e",
   "metadata": {},
   "source": [
    "## let's also check the VIF scores of the features as well\n",
    "I have explained the vif in the linear regression lecture"
   ]
  },
  {
   "cell_type": "code",
   "execution_count": 37,
   "id": "0358ecc9",
   "metadata": {},
   "outputs": [],
   "source": [
    "# import the variance_inflation_factor\n",
    "from statsmodels.stats.outliers_influence import variance_inflation_factor"
   ]
  },
  {
   "cell_type": "code",
   "execution_count": 38,
   "id": "b71cfb32",
   "metadata": {},
   "outputs": [],
   "source": [
    "#droping the target and discrete variable \n",
    "df_vif=dataset.drop(['Profit','State'],axis = 1)\n",
    "\n",
    "# variance_inflation_factor takes array as argument so the df.values will help here "
   ]
  },
  {
   "cell_type": "code",
   "execution_count": 39,
   "id": "d8d1a530",
   "metadata": {},
   "outputs": [
    {
     "name": "stdout",
     "output_type": "stream",
     "text": [
      "R&D Spend : 8.385\n",
      "Administration : 4.026\n",
      "Marketing Spend : 7.594\n"
     ]
    }
   ],
   "source": [
    "for i in range(len(df_vif.columns)):\n",
    "    print(f'{df_vif.columns[i]} : {round(variance_inflation_factor(df_vif.values,i),3)}')"
   ]
  },
  {
   "cell_type": "markdown",
   "id": "004322e2",
   "metadata": {},
   "source": [
    "**So we have got a very high multicolinearity in our data**"
   ]
  },
  {
   "cell_type": "markdown",
   "id": "bfcfd624",
   "metadata": {},
   "source": [
    "## Lets just keep this aside and make a vanila linear regression model "
   ]
  },
  {
   "cell_type": "markdown",
   "id": "1abe1c02",
   "metadata": {},
   "source": [
    "We also have the discrete variable in the dataset so we will have to treat it as well as the linear regression model take only continous values "
   ]
  },
  {
   "cell_type": "code",
   "execution_count": 40,
   "id": "71c4c645",
   "metadata": {},
   "outputs": [
    {
     "data": {
      "text/html": [
       "<div>\n",
       "<style scoped>\n",
       "    .dataframe tbody tr th:only-of-type {\n",
       "        vertical-align: middle;\n",
       "    }\n",
       "\n",
       "    .dataframe tbody tr th {\n",
       "        vertical-align: top;\n",
       "    }\n",
       "\n",
       "    .dataframe thead th {\n",
       "        text-align: right;\n",
       "    }\n",
       "</style>\n",
       "<table border=\"1\" class=\"dataframe\">\n",
       "  <thead>\n",
       "    <tr style=\"text-align: right;\">\n",
       "      <th></th>\n",
       "      <th>R&amp;D Spend</th>\n",
       "      <th>Administration</th>\n",
       "      <th>Marketing Spend</th>\n",
       "      <th>State</th>\n",
       "      <th>Profit</th>\n",
       "    </tr>\n",
       "  </thead>\n",
       "  <tbody>\n",
       "    <tr>\n",
       "      <th>0</th>\n",
       "      <td>165349.20</td>\n",
       "      <td>136897.80</td>\n",
       "      <td>471784.10</td>\n",
       "      <td>New York</td>\n",
       "      <td>192261.83</td>\n",
       "    </tr>\n",
       "    <tr>\n",
       "      <th>1</th>\n",
       "      <td>162597.70</td>\n",
       "      <td>151377.59</td>\n",
       "      <td>443898.53</td>\n",
       "      <td>California</td>\n",
       "      <td>191792.06</td>\n",
       "    </tr>\n",
       "    <tr>\n",
       "      <th>2</th>\n",
       "      <td>153441.51</td>\n",
       "      <td>101145.55</td>\n",
       "      <td>407934.54</td>\n",
       "      <td>Florida</td>\n",
       "      <td>191050.39</td>\n",
       "    </tr>\n",
       "    <tr>\n",
       "      <th>3</th>\n",
       "      <td>144372.41</td>\n",
       "      <td>118671.85</td>\n",
       "      <td>383199.62</td>\n",
       "      <td>New York</td>\n",
       "      <td>182901.99</td>\n",
       "    </tr>\n",
       "    <tr>\n",
       "      <th>4</th>\n",
       "      <td>142107.34</td>\n",
       "      <td>91391.77</td>\n",
       "      <td>366168.42</td>\n",
       "      <td>Florida</td>\n",
       "      <td>166187.94</td>\n",
       "    </tr>\n",
       "  </tbody>\n",
       "</table>\n",
       "</div>"
      ],
      "text/plain": [
       "   R&D Spend  Administration  Marketing Spend       State     Profit\n",
       "0  165349.20       136897.80        471784.10    New York  192261.83\n",
       "1  162597.70       151377.59        443898.53  California  191792.06\n",
       "2  153441.51       101145.55        407934.54     Florida  191050.39\n",
       "3  144372.41       118671.85        383199.62    New York  182901.99\n",
       "4  142107.34        91391.77        366168.42     Florida  166187.94"
      ]
     },
     "execution_count": 40,
     "metadata": {},
     "output_type": "execute_result"
    }
   ],
   "source": [
    "dataset.head()"
   ]
  },
  {
   "cell_type": "markdown",
   "id": "be073434",
   "metadata": {},
   "source": [
    "# Lets do one hot encoding to covert the State feature "
   ]
  },
  {
   "cell_type": "code",
   "execution_count": 41,
   "id": "599a1674",
   "metadata": {},
   "outputs": [],
   "source": [
    "dataset['NewYork_State'] = np.where(dataset['State'] == \"New York\",1,0)\n",
    "dataset['California_State'] = np.where(dataset['State'] == 'California',1,0)\n",
    "dataset['Florida_State'] = np.where(dataset['State'] == 'Floride',1,0)"
   ]
  },
  {
   "cell_type": "code",
   "execution_count": 42,
   "id": "d8789ece",
   "metadata": {},
   "outputs": [
    {
     "data": {
      "text/html": [
       "<div>\n",
       "<style scoped>\n",
       "    .dataframe tbody tr th:only-of-type {\n",
       "        vertical-align: middle;\n",
       "    }\n",
       "\n",
       "    .dataframe tbody tr th {\n",
       "        vertical-align: top;\n",
       "    }\n",
       "\n",
       "    .dataframe thead th {\n",
       "        text-align: right;\n",
       "    }\n",
       "</style>\n",
       "<table border=\"1\" class=\"dataframe\">\n",
       "  <thead>\n",
       "    <tr style=\"text-align: right;\">\n",
       "      <th></th>\n",
       "      <th>R&amp;D Spend</th>\n",
       "      <th>Administration</th>\n",
       "      <th>Marketing Spend</th>\n",
       "      <th>State</th>\n",
       "      <th>Profit</th>\n",
       "      <th>NewYork_State</th>\n",
       "      <th>California_State</th>\n",
       "      <th>Florida_State</th>\n",
       "    </tr>\n",
       "  </thead>\n",
       "  <tbody>\n",
       "    <tr>\n",
       "      <th>0</th>\n",
       "      <td>165349.20</td>\n",
       "      <td>136897.80</td>\n",
       "      <td>471784.10</td>\n",
       "      <td>New York</td>\n",
       "      <td>192261.83</td>\n",
       "      <td>1</td>\n",
       "      <td>0</td>\n",
       "      <td>0</td>\n",
       "    </tr>\n",
       "    <tr>\n",
       "      <th>1</th>\n",
       "      <td>162597.70</td>\n",
       "      <td>151377.59</td>\n",
       "      <td>443898.53</td>\n",
       "      <td>California</td>\n",
       "      <td>191792.06</td>\n",
       "      <td>0</td>\n",
       "      <td>1</td>\n",
       "      <td>0</td>\n",
       "    </tr>\n",
       "    <tr>\n",
       "      <th>2</th>\n",
       "      <td>153441.51</td>\n",
       "      <td>101145.55</td>\n",
       "      <td>407934.54</td>\n",
       "      <td>Florida</td>\n",
       "      <td>191050.39</td>\n",
       "      <td>0</td>\n",
       "      <td>0</td>\n",
       "      <td>0</td>\n",
       "    </tr>\n",
       "    <tr>\n",
       "      <th>3</th>\n",
       "      <td>144372.41</td>\n",
       "      <td>118671.85</td>\n",
       "      <td>383199.62</td>\n",
       "      <td>New York</td>\n",
       "      <td>182901.99</td>\n",
       "      <td>1</td>\n",
       "      <td>0</td>\n",
       "      <td>0</td>\n",
       "    </tr>\n",
       "    <tr>\n",
       "      <th>4</th>\n",
       "      <td>142107.34</td>\n",
       "      <td>91391.77</td>\n",
       "      <td>366168.42</td>\n",
       "      <td>Florida</td>\n",
       "      <td>166187.94</td>\n",
       "      <td>0</td>\n",
       "      <td>0</td>\n",
       "      <td>0</td>\n",
       "    </tr>\n",
       "  </tbody>\n",
       "</table>\n",
       "</div>"
      ],
      "text/plain": [
       "   R&D Spend  Administration  Marketing Spend       State     Profit  \\\n",
       "0  165349.20       136897.80        471784.10    New York  192261.83   \n",
       "1  162597.70       151377.59        443898.53  California  191792.06   \n",
       "2  153441.51       101145.55        407934.54     Florida  191050.39   \n",
       "3  144372.41       118671.85        383199.62    New York  182901.99   \n",
       "4  142107.34        91391.77        366168.42     Florida  166187.94   \n",
       "\n",
       "   NewYork_State  California_State  Florida_State  \n",
       "0              1                 0              0  \n",
       "1              0                 1              0  \n",
       "2              0                 0              0  \n",
       "3              1                 0              0  \n",
       "4              0                 0              0  "
      ]
     },
     "execution_count": 42,
     "metadata": {},
     "output_type": "execute_result"
    }
   ],
   "source": [
    "dataset.head()"
   ]
  },
  {
   "cell_type": "code",
   "execution_count": 43,
   "id": "64beb8b2",
   "metadata": {},
   "outputs": [],
   "source": [
    "# let's drop the state now \n",
    "dataset.drop(columns = ['State'],axis = 1, inplace = True)"
   ]
  },
  {
   "cell_type": "code",
   "execution_count": 44,
   "id": "b88574da",
   "metadata": {
    "scrolled": true
   },
   "outputs": [
    {
     "data": {
      "text/html": [
       "<div>\n",
       "<style scoped>\n",
       "    .dataframe tbody tr th:only-of-type {\n",
       "        vertical-align: middle;\n",
       "    }\n",
       "\n",
       "    .dataframe tbody tr th {\n",
       "        vertical-align: top;\n",
       "    }\n",
       "\n",
       "    .dataframe thead th {\n",
       "        text-align: right;\n",
       "    }\n",
       "</style>\n",
       "<table border=\"1\" class=\"dataframe\">\n",
       "  <thead>\n",
       "    <tr style=\"text-align: right;\">\n",
       "      <th></th>\n",
       "      <th>R&amp;D Spend</th>\n",
       "      <th>Administration</th>\n",
       "      <th>Marketing Spend</th>\n",
       "      <th>Profit</th>\n",
       "      <th>NewYork_State</th>\n",
       "      <th>California_State</th>\n",
       "      <th>Florida_State</th>\n",
       "    </tr>\n",
       "  </thead>\n",
       "  <tbody>\n",
       "    <tr>\n",
       "      <th>0</th>\n",
       "      <td>165349.20</td>\n",
       "      <td>136897.80</td>\n",
       "      <td>471784.10</td>\n",
       "      <td>192261.83</td>\n",
       "      <td>1</td>\n",
       "      <td>0</td>\n",
       "      <td>0</td>\n",
       "    </tr>\n",
       "    <tr>\n",
       "      <th>1</th>\n",
       "      <td>162597.70</td>\n",
       "      <td>151377.59</td>\n",
       "      <td>443898.53</td>\n",
       "      <td>191792.06</td>\n",
       "      <td>0</td>\n",
       "      <td>1</td>\n",
       "      <td>0</td>\n",
       "    </tr>\n",
       "    <tr>\n",
       "      <th>2</th>\n",
       "      <td>153441.51</td>\n",
       "      <td>101145.55</td>\n",
       "      <td>407934.54</td>\n",
       "      <td>191050.39</td>\n",
       "      <td>0</td>\n",
       "      <td>0</td>\n",
       "      <td>0</td>\n",
       "    </tr>\n",
       "    <tr>\n",
       "      <th>3</th>\n",
       "      <td>144372.41</td>\n",
       "      <td>118671.85</td>\n",
       "      <td>383199.62</td>\n",
       "      <td>182901.99</td>\n",
       "      <td>1</td>\n",
       "      <td>0</td>\n",
       "      <td>0</td>\n",
       "    </tr>\n",
       "    <tr>\n",
       "      <th>4</th>\n",
       "      <td>142107.34</td>\n",
       "      <td>91391.77</td>\n",
       "      <td>366168.42</td>\n",
       "      <td>166187.94</td>\n",
       "      <td>0</td>\n",
       "      <td>0</td>\n",
       "      <td>0</td>\n",
       "    </tr>\n",
       "  </tbody>\n",
       "</table>\n",
       "</div>"
      ],
      "text/plain": [
       "   R&D Spend  Administration  Marketing Spend     Profit  NewYork_State  \\\n",
       "0  165349.20       136897.80        471784.10  192261.83              1   \n",
       "1  162597.70       151377.59        443898.53  191792.06              0   \n",
       "2  153441.51       101145.55        407934.54  191050.39              0   \n",
       "3  144372.41       118671.85        383199.62  182901.99              1   \n",
       "4  142107.34        91391.77        366168.42  166187.94              0   \n",
       "\n",
       "   California_State  Florida_State  \n",
       "0                 0              0  \n",
       "1                 1              0  \n",
       "2                 0              0  \n",
       "3                 0              0  \n",
       "4                 0              0  "
      ]
     },
     "execution_count": 44,
     "metadata": {},
     "output_type": "execute_result"
    }
   ],
   "source": [
    "dataset.head()"
   ]
  },
  {
   "cell_type": "markdown",
   "id": "912e3d5f",
   "metadata": {},
   "source": [
    "## Let separte our dependent/target variable and independent/feature variable from the data "
   ]
  },
  {
   "cell_type": "code",
   "execution_count": 45,
   "id": "9e5b3b94",
   "metadata": {},
   "outputs": [],
   "source": [
    "# let's define our dependent variable/target varialbe i.e y\n",
    "dependent_variable = 'Profit'"
   ]
  },
  {
   "cell_type": "code",
   "execution_count": 46,
   "id": "a7f14f50",
   "metadata": {},
   "outputs": [],
   "source": [
    "# let's define "
   ]
  },
  {
   "cell_type": "code",
   "execution_count": 47,
   "id": "0578d846",
   "metadata": {},
   "outputs": [
    {
     "data": {
      "text/plain": [
       "Index(['R&D Spend', 'Administration', 'Marketing Spend', 'Profit',\n",
       "       'NewYork_State', 'California_State', 'Florida_State'],\n",
       "      dtype='object')"
      ]
     },
     "execution_count": 47,
     "metadata": {},
     "output_type": "execute_result"
    }
   ],
   "source": [
    "dataset.columns"
   ]
  },
  {
   "cell_type": "code",
   "execution_count": 48,
   "id": "7ba4e7b9",
   "metadata": {},
   "outputs": [
    {
     "name": "stdout",
     "output_type": "stream",
     "text": [
      "['Florida_State', 'California_State', 'NewYork_State', 'Marketing Spend', 'Administration', 'R&D Spend']\n"
     ]
    }
   ],
   "source": [
    "independent_variable=list(set(dataset.columns.tolist()) - {dependent_variable})\n",
    "print(independent_variable)"
   ]
  },
  {
   "cell_type": "code",
   "execution_count": 49,
   "id": "10a92b99",
   "metadata": {},
   "outputs": [],
   "source": [
    "#now lets create a array/dataset of dependent variable and indpendent variable \n",
    "X = dataset[independent_variable].values\n",
    "\n",
    "y = dataset[dependent_variable].values"
   ]
  },
  {
   "cell_type": "code",
   "execution_count": 50,
   "id": "91ae56a8",
   "metadata": {},
   "outputs": [
    {
     "data": {
      "text/plain": [
       "(array([[0.0000000e+00, 0.0000000e+00, 1.0000000e+00, 4.7178410e+05,\n",
       "         1.3689780e+05, 1.6534920e+05],\n",
       "        [0.0000000e+00, 1.0000000e+00, 0.0000000e+00, 4.4389853e+05,\n",
       "         1.5137759e+05, 1.6259770e+05],\n",
       "        [0.0000000e+00, 0.0000000e+00, 0.0000000e+00, 4.0793454e+05,\n",
       "         1.0114555e+05, 1.5344151e+05],\n",
       "        [0.0000000e+00, 0.0000000e+00, 1.0000000e+00, 3.8319962e+05,\n",
       "         1.1867185e+05, 1.4437241e+05],\n",
       "        [0.0000000e+00, 0.0000000e+00, 0.0000000e+00, 3.6616842e+05,\n",
       "         9.1391770e+04, 1.4210734e+05],\n",
       "        [0.0000000e+00, 0.0000000e+00, 1.0000000e+00, 3.6286136e+05,\n",
       "         9.9814710e+04, 1.3187690e+05],\n",
       "        [0.0000000e+00, 1.0000000e+00, 0.0000000e+00, 1.2771682e+05,\n",
       "         1.4719887e+05, 1.3461546e+05],\n",
       "        [0.0000000e+00, 0.0000000e+00, 0.0000000e+00, 3.2387668e+05,\n",
       "         1.4553006e+05, 1.3029813e+05],\n",
       "        [0.0000000e+00, 0.0000000e+00, 1.0000000e+00, 3.1161329e+05,\n",
       "         1.4871895e+05, 1.2054252e+05],\n",
       "        [0.0000000e+00, 1.0000000e+00, 0.0000000e+00, 3.0498162e+05,\n",
       "         1.0867917e+05, 1.2333488e+05],\n",
       "        [0.0000000e+00, 0.0000000e+00, 0.0000000e+00, 2.2916095e+05,\n",
       "         1.1059411e+05, 1.0191308e+05],\n",
       "        [0.0000000e+00, 1.0000000e+00, 0.0000000e+00, 2.4974455e+05,\n",
       "         9.1790610e+04, 1.0067196e+05],\n",
       "        [0.0000000e+00, 0.0000000e+00, 0.0000000e+00, 2.4983944e+05,\n",
       "         1.2732038e+05, 9.3863750e+04],\n",
       "        [0.0000000e+00, 1.0000000e+00, 0.0000000e+00, 2.5266493e+05,\n",
       "         1.3549507e+05, 9.1992390e+04],\n",
       "        [0.0000000e+00, 0.0000000e+00, 0.0000000e+00, 2.5651292e+05,\n",
       "         1.5654742e+05, 1.1994324e+05],\n",
       "        [0.0000000e+00, 0.0000000e+00, 1.0000000e+00, 2.6177623e+05,\n",
       "         1.2261684e+05, 1.1452361e+05],\n",
       "        [0.0000000e+00, 1.0000000e+00, 0.0000000e+00, 2.6434606e+05,\n",
       "         1.2159755e+05, 7.8013110e+04],\n",
       "        [0.0000000e+00, 0.0000000e+00, 1.0000000e+00, 2.8257431e+05,\n",
       "         1.4507758e+05, 9.4657160e+04],\n",
       "        [0.0000000e+00, 0.0000000e+00, 0.0000000e+00, 2.9491957e+05,\n",
       "         1.1417579e+05, 9.1749160e+04],\n",
       "        [0.0000000e+00, 0.0000000e+00, 1.0000000e+00, 0.0000000e+00,\n",
       "         1.5351411e+05, 8.6419700e+04],\n",
       "        [0.0000000e+00, 1.0000000e+00, 0.0000000e+00, 2.9866447e+05,\n",
       "         1.1386730e+05, 7.6253860e+04],\n",
       "        [0.0000000e+00, 0.0000000e+00, 1.0000000e+00, 2.9973729e+05,\n",
       "         1.5377343e+05, 7.8389470e+04],\n",
       "        [0.0000000e+00, 0.0000000e+00, 0.0000000e+00, 3.0331926e+05,\n",
       "         1.2278275e+05, 7.3994560e+04],\n",
       "        [0.0000000e+00, 0.0000000e+00, 0.0000000e+00, 3.0476873e+05,\n",
       "         1.0575103e+05, 6.7532530e+04],\n",
       "        [0.0000000e+00, 0.0000000e+00, 1.0000000e+00, 1.4057481e+05,\n",
       "         9.9281340e+04, 7.7044010e+04],\n",
       "        [0.0000000e+00, 1.0000000e+00, 0.0000000e+00, 1.3796262e+05,\n",
       "         1.3955316e+05, 6.4664710e+04],\n",
       "        [0.0000000e+00, 0.0000000e+00, 0.0000000e+00, 1.3405007e+05,\n",
       "         1.4413598e+05, 7.5328870e+04],\n",
       "        [0.0000000e+00, 0.0000000e+00, 1.0000000e+00, 3.5318381e+05,\n",
       "         1.2786455e+05, 7.2107600e+04],\n",
       "        [0.0000000e+00, 0.0000000e+00, 0.0000000e+00, 1.1814820e+05,\n",
       "         1.8264556e+05, 6.6051520e+04],\n",
       "        [0.0000000e+00, 0.0000000e+00, 1.0000000e+00, 1.0713838e+05,\n",
       "         1.5303206e+05, 6.5605480e+04],\n",
       "        [0.0000000e+00, 0.0000000e+00, 0.0000000e+00, 9.1131240e+04,\n",
       "         1.1564128e+05, 6.1994480e+04],\n",
       "        [0.0000000e+00, 0.0000000e+00, 1.0000000e+00, 8.8218230e+04,\n",
       "         1.5270192e+05, 6.1136380e+04],\n",
       "        [0.0000000e+00, 1.0000000e+00, 0.0000000e+00, 4.6085250e+04,\n",
       "         1.2921961e+05, 6.3408860e+04],\n",
       "        [0.0000000e+00, 0.0000000e+00, 0.0000000e+00, 2.1463481e+05,\n",
       "         1.0305749e+05, 5.5493950e+04],\n",
       "        [0.0000000e+00, 1.0000000e+00, 0.0000000e+00, 2.1079767e+05,\n",
       "         1.5769392e+05, 4.6426070e+04],\n",
       "        [0.0000000e+00, 0.0000000e+00, 1.0000000e+00, 2.0551764e+05,\n",
       "         8.5047440e+04, 4.6014020e+04],\n",
       "        [0.0000000e+00, 0.0000000e+00, 0.0000000e+00, 2.0112682e+05,\n",
       "         1.2705621e+05, 2.8663760e+04],\n",
       "        [0.0000000e+00, 1.0000000e+00, 0.0000000e+00, 1.9702942e+05,\n",
       "         5.1283140e+04, 4.4069950e+04],\n",
       "        [0.0000000e+00, 0.0000000e+00, 1.0000000e+00, 1.8526510e+05,\n",
       "         6.5947930e+04, 2.0229590e+04],\n",
       "        [0.0000000e+00, 1.0000000e+00, 0.0000000e+00, 1.7499930e+05,\n",
       "         8.2982090e+04, 3.8558510e+04],\n",
       "        [0.0000000e+00, 1.0000000e+00, 0.0000000e+00, 1.7279567e+05,\n",
       "         1.1854605e+05, 2.8754330e+04],\n",
       "        [0.0000000e+00, 0.0000000e+00, 0.0000000e+00, 1.6447071e+05,\n",
       "         8.4710770e+04, 2.7892920e+04],\n",
       "        [0.0000000e+00, 1.0000000e+00, 0.0000000e+00, 1.4800111e+05,\n",
       "         9.6189630e+04, 2.3640930e+04],\n",
       "        [0.0000000e+00, 0.0000000e+00, 1.0000000e+00, 3.5534170e+04,\n",
       "         1.2738230e+05, 1.5505730e+04],\n",
       "        [0.0000000e+00, 1.0000000e+00, 0.0000000e+00, 2.8334720e+04,\n",
       "         1.5480614e+05, 2.2177740e+04],\n",
       "        [0.0000000e+00, 0.0000000e+00, 1.0000000e+00, 1.9039300e+03,\n",
       "         1.2415304e+05, 1.0002300e+03],\n",
       "        [0.0000000e+00, 0.0000000e+00, 0.0000000e+00, 2.9711446e+05,\n",
       "         1.1581621e+05, 1.3154600e+03],\n",
       "        [0.0000000e+00, 1.0000000e+00, 0.0000000e+00, 0.0000000e+00,\n",
       "         1.3542692e+05, 0.0000000e+00],\n",
       "        [0.0000000e+00, 0.0000000e+00, 1.0000000e+00, 0.0000000e+00,\n",
       "         5.1743150e+04, 5.4205000e+02],\n",
       "        [0.0000000e+00, 1.0000000e+00, 0.0000000e+00, 4.5173060e+04,\n",
       "         1.1698380e+05, 0.0000000e+00]]),\n",
       " array([192261.83, 191792.06, 191050.39, 182901.99, 166187.94, 156991.12,\n",
       "        156122.51, 155752.6 , 152211.77, 149759.96, 146121.95, 144259.4 ,\n",
       "        141585.52, 134307.35, 132602.65, 129917.04, 126992.93, 125370.37,\n",
       "        124266.9 , 122776.86, 118474.03, 111313.02, 110352.25, 108733.99,\n",
       "        108552.04, 107404.34, 105733.54, 105008.31, 103282.38, 101004.64,\n",
       "         99937.59,  97483.56,  97427.84,  96778.92,  96712.8 ,  96479.51,\n",
       "         90708.19,  89949.14,  81229.06,  81005.76,  78239.91,  77798.83,\n",
       "         71498.49,  69758.98,  65200.33,  64926.08,  49490.75,  42559.73,\n",
       "         35673.41,  14681.4 ]))"
      ]
     },
     "execution_count": 50,
     "metadata": {},
     "output_type": "execute_result"
    }
   ],
   "source": [
    "#Now we have dependent varaible and independent variable with us\n",
    "X ,y"
   ]
  },
  {
   "cell_type": "code",
   "execution_count": 51,
   "id": "61c0beb1",
   "metadata": {
    "scrolled": true
   },
   "outputs": [
    {
     "data": {
      "text/html": [
       "<div>\n",
       "<style scoped>\n",
       "    .dataframe tbody tr th:only-of-type {\n",
       "        vertical-align: middle;\n",
       "    }\n",
       "\n",
       "    .dataframe tbody tr th {\n",
       "        vertical-align: top;\n",
       "    }\n",
       "\n",
       "    .dataframe thead th {\n",
       "        text-align: right;\n",
       "    }\n",
       "</style>\n",
       "<table border=\"1\" class=\"dataframe\">\n",
       "  <thead>\n",
       "    <tr style=\"text-align: right;\">\n",
       "      <th></th>\n",
       "      <th>Florida_State</th>\n",
       "      <th>California_State</th>\n",
       "      <th>NewYork_State</th>\n",
       "      <th>Marketing Spend</th>\n",
       "      <th>Administration</th>\n",
       "      <th>R&amp;D Spend</th>\n",
       "    </tr>\n",
       "  </thead>\n",
       "  <tbody>\n",
       "    <tr>\n",
       "      <th>0</th>\n",
       "      <td>0</td>\n",
       "      <td>0</td>\n",
       "      <td>1</td>\n",
       "      <td>471784.10</td>\n",
       "      <td>136897.80</td>\n",
       "      <td>165349.20</td>\n",
       "    </tr>\n",
       "    <tr>\n",
       "      <th>1</th>\n",
       "      <td>0</td>\n",
       "      <td>1</td>\n",
       "      <td>0</td>\n",
       "      <td>443898.53</td>\n",
       "      <td>151377.59</td>\n",
       "      <td>162597.70</td>\n",
       "    </tr>\n",
       "    <tr>\n",
       "      <th>2</th>\n",
       "      <td>0</td>\n",
       "      <td>0</td>\n",
       "      <td>0</td>\n",
       "      <td>407934.54</td>\n",
       "      <td>101145.55</td>\n",
       "      <td>153441.51</td>\n",
       "    </tr>\n",
       "    <tr>\n",
       "      <th>3</th>\n",
       "      <td>0</td>\n",
       "      <td>0</td>\n",
       "      <td>1</td>\n",
       "      <td>383199.62</td>\n",
       "      <td>118671.85</td>\n",
       "      <td>144372.41</td>\n",
       "    </tr>\n",
       "    <tr>\n",
       "      <th>4</th>\n",
       "      <td>0</td>\n",
       "      <td>0</td>\n",
       "      <td>0</td>\n",
       "      <td>366168.42</td>\n",
       "      <td>91391.77</td>\n",
       "      <td>142107.34</td>\n",
       "    </tr>\n",
       "  </tbody>\n",
       "</table>\n",
       "</div>"
      ],
      "text/plain": [
       "   Florida_State  California_State  NewYork_State  Marketing Spend  \\\n",
       "0              0                 0              1        471784.10   \n",
       "1              0                 1              0        443898.53   \n",
       "2              0                 0              0        407934.54   \n",
       "3              0                 0              1        383199.62   \n",
       "4              0                 0              0        366168.42   \n",
       "\n",
       "   Administration  R&D Spend  \n",
       "0       136897.80  165349.20  \n",
       "1       151377.59  162597.70  \n",
       "2       101145.55  153441.51  \n",
       "3       118671.85  144372.41  \n",
       "4        91391.77  142107.34  "
      ]
     },
     "execution_count": 51,
     "metadata": {},
     "output_type": "execute_result"
    }
   ],
   "source": [
    "dataset[independent_variable].head()"
   ]
  },
  {
   "cell_type": "markdown",
   "id": "9a2802e8",
   "metadata": {},
   "source": [
    "# building the model"
   ]
  },
  {
   "cell_type": "code",
   "execution_count": 70,
   "id": "f65e30d1",
   "metadata": {},
   "outputs": [],
   "source": [
    "#let's do a train test split\n",
    "\n",
    "X_train,X_test,y_train,y_test = train_test_split(X, y, test_size = 0.2, random_state = 2) # random_state is like np.random.seed\n",
    "# this command returns 4 values hence 4 variables"
   ]
  },
  {
   "cell_type": "code",
   "execution_count": 71,
   "id": "99b20b02",
   "metadata": {},
   "outputs": [
    {
     "data": {
      "text/plain": [
       "((40, 6), (10, 6))"
      ]
     },
     "execution_count": 71,
     "metadata": {},
     "output_type": "execute_result"
    }
   ],
   "source": [
    "X_train.shape,X_test.shape"
   ]
  },
  {
   "cell_type": "markdown",
   "id": "45209ee6",
   "metadata": {},
   "source": [
    "# Scale issue"
   ]
  },
  {
   "cell_type": "markdown",
   "id": "c0bfe5ce",
   "metadata": {},
   "source": [
    "If we see the range of the features its very high i.e they are taking very high values this is generally not a good practise to feed your would with huge range of numbers "
   ]
  },
  {
   "cell_type": "code",
   "execution_count": 72,
   "id": "a1e276a3",
   "metadata": {},
   "outputs": [],
   "source": [
    "# the range of marketing spend and rest column is very high lets scale down the value I have coverd the concept copy\n",
    "scaler = MinMaxScaler()\n",
    "X_train = scaler.fit_transform(X_train)\n",
    "X_test = scaler.transform(X_test)"
   ]
  },
  {
   "cell_type": "code",
   "execution_count": 73,
   "id": "b014589d",
   "metadata": {},
   "outputs": [
    {
     "data": {
      "text/plain": [
       "(array([[0.        , 0.        , 1.        , 0.31668231, 0.4510652 ,\n",
       "         0.4738321 ],\n",
       "        [0.        , 0.        , 1.        , 0.        , 0.00432296,\n",
       "         0.00333369],\n",
       "        [0.        , 0.        , 1.        , 0.63657411, 0.88143739,\n",
       "         0.58215559],\n",
       "        [0.        , 0.        , 0.        , 0.56283007, 0.71456332,\n",
       "         0.577276  ],\n",
       "        [0.        , 0.        , 1.        , 0.79564086, 0.71967718,\n",
       "         0.44347245],\n",
       "        [0.        , 0.        , 0.        , 0.48352224, 0.48655174,\n",
       "         0.34129603],\n",
       "        [0.        , 1.        , 0.        , 0.5955101 , 0.66078277,\n",
       "         0.47979221],\n",
       "        [0.        , 0.        , 0.        , 0.91898151, 0.4685842 ,\n",
       "         0.94368807],\n",
       "        [0.        , 1.        , 0.        , 0.31079765, 0.82952141,\n",
       "         0.39769757],\n",
       "        [0.        , 0.        , 0.        , 0.57786386, 0.98922572,\n",
       "         0.73766874]]),\n",
       " array([[0.        , 0.        , 0.        , 0.45309188, 0.71208077,\n",
       "         0.17628638],\n",
       "        [0.        , 1.        , 0.        , 0.        , 0.79074489,\n",
       "         0.        ],\n",
       "        [0.        , 0.        , 0.        , 0.26616038, 1.23448414,\n",
       "         0.40622666],\n",
       "        [0.        , 1.        , 0.        , 0.68705256, 0.53938172,\n",
       "         0.75852783],\n",
       "        [0.        , 1.        , 0.        , 0.56919524, 0.79138533,\n",
       "         0.56576686],\n",
       "        [0.        , 0.        , 1.        , 1.06281969, 0.80456754,\n",
       "         1.01692213],\n",
       "        [0.        , 1.        , 0.        , 0.06383152, 0.97286196,\n",
       "         0.13639639],\n",
       "        [0.        , 0.        , 0.        , 0.66932968, 0.60645237,\n",
       "         0.00809027],\n",
       "        [0.        , 1.        , 0.        , 0.39423266, 0.29789228,\n",
       "         0.23714056],\n",
       "        [0.        , 0.        , 0.        , 0.68657297, 0.5118644 ,\n",
       "         0.41533509]]))"
      ]
     },
     "execution_count": 73,
     "metadata": {},
     "output_type": "execute_result"
    }
   ],
   "source": [
    "# The values have been scaled down \n",
    "X_train[:10],X_test[:10]"
   ]
  },
  {
   "cell_type": "code",
   "execution_count": null,
   "id": "bee5cb27",
   "metadata": {},
   "outputs": [],
   "source": []
  },
  {
   "cell_type": "code",
   "execution_count": 74,
   "id": "349b65c8",
   "metadata": {},
   "outputs": [
    {
     "data": {
      "text/plain": [
       "LinearRegression()"
      ]
     },
     "execution_count": 74,
     "metadata": {},
     "output_type": "execute_result"
    }
   ],
   "source": [
    "# Now that we have the data in the required format we are ready to fit the model \n",
    "regressor = LinearRegression()\n",
    "regressor.fit(X_train, y_train) # features and target"
   ]
  },
  {
   "cell_type": "code",
   "execution_count": 75,
   "id": "ed86fdd0",
   "metadata": {},
   "outputs": [
    {
     "data": {
      "text/plain": [
       "48851.75046662327"
      ]
     },
     "execution_count": 75,
     "metadata": {},
     "output_type": "execute_result"
    }
   ],
   "source": [
    "# lets find the value of beta not i.e y intercept\n",
    "regressor.intercept_"
   ]
  },
  {
   "cell_type": "code",
   "execution_count": 76,
   "id": "e80c9492",
   "metadata": {
    "scrolled": true
   },
   "outputs": [
    {
     "data": {
      "text/plain": [
       "array([     0.        ,   1076.69796512,    700.2129092 ,  11981.26043957,\n",
       "        -4956.3525711 , 132229.41956079])"
      ]
     },
     "execution_count": 76,
     "metadata": {},
     "output_type": "execute_result"
    }
   ],
   "source": [
    "#lets find the features coefficients\n",
    "regressor.coef_"
   ]
  },
  {
   "cell_type": "markdown",
   "id": "11b9d161",
   "metadata": {},
   "source": [
    "# prediction\n",
    "Now that we have trained our model let's make the model predicit the values of train dataset this way we will have a actual value of the train data and predicated value of the train data"
   ]
  },
  {
   "cell_type": "markdown",
   "id": "9c526c3d",
   "metadata": {},
   "source": [
    "## this is on train data"
   ]
  },
  {
   "cell_type": "code",
   "execution_count": 77,
   "id": "d0df5298",
   "metadata": {},
   "outputs": [],
   "source": [
    "# predicted value on the train data\n",
    "y_pred_train = regressor.predict(X_train)"
   ]
  },
  {
   "cell_type": "code",
   "execution_count": 78,
   "id": "b1b08db9",
   "metadata": {},
   "outputs": [
    {
     "data": {
      "text/plain": [
       "array([108552.04,  35673.41, 125370.37, 141585.52, 105008.31,  96778.92,\n",
       "       126992.93, 191050.39, 107404.34, 132602.65,  99937.59, 156991.12,\n",
       "        97427.84, 191792.06, 101004.64,  96479.51,  77798.83, 122776.86,\n",
       "        89949.14, 146121.95, 166187.94, 156122.51, 182901.99, 118474.03,\n",
       "       105733.54,  81229.06, 111313.02,  71498.49,  97483.56,  96712.8 ,\n",
       "       155752.6 ,  14681.4 , 144259.4 , 124266.9 ,  69758.98, 110352.25,\n",
       "       152211.77,  64926.08, 129917.04,  78239.91])"
      ]
     },
     "execution_count": 78,
     "metadata": {},
     "output_type": "execute_result"
    }
   ],
   "source": [
    "#actual value on the train data \n",
    "y_train"
   ]
  },
  {
   "cell_type": "markdown",
   "id": "df2a6d60",
   "metadata": {},
   "source": [
    "## let's do the same thing for the test data as well"
   ]
  },
  {
   "cell_type": "code",
   "execution_count": 79,
   "id": "2acc4846",
   "metadata": {},
   "outputs": [],
   "source": [
    "y_pred = regressor.predict(X_test)"
   ]
  },
  {
   "cell_type": "code",
   "execution_count": 80,
   "id": "8dd9da6d",
   "metadata": {},
   "outputs": [
    {
     "data": {
      "text/plain": [
       "array([ 74061.28471133,  46009.2379876 ,  99637.26360759, 155786.53229373,\n",
       "       127636.76349538, 192765.18597814,  63906.99972423,  54935.14415853,\n",
       "        84532.35238007, 109460.29711993])"
      ]
     },
     "execution_count": 80,
     "metadata": {},
     "output_type": "execute_result"
    }
   ],
   "source": [
    "# the predicted y values on test data \n",
    "y_pred"
   ]
  },
  {
   "cell_type": "code",
   "execution_count": 81,
   "id": "393a6642",
   "metadata": {},
   "outputs": [
    {
     "data": {
      "text/plain": [
       "array([ 90708.19,  42559.73, 103282.38, 149759.96, 134307.35, 192261.83,\n",
       "        65200.33,  49490.75,  81005.76, 108733.99])"
      ]
     },
     "execution_count": 81,
     "metadata": {},
     "output_type": "execute_result"
    }
   ],
   "source": [
    "# the actual values \n",
    "y_test"
   ]
  },
  {
   "cell_type": "markdown",
   "id": "1c3f9497",
   "metadata": {},
   "source": [
    "# Perfomance analysis of the model "
   ]
  },
  {
   "cell_type": "markdown",
   "id": "bf2ef8fb",
   "metadata": {},
   "source": [
    "## Mean Square Error"
   ]
  },
  {
   "cell_type": "markdown",
   "id": "c5f3e453",
   "metadata": {},
   "source": [
    "### Train dataset\n",
    "so lets just find the mean square error on the train data set lets say how was the learning process of the model "
   ]
  },
  {
   "cell_type": "code",
   "execution_count": 82,
   "id": "e72ddd16",
   "metadata": {},
   "outputs": [
    {
     "data": {
      "text/plain": [
       "88060196.31685734"
      ]
     },
     "execution_count": 82,
     "metadata": {},
     "output_type": "execute_result"
    }
   ],
   "source": [
    "mean_squared_error(y_train,y_pred_train)"
   ]
  },
  {
   "cell_type": "code",
   "execution_count": 83,
   "id": "77feecc5",
   "metadata": {},
   "outputs": [
    {
     "data": {
      "text/plain": [
       "9384.03944561495"
      ]
     },
     "execution_count": 83,
     "metadata": {},
     "output_type": "execute_result"
    }
   ],
   "source": [
    "# lets also do a root mean square error also of the learning \n",
    "math.sqrt(mean_squared_error(y_train, y_pred_train))"
   ]
  },
  {
   "cell_type": "markdown",
   "id": "1cdeb10c",
   "metadata": {},
   "source": [
    "Let's also find the r2 score i.e it will represent how good our model it represent between 0 and 1 the more the value colser to 1 the better the model is "
   ]
  },
  {
   "cell_type": "code",
   "execution_count": 84,
   "id": "e2e4e3dc",
   "metadata": {},
   "outputs": [
    {
     "data": {
      "text/plain": [
       "0.9398417195515446"
      ]
     },
     "execution_count": 84,
     "metadata": {},
     "output_type": "execute_result"
    }
   ],
   "source": [
    "r2_score(y_train,y_pred_train)"
   ]
  },
  {
   "cell_type": "markdown",
   "id": "71a2dc3b",
   "metadata": {},
   "source": [
    "### Test dataset \n",
    "Now lets do the same performance check on the test dataset as well"
   ]
  },
  {
   "cell_type": "code",
   "execution_count": 85,
   "id": "1986a892",
   "metadata": {},
   "outputs": [
    {
     "data": {
      "text/plain": [
       "42765360.65320631"
      ]
     },
     "execution_count": 85,
     "metadata": {},
     "output_type": "execute_result"
    }
   ],
   "source": [
    "#mse\n",
    "mean_squared_error(y_test,y_pred)"
   ]
  },
  {
   "cell_type": "code",
   "execution_count": 86,
   "id": "16d87874",
   "metadata": {},
   "outputs": [
    {
     "data": {
      "text/plain": [
       "6539.522968321643"
      ]
     },
     "execution_count": 86,
     "metadata": {},
     "output_type": "execute_result"
    }
   ],
   "source": [
    "#rmse\n",
    "math.sqrt(mean_squared_error(y_test,y_pred))"
   ]
  },
  {
   "cell_type": "code",
   "execution_count": 87,
   "id": "1b37655a",
   "metadata": {},
   "outputs": [
    {
     "data": {
      "text/plain": [
       "0.9783259006626638"
      ]
     },
     "execution_count": 87,
     "metadata": {},
     "output_type": "execute_result"
    }
   ],
   "source": [
    "#R square \n",
    "r2_score(y_test,y_pred)"
   ]
  },
  {
   "cell_type": "markdown",
   "id": "fdfa1d00",
   "metadata": {},
   "source": [
    "# we have buit a model with a r2 score of 97 percentage \n",
    "**Now our model has performed very good on the train dataset but it has not performed well on the test data set one of the main reason for this could be the biasness. Our model is least bais and it is consider every datapoint to learn the partern and hence the varaince shot up as a result our model is performing poor on test data This is a classic case of model becoming too complex. To solve this we can try introducing error term but lets end here for now**  "
   ]
  },
  {
   "cell_type": "code",
   "execution_count": 61,
   "id": "71ffb309",
   "metadata": {},
   "outputs": [
    {
     "data": {
      "text/plain": [
       "array([49648.14357322])"
      ]
     },
     "execution_count": 61,
     "metadata": {},
     "output_type": "execute_result"
    }
   ],
   "source": [
    "# lets try to predict the profit my entering some values not the array shold be a 2d array \n",
    "regressor.predict([[0,0,0,0,0,0]])"
   ]
  },
  {
   "cell_type": "markdown",
   "id": "01d47136",
   "metadata": {},
   "source": [
    "What is the role of random_state in a small dataset like the one we worked on \n",
    "\n",
    "The `random_state` parameter in machine learning functions like `train_test_split` and model training can have a significant impact on the results you obtain. However, it's important to note that the choice of `random_state` should not be the primary factor causing such large discrepancies in your results. Instead, it's likely that there are other factors at play.\n",
    "\n",
    "Here are a few possibilities to consider:\n",
    "\n",
    "1. **Data Variability:** If your dataset is relatively small, it might be sensitive to how it's split into training and testing sets. In such cases, slight changes in the data points used for training and testing can lead to variations in model performance. The randomness introduced by the train-test split could be causing these variations.\n",
    "\n",
    "2. **Model Sensitivity:** Some machine learning models can be sensitive to the initial random conditions. This sensitivity can lead to varying results when you change the random seed. However, a difference as large as you've described (82 to 97) is unusual and suggests other factors might be contributing.\n",
    "\n",
    "3. **Feature Scaling:** Ensure that your features are properly scaled or normalized. Certain algorithms, like linear regression, can be sensitive to the scale of features. If the data is scaled differently due to different train-test splits, it can affect the model's performance.\n",
    "\n",
    "4. **Hyperparameters:** Different random splits might lead to different sets of samples in the training and testing sets. This can impact how hyperparameters are tuned and how well the model generalizes to unseen data.\n",
    "\n",
    "5. **Randomness and Noise:** If your dataset has inherent noise or randomness, different train-test splits could expose different subsets of the noise to the model during testing, leading to variations in performance.\n",
    "\n",
    "6. **Model Complexity:** Depending on the complexity of your model and the dataset, variations in the train-test split can affect how well the model generalizes. A simple model might be less affected by different splits compared to a complex model.\n",
    "\n",
    "7. **Statistical Fluctuations:** Sometimes, the observed differences in performance might be due to statistical fluctuations rather than substantial differences in model quality.\n",
    "\n",
    "To better understand the root cause of the performance discrepancy, consider the factors mentioned above and possibly conduct a more systematic analysis. You could perform cross-validation or multiple train-test splits with different random seeds to get a better sense of the model's stability and generalization performance."
   ]
  },
  {
   "cell_type": "markdown",
   "id": "c76b2661",
   "metadata": {},
   "source": [
    "# you made a catstropics blunder in the note book the fit_transfor and the transform in MinMaxScaler()"
   ]
  },
  {
   "cell_type": "code",
   "execution_count": null,
   "id": "1a1cc928",
   "metadata": {},
   "outputs": [],
   "source": []
  }
 ],
 "metadata": {
  "kernelspec": {
   "display_name": "Python 3 (ipykernel)",
   "language": "python",
   "name": "python3"
  },
  "language_info": {
   "codemirror_mode": {
    "name": "ipython",
    "version": 3
   },
   "file_extension": ".py",
   "mimetype": "text/x-python",
   "name": "python",
   "nbconvert_exporter": "python",
   "pygments_lexer": "ipython3",
   "version": "3.9.12"
  }
 },
 "nbformat": 4,
 "nbformat_minor": 5
}
